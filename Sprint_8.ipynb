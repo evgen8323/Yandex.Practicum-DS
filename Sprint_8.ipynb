{
 "cells": [
  {
   "cell_type": "markdown",
   "id": "650a05a8",
   "metadata": {
    "toc": true
   },
   "source": [
    "<h1>Table of Contents<span class=\"tocSkip\"></span></h1>\n",
    "<div class=\"toc\"><ul class=\"toc-item\"><li><span><a href=\"#Выгрузка-и-предобработка-данных\" data-toc-modified-id=\"Выгрузка-и-предобработка-данных-1\"><span class=\"toc-item-num\">1&nbsp;&nbsp;</span>Выгрузка и предобработка данных</a></span><ul class=\"toc-item\"><li><span><a href=\"#Импорт-библиотек.-Создание-датафрейма\" data-toc-modified-id=\"Импорт-библиотек.-Создание-датафрейма-1.1\"><span class=\"toc-item-num\">1.1&nbsp;&nbsp;</span>Импорт библиотек. Создание датафрейма</a></span></li><li><span><a href=\"#Внешнее-оформление\" data-toc-modified-id=\"Внешнее-оформление-1.2\"><span class=\"toc-item-num\">1.2&nbsp;&nbsp;</span>Внешнее оформление</a></span></li><li><span><a href=\"#Поиск-явных-дубликатов\" data-toc-modified-id=\"Поиск-явных-дубликатов-1.3\"><span class=\"toc-item-num\">1.3&nbsp;&nbsp;</span>Поиск явных дубликатов</a></span></li><li><span><a href=\"#Пропуски-значений-и-другие-аномалии\" data-toc-modified-id=\"Пропуски-значений-и-другие-аномалии-1.4\"><span class=\"toc-item-num\">1.4&nbsp;&nbsp;</span>Пропуски значений и другие аномалии</a></span><ul class=\"toc-item\"><li><span><a href=\"#Столбцы-рейтингов-и-оценок\" data-toc-modified-id=\"Столбцы-рейтингов-и-оценок-1.4.1\"><span class=\"toc-item-num\">1.4.1&nbsp;&nbsp;</span>Столбцы рейтингов и оценок</a></span></li><li><span><a href=\"#Столбцы-с-данными-об-объемах-продаж\" data-toc-modified-id=\"Столбцы-с-данными-об-объемах-продаж-1.4.2\"><span class=\"toc-item-num\">1.4.2&nbsp;&nbsp;</span>Столбцы с данными об объемах продаж</a></span></li><li><span><a href=\"#Оценки-критиков\" data-toc-modified-id=\"Оценки-критиков-1.4.3\"><span class=\"toc-item-num\">1.4.3&nbsp;&nbsp;</span>Оценки критиков</a></span></li><li><span><a href=\"#Оценки-пользователей\" data-toc-modified-id=\"Оценки-пользователей-1.4.4\"><span class=\"toc-item-num\">1.4.4&nbsp;&nbsp;</span>Оценки пользователей</a></span></li><li><span><a href=\"#Рейтинги-ESRB\" data-toc-modified-id=\"Рейтинги-ESRB-1.4.5\"><span class=\"toc-item-num\">1.4.5&nbsp;&nbsp;</span>Рейтинги ESRB</a></span></li></ul></li><li><span><a href=\"#Суммарные-продажи-по-всем-регионам\" data-toc-modified-id=\"Суммарные-продажи-по-всем-регионам-1.5\"><span class=\"toc-item-num\">1.5&nbsp;&nbsp;</span>Суммарные продажи по всем регионам</a></span></li></ul></li><li><span><a href=\"#Исследовательский-анализ\" data-toc-modified-id=\"Исследовательский-анализ-2\"><span class=\"toc-item-num\">2&nbsp;&nbsp;</span>Исследовательский анализ</a></span><ul class=\"toc-item\"><li><span><a href=\"#Оценка-выпуска-игр-по-годам\" data-toc-modified-id=\"Оценка-выпуска-игр-по-годам-2.1\"><span class=\"toc-item-num\">2.1&nbsp;&nbsp;</span>Оценка выпуска игр по годам</a></span></li><li><span><a href=\"#Анализ-платформ\" data-toc-modified-id=\"Анализ-платформ-2.2\"><span class=\"toc-item-num\">2.2&nbsp;&nbsp;</span>Анализ платформ</a></span></li><li><span><a href=\"#Диаграмма-размаха\" data-toc-modified-id=\"Диаграмма-размаха-2.3\"><span class=\"toc-item-num\">2.3&nbsp;&nbsp;</span>Диаграмма размаха</a></span></li><li><span><a href=\"#Оценка-связи-оценок-игр-с-уровнем-их-продаж\" data-toc-modified-id=\"Оценка-связи-оценок-игр-с-уровнем-их-продаж-2.4\"><span class=\"toc-item-num\">2.4&nbsp;&nbsp;</span>Оценка связи оценок игр с уровнем их продаж</a></span></li><li><span><a href=\"#Распределение-игр-по-жанрам\" data-toc-modified-id=\"Распределение-игр-по-жанрам-2.5\"><span class=\"toc-item-num\">2.5&nbsp;&nbsp;</span>Распределение игр по жанрам</a></span></li></ul></li><li><span><a href=\"#Различия-региональных-рынков\" data-toc-modified-id=\"Различия-региональных-рынков-3\"><span class=\"toc-item-num\">3&nbsp;&nbsp;</span>Различия региональных рынков</a></span><ul class=\"toc-item\"><li><span><a href=\"#Популярность-платформ-в-разных-регионах\" data-toc-modified-id=\"Популярность-платформ-в-разных-регионах-3.1\"><span class=\"toc-item-num\">3.1&nbsp;&nbsp;</span>Популярность платформ в разных регионах</a></span><ul class=\"toc-item\"><li><span><a href=\"#Распределение-пользовтелей-по-регионам-внутри-каждой-из-платформ\" data-toc-modified-id=\"Распределение-пользовтелей-по-регионам-внутри-каждой-из-платформ-3.1.1\"><span class=\"toc-item-num\">3.1.1&nbsp;&nbsp;</span>Распределение пользовтелей по регионам внутри каждой из платформ</a></span></li><li><span><a href=\"#Распределение-платформ-внутри-каждого-из-регионов\" data-toc-modified-id=\"Распределение-платформ-внутри-каждого-из-регионов-3.1.2\"><span class=\"toc-item-num\">3.1.2&nbsp;&nbsp;</span>Распределение платформ внутри каждого из регионов</a></span></li></ul></li><li><span><a href=\"#Популярность-жанров-в-каждом-из-регионов\" data-toc-modified-id=\"Популярность-жанров-в-каждом-из-регионов-3.2\"><span class=\"toc-item-num\">3.2&nbsp;&nbsp;</span>Популярность жанров в каждом из регионов</a></span></li><li><span><a href=\"#Влияние-рейтинга-ESRB-на-регинальные-продажи\" data-toc-modified-id=\"Влияние-рейтинга-ESRB-на-регинальные-продажи-3.3\"><span class=\"toc-item-num\">3.3&nbsp;&nbsp;</span>Влияние рейтинга ESRB на регинальные продажи</a></span><ul class=\"toc-item\"><li><span><a href=\"#Распределение-игр-по-жанрам-в-зависимости-от-рейтинга\" data-toc-modified-id=\"Распределение-игр-по-жанрам-в-зависимости-от-рейтинга-3.3.1\"><span class=\"toc-item-num\">3.3.1&nbsp;&nbsp;</span>Распределение игр по жанрам в зависимости от рейтинга</a></span></li><li><span><a href=\"#Уровень-продаж-по-регионам-в-зависимости-от-рейтингов\" data-toc-modified-id=\"Уровень-продаж-по-регионам-в-зависимости-от-рейтингов-3.3.2\"><span class=\"toc-item-num\">3.3.2&nbsp;&nbsp;</span>Уровень продаж по регионам в зависимости от рейтингов</a></span></li><li><span><a href=\"#Уровень-продаж-игр-определенных-жанров-в-зависимости-от-рейтингов-по-каждому-из-рынков\" data-toc-modified-id=\"Уровень-продаж-игр-определенных-жанров-в-зависимости-от-рейтингов-по-каждому-из-рынков-3.3.3\"><span class=\"toc-item-num\">3.3.3&nbsp;&nbsp;</span>Уровень продаж игр определенных жанров в зависимости от рейтингов по каждому из рынков</a></span></li></ul></li></ul></li><li><span><a href=\"#Пользовательские-рейтинги-платформ-и-жанров\" data-toc-modified-id=\"Пользовательские-рейтинги-платформ-и-жанров-4\"><span class=\"toc-item-num\">4&nbsp;&nbsp;</span>Пользовательские рейтинги платформ и жанров</a></span><ul class=\"toc-item\"><li><span><a href=\"#Сравним-средние-пользовательские-рейтинги-платформ-XOne-и-PC\" data-toc-modified-id=\"Сравним-средние-пользовательские-рейтинги-платформ-XOne-и-PC-4.1\"><span class=\"toc-item-num\">4.1&nbsp;&nbsp;</span>Сравним средние пользовательские рейтинги платформ XOne и PC</a></span></li><li><span><a href=\"#Сравним-средние-пользовательские-рейтинги-жанров-Action-и-Sports\" data-toc-modified-id=\"Сравним-средние-пользовательские-рейтинги-жанров-Action-и-Sports-4.2\"><span class=\"toc-item-num\">4.2&nbsp;&nbsp;</span>Сравним средние пользовательские рейтинги жанров Action и Sports</a></span></li></ul></li><li><span><a href=\"#Выводы\" data-toc-modified-id=\"Выводы-5\"><span class=\"toc-item-num\">5&nbsp;&nbsp;</span>Выводы</a></span></li></ul></div>"
   ]
  },
  {
   "cell_type": "markdown",
   "id": "b72f97cd",
   "metadata": {},
   "source": [
    "<div style=\"border-radius: 3px; border: 2px solid black; padding: 0px;\">      \n",
    "<div class=\"alert alert-warning\">\n",
    "<b>Комментарий ревьюера ⚠️:</b> \n",
    "    \n",
    "Также можно добавить название работы, цели и задачи\n",
    "    \n",
    "</div>\n",
    "</div>"
   ]
  },
  {
   "cell_type": "markdown",
   "id": "cb41d9f4",
   "metadata": {},
   "source": [
    "## Выгрузка и предобработка данных"
   ]
  },
  {
   "cell_type": "markdown",
   "id": "bf9ee6e4",
   "metadata": {},
   "source": [
    "### Импорт библиотек. Создание датафрейма"
   ]
  },
  {
   "cell_type": "code",
   "execution_count": 3,
   "id": "6c9ab1fa",
   "metadata": {},
   "outputs": [],
   "source": [
    "import pandas as pd\n",
    "import numpy as np\n",
    "import matplotlib.pyplot as plt\n",
    "from scipy import stats as st"
   ]
  },
  {
   "cell_type": "code",
   "execution_count": 5,
   "id": "cda3c0f2",
   "metadata": {
    "scrolled": true
   },
   "outputs": [
    {
     "name": "stdout",
     "output_type": "stream",
     "text": [
      "<class 'pandas.core.frame.DataFrame'>\n",
      "RangeIndex: 16715 entries, 0 to 16714\n",
      "Data columns (total 11 columns):\n",
      " #   Column           Non-Null Count  Dtype  \n",
      "---  ------           --------------  -----  \n",
      " 0   Name             16713 non-null  object \n",
      " 1   Platform         16715 non-null  object \n",
      " 2   Year_of_Release  16446 non-null  float64\n",
      " 3   Genre            16713 non-null  object \n",
      " 4   NA_sales         16715 non-null  float64\n",
      " 5   EU_sales         16715 non-null  float64\n",
      " 6   JP_sales         16715 non-null  float64\n",
      " 7   Other_sales      16715 non-null  float64\n",
      " 8   Critic_Score     8137 non-null   float64\n",
      " 9   User_Score       10014 non-null  object \n",
      " 10  Rating           9949 non-null   object \n",
      "dtypes: float64(6), object(5)\n",
      "memory usage: 1.4+ MB\n"
     ]
    }
   ],
   "source": [
    "df = pd.read_csv('games.csv')\n",
    "df.info()"
   ]
  },
  {
   "cell_type": "code",
   "execution_count": 6,
   "id": "98d12aaa",
   "metadata": {},
   "outputs": [
    {
     "data": {
      "text/html": [
       "<div>\n",
       "<style scoped>\n",
       "    .dataframe tbody tr th:only-of-type {\n",
       "        vertical-align: middle;\n",
       "    }\n",
       "\n",
       "    .dataframe tbody tr th {\n",
       "        vertical-align: top;\n",
       "    }\n",
       "\n",
       "    .dataframe thead th {\n",
       "        text-align: right;\n",
       "    }\n",
       "</style>\n",
       "<table border=\"1\" class=\"dataframe\">\n",
       "  <thead>\n",
       "    <tr style=\"text-align: right;\">\n",
       "      <th></th>\n",
       "      <th>Name</th>\n",
       "      <th>Platform</th>\n",
       "      <th>Year_of_Release</th>\n",
       "      <th>Genre</th>\n",
       "      <th>NA_sales</th>\n",
       "      <th>EU_sales</th>\n",
       "      <th>JP_sales</th>\n",
       "      <th>Other_sales</th>\n",
       "      <th>Critic_Score</th>\n",
       "      <th>User_Score</th>\n",
       "      <th>Rating</th>\n",
       "    </tr>\n",
       "  </thead>\n",
       "  <tbody>\n",
       "    <tr>\n",
       "      <th>0</th>\n",
       "      <td>Wii Sports</td>\n",
       "      <td>Wii</td>\n",
       "      <td>2006.0</td>\n",
       "      <td>Sports</td>\n",
       "      <td>41.36</td>\n",
       "      <td>28.96</td>\n",
       "      <td>3.77</td>\n",
       "      <td>8.45</td>\n",
       "      <td>76.0</td>\n",
       "      <td>8</td>\n",
       "      <td>E</td>\n",
       "    </tr>\n",
       "    <tr>\n",
       "      <th>1</th>\n",
       "      <td>Super Mario Bros.</td>\n",
       "      <td>NES</td>\n",
       "      <td>1985.0</td>\n",
       "      <td>Platform</td>\n",
       "      <td>29.08</td>\n",
       "      <td>3.58</td>\n",
       "      <td>6.81</td>\n",
       "      <td>0.77</td>\n",
       "      <td>NaN</td>\n",
       "      <td>NaN</td>\n",
       "      <td>NaN</td>\n",
       "    </tr>\n",
       "  </tbody>\n",
       "</table>\n",
       "</div>"
      ],
      "text/plain": [
       "                Name Platform  Year_of_Release     Genre  NA_sales  EU_sales  \\\n",
       "0         Wii Sports      Wii           2006.0    Sports     41.36     28.96   \n",
       "1  Super Mario Bros.      NES           1985.0  Platform     29.08      3.58   \n",
       "\n",
       "   JP_sales  Other_sales  Critic_Score User_Score Rating  \n",
       "0      3.77         8.45          76.0          8      E  \n",
       "1      6.81         0.77           NaN        NaN    NaN  "
      ]
     },
     "execution_count": 6,
     "metadata": {},
     "output_type": "execute_result"
    }
   ],
   "source": [
    "df.head(2)"
   ]
  },
  {
   "cell_type": "markdown",
   "id": "7ac4acd5",
   "metadata": {},
   "source": [
    "Всего в наборе данных 16715 строк. Требуют обработки или более детального внимания:\n",
    "- В ряде колонок обнаружны существенное число пропущенных значений. Решение о необходимости замены пропусков примем при детальном просмотре каждого из столбцов.\n",
    "- Значения в столбце 'year_of_release' представлены в формате float. Для удобства и экономии памяти требуется преобразовать его в формат 'int'.\n",
    "- В названии столбцов заменим заглавные буквы на прописные."
   ]
  },
  {
   "cell_type": "markdown",
   "id": "41480c94",
   "metadata": {},
   "source": [
    "### Внешнее оформление"
   ]
  },
  {
   "cell_type": "markdown",
   "id": "7f273599",
   "metadata": {},
   "source": [
    "Приведем именна столбцов к нижнему регистру"
   ]
  },
  {
   "cell_type": "code",
   "execution_count": 7,
   "id": "b54d4ee5",
   "metadata": {},
   "outputs": [
    {
     "data": {
      "text/html": [
       "<div>\n",
       "<style scoped>\n",
       "    .dataframe tbody tr th:only-of-type {\n",
       "        vertical-align: middle;\n",
       "    }\n",
       "\n",
       "    .dataframe tbody tr th {\n",
       "        vertical-align: top;\n",
       "    }\n",
       "\n",
       "    .dataframe thead th {\n",
       "        text-align: right;\n",
       "    }\n",
       "</style>\n",
       "<table border=\"1\" class=\"dataframe\">\n",
       "  <thead>\n",
       "    <tr style=\"text-align: right;\">\n",
       "      <th></th>\n",
       "      <th>name</th>\n",
       "      <th>platform</th>\n",
       "      <th>year_of_release</th>\n",
       "      <th>genre</th>\n",
       "      <th>na_sales</th>\n",
       "      <th>eu_sales</th>\n",
       "      <th>jp_sales</th>\n",
       "      <th>other_sales</th>\n",
       "      <th>critic_score</th>\n",
       "      <th>user_score</th>\n",
       "      <th>rating</th>\n",
       "    </tr>\n",
       "  </thead>\n",
       "  <tbody>\n",
       "    <tr>\n",
       "      <th>0</th>\n",
       "      <td>Wii Sports</td>\n",
       "      <td>Wii</td>\n",
       "      <td>2006.0</td>\n",
       "      <td>Sports</td>\n",
       "      <td>41.36</td>\n",
       "      <td>28.96</td>\n",
       "      <td>3.77</td>\n",
       "      <td>8.45</td>\n",
       "      <td>76.0</td>\n",
       "      <td>8</td>\n",
       "      <td>E</td>\n",
       "    </tr>\n",
       "    <tr>\n",
       "      <th>1</th>\n",
       "      <td>Super Mario Bros.</td>\n",
       "      <td>NES</td>\n",
       "      <td>1985.0</td>\n",
       "      <td>Platform</td>\n",
       "      <td>29.08</td>\n",
       "      <td>3.58</td>\n",
       "      <td>6.81</td>\n",
       "      <td>0.77</td>\n",
       "      <td>NaN</td>\n",
       "      <td>NaN</td>\n",
       "      <td>NaN</td>\n",
       "    </tr>\n",
       "    <tr>\n",
       "      <th>2</th>\n",
       "      <td>Mario Kart Wii</td>\n",
       "      <td>Wii</td>\n",
       "      <td>2008.0</td>\n",
       "      <td>Racing</td>\n",
       "      <td>15.68</td>\n",
       "      <td>12.76</td>\n",
       "      <td>3.79</td>\n",
       "      <td>3.29</td>\n",
       "      <td>82.0</td>\n",
       "      <td>8.3</td>\n",
       "      <td>E</td>\n",
       "    </tr>\n",
       "    <tr>\n",
       "      <th>3</th>\n",
       "      <td>Wii Sports Resort</td>\n",
       "      <td>Wii</td>\n",
       "      <td>2009.0</td>\n",
       "      <td>Sports</td>\n",
       "      <td>15.61</td>\n",
       "      <td>10.93</td>\n",
       "      <td>3.28</td>\n",
       "      <td>2.95</td>\n",
       "      <td>80.0</td>\n",
       "      <td>8</td>\n",
       "      <td>E</td>\n",
       "    </tr>\n",
       "    <tr>\n",
       "      <th>4</th>\n",
       "      <td>Pokemon Red/Pokemon Blue</td>\n",
       "      <td>GB</td>\n",
       "      <td>1996.0</td>\n",
       "      <td>Role-Playing</td>\n",
       "      <td>11.27</td>\n",
       "      <td>8.89</td>\n",
       "      <td>10.22</td>\n",
       "      <td>1.00</td>\n",
       "      <td>NaN</td>\n",
       "      <td>NaN</td>\n",
       "      <td>NaN</td>\n",
       "    </tr>\n",
       "  </tbody>\n",
       "</table>\n",
       "</div>"
      ],
      "text/plain": [
       "                       name platform  year_of_release         genre  na_sales  \\\n",
       "0                Wii Sports      Wii           2006.0        Sports     41.36   \n",
       "1         Super Mario Bros.      NES           1985.0      Platform     29.08   \n",
       "2            Mario Kart Wii      Wii           2008.0        Racing     15.68   \n",
       "3         Wii Sports Resort      Wii           2009.0        Sports     15.61   \n",
       "4  Pokemon Red/Pokemon Blue       GB           1996.0  Role-Playing     11.27   \n",
       "\n",
       "   eu_sales  jp_sales  other_sales  critic_score user_score rating  \n",
       "0     28.96      3.77         8.45          76.0          8      E  \n",
       "1      3.58      6.81         0.77           NaN        NaN    NaN  \n",
       "2     12.76      3.79         3.29          82.0        8.3      E  \n",
       "3     10.93      3.28         2.95          80.0          8      E  \n",
       "4      8.89     10.22         1.00           NaN        NaN    NaN  "
      ]
     },
     "execution_count": 7,
     "metadata": {},
     "output_type": "execute_result"
    }
   ],
   "source": [
    "df.columns = df.columns.str.lower()\n",
    "df.head()"
   ]
  },
  {
   "cell_type": "markdown",
   "id": "3501a1a6",
   "metadata": {},
   "source": [
    "### Поиск явных дубликатов"
   ]
  },
  {
   "cell_type": "code",
   "execution_count": 8,
   "id": "110912b5",
   "metadata": {},
   "outputs": [
    {
     "data": {
      "text/plain": [
       "array([False])"
      ]
     },
     "execution_count": 8,
     "metadata": {},
     "output_type": "execute_result"
    }
   ],
   "source": [
    "df.duplicated().unique()"
   ]
  },
  {
   "cell_type": "markdown",
   "id": "65e494bf",
   "metadata": {},
   "source": [
    "Явных дубликатов строк не обнаружено."
   ]
  },
  {
   "cell_type": "markdown",
   "id": "ab251a16",
   "metadata": {},
   "source": [
    "### Пропуски значений и другие аномалии"
   ]
  },
  {
   "cell_type": "markdown",
   "id": "aa1353a1",
   "metadata": {},
   "source": [
    "Обнаруженные существенные пропуски в столбцах год выпуска, оценки пользователей, критиков и рейтинги. Строки с пропущенными годами выпуска удалим. Невозможно учесть их вклад в тендеции интересующих нас периодов. Также удалим две строки с пропущенными жанрами."
   ]
  },
  {
   "cell_type": "code",
   "execution_count": 9,
   "id": "a887444b",
   "metadata": {},
   "outputs": [
    {
     "name": "stdout",
     "output_type": "stream",
     "text": [
      "<class 'pandas.core.frame.DataFrame'>\n",
      "RangeIndex: 16444 entries, 0 to 16443\n",
      "Data columns (total 11 columns):\n",
      " #   Column           Non-Null Count  Dtype  \n",
      "---  ------           --------------  -----  \n",
      " 0   name             16444 non-null  object \n",
      " 1   platform         16444 non-null  object \n",
      " 2   year_of_release  16444 non-null  float64\n",
      " 3   genre            16444 non-null  object \n",
      " 4   na_sales         16444 non-null  float64\n",
      " 5   eu_sales         16444 non-null  float64\n",
      " 6   jp_sales         16444 non-null  float64\n",
      " 7   other_sales      16444 non-null  float64\n",
      " 8   critic_score     7983 non-null   float64\n",
      " 9   user_score       9839 non-null   object \n",
      " 10  rating           9768 non-null   object \n",
      "dtypes: float64(6), object(5)\n",
      "memory usage: 1.4+ MB\n"
     ]
    }
   ],
   "source": [
    "df = df[df['year_of_release'].isna() == False]\n",
    "df = df[df['name'].isna() == False].reset_index(drop=True)\n",
    "df.info()"
   ]
  },
  {
   "cell_type": "markdown",
   "id": "314ea8a7",
   "metadata": {},
   "source": [
    "Приведем значения столбца год выпуска к типу целых чисел int. "
   ]
  },
  {
   "cell_type": "code",
   "execution_count": 10,
   "id": "bbab1caa",
   "metadata": {},
   "outputs": [],
   "source": [
    "df['year_of_release'] = df['year_of_release'].astype('int')"
   ]
  },
  {
   "cell_type": "markdown",
   "id": "d7d35cd1",
   "metadata": {},
   "source": [
    "#### Столбцы рейтингов и оценок"
   ]
  },
  {
   "cell_type": "markdown",
   "id": "bad22276",
   "metadata": {},
   "source": [
    "Проверим, количество строк с пропущенными значениями в столбцах с оценками и рейтингами."
   ]
  },
  {
   "cell_type": "code",
   "execution_count": 11,
   "id": "c22d37e9",
   "metadata": {},
   "outputs": [
    {
     "data": {
      "text/html": [
       "<div>\n",
       "<style scoped>\n",
       "    .dataframe tbody tr th:only-of-type {\n",
       "        vertical-align: middle;\n",
       "    }\n",
       "\n",
       "    .dataframe tbody tr th {\n",
       "        vertical-align: top;\n",
       "    }\n",
       "\n",
       "    .dataframe thead th {\n",
       "        text-align: right;\n",
       "    }\n",
       "</style>\n",
       "<table border=\"1\" class=\"dataframe\">\n",
       "  <thead>\n",
       "    <tr style=\"text-align: right;\">\n",
       "      <th></th>\n",
       "      <th>name</th>\n",
       "      <th>platform</th>\n",
       "      <th>year_of_release</th>\n",
       "      <th>genre</th>\n",
       "      <th>na_sales</th>\n",
       "      <th>eu_sales</th>\n",
       "      <th>jp_sales</th>\n",
       "      <th>other_sales</th>\n",
       "      <th>critic_score</th>\n",
       "      <th>user_score</th>\n",
       "      <th>rating</th>\n",
       "    </tr>\n",
       "  </thead>\n",
       "  <tbody>\n",
       "    <tr>\n",
       "      <th>1</th>\n",
       "      <td>Super Mario Bros.</td>\n",
       "      <td>NES</td>\n",
       "      <td>1985</td>\n",
       "      <td>Platform</td>\n",
       "      <td>29.08</td>\n",
       "      <td>3.58</td>\n",
       "      <td>6.81</td>\n",
       "      <td>0.77</td>\n",
       "      <td>NaN</td>\n",
       "      <td>NaN</td>\n",
       "      <td>NaN</td>\n",
       "    </tr>\n",
       "    <tr>\n",
       "      <th>4</th>\n",
       "      <td>Pokemon Red/Pokemon Blue</td>\n",
       "      <td>GB</td>\n",
       "      <td>1996</td>\n",
       "      <td>Role-Playing</td>\n",
       "      <td>11.27</td>\n",
       "      <td>8.89</td>\n",
       "      <td>10.22</td>\n",
       "      <td>1.00</td>\n",
       "      <td>NaN</td>\n",
       "      <td>NaN</td>\n",
       "      <td>NaN</td>\n",
       "    </tr>\n",
       "    <tr>\n",
       "      <th>5</th>\n",
       "      <td>Tetris</td>\n",
       "      <td>GB</td>\n",
       "      <td>1989</td>\n",
       "      <td>Puzzle</td>\n",
       "      <td>23.20</td>\n",
       "      <td>2.26</td>\n",
       "      <td>4.22</td>\n",
       "      <td>0.58</td>\n",
       "      <td>NaN</td>\n",
       "      <td>NaN</td>\n",
       "      <td>NaN</td>\n",
       "    </tr>\n",
       "    <tr>\n",
       "      <th>9</th>\n",
       "      <td>Duck Hunt</td>\n",
       "      <td>NES</td>\n",
       "      <td>1984</td>\n",
       "      <td>Shooter</td>\n",
       "      <td>26.93</td>\n",
       "      <td>0.63</td>\n",
       "      <td>0.28</td>\n",
       "      <td>0.47</td>\n",
       "      <td>NaN</td>\n",
       "      <td>NaN</td>\n",
       "      <td>NaN</td>\n",
       "    </tr>\n",
       "    <tr>\n",
       "      <th>10</th>\n",
       "      <td>Nintendogs</td>\n",
       "      <td>DS</td>\n",
       "      <td>2005</td>\n",
       "      <td>Simulation</td>\n",
       "      <td>9.05</td>\n",
       "      <td>10.95</td>\n",
       "      <td>1.93</td>\n",
       "      <td>2.74</td>\n",
       "      <td>NaN</td>\n",
       "      <td>NaN</td>\n",
       "      <td>NaN</td>\n",
       "    </tr>\n",
       "  </tbody>\n",
       "</table>\n",
       "</div>"
      ],
      "text/plain": [
       "                        name platform  year_of_release         genre  \\\n",
       "1          Super Mario Bros.      NES             1985      Platform   \n",
       "4   Pokemon Red/Pokemon Blue       GB             1996  Role-Playing   \n",
       "5                     Tetris       GB             1989        Puzzle   \n",
       "9                  Duck Hunt      NES             1984       Shooter   \n",
       "10                Nintendogs       DS             2005    Simulation   \n",
       "\n",
       "    na_sales  eu_sales  jp_sales  other_sales  critic_score user_score rating  \n",
       "1      29.08      3.58      6.81         0.77           NaN        NaN    NaN  \n",
       "4      11.27      8.89     10.22         1.00           NaN        NaN    NaN  \n",
       "5      23.20      2.26      4.22         0.58           NaN        NaN    NaN  \n",
       "9      26.93      0.63      0.28         0.47           NaN        NaN    NaN  \n",
       "10      9.05     10.95      1.93         2.74           NaN        NaN    NaN  "
      ]
     },
     "execution_count": 11,
     "metadata": {},
     "output_type": "execute_result"
    }
   ],
   "source": [
    "df[(df['critic_score'].isna() == True) &\n",
    "  (df['user_score'].isna() == True) &\n",
    "  (df['rating'].isna() == True)].head()"
   ]
  },
  {
   "cell_type": "code",
   "execution_count": 12,
   "id": "9da7c3cb",
   "metadata": {},
   "outputs": [
    {
     "data": {
      "text/plain": [
       "name               6534\n",
       "platform           6534\n",
       "year_of_release    6534\n",
       "genre              6534\n",
       "na_sales           6534\n",
       "eu_sales           6534\n",
       "jp_sales           6534\n",
       "other_sales        6534\n",
       "critic_score          0\n",
       "user_score            0\n",
       "rating                0\n",
       "dtype: int64"
      ]
     },
     "execution_count": 12,
     "metadata": {},
     "output_type": "execute_result"
    }
   ],
   "source": [
    "df[(df['critic_score'].isna() == True) &\n",
    "  (df['user_score'].isna() == True) &\n",
    "  (df['rating'].isna() == True)].count()"
   ]
  },
  {
   "cell_type": "markdown",
   "id": "732f7281",
   "metadata": {},
   "source": [
    "6534 строки. Это существенная часть всех данных. В случае их удаления мы лишимся и значительной части данных о продажах, что скорее всего исказит картину. С другой стороны, при определении влияния оценок и рейтингов на уровни продаж, нам не обязательно использовать группы, пересекающиеся по всем трем оценкам. Достаточно будет сделать отдельную выборку по интересующей нас оценке."
   ]
  },
  {
   "cell_type": "markdown",
   "id": "75159401",
   "metadata": {},
   "source": [
    "#### Столбцы с данными об объемах продаж"
   ]
  },
  {
   "cell_type": "markdown",
   "id": "28840587",
   "metadata": {},
   "source": [
    "Проверим данные столбцов по продажам."
   ]
  },
  {
   "cell_type": "code",
   "execution_count": 13,
   "id": "c7e8f8b4",
   "metadata": {},
   "outputs": [
    {
     "data": {
      "text/plain": [
       "count    16444.000000\n",
       "mean         0.264012\n",
       "std          0.818378\n",
       "min          0.000000\n",
       "25%          0.000000\n",
       "50%          0.080000\n",
       "75%          0.240000\n",
       "max         41.360000\n",
       "Name: na_sales, dtype: float64"
      ]
     },
     "execution_count": 13,
     "metadata": {},
     "output_type": "execute_result"
    }
   ],
   "source": [
    "df['na_sales'].describe()"
   ]
  },
  {
   "cell_type": "code",
   "execution_count": 14,
   "id": "862fecda",
   "metadata": {},
   "outputs": [
    {
     "data": {
      "text/plain": [
       "count    16444.000000\n",
       "mean         0.145930\n",
       "std          0.506716\n",
       "min          0.000000\n",
       "25%          0.000000\n",
       "50%          0.020000\n",
       "75%          0.110000\n",
       "max         28.960000\n",
       "Name: eu_sales, dtype: float64"
      ]
     },
     "execution_count": 14,
     "metadata": {},
     "output_type": "execute_result"
    }
   ],
   "source": [
    "df['eu_sales'].describe()"
   ]
  },
  {
   "cell_type": "code",
   "execution_count": 15,
   "id": "51b43497",
   "metadata": {},
   "outputs": [
    {
     "data": {
      "text/plain": [
       "count    16444.000000\n",
       "mean         0.078487\n",
       "std          0.311100\n",
       "min          0.000000\n",
       "25%          0.000000\n",
       "50%          0.000000\n",
       "75%          0.040000\n",
       "max         10.220000\n",
       "Name: jp_sales, dtype: float64"
      ]
     },
     "execution_count": 15,
     "metadata": {},
     "output_type": "execute_result"
    }
   ],
   "source": [
    "df['jp_sales'].describe()"
   ]
  },
  {
   "cell_type": "code",
   "execution_count": 16,
   "id": "25330f97",
   "metadata": {},
   "outputs": [
    {
     "data": {
      "text/plain": [
       "count    16444.000000\n",
       "mean         0.047594\n",
       "std          0.188005\n",
       "min          0.000000\n",
       "25%          0.000000\n",
       "50%          0.010000\n",
       "75%          0.030000\n",
       "max         10.570000\n",
       "Name: other_sales, dtype: float64"
      ]
     },
     "execution_count": 16,
     "metadata": {},
     "output_type": "execute_result"
    }
   ],
   "source": [
    "df['other_sales'].describe()"
   ]
  },
  {
   "cell_type": "markdown",
   "id": "21c6a6e9",
   "metadata": {},
   "source": [
    "По европейскому, американскому и остальным рынкам в более чем 25% строк данные о продажах отсутствуют. По японскому рынку в половине случаев не указан размер сборов. Проверим, не пересекаются ли эти пропуски между собой."
   ]
  },
  {
   "cell_type": "code",
   "execution_count": 17,
   "id": "ee862818",
   "metadata": {
    "scrolled": true
   },
   "outputs": [
    {
     "data": {
      "text/html": [
       "<div>\n",
       "<style scoped>\n",
       "    .dataframe tbody tr th:only-of-type {\n",
       "        vertical-align: middle;\n",
       "    }\n",
       "\n",
       "    .dataframe tbody tr th {\n",
       "        vertical-align: top;\n",
       "    }\n",
       "\n",
       "    .dataframe thead th {\n",
       "        text-align: right;\n",
       "    }\n",
       "</style>\n",
       "<table border=\"1\" class=\"dataframe\">\n",
       "  <thead>\n",
       "    <tr style=\"text-align: right;\">\n",
       "      <th></th>\n",
       "      <th>name</th>\n",
       "      <th>platform</th>\n",
       "      <th>year_of_release</th>\n",
       "      <th>genre</th>\n",
       "      <th>na_sales</th>\n",
       "      <th>eu_sales</th>\n",
       "      <th>jp_sales</th>\n",
       "      <th>other_sales</th>\n",
       "      <th>critic_score</th>\n",
       "      <th>user_score</th>\n",
       "      <th>rating</th>\n",
       "    </tr>\n",
       "  </thead>\n",
       "  <tbody>\n",
       "    <tr>\n",
       "      <th>16405</th>\n",
       "      <td>G1 Jockey 4 2008</td>\n",
       "      <td>PS3</td>\n",
       "      <td>2008</td>\n",
       "      <td>Sports</td>\n",
       "      <td>0.0</td>\n",
       "      <td>0.0</td>\n",
       "      <td>0.0</td>\n",
       "      <td>0.0</td>\n",
       "      <td>NaN</td>\n",
       "      <td>NaN</td>\n",
       "      <td>NaN</td>\n",
       "    </tr>\n",
       "    <tr>\n",
       "      <th>16438</th>\n",
       "      <td>SCORE International Baja 1000: The Official Game</td>\n",
       "      <td>PS2</td>\n",
       "      <td>2008</td>\n",
       "      <td>Racing</td>\n",
       "      <td>0.0</td>\n",
       "      <td>0.0</td>\n",
       "      <td>0.0</td>\n",
       "      <td>0.0</td>\n",
       "      <td>NaN</td>\n",
       "      <td>NaN</td>\n",
       "      <td>NaN</td>\n",
       "    </tr>\n",
       "  </tbody>\n",
       "</table>\n",
       "</div>"
      ],
      "text/plain": [
       "                                                   name platform  \\\n",
       "16405                                  G1 Jockey 4 2008      PS3   \n",
       "16438  SCORE International Baja 1000: The Official Game      PS2   \n",
       "\n",
       "       year_of_release   genre  na_sales  eu_sales  jp_sales  other_sales  \\\n",
       "16405             2008  Sports       0.0       0.0       0.0          0.0   \n",
       "16438             2008  Racing       0.0       0.0       0.0          0.0   \n",
       "\n",
       "       critic_score user_score rating  \n",
       "16405           NaN        NaN    NaN  \n",
       "16438           NaN        NaN    NaN  "
      ]
     },
     "execution_count": 17,
     "metadata": {},
     "output_type": "execute_result"
    }
   ],
   "source": [
    "df[(df['na_sales'] == 0) &\n",
    "   (df['eu_sales'] == 0) &\n",
    "   (df['other_sales'] == 0) &\n",
    "   (df['jp_sales'] == 0)    \n",
    "]"
   ]
  },
  {
   "cell_type": "markdown",
   "id": "b26b4241",
   "metadata": {},
   "source": [
    "Конкретно эти две строки удаляем. Но относительно других строк нет оснований считать, что присутствуют \"выбросы\" или же что какие-то данные требуют коррекции. "
   ]
  },
  {
   "cell_type": "code",
   "execution_count": 18,
   "id": "92bc8bcb",
   "metadata": {},
   "outputs": [
    {
     "name": "stdout",
     "output_type": "stream",
     "text": [
      "<class 'pandas.core.frame.DataFrame'>\n",
      "Int64Index: 16442 entries, 0 to 16443\n",
      "Data columns (total 11 columns):\n",
      " #   Column           Non-Null Count  Dtype  \n",
      "---  ------           --------------  -----  \n",
      " 0   name             16442 non-null  object \n",
      " 1   platform         16442 non-null  object \n",
      " 2   year_of_release  16442 non-null  int32  \n",
      " 3   genre            16442 non-null  object \n",
      " 4   na_sales         16442 non-null  float64\n",
      " 5   eu_sales         16442 non-null  float64\n",
      " 6   jp_sales         16442 non-null  float64\n",
      " 7   other_sales      16442 non-null  float64\n",
      " 8   critic_score     7983 non-null   float64\n",
      " 9   user_score       9839 non-null   object \n",
      " 10  rating           9768 non-null   object \n",
      "dtypes: float64(5), int32(1), object(5)\n",
      "memory usage: 1.4+ MB\n"
     ]
    }
   ],
   "source": [
    "df = df[(df['na_sales'] != 0) |\n",
    "   (df['eu_sales'] != 0) |\n",
    "   (df['other_sales'] != 0) |\n",
    "   (df['jp_sales'] != 0)    \n",
    "]\n",
    "df.info()"
   ]
  },
  {
   "cell_type": "markdown",
   "id": "5ac80072",
   "metadata": {},
   "source": [
    "#### Оценки критиков"
   ]
  },
  {
   "cell_type": "code",
   "execution_count": 19,
   "id": "eb0552ba",
   "metadata": {
    "scrolled": true
   },
   "outputs": [
    {
     "data": {
      "text/plain": [
       "count    7983.000000\n",
       "mean       68.994363\n",
       "std        13.920060\n",
       "min        13.000000\n",
       "25%        60.000000\n",
       "50%        71.000000\n",
       "75%        79.000000\n",
       "max        98.000000\n",
       "Name: critic_score, dtype: float64"
      ]
     },
     "execution_count": 19,
     "metadata": {},
     "output_type": "execute_result"
    }
   ],
   "source": [
    "df['critic_score'].describe()"
   ]
  },
  {
   "cell_type": "markdown",
   "id": "3ad1e660",
   "metadata": {},
   "source": [
    "В столбце с оценками критиков все значения находятся в заявленных границах."
   ]
  },
  {
   "cell_type": "markdown",
   "id": "fe1ec6bd",
   "metadata": {},
   "source": [
    "#### Оценки пользователей"
   ]
  },
  {
   "cell_type": "code",
   "execution_count": 20,
   "id": "d8194de3",
   "metadata": {
    "scrolled": true
   },
   "outputs": [
    {
     "data": {
      "text/plain": [
       "count     9839\n",
       "unique      96\n",
       "top        tbd\n",
       "freq      2376\n",
       "Name: user_score, dtype: object"
      ]
     },
     "execution_count": 20,
     "metadata": {},
     "output_type": "execute_result"
    }
   ],
   "source": [
    "df['user_score'].describe()"
   ]
  },
  {
   "cell_type": "code",
   "execution_count": 21,
   "id": "84ec01dd",
   "metadata": {},
   "outputs": [
    {
     "data": {
      "text/plain": [
       "array(['8', nan, '8.3', '8.5', '6.6', '8.4', '8.6', '7.7', '6.3', '7.4',\n",
       "       '8.2', '9', '7.9', '8.1', '8.7', '7.1', '3.4', '5.3', '4.8', '3.2',\n",
       "       '8.9', '6.4', '7.8', '7.5', '2.6', '7.2', '9.2', '7', '7.3', '4.3',\n",
       "       '7.6', '5.7', '5', '9.1', '6.5', 'tbd', '8.8', '6.9', '9.4', '6.8',\n",
       "       '6.1', '6.7', '5.4', '4', '4.9', '4.5', '9.3', '6.2', '4.2', '6',\n",
       "       '3.7', '4.1', '5.8', '5.6', '5.5', '4.4', '4.6', '5.9', '3.9',\n",
       "       '3.1', '2.9', '5.2', '3.3', '4.7', '5.1', '3.5', '2.5', '1.9', '3',\n",
       "       '2.7', '2.2', '2', '9.5', '2.1', '3.6', '2.8', '1.8', '3.8', '0',\n",
       "       '1.6', '9.6', '2.4', '1.7', '1.1', '0.3', '1.5', '0.7', '1.2',\n",
       "       '2.3', '0.5', '1.3', '0.2', '0.6', '1.4', '0.9', '1', '9.7'],\n",
       "      dtype=object)"
      ]
     },
     "execution_count": 21,
     "metadata": {},
     "output_type": "execute_result"
    }
   ],
   "source": [
    "df['user_score'].unique()"
   ]
  },
  {
   "cell_type": "markdown",
   "id": "24d148f7",
   "metadata": {},
   "source": [
    "Согласно описанию данных в этом столбце должны находиться числовые значения. Очистим ячейки, имеющие занчение tbd. Преобразуем оставшиеся данные в тип float."
   ]
  },
  {
   "cell_type": "code",
   "execution_count": 22,
   "id": "2bb4e713",
   "metadata": {},
   "outputs": [
    {
     "data": {
      "text/plain": [
       "count    7463.000000\n",
       "mean        7.126330\n",
       "std         1.499447\n",
       "min         0.000000\n",
       "25%         6.400000\n",
       "50%         7.500000\n",
       "75%         8.200000\n",
       "max         9.700000\n",
       "Name: user_score, dtype: float64"
      ]
     },
     "execution_count": 22,
     "metadata": {},
     "output_type": "execute_result"
    }
   ],
   "source": [
    "df['user_score'] = df['user_score'].replace('tbd', np.nan)\n",
    "df['user_score'] = df['user_score'].astype('float')\n",
    "df['user_score'].describe()"
   ]
  },
  {
   "cell_type": "markdown",
   "id": "a34fb541",
   "metadata": {},
   "source": [
    "#### Рейтинги ESRB"
   ]
  },
  {
   "cell_type": "code",
   "execution_count": 23,
   "id": "bfbceddf",
   "metadata": {
    "scrolled": true
   },
   "outputs": [
    {
     "data": {
      "text/plain": [
       "array(['E', nan, 'M', 'T', 'E10+', 'K-A', 'AO', 'EC', 'RP'], dtype=object)"
      ]
     },
     "execution_count": 23,
     "metadata": {},
     "output_type": "execute_result"
    }
   ],
   "source": [
    "df['rating'].unique()"
   ]
  },
  {
   "cell_type": "markdown",
   "id": "a27350de",
   "metadata": {},
   "source": [
    "Выдержка из открытых источников:\n",
    "\n",
    "\"E\" - Для всех от 6 лет\n",
    "\n",
    "\"E10+\" - Для лиц старше 10 лет\n",
    "\n",
    "\"T\" - Для лиц от 13 лет\n",
    "\n",
    "\"M\" - Для лиц от 17 лет"
   ]
  },
  {
   "cell_type": "markdown",
   "id": "317f184f",
   "metadata": {},
   "source": [
    "### Суммарные продажи по всем регионам"
   ]
  },
  {
   "cell_type": "code",
   "execution_count": 24,
   "id": "026a4ad4",
   "metadata": {},
   "outputs": [
    {
     "data": {
      "text/html": [
       "<div>\n",
       "<style scoped>\n",
       "    .dataframe tbody tr th:only-of-type {\n",
       "        vertical-align: middle;\n",
       "    }\n",
       "\n",
       "    .dataframe tbody tr th {\n",
       "        vertical-align: top;\n",
       "    }\n",
       "\n",
       "    .dataframe thead th {\n",
       "        text-align: right;\n",
       "    }\n",
       "</style>\n",
       "<table border=\"1\" class=\"dataframe\">\n",
       "  <thead>\n",
       "    <tr style=\"text-align: right;\">\n",
       "      <th></th>\n",
       "      <th>name</th>\n",
       "      <th>platform</th>\n",
       "      <th>year_of_release</th>\n",
       "      <th>genre</th>\n",
       "      <th>na_sales</th>\n",
       "      <th>eu_sales</th>\n",
       "      <th>jp_sales</th>\n",
       "      <th>other_sales</th>\n",
       "      <th>critic_score</th>\n",
       "      <th>user_score</th>\n",
       "      <th>rating</th>\n",
       "      <th>total_sales</th>\n",
       "    </tr>\n",
       "  </thead>\n",
       "  <tbody>\n",
       "    <tr>\n",
       "      <th>0</th>\n",
       "      <td>Wii Sports</td>\n",
       "      <td>Wii</td>\n",
       "      <td>2006</td>\n",
       "      <td>Sports</td>\n",
       "      <td>41.36</td>\n",
       "      <td>28.96</td>\n",
       "      <td>3.77</td>\n",
       "      <td>8.45</td>\n",
       "      <td>76.0</td>\n",
       "      <td>8.0</td>\n",
       "      <td>E</td>\n",
       "      <td>82.54</td>\n",
       "    </tr>\n",
       "    <tr>\n",
       "      <th>1</th>\n",
       "      <td>Super Mario Bros.</td>\n",
       "      <td>NES</td>\n",
       "      <td>1985</td>\n",
       "      <td>Platform</td>\n",
       "      <td>29.08</td>\n",
       "      <td>3.58</td>\n",
       "      <td>6.81</td>\n",
       "      <td>0.77</td>\n",
       "      <td>NaN</td>\n",
       "      <td>NaN</td>\n",
       "      <td>NaN</td>\n",
       "      <td>40.24</td>\n",
       "    </tr>\n",
       "    <tr>\n",
       "      <th>2</th>\n",
       "      <td>Mario Kart Wii</td>\n",
       "      <td>Wii</td>\n",
       "      <td>2008</td>\n",
       "      <td>Racing</td>\n",
       "      <td>15.68</td>\n",
       "      <td>12.76</td>\n",
       "      <td>3.79</td>\n",
       "      <td>3.29</td>\n",
       "      <td>82.0</td>\n",
       "      <td>8.3</td>\n",
       "      <td>E</td>\n",
       "      <td>35.52</td>\n",
       "    </tr>\n",
       "    <tr>\n",
       "      <th>3</th>\n",
       "      <td>Wii Sports Resort</td>\n",
       "      <td>Wii</td>\n",
       "      <td>2009</td>\n",
       "      <td>Sports</td>\n",
       "      <td>15.61</td>\n",
       "      <td>10.93</td>\n",
       "      <td>3.28</td>\n",
       "      <td>2.95</td>\n",
       "      <td>80.0</td>\n",
       "      <td>8.0</td>\n",
       "      <td>E</td>\n",
       "      <td>32.77</td>\n",
       "    </tr>\n",
       "    <tr>\n",
       "      <th>4</th>\n",
       "      <td>Pokemon Red/Pokemon Blue</td>\n",
       "      <td>GB</td>\n",
       "      <td>1996</td>\n",
       "      <td>Role-Playing</td>\n",
       "      <td>11.27</td>\n",
       "      <td>8.89</td>\n",
       "      <td>10.22</td>\n",
       "      <td>1.00</td>\n",
       "      <td>NaN</td>\n",
       "      <td>NaN</td>\n",
       "      <td>NaN</td>\n",
       "      <td>31.38</td>\n",
       "    </tr>\n",
       "    <tr>\n",
       "      <th>...</th>\n",
       "      <td>...</td>\n",
       "      <td>...</td>\n",
       "      <td>...</td>\n",
       "      <td>...</td>\n",
       "      <td>...</td>\n",
       "      <td>...</td>\n",
       "      <td>...</td>\n",
       "      <td>...</td>\n",
       "      <td>...</td>\n",
       "      <td>...</td>\n",
       "      <td>...</td>\n",
       "      <td>...</td>\n",
       "    </tr>\n",
       "    <tr>\n",
       "      <th>16439</th>\n",
       "      <td>Samurai Warriors: Sanada Maru</td>\n",
       "      <td>PS3</td>\n",
       "      <td>2016</td>\n",
       "      <td>Action</td>\n",
       "      <td>0.00</td>\n",
       "      <td>0.00</td>\n",
       "      <td>0.01</td>\n",
       "      <td>0.00</td>\n",
       "      <td>NaN</td>\n",
       "      <td>NaN</td>\n",
       "      <td>NaN</td>\n",
       "      <td>0.01</td>\n",
       "    </tr>\n",
       "    <tr>\n",
       "      <th>16440</th>\n",
       "      <td>LMA Manager 2007</td>\n",
       "      <td>X360</td>\n",
       "      <td>2006</td>\n",
       "      <td>Sports</td>\n",
       "      <td>0.00</td>\n",
       "      <td>0.01</td>\n",
       "      <td>0.00</td>\n",
       "      <td>0.00</td>\n",
       "      <td>NaN</td>\n",
       "      <td>NaN</td>\n",
       "      <td>NaN</td>\n",
       "      <td>0.01</td>\n",
       "    </tr>\n",
       "    <tr>\n",
       "      <th>16441</th>\n",
       "      <td>Haitaka no Psychedelica</td>\n",
       "      <td>PSV</td>\n",
       "      <td>2016</td>\n",
       "      <td>Adventure</td>\n",
       "      <td>0.00</td>\n",
       "      <td>0.00</td>\n",
       "      <td>0.01</td>\n",
       "      <td>0.00</td>\n",
       "      <td>NaN</td>\n",
       "      <td>NaN</td>\n",
       "      <td>NaN</td>\n",
       "      <td>0.01</td>\n",
       "    </tr>\n",
       "    <tr>\n",
       "      <th>16442</th>\n",
       "      <td>Spirits &amp; Spells</td>\n",
       "      <td>GBA</td>\n",
       "      <td>2003</td>\n",
       "      <td>Platform</td>\n",
       "      <td>0.01</td>\n",
       "      <td>0.00</td>\n",
       "      <td>0.00</td>\n",
       "      <td>0.00</td>\n",
       "      <td>NaN</td>\n",
       "      <td>NaN</td>\n",
       "      <td>NaN</td>\n",
       "      <td>0.01</td>\n",
       "    </tr>\n",
       "    <tr>\n",
       "      <th>16443</th>\n",
       "      <td>Winning Post 8 2016</td>\n",
       "      <td>PSV</td>\n",
       "      <td>2016</td>\n",
       "      <td>Simulation</td>\n",
       "      <td>0.00</td>\n",
       "      <td>0.00</td>\n",
       "      <td>0.01</td>\n",
       "      <td>0.00</td>\n",
       "      <td>NaN</td>\n",
       "      <td>NaN</td>\n",
       "      <td>NaN</td>\n",
       "      <td>0.01</td>\n",
       "    </tr>\n",
       "  </tbody>\n",
       "</table>\n",
       "<p>16442 rows × 12 columns</p>\n",
       "</div>"
      ],
      "text/plain": [
       "                                name platform  year_of_release         genre  \\\n",
       "0                         Wii Sports      Wii             2006        Sports   \n",
       "1                  Super Mario Bros.      NES             1985      Platform   \n",
       "2                     Mario Kart Wii      Wii             2008        Racing   \n",
       "3                  Wii Sports Resort      Wii             2009        Sports   \n",
       "4           Pokemon Red/Pokemon Blue       GB             1996  Role-Playing   \n",
       "...                              ...      ...              ...           ...   \n",
       "16439  Samurai Warriors: Sanada Maru      PS3             2016        Action   \n",
       "16440               LMA Manager 2007     X360             2006        Sports   \n",
       "16441        Haitaka no Psychedelica      PSV             2016     Adventure   \n",
       "16442               Spirits & Spells      GBA             2003      Platform   \n",
       "16443            Winning Post 8 2016      PSV             2016    Simulation   \n",
       "\n",
       "       na_sales  eu_sales  jp_sales  other_sales  critic_score  user_score  \\\n",
       "0         41.36     28.96      3.77         8.45          76.0         8.0   \n",
       "1         29.08      3.58      6.81         0.77           NaN         NaN   \n",
       "2         15.68     12.76      3.79         3.29          82.0         8.3   \n",
       "3         15.61     10.93      3.28         2.95          80.0         8.0   \n",
       "4         11.27      8.89     10.22         1.00           NaN         NaN   \n",
       "...         ...       ...       ...          ...           ...         ...   \n",
       "16439      0.00      0.00      0.01         0.00           NaN         NaN   \n",
       "16440      0.00      0.01      0.00         0.00           NaN         NaN   \n",
       "16441      0.00      0.00      0.01         0.00           NaN         NaN   \n",
       "16442      0.01      0.00      0.00         0.00           NaN         NaN   \n",
       "16443      0.00      0.00      0.01         0.00           NaN         NaN   \n",
       "\n",
       "      rating  total_sales  \n",
       "0          E        82.54  \n",
       "1        NaN        40.24  \n",
       "2          E        35.52  \n",
       "3          E        32.77  \n",
       "4        NaN        31.38  \n",
       "...      ...          ...  \n",
       "16439    NaN         0.01  \n",
       "16440    NaN         0.01  \n",
       "16441    NaN         0.01  \n",
       "16442    NaN         0.01  \n",
       "16443    NaN         0.01  \n",
       "\n",
       "[16442 rows x 12 columns]"
      ]
     },
     "execution_count": 24,
     "metadata": {},
     "output_type": "execute_result"
    }
   ],
   "source": [
    "df['total_sales'] = df[['na_sales', 'eu_sales', 'jp_sales', 'other_sales']].sum(axis=1)\n",
    "df"
   ]
  },
  {
   "cell_type": "markdown",
   "id": "458514e2",
   "metadata": {},
   "source": [
    "Предобработка завершена. Данные готовы для дальнейшей обработки. Требуется более детальный анализ для вычленения подходящих для подготовки прогноза данных."
   ]
  },
  {
   "cell_type": "markdown",
   "id": "655b5015",
   "metadata": {},
   "source": [
    "## Исследовательский анализ"
   ]
  },
  {
   "cell_type": "markdown",
   "id": "e503c281",
   "metadata": {},
   "source": [
    "### Оценка выпуска игр по годам"
   ]
  },
  {
   "cell_type": "code",
   "execution_count": 25,
   "id": "70ded125",
   "metadata": {
    "scrolled": false
   },
   "outputs": [
    {
     "data": {
      "text/html": [
       "<div>\n",
       "<style scoped>\n",
       "    .dataframe tbody tr th:only-of-type {\n",
       "        vertical-align: middle;\n",
       "    }\n",
       "\n",
       "    .dataframe tbody tr th {\n",
       "        vertical-align: top;\n",
       "    }\n",
       "\n",
       "    .dataframe thead th {\n",
       "        text-align: right;\n",
       "    }\n",
       "</style>\n",
       "<table border=\"1\" class=\"dataframe\">\n",
       "  <thead>\n",
       "    <tr style=\"text-align: right;\">\n",
       "      <th></th>\n",
       "      <th>name</th>\n",
       "      <th>platform</th>\n",
       "      <th>genre</th>\n",
       "      <th>na_sales</th>\n",
       "      <th>eu_sales</th>\n",
       "      <th>jp_sales</th>\n",
       "      <th>other_sales</th>\n",
       "      <th>critic_score</th>\n",
       "      <th>user_score</th>\n",
       "      <th>rating</th>\n",
       "      <th>total_sales</th>\n",
       "    </tr>\n",
       "    <tr>\n",
       "      <th>year_of_release</th>\n",
       "      <th></th>\n",
       "      <th></th>\n",
       "      <th></th>\n",
       "      <th></th>\n",
       "      <th></th>\n",
       "      <th></th>\n",
       "      <th></th>\n",
       "      <th></th>\n",
       "      <th></th>\n",
       "      <th></th>\n",
       "      <th></th>\n",
       "    </tr>\n",
       "  </thead>\n",
       "  <tbody>\n",
       "    <tr>\n",
       "      <th>1980</th>\n",
       "      <td>9</td>\n",
       "      <td>9</td>\n",
       "      <td>9</td>\n",
       "      <td>9</td>\n",
       "      <td>9</td>\n",
       "      <td>9</td>\n",
       "      <td>9</td>\n",
       "      <td>0</td>\n",
       "      <td>0</td>\n",
       "      <td>0</td>\n",
       "      <td>9</td>\n",
       "    </tr>\n",
       "    <tr>\n",
       "      <th>1981</th>\n",
       "      <td>46</td>\n",
       "      <td>46</td>\n",
       "      <td>46</td>\n",
       "      <td>46</td>\n",
       "      <td>46</td>\n",
       "      <td>46</td>\n",
       "      <td>46</td>\n",
       "      <td>0</td>\n",
       "      <td>0</td>\n",
       "      <td>0</td>\n",
       "      <td>46</td>\n",
       "    </tr>\n",
       "    <tr>\n",
       "      <th>1982</th>\n",
       "      <td>36</td>\n",
       "      <td>36</td>\n",
       "      <td>36</td>\n",
       "      <td>36</td>\n",
       "      <td>36</td>\n",
       "      <td>36</td>\n",
       "      <td>36</td>\n",
       "      <td>0</td>\n",
       "      <td>0</td>\n",
       "      <td>0</td>\n",
       "      <td>36</td>\n",
       "    </tr>\n",
       "    <tr>\n",
       "      <th>1983</th>\n",
       "      <td>17</td>\n",
       "      <td>17</td>\n",
       "      <td>17</td>\n",
       "      <td>17</td>\n",
       "      <td>17</td>\n",
       "      <td>17</td>\n",
       "      <td>17</td>\n",
       "      <td>0</td>\n",
       "      <td>0</td>\n",
       "      <td>0</td>\n",
       "      <td>17</td>\n",
       "    </tr>\n",
       "    <tr>\n",
       "      <th>1984</th>\n",
       "      <td>14</td>\n",
       "      <td>14</td>\n",
       "      <td>14</td>\n",
       "      <td>14</td>\n",
       "      <td>14</td>\n",
       "      <td>14</td>\n",
       "      <td>14</td>\n",
       "      <td>0</td>\n",
       "      <td>0</td>\n",
       "      <td>0</td>\n",
       "      <td>14</td>\n",
       "    </tr>\n",
       "    <tr>\n",
       "      <th>1985</th>\n",
       "      <td>14</td>\n",
       "      <td>14</td>\n",
       "      <td>14</td>\n",
       "      <td>14</td>\n",
       "      <td>14</td>\n",
       "      <td>14</td>\n",
       "      <td>14</td>\n",
       "      <td>1</td>\n",
       "      <td>1</td>\n",
       "      <td>1</td>\n",
       "      <td>14</td>\n",
       "    </tr>\n",
       "    <tr>\n",
       "      <th>1986</th>\n",
       "      <td>21</td>\n",
       "      <td>21</td>\n",
       "      <td>21</td>\n",
       "      <td>21</td>\n",
       "      <td>21</td>\n",
       "      <td>21</td>\n",
       "      <td>21</td>\n",
       "      <td>0</td>\n",
       "      <td>0</td>\n",
       "      <td>0</td>\n",
       "      <td>21</td>\n",
       "    </tr>\n",
       "    <tr>\n",
       "      <th>1987</th>\n",
       "      <td>16</td>\n",
       "      <td>16</td>\n",
       "      <td>16</td>\n",
       "      <td>16</td>\n",
       "      <td>16</td>\n",
       "      <td>16</td>\n",
       "      <td>16</td>\n",
       "      <td>0</td>\n",
       "      <td>0</td>\n",
       "      <td>0</td>\n",
       "      <td>16</td>\n",
       "    </tr>\n",
       "    <tr>\n",
       "      <th>1988</th>\n",
       "      <td>15</td>\n",
       "      <td>15</td>\n",
       "      <td>15</td>\n",
       "      <td>15</td>\n",
       "      <td>15</td>\n",
       "      <td>15</td>\n",
       "      <td>15</td>\n",
       "      <td>1</td>\n",
       "      <td>1</td>\n",
       "      <td>1</td>\n",
       "      <td>15</td>\n",
       "    </tr>\n",
       "    <tr>\n",
       "      <th>1989</th>\n",
       "      <td>17</td>\n",
       "      <td>17</td>\n",
       "      <td>17</td>\n",
       "      <td>17</td>\n",
       "      <td>17</td>\n",
       "      <td>17</td>\n",
       "      <td>17</td>\n",
       "      <td>0</td>\n",
       "      <td>0</td>\n",
       "      <td>0</td>\n",
       "      <td>17</td>\n",
       "    </tr>\n",
       "    <tr>\n",
       "      <th>1990</th>\n",
       "      <td>16</td>\n",
       "      <td>16</td>\n",
       "      <td>16</td>\n",
       "      <td>16</td>\n",
       "      <td>16</td>\n",
       "      <td>16</td>\n",
       "      <td>16</td>\n",
       "      <td>0</td>\n",
       "      <td>0</td>\n",
       "      <td>0</td>\n",
       "      <td>16</td>\n",
       "    </tr>\n",
       "    <tr>\n",
       "      <th>1991</th>\n",
       "      <td>41</td>\n",
       "      <td>41</td>\n",
       "      <td>41</td>\n",
       "      <td>41</td>\n",
       "      <td>41</td>\n",
       "      <td>41</td>\n",
       "      <td>41</td>\n",
       "      <td>0</td>\n",
       "      <td>0</td>\n",
       "      <td>0</td>\n",
       "      <td>41</td>\n",
       "    </tr>\n",
       "    <tr>\n",
       "      <th>1992</th>\n",
       "      <td>43</td>\n",
       "      <td>43</td>\n",
       "      <td>43</td>\n",
       "      <td>43</td>\n",
       "      <td>43</td>\n",
       "      <td>43</td>\n",
       "      <td>43</td>\n",
       "      <td>1</td>\n",
       "      <td>1</td>\n",
       "      <td>2</td>\n",
       "      <td>43</td>\n",
       "    </tr>\n",
       "    <tr>\n",
       "      <th>1993</th>\n",
       "      <td>60</td>\n",
       "      <td>60</td>\n",
       "      <td>60</td>\n",
       "      <td>60</td>\n",
       "      <td>60</td>\n",
       "      <td>60</td>\n",
       "      <td>60</td>\n",
       "      <td>0</td>\n",
       "      <td>0</td>\n",
       "      <td>0</td>\n",
       "      <td>60</td>\n",
       "    </tr>\n",
       "    <tr>\n",
       "      <th>1994</th>\n",
       "      <td>121</td>\n",
       "      <td>121</td>\n",
       "      <td>121</td>\n",
       "      <td>121</td>\n",
       "      <td>121</td>\n",
       "      <td>121</td>\n",
       "      <td>121</td>\n",
       "      <td>1</td>\n",
       "      <td>1</td>\n",
       "      <td>1</td>\n",
       "      <td>121</td>\n",
       "    </tr>\n",
       "    <tr>\n",
       "      <th>1995</th>\n",
       "      <td>219</td>\n",
       "      <td>219</td>\n",
       "      <td>219</td>\n",
       "      <td>219</td>\n",
       "      <td>219</td>\n",
       "      <td>219</td>\n",
       "      <td>219</td>\n",
       "      <td>0</td>\n",
       "      <td>0</td>\n",
       "      <td>0</td>\n",
       "      <td>219</td>\n",
       "    </tr>\n",
       "    <tr>\n",
       "      <th>1996</th>\n",
       "      <td>263</td>\n",
       "      <td>263</td>\n",
       "      <td>263</td>\n",
       "      <td>263</td>\n",
       "      <td>263</td>\n",
       "      <td>263</td>\n",
       "      <td>263</td>\n",
       "      <td>8</td>\n",
       "      <td>8</td>\n",
       "      <td>7</td>\n",
       "      <td>263</td>\n",
       "    </tr>\n",
       "    <tr>\n",
       "      <th>1997</th>\n",
       "      <td>289</td>\n",
       "      <td>289</td>\n",
       "      <td>289</td>\n",
       "      <td>289</td>\n",
       "      <td>289</td>\n",
       "      <td>289</td>\n",
       "      <td>289</td>\n",
       "      <td>17</td>\n",
       "      <td>18</td>\n",
       "      <td>19</td>\n",
       "      <td>289</td>\n",
       "    </tr>\n",
       "    <tr>\n",
       "      <th>1998</th>\n",
       "      <td>379</td>\n",
       "      <td>379</td>\n",
       "      <td>379</td>\n",
       "      <td>379</td>\n",
       "      <td>379</td>\n",
       "      <td>379</td>\n",
       "      <td>379</td>\n",
       "      <td>28</td>\n",
       "      <td>31</td>\n",
       "      <td>32</td>\n",
       "      <td>379</td>\n",
       "    </tr>\n",
       "    <tr>\n",
       "      <th>1999</th>\n",
       "      <td>338</td>\n",
       "      <td>338</td>\n",
       "      <td>338</td>\n",
       "      <td>338</td>\n",
       "      <td>338</td>\n",
       "      <td>338</td>\n",
       "      <td>338</td>\n",
       "      <td>39</td>\n",
       "      <td>31</td>\n",
       "      <td>42</td>\n",
       "      <td>338</td>\n",
       "    </tr>\n",
       "    <tr>\n",
       "      <th>2000</th>\n",
       "      <td>350</td>\n",
       "      <td>350</td>\n",
       "      <td>350</td>\n",
       "      <td>350</td>\n",
       "      <td>350</td>\n",
       "      <td>350</td>\n",
       "      <td>350</td>\n",
       "      <td>143</td>\n",
       "      <td>107</td>\n",
       "      <td>148</td>\n",
       "      <td>350</td>\n",
       "    </tr>\n",
       "    <tr>\n",
       "      <th>2001</th>\n",
       "      <td>482</td>\n",
       "      <td>482</td>\n",
       "      <td>482</td>\n",
       "      <td>482</td>\n",
       "      <td>482</td>\n",
       "      <td>482</td>\n",
       "      <td>482</td>\n",
       "      <td>326</td>\n",
       "      <td>257</td>\n",
       "      <td>339</td>\n",
       "      <td>482</td>\n",
       "    </tr>\n",
       "    <tr>\n",
       "      <th>2002</th>\n",
       "      <td>829</td>\n",
       "      <td>829</td>\n",
       "      <td>829</td>\n",
       "      <td>829</td>\n",
       "      <td>829</td>\n",
       "      <td>829</td>\n",
       "      <td>829</td>\n",
       "      <td>627</td>\n",
       "      <td>464</td>\n",
       "      <td>655</td>\n",
       "      <td>829</td>\n",
       "    </tr>\n",
       "    <tr>\n",
       "      <th>2003</th>\n",
       "      <td>775</td>\n",
       "      <td>775</td>\n",
       "      <td>775</td>\n",
       "      <td>775</td>\n",
       "      <td>775</td>\n",
       "      <td>775</td>\n",
       "      <td>775</td>\n",
       "      <td>585</td>\n",
       "      <td>516</td>\n",
       "      <td>613</td>\n",
       "      <td>775</td>\n",
       "    </tr>\n",
       "    <tr>\n",
       "      <th>2004</th>\n",
       "      <td>762</td>\n",
       "      <td>762</td>\n",
       "      <td>762</td>\n",
       "      <td>762</td>\n",
       "      <td>762</td>\n",
       "      <td>762</td>\n",
       "      <td>762</td>\n",
       "      <td>561</td>\n",
       "      <td>489</td>\n",
       "      <td>598</td>\n",
       "      <td>762</td>\n",
       "    </tr>\n",
       "    <tr>\n",
       "      <th>2005</th>\n",
       "      <td>939</td>\n",
       "      <td>939</td>\n",
       "      <td>939</td>\n",
       "      <td>939</td>\n",
       "      <td>939</td>\n",
       "      <td>939</td>\n",
       "      <td>939</td>\n",
       "      <td>655</td>\n",
       "      <td>583</td>\n",
       "      <td>706</td>\n",
       "      <td>939</td>\n",
       "    </tr>\n",
       "    <tr>\n",
       "      <th>2006</th>\n",
       "      <td>1006</td>\n",
       "      <td>1006</td>\n",
       "      <td>1006</td>\n",
       "      <td>1006</td>\n",
       "      <td>1006</td>\n",
       "      <td>1006</td>\n",
       "      <td>1006</td>\n",
       "      <td>620</td>\n",
       "      <td>552</td>\n",
       "      <td>678</td>\n",
       "      <td>1006</td>\n",
       "    </tr>\n",
       "    <tr>\n",
       "      <th>2007</th>\n",
       "      <td>1197</td>\n",
       "      <td>1197</td>\n",
       "      <td>1197</td>\n",
       "      <td>1197</td>\n",
       "      <td>1197</td>\n",
       "      <td>1197</td>\n",
       "      <td>1197</td>\n",
       "      <td>692</td>\n",
       "      <td>629</td>\n",
       "      <td>821</td>\n",
       "      <td>1197</td>\n",
       "    </tr>\n",
       "    <tr>\n",
       "      <th>2008</th>\n",
       "      <td>1425</td>\n",
       "      <td>1425</td>\n",
       "      <td>1425</td>\n",
       "      <td>1425</td>\n",
       "      <td>1425</td>\n",
       "      <td>1425</td>\n",
       "      <td>1425</td>\n",
       "      <td>715</td>\n",
       "      <td>661</td>\n",
       "      <td>981</td>\n",
       "      <td>1425</td>\n",
       "    </tr>\n",
       "    <tr>\n",
       "      <th>2009</th>\n",
       "      <td>1426</td>\n",
       "      <td>1426</td>\n",
       "      <td>1426</td>\n",
       "      <td>1426</td>\n",
       "      <td>1426</td>\n",
       "      <td>1426</td>\n",
       "      <td>1426</td>\n",
       "      <td>651</td>\n",
       "      <td>614</td>\n",
       "      <td>1011</td>\n",
       "      <td>1426</td>\n",
       "    </tr>\n",
       "    <tr>\n",
       "      <th>2010</th>\n",
       "      <td>1255</td>\n",
       "      <td>1255</td>\n",
       "      <td>1255</td>\n",
       "      <td>1255</td>\n",
       "      <td>1255</td>\n",
       "      <td>1255</td>\n",
       "      <td>1255</td>\n",
       "      <td>500</td>\n",
       "      <td>467</td>\n",
       "      <td>799</td>\n",
       "      <td>1255</td>\n",
       "    </tr>\n",
       "    <tr>\n",
       "      <th>2011</th>\n",
       "      <td>1136</td>\n",
       "      <td>1136</td>\n",
       "      <td>1136</td>\n",
       "      <td>1136</td>\n",
       "      <td>1136</td>\n",
       "      <td>1136</td>\n",
       "      <td>1136</td>\n",
       "      <td>500</td>\n",
       "      <td>501</td>\n",
       "      <td>703</td>\n",
       "      <td>1136</td>\n",
       "    </tr>\n",
       "    <tr>\n",
       "      <th>2012</th>\n",
       "      <td>653</td>\n",
       "      <td>653</td>\n",
       "      <td>653</td>\n",
       "      <td>653</td>\n",
       "      <td>653</td>\n",
       "      <td>653</td>\n",
       "      <td>653</td>\n",
       "      <td>321</td>\n",
       "      <td>339</td>\n",
       "      <td>355</td>\n",
       "      <td>653</td>\n",
       "    </tr>\n",
       "    <tr>\n",
       "      <th>2013</th>\n",
       "      <td>544</td>\n",
       "      <td>544</td>\n",
       "      <td>544</td>\n",
       "      <td>544</td>\n",
       "      <td>544</td>\n",
       "      <td>544</td>\n",
       "      <td>544</td>\n",
       "      <td>273</td>\n",
       "      <td>304</td>\n",
       "      <td>316</td>\n",
       "      <td>544</td>\n",
       "    </tr>\n",
       "    <tr>\n",
       "      <th>2014</th>\n",
       "      <td>581</td>\n",
       "      <td>581</td>\n",
       "      <td>581</td>\n",
       "      <td>581</td>\n",
       "      <td>581</td>\n",
       "      <td>581</td>\n",
       "      <td>581</td>\n",
       "      <td>261</td>\n",
       "      <td>329</td>\n",
       "      <td>345</td>\n",
       "      <td>581</td>\n",
       "    </tr>\n",
       "    <tr>\n",
       "      <th>2015</th>\n",
       "      <td>606</td>\n",
       "      <td>606</td>\n",
       "      <td>606</td>\n",
       "      <td>606</td>\n",
       "      <td>606</td>\n",
       "      <td>606</td>\n",
       "      <td>606</td>\n",
       "      <td>225</td>\n",
       "      <td>297</td>\n",
       "      <td>315</td>\n",
       "      <td>606</td>\n",
       "    </tr>\n",
       "    <tr>\n",
       "      <th>2016</th>\n",
       "      <td>502</td>\n",
       "      <td>502</td>\n",
       "      <td>502</td>\n",
       "      <td>502</td>\n",
       "      <td>502</td>\n",
       "      <td>502</td>\n",
       "      <td>502</td>\n",
       "      <td>232</td>\n",
       "      <td>262</td>\n",
       "      <td>280</td>\n",
       "      <td>502</td>\n",
       "    </tr>\n",
       "  </tbody>\n",
       "</table>\n",
       "</div>"
      ],
      "text/plain": [
       "                 name  platform  genre  na_sales  eu_sales  jp_sales  \\\n",
       "year_of_release                                                        \n",
       "1980                9         9      9         9         9         9   \n",
       "1981               46        46     46        46        46        46   \n",
       "1982               36        36     36        36        36        36   \n",
       "1983               17        17     17        17        17        17   \n",
       "1984               14        14     14        14        14        14   \n",
       "1985               14        14     14        14        14        14   \n",
       "1986               21        21     21        21        21        21   \n",
       "1987               16        16     16        16        16        16   \n",
       "1988               15        15     15        15        15        15   \n",
       "1989               17        17     17        17        17        17   \n",
       "1990               16        16     16        16        16        16   \n",
       "1991               41        41     41        41        41        41   \n",
       "1992               43        43     43        43        43        43   \n",
       "1993               60        60     60        60        60        60   \n",
       "1994              121       121    121       121       121       121   \n",
       "1995              219       219    219       219       219       219   \n",
       "1996              263       263    263       263       263       263   \n",
       "1997              289       289    289       289       289       289   \n",
       "1998              379       379    379       379       379       379   \n",
       "1999              338       338    338       338       338       338   \n",
       "2000              350       350    350       350       350       350   \n",
       "2001              482       482    482       482       482       482   \n",
       "2002              829       829    829       829       829       829   \n",
       "2003              775       775    775       775       775       775   \n",
       "2004              762       762    762       762       762       762   \n",
       "2005              939       939    939       939       939       939   \n",
       "2006             1006      1006   1006      1006      1006      1006   \n",
       "2007             1197      1197   1197      1197      1197      1197   \n",
       "2008             1425      1425   1425      1425      1425      1425   \n",
       "2009             1426      1426   1426      1426      1426      1426   \n",
       "2010             1255      1255   1255      1255      1255      1255   \n",
       "2011             1136      1136   1136      1136      1136      1136   \n",
       "2012              653       653    653       653       653       653   \n",
       "2013              544       544    544       544       544       544   \n",
       "2014              581       581    581       581       581       581   \n",
       "2015              606       606    606       606       606       606   \n",
       "2016              502       502    502       502       502       502   \n",
       "\n",
       "                 other_sales  critic_score  user_score  rating  total_sales  \n",
       "year_of_release                                                              \n",
       "1980                       9             0           0       0            9  \n",
       "1981                      46             0           0       0           46  \n",
       "1982                      36             0           0       0           36  \n",
       "1983                      17             0           0       0           17  \n",
       "1984                      14             0           0       0           14  \n",
       "1985                      14             1           1       1           14  \n",
       "1986                      21             0           0       0           21  \n",
       "1987                      16             0           0       0           16  \n",
       "1988                      15             1           1       1           15  \n",
       "1989                      17             0           0       0           17  \n",
       "1990                      16             0           0       0           16  \n",
       "1991                      41             0           0       0           41  \n",
       "1992                      43             1           1       2           43  \n",
       "1993                      60             0           0       0           60  \n",
       "1994                     121             1           1       1          121  \n",
       "1995                     219             0           0       0          219  \n",
       "1996                     263             8           8       7          263  \n",
       "1997                     289            17          18      19          289  \n",
       "1998                     379            28          31      32          379  \n",
       "1999                     338            39          31      42          338  \n",
       "2000                     350           143         107     148          350  \n",
       "2001                     482           326         257     339          482  \n",
       "2002                     829           627         464     655          829  \n",
       "2003                     775           585         516     613          775  \n",
       "2004                     762           561         489     598          762  \n",
       "2005                     939           655         583     706          939  \n",
       "2006                    1006           620         552     678         1006  \n",
       "2007                    1197           692         629     821         1197  \n",
       "2008                    1425           715         661     981         1425  \n",
       "2009                    1426           651         614    1011         1426  \n",
       "2010                    1255           500         467     799         1255  \n",
       "2011                    1136           500         501     703         1136  \n",
       "2012                     653           321         339     355          653  \n",
       "2013                     544           273         304     316          544  \n",
       "2014                     581           261         329     345          581  \n",
       "2015                     606           225         297     315          606  \n",
       "2016                     502           232         262     280          502  "
      ]
     },
     "execution_count": 25,
     "metadata": {},
     "output_type": "execute_result"
    }
   ],
   "source": [
    "df.groupby('year_of_release').count()"
   ]
  },
  {
   "cell_type": "code",
   "execution_count": 28,
   "id": "e5731504",
   "metadata": {},
   "outputs": [
    {
     "data": {
      "text/plain": [
       "Text(0, 0.5, 'Число игр')"
      ]
     },
     "execution_count": 28,
     "metadata": {},
     "output_type": "execute_result"
    },
    {
     "data": {
      "image/png": "[encoded data removed]",
      "text/plain": [
       "<Figure size 1080x432 with 1 Axes>"
      ]
     },
     "metadata": {
      "needs_background": "light"
     },
     "output_type": "display_data"
    }
   ],
   "source": [
    "df['year_of_release'].hist(bins=37, \n",
    "                           figsize=(15,6), \n",
    "                           grid=False, \n",
    "                           xlabelsize=15, \n",
    "                           ylabelsize=15, \n",
    "                           histtype='bar', \n",
    "                           width=0.85, \n",
    "                           xrot=90, \n",
    "                           color='c', \n",
    "                           alpha=1)\n",
    "plt.title('Количество выпущенных игр в год')\n",
    "plt.ylabel('Число игр')"
   ]
  },
  {
   "cell_type": "code",
   "execution_count": 43,
   "id": "28c27d24",
   "metadata": {},
   "outputs": [
    {
     "data": {
      "text/html": [
       "<div>\n",
       "<style scoped>\n",
       "    .dataframe tbody tr th:only-of-type {\n",
       "        vertical-align: middle;\n",
       "    }\n",
       "\n",
       "    .dataframe tbody tr th {\n",
       "        vertical-align: top;\n",
       "    }\n",
       "\n",
       "    .dataframe thead th {\n",
       "        text-align: right;\n",
       "    }\n",
       "</style>\n",
       "<table border=\"1\" class=\"dataframe\">\n",
       "  <thead>\n",
       "    <tr style=\"text-align: right;\">\n",
       "      <th></th>\n",
       "      <th>name</th>\n",
       "      <th>platform</th>\n",
       "      <th>genre</th>\n",
       "      <th>na_sales</th>\n",
       "      <th>eu_sales</th>\n",
       "      <th>jp_sales</th>\n",
       "      <th>other_sales</th>\n",
       "      <th>critic_score</th>\n",
       "      <th>user_score</th>\n",
       "      <th>rating</th>\n",
       "      <th>total_sales</th>\n",
       "    </tr>\n",
       "    <tr>\n",
       "      <th>year_of_release</th>\n",
       "      <th></th>\n",
       "      <th></th>\n",
       "      <th></th>\n",
       "      <th></th>\n",
       "      <th></th>\n",
       "      <th></th>\n",
       "      <th></th>\n",
       "      <th></th>\n",
       "      <th></th>\n",
       "      <th></th>\n",
       "      <th></th>\n",
       "    </tr>\n",
       "  </thead>\n",
       "  <tbody>\n",
       "    <tr>\n",
       "      <th>1980</th>\n",
       "      <td>9</td>\n",
       "      <td>9</td>\n",
       "      <td>9</td>\n",
       "      <td>9</td>\n",
       "      <td>9</td>\n",
       "      <td>9</td>\n",
       "      <td>9</td>\n",
       "      <td>0</td>\n",
       "      <td>0</td>\n",
       "      <td>0</td>\n",
       "      <td>9</td>\n",
       "    </tr>\n",
       "    <tr>\n",
       "      <th>1981</th>\n",
       "      <td>46</td>\n",
       "      <td>46</td>\n",
       "      <td>46</td>\n",
       "      <td>46</td>\n",
       "      <td>46</td>\n",
       "      <td>46</td>\n",
       "      <td>46</td>\n",
       "      <td>0</td>\n",
       "      <td>0</td>\n",
       "      <td>0</td>\n",
       "      <td>46</td>\n",
       "    </tr>\n",
       "    <tr>\n",
       "      <th>1982</th>\n",
       "      <td>36</td>\n",
       "      <td>36</td>\n",
       "      <td>36</td>\n",
       "      <td>36</td>\n",
       "      <td>36</td>\n",
       "      <td>36</td>\n",
       "      <td>36</td>\n",
       "      <td>0</td>\n",
       "      <td>0</td>\n",
       "      <td>0</td>\n",
       "      <td>36</td>\n",
       "    </tr>\n",
       "    <tr>\n",
       "      <th>1983</th>\n",
       "      <td>17</td>\n",
       "      <td>17</td>\n",
       "      <td>17</td>\n",
       "      <td>17</td>\n",
       "      <td>17</td>\n",
       "      <td>17</td>\n",
       "      <td>17</td>\n",
       "      <td>0</td>\n",
       "      <td>0</td>\n",
       "      <td>0</td>\n",
       "      <td>17</td>\n",
       "    </tr>\n",
       "    <tr>\n",
       "      <th>1984</th>\n",
       "      <td>14</td>\n",
       "      <td>14</td>\n",
       "      <td>14</td>\n",
       "      <td>14</td>\n",
       "      <td>14</td>\n",
       "      <td>14</td>\n",
       "      <td>14</td>\n",
       "      <td>0</td>\n",
       "      <td>0</td>\n",
       "      <td>0</td>\n",
       "      <td>14</td>\n",
       "    </tr>\n",
       "    <tr>\n",
       "      <th>1985</th>\n",
       "      <td>14</td>\n",
       "      <td>14</td>\n",
       "      <td>14</td>\n",
       "      <td>14</td>\n",
       "      <td>14</td>\n",
       "      <td>14</td>\n",
       "      <td>14</td>\n",
       "      <td>1</td>\n",
       "      <td>1</td>\n",
       "      <td>1</td>\n",
       "      <td>14</td>\n",
       "    </tr>\n",
       "    <tr>\n",
       "      <th>1986</th>\n",
       "      <td>21</td>\n",
       "      <td>21</td>\n",
       "      <td>21</td>\n",
       "      <td>21</td>\n",
       "      <td>21</td>\n",
       "      <td>21</td>\n",
       "      <td>21</td>\n",
       "      <td>0</td>\n",
       "      <td>0</td>\n",
       "      <td>0</td>\n",
       "      <td>21</td>\n",
       "    </tr>\n",
       "    <tr>\n",
       "      <th>1987</th>\n",
       "      <td>16</td>\n",
       "      <td>16</td>\n",
       "      <td>16</td>\n",
       "      <td>16</td>\n",
       "      <td>16</td>\n",
       "      <td>16</td>\n",
       "      <td>16</td>\n",
       "      <td>0</td>\n",
       "      <td>0</td>\n",
       "      <td>0</td>\n",
       "      <td>16</td>\n",
       "    </tr>\n",
       "    <tr>\n",
       "      <th>1988</th>\n",
       "      <td>15</td>\n",
       "      <td>15</td>\n",
       "      <td>15</td>\n",
       "      <td>15</td>\n",
       "      <td>15</td>\n",
       "      <td>15</td>\n",
       "      <td>15</td>\n",
       "      <td>1</td>\n",
       "      <td>1</td>\n",
       "      <td>1</td>\n",
       "      <td>15</td>\n",
       "    </tr>\n",
       "    <tr>\n",
       "      <th>1989</th>\n",
       "      <td>17</td>\n",
       "      <td>17</td>\n",
       "      <td>17</td>\n",
       "      <td>17</td>\n",
       "      <td>17</td>\n",
       "      <td>17</td>\n",
       "      <td>17</td>\n",
       "      <td>0</td>\n",
       "      <td>0</td>\n",
       "      <td>0</td>\n",
       "      <td>17</td>\n",
       "    </tr>\n",
       "    <tr>\n",
       "      <th>1990</th>\n",
       "      <td>16</td>\n",
       "      <td>16</td>\n",
       "      <td>16</td>\n",
       "      <td>16</td>\n",
       "      <td>16</td>\n",
       "      <td>16</td>\n",
       "      <td>16</td>\n",
       "      <td>0</td>\n",
       "      <td>0</td>\n",
       "      <td>0</td>\n",
       "      <td>16</td>\n",
       "    </tr>\n",
       "    <tr>\n",
       "      <th>1991</th>\n",
       "      <td>41</td>\n",
       "      <td>41</td>\n",
       "      <td>41</td>\n",
       "      <td>41</td>\n",
       "      <td>41</td>\n",
       "      <td>41</td>\n",
       "      <td>41</td>\n",
       "      <td>0</td>\n",
       "      <td>0</td>\n",
       "      <td>0</td>\n",
       "      <td>41</td>\n",
       "    </tr>\n",
       "    <tr>\n",
       "      <th>1992</th>\n",
       "      <td>43</td>\n",
       "      <td>43</td>\n",
       "      <td>43</td>\n",
       "      <td>43</td>\n",
       "      <td>43</td>\n",
       "      <td>43</td>\n",
       "      <td>43</td>\n",
       "      <td>1</td>\n",
       "      <td>1</td>\n",
       "      <td>2</td>\n",
       "      <td>43</td>\n",
       "    </tr>\n",
       "    <tr>\n",
       "      <th>1993</th>\n",
       "      <td>60</td>\n",
       "      <td>60</td>\n",
       "      <td>60</td>\n",
       "      <td>60</td>\n",
       "      <td>60</td>\n",
       "      <td>60</td>\n",
       "      <td>60</td>\n",
       "      <td>0</td>\n",
       "      <td>0</td>\n",
       "      <td>0</td>\n",
       "      <td>60</td>\n",
       "    </tr>\n",
       "    <tr>\n",
       "      <th>1994</th>\n",
       "      <td>121</td>\n",
       "      <td>121</td>\n",
       "      <td>121</td>\n",
       "      <td>121</td>\n",
       "      <td>121</td>\n",
       "      <td>121</td>\n",
       "      <td>121</td>\n",
       "      <td>1</td>\n",
       "      <td>1</td>\n",
       "      <td>1</td>\n",
       "      <td>121</td>\n",
       "    </tr>\n",
       "    <tr>\n",
       "      <th>1995</th>\n",
       "      <td>219</td>\n",
       "      <td>219</td>\n",
       "      <td>219</td>\n",
       "      <td>219</td>\n",
       "      <td>219</td>\n",
       "      <td>219</td>\n",
       "      <td>219</td>\n",
       "      <td>0</td>\n",
       "      <td>0</td>\n",
       "      <td>0</td>\n",
       "      <td>219</td>\n",
       "    </tr>\n",
       "    <tr>\n",
       "      <th>1996</th>\n",
       "      <td>263</td>\n",
       "      <td>263</td>\n",
       "      <td>263</td>\n",
       "      <td>263</td>\n",
       "      <td>263</td>\n",
       "      <td>263</td>\n",
       "      <td>263</td>\n",
       "      <td>8</td>\n",
       "      <td>8</td>\n",
       "      <td>7</td>\n",
       "      <td>263</td>\n",
       "    </tr>\n",
       "    <tr>\n",
       "      <th>1997</th>\n",
       "      <td>289</td>\n",
       "      <td>289</td>\n",
       "      <td>289</td>\n",
       "      <td>289</td>\n",
       "      <td>289</td>\n",
       "      <td>289</td>\n",
       "      <td>289</td>\n",
       "      <td>17</td>\n",
       "      <td>18</td>\n",
       "      <td>19</td>\n",
       "      <td>289</td>\n",
       "    </tr>\n",
       "    <tr>\n",
       "      <th>1998</th>\n",
       "      <td>379</td>\n",
       "      <td>379</td>\n",
       "      <td>379</td>\n",
       "      <td>379</td>\n",
       "      <td>379</td>\n",
       "      <td>379</td>\n",
       "      <td>379</td>\n",
       "      <td>28</td>\n",
       "      <td>31</td>\n",
       "      <td>32</td>\n",
       "      <td>379</td>\n",
       "    </tr>\n",
       "    <tr>\n",
       "      <th>1999</th>\n",
       "      <td>338</td>\n",
       "      <td>338</td>\n",
       "      <td>338</td>\n",
       "      <td>338</td>\n",
       "      <td>338</td>\n",
       "      <td>338</td>\n",
       "      <td>338</td>\n",
       "      <td>39</td>\n",
       "      <td>31</td>\n",
       "      <td>42</td>\n",
       "      <td>338</td>\n",
       "    </tr>\n",
       "    <tr>\n",
       "      <th>2000</th>\n",
       "      <td>350</td>\n",
       "      <td>350</td>\n",
       "      <td>350</td>\n",
       "      <td>350</td>\n",
       "      <td>350</td>\n",
       "      <td>350</td>\n",
       "      <td>350</td>\n",
       "      <td>143</td>\n",
       "      <td>107</td>\n",
       "      <td>148</td>\n",
       "      <td>350</td>\n",
       "    </tr>\n",
       "    <tr>\n",
       "      <th>2001</th>\n",
       "      <td>482</td>\n",
       "      <td>482</td>\n",
       "      <td>482</td>\n",
       "      <td>482</td>\n",
       "      <td>482</td>\n",
       "      <td>482</td>\n",
       "      <td>482</td>\n",
       "      <td>326</td>\n",
       "      <td>257</td>\n",
       "      <td>339</td>\n",
       "      <td>482</td>\n",
       "    </tr>\n",
       "    <tr>\n",
       "      <th>2002</th>\n",
       "      <td>829</td>\n",
       "      <td>829</td>\n",
       "      <td>829</td>\n",
       "      <td>829</td>\n",
       "      <td>829</td>\n",
       "      <td>829</td>\n",
       "      <td>829</td>\n",
       "      <td>627</td>\n",
       "      <td>464</td>\n",
       "      <td>655</td>\n",
       "      <td>829</td>\n",
       "    </tr>\n",
       "    <tr>\n",
       "      <th>2003</th>\n",
       "      <td>775</td>\n",
       "      <td>775</td>\n",
       "      <td>775</td>\n",
       "      <td>775</td>\n",
       "      <td>775</td>\n",
       "      <td>775</td>\n",
       "      <td>775</td>\n",
       "      <td>585</td>\n",
       "      <td>516</td>\n",
       "      <td>613</td>\n",
       "      <td>775</td>\n",
       "    </tr>\n",
       "    <tr>\n",
       "      <th>2004</th>\n",
       "      <td>762</td>\n",
       "      <td>762</td>\n",
       "      <td>762</td>\n",
       "      <td>762</td>\n",
       "      <td>762</td>\n",
       "      <td>762</td>\n",
       "      <td>762</td>\n",
       "      <td>561</td>\n",
       "      <td>489</td>\n",
       "      <td>598</td>\n",
       "      <td>762</td>\n",
       "    </tr>\n",
       "    <tr>\n",
       "      <th>2005</th>\n",
       "      <td>939</td>\n",
       "      <td>939</td>\n",
       "      <td>939</td>\n",
       "      <td>939</td>\n",
       "      <td>939</td>\n",
       "      <td>939</td>\n",
       "      <td>939</td>\n",
       "      <td>655</td>\n",
       "      <td>583</td>\n",
       "      <td>706</td>\n",
       "      <td>939</td>\n",
       "    </tr>\n",
       "    <tr>\n",
       "      <th>2006</th>\n",
       "      <td>1006</td>\n",
       "      <td>1006</td>\n",
       "      <td>1006</td>\n",
       "      <td>1006</td>\n",
       "      <td>1006</td>\n",
       "      <td>1006</td>\n",
       "      <td>1006</td>\n",
       "      <td>620</td>\n",
       "      <td>552</td>\n",
       "      <td>678</td>\n",
       "      <td>1006</td>\n",
       "    </tr>\n",
       "    <tr>\n",
       "      <th>2007</th>\n",
       "      <td>1197</td>\n",
       "      <td>1197</td>\n",
       "      <td>1197</td>\n",
       "      <td>1197</td>\n",
       "      <td>1197</td>\n",
       "      <td>1197</td>\n",
       "      <td>1197</td>\n",
       "      <td>692</td>\n",
       "      <td>629</td>\n",
       "      <td>821</td>\n",
       "      <td>1197</td>\n",
       "    </tr>\n",
       "    <tr>\n",
       "      <th>2008</th>\n",
       "      <td>1425</td>\n",
       "      <td>1425</td>\n",
       "      <td>1425</td>\n",
       "      <td>1425</td>\n",
       "      <td>1425</td>\n",
       "      <td>1425</td>\n",
       "      <td>1425</td>\n",
       "      <td>715</td>\n",
       "      <td>661</td>\n",
       "      <td>981</td>\n",
       "      <td>1425</td>\n",
       "    </tr>\n",
       "    <tr>\n",
       "      <th>2009</th>\n",
       "      <td>1426</td>\n",
       "      <td>1426</td>\n",
       "      <td>1426</td>\n",
       "      <td>1426</td>\n",
       "      <td>1426</td>\n",
       "      <td>1426</td>\n",
       "      <td>1426</td>\n",
       "      <td>651</td>\n",
       "      <td>614</td>\n",
       "      <td>1011</td>\n",
       "      <td>1426</td>\n",
       "    </tr>\n",
       "    <tr>\n",
       "      <th>2010</th>\n",
       "      <td>1255</td>\n",
       "      <td>1255</td>\n",
       "      <td>1255</td>\n",
       "      <td>1255</td>\n",
       "      <td>1255</td>\n",
       "      <td>1255</td>\n",
       "      <td>1255</td>\n",
       "      <td>500</td>\n",
       "      <td>467</td>\n",
       "      <td>799</td>\n",
       "      <td>1255</td>\n",
       "    </tr>\n",
       "    <tr>\n",
       "      <th>2011</th>\n",
       "      <td>1136</td>\n",
       "      <td>1136</td>\n",
       "      <td>1136</td>\n",
       "      <td>1136</td>\n",
       "      <td>1136</td>\n",
       "      <td>1136</td>\n",
       "      <td>1136</td>\n",
       "      <td>500</td>\n",
       "      <td>501</td>\n",
       "      <td>703</td>\n",
       "      <td>1136</td>\n",
       "    </tr>\n",
       "    <tr>\n",
       "      <th>2012</th>\n",
       "      <td>653</td>\n",
       "      <td>653</td>\n",
       "      <td>653</td>\n",
       "      <td>653</td>\n",
       "      <td>653</td>\n",
       "      <td>653</td>\n",
       "      <td>653</td>\n",
       "      <td>321</td>\n",
       "      <td>339</td>\n",
       "      <td>355</td>\n",
       "      <td>653</td>\n",
       "    </tr>\n",
       "    <tr>\n",
       "      <th>2013</th>\n",
       "      <td>544</td>\n",
       "      <td>544</td>\n",
       "      <td>544</td>\n",
       "      <td>544</td>\n",
       "      <td>544</td>\n",
       "      <td>544</td>\n",
       "      <td>544</td>\n",
       "      <td>273</td>\n",
       "      <td>304</td>\n",
       "      <td>316</td>\n",
       "      <td>544</td>\n",
       "    </tr>\n",
       "    <tr>\n",
       "      <th>2014</th>\n",
       "      <td>581</td>\n",
       "      <td>581</td>\n",
       "      <td>581</td>\n",
       "      <td>581</td>\n",
       "      <td>581</td>\n",
       "      <td>581</td>\n",
       "      <td>581</td>\n",
       "      <td>261</td>\n",
       "      <td>329</td>\n",
       "      <td>345</td>\n",
       "      <td>581</td>\n",
       "    </tr>\n",
       "    <tr>\n",
       "      <th>2015</th>\n",
       "      <td>606</td>\n",
       "      <td>606</td>\n",
       "      <td>606</td>\n",
       "      <td>606</td>\n",
       "      <td>606</td>\n",
       "      <td>606</td>\n",
       "      <td>606</td>\n",
       "      <td>225</td>\n",
       "      <td>297</td>\n",
       "      <td>315</td>\n",
       "      <td>606</td>\n",
       "    </tr>\n",
       "    <tr>\n",
       "      <th>2016</th>\n",
       "      <td>502</td>\n",
       "      <td>502</td>\n",
       "      <td>502</td>\n",
       "      <td>502</td>\n",
       "      <td>502</td>\n",
       "      <td>502</td>\n",
       "      <td>502</td>\n",
       "      <td>232</td>\n",
       "      <td>262</td>\n",
       "      <td>280</td>\n",
       "      <td>502</td>\n",
       "    </tr>\n",
       "  </tbody>\n",
       "</table>\n",
       "</div>"
      ],
      "text/plain": [
       "                 name  platform  genre  na_sales  eu_sales  jp_sales  \\\n",
       "year_of_release                                                        \n",
       "1980                9         9      9         9         9         9   \n",
       "1981               46        46     46        46        46        46   \n",
       "1982               36        36     36        36        36        36   \n",
       "1983               17        17     17        17        17        17   \n",
       "1984               14        14     14        14        14        14   \n",
       "1985               14        14     14        14        14        14   \n",
       "1986               21        21     21        21        21        21   \n",
       "1987               16        16     16        16        16        16   \n",
       "1988               15        15     15        15        15        15   \n",
       "1989               17        17     17        17        17        17   \n",
       "1990               16        16     16        16        16        16   \n",
       "1991               41        41     41        41        41        41   \n",
       "1992               43        43     43        43        43        43   \n",
       "1993               60        60     60        60        60        60   \n",
       "1994              121       121    121       121       121       121   \n",
       "1995              219       219    219       219       219       219   \n",
       "1996              263       263    263       263       263       263   \n",
       "1997              289       289    289       289       289       289   \n",
       "1998              379       379    379       379       379       379   \n",
       "1999              338       338    338       338       338       338   \n",
       "2000              350       350    350       350       350       350   \n",
       "2001              482       482    482       482       482       482   \n",
       "2002              829       829    829       829       829       829   \n",
       "2003              775       775    775       775       775       775   \n",
       "2004              762       762    762       762       762       762   \n",
       "2005              939       939    939       939       939       939   \n",
       "2006             1006      1006   1006      1006      1006      1006   \n",
       "2007             1197      1197   1197      1197      1197      1197   \n",
       "2008             1425      1425   1425      1425      1425      1425   \n",
       "2009             1426      1426   1426      1426      1426      1426   \n",
       "2010             1255      1255   1255      1255      1255      1255   \n",
       "2011             1136      1136   1136      1136      1136      1136   \n",
       "2012              653       653    653       653       653       653   \n",
       "2013              544       544    544       544       544       544   \n",
       "2014              581       581    581       581       581       581   \n",
       "2015              606       606    606       606       606       606   \n",
       "2016              502       502    502       502       502       502   \n",
       "\n",
       "                 other_sales  critic_score  user_score  rating  total_sales  \n",
       "year_of_release                                                              \n",
       "1980                       9             0           0       0            9  \n",
       "1981                      46             0           0       0           46  \n",
       "1982                      36             0           0       0           36  \n",
       "1983                      17             0           0       0           17  \n",
       "1984                      14             0           0       0           14  \n",
       "1985                      14             1           1       1           14  \n",
       "1986                      21             0           0       0           21  \n",
       "1987                      16             0           0       0           16  \n",
       "1988                      15             1           1       1           15  \n",
       "1989                      17             0           0       0           17  \n",
       "1990                      16             0           0       0           16  \n",
       "1991                      41             0           0       0           41  \n",
       "1992                      43             1           1       2           43  \n",
       "1993                      60             0           0       0           60  \n",
       "1994                     121             1           1       1          121  \n",
       "1995                     219             0           0       0          219  \n",
       "1996                     263             8           8       7          263  \n",
       "1997                     289            17          18      19          289  \n",
       "1998                     379            28          31      32          379  \n",
       "1999                     338            39          31      42          338  \n",
       "2000                     350           143         107     148          350  \n",
       "2001                     482           326         257     339          482  \n",
       "2002                     829           627         464     655          829  \n",
       "2003                     775           585         516     613          775  \n",
       "2004                     762           561         489     598          762  \n",
       "2005                     939           655         583     706          939  \n",
       "2006                    1006           620         552     678         1006  \n",
       "2007                    1197           692         629     821         1197  \n",
       "2008                    1425           715         661     981         1425  \n",
       "2009                    1426           651         614    1011         1426  \n",
       "2010                    1255           500         467     799         1255  \n",
       "2011                    1136           500         501     703         1136  \n",
       "2012                     653           321         339     355          653  \n",
       "2013                     544           273         304     316          544  \n",
       "2014                     581           261         329     345          581  \n",
       "2015                     606           225         297     315          606  \n",
       "2016                     502           232         262     280          502  "
      ]
     },
     "execution_count": 43,
     "metadata": {},
     "output_type": "execute_result"
    }
   ],
   "source": [
    "df.groupby('year_of_release').count()[]"
   ]
  },
  {
   "cell_type": "code",
   "execution_count": 41,
   "id": "30017bac",
   "metadata": {},
   "outputs": [
    {
     "ename": "ValueError",
     "evalue": "shape mismatch: objects cannot be broadcast to a single shape",
     "output_type": "error",
     "traceback": [
      "\u001b[1;31m---------------------------------------------------------------------------\u001b[0m",
      "\u001b[1;31mValueError\u001b[0m                                Traceback (most recent call last)",
      "\u001b[1;32m~\\AppData\\Local\\Temp/ipykernel_6464/3027775899.py\u001b[0m in \u001b[0;36m<module>\u001b[1;34m\u001b[0m\n\u001b[1;32m----> 1\u001b[1;33m \u001b[0mplt\u001b[0m\u001b[1;33m.\u001b[0m\u001b[0mbar\u001b[0m\u001b[1;33m(\u001b[0m\u001b[0mdf\u001b[0m\u001b[1;33m[\u001b[0m\u001b[1;34m'year_of_release'\u001b[0m\u001b[1;33m]\u001b[0m\u001b[1;33m,\u001b[0m \u001b[0mdf\u001b[0m\u001b[1;33m.\u001b[0m\u001b[0mgroupby\u001b[0m\u001b[1;33m(\u001b[0m\u001b[1;34m'year_of_release'\u001b[0m\u001b[1;33m)\u001b[0m\u001b[1;33m.\u001b[0m\u001b[0mcount\u001b[0m\u001b[1;33m(\u001b[0m\u001b[1;33m)\u001b[0m\u001b[1;33m[\u001b[0m\u001b[1;34m'name'\u001b[0m\u001b[1;33m]\u001b[0m\u001b[1;33m)\u001b[0m\u001b[1;33m\u001b[0m\u001b[1;33m\u001b[0m\u001b[0m\n\u001b[0m",
      "\u001b[1;32m~\\Anaconda3\\lib\\site-packages\\matplotlib\\pyplot.py\u001b[0m in \u001b[0;36mbar\u001b[1;34m(x, height, width, bottom, align, data, **kwargs)\u001b[0m\n\u001b[0;32m   2649\u001b[0m         \u001b[0mx\u001b[0m\u001b[1;33m,\u001b[0m \u001b[0mheight\u001b[0m\u001b[1;33m,\u001b[0m \u001b[0mwidth\u001b[0m\u001b[1;33m=\u001b[0m\u001b[1;36m0.8\u001b[0m\u001b[1;33m,\u001b[0m \u001b[0mbottom\u001b[0m\u001b[1;33m=\u001b[0m\u001b[1;32mNone\u001b[0m\u001b[1;33m,\u001b[0m \u001b[1;33m*\u001b[0m\u001b[1;33m,\u001b[0m \u001b[0malign\u001b[0m\u001b[1;33m=\u001b[0m\u001b[1;34m'center'\u001b[0m\u001b[1;33m,\u001b[0m\u001b[1;33m\u001b[0m\u001b[1;33m\u001b[0m\u001b[0m\n\u001b[0;32m   2650\u001b[0m         data=None, **kwargs):\n\u001b[1;32m-> 2651\u001b[1;33m     return gca().bar(\n\u001b[0m\u001b[0;32m   2652\u001b[0m         \u001b[0mx\u001b[0m\u001b[1;33m,\u001b[0m \u001b[0mheight\u001b[0m\u001b[1;33m,\u001b[0m \u001b[0mwidth\u001b[0m\u001b[1;33m=\u001b[0m\u001b[0mwidth\u001b[0m\u001b[1;33m,\u001b[0m \u001b[0mbottom\u001b[0m\u001b[1;33m=\u001b[0m\u001b[0mbottom\u001b[0m\u001b[1;33m,\u001b[0m \u001b[0malign\u001b[0m\u001b[1;33m=\u001b[0m\u001b[0malign\u001b[0m\u001b[1;33m,\u001b[0m\u001b[1;33m\u001b[0m\u001b[1;33m\u001b[0m\u001b[0m\n\u001b[0;32m   2653\u001b[0m         **({\"data\": data} if data is not None else {}), **kwargs)\n",
      "\u001b[1;32m~\\Anaconda3\\lib\\site-packages\\matplotlib\\__init__.py\u001b[0m in \u001b[0;36minner\u001b[1;34m(ax, data, *args, **kwargs)\u001b[0m\n\u001b[0;32m   1359\u001b[0m     \u001b[1;32mdef\u001b[0m \u001b[0minner\u001b[0m\u001b[1;33m(\u001b[0m\u001b[0max\u001b[0m\u001b[1;33m,\u001b[0m \u001b[1;33m*\u001b[0m\u001b[0margs\u001b[0m\u001b[1;33m,\u001b[0m \u001b[0mdata\u001b[0m\u001b[1;33m=\u001b[0m\u001b[1;32mNone\u001b[0m\u001b[1;33m,\u001b[0m \u001b[1;33m**\u001b[0m\u001b[0mkwargs\u001b[0m\u001b[1;33m)\u001b[0m\u001b[1;33m:\u001b[0m\u001b[1;33m\u001b[0m\u001b[1;33m\u001b[0m\u001b[0m\n\u001b[0;32m   1360\u001b[0m         \u001b[1;32mif\u001b[0m \u001b[0mdata\u001b[0m \u001b[1;32mis\u001b[0m \u001b[1;32mNone\u001b[0m\u001b[1;33m:\u001b[0m\u001b[1;33m\u001b[0m\u001b[1;33m\u001b[0m\u001b[0m\n\u001b[1;32m-> 1361\u001b[1;33m             \u001b[1;32mreturn\u001b[0m \u001b[0mfunc\u001b[0m\u001b[1;33m(\u001b[0m\u001b[0max\u001b[0m\u001b[1;33m,\u001b[0m \u001b[1;33m*\u001b[0m\u001b[0mmap\u001b[0m\u001b[1;33m(\u001b[0m\u001b[0msanitize_sequence\u001b[0m\u001b[1;33m,\u001b[0m \u001b[0margs\u001b[0m\u001b[1;33m)\u001b[0m\u001b[1;33m,\u001b[0m \u001b[1;33m**\u001b[0m\u001b[0mkwargs\u001b[0m\u001b[1;33m)\u001b[0m\u001b[1;33m\u001b[0m\u001b[1;33m\u001b[0m\u001b[0m\n\u001b[0m\u001b[0;32m   1362\u001b[0m \u001b[1;33m\u001b[0m\u001b[0m\n\u001b[0;32m   1363\u001b[0m         \u001b[0mbound\u001b[0m \u001b[1;33m=\u001b[0m \u001b[0mnew_sig\u001b[0m\u001b[1;33m.\u001b[0m\u001b[0mbind\u001b[0m\u001b[1;33m(\u001b[0m\u001b[0max\u001b[0m\u001b[1;33m,\u001b[0m \u001b[1;33m*\u001b[0m\u001b[0margs\u001b[0m\u001b[1;33m,\u001b[0m \u001b[1;33m**\u001b[0m\u001b[0mkwargs\u001b[0m\u001b[1;33m)\u001b[0m\u001b[1;33m\u001b[0m\u001b[1;33m\u001b[0m\u001b[0m\n",
      "\u001b[1;32m~\\Anaconda3\\lib\\site-packages\\matplotlib\\axes\\_axes.py\u001b[0m in \u001b[0;36mbar\u001b[1;34m(self, x, height, width, bottom, align, **kwargs)\u001b[0m\n\u001b[0;32m   2302\u001b[0m                 \u001b[0myerr\u001b[0m \u001b[1;33m=\u001b[0m \u001b[0mself\u001b[0m\u001b[1;33m.\u001b[0m\u001b[0m_convert_dx\u001b[0m\u001b[1;33m(\u001b[0m\u001b[0myerr\u001b[0m\u001b[1;33m,\u001b[0m \u001b[0my0\u001b[0m\u001b[1;33m,\u001b[0m \u001b[0my\u001b[0m\u001b[1;33m,\u001b[0m \u001b[0mself\u001b[0m\u001b[1;33m.\u001b[0m\u001b[0mconvert_yunits\u001b[0m\u001b[1;33m)\u001b[0m\u001b[1;33m\u001b[0m\u001b[1;33m\u001b[0m\u001b[0m\n\u001b[0;32m   2303\u001b[0m \u001b[1;33m\u001b[0m\u001b[0m\n\u001b[1;32m-> 2304\u001b[1;33m         x, height, width, y, linewidth, hatch = np.broadcast_arrays(\n\u001b[0m\u001b[0;32m   2305\u001b[0m             \u001b[1;31m# Make args iterable too.\u001b[0m\u001b[1;33m\u001b[0m\u001b[1;33m\u001b[0m\u001b[0m\n\u001b[0;32m   2306\u001b[0m             np.atleast_1d(x), height, width, y, linewidth, hatch)\n",
      "\u001b[1;32m<__array_function__ internals>\u001b[0m in \u001b[0;36mbroadcast_arrays\u001b[1;34m(*args, **kwargs)\u001b[0m\n",
      "\u001b[1;32m~\\Anaconda3\\lib\\site-packages\\numpy\\lib\\stride_tricks.py\u001b[0m in \u001b[0;36mbroadcast_arrays\u001b[1;34m(subok, *args)\u001b[0m\n\u001b[0;32m    536\u001b[0m     \u001b[0margs\u001b[0m \u001b[1;33m=\u001b[0m \u001b[1;33m[\u001b[0m\u001b[0mnp\u001b[0m\u001b[1;33m.\u001b[0m\u001b[0marray\u001b[0m\u001b[1;33m(\u001b[0m\u001b[0m_m\u001b[0m\u001b[1;33m,\u001b[0m \u001b[0mcopy\u001b[0m\u001b[1;33m=\u001b[0m\u001b[1;32mFalse\u001b[0m\u001b[1;33m,\u001b[0m \u001b[0msubok\u001b[0m\u001b[1;33m=\u001b[0m\u001b[0msubok\u001b[0m\u001b[1;33m)\u001b[0m \u001b[1;32mfor\u001b[0m \u001b[0m_m\u001b[0m \u001b[1;32min\u001b[0m \u001b[0margs\u001b[0m\u001b[1;33m]\u001b[0m\u001b[1;33m\u001b[0m\u001b[1;33m\u001b[0m\u001b[0m\n\u001b[0;32m    537\u001b[0m \u001b[1;33m\u001b[0m\u001b[0m\n\u001b[1;32m--> 538\u001b[1;33m     \u001b[0mshape\u001b[0m \u001b[1;33m=\u001b[0m \u001b[0m_broadcast_shape\u001b[0m\u001b[1;33m(\u001b[0m\u001b[1;33m*\u001b[0m\u001b[0margs\u001b[0m\u001b[1;33m)\u001b[0m\u001b[1;33m\u001b[0m\u001b[1;33m\u001b[0m\u001b[0m\n\u001b[0m\u001b[0;32m    539\u001b[0m \u001b[1;33m\u001b[0m\u001b[0m\n\u001b[0;32m    540\u001b[0m     \u001b[1;32mif\u001b[0m \u001b[0mall\u001b[0m\u001b[1;33m(\u001b[0m\u001b[0marray\u001b[0m\u001b[1;33m.\u001b[0m\u001b[0mshape\u001b[0m \u001b[1;33m==\u001b[0m \u001b[0mshape\u001b[0m \u001b[1;32mfor\u001b[0m \u001b[0marray\u001b[0m \u001b[1;32min\u001b[0m \u001b[0margs\u001b[0m\u001b[1;33m)\u001b[0m\u001b[1;33m:\u001b[0m\u001b[1;33m\u001b[0m\u001b[1;33m\u001b[0m\u001b[0m\n",
      "\u001b[1;32m~\\Anaconda3\\lib\\site-packages\\numpy\\lib\\stride_tricks.py\u001b[0m in \u001b[0;36m_broadcast_shape\u001b[1;34m(*args)\u001b[0m\n\u001b[0;32m    418\u001b[0m     \u001b[1;31m# use the old-iterator because np.nditer does not handle size 0 arrays\u001b[0m\u001b[1;33m\u001b[0m\u001b[1;33m\u001b[0m\u001b[0m\n\u001b[0;32m    419\u001b[0m     \u001b[1;31m# consistently\u001b[0m\u001b[1;33m\u001b[0m\u001b[1;33m\u001b[0m\u001b[0m\n\u001b[1;32m--> 420\u001b[1;33m     \u001b[0mb\u001b[0m \u001b[1;33m=\u001b[0m \u001b[0mnp\u001b[0m\u001b[1;33m.\u001b[0m\u001b[0mbroadcast\u001b[0m\u001b[1;33m(\u001b[0m\u001b[1;33m*\u001b[0m\u001b[0margs\u001b[0m\u001b[1;33m[\u001b[0m\u001b[1;33m:\u001b[0m\u001b[1;36m32\u001b[0m\u001b[1;33m]\u001b[0m\u001b[1;33m)\u001b[0m\u001b[1;33m\u001b[0m\u001b[1;33m\u001b[0m\u001b[0m\n\u001b[0m\u001b[0;32m    421\u001b[0m     \u001b[1;31m# unfortunately, it cannot handle 32 or more arguments directly\u001b[0m\u001b[1;33m\u001b[0m\u001b[1;33m\u001b[0m\u001b[0m\n\u001b[0;32m    422\u001b[0m     \u001b[1;32mfor\u001b[0m \u001b[0mpos\u001b[0m \u001b[1;32min\u001b[0m \u001b[0mrange\u001b[0m\u001b[1;33m(\u001b[0m\u001b[1;36m32\u001b[0m\u001b[1;33m,\u001b[0m \u001b[0mlen\u001b[0m\u001b[1;33m(\u001b[0m\u001b[0margs\u001b[0m\u001b[1;33m)\u001b[0m\u001b[1;33m,\u001b[0m \u001b[1;36m31\u001b[0m\u001b[1;33m)\u001b[0m\u001b[1;33m:\u001b[0m\u001b[1;33m\u001b[0m\u001b[1;33m\u001b[0m\u001b[0m\n",
      "\u001b[1;31mValueError\u001b[0m: shape mismatch: objects cannot be broadcast to a single shape"
     ]
    },
    {
     "data": {
      "image/png": "[encoded data removed]",
      "text/plain": [
       "<Figure size 432x288 with 1 Axes>"
      ]
     },
     "metadata": {
      "needs_background": "light"
     },
     "output_type": "display_data"
    }
   ],
   "source": [
    "plt.bar(df['year_of_release'], df.groupby('year_of_release').count()['name'])"
   ]
  },
  {
   "cell_type": "markdown",
   "id": "65c85e10",
   "metadata": {},
   "source": [
    "<div style=\"border-radius: 3px; border: 2px solid black; padding: 0px;\">      \n",
    "<div class=\"alert alert-warning\">\n",
    "<s><b>Комментарий ревьюера ⚠️:</b> \n",
    "    \n",
    "Рекомендую также оформить графики: подписать оси (функции plt.xlabel(), plt.ylabel())\n",
    "</s>    \n",
    "</div>\n",
    "</div>"
   ]
  },
  {
   "cell_type": "markdown",
   "id": "c03c3e5f",
   "metadata": {},
   "source": [
    "Число продаваемых игр за год до 1994 года не превышает 60. Исключим этот период из анализируемых данных."
   ]
  },
  {
   "cell_type": "markdown",
   "id": "fc6a08be",
   "metadata": {},
   "source": [
    "<div style=\"border-radius: 3px; border: 2px solid black; padding: 0px;\">     \n",
    "<div class=\"alert alert-success\">\n",
    "<b>Комментарий ревьюера ✔️:</b> \n",
    "    \n",
    "Отличное решение 😉    \n",
    "\n",
    "</div>\n",
    "</div>"
   ]
  },
  {
   "cell_type": "code",
   "execution_count": 24,
   "id": "ebadc104",
   "metadata": {},
   "outputs": [
    {
     "name": "stdout",
     "output_type": "stream",
     "text": [
      "<class 'pandas.core.frame.DataFrame'>\n",
      "Int64Index: 16077 entries, 0 to 16443\n",
      "Data columns (total 12 columns):\n",
      " #   Column           Non-Null Count  Dtype  \n",
      "---  ------           --------------  -----  \n",
      " 0   name             16077 non-null  object \n",
      " 1   platform         16077 non-null  object \n",
      " 2   year_of_release  16077 non-null  int64  \n",
      " 3   genre            16077 non-null  object \n",
      " 4   na_sales         16077 non-null  float64\n",
      " 5   eu_sales         16077 non-null  float64\n",
      " 6   jp_sales         16077 non-null  float64\n",
      " 7   other_sales      16077 non-null  float64\n",
      " 8   critic_score     7980 non-null   float64\n",
      " 9   user_score       7460 non-null   float64\n",
      " 10  rating           9764 non-null   object \n",
      " 11  total_sales      16077 non-null  float64\n",
      "dtypes: float64(7), int64(1), object(4)\n",
      "memory usage: 1.6+ MB\n"
     ]
    }
   ],
   "source": [
    "df_94 = df[df['year_of_release'] >= 1994]\n",
    "df_94.info()"
   ]
  },
  {
   "cell_type": "markdown",
   "id": "4e1dc8b4",
   "metadata": {},
   "source": [
    "### Анализ платформ"
   ]
  },
  {
   "cell_type": "markdown",
   "id": "6cea542a",
   "metadata": {},
   "source": [
    "Составим сводную таблицу для оценки динамики по различным платформам."
   ]
  },
  {
   "cell_type": "code",
   "execution_count": 25,
   "id": "d1661be7",
   "metadata": {},
   "outputs": [
    {
     "data": {
      "text/html": [
       "<div>\n",
       "<style scoped>\n",
       "    .dataframe tbody tr th:only-of-type {\n",
       "        vertical-align: middle;\n",
       "    }\n",
       "\n",
       "    .dataframe tbody tr th {\n",
       "        vertical-align: top;\n",
       "    }\n",
       "\n",
       "    .dataframe thead th {\n",
       "        text-align: right;\n",
       "    }\n",
       "</style>\n",
       "<table border=\"1\" class=\"dataframe\">\n",
       "  <thead>\n",
       "    <tr style=\"text-align: right;\">\n",
       "      <th>year_of_release</th>\n",
       "      <th>1994</th>\n",
       "      <th>1995</th>\n",
       "      <th>1996</th>\n",
       "      <th>1997</th>\n",
       "      <th>1998</th>\n",
       "      <th>1999</th>\n",
       "      <th>2000</th>\n",
       "      <th>2001</th>\n",
       "      <th>2002</th>\n",
       "      <th>2003</th>\n",
       "      <th>...</th>\n",
       "      <th>2007</th>\n",
       "      <th>2008</th>\n",
       "      <th>2009</th>\n",
       "      <th>2010</th>\n",
       "      <th>2011</th>\n",
       "      <th>2012</th>\n",
       "      <th>2013</th>\n",
       "      <th>2014</th>\n",
       "      <th>2015</th>\n",
       "      <th>2016</th>\n",
       "    </tr>\n",
       "    <tr>\n",
       "      <th>platform</th>\n",
       "      <th></th>\n",
       "      <th></th>\n",
       "      <th></th>\n",
       "      <th></th>\n",
       "      <th></th>\n",
       "      <th></th>\n",
       "      <th></th>\n",
       "      <th></th>\n",
       "      <th></th>\n",
       "      <th></th>\n",
       "      <th></th>\n",
       "      <th></th>\n",
       "      <th></th>\n",
       "      <th></th>\n",
       "      <th></th>\n",
       "      <th></th>\n",
       "      <th></th>\n",
       "      <th></th>\n",
       "      <th></th>\n",
       "      <th></th>\n",
       "      <th></th>\n",
       "    </tr>\n",
       "  </thead>\n",
       "  <tbody>\n",
       "    <tr>\n",
       "      <th>3DO</th>\n",
       "      <td>0.02</td>\n",
       "      <td>0.08</td>\n",
       "      <td>NaN</td>\n",
       "      <td>NaN</td>\n",
       "      <td>NaN</td>\n",
       "      <td>NaN</td>\n",
       "      <td>NaN</td>\n",
       "      <td>NaN</td>\n",
       "      <td>NaN</td>\n",
       "      <td>NaN</td>\n",
       "      <td>...</td>\n",
       "      <td>NaN</td>\n",
       "      <td>NaN</td>\n",
       "      <td>NaN</td>\n",
       "      <td>NaN</td>\n",
       "      <td>NaN</td>\n",
       "      <td>NaN</td>\n",
       "      <td>NaN</td>\n",
       "      <td>NaN</td>\n",
       "      <td>NaN</td>\n",
       "      <td>NaN</td>\n",
       "    </tr>\n",
       "    <tr>\n",
       "      <th>3DS</th>\n",
       "      <td>NaN</td>\n",
       "      <td>NaN</td>\n",
       "      <td>NaN</td>\n",
       "      <td>NaN</td>\n",
       "      <td>NaN</td>\n",
       "      <td>NaN</td>\n",
       "      <td>NaN</td>\n",
       "      <td>NaN</td>\n",
       "      <td>NaN</td>\n",
       "      <td>NaN</td>\n",
       "      <td>...</td>\n",
       "      <td>NaN</td>\n",
       "      <td>NaN</td>\n",
       "      <td>NaN</td>\n",
       "      <td>NaN</td>\n",
       "      <td>63.20</td>\n",
       "      <td>51.36</td>\n",
       "      <td>56.57</td>\n",
       "      <td>43.76</td>\n",
       "      <td>27.78</td>\n",
       "      <td>15.14</td>\n",
       "    </tr>\n",
       "    <tr>\n",
       "      <th>DC</th>\n",
       "      <td>NaN</td>\n",
       "      <td>NaN</td>\n",
       "      <td>NaN</td>\n",
       "      <td>NaN</td>\n",
       "      <td>3.38</td>\n",
       "      <td>5.16</td>\n",
       "      <td>5.99</td>\n",
       "      <td>1.07</td>\n",
       "      <td>0.29</td>\n",
       "      <td>NaN</td>\n",
       "      <td>...</td>\n",
       "      <td>0.02</td>\n",
       "      <td>0.04</td>\n",
       "      <td>NaN</td>\n",
       "      <td>NaN</td>\n",
       "      <td>NaN</td>\n",
       "      <td>NaN</td>\n",
       "      <td>NaN</td>\n",
       "      <td>NaN</td>\n",
       "      <td>NaN</td>\n",
       "      <td>NaN</td>\n",
       "    </tr>\n",
       "    <tr>\n",
       "      <th>DS</th>\n",
       "      <td>NaN</td>\n",
       "      <td>NaN</td>\n",
       "      <td>NaN</td>\n",
       "      <td>NaN</td>\n",
       "      <td>NaN</td>\n",
       "      <td>NaN</td>\n",
       "      <td>NaN</td>\n",
       "      <td>NaN</td>\n",
       "      <td>NaN</td>\n",
       "      <td>NaN</td>\n",
       "      <td>...</td>\n",
       "      <td>146.94</td>\n",
       "      <td>145.31</td>\n",
       "      <td>119.54</td>\n",
       "      <td>85.02</td>\n",
       "      <td>26.18</td>\n",
       "      <td>11.01</td>\n",
       "      <td>1.54</td>\n",
       "      <td>NaN</td>\n",
       "      <td>NaN</td>\n",
       "      <td>NaN</td>\n",
       "    </tr>\n",
       "    <tr>\n",
       "      <th>GB</th>\n",
       "      <td>12.18</td>\n",
       "      <td>3.60</td>\n",
       "      <td>36.03</td>\n",
       "      <td>6.37</td>\n",
       "      <td>26.90</td>\n",
       "      <td>38.00</td>\n",
       "      <td>19.76</td>\n",
       "      <td>9.24</td>\n",
       "      <td>NaN</td>\n",
       "      <td>NaN</td>\n",
       "      <td>...</td>\n",
       "      <td>NaN</td>\n",
       "      <td>NaN</td>\n",
       "      <td>NaN</td>\n",
       "      <td>NaN</td>\n",
       "      <td>NaN</td>\n",
       "      <td>NaN</td>\n",
       "      <td>NaN</td>\n",
       "      <td>NaN</td>\n",
       "      <td>NaN</td>\n",
       "      <td>NaN</td>\n",
       "    </tr>\n",
       "    <tr>\n",
       "      <th>GBA</th>\n",
       "      <td>NaN</td>\n",
       "      <td>NaN</td>\n",
       "      <td>NaN</td>\n",
       "      <td>NaN</td>\n",
       "      <td>NaN</td>\n",
       "      <td>NaN</td>\n",
       "      <td>0.07</td>\n",
       "      <td>61.53</td>\n",
       "      <td>74.16</td>\n",
       "      <td>56.67</td>\n",
       "      <td>...</td>\n",
       "      <td>3.40</td>\n",
       "      <td>NaN</td>\n",
       "      <td>NaN</td>\n",
       "      <td>NaN</td>\n",
       "      <td>NaN</td>\n",
       "      <td>NaN</td>\n",
       "      <td>NaN</td>\n",
       "      <td>NaN</td>\n",
       "      <td>NaN</td>\n",
       "      <td>NaN</td>\n",
       "    </tr>\n",
       "    <tr>\n",
       "      <th>GC</th>\n",
       "      <td>NaN</td>\n",
       "      <td>NaN</td>\n",
       "      <td>NaN</td>\n",
       "      <td>NaN</td>\n",
       "      <td>NaN</td>\n",
       "      <td>NaN</td>\n",
       "      <td>NaN</td>\n",
       "      <td>26.34</td>\n",
       "      <td>51.81</td>\n",
       "      <td>50.61</td>\n",
       "      <td>...</td>\n",
       "      <td>0.27</td>\n",
       "      <td>NaN</td>\n",
       "      <td>NaN</td>\n",
       "      <td>NaN</td>\n",
       "      <td>NaN</td>\n",
       "      <td>NaN</td>\n",
       "      <td>NaN</td>\n",
       "      <td>NaN</td>\n",
       "      <td>NaN</td>\n",
       "      <td>NaN</td>\n",
       "    </tr>\n",
       "    <tr>\n",
       "      <th>GEN</th>\n",
       "      <td>8.13</td>\n",
       "      <td>NaN</td>\n",
       "      <td>NaN</td>\n",
       "      <td>NaN</td>\n",
       "      <td>NaN</td>\n",
       "      <td>NaN</td>\n",
       "      <td>NaN</td>\n",
       "      <td>NaN</td>\n",
       "      <td>NaN</td>\n",
       "      <td>NaN</td>\n",
       "      <td>...</td>\n",
       "      <td>NaN</td>\n",
       "      <td>NaN</td>\n",
       "      <td>NaN</td>\n",
       "      <td>NaN</td>\n",
       "      <td>NaN</td>\n",
       "      <td>NaN</td>\n",
       "      <td>NaN</td>\n",
       "      <td>NaN</td>\n",
       "      <td>NaN</td>\n",
       "      <td>NaN</td>\n",
       "    </tr>\n",
       "    <tr>\n",
       "      <th>N64</th>\n",
       "      <td>NaN</td>\n",
       "      <td>NaN</td>\n",
       "      <td>34.10</td>\n",
       "      <td>39.50</td>\n",
       "      <td>49.24</td>\n",
       "      <td>57.87</td>\n",
       "      <td>33.97</td>\n",
       "      <td>3.25</td>\n",
       "      <td>0.08</td>\n",
       "      <td>NaN</td>\n",
       "      <td>...</td>\n",
       "      <td>NaN</td>\n",
       "      <td>NaN</td>\n",
       "      <td>NaN</td>\n",
       "      <td>NaN</td>\n",
       "      <td>NaN</td>\n",
       "      <td>NaN</td>\n",
       "      <td>NaN</td>\n",
       "      <td>NaN</td>\n",
       "      <td>NaN</td>\n",
       "      <td>NaN</td>\n",
       "    </tr>\n",
       "    <tr>\n",
       "      <th>NES</th>\n",
       "      <td>0.11</td>\n",
       "      <td>NaN</td>\n",
       "      <td>NaN</td>\n",
       "      <td>NaN</td>\n",
       "      <td>NaN</td>\n",
       "      <td>NaN</td>\n",
       "      <td>NaN</td>\n",
       "      <td>NaN</td>\n",
       "      <td>NaN</td>\n",
       "      <td>NaN</td>\n",
       "      <td>...</td>\n",
       "      <td>NaN</td>\n",
       "      <td>NaN</td>\n",
       "      <td>NaN</td>\n",
       "      <td>NaN</td>\n",
       "      <td>NaN</td>\n",
       "      <td>NaN</td>\n",
       "      <td>NaN</td>\n",
       "      <td>NaN</td>\n",
       "      <td>NaN</td>\n",
       "      <td>NaN</td>\n",
       "    </tr>\n",
       "    <tr>\n",
       "      <th>NG</th>\n",
       "      <td>0.80</td>\n",
       "      <td>0.33</td>\n",
       "      <td>0.10</td>\n",
       "      <td>NaN</td>\n",
       "      <td>NaN</td>\n",
       "      <td>NaN</td>\n",
       "      <td>NaN</td>\n",
       "      <td>NaN</td>\n",
       "      <td>NaN</td>\n",
       "      <td>NaN</td>\n",
       "      <td>...</td>\n",
       "      <td>NaN</td>\n",
       "      <td>NaN</td>\n",
       "      <td>NaN</td>\n",
       "      <td>NaN</td>\n",
       "      <td>NaN</td>\n",
       "      <td>NaN</td>\n",
       "      <td>NaN</td>\n",
       "      <td>NaN</td>\n",
       "      <td>NaN</td>\n",
       "      <td>NaN</td>\n",
       "    </tr>\n",
       "    <tr>\n",
       "      <th>PC</th>\n",
       "      <td>12.87</td>\n",
       "      <td>4.22</td>\n",
       "      <td>10.58</td>\n",
       "      <td>11.27</td>\n",
       "      <td>3.26</td>\n",
       "      <td>4.74</td>\n",
       "      <td>4.66</td>\n",
       "      <td>5.47</td>\n",
       "      <td>8.57</td>\n",
       "      <td>8.84</td>\n",
       "      <td>...</td>\n",
       "      <td>9.28</td>\n",
       "      <td>12.42</td>\n",
       "      <td>16.91</td>\n",
       "      <td>24.28</td>\n",
       "      <td>35.03</td>\n",
       "      <td>23.22</td>\n",
       "      <td>12.38</td>\n",
       "      <td>13.28</td>\n",
       "      <td>8.52</td>\n",
       "      <td>5.25</td>\n",
       "    </tr>\n",
       "    <tr>\n",
       "      <th>PCFX</th>\n",
       "      <td>NaN</td>\n",
       "      <td>NaN</td>\n",
       "      <td>0.03</td>\n",
       "      <td>NaN</td>\n",
       "      <td>NaN</td>\n",
       "      <td>NaN</td>\n",
       "      <td>NaN</td>\n",
       "      <td>NaN</td>\n",
       "      <td>NaN</td>\n",
       "      <td>NaN</td>\n",
       "      <td>...</td>\n",
       "      <td>NaN</td>\n",
       "      <td>NaN</td>\n",
       "      <td>NaN</td>\n",
       "      <td>NaN</td>\n",
       "      <td>NaN</td>\n",
       "      <td>NaN</td>\n",
       "      <td>NaN</td>\n",
       "      <td>NaN</td>\n",
       "      <td>NaN</td>\n",
       "      <td>NaN</td>\n",
       "    </tr>\n",
       "    <tr>\n",
       "      <th>PS</th>\n",
       "      <td>6.03</td>\n",
       "      <td>35.96</td>\n",
       "      <td>94.70</td>\n",
       "      <td>136.17</td>\n",
       "      <td>169.49</td>\n",
       "      <td>144.53</td>\n",
       "      <td>96.37</td>\n",
       "      <td>35.59</td>\n",
       "      <td>6.67</td>\n",
       "      <td>2.07</td>\n",
       "      <td>...</td>\n",
       "      <td>NaN</td>\n",
       "      <td>NaN</td>\n",
       "      <td>NaN</td>\n",
       "      <td>NaN</td>\n",
       "      <td>NaN</td>\n",
       "      <td>NaN</td>\n",
       "      <td>NaN</td>\n",
       "      <td>NaN</td>\n",
       "      <td>NaN</td>\n",
       "      <td>NaN</td>\n",
       "    </tr>\n",
       "    <tr>\n",
       "      <th>PS2</th>\n",
       "      <td>NaN</td>\n",
       "      <td>NaN</td>\n",
       "      <td>NaN</td>\n",
       "      <td>NaN</td>\n",
       "      <td>NaN</td>\n",
       "      <td>NaN</td>\n",
       "      <td>39.17</td>\n",
       "      <td>166.43</td>\n",
       "      <td>205.38</td>\n",
       "      <td>184.31</td>\n",
       "      <td>...</td>\n",
       "      <td>75.99</td>\n",
       "      <td>53.90</td>\n",
       "      <td>26.40</td>\n",
       "      <td>5.64</td>\n",
       "      <td>0.45</td>\n",
       "      <td>NaN</td>\n",
       "      <td>NaN</td>\n",
       "      <td>NaN</td>\n",
       "      <td>NaN</td>\n",
       "      <td>NaN</td>\n",
       "    </tr>\n",
       "    <tr>\n",
       "      <th>PS3</th>\n",
       "      <td>NaN</td>\n",
       "      <td>NaN</td>\n",
       "      <td>NaN</td>\n",
       "      <td>NaN</td>\n",
       "      <td>NaN</td>\n",
       "      <td>NaN</td>\n",
       "      <td>NaN</td>\n",
       "      <td>NaN</td>\n",
       "      <td>NaN</td>\n",
       "      <td>NaN</td>\n",
       "      <td>...</td>\n",
       "      <td>73.19</td>\n",
       "      <td>118.52</td>\n",
       "      <td>130.93</td>\n",
       "      <td>142.17</td>\n",
       "      <td>156.78</td>\n",
       "      <td>107.36</td>\n",
       "      <td>113.25</td>\n",
       "      <td>47.76</td>\n",
       "      <td>16.82</td>\n",
       "      <td>3.60</td>\n",
       "    </tr>\n",
       "    <tr>\n",
       "      <th>PS4</th>\n",
       "      <td>NaN</td>\n",
       "      <td>NaN</td>\n",
       "      <td>NaN</td>\n",
       "      <td>NaN</td>\n",
       "      <td>NaN</td>\n",
       "      <td>NaN</td>\n",
       "      <td>NaN</td>\n",
       "      <td>NaN</td>\n",
       "      <td>NaN</td>\n",
       "      <td>NaN</td>\n",
       "      <td>...</td>\n",
       "      <td>NaN</td>\n",
       "      <td>NaN</td>\n",
       "      <td>NaN</td>\n",
       "      <td>NaN</td>\n",
       "      <td>NaN</td>\n",
       "      <td>NaN</td>\n",
       "      <td>25.99</td>\n",
       "      <td>100.00</td>\n",
       "      <td>118.90</td>\n",
       "      <td>69.25</td>\n",
       "    </tr>\n",
       "    <tr>\n",
       "      <th>PSP</th>\n",
       "      <td>NaN</td>\n",
       "      <td>NaN</td>\n",
       "      <td>NaN</td>\n",
       "      <td>NaN</td>\n",
       "      <td>NaN</td>\n",
       "      <td>NaN</td>\n",
       "      <td>NaN</td>\n",
       "      <td>NaN</td>\n",
       "      <td>NaN</td>\n",
       "      <td>NaN</td>\n",
       "      <td>...</td>\n",
       "      <td>46.93</td>\n",
       "      <td>34.55</td>\n",
       "      <td>37.78</td>\n",
       "      <td>35.04</td>\n",
       "      <td>17.82</td>\n",
       "      <td>7.69</td>\n",
       "      <td>3.14</td>\n",
       "      <td>0.24</td>\n",
       "      <td>0.12</td>\n",
       "      <td>NaN</td>\n",
       "    </tr>\n",
       "    <tr>\n",
       "      <th>PSV</th>\n",
       "      <td>NaN</td>\n",
       "      <td>NaN</td>\n",
       "      <td>NaN</td>\n",
       "      <td>NaN</td>\n",
       "      <td>NaN</td>\n",
       "      <td>NaN</td>\n",
       "      <td>NaN</td>\n",
       "      <td>NaN</td>\n",
       "      <td>NaN</td>\n",
       "      <td>NaN</td>\n",
       "      <td>...</td>\n",
       "      <td>NaN</td>\n",
       "      <td>NaN</td>\n",
       "      <td>NaN</td>\n",
       "      <td>NaN</td>\n",
       "      <td>4.63</td>\n",
       "      <td>16.19</td>\n",
       "      <td>10.59</td>\n",
       "      <td>11.90</td>\n",
       "      <td>6.25</td>\n",
       "      <td>4.25</td>\n",
       "    </tr>\n",
       "    <tr>\n",
       "      <th>SAT</th>\n",
       "      <td>3.65</td>\n",
       "      <td>11.57</td>\n",
       "      <td>7.69</td>\n",
       "      <td>6.77</td>\n",
       "      <td>3.82</td>\n",
       "      <td>0.09</td>\n",
       "      <td>NaN</td>\n",
       "      <td>NaN</td>\n",
       "      <td>NaN</td>\n",
       "      <td>NaN</td>\n",
       "      <td>...</td>\n",
       "      <td>NaN</td>\n",
       "      <td>NaN</td>\n",
       "      <td>NaN</td>\n",
       "      <td>NaN</td>\n",
       "      <td>NaN</td>\n",
       "      <td>NaN</td>\n",
       "      <td>NaN</td>\n",
       "      <td>NaN</td>\n",
       "      <td>NaN</td>\n",
       "      <td>NaN</td>\n",
       "    </tr>\n",
       "    <tr>\n",
       "      <th>SCD</th>\n",
       "      <td>0.36</td>\n",
       "      <td>NaN</td>\n",
       "      <td>NaN</td>\n",
       "      <td>NaN</td>\n",
       "      <td>NaN</td>\n",
       "      <td>NaN</td>\n",
       "      <td>NaN</td>\n",
       "      <td>NaN</td>\n",
       "      <td>NaN</td>\n",
       "      <td>NaN</td>\n",
       "      <td>...</td>\n",
       "      <td>NaN</td>\n",
       "      <td>NaN</td>\n",
       "      <td>NaN</td>\n",
       "      <td>NaN</td>\n",
       "      <td>NaN</td>\n",
       "      <td>NaN</td>\n",
       "      <td>NaN</td>\n",
       "      <td>NaN</td>\n",
       "      <td>NaN</td>\n",
       "      <td>NaN</td>\n",
       "    </tr>\n",
       "    <tr>\n",
       "      <th>SNES</th>\n",
       "      <td>35.08</td>\n",
       "      <td>32.20</td>\n",
       "      <td>15.92</td>\n",
       "      <td>0.99</td>\n",
       "      <td>0.22</td>\n",
       "      <td>0.26</td>\n",
       "      <td>NaN</td>\n",
       "      <td>NaN</td>\n",
       "      <td>NaN</td>\n",
       "      <td>NaN</td>\n",
       "      <td>...</td>\n",
       "      <td>NaN</td>\n",
       "      <td>NaN</td>\n",
       "      <td>NaN</td>\n",
       "      <td>NaN</td>\n",
       "      <td>NaN</td>\n",
       "      <td>NaN</td>\n",
       "      <td>NaN</td>\n",
       "      <td>NaN</td>\n",
       "      <td>NaN</td>\n",
       "      <td>NaN</td>\n",
       "    </tr>\n",
       "    <tr>\n",
       "      <th>TG16</th>\n",
       "      <td>NaN</td>\n",
       "      <td>0.16</td>\n",
       "      <td>NaN</td>\n",
       "      <td>NaN</td>\n",
       "      <td>NaN</td>\n",
       "      <td>NaN</td>\n",
       "      <td>NaN</td>\n",
       "      <td>NaN</td>\n",
       "      <td>NaN</td>\n",
       "      <td>NaN</td>\n",
       "      <td>...</td>\n",
       "      <td>NaN</td>\n",
       "      <td>NaN</td>\n",
       "      <td>NaN</td>\n",
       "      <td>NaN</td>\n",
       "      <td>NaN</td>\n",
       "      <td>NaN</td>\n",
       "      <td>NaN</td>\n",
       "      <td>NaN</td>\n",
       "      <td>NaN</td>\n",
       "      <td>NaN</td>\n",
       "    </tr>\n",
       "    <tr>\n",
       "      <th>WS</th>\n",
       "      <td>NaN</td>\n",
       "      <td>NaN</td>\n",
       "      <td>NaN</td>\n",
       "      <td>NaN</td>\n",
       "      <td>NaN</td>\n",
       "      <td>0.46</td>\n",
       "      <td>0.68</td>\n",
       "      <td>0.28</td>\n",
       "      <td>NaN</td>\n",
       "      <td>NaN</td>\n",
       "      <td>...</td>\n",
       "      <td>NaN</td>\n",
       "      <td>NaN</td>\n",
       "      <td>NaN</td>\n",
       "      <td>NaN</td>\n",
       "      <td>NaN</td>\n",
       "      <td>NaN</td>\n",
       "      <td>NaN</td>\n",
       "      <td>NaN</td>\n",
       "      <td>NaN</td>\n",
       "      <td>NaN</td>\n",
       "    </tr>\n",
       "    <tr>\n",
       "      <th>Wii</th>\n",
       "      <td>NaN</td>\n",
       "      <td>NaN</td>\n",
       "      <td>NaN</td>\n",
       "      <td>NaN</td>\n",
       "      <td>NaN</td>\n",
       "      <td>NaN</td>\n",
       "      <td>NaN</td>\n",
       "      <td>NaN</td>\n",
       "      <td>NaN</td>\n",
       "      <td>NaN</td>\n",
       "      <td>...</td>\n",
       "      <td>152.77</td>\n",
       "      <td>171.32</td>\n",
       "      <td>206.97</td>\n",
       "      <td>127.95</td>\n",
       "      <td>59.65</td>\n",
       "      <td>21.71</td>\n",
       "      <td>8.59</td>\n",
       "      <td>3.75</td>\n",
       "      <td>1.14</td>\n",
       "      <td>0.18</td>\n",
       "    </tr>\n",
       "    <tr>\n",
       "      <th>WiiU</th>\n",
       "      <td>NaN</td>\n",
       "      <td>NaN</td>\n",
       "      <td>NaN</td>\n",
       "      <td>NaN</td>\n",
       "      <td>NaN</td>\n",
       "      <td>NaN</td>\n",
       "      <td>NaN</td>\n",
       "      <td>NaN</td>\n",
       "      <td>NaN</td>\n",
       "      <td>NaN</td>\n",
       "      <td>...</td>\n",
       "      <td>NaN</td>\n",
       "      <td>NaN</td>\n",
       "      <td>NaN</td>\n",
       "      <td>NaN</td>\n",
       "      <td>NaN</td>\n",
       "      <td>17.56</td>\n",
       "      <td>21.65</td>\n",
       "      <td>22.03</td>\n",
       "      <td>16.35</td>\n",
       "      <td>4.60</td>\n",
       "    </tr>\n",
       "    <tr>\n",
       "      <th>X360</th>\n",
       "      <td>NaN</td>\n",
       "      <td>NaN</td>\n",
       "      <td>NaN</td>\n",
       "      <td>NaN</td>\n",
       "      <td>NaN</td>\n",
       "      <td>NaN</td>\n",
       "      <td>NaN</td>\n",
       "      <td>NaN</td>\n",
       "      <td>NaN</td>\n",
       "      <td>NaN</td>\n",
       "      <td>...</td>\n",
       "      <td>95.41</td>\n",
       "      <td>135.26</td>\n",
       "      <td>120.29</td>\n",
       "      <td>170.03</td>\n",
       "      <td>143.84</td>\n",
       "      <td>99.74</td>\n",
       "      <td>88.58</td>\n",
       "      <td>34.74</td>\n",
       "      <td>11.96</td>\n",
       "      <td>1.52</td>\n",
       "    </tr>\n",
       "    <tr>\n",
       "      <th>XB</th>\n",
       "      <td>NaN</td>\n",
       "      <td>NaN</td>\n",
       "      <td>NaN</td>\n",
       "      <td>NaN</td>\n",
       "      <td>NaN</td>\n",
       "      <td>NaN</td>\n",
       "      <td>0.99</td>\n",
       "      <td>22.26</td>\n",
       "      <td>48.01</td>\n",
       "      <td>55.04</td>\n",
       "      <td>...</td>\n",
       "      <td>0.55</td>\n",
       "      <td>0.18</td>\n",
       "      <td>NaN</td>\n",
       "      <td>NaN</td>\n",
       "      <td>NaN</td>\n",
       "      <td>NaN</td>\n",
       "      <td>NaN</td>\n",
       "      <td>NaN</td>\n",
       "      <td>NaN</td>\n",
       "      <td>NaN</td>\n",
       "    </tr>\n",
       "    <tr>\n",
       "      <th>XOne</th>\n",
       "      <td>NaN</td>\n",
       "      <td>NaN</td>\n",
       "      <td>NaN</td>\n",
       "      <td>NaN</td>\n",
       "      <td>NaN</td>\n",
       "      <td>NaN</td>\n",
       "      <td>NaN</td>\n",
       "      <td>NaN</td>\n",
       "      <td>NaN</td>\n",
       "      <td>NaN</td>\n",
       "      <td>...</td>\n",
       "      <td>NaN</td>\n",
       "      <td>NaN</td>\n",
       "      <td>NaN</td>\n",
       "      <td>NaN</td>\n",
       "      <td>NaN</td>\n",
       "      <td>NaN</td>\n",
       "      <td>18.96</td>\n",
       "      <td>54.07</td>\n",
       "      <td>60.14</td>\n",
       "      <td>26.15</td>\n",
       "    </tr>\n",
       "  </tbody>\n",
       "</table>\n",
       "<p>29 rows × 23 columns</p>\n",
       "</div>"
      ],
      "text/plain": [
       "year_of_release   1994   1995   1996    1997    1998    1999   2000    2001  \\\n",
       "platform                                                                      \n",
       "3DO               0.02   0.08    NaN     NaN     NaN     NaN    NaN     NaN   \n",
       "3DS                NaN    NaN    NaN     NaN     NaN     NaN    NaN     NaN   \n",
       "DC                 NaN    NaN    NaN     NaN    3.38    5.16   5.99    1.07   \n",
       "DS                 NaN    NaN    NaN     NaN     NaN     NaN    NaN     NaN   \n",
       "GB               12.18   3.60  36.03    6.37   26.90   38.00  19.76    9.24   \n",
       "GBA                NaN    NaN    NaN     NaN     NaN     NaN   0.07   61.53   \n",
       "GC                 NaN    NaN    NaN     NaN     NaN     NaN    NaN   26.34   \n",
       "GEN               8.13    NaN    NaN     NaN     NaN     NaN    NaN     NaN   \n",
       "N64                NaN    NaN  34.10   39.50   49.24   57.87  33.97    3.25   \n",
       "NES               0.11    NaN    NaN     NaN     NaN     NaN    NaN     NaN   \n",
       "NG                0.80   0.33   0.10     NaN     NaN     NaN    NaN     NaN   \n",
       "PC               12.87   4.22  10.58   11.27    3.26    4.74   4.66    5.47   \n",
       "PCFX               NaN    NaN   0.03     NaN     NaN     NaN    NaN     NaN   \n",
       "PS                6.03  35.96  94.70  136.17  169.49  144.53  96.37   35.59   \n",
       "PS2                NaN    NaN    NaN     NaN     NaN     NaN  39.17  166.43   \n",
       "PS3                NaN    NaN    NaN     NaN     NaN     NaN    NaN     NaN   \n",
       "PS4                NaN    NaN    NaN     NaN     NaN     NaN    NaN     NaN   \n",
       "PSP                NaN    NaN    NaN     NaN     NaN     NaN    NaN     NaN   \n",
       "PSV                NaN    NaN    NaN     NaN     NaN     NaN    NaN     NaN   \n",
       "SAT               3.65  11.57   7.69    6.77    3.82    0.09    NaN     NaN   \n",
       "SCD               0.36    NaN    NaN     NaN     NaN     NaN    NaN     NaN   \n",
       "SNES             35.08  32.20  15.92    0.99    0.22    0.26    NaN     NaN   \n",
       "TG16               NaN   0.16    NaN     NaN     NaN     NaN    NaN     NaN   \n",
       "WS                 NaN    NaN    NaN     NaN     NaN    0.46   0.68    0.28   \n",
       "Wii                NaN    NaN    NaN     NaN     NaN     NaN    NaN     NaN   \n",
       "WiiU               NaN    NaN    NaN     NaN     NaN     NaN    NaN     NaN   \n",
       "X360               NaN    NaN    NaN     NaN     NaN     NaN    NaN     NaN   \n",
       "XB                 NaN    NaN    NaN     NaN     NaN     NaN   0.99   22.26   \n",
       "XOne               NaN    NaN    NaN     NaN     NaN     NaN    NaN     NaN   \n",
       "\n",
       "year_of_release    2002    2003  ...    2007    2008    2009    2010    2011  \\\n",
       "platform                         ...                                           \n",
       "3DO                 NaN     NaN  ...     NaN     NaN     NaN     NaN     NaN   \n",
       "3DS                 NaN     NaN  ...     NaN     NaN     NaN     NaN   63.20   \n",
       "DC                 0.29     NaN  ...    0.02    0.04     NaN     NaN     NaN   \n",
       "DS                  NaN     NaN  ...  146.94  145.31  119.54   85.02   26.18   \n",
       "GB                  NaN     NaN  ...     NaN     NaN     NaN     NaN     NaN   \n",
       "GBA               74.16   56.67  ...    3.40     NaN     NaN     NaN     NaN   \n",
       "GC                51.81   50.61  ...    0.27     NaN     NaN     NaN     NaN   \n",
       "GEN                 NaN     NaN  ...     NaN     NaN     NaN     NaN     NaN   \n",
       "N64                0.08     NaN  ...     NaN     NaN     NaN     NaN     NaN   \n",
       "NES                 NaN     NaN  ...     NaN     NaN     NaN     NaN     NaN   \n",
       "NG                  NaN     NaN  ...     NaN     NaN     NaN     NaN     NaN   \n",
       "PC                 8.57    8.84  ...    9.28   12.42   16.91   24.28   35.03   \n",
       "PCFX                NaN     NaN  ...     NaN     NaN     NaN     NaN     NaN   \n",
       "PS                 6.67    2.07  ...     NaN     NaN     NaN     NaN     NaN   \n",
       "PS2              205.38  184.31  ...   75.99   53.90   26.40    5.64    0.45   \n",
       "PS3                 NaN     NaN  ...   73.19  118.52  130.93  142.17  156.78   \n",
       "PS4                 NaN     NaN  ...     NaN     NaN     NaN     NaN     NaN   \n",
       "PSP                 NaN     NaN  ...   46.93   34.55   37.78   35.04   17.82   \n",
       "PSV                 NaN     NaN  ...     NaN     NaN     NaN     NaN    4.63   \n",
       "SAT                 NaN     NaN  ...     NaN     NaN     NaN     NaN     NaN   \n",
       "SCD                 NaN     NaN  ...     NaN     NaN     NaN     NaN     NaN   \n",
       "SNES                NaN     NaN  ...     NaN     NaN     NaN     NaN     NaN   \n",
       "TG16                NaN     NaN  ...     NaN     NaN     NaN     NaN     NaN   \n",
       "WS                  NaN     NaN  ...     NaN     NaN     NaN     NaN     NaN   \n",
       "Wii                 NaN     NaN  ...  152.77  171.32  206.97  127.95   59.65   \n",
       "WiiU                NaN     NaN  ...     NaN     NaN     NaN     NaN     NaN   \n",
       "X360                NaN     NaN  ...   95.41  135.26  120.29  170.03  143.84   \n",
       "XB                48.01   55.04  ...    0.55    0.18     NaN     NaN     NaN   \n",
       "XOne                NaN     NaN  ...     NaN     NaN     NaN     NaN     NaN   \n",
       "\n",
       "year_of_release    2012    2013    2014    2015   2016  \n",
       "platform                                                \n",
       "3DO                 NaN     NaN     NaN     NaN    NaN  \n",
       "3DS               51.36   56.57   43.76   27.78  15.14  \n",
       "DC                  NaN     NaN     NaN     NaN    NaN  \n",
       "DS                11.01    1.54     NaN     NaN    NaN  \n",
       "GB                  NaN     NaN     NaN     NaN    NaN  \n",
       "GBA                 NaN     NaN     NaN     NaN    NaN  \n",
       "GC                  NaN     NaN     NaN     NaN    NaN  \n",
       "GEN                 NaN     NaN     NaN     NaN    NaN  \n",
       "N64                 NaN     NaN     NaN     NaN    NaN  \n",
       "NES                 NaN     NaN     NaN     NaN    NaN  \n",
       "NG                  NaN     NaN     NaN     NaN    NaN  \n",
       "PC                23.22   12.38   13.28    8.52   5.25  \n",
       "PCFX                NaN     NaN     NaN     NaN    NaN  \n",
       "PS                  NaN     NaN     NaN     NaN    NaN  \n",
       "PS2                 NaN     NaN     NaN     NaN    NaN  \n",
       "PS3              107.36  113.25   47.76   16.82   3.60  \n",
       "PS4                 NaN   25.99  100.00  118.90  69.25  \n",
       "PSP                7.69    3.14    0.24    0.12    NaN  \n",
       "PSV               16.19   10.59   11.90    6.25   4.25  \n",
       "SAT                 NaN     NaN     NaN     NaN    NaN  \n",
       "SCD                 NaN     NaN     NaN     NaN    NaN  \n",
       "SNES                NaN     NaN     NaN     NaN    NaN  \n",
       "TG16                NaN     NaN     NaN     NaN    NaN  \n",
       "WS                  NaN     NaN     NaN     NaN    NaN  \n",
       "Wii               21.71    8.59    3.75    1.14   0.18  \n",
       "WiiU              17.56   21.65   22.03   16.35   4.60  \n",
       "X360              99.74   88.58   34.74   11.96   1.52  \n",
       "XB                  NaN     NaN     NaN     NaN    NaN  \n",
       "XOne                NaN   18.96   54.07   60.14  26.15  \n",
       "\n",
       "[29 rows x 23 columns]"
      ]
     },
     "execution_count": 25,
     "metadata": {},
     "output_type": "execute_result"
    }
   ],
   "source": [
    "df_94.pivot_table(index='platform', columns='year_of_release',values='total_sales', aggfunc='sum')"
   ]
  },
  {
   "cell_type": "code",
   "execution_count": 26,
   "id": "78795487",
   "metadata": {},
   "outputs": [
    {
     "data": {
      "text/plain": [
       "<AxesSubplot:xlabel='year_of_release', ylabel='platform'>"
      ]
     },
     "execution_count": 26,
     "metadata": {},
     "output_type": "execute_result"
    },
    {
     "data": {
      "image/png": "[encoded data removed]",
      "text/plain": [
       "<Figure size 1152x720 with 2 Axes>"
      ]
     },
     "metadata": {
      "needs_background": "light"
     },
     "output_type": "display_data"
    }
   ],
   "source": [
    "import seaborn as sb\n",
    "plt.figure(figsize=(16,10))\n",
    "sb.heatmap(df_94.pivot_table(index='platform', columns='year_of_release',values='total_sales', aggfunc='sum').fillna(0),\n",
    "          robust=True, linewidth=.5, cbar=True, square=False, vmax=50)"
   ]
  },
  {
   "cell_type": "markdown",
   "id": "1e3a80cb",
   "metadata": {},
   "source": [
    "Можно сделать вывод, что средний срок жизни платформы 5-9 лет. До 2014 года состав участников рынка был другим. Данные за тот период не позволят делать обоснованные прогнозы относительно действующих в настоящее время платформ. Поэтому, в отношении выбора актуальных платформ, стоит руководствоваться данными за последние три года. Выделим данные данные в отдельную таблицу."
   ]
  },
  {
   "cell_type": "markdown",
   "id": "cd70576e",
   "metadata": {},
   "source": [
    "<div style=\"border-radius: 3px; border: 2px solid black; padding: 0px;\">     \n",
    "<div class=\"alert alert-success\">\n",
    "<b>Комментарий ревьюера ✔️:</b>  \n",
    "    \n",
    "Действительно, для целей прогнозирования продаж на следующий год даже в традиционных бизнесах редко берут данные более чем за 2-3 года. А в такой динамично меняющейся индустрии, как компьютерные игры и вовсе не стоит брать слишком большой временной интервал - иначе обязательно захватишь уже отжившие тренды. Но и слишком короткий период тоже брать не стоит 😉\n",
    "\n",
    "</div>\n",
    "</div>"
   ]
  },
  {
   "cell_type": "code",
   "execution_count": 27,
   "id": "8f3dac6c",
   "metadata": {},
   "outputs": [
    {
     "name": "stdout",
     "output_type": "stream",
     "text": [
      "<class 'pandas.core.frame.DataFrame'>\n",
      "RangeIndex: 1689 entries, 0 to 1688\n",
      "Data columns (total 12 columns):\n",
      " #   Column           Non-Null Count  Dtype  \n",
      "---  ------           --------------  -----  \n",
      " 0   name             1689 non-null   object \n",
      " 1   platform         1689 non-null   object \n",
      " 2   year_of_release  1689 non-null   int64  \n",
      " 3   genre            1689 non-null   object \n",
      " 4   na_sales         1689 non-null   float64\n",
      " 5   eu_sales         1689 non-null   float64\n",
      " 6   jp_sales         1689 non-null   float64\n",
      " 7   other_sales      1689 non-null   float64\n",
      " 8   critic_score     718 non-null    float64\n",
      " 9   user_score       888 non-null    float64\n",
      " 10  rating           940 non-null    object \n",
      " 11  total_sales      1689 non-null   float64\n",
      "dtypes: float64(7), int64(1), object(4)\n",
      "memory usage: 158.5+ KB\n"
     ]
    }
   ],
   "source": [
    "df_14 = df_94[df_94['year_of_release'] > 2013]\n",
    "df_14.reset_index(drop=True, inplace=True)\n",
    "df_14.info()"
   ]
  },
  {
   "cell_type": "code",
   "execution_count": 28,
   "id": "ddfa5ff9",
   "metadata": {},
   "outputs": [
    {
     "data": {
      "text/html": [
       "<div>\n",
       "<style scoped>\n",
       "    .dataframe tbody tr th:only-of-type {\n",
       "        vertical-align: middle;\n",
       "    }\n",
       "\n",
       "    .dataframe tbody tr th {\n",
       "        vertical-align: top;\n",
       "    }\n",
       "\n",
       "    .dataframe thead th {\n",
       "        text-align: right;\n",
       "    }\n",
       "</style>\n",
       "<table border=\"1\" class=\"dataframe\">\n",
       "  <thead>\n",
       "    <tr style=\"text-align: right;\">\n",
       "      <th></th>\n",
       "      <th>name</th>\n",
       "      <th>platform</th>\n",
       "      <th>year_of_release</th>\n",
       "      <th>genre</th>\n",
       "      <th>na_sales</th>\n",
       "      <th>eu_sales</th>\n",
       "      <th>jp_sales</th>\n",
       "      <th>other_sales</th>\n",
       "      <th>critic_score</th>\n",
       "      <th>user_score</th>\n",
       "      <th>rating</th>\n",
       "      <th>total_sales</th>\n",
       "    </tr>\n",
       "  </thead>\n",
       "  <tbody>\n",
       "    <tr>\n",
       "      <th>0</th>\n",
       "      <td>Call of Duty: Black Ops 3</td>\n",
       "      <td>PS4</td>\n",
       "      <td>2015</td>\n",
       "      <td>Shooter</td>\n",
       "      <td>6.03</td>\n",
       "      <td>5.86</td>\n",
       "      <td>0.36</td>\n",
       "      <td>2.38</td>\n",
       "      <td>NaN</td>\n",
       "      <td>NaN</td>\n",
       "      <td>NaN</td>\n",
       "      <td>14.63</td>\n",
       "    </tr>\n",
       "    <tr>\n",
       "      <th>1</th>\n",
       "      <td>Grand Theft Auto V</td>\n",
       "      <td>PS4</td>\n",
       "      <td>2014</td>\n",
       "      <td>Action</td>\n",
       "      <td>3.96</td>\n",
       "      <td>6.31</td>\n",
       "      <td>0.38</td>\n",
       "      <td>1.97</td>\n",
       "      <td>97.0</td>\n",
       "      <td>8.3</td>\n",
       "      <td>M</td>\n",
       "      <td>12.62</td>\n",
       "    </tr>\n",
       "    <tr>\n",
       "      <th>2</th>\n",
       "      <td>Pokemon Omega Ruby/Pokemon Alpha Sapphire</td>\n",
       "      <td>3DS</td>\n",
       "      <td>2014</td>\n",
       "      <td>Role-Playing</td>\n",
       "      <td>4.35</td>\n",
       "      <td>3.49</td>\n",
       "      <td>3.10</td>\n",
       "      <td>0.74</td>\n",
       "      <td>NaN</td>\n",
       "      <td>NaN</td>\n",
       "      <td>NaN</td>\n",
       "      <td>11.68</td>\n",
       "    </tr>\n",
       "    <tr>\n",
       "      <th>3</th>\n",
       "      <td>FIFA 16</td>\n",
       "      <td>PS4</td>\n",
       "      <td>2015</td>\n",
       "      <td>Sports</td>\n",
       "      <td>1.12</td>\n",
       "      <td>6.12</td>\n",
       "      <td>0.06</td>\n",
       "      <td>1.28</td>\n",
       "      <td>82.0</td>\n",
       "      <td>4.3</td>\n",
       "      <td>E</td>\n",
       "      <td>8.58</td>\n",
       "    </tr>\n",
       "    <tr>\n",
       "      <th>4</th>\n",
       "      <td>Star Wars Battlefront (2015)</td>\n",
       "      <td>PS4</td>\n",
       "      <td>2015</td>\n",
       "      <td>Shooter</td>\n",
       "      <td>2.99</td>\n",
       "      <td>3.49</td>\n",
       "      <td>0.22</td>\n",
       "      <td>1.28</td>\n",
       "      <td>NaN</td>\n",
       "      <td>NaN</td>\n",
       "      <td>NaN</td>\n",
       "      <td>7.98</td>\n",
       "    </tr>\n",
       "    <tr>\n",
       "      <th>...</th>\n",
       "      <td>...</td>\n",
       "      <td>...</td>\n",
       "      <td>...</td>\n",
       "      <td>...</td>\n",
       "      <td>...</td>\n",
       "      <td>...</td>\n",
       "      <td>...</td>\n",
       "      <td>...</td>\n",
       "      <td>...</td>\n",
       "      <td>...</td>\n",
       "      <td>...</td>\n",
       "      <td>...</td>\n",
       "    </tr>\n",
       "    <tr>\n",
       "      <th>1684</th>\n",
       "      <td>Strawberry Nauts</td>\n",
       "      <td>PSV</td>\n",
       "      <td>2016</td>\n",
       "      <td>Adventure</td>\n",
       "      <td>0.00</td>\n",
       "      <td>0.00</td>\n",
       "      <td>0.01</td>\n",
       "      <td>0.00</td>\n",
       "      <td>NaN</td>\n",
       "      <td>NaN</td>\n",
       "      <td>NaN</td>\n",
       "      <td>0.01</td>\n",
       "    </tr>\n",
       "    <tr>\n",
       "      <th>1685</th>\n",
       "      <td>Aiyoku no Eustia</td>\n",
       "      <td>PSV</td>\n",
       "      <td>2014</td>\n",
       "      <td>Misc</td>\n",
       "      <td>0.00</td>\n",
       "      <td>0.00</td>\n",
       "      <td>0.01</td>\n",
       "      <td>0.00</td>\n",
       "      <td>NaN</td>\n",
       "      <td>NaN</td>\n",
       "      <td>NaN</td>\n",
       "      <td>0.01</td>\n",
       "    </tr>\n",
       "    <tr>\n",
       "      <th>1686</th>\n",
       "      <td>Samurai Warriors: Sanada Maru</td>\n",
       "      <td>PS3</td>\n",
       "      <td>2016</td>\n",
       "      <td>Action</td>\n",
       "      <td>0.00</td>\n",
       "      <td>0.00</td>\n",
       "      <td>0.01</td>\n",
       "      <td>0.00</td>\n",
       "      <td>NaN</td>\n",
       "      <td>NaN</td>\n",
       "      <td>NaN</td>\n",
       "      <td>0.01</td>\n",
       "    </tr>\n",
       "    <tr>\n",
       "      <th>1687</th>\n",
       "      <td>Haitaka no Psychedelica</td>\n",
       "      <td>PSV</td>\n",
       "      <td>2016</td>\n",
       "      <td>Adventure</td>\n",
       "      <td>0.00</td>\n",
       "      <td>0.00</td>\n",
       "      <td>0.01</td>\n",
       "      <td>0.00</td>\n",
       "      <td>NaN</td>\n",
       "      <td>NaN</td>\n",
       "      <td>NaN</td>\n",
       "      <td>0.01</td>\n",
       "    </tr>\n",
       "    <tr>\n",
       "      <th>1688</th>\n",
       "      <td>Winning Post 8 2016</td>\n",
       "      <td>PSV</td>\n",
       "      <td>2016</td>\n",
       "      <td>Simulation</td>\n",
       "      <td>0.00</td>\n",
       "      <td>0.00</td>\n",
       "      <td>0.01</td>\n",
       "      <td>0.00</td>\n",
       "      <td>NaN</td>\n",
       "      <td>NaN</td>\n",
       "      <td>NaN</td>\n",
       "      <td>0.01</td>\n",
       "    </tr>\n",
       "  </tbody>\n",
       "</table>\n",
       "<p>1689 rows × 12 columns</p>\n",
       "</div>"
      ],
      "text/plain": [
       "                                           name platform  year_of_release  \\\n",
       "0                     Call of Duty: Black Ops 3      PS4             2015   \n",
       "1                            Grand Theft Auto V      PS4             2014   \n",
       "2     Pokemon Omega Ruby/Pokemon Alpha Sapphire      3DS             2014   \n",
       "3                                       FIFA 16      PS4             2015   \n",
       "4                  Star Wars Battlefront (2015)      PS4             2015   \n",
       "...                                         ...      ...              ...   \n",
       "1684                           Strawberry Nauts      PSV             2016   \n",
       "1685                           Aiyoku no Eustia      PSV             2014   \n",
       "1686              Samurai Warriors: Sanada Maru      PS3             2016   \n",
       "1687                    Haitaka no Psychedelica      PSV             2016   \n",
       "1688                        Winning Post 8 2016      PSV             2016   \n",
       "\n",
       "             genre  na_sales  eu_sales  jp_sales  other_sales  critic_score  \\\n",
       "0          Shooter      6.03      5.86      0.36         2.38           NaN   \n",
       "1           Action      3.96      6.31      0.38         1.97          97.0   \n",
       "2     Role-Playing      4.35      3.49      3.10         0.74           NaN   \n",
       "3           Sports      1.12      6.12      0.06         1.28          82.0   \n",
       "4          Shooter      2.99      3.49      0.22         1.28           NaN   \n",
       "...            ...       ...       ...       ...          ...           ...   \n",
       "1684     Adventure      0.00      0.00      0.01         0.00           NaN   \n",
       "1685          Misc      0.00      0.00      0.01         0.00           NaN   \n",
       "1686        Action      0.00      0.00      0.01         0.00           NaN   \n",
       "1687     Adventure      0.00      0.00      0.01         0.00           NaN   \n",
       "1688    Simulation      0.00      0.00      0.01         0.00           NaN   \n",
       "\n",
       "      user_score rating  total_sales  \n",
       "0            NaN    NaN        14.63  \n",
       "1            8.3      M        12.62  \n",
       "2            NaN    NaN        11.68  \n",
       "3            4.3      E         8.58  \n",
       "4            NaN    NaN         7.98  \n",
       "...          ...    ...          ...  \n",
       "1684         NaN    NaN         0.01  \n",
       "1685         NaN    NaN         0.01  \n",
       "1686         NaN    NaN         0.01  \n",
       "1687         NaN    NaN         0.01  \n",
       "1688         NaN    NaN         0.01  \n",
       "\n",
       "[1689 rows x 12 columns]"
      ]
     },
     "execution_count": 28,
     "metadata": {},
     "output_type": "execute_result"
    }
   ],
   "source": [
    "df_14"
   ]
  },
  {
   "cell_type": "markdown",
   "id": "be926db7",
   "metadata": {},
   "source": [
    "Проследим динамику по выбранным платформам."
   ]
  },
  {
   "cell_type": "code",
   "execution_count": 29,
   "id": "97ffb307",
   "metadata": {},
   "outputs": [
    {
     "data": {
      "text/html": [
       "<div>\n",
       "<style scoped>\n",
       "    .dataframe tbody tr th:only-of-type {\n",
       "        vertical-align: middle;\n",
       "    }\n",
       "\n",
       "    .dataframe tbody tr th {\n",
       "        vertical-align: top;\n",
       "    }\n",
       "\n",
       "    .dataframe thead th {\n",
       "        text-align: right;\n",
       "    }\n",
       "</style>\n",
       "<table border=\"1\" class=\"dataframe\">\n",
       "  <thead>\n",
       "    <tr style=\"text-align: right;\">\n",
       "      <th>year_of_release</th>\n",
       "      <th>2014</th>\n",
       "      <th>2015</th>\n",
       "      <th>2016</th>\n",
       "    </tr>\n",
       "    <tr>\n",
       "      <th>platform</th>\n",
       "      <th></th>\n",
       "      <th></th>\n",
       "      <th></th>\n",
       "    </tr>\n",
       "  </thead>\n",
       "  <tbody>\n",
       "    <tr>\n",
       "      <th>PS4</th>\n",
       "      <td>100.00</td>\n",
       "      <td>118.90</td>\n",
       "      <td>69.25</td>\n",
       "    </tr>\n",
       "    <tr>\n",
       "      <th>XOne</th>\n",
       "      <td>54.07</td>\n",
       "      <td>60.14</td>\n",
       "      <td>26.15</td>\n",
       "    </tr>\n",
       "    <tr>\n",
       "      <th>3DS</th>\n",
       "      <td>43.76</td>\n",
       "      <td>27.78</td>\n",
       "      <td>15.14</td>\n",
       "    </tr>\n",
       "    <tr>\n",
       "      <th>PC</th>\n",
       "      <td>13.28</td>\n",
       "      <td>8.52</td>\n",
       "      <td>5.25</td>\n",
       "    </tr>\n",
       "    <tr>\n",
       "      <th>WiiU</th>\n",
       "      <td>22.03</td>\n",
       "      <td>16.35</td>\n",
       "      <td>4.60</td>\n",
       "    </tr>\n",
       "    <tr>\n",
       "      <th>PSV</th>\n",
       "      <td>11.90</td>\n",
       "      <td>6.25</td>\n",
       "      <td>4.25</td>\n",
       "    </tr>\n",
       "    <tr>\n",
       "      <th>PS3</th>\n",
       "      <td>47.76</td>\n",
       "      <td>16.82</td>\n",
       "      <td>3.60</td>\n",
       "    </tr>\n",
       "    <tr>\n",
       "      <th>X360</th>\n",
       "      <td>34.74</td>\n",
       "      <td>11.96</td>\n",
       "      <td>1.52</td>\n",
       "    </tr>\n",
       "    <tr>\n",
       "      <th>Wii</th>\n",
       "      <td>3.75</td>\n",
       "      <td>1.14</td>\n",
       "      <td>0.18</td>\n",
       "    </tr>\n",
       "    <tr>\n",
       "      <th>PSP</th>\n",
       "      <td>0.24</td>\n",
       "      <td>0.12</td>\n",
       "      <td>NaN</td>\n",
       "    </tr>\n",
       "  </tbody>\n",
       "</table>\n",
       "</div>"
      ],
      "text/plain": [
       "year_of_release    2014    2015   2016\n",
       "platform                              \n",
       "PS4              100.00  118.90  69.25\n",
       "XOne              54.07   60.14  26.15\n",
       "3DS               43.76   27.78  15.14\n",
       "PC                13.28    8.52   5.25\n",
       "WiiU              22.03   16.35   4.60\n",
       "PSV               11.90    6.25   4.25\n",
       "PS3               47.76   16.82   3.60\n",
       "X360              34.74   11.96   1.52\n",
       "Wii                3.75    1.14   0.18\n",
       "PSP                0.24    0.12    NaN"
      ]
     },
     "execution_count": 29,
     "metadata": {},
     "output_type": "execute_result"
    }
   ],
   "source": [
    "df_14.pivot_table(\n",
    "    index='platform', columns='year_of_release', \n",
    "    values='total_sales', aggfunc='sum').sort_values(2016, ascending=False)"
   ]
  },
  {
   "cell_type": "markdown",
   "id": "e10bc39d",
   "metadata": {},
   "source": [
    "Абсолютным лидером является PS4. Спад в 2016 можно объяснить неготовностью окончательных годовых данных. Спад в объемах продаж по платформам X360 и PS3, очевидно, можно объяснить развитием преемственных им платформ (XOne и PS4 соответственно). В действительности интересными для анализа выделим следующие платформы: PS4, XOne, 3DS, PC, WiiU, PSV."
   ]
  },
  {
   "cell_type": "code",
   "execution_count": 30,
   "id": "c9f3308a",
   "metadata": {},
   "outputs": [],
   "source": [
    "df_14 = df_14[(df_14['platform'] == 'PS4') | \n",
    "      (df_14['platform'] == 'XOne') |\n",
    "      (df_14['platform'] == '3DS') |\n",
    "      (df_14['platform'] == 'PC') |\n",
    "      (df_14['platform'] == 'WiiU') |\n",
    "      (df_14['platform'] == 'PSV')]\n",
    "df_14.reset_index(drop=True, inplace=True)"
   ]
  },
  {
   "cell_type": "markdown",
   "id": "480d6e37",
   "metadata": {},
   "source": [
    "<div style=\"border-radius: 3px; border: 2px solid black; padding: 0px;\">     \n",
    "<div class=\"alert alert-success\">\n",
    "<b>Комментарий ревьюера ✔️:</b> \n",
    "    \n",
    "Отличное решение 😉    \n",
    "\n",
    "</div>\n",
    "</div>"
   ]
  },
  {
   "cell_type": "markdown",
   "id": "6be9795c",
   "metadata": {},
   "source": [
    "### Диаграмма размаха"
   ]
  },
  {
   "cell_type": "code",
   "execution_count": 31,
   "id": "9c3c2ac3",
   "metadata": {
    "scrolled": false
   },
   "outputs": [
    {
     "data": {
      "image/png": "[encoded data removed]",
      "text/plain": [
       "<Figure size 792x432 with 1 Axes>"
      ]
     },
     "metadata": {
      "needs_background": "light"
     },
     "output_type": "display_data"
    }
   ],
   "source": [
    "bxplt = df_14.boxplot(by='platform', \n",
    "              column='total_sales', \n",
    "              figsize=(11,6), \n",
    "              fontsize=20)"
   ]
  },
  {
   "cell_type": "markdown",
   "id": "2694092e",
   "metadata": {},
   "source": [
    "Хорошо видны лидеры продаж по каждой из платформ. Изменим масштаб."
   ]
  },
  {
   "cell_type": "markdown",
   "id": "3aac7e6d",
   "metadata": {},
   "source": [
    "<div style=\"border-radius: 3px; border: 2px solid black; padding: 0px;\">     \n",
    "<div class=\"alert alert-success\">\n",
    "<b>Комментарий ревьюера ✔️:</b> \n",
    "    \n",
    "👏👏👏    \n",
    "\n",
    "</div>\n",
    "</div>"
   ]
  },
  {
   "cell_type": "code",
   "execution_count": 32,
   "id": "1cf893f1",
   "metadata": {},
   "outputs": [
    {
     "data": {
      "text/plain": [
       "(0.0, 1.0)"
      ]
     },
     "execution_count": 32,
     "metadata": {},
     "output_type": "execute_result"
    },
    {
     "data": {
      "image/png": "[encoded data removed]",
      "text/plain": [
       "<Figure size 792x432 with 1 Axes>"
      ]
     },
     "metadata": {
      "needs_background": "light"
     },
     "output_type": "display_data"
    }
   ],
   "source": [
    "bxplt = df_14.boxplot(by='platform', \n",
    "              column='total_sales', \n",
    "              figsize=(11,6), \n",
    "              fontsize=20)\n",
    "bxplt.set_ylim(0, 1)"
   ]
  },
  {
   "cell_type": "code",
   "execution_count": 33,
   "id": "94dd05cb",
   "metadata": {},
   "outputs": [
    {
     "data": {
      "text/plain": [
       "platform\n",
       "3DS      86.68\n",
       "PC       27.05\n",
       "PS4     288.15\n",
       "PSV      22.40\n",
       "WiiU     42.98\n",
       "XOne    140.36\n",
       "Name: total_sales, dtype: float64"
      ]
     },
     "execution_count": 33,
     "metadata": {},
     "output_type": "execute_result"
    }
   ],
   "source": [
    "df_14.groupby('platform')['total_sales'].sum()"
   ]
  },
  {
   "cell_type": "markdown",
   "id": "7f3f1427",
   "metadata": {},
   "source": [
    "У троих лидеров медианы и границы третьих квартилей находятся на одном уровне. При этом у PS4 общая сумма всех реализованных копий почти 300 млн, что в два раза больше чем у XOne и в 7 раз больше чем у WiiU. Значит такой большой суммарный отрыв произошел за счет малого числа игр, значительно превзошедших средние уровни продаж."
   ]
  },
  {
   "cell_type": "code",
   "execution_count": 34,
   "id": "84d1eb89",
   "metadata": {
    "scrolled": false
   },
   "outputs": [
    {
     "data": {
      "text/plain": [
       "28"
      ]
     },
     "execution_count": 34,
     "metadata": {},
     "output_type": "execute_result"
    }
   ],
   "source": [
    "df_14[(df_14['total_sales'] >= 2.5) & (df_14['platform'] == 'PS4')]['total_sales'].count()"
   ]
  },
  {
   "cell_type": "code",
   "execution_count": 35,
   "id": "03673629",
   "metadata": {},
   "outputs": [
    {
     "data": {
      "text/plain": [
       "151.78000000000003"
      ]
     },
     "execution_count": 35,
     "metadata": {},
     "output_type": "execute_result"
    }
   ],
   "source": [
    "df_14[(df_14['total_sales'] >= 2.5) & (df_14['platform'] == 'PS4')]['total_sales'].sum()"
   ]
  },
  {
   "cell_type": "markdown",
   "id": "9bcae3c9",
   "metadata": {},
   "source": [
    "На платформе PS4 всего 28 игр превысили уровень в 2.5 миллиона проданных копий. Приэтом общая сумма реализованных копий этих игр составляет 150 млн. Половина общего объема всех проданных игр."
   ]
  },
  {
   "cell_type": "markdown",
   "id": "a2ef08d0",
   "metadata": {},
   "source": [
    "<div style=\"border-radius: 3px; border: 2px solid black; padding: 0px;\">     \n",
    "<div class=\"alert alert-success\">\n",
    "<b>Комментарий ревьюера ✔️:</b> \n",
    "    \n",
    "Есть контакт 😎    \n",
    "\n",
    "</div>\n",
    "</div>"
   ]
  },
  {
   "cell_type": "markdown",
   "id": "fea62388",
   "metadata": {},
   "source": [
    "### Оценка связи оценок игр с уровнем их продаж"
   ]
  },
  {
   "cell_type": "markdown",
   "id": "11080552",
   "metadata": {},
   "source": [
    "В качестве исследуемой выборки возьмем платформу PS4."
   ]
  },
  {
   "cell_type": "code",
   "execution_count": 36,
   "id": "d7d649ce",
   "metadata": {},
   "outputs": [
    {
     "data": {
      "text/html": [
       "<div>\n",
       "<style scoped>\n",
       "    .dataframe tbody tr th:only-of-type {\n",
       "        vertical-align: middle;\n",
       "    }\n",
       "\n",
       "    .dataframe tbody tr th {\n",
       "        vertical-align: top;\n",
       "    }\n",
       "\n",
       "    .dataframe thead th {\n",
       "        text-align: right;\n",
       "    }\n",
       "</style>\n",
       "<table border=\"1\" class=\"dataframe\">\n",
       "  <thead>\n",
       "    <tr style=\"text-align: right;\">\n",
       "      <th></th>\n",
       "      <th>total_sales</th>\n",
       "      <th>critic_score</th>\n",
       "      <th>user_score</th>\n",
       "    </tr>\n",
       "  </thead>\n",
       "  <tbody>\n",
       "    <tr>\n",
       "      <th>0</th>\n",
       "      <td>14.63</td>\n",
       "      <td>NaN</td>\n",
       "      <td>NaN</td>\n",
       "    </tr>\n",
       "    <tr>\n",
       "      <th>1</th>\n",
       "      <td>12.62</td>\n",
       "      <td>97.0</td>\n",
       "      <td>8.3</td>\n",
       "    </tr>\n",
       "    <tr>\n",
       "      <th>3</th>\n",
       "      <td>8.58</td>\n",
       "      <td>82.0</td>\n",
       "      <td>4.3</td>\n",
       "    </tr>\n",
       "    <tr>\n",
       "      <th>4</th>\n",
       "      <td>7.98</td>\n",
       "      <td>NaN</td>\n",
       "      <td>NaN</td>\n",
       "    </tr>\n",
       "    <tr>\n",
       "      <th>5</th>\n",
       "      <td>7.66</td>\n",
       "      <td>83.0</td>\n",
       "      <td>5.7</td>\n",
       "    </tr>\n",
       "    <tr>\n",
       "      <th>...</th>\n",
       "      <td>...</td>\n",
       "      <td>...</td>\n",
       "      <td>...</td>\n",
       "    </tr>\n",
       "    <tr>\n",
       "      <th>1282</th>\n",
       "      <td>0.01</td>\n",
       "      <td>69.0</td>\n",
       "      <td>7.5</td>\n",
       "    </tr>\n",
       "    <tr>\n",
       "      <th>1284</th>\n",
       "      <td>0.01</td>\n",
       "      <td>NaN</td>\n",
       "      <td>NaN</td>\n",
       "    </tr>\n",
       "    <tr>\n",
       "      <th>1291</th>\n",
       "      <td>0.01</td>\n",
       "      <td>61.0</td>\n",
       "      <td>7.9</td>\n",
       "    </tr>\n",
       "    <tr>\n",
       "      <th>1292</th>\n",
       "      <td>0.01</td>\n",
       "      <td>51.0</td>\n",
       "      <td>5.5</td>\n",
       "    </tr>\n",
       "    <tr>\n",
       "      <th>1303</th>\n",
       "      <td>0.01</td>\n",
       "      <td>NaN</td>\n",
       "      <td>NaN</td>\n",
       "    </tr>\n",
       "  </tbody>\n",
       "</table>\n",
       "<p>376 rows × 3 columns</p>\n",
       "</div>"
      ],
      "text/plain": [
       "      total_sales  critic_score  user_score\n",
       "0           14.63           NaN         NaN\n",
       "1           12.62          97.0         8.3\n",
       "3            8.58          82.0         4.3\n",
       "4            7.98           NaN         NaN\n",
       "5            7.66          83.0         5.7\n",
       "...           ...           ...         ...\n",
       "1282         0.01          69.0         7.5\n",
       "1284         0.01           NaN         NaN\n",
       "1291         0.01          61.0         7.9\n",
       "1292         0.01          51.0         5.5\n",
       "1303         0.01           NaN         NaN\n",
       "\n",
       "[376 rows x 3 columns]"
      ]
     },
     "execution_count": 36,
     "metadata": {},
     "output_type": "execute_result"
    }
   ],
   "source": [
    "df_ps = df_14[df_14['platform'] == 'PS4'][['total_sales','critic_score','user_score']]\n",
    "df_ps"
   ]
  },
  {
   "cell_type": "code",
   "execution_count": 37,
   "id": "aaf420a0",
   "metadata": {
    "scrolled": false
   },
   "outputs": [
    {
     "data": {
      "text/plain": [
       "<AxesSubplot:title={'center':'Взаимосвязь уровня продаж с оценками критиков'}, xlabel='Уровень продаж', ylabel='Оценки критиков'>"
      ]
     },
     "execution_count": 37,
     "metadata": {},
     "output_type": "execute_result"
    },
    {
     "data": {
      "image/png": "[encoded data removed]",
      "text/plain": [
       "<Figure size 792x432 with 1 Axes>"
      ]
     },
     "metadata": {
      "needs_background": "light"
     },
     "output_type": "display_data"
    }
   ],
   "source": [
    "df_ps.plot(kind='scatter', \n",
    "           x='total_sales', \n",
    "           y='critic_score', \n",
    "           figsize=(11,6),\n",
    "           title = 'Взаимосвязь уровня продаж с оценками критиков',\n",
    "           xlabel='Уровень продаж',\n",
    "           ylabel='Оценки критиков')"
   ]
  },
  {
   "cell_type": "code",
   "execution_count": 38,
   "id": "f4da8164",
   "metadata": {},
   "outputs": [
    {
     "data": {
      "text/plain": [
       "0.40266141068104083"
      ]
     },
     "execution_count": 38,
     "metadata": {},
     "output_type": "execute_result"
    }
   ],
   "source": [
    "df_ps['total_sales'].corr(df_ps['critic_score'])"
   ]
  },
  {
   "cell_type": "code",
   "execution_count": 39,
   "id": "b7b77504",
   "metadata": {},
   "outputs": [
    {
     "data": {
      "text/plain": [
       "<AxesSubplot:title={'center':'Взаимосвязь уровня продаж с оценками пользователей'}, xlabel='Уровень продаж', ylabel='Оценки пользователей'>"
      ]
     },
     "execution_count": 39,
     "metadata": {},
     "output_type": "execute_result"
    },
    {
     "data": {
      "image/png": "[encoded data removed]",
      "text/plain": [
       "<Figure size 792x432 with 1 Axes>"
      ]
     },
     "metadata": {
      "needs_background": "light"
     },
     "output_type": "display_data"
    }
   ],
   "source": [
    "df_ps.plot(kind='scatter', \n",
    "           x='total_sales', \n",
    "           y='user_score', \n",
    "           figsize=(11,6),\n",
    "           title = 'Взаимосвязь уровня продаж с оценками пользователей',\n",
    "           xlabel='Уровень продаж',\n",
    "           ylabel='Оценки пользователей')"
   ]
  },
  {
   "cell_type": "code",
   "execution_count": 40,
   "id": "3e4cdb1e",
   "metadata": {},
   "outputs": [
    {
     "data": {
      "text/plain": [
       "-0.040131589472697356"
      ]
     },
     "execution_count": 40,
     "metadata": {},
     "output_type": "execute_result"
    }
   ],
   "source": [
    "df_ps['total_sales'].corr(df_ps['user_score'])"
   ]
  },
  {
   "cell_type": "markdown",
   "id": "09e1b849",
   "metadata": {},
   "source": [
    "Есть определенная связь между уровнем продаж и оценкой критиков. Тогда как оценка пользователей никак не связана и не влияет на уровень продаж. Уровень корреляции не определяет причинно-следственные связи. Поэтому сложно судить о том, что первично: высокие рейтинги критиков вызывают популярность определенных игр, или же критики ставят заведомо более высокие оценки наиболее популярным играм. Поэтому же нельзя с уверенностью скзаать, что при выборе ассортимента игр стоит ориентироваться на оценки критиков."
   ]
  },
  {
   "cell_type": "markdown",
   "id": "06719cb0",
   "metadata": {},
   "source": [
    "Проверим, повторится ли такое поведение на других платформах."
   ]
  },
  {
   "cell_type": "code",
   "execution_count": 41,
   "id": "cf43a594",
   "metadata": {},
   "outputs": [
    {
     "data": {
      "text/plain": [
       "0.30365819927690285"
      ]
     },
     "execution_count": 41,
     "metadata": {},
     "output_type": "execute_result"
    }
   ],
   "source": [
    "df_14[df_14['platform'] != 'PS4']['total_sales'].corr(\n",
    "    df_14[df_14['platform'] != 'PS4']['critic_score'])"
   ]
  },
  {
   "cell_type": "code",
   "execution_count": 42,
   "id": "748fa92e",
   "metadata": {},
   "outputs": [
    {
     "data": {
      "text/plain": [
       "0.02764244568112856"
      ]
     },
     "execution_count": 42,
     "metadata": {},
     "output_type": "execute_result"
    }
   ],
   "source": [
    "df_14[df_14['platform'] != 'PS4']['total_sales'].corr(\n",
    "    df_14[df_14['platform'] != 'PS4']['user_score'])"
   ]
  },
  {
   "cell_type": "markdown",
   "id": "7917bba9",
   "metadata": {},
   "source": [
    "Да. В общих чертах картина таже. "
   ]
  },
  {
   "cell_type": "markdown",
   "id": "106cf76a",
   "metadata": {},
   "source": [
    "<div style=\"border-radius: 3px; border: 2px solid black; padding: 0px;\">     \n",
    "<div class=\"alert alert-success\">\n",
    "<b>Комментарий ревьюера ✔️:</b> \n",
    "    \n",
    "🔥🔥🔥    \n",
    "\n",
    "</div>\n",
    "</div>"
   ]
  },
  {
   "cell_type": "markdown",
   "id": "c8ca6ef0",
   "metadata": {},
   "source": [
    "### Распределение игр по жанрам"
   ]
  },
  {
   "cell_type": "markdown",
   "id": "df902f80",
   "metadata": {},
   "source": [
    "Для визуализации распределения игр по жанрам построим гистограмму. Число корзин выбрем по числу жанров."
   ]
  },
  {
   "cell_type": "code",
   "execution_count": 43,
   "id": "79f824d8",
   "metadata": {},
   "outputs": [
    {
     "data": {
      "text/plain": [
       "([0, 1, 2, 3, 4, 5, 6, 7, 8, 9, 10, 11],\n",
       " [Text(0, 0, ''),\n",
       "  Text(0, 0, ''),\n",
       "  Text(0, 0, ''),\n",
       "  Text(0, 0, ''),\n",
       "  Text(0, 0, ''),\n",
       "  Text(0, 0, ''),\n",
       "  Text(0, 0, ''),\n",
       "  Text(0, 0, ''),\n",
       "  Text(0, 0, ''),\n",
       "  Text(0, 0, ''),\n",
       "  Text(0, 0, ''),\n",
       "  Text(0, 0, '')])"
      ]
     },
     "execution_count": 43,
     "metadata": {},
     "output_type": "execute_result"
    },
    {
     "data": {
      "image/png": "[encoded data removed]",
      "text/plain": [
       "<Figure size 792x864 with 2 Axes>"
      ]
     },
     "metadata": {
      "needs_background": "light"
     },
     "output_type": "display_data"
    }
   ],
   "source": [
    "plt.figure(figsize=(11,12))\n",
    "plt.subplot(2, 1, 1)\n",
    "plt.title('Распределение игр по жанрам')\n",
    "plt.ylabel('Копий продано')\n",
    "plt.bar(df_14['genre'], height=df_14['total_sales'], color='b', width=0.95, align='center')\n",
    "plt.xticks(rotation=45)\n",
    "plt.subplot(2, 1, 2)\n",
    "plt.hist(df_14['genre'], bins=12, align='mid', rwidth=.9, color='orange')\n",
    "plt.ylabel('Число игр жанра')\n",
    "plt.xticks(rotation=45)"
   ]
  },
  {
   "cell_type": "markdown",
   "id": "c1104fcc",
   "metadata": {},
   "source": [
    "Самый популярный жанр 'Shooter' представлен всего сотней игр. Тогда как второй по полуярности 'Action' включает уже 500 игр. В этом смысле жанр 'Action' является более рискованным. Может получиться, что закупив даже 100 различных игр, есть шанс \"не угадать\". Тогда как 100 игр жанра 'Shooter' дают максимальный охват жанра и при этом обеспечат максимальные продажи. Руководствуясь такой стратегией стоит обратитьв внимание на жанры 'Fighting' и 'Racing'."
   ]
  },
  {
   "cell_type": "markdown",
   "id": "3c3e8aab",
   "metadata": {},
   "source": [
    "<div style=\"border-radius: 3px; border: 2px solid black; padding: 0px;\">    \n",
    "<div class=\"alert alert-danger\">\n",
    "<s><b>Комментарий ревьюера ❌:</b> \n",
    "    \n",
    "Также нам нужно рассмотреть средние/медианные продажи по жанрам, чтобы понять, какие из них стабильно приносят прибыль, а какие являются популярными из-за текущей игровой моды\n",
    "</s>\n",
    "</div>\n",
    "</div>"
   ]
  },
  {
   "cell_type": "markdown",
   "id": "07ca0337",
   "metadata": {},
   "source": [
    "<div style=\"border-radius: 3px; border: 2px solid black; padding: 0px;\">\n",
    "<div class='alert alert-info'>\n",
    "Выделим сводную таблицу для сравнения жанров по числу игр и уровням продаж.\n",
    "</div>\n",
    "</div>"
   ]
  },
  {
   "cell_type": "code",
   "execution_count": 44,
   "id": "7dee53b0",
   "metadata": {},
   "outputs": [
    {
     "data": {
      "text/html": [
       "<div>\n",
       "<style scoped>\n",
       "    .dataframe tbody tr th:only-of-type {\n",
       "        vertical-align: middle;\n",
       "    }\n",
       "\n",
       "    .dataframe tbody tr th {\n",
       "        vertical-align: top;\n",
       "    }\n",
       "\n",
       "    .dataframe thead th {\n",
       "        text-align: right;\n",
       "    }\n",
       "</style>\n",
       "<table border=\"1\" class=\"dataframe\">\n",
       "  <thead>\n",
       "    <tr style=\"text-align: right;\">\n",
       "      <th></th>\n",
       "      <th>genre</th>\n",
       "      <th>mean</th>\n",
       "      <th>median</th>\n",
       "      <th>count</th>\n",
       "      <th>sum</th>\n",
       "    </tr>\n",
       "  </thead>\n",
       "  <tbody>\n",
       "    <tr>\n",
       "      <th>8</th>\n",
       "      <td>Shooter</td>\n",
       "      <td>1.465758</td>\n",
       "      <td>0.550</td>\n",
       "      <td>99</td>\n",
       "      <td>145.11</td>\n",
       "    </tr>\n",
       "    <tr>\n",
       "      <th>10</th>\n",
       "      <td>Sports</td>\n",
       "      <td>0.749615</td>\n",
       "      <td>0.200</td>\n",
       "      <td>104</td>\n",
       "      <td>77.96</td>\n",
       "    </tr>\n",
       "    <tr>\n",
       "      <th>4</th>\n",
       "      <td>Platform</td>\n",
       "      <td>0.519394</td>\n",
       "      <td>0.150</td>\n",
       "      <td>33</td>\n",
       "      <td>17.14</td>\n",
       "    </tr>\n",
       "    <tr>\n",
       "      <th>2</th>\n",
       "      <td>Fighting</td>\n",
       "      <td>0.649211</td>\n",
       "      <td>0.125</td>\n",
       "      <td>38</td>\n",
       "      <td>24.67</td>\n",
       "    </tr>\n",
       "    <tr>\n",
       "      <th>7</th>\n",
       "      <td>Role-Playing</td>\n",
       "      <td>0.492246</td>\n",
       "      <td>0.110</td>\n",
       "      <td>187</td>\n",
       "      <td>92.05</td>\n",
       "    </tr>\n",
       "    <tr>\n",
       "      <th>9</th>\n",
       "      <td>Simulation</td>\n",
       "      <td>0.308250</td>\n",
       "      <td>0.100</td>\n",
       "      <td>40</td>\n",
       "      <td>12.33</td>\n",
       "    </tr>\n",
       "    <tr>\n",
       "      <th>3</th>\n",
       "      <td>Misc</td>\n",
       "      <td>0.296966</td>\n",
       "      <td>0.090</td>\n",
       "      <td>89</td>\n",
       "      <td>26.43</td>\n",
       "    </tr>\n",
       "    <tr>\n",
       "      <th>6</th>\n",
       "      <td>Racing</td>\n",
       "      <td>0.469434</td>\n",
       "      <td>0.090</td>\n",
       "      <td>53</td>\n",
       "      <td>24.88</td>\n",
       "    </tr>\n",
       "    <tr>\n",
       "      <th>0</th>\n",
       "      <td>Action</td>\n",
       "      <td>0.338465</td>\n",
       "      <td>0.080</td>\n",
       "      <td>495</td>\n",
       "      <td>167.54</td>\n",
       "    </tr>\n",
       "    <tr>\n",
       "      <th>11</th>\n",
       "      <td>Strategy</td>\n",
       "      <td>0.108333</td>\n",
       "      <td>0.055</td>\n",
       "      <td>36</td>\n",
       "      <td>3.90</td>\n",
       "    </tr>\n",
       "    <tr>\n",
       "      <th>5</th>\n",
       "      <td>Puzzle</td>\n",
       "      <td>0.166923</td>\n",
       "      <td>0.050</td>\n",
       "      <td>13</td>\n",
       "      <td>2.17</td>\n",
       "    </tr>\n",
       "    <tr>\n",
       "      <th>1</th>\n",
       "      <td>Adventure</td>\n",
       "      <td>0.090811</td>\n",
       "      <td>0.030</td>\n",
       "      <td>148</td>\n",
       "      <td>13.44</td>\n",
       "    </tr>\n",
       "  </tbody>\n",
       "</table>\n",
       "</div>"
      ],
      "text/plain": [
       "           genre      mean  median  count     sum\n",
       "8        Shooter  1.465758   0.550     99  145.11\n",
       "10        Sports  0.749615   0.200    104   77.96\n",
       "4       Platform  0.519394   0.150     33   17.14\n",
       "2       Fighting  0.649211   0.125     38   24.67\n",
       "7   Role-Playing  0.492246   0.110    187   92.05\n",
       "9     Simulation  0.308250   0.100     40   12.33\n",
       "3           Misc  0.296966   0.090     89   26.43\n",
       "6         Racing  0.469434   0.090     53   24.88\n",
       "0         Action  0.338465   0.080    495  167.54\n",
       "11      Strategy  0.108333   0.055     36    3.90\n",
       "5         Puzzle  0.166923   0.050     13    2.17\n",
       "1      Adventure  0.090811   0.030    148   13.44"
      ]
     },
     "execution_count": 44,
     "metadata": {},
     "output_type": "execute_result"
    }
   ],
   "source": [
    "df_plot = (\n",
    "    df_14\n",
    "    .pivot_table(index='genre', values='total_sales', aggfunc=['mean', 'median','count', 'sum'])\n",
    "    .droplevel(level=1, axis=1).reset_index().sort_values(by='median', ascending=False)\n",
    ")\n",
    "df_plot"
   ]
  },
  {
   "cell_type": "code",
   "execution_count": 45,
   "id": "987f8beb",
   "metadata": {},
   "outputs": [
    {
     "data": {
      "image/png": "[encoded data removed]",
      "text/plain": [
       "<Figure size 1080x864 with 3 Axes>"
      ]
     },
     "metadata": {
      "needs_background": "light"
     },
     "output_type": "display_data"
    }
   ],
   "source": [
    "fig = plt.figure()\n",
    "fig.set_figwidth(15)\n",
    "fig.set_figheight(12)\n",
    "ax1 = fig.add_subplot(211)\n",
    "ax2 = fig.add_subplot(212)\n",
    "\n",
    "ax1.set_title('Сравнение среднего и медианного числа проданных копий')\n",
    "ax1.set_ylabel('Урвень продаж')\n",
    "ax1.bar(x=df_plot['genre'], height=df_plot['mean'], edgecolor='black', color='r', linewidth=2, label='Среднее')\n",
    "ax1.bar(x=df_plot['genre'], height=df_plot['median'], edgecolor='black', color='w', linewidth=2, label='Медианное')\n",
    "ax1.legend(fontsize=15)\n",
    "\n",
    "ax2.set_title('Сравнение жарнов по числу игр и общему числу проданных копий')\n",
    "ax2.bar(x=df_plot['genre'], height=df_plot['count'], width=.9, alpha=.3, color='black', label='Число игр в жанре')\n",
    "ax2.set_ylabel('Количество игр в данном жанре')\n",
    "ax2.set_ylim(0, 550)\n",
    "ax2.legend(fontsize=15, loc='upper left')\n",
    "\n",
    "ax3 = ax2.twinx()\n",
    "ax3.bar(x=df_plot['genre'], height=df_plot['sum'], width=.6, alpha=.7, color='black', label='Продано игр жанра')\n",
    "ax3.set_ylim(0, 200)\n",
    "ax3.legend(fontsize=15)\n",
    "ax3.set_ylabel('Суммарное число проданных игр', rotation=270, verticalalignment='bottom')\n",
    "\n",
    "plt.show()"
   ]
  },
  {
   "cell_type": "markdown",
   "id": "7d0cbe9d",
   "metadata": {},
   "source": [
    "<div style=\"border-radius: 3px; border: 2px solid black; padding: 0px;\">\n",
    "<div class='alert alert-info'>\n",
    "По каждому из жанров среднее число проданных копий превосходит значение медианное в два и более раз. Значит в каждом из жанров есть редкие игры сильно превосходящие по числу продаж основную массу. \n",
    "<br/>Больше всех игр продано в жанре Action. При этом и медианный и средний уровень продаж находятся далеко не на первом месте. Это объясняется набиольшим числом игр в данном жанре.\n",
    "<br/>Первым по среднему уровню продаж идет Shooter. По общему числу проданных игр он идет на втором месте. Причем по числу представляющих жанр игр он занимает лишь пятое место. Высокий средний уровень продаж игр данного жанра говорит о его стабильности. Меньшее число игр продается стабильно чаще игр других жанров. \n",
    "<br/>Следующим по среднему уровню продаж идет жанр Sports, незначительно опережая Platform. При этом включая в себя в трое больше игр чем в Platform.\n",
    "</div>\n",
    "</div>"
   ]
  },
  {
   "cell_type": "markdown",
   "id": "47d12f71",
   "metadata": {},
   "source": [
    "<div style=\"border-radius: 3px; border: 2px solid black; padding: 0px;\">     \n",
    "<div class=\"alert alert-success\">\n",
    "<b>Комментарий ревьюера V.2 ✔️:</b> \n",
    "    \n",
    "Крутая проработка вопроса, отличный вывод 👏👏👏   \n",
    "\n",
    "</div>\n",
    "</div>"
   ]
  },
  {
   "cell_type": "markdown",
   "id": "93d648e4",
   "metadata": {},
   "source": [
    "## Различия региональных рынков"
   ]
  },
  {
   "cell_type": "markdown",
   "id": "a06c1dce",
   "metadata": {},
   "source": [
    "### Популярность платформ в разных регионах"
   ]
  },
  {
   "cell_type": "markdown",
   "id": "e9e82917",
   "metadata": {},
   "source": [
    "#### Распределение пользовтелей по регионам внутри каждой из платформ"
   ]
  },
  {
   "cell_type": "markdown",
   "id": "774b11e6",
   "metadata": {},
   "source": [
    "В абсолютных величинах"
   ]
  },
  {
   "cell_type": "code",
   "execution_count": 46,
   "id": "b6dd1e01",
   "metadata": {
    "scrolled": true
   },
   "outputs": [
    {
     "data": {
      "text/html": [
       "<div>\n",
       "<style scoped>\n",
       "    .dataframe tbody tr th:only-of-type {\n",
       "        vertical-align: middle;\n",
       "    }\n",
       "\n",
       "    .dataframe tbody tr th {\n",
       "        vertical-align: top;\n",
       "    }\n",
       "\n",
       "    .dataframe thead th {\n",
       "        text-align: right;\n",
       "    }\n",
       "</style>\n",
       "<table border=\"1\" class=\"dataframe\">\n",
       "  <thead>\n",
       "    <tr style=\"text-align: right;\">\n",
       "      <th></th>\n",
       "      <th>na_sales</th>\n",
       "      <th>eu_sales</th>\n",
       "      <th>jp_sales</th>\n",
       "    </tr>\n",
       "  </thead>\n",
       "  <tbody>\n",
       "    <tr>\n",
       "      <th>0</th>\n",
       "      <td>22.64</td>\n",
       "      <td>16.12</td>\n",
       "      <td>44.24</td>\n",
       "    </tr>\n",
       "    <tr>\n",
       "      <th>1</th>\n",
       "      <td>7.23</td>\n",
       "      <td>17.97</td>\n",
       "      <td>0.00</td>\n",
       "    </tr>\n",
       "    <tr>\n",
       "      <th>2</th>\n",
       "      <td>98.61</td>\n",
       "      <td>130.04</td>\n",
       "      <td>15.02</td>\n",
       "    </tr>\n",
       "    <tr>\n",
       "      <th>3</th>\n",
       "      <td>2.52</td>\n",
       "      <td>3.53</td>\n",
       "      <td>14.54</td>\n",
       "    </tr>\n",
       "    <tr>\n",
       "      <th>4</th>\n",
       "      <td>19.36</td>\n",
       "      <td>13.15</td>\n",
       "      <td>7.31</td>\n",
       "    </tr>\n",
       "    <tr>\n",
       "      <th>5</th>\n",
       "      <td>81.27</td>\n",
       "      <td>46.25</td>\n",
       "      <td>0.32</td>\n",
       "    </tr>\n",
       "  </tbody>\n",
       "</table>\n",
       "</div>"
      ],
      "text/plain": [
       "   na_sales  eu_sales  jp_sales\n",
       "0     22.64     16.12     44.24\n",
       "1      7.23     17.97      0.00\n",
       "2     98.61    130.04     15.02\n",
       "3      2.52      3.53     14.54\n",
       "4     19.36     13.15      7.31\n",
       "5     81.27     46.25      0.32"
      ]
     },
     "execution_count": 46,
     "metadata": {},
     "output_type": "execute_result"
    }
   ],
   "source": [
    "df_region = df_14.pivot_table(index='platform', \n",
    "                  values=['na_sales', 'eu_sales', 'jp_sales', 'total_sales'], \n",
    "                  aggfunc='sum').reset_index()\n",
    "df_region[['na_sales', 'eu_sales', 'jp_sales']]"
   ]
  },
  {
   "cell_type": "markdown",
   "id": "fbe95b37",
   "metadata": {},
   "source": [
    "И в долях от всего рынка"
   ]
  },
  {
   "cell_type": "code",
   "execution_count": 47,
   "id": "6dd43866",
   "metadata": {},
   "outputs": [
    {
     "data": {
      "text/html": [
       "<div>\n",
       "<style scoped>\n",
       "    .dataframe tbody tr th:only-of-type {\n",
       "        vertical-align: middle;\n",
       "    }\n",
       "\n",
       "    .dataframe tbody tr th {\n",
       "        vertical-align: top;\n",
       "    }\n",
       "\n",
       "    .dataframe thead th {\n",
       "        text-align: right;\n",
       "    }\n",
       "</style>\n",
       "<table border=\"1\" class=\"dataframe\">\n",
       "  <thead>\n",
       "    <tr style=\"text-align: right;\">\n",
       "      <th></th>\n",
       "      <th>index</th>\n",
       "      <th>na_sales</th>\n",
       "      <th>eu_sales</th>\n",
       "      <th>jp_sales</th>\n",
       "    </tr>\n",
       "  </thead>\n",
       "  <tbody>\n",
       "    <tr>\n",
       "      <th>0</th>\n",
       "      <td>0</td>\n",
       "      <td>26.1</td>\n",
       "      <td>18.6</td>\n",
       "      <td>51.0</td>\n",
       "    </tr>\n",
       "    <tr>\n",
       "      <th>1</th>\n",
       "      <td>1</td>\n",
       "      <td>26.7</td>\n",
       "      <td>66.4</td>\n",
       "      <td>0.0</td>\n",
       "    </tr>\n",
       "    <tr>\n",
       "      <th>2</th>\n",
       "      <td>2</td>\n",
       "      <td>34.2</td>\n",
       "      <td>45.1</td>\n",
       "      <td>5.2</td>\n",
       "    </tr>\n",
       "    <tr>\n",
       "      <th>3</th>\n",
       "      <td>3</td>\n",
       "      <td>11.2</td>\n",
       "      <td>15.8</td>\n",
       "      <td>64.9</td>\n",
       "    </tr>\n",
       "    <tr>\n",
       "      <th>4</th>\n",
       "      <td>4</td>\n",
       "      <td>45.0</td>\n",
       "      <td>30.6</td>\n",
       "      <td>17.0</td>\n",
       "    </tr>\n",
       "    <tr>\n",
       "      <th>5</th>\n",
       "      <td>5</td>\n",
       "      <td>57.9</td>\n",
       "      <td>33.0</td>\n",
       "      <td>0.2</td>\n",
       "    </tr>\n",
       "  </tbody>\n",
       "</table>\n",
       "</div>"
      ],
      "text/plain": [
       "   index  na_sales  eu_sales  jp_sales\n",
       "0      0      26.1      18.6      51.0\n",
       "1      1      26.7      66.4       0.0\n",
       "2      2      34.2      45.1       5.2\n",
       "3      3      11.2      15.8      64.9\n",
       "4      4      45.0      30.6      17.0\n",
       "5      5      57.9      33.0       0.2"
      ]
     },
     "execution_count": 47,
     "metadata": {},
     "output_type": "execute_result"
    }
   ],
   "source": [
    "df_region[['na_sales', 'eu_sales', 'jp_sales']].apply(lambda x: round(x * 100 / df_region['total_sales'], 1)).reset_index()"
   ]
  },
  {
   "cell_type": "markdown",
   "id": "ebd7a179",
   "metadata": {},
   "source": [
    "Американская XOne пользуется больше популярностью в северо-американском регионе. Видимо поэтому же платформе PS4 отдают больше всего предпочтения в Европе. Главными рынком игр для портативных консолей является Япония. "
   ]
  },
  {
   "cell_type": "markdown",
   "id": "27fab0af",
   "metadata": {},
   "source": [
    "<div style=\"border-radius: 3px; border: 2px solid black; padding: 0px;\">     \n",
    "<div class=\"alert alert-success\">\n",
    "<b>Комментарий ревьюера ✔️:</b> \n",
    "    \n",
    "Есть контакт 😎    \n",
    "\n",
    "</div>\n",
    "</div>"
   ]
  },
  {
   "cell_type": "markdown",
   "id": "62b660d0",
   "metadata": {},
   "source": [
    "#### Распределение платформ внутри каждого из регионов"
   ]
  },
  {
   "cell_type": "markdown",
   "id": "46345e14",
   "metadata": {},
   "source": [
    "В абсолютных и относительных величинах."
   ]
  },
  {
   "cell_type": "code",
   "execution_count": 48,
   "id": "5abc9f74",
   "metadata": {},
   "outputs": [
    {
     "data": {
      "text/html": [
       "<div>\n",
       "<style scoped>\n",
       "    .dataframe tbody tr th:only-of-type {\n",
       "        vertical-align: middle;\n",
       "    }\n",
       "\n",
       "    .dataframe tbody tr th {\n",
       "        vertical-align: top;\n",
       "    }\n",
       "\n",
       "    .dataframe thead th {\n",
       "        text-align: right;\n",
       "    }\n",
       "</style>\n",
       "<table border=\"1\" class=\"dataframe\">\n",
       "  <thead>\n",
       "    <tr style=\"text-align: right;\">\n",
       "      <th>platform</th>\n",
       "      <th>3DS</th>\n",
       "      <th>PC</th>\n",
       "      <th>PS4</th>\n",
       "      <th>PSV</th>\n",
       "      <th>WiiU</th>\n",
       "      <th>XOne</th>\n",
       "    </tr>\n",
       "  </thead>\n",
       "  <tbody>\n",
       "    <tr>\n",
       "      <th>eu_sales</th>\n",
       "      <td>16.12</td>\n",
       "      <td>17.97</td>\n",
       "      <td>130.04</td>\n",
       "      <td>3.53</td>\n",
       "      <td>13.15</td>\n",
       "      <td>46.25</td>\n",
       "    </tr>\n",
       "    <tr>\n",
       "      <th>na_sales</th>\n",
       "      <td>22.64</td>\n",
       "      <td>7.23</td>\n",
       "      <td>98.61</td>\n",
       "      <td>2.52</td>\n",
       "      <td>19.36</td>\n",
       "      <td>81.27</td>\n",
       "    </tr>\n",
       "    <tr>\n",
       "      <th>jp_sales</th>\n",
       "      <td>44.24</td>\n",
       "      <td>0.00</td>\n",
       "      <td>15.02</td>\n",
       "      <td>14.54</td>\n",
       "      <td>7.31</td>\n",
       "      <td>0.32</td>\n",
       "    </tr>\n",
       "  </tbody>\n",
       "</table>\n",
       "</div>"
      ],
      "text/plain": [
       "platform    3DS     PC     PS4    PSV   WiiU   XOne\n",
       "eu_sales  16.12  17.97  130.04   3.53  13.15  46.25\n",
       "na_sales  22.64   7.23   98.61   2.52  19.36  81.27\n",
       "jp_sales  44.24   0.00   15.02  14.54   7.31   0.32"
      ]
     },
     "execution_count": 48,
     "metadata": {},
     "output_type": "execute_result"
    }
   ],
   "source": [
    "df_platform = df_14.pivot_table(columns='platform', aggfunc='sum').loc[['eu_sales','na_sales', 'jp_sales']]\n",
    "df_platform"
   ]
  },
  {
   "cell_type": "code",
   "execution_count": 49,
   "id": "5f1c1fc9",
   "metadata": {},
   "outputs": [
    {
     "data": {
      "text/html": [
       "<div>\n",
       "<style scoped>\n",
       "    .dataframe tbody tr th:only-of-type {\n",
       "        vertical-align: middle;\n",
       "    }\n",
       "\n",
       "    .dataframe tbody tr th {\n",
       "        vertical-align: top;\n",
       "    }\n",
       "\n",
       "    .dataframe thead th {\n",
       "        text-align: right;\n",
       "    }\n",
       "</style>\n",
       "<table border=\"1\" class=\"dataframe\">\n",
       "  <thead>\n",
       "    <tr style=\"text-align: right;\">\n",
       "      <th>platform</th>\n",
       "      <th>3DS</th>\n",
       "      <th>PC</th>\n",
       "      <th>PS4</th>\n",
       "      <th>PSV</th>\n",
       "      <th>WiiU</th>\n",
       "      <th>XOne</th>\n",
       "    </tr>\n",
       "  </thead>\n",
       "  <tbody>\n",
       "    <tr>\n",
       "      <th>eu_sales</th>\n",
       "      <td>7.1</td>\n",
       "      <td>7.9</td>\n",
       "      <td>57.3</td>\n",
       "      <td>1.6</td>\n",
       "      <td>5.8</td>\n",
       "      <td>20.4</td>\n",
       "    </tr>\n",
       "    <tr>\n",
       "      <th>na_sales</th>\n",
       "      <td>9.8</td>\n",
       "      <td>3.1</td>\n",
       "      <td>42.6</td>\n",
       "      <td>1.1</td>\n",
       "      <td>8.4</td>\n",
       "      <td>35.1</td>\n",
       "    </tr>\n",
       "    <tr>\n",
       "      <th>jp_sales</th>\n",
       "      <td>54.3</td>\n",
       "      <td>0.0</td>\n",
       "      <td>18.4</td>\n",
       "      <td>17.9</td>\n",
       "      <td>9.0</td>\n",
       "      <td>0.4</td>\n",
       "    </tr>\n",
       "  </tbody>\n",
       "</table>\n",
       "</div>"
      ],
      "text/plain": [
       "platform   3DS   PC   PS4   PSV  WiiU  XOne\n",
       "eu_sales   7.1  7.9  57.3   1.6   5.8  20.4\n",
       "na_sales   9.8  3.1  42.6   1.1   8.4  35.1\n",
       "jp_sales  54.3  0.0  18.4  17.9   9.0   0.4"
      ]
     },
     "execution_count": 49,
     "metadata": {},
     "output_type": "execute_result"
    }
   ],
   "source": [
    "df_platform.apply(lambda x: round(x * 100 / df_platform.sum(axis=1), 1))"
   ]
  },
  {
   "cell_type": "markdown",
   "id": "20e7231d",
   "metadata": {},
   "source": [
    "В европейских и северо-американских странах первое и второе места и суммарно около 80% каждого из рынков занимают PS4 и XOne, соответственно. В японии PS4 занимает второе место, между двумя платформами портативных консолей."
   ]
  },
  {
   "cell_type": "markdown",
   "id": "3eb9182c",
   "metadata": {},
   "source": [
    "<div style=\"border-radius: 3px; border: 2px solid black; padding: 0px;\">     \n",
    "<div class=\"alert alert-success\">\n",
    "<b>Комментарий ревьюера ✔️:</b> \n",
    "    \n",
    "Perfect!⭐    \n",
    "\n",
    "</div>\n",
    "</div>"
   ]
  },
  {
   "cell_type": "markdown",
   "id": "60df91c3",
   "metadata": {},
   "source": [
    "### Популярность жанров в каждом из регионов"
   ]
  },
  {
   "cell_type": "code",
   "execution_count": 50,
   "id": "96f598a2",
   "metadata": {},
   "outputs": [
    {
     "data": {
      "text/html": [
       "<div>\n",
       "<style scoped>\n",
       "    .dataframe tbody tr th:only-of-type {\n",
       "        vertical-align: middle;\n",
       "    }\n",
       "\n",
       "    .dataframe tbody tr th {\n",
       "        vertical-align: top;\n",
       "    }\n",
       "\n",
       "    .dataframe thead th {\n",
       "        text-align: right;\n",
       "    }\n",
       "</style>\n",
       "<table border=\"1\" class=\"dataframe\">\n",
       "  <thead>\n",
       "    <tr style=\"text-align: right;\">\n",
       "      <th></th>\n",
       "      <th>genre</th>\n",
       "      <th>na_sales</th>\n",
       "    </tr>\n",
       "  </thead>\n",
       "  <tbody>\n",
       "    <tr>\n",
       "      <th>0</th>\n",
       "      <td>Shooter</td>\n",
       "      <td>66.29</td>\n",
       "    </tr>\n",
       "    <tr>\n",
       "      <th>1</th>\n",
       "      <td>Action</td>\n",
       "      <td>60.16</td>\n",
       "    </tr>\n",
       "    <tr>\n",
       "      <th>2</th>\n",
       "      <td>Sports</td>\n",
       "      <td>31.96</td>\n",
       "    </tr>\n",
       "    <tr>\n",
       "      <th>3</th>\n",
       "      <td>Role-Playing</td>\n",
       "      <td>29.74</td>\n",
       "    </tr>\n",
       "    <tr>\n",
       "      <th>4</th>\n",
       "      <td>Fighting</td>\n",
       "      <td>11.23</td>\n",
       "    </tr>\n",
       "  </tbody>\n",
       "</table>\n",
       "</div>"
      ],
      "text/plain": [
       "          genre  na_sales\n",
       "0       Shooter     66.29\n",
       "1        Action     60.16\n",
       "2        Sports     31.96\n",
       "3  Role-Playing     29.74\n",
       "4      Fighting     11.23"
      ]
     },
     "execution_count": 50,
     "metadata": {},
     "output_type": "execute_result"
    }
   ],
   "source": [
    "df_14[['genre','na_sales']].groupby('genre').sum().sort_values(by='na_sales', ascending=False).head().reset_index()"
   ]
  },
  {
   "cell_type": "code",
   "execution_count": 51,
   "id": "671d3c05",
   "metadata": {},
   "outputs": [
    {
     "data": {
      "text/html": [
       "<div>\n",
       "<style scoped>\n",
       "    .dataframe tbody tr th:only-of-type {\n",
       "        vertical-align: middle;\n",
       "    }\n",
       "\n",
       "    .dataframe tbody tr th {\n",
       "        vertical-align: top;\n",
       "    }\n",
       "\n",
       "    .dataframe thead th {\n",
       "        text-align: right;\n",
       "    }\n",
       "</style>\n",
       "<table border=\"1\" class=\"dataframe\">\n",
       "  <thead>\n",
       "    <tr style=\"text-align: right;\">\n",
       "      <th></th>\n",
       "      <th>genre</th>\n",
       "      <th>eu_sales</th>\n",
       "    </tr>\n",
       "  </thead>\n",
       "  <tbody>\n",
       "    <tr>\n",
       "      <th>0</th>\n",
       "      <td>Action</td>\n",
       "      <td>63.49</td>\n",
       "    </tr>\n",
       "    <tr>\n",
       "      <th>1</th>\n",
       "      <td>Shooter</td>\n",
       "      <td>56.23</td>\n",
       "    </tr>\n",
       "    <tr>\n",
       "      <th>2</th>\n",
       "      <td>Sports</td>\n",
       "      <td>33.48</td>\n",
       "    </tr>\n",
       "    <tr>\n",
       "      <th>3</th>\n",
       "      <td>Role-Playing</td>\n",
       "      <td>25.94</td>\n",
       "    </tr>\n",
       "    <tr>\n",
       "      <th>4</th>\n",
       "      <td>Racing</td>\n",
       "      <td>12.92</td>\n",
       "    </tr>\n",
       "  </tbody>\n",
       "</table>\n",
       "</div>"
      ],
      "text/plain": [
       "          genre  eu_sales\n",
       "0        Action     63.49\n",
       "1       Shooter     56.23\n",
       "2        Sports     33.48\n",
       "3  Role-Playing     25.94\n",
       "4        Racing     12.92"
      ]
     },
     "execution_count": 51,
     "metadata": {},
     "output_type": "execute_result"
    }
   ],
   "source": [
    "df_14[['genre','eu_sales']].groupby('genre').sum().sort_values(by='eu_sales', ascending=False).head().reset_index()"
   ]
  },
  {
   "cell_type": "code",
   "execution_count": 52,
   "id": "12974032",
   "metadata": {},
   "outputs": [
    {
     "data": {
      "text/html": [
       "<div>\n",
       "<style scoped>\n",
       "    .dataframe tbody tr th:only-of-type {\n",
       "        vertical-align: middle;\n",
       "    }\n",
       "\n",
       "    .dataframe tbody tr th {\n",
       "        vertical-align: top;\n",
       "    }\n",
       "\n",
       "    .dataframe thead th {\n",
       "        text-align: right;\n",
       "    }\n",
       "</style>\n",
       "<table border=\"1\" class=\"dataframe\">\n",
       "  <thead>\n",
       "    <tr style=\"text-align: right;\">\n",
       "      <th></th>\n",
       "      <th>genre</th>\n",
       "      <th>jp_sales</th>\n",
       "    </tr>\n",
       "  </thead>\n",
       "  <tbody>\n",
       "    <tr>\n",
       "      <th>0</th>\n",
       "      <td>Role-Playing</td>\n",
       "      <td>28.70</td>\n",
       "    </tr>\n",
       "    <tr>\n",
       "      <th>1</th>\n",
       "      <td>Action</td>\n",
       "      <td>24.71</td>\n",
       "    </tr>\n",
       "    <tr>\n",
       "      <th>2</th>\n",
       "      <td>Misc</td>\n",
       "      <td>5.17</td>\n",
       "    </tr>\n",
       "    <tr>\n",
       "      <th>3</th>\n",
       "      <td>Fighting</td>\n",
       "      <td>5.01</td>\n",
       "    </tr>\n",
       "    <tr>\n",
       "      <th>4</th>\n",
       "      <td>Shooter</td>\n",
       "      <td>4.21</td>\n",
       "    </tr>\n",
       "  </tbody>\n",
       "</table>\n",
       "</div>"
      ],
      "text/plain": [
       "          genre  jp_sales\n",
       "0  Role-Playing     28.70\n",
       "1        Action     24.71\n",
       "2          Misc      5.17\n",
       "3      Fighting      5.01\n",
       "4       Shooter      4.21"
      ]
     },
     "execution_count": 52,
     "metadata": {},
     "output_type": "execute_result"
    }
   ],
   "source": [
    "df_14[['genre','jp_sales']].groupby('genre').sum().sort_values(by='jp_sales', ascending=False).head().reset_index()"
   ]
  },
  {
   "cell_type": "markdown",
   "id": "ba0b5a89",
   "metadata": {},
   "source": [
    "Северо-американский и европейский рынок очень похожи. Разница заключается в обраном распределении первого и второго мест, а также пятое место заняли разные жанры. Возможно более популярная в северо-американском регионе XOne предлагает больший ассортимент игр жарна Shooter, либо более удобное управление таких игр. Первые места японского региона заняли 'Role-Playing' и 'Action'.  \n",
    "\n",
    "Видимо жанр 'Action' очень разнообразный, и включает в себя множество поджанров, раз он занял лидирующие позиции в столь непохожих регионах. Возможно этой разнообразностью и объясняется количество игр этого жанра, обнаруженное в п. 2.5 (более трети всех игр)."
   ]
  },
  {
   "cell_type": "markdown",
   "id": "1fe7f1cb",
   "metadata": {},
   "source": [
    "<div style=\"border-radius: 3px; border: 2px solid black; padding: 0px;\">     \n",
    "<div class=\"alert alert-success\">\n",
    "<b>Комментарий ревьюера ✔️:</b> \n",
    "    \n",
    "🔥🔥🔥    \n",
    "\n",
    "</div>\n",
    "</div>"
   ]
  },
  {
   "cell_type": "markdown",
   "id": "48d42ba0",
   "metadata": {},
   "source": [
    "### Влияние рейтинга ESRB на регинальные продажи"
   ]
  },
  {
   "cell_type": "markdown",
   "id": "6f7a91fa",
   "metadata": {},
   "source": [
    "<div style=\"border-radius: 3px; border: 2px solid black; padding: 0px;\">    \n",
    "<div class=\"alert alert-danger\">\n",
    "<s><b>Комментарий ревьюера ❌:</b> \n",
    "    \n",
    "При твоем способе работы с пропусками в возрастном рейтинге игры без рейтинга оказываются полностью исключенными из анализа. Но продажи именно этих игр могут указать на ключевое различие в регионах\n",
    "</s>\n",
    "</div>\n",
    "</div>"
   ]
  },
  {
   "cell_type": "code",
   "execution_count": 53,
   "id": "b6ef0480",
   "metadata": {},
   "outputs": [
    {
     "data": {
      "text/html": [
       "<div>\n",
       "<style scoped>\n",
       "    .dataframe tbody tr th:only-of-type {\n",
       "        vertical-align: middle;\n",
       "    }\n",
       "\n",
       "    .dataframe tbody tr th {\n",
       "        vertical-align: top;\n",
       "    }\n",
       "\n",
       "    .dataframe thead th {\n",
       "        text-align: right;\n",
       "    }\n",
       "</style>\n",
       "<table border=\"1\" class=\"dataframe\">\n",
       "  <thead>\n",
       "    <tr style=\"text-align: right;\">\n",
       "      <th></th>\n",
       "      <th>rating</th>\n",
       "      <th>na_sales</th>\n",
       "    </tr>\n",
       "  </thead>\n",
       "  <tbody>\n",
       "    <tr>\n",
       "      <th>0</th>\n",
       "      <td>M</td>\n",
       "      <td>82.23</td>\n",
       "    </tr>\n",
       "    <tr>\n",
       "      <th>1</th>\n",
       "      <td>E</td>\n",
       "      <td>37.65</td>\n",
       "    </tr>\n",
       "    <tr>\n",
       "      <th>2</th>\n",
       "      <td>T</td>\n",
       "      <td>32.46</td>\n",
       "    </tr>\n",
       "    <tr>\n",
       "      <th>3</th>\n",
       "      <td>E10+</td>\n",
       "      <td>23.53</td>\n",
       "    </tr>\n",
       "  </tbody>\n",
       "</table>\n",
       "</div>"
      ],
      "text/plain": [
       "  rating  na_sales\n",
       "0      M     82.23\n",
       "1      E     37.65\n",
       "2      T     32.46\n",
       "3   E10+     23.53"
      ]
     },
     "execution_count": 53,
     "metadata": {},
     "output_type": "execute_result"
    }
   ],
   "source": [
    "df_14[['na_sales','rating']].groupby('rating').sum().sort_values(by='na_sales', ascending=False).reset_index()"
   ]
  },
  {
   "cell_type": "code",
   "execution_count": 54,
   "id": "4515af68",
   "metadata": {},
   "outputs": [
    {
     "data": {
      "text/html": [
       "<div>\n",
       "<style scoped>\n",
       "    .dataframe tbody tr th:only-of-type {\n",
       "        vertical-align: middle;\n",
       "    }\n",
       "\n",
       "    .dataframe tbody tr th {\n",
       "        vertical-align: top;\n",
       "    }\n",
       "\n",
       "    .dataframe thead th {\n",
       "        text-align: right;\n",
       "    }\n",
       "</style>\n",
       "<table border=\"1\" class=\"dataframe\">\n",
       "  <thead>\n",
       "    <tr style=\"text-align: right;\">\n",
       "      <th></th>\n",
       "      <th>rating</th>\n",
       "      <th>eu_sales</th>\n",
       "    </tr>\n",
       "  </thead>\n",
       "  <tbody>\n",
       "    <tr>\n",
       "      <th>0</th>\n",
       "      <td>M</td>\n",
       "      <td>82.38</td>\n",
       "    </tr>\n",
       "    <tr>\n",
       "      <th>1</th>\n",
       "      <td>E</td>\n",
       "      <td>45.90</td>\n",
       "    </tr>\n",
       "    <tr>\n",
       "      <th>2</th>\n",
       "      <td>T</td>\n",
       "      <td>30.09</td>\n",
       "    </tr>\n",
       "    <tr>\n",
       "      <th>3</th>\n",
       "      <td>E10+</td>\n",
       "      <td>17.89</td>\n",
       "    </tr>\n",
       "  </tbody>\n",
       "</table>\n",
       "</div>"
      ],
      "text/plain": [
       "  rating  eu_sales\n",
       "0      M     82.38\n",
       "1      E     45.90\n",
       "2      T     30.09\n",
       "3   E10+     17.89"
      ]
     },
     "execution_count": 54,
     "metadata": {},
     "output_type": "execute_result"
    }
   ],
   "source": [
    "df_14[['eu_sales','rating']].groupby('rating').sum().sort_values(by='eu_sales', ascending=False).reset_index()"
   ]
  },
  {
   "cell_type": "code",
   "execution_count": 55,
   "id": "7fdc307c",
   "metadata": {},
   "outputs": [
    {
     "data": {
      "text/html": [
       "<div>\n",
       "<style scoped>\n",
       "    .dataframe tbody tr th:only-of-type {\n",
       "        vertical-align: middle;\n",
       "    }\n",
       "\n",
       "    .dataframe tbody tr th {\n",
       "        vertical-align: top;\n",
       "    }\n",
       "\n",
       "    .dataframe thead th {\n",
       "        text-align: right;\n",
       "    }\n",
       "</style>\n",
       "<table border=\"1\" class=\"dataframe\">\n",
       "  <thead>\n",
       "    <tr style=\"text-align: right;\">\n",
       "      <th></th>\n",
       "      <th>rating</th>\n",
       "      <th>jp_sales</th>\n",
       "    </tr>\n",
       "  </thead>\n",
       "  <tbody>\n",
       "    <tr>\n",
       "      <th>0</th>\n",
       "      <td>T</td>\n",
       "      <td>11.99</td>\n",
       "    </tr>\n",
       "    <tr>\n",
       "      <th>1</th>\n",
       "      <td>E</td>\n",
       "      <td>8.29</td>\n",
       "    </tr>\n",
       "    <tr>\n",
       "      <th>2</th>\n",
       "      <td>M</td>\n",
       "      <td>6.40</td>\n",
       "    </tr>\n",
       "    <tr>\n",
       "      <th>3</th>\n",
       "      <td>E10+</td>\n",
       "      <td>4.32</td>\n",
       "    </tr>\n",
       "  </tbody>\n",
       "</table>\n",
       "</div>"
      ],
      "text/plain": [
       "  rating  jp_sales\n",
       "0      T     11.99\n",
       "1      E      8.29\n",
       "2      M      6.40\n",
       "3   E10+      4.32"
      ]
     },
     "execution_count": 55,
     "metadata": {},
     "output_type": "execute_result"
    }
   ],
   "source": [
    "df_14[['jp_sales','rating']].groupby('rating').sum().sort_values(by='jp_sales', ascending=False).reset_index()"
   ]
  },
  {
   "cell_type": "markdown",
   "id": "5e891527",
   "metadata": {},
   "source": [
    "Наибольшей популярностью в европейском и северо-американском регионах пользуются игры для взрослых. Почти в половину меньше продается игр для аудитории старше 6 лет, далее идут игры для подростков.  \n",
    "Японский рынок - это рынок, в первую очередь, подростковвых и детских игр. Взрослый же контент занимает примерно пятую часть от всего объема продаж."
   ]
  },
  {
   "cell_type": "markdown",
   "id": "5a91776c",
   "metadata": {},
   "source": [
    "<div style=\"border-radius: 3px; border: 2px solid black; padding: 0px;\">    \n",
    "<div class=\"alert alert-danger\">\n",
    "<s><b>Комментарий ревьюера ❌:</b> \n",
    "    \n",
    "Какие видишь причины популярности игр без рейтинга? (вопрос актуален в случае замены пропусков)\n",
    "</s>\n",
    "</div>\n",
    "</div>"
   ]
  },
  {
   "cell_type": "markdown",
   "id": "7a0ede91",
   "metadata": {},
   "source": [
    "<div style=\"border-radius: 3px; border: 2px solid black; padding: 0px;\">    \n",
    "<div class='alert alert-info'>\n",
    "Для выделения в отдельную группу игр без рейтинов - выделим их в отдельную группу 'no rating'.\n",
    "<br/><i>(Добавлены пункты 3.3.1 - 3.3.3)</i>\n",
    "</div>\n",
    "</div>"
   ]
  },
  {
   "cell_type": "markdown",
   "id": "935b3c2b",
   "metadata": {},
   "source": [
    "<div style=\"border-radius: 3px; border: 2px solid black; padding: 0px;\">     \n",
    "<div class=\"alert alert-success\">\n",
    "<b>Комментарий ревьюера V.2 ✔️:</b> \n",
    "    \n",
    "Смотрим    \n",
    "\n",
    "</div>\n",
    "</div>"
   ]
  },
  {
   "cell_type": "code",
   "execution_count": 56,
   "id": "2dce97bb",
   "metadata": {},
   "outputs": [
    {
     "data": {
      "text/html": [
       "<div>\n",
       "<style scoped>\n",
       "    .dataframe tbody tr th:only-of-type {\n",
       "        vertical-align: middle;\n",
       "    }\n",
       "\n",
       "    .dataframe tbody tr th {\n",
       "        vertical-align: top;\n",
       "    }\n",
       "\n",
       "    .dataframe thead th {\n",
       "        text-align: right;\n",
       "    }\n",
       "</style>\n",
       "<table border=\"1\" class=\"dataframe\">\n",
       "  <thead>\n",
       "    <tr style=\"text-align: right;\">\n",
       "      <th></th>\n",
       "      <th>name</th>\n",
       "      <th>platform</th>\n",
       "      <th>year_of_release</th>\n",
       "      <th>genre</th>\n",
       "      <th>na_sales</th>\n",
       "      <th>eu_sales</th>\n",
       "      <th>jp_sales</th>\n",
       "      <th>other_sales</th>\n",
       "      <th>critic_score</th>\n",
       "      <th>user_score</th>\n",
       "      <th>rating</th>\n",
       "      <th>total_sales</th>\n",
       "    </tr>\n",
       "  </thead>\n",
       "  <tbody>\n",
       "    <tr>\n",
       "      <th>0</th>\n",
       "      <td>Call of Duty: Black Ops 3</td>\n",
       "      <td>PS4</td>\n",
       "      <td>2015</td>\n",
       "      <td>Shooter</td>\n",
       "      <td>6.03</td>\n",
       "      <td>5.86</td>\n",
       "      <td>0.36</td>\n",
       "      <td>2.38</td>\n",
       "      <td>NaN</td>\n",
       "      <td>NaN</td>\n",
       "      <td>no rating</td>\n",
       "      <td>14.63</td>\n",
       "    </tr>\n",
       "    <tr>\n",
       "      <th>1</th>\n",
       "      <td>Grand Theft Auto V</td>\n",
       "      <td>PS4</td>\n",
       "      <td>2014</td>\n",
       "      <td>Action</td>\n",
       "      <td>3.96</td>\n",
       "      <td>6.31</td>\n",
       "      <td>0.38</td>\n",
       "      <td>1.97</td>\n",
       "      <td>97.0</td>\n",
       "      <td>8.3</td>\n",
       "      <td>M</td>\n",
       "      <td>12.62</td>\n",
       "    </tr>\n",
       "    <tr>\n",
       "      <th>2</th>\n",
       "      <td>Pokemon Omega Ruby/Pokemon Alpha Sapphire</td>\n",
       "      <td>3DS</td>\n",
       "      <td>2014</td>\n",
       "      <td>Role-Playing</td>\n",
       "      <td>4.35</td>\n",
       "      <td>3.49</td>\n",
       "      <td>3.10</td>\n",
       "      <td>0.74</td>\n",
       "      <td>NaN</td>\n",
       "      <td>NaN</td>\n",
       "      <td>no rating</td>\n",
       "      <td>11.68</td>\n",
       "    </tr>\n",
       "    <tr>\n",
       "      <th>3</th>\n",
       "      <td>FIFA 16</td>\n",
       "      <td>PS4</td>\n",
       "      <td>2015</td>\n",
       "      <td>Sports</td>\n",
       "      <td>1.12</td>\n",
       "      <td>6.12</td>\n",
       "      <td>0.06</td>\n",
       "      <td>1.28</td>\n",
       "      <td>82.0</td>\n",
       "      <td>4.3</td>\n",
       "      <td>E</td>\n",
       "      <td>8.58</td>\n",
       "    </tr>\n",
       "    <tr>\n",
       "      <th>4</th>\n",
       "      <td>Star Wars Battlefront (2015)</td>\n",
       "      <td>PS4</td>\n",
       "      <td>2015</td>\n",
       "      <td>Shooter</td>\n",
       "      <td>2.99</td>\n",
       "      <td>3.49</td>\n",
       "      <td>0.22</td>\n",
       "      <td>1.28</td>\n",
       "      <td>NaN</td>\n",
       "      <td>NaN</td>\n",
       "      <td>no rating</td>\n",
       "      <td>7.98</td>\n",
       "    </tr>\n",
       "  </tbody>\n",
       "</table>\n",
       "</div>"
      ],
      "text/plain": [
       "                                        name platform  year_of_release  \\\n",
       "0                  Call of Duty: Black Ops 3      PS4             2015   \n",
       "1                         Grand Theft Auto V      PS4             2014   \n",
       "2  Pokemon Omega Ruby/Pokemon Alpha Sapphire      3DS             2014   \n",
       "3                                    FIFA 16      PS4             2015   \n",
       "4               Star Wars Battlefront (2015)      PS4             2015   \n",
       "\n",
       "          genre  na_sales  eu_sales  jp_sales  other_sales  critic_score  \\\n",
       "0       Shooter      6.03      5.86      0.36         2.38           NaN   \n",
       "1        Action      3.96      6.31      0.38         1.97          97.0   \n",
       "2  Role-Playing      4.35      3.49      3.10         0.74           NaN   \n",
       "3        Sports      1.12      6.12      0.06         1.28          82.0   \n",
       "4       Shooter      2.99      3.49      0.22         1.28           NaN   \n",
       "\n",
       "   user_score     rating  total_sales  \n",
       "0         NaN  no rating        14.63  \n",
       "1         8.3          M        12.62  \n",
       "2         NaN  no rating        11.68  \n",
       "3         4.3          E         8.58  \n",
       "4         NaN  no rating         7.98  "
      ]
     },
     "execution_count": 56,
     "metadata": {},
     "output_type": "execute_result"
    }
   ],
   "source": [
    "df_14 = df_14.fillna(value={'rating':'no rating'})\n",
    "df_14.head()"
   ]
  },
  {
   "cell_type": "markdown",
   "id": "55cd8fc6",
   "metadata": {},
   "source": [
    "#### Распределение игр по жанрам в зависимости от рейтинга"
   ]
  },
  {
   "cell_type": "markdown",
   "id": "50198f0b",
   "metadata": {},
   "source": [
    "<div style=\"border-radius: 3px; border: 2px solid black; padding: 0px;\">    \n",
    "<div class='alert alert-info'>\n",
    "Число игр\n",
    "</div>\n",
    "</div>"
   ]
  },
  {
   "cell_type": "code",
   "execution_count": 57,
   "id": "3dc368b9",
   "metadata": {
    "scrolled": false
   },
   "outputs": [
    {
     "data": {
      "text/html": [
       "<div>\n",
       "<style scoped>\n",
       "    .dataframe tbody tr th:only-of-type {\n",
       "        vertical-align: middle;\n",
       "    }\n",
       "\n",
       "    .dataframe tbody tr th {\n",
       "        vertical-align: top;\n",
       "    }\n",
       "\n",
       "    .dataframe thead th {\n",
       "        text-align: right;\n",
       "    }\n",
       "</style>\n",
       "<table border=\"1\" class=\"dataframe\">\n",
       "  <thead>\n",
       "    <tr style=\"text-align: right;\">\n",
       "      <th>rating</th>\n",
       "      <th>genre</th>\n",
       "      <th>E</th>\n",
       "      <th>E10+</th>\n",
       "      <th>M</th>\n",
       "      <th>T</th>\n",
       "      <th>no rating</th>\n",
       "    </tr>\n",
       "  </thead>\n",
       "  <tbody>\n",
       "    <tr>\n",
       "      <th>0</th>\n",
       "      <td>Action</td>\n",
       "      <td>28.0</td>\n",
       "      <td>63.0</td>\n",
       "      <td>95.0</td>\n",
       "      <td>72.0</td>\n",
       "      <td>237.0</td>\n",
       "    </tr>\n",
       "    <tr>\n",
       "      <th>1</th>\n",
       "      <td>Adventure</td>\n",
       "      <td>0.0</td>\n",
       "      <td>8.0</td>\n",
       "      <td>19.0</td>\n",
       "      <td>13.0</td>\n",
       "      <td>108.0</td>\n",
       "    </tr>\n",
       "    <tr>\n",
       "      <th>2</th>\n",
       "      <td>Fighting</td>\n",
       "      <td>0.0</td>\n",
       "      <td>1.0</td>\n",
       "      <td>3.0</td>\n",
       "      <td>20.0</td>\n",
       "      <td>14.0</td>\n",
       "    </tr>\n",
       "    <tr>\n",
       "      <th>3</th>\n",
       "      <td>Misc</td>\n",
       "      <td>10.0</td>\n",
       "      <td>13.0</td>\n",
       "      <td>3.0</td>\n",
       "      <td>13.0</td>\n",
       "      <td>50.0</td>\n",
       "    </tr>\n",
       "    <tr>\n",
       "      <th>4</th>\n",
       "      <td>Platform</td>\n",
       "      <td>15.0</td>\n",
       "      <td>10.0</td>\n",
       "      <td>0.0</td>\n",
       "      <td>4.0</td>\n",
       "      <td>4.0</td>\n",
       "    </tr>\n",
       "    <tr>\n",
       "      <th>5</th>\n",
       "      <td>Puzzle</td>\n",
       "      <td>5.0</td>\n",
       "      <td>2.0</td>\n",
       "      <td>0.0</td>\n",
       "      <td>0.0</td>\n",
       "      <td>6.0</td>\n",
       "    </tr>\n",
       "    <tr>\n",
       "      <th>6</th>\n",
       "      <td>Racing</td>\n",
       "      <td>33.0</td>\n",
       "      <td>4.0</td>\n",
       "      <td>0.0</td>\n",
       "      <td>3.0</td>\n",
       "      <td>13.0</td>\n",
       "    </tr>\n",
       "    <tr>\n",
       "      <th>7</th>\n",
       "      <td>Role-Playing</td>\n",
       "      <td>2.0</td>\n",
       "      <td>8.0</td>\n",
       "      <td>35.0</td>\n",
       "      <td>43.0</td>\n",
       "      <td>99.0</td>\n",
       "    </tr>\n",
       "    <tr>\n",
       "      <th>8</th>\n",
       "      <td>Shooter</td>\n",
       "      <td>0.0</td>\n",
       "      <td>11.0</td>\n",
       "      <td>57.0</td>\n",
       "      <td>16.0</td>\n",
       "      <td>15.0</td>\n",
       "    </tr>\n",
       "    <tr>\n",
       "      <th>9</th>\n",
       "      <td>Simulation</td>\n",
       "      <td>10.0</td>\n",
       "      <td>3.0</td>\n",
       "      <td>0.0</td>\n",
       "      <td>8.0</td>\n",
       "      <td>19.0</td>\n",
       "    </tr>\n",
       "    <tr>\n",
       "      <th>10</th>\n",
       "      <td>Sports</td>\n",
       "      <td>59.0</td>\n",
       "      <td>11.0</td>\n",
       "      <td>0.0</td>\n",
       "      <td>14.0</td>\n",
       "      <td>20.0</td>\n",
       "    </tr>\n",
       "    <tr>\n",
       "      <th>11</th>\n",
       "      <td>Strategy</td>\n",
       "      <td>0.0</td>\n",
       "      <td>3.0</td>\n",
       "      <td>0.0</td>\n",
       "      <td>10.0</td>\n",
       "      <td>23.0</td>\n",
       "    </tr>\n",
       "  </tbody>\n",
       "</table>\n",
       "</div>"
      ],
      "text/plain": [
       "rating         genre     E  E10+     M     T  no rating\n",
       "0             Action  28.0  63.0  95.0  72.0      237.0\n",
       "1          Adventure   0.0   8.0  19.0  13.0      108.0\n",
       "2           Fighting   0.0   1.0   3.0  20.0       14.0\n",
       "3               Misc  10.0  13.0   3.0  13.0       50.0\n",
       "4           Platform  15.0  10.0   0.0   4.0        4.0\n",
       "5             Puzzle   5.0   2.0   0.0   0.0        6.0\n",
       "6             Racing  33.0   4.0   0.0   3.0       13.0\n",
       "7       Role-Playing   2.0   8.0  35.0  43.0       99.0\n",
       "8            Shooter   0.0  11.0  57.0  16.0       15.0\n",
       "9         Simulation  10.0   3.0   0.0   8.0       19.0\n",
       "10            Sports  59.0  11.0   0.0  14.0       20.0\n",
       "11          Strategy   0.0   3.0   0.0  10.0       23.0"
      ]
     },
     "execution_count": 57,
     "metadata": {},
     "output_type": "execute_result"
    }
   ],
   "source": [
    "df_14.pivot_table(index='genre', columns='rating', values='name', aggfunc='count').fillna(0).reset_index()"
   ]
  },
  {
   "cell_type": "code",
   "execution_count": 58,
   "id": "26c937ba",
   "metadata": {},
   "outputs": [
    {
     "data": {
      "text/plain": [
       "<AxesSubplot:xlabel='rating', ylabel='genre'>"
      ]
     },
     "execution_count": 58,
     "metadata": {},
     "output_type": "execute_result"
    },
    {
     "data": {
      "image/png": "[encoded data removed]",
      "text/plain": [
       "<Figure size 432x288 with 2 Axes>"
      ]
     },
     "metadata": {
      "needs_background": "light"
     },
     "output_type": "display_data"
    }
   ],
   "source": [
    "sb.heatmap(df_14.pivot_table(index='genre', columns='rating', values='name', aggfunc='count').fillna(0),\n",
    "          robust=True, linewidth=.5, cbar=True, square=False)"
   ]
  },
  {
   "cell_type": "markdown",
   "id": "66c25352",
   "metadata": {},
   "source": [
    "<div style=\"border-radius: 3px; border: 2px solid black; padding: 0px;\">    \n",
    "<div class='alert alert-info'>\n",
    "Уровень продаж\n",
    "</div>\n",
    "</div>"
   ]
  },
  {
   "cell_type": "code",
   "execution_count": 59,
   "id": "32eac32f",
   "metadata": {},
   "outputs": [
    {
     "data": {
      "text/html": [
       "<div>\n",
       "<style scoped>\n",
       "    .dataframe tbody tr th:only-of-type {\n",
       "        vertical-align: middle;\n",
       "    }\n",
       "\n",
       "    .dataframe tbody tr th {\n",
       "        vertical-align: top;\n",
       "    }\n",
       "\n",
       "    .dataframe thead th {\n",
       "        text-align: right;\n",
       "    }\n",
       "</style>\n",
       "<table border=\"1\" class=\"dataframe\">\n",
       "  <thead>\n",
       "    <tr style=\"text-align: right;\">\n",
       "      <th>rating</th>\n",
       "      <th>genre</th>\n",
       "      <th>E</th>\n",
       "      <th>E10+</th>\n",
       "      <th>M</th>\n",
       "      <th>T</th>\n",
       "      <th>no rating</th>\n",
       "    </tr>\n",
       "  </thead>\n",
       "  <tbody>\n",
       "    <tr>\n",
       "      <th>0</th>\n",
       "      <td>Action</td>\n",
       "      <td>4.77</td>\n",
       "      <td>20.76</td>\n",
       "      <td>80.92</td>\n",
       "      <td>18.64</td>\n",
       "      <td>42.45</td>\n",
       "    </tr>\n",
       "    <tr>\n",
       "      <th>1</th>\n",
       "      <td>Adventure</td>\n",
       "      <td>0.00</td>\n",
       "      <td>0.76</td>\n",
       "      <td>5.03</td>\n",
       "      <td>0.59</td>\n",
       "      <td>7.06</td>\n",
       "    </tr>\n",
       "    <tr>\n",
       "      <th>2</th>\n",
       "      <td>Fighting</td>\n",
       "      <td>0.00</td>\n",
       "      <td>1.01</td>\n",
       "      <td>4.21</td>\n",
       "      <td>5.74</td>\n",
       "      <td>13.71</td>\n",
       "    </tr>\n",
       "    <tr>\n",
       "      <th>3</th>\n",
       "      <td>Misc</td>\n",
       "      <td>3.07</td>\n",
       "      <td>3.84</td>\n",
       "      <td>1.22</td>\n",
       "      <td>3.83</td>\n",
       "      <td>14.47</td>\n",
       "    </tr>\n",
       "    <tr>\n",
       "      <th>4</th>\n",
       "      <td>Platform</td>\n",
       "      <td>12.59</td>\n",
       "      <td>2.07</td>\n",
       "      <td>0.00</td>\n",
       "      <td>0.57</td>\n",
       "      <td>1.91</td>\n",
       "    </tr>\n",
       "    <tr>\n",
       "      <th>5</th>\n",
       "      <td>Puzzle</td>\n",
       "      <td>1.34</td>\n",
       "      <td>0.03</td>\n",
       "      <td>0.00</td>\n",
       "      <td>0.00</td>\n",
       "      <td>0.80</td>\n",
       "    </tr>\n",
       "    <tr>\n",
       "      <th>6</th>\n",
       "      <td>Racing</td>\n",
       "      <td>16.15</td>\n",
       "      <td>2.10</td>\n",
       "      <td>0.00</td>\n",
       "      <td>2.52</td>\n",
       "      <td>4.11</td>\n",
       "    </tr>\n",
       "    <tr>\n",
       "      <th>7</th>\n",
       "      <td>Role-Playing</td>\n",
       "      <td>1.67</td>\n",
       "      <td>2.05</td>\n",
       "      <td>31.17</td>\n",
       "      <td>12.50</td>\n",
       "      <td>44.66</td>\n",
       "    </tr>\n",
       "    <tr>\n",
       "      <th>8</th>\n",
       "      <td>Shooter</td>\n",
       "      <td>0.00</td>\n",
       "      <td>7.18</td>\n",
       "      <td>73.42</td>\n",
       "      <td>26.72</td>\n",
       "      <td>37.79</td>\n",
       "    </tr>\n",
       "    <tr>\n",
       "      <th>9</th>\n",
       "      <td>Simulation</td>\n",
       "      <td>4.91</td>\n",
       "      <td>0.64</td>\n",
       "      <td>0.00</td>\n",
       "      <td>3.88</td>\n",
       "      <td>2.90</td>\n",
       "    </tr>\n",
       "    <tr>\n",
       "      <th>10</th>\n",
       "      <td>Sports</td>\n",
       "      <td>58.98</td>\n",
       "      <td>9.98</td>\n",
       "      <td>0.00</td>\n",
       "      <td>7.58</td>\n",
       "      <td>1.42</td>\n",
       "    </tr>\n",
       "    <tr>\n",
       "      <th>11</th>\n",
       "      <td>Strategy</td>\n",
       "      <td>0.00</td>\n",
       "      <td>0.86</td>\n",
       "      <td>0.00</td>\n",
       "      <td>1.69</td>\n",
       "      <td>1.35</td>\n",
       "    </tr>\n",
       "  </tbody>\n",
       "</table>\n",
       "</div>"
      ],
      "text/plain": [
       "rating         genre      E   E10+      M      T  no rating\n",
       "0             Action   4.77  20.76  80.92  18.64      42.45\n",
       "1          Adventure   0.00   0.76   5.03   0.59       7.06\n",
       "2           Fighting   0.00   1.01   4.21   5.74      13.71\n",
       "3               Misc   3.07   3.84   1.22   3.83      14.47\n",
       "4           Platform  12.59   2.07   0.00   0.57       1.91\n",
       "5             Puzzle   1.34   0.03   0.00   0.00       0.80\n",
       "6             Racing  16.15   2.10   0.00   2.52       4.11\n",
       "7       Role-Playing   1.67   2.05  31.17  12.50      44.66\n",
       "8            Shooter   0.00   7.18  73.42  26.72      37.79\n",
       "9         Simulation   4.91   0.64   0.00   3.88       2.90\n",
       "10            Sports  58.98   9.98   0.00   7.58       1.42\n",
       "11          Strategy   0.00   0.86   0.00   1.69       1.35"
      ]
     },
     "execution_count": 59,
     "metadata": {},
     "output_type": "execute_result"
    }
   ],
   "source": [
    "df_14.pivot_table(index='genre', columns='rating', values='total_sales', aggfunc='sum').fillna(0).reset_index()"
   ]
  },
  {
   "cell_type": "markdown",
   "id": "5e0adc2b",
   "metadata": {},
   "source": [
    "<div style=\"border-radius: 3px; border: 2px solid black; padding: 0px;\">    \n",
    "<div class='alert alert-info'>\n",
    "По большенству жанров количество игр без рейтинга существенно превышает количество игр с рейтингом.\n",
    "</div>\n",
    "</div>"
   ]
  },
  {
   "cell_type": "markdown",
   "id": "3b0a16e1",
   "metadata": {},
   "source": [
    "<div style=\"border-radius: 3px; border: 2px solid black; padding: 0px;\">     \n",
    "<div class=\"alert alert-success\">\n",
    "<b>Комментарий ревьюера V.2 ✔️:</b> \n",
    "    \n",
    "Perfect!⭐    \n",
    "\n",
    "</div>\n",
    "</div>"
   ]
  },
  {
   "cell_type": "markdown",
   "id": "7c18c829",
   "metadata": {},
   "source": [
    "#### Уровень продаж по регионам в зависимости от рейтингов"
   ]
  },
  {
   "cell_type": "code",
   "execution_count": 60,
   "id": "cd5b9e46",
   "metadata": {},
   "outputs": [
    {
     "data": {
      "text/html": [
       "<div>\n",
       "<style scoped>\n",
       "    .dataframe tbody tr th:only-of-type {\n",
       "        vertical-align: middle;\n",
       "    }\n",
       "\n",
       "    .dataframe tbody tr th {\n",
       "        vertical-align: top;\n",
       "    }\n",
       "\n",
       "    .dataframe thead th {\n",
       "        text-align: right;\n",
       "    }\n",
       "</style>\n",
       "<table border=\"1\" class=\"dataframe\">\n",
       "  <thead>\n",
       "    <tr style=\"text-align: right;\">\n",
       "      <th></th>\n",
       "      <th>rating</th>\n",
       "      <th>eu_sales</th>\n",
       "      <th>jp_sales</th>\n",
       "      <th>na_sales</th>\n",
       "    </tr>\n",
       "  </thead>\n",
       "  <tbody>\n",
       "    <tr>\n",
       "      <th>0</th>\n",
       "      <td>E</td>\n",
       "      <td>45.90</td>\n",
       "      <td>8.29</td>\n",
       "      <td>37.65</td>\n",
       "    </tr>\n",
       "    <tr>\n",
       "      <th>1</th>\n",
       "      <td>E10+</td>\n",
       "      <td>17.89</td>\n",
       "      <td>4.32</td>\n",
       "      <td>23.53</td>\n",
       "    </tr>\n",
       "    <tr>\n",
       "      <th>2</th>\n",
       "      <td>M</td>\n",
       "      <td>82.38</td>\n",
       "      <td>6.40</td>\n",
       "      <td>82.23</td>\n",
       "    </tr>\n",
       "    <tr>\n",
       "      <th>3</th>\n",
       "      <td>T</td>\n",
       "      <td>30.09</td>\n",
       "      <td>11.99</td>\n",
       "      <td>32.46</td>\n",
       "    </tr>\n",
       "    <tr>\n",
       "      <th>4</th>\n",
       "      <td>no rating</td>\n",
       "      <td>50.80</td>\n",
       "      <td>50.43</td>\n",
       "      <td>55.76</td>\n",
       "    </tr>\n",
       "  </tbody>\n",
       "</table>\n",
       "</div>"
      ],
      "text/plain": [
       "      rating  eu_sales  jp_sales  na_sales\n",
       "0          E     45.90      8.29     37.65\n",
       "1       E10+     17.89      4.32     23.53\n",
       "2          M     82.38      6.40     82.23\n",
       "3          T     30.09     11.99     32.46\n",
       "4  no rating     50.80     50.43     55.76"
      ]
     },
     "execution_count": 60,
     "metadata": {},
     "output_type": "execute_result"
    }
   ],
   "source": [
    "df_14.pivot_table(index='rating', values=['na_sales','eu_sales','jp_sales'], aggfunc='sum').reset_index()"
   ]
  },
  {
   "cell_type": "markdown",
   "id": "03113f85",
   "metadata": {},
   "source": [
    "<div style=\"border-radius: 3px; border: 2px solid black; padding: 0px;\">    \n",
    "<div class='alert alert-info'>\n",
    "По числу продаж европейском и северо-американском рынках лидируют игры рейтинга 'M'. На втором месте идут игры без указанного рейтинга.\n",
    "<br/>На японском рынке более половины проданных игры не имеют возрастных рейтингов. \n",
    "</div>\n",
    "</div>"
   ]
  },
  {
   "cell_type": "markdown",
   "id": "14cd854d",
   "metadata": {},
   "source": [
    "<div style=\"border-radius: 3px; border: 2px solid black; padding: 0px;\">      \n",
    "<div class=\"alert alert-warning\">\n",
    "<b>Комментарий ревьюера V.2 ⚠️:</b> \n",
    "    \n",
    "Какие причины могут быть у популярности игр без рейтинга в Японии?\n",
    "    \n",
    "</div>\n",
    "</div>"
   ]
  },
  {
   "cell_type": "markdown",
   "id": "7a23cb18",
   "metadata": {},
   "source": [
    "#### Уровень продаж игр определенных жанров в зависимости от рейтингов по каждому из рынков"
   ]
  },
  {
   "cell_type": "code",
   "execution_count": 61,
   "id": "0247d4f7",
   "metadata": {
    "scrolled": false
   },
   "outputs": [
    {
     "data": {
      "text/html": [
       "<div>\n",
       "<style scoped>\n",
       "    .dataframe tbody tr th:only-of-type {\n",
       "        vertical-align: middle;\n",
       "    }\n",
       "\n",
       "    .dataframe tbody tr th {\n",
       "        vertical-align: top;\n",
       "    }\n",
       "\n",
       "    .dataframe thead th {\n",
       "        text-align: right;\n",
       "    }\n",
       "</style>\n",
       "<table border=\"1\" class=\"dataframe\">\n",
       "  <thead>\n",
       "    <tr style=\"text-align: right;\">\n",
       "      <th>rating</th>\n",
       "      <th>genre</th>\n",
       "      <th>E</th>\n",
       "      <th>E10+</th>\n",
       "      <th>M</th>\n",
       "      <th>T</th>\n",
       "      <th>no rating</th>\n",
       "    </tr>\n",
       "  </thead>\n",
       "  <tbody>\n",
       "    <tr>\n",
       "      <th>0</th>\n",
       "      <td>Action</td>\n",
       "      <td>2.00</td>\n",
       "      <td>8.82</td>\n",
       "      <td>31.47</td>\n",
       "      <td>6.97</td>\n",
       "      <td>10.90</td>\n",
       "    </tr>\n",
       "    <tr>\n",
       "      <th>1</th>\n",
       "      <td>Adventure</td>\n",
       "      <td>0.00</td>\n",
       "      <td>0.29</td>\n",
       "      <td>1.80</td>\n",
       "      <td>0.21</td>\n",
       "      <td>1.62</td>\n",
       "    </tr>\n",
       "    <tr>\n",
       "      <th>2</th>\n",
       "      <td>Fighting</td>\n",
       "      <td>0.00</td>\n",
       "      <td>0.50</td>\n",
       "      <td>2.54</td>\n",
       "      <td>1.95</td>\n",
       "      <td>6.24</td>\n",
       "    </tr>\n",
       "    <tr>\n",
       "      <th>3</th>\n",
       "      <td>Misc</td>\n",
       "      <td>1.30</td>\n",
       "      <td>2.17</td>\n",
       "      <td>0.63</td>\n",
       "      <td>1.90</td>\n",
       "      <td>4.26</td>\n",
       "    </tr>\n",
       "    <tr>\n",
       "      <th>4</th>\n",
       "      <td>Platform</td>\n",
       "      <td>4.97</td>\n",
       "      <td>0.63</td>\n",
       "      <td>0.00</td>\n",
       "      <td>0.21</td>\n",
       "      <td>0.64</td>\n",
       "    </tr>\n",
       "    <tr>\n",
       "      <th>5</th>\n",
       "      <td>Puzzle</td>\n",
       "      <td>0.59</td>\n",
       "      <td>0.00</td>\n",
       "      <td>0.00</td>\n",
       "      <td>0.00</td>\n",
       "      <td>0.06</td>\n",
       "    </tr>\n",
       "    <tr>\n",
       "      <th>6</th>\n",
       "      <td>Racing</td>\n",
       "      <td>5.46</td>\n",
       "      <td>0.75</td>\n",
       "      <td>0.00</td>\n",
       "      <td>0.60</td>\n",
       "      <td>0.91</td>\n",
       "    </tr>\n",
       "    <tr>\n",
       "      <th>7</th>\n",
       "      <td>Role-Playing</td>\n",
       "      <td>0.68</td>\n",
       "      <td>0.57</td>\n",
       "      <td>12.51</td>\n",
       "      <td>2.69</td>\n",
       "      <td>13.29</td>\n",
       "    </tr>\n",
       "    <tr>\n",
       "      <th>8</th>\n",
       "      <td>Shooter</td>\n",
       "      <td>0.00</td>\n",
       "      <td>2.84</td>\n",
       "      <td>33.28</td>\n",
       "      <td>12.99</td>\n",
       "      <td>17.18</td>\n",
       "    </tr>\n",
       "    <tr>\n",
       "      <th>9</th>\n",
       "      <td>Simulation</td>\n",
       "      <td>0.65</td>\n",
       "      <td>0.05</td>\n",
       "      <td>0.00</td>\n",
       "      <td>1.15</td>\n",
       "      <td>0.42</td>\n",
       "    </tr>\n",
       "    <tr>\n",
       "      <th>10</th>\n",
       "      <td>Sports</td>\n",
       "      <td>22.00</td>\n",
       "      <td>6.69</td>\n",
       "      <td>0.00</td>\n",
       "      <td>3.19</td>\n",
       "      <td>0.08</td>\n",
       "    </tr>\n",
       "    <tr>\n",
       "      <th>11</th>\n",
       "      <td>Strategy</td>\n",
       "      <td>0.00</td>\n",
       "      <td>0.22</td>\n",
       "      <td>0.00</td>\n",
       "      <td>0.60</td>\n",
       "      <td>0.16</td>\n",
       "    </tr>\n",
       "  </tbody>\n",
       "</table>\n",
       "</div>"
      ],
      "text/plain": [
       "rating         genre      E  E10+      M      T  no rating\n",
       "0             Action   2.00  8.82  31.47   6.97      10.90\n",
       "1          Adventure   0.00  0.29   1.80   0.21       1.62\n",
       "2           Fighting   0.00  0.50   2.54   1.95       6.24\n",
       "3               Misc   1.30  2.17   0.63   1.90       4.26\n",
       "4           Platform   4.97  0.63   0.00   0.21       0.64\n",
       "5             Puzzle   0.59  0.00   0.00   0.00       0.06\n",
       "6             Racing   5.46  0.75   0.00   0.60       0.91\n",
       "7       Role-Playing   0.68  0.57  12.51   2.69      13.29\n",
       "8            Shooter   0.00  2.84  33.28  12.99      17.18\n",
       "9         Simulation   0.65  0.05   0.00   1.15       0.42\n",
       "10            Sports  22.00  6.69   0.00   3.19       0.08\n",
       "11          Strategy   0.00  0.22   0.00   0.60       0.16"
      ]
     },
     "execution_count": 61,
     "metadata": {},
     "output_type": "execute_result"
    }
   ],
   "source": [
    "df_14.pivot_table(index='genre', columns='rating', values='na_sales', aggfunc='sum').fillna(0).reset_index()"
   ]
  },
  {
   "cell_type": "code",
   "execution_count": 62,
   "id": "12278210",
   "metadata": {},
   "outputs": [
    {
     "data": {
      "text/plain": [
       "<AxesSubplot:xlabel='rating', ylabel='genre'>"
      ]
     },
     "execution_count": 62,
     "metadata": {},
     "output_type": "execute_result"
    },
    {
     "data": {
      "image/png": "[encoded data removed]",
      "text/plain": [
       "<Figure size 432x288 with 2 Axes>"
      ]
     },
     "metadata": {
      "needs_background": "light"
     },
     "output_type": "display_data"
    }
   ],
   "source": [
    "sb.heatmap(df_14.pivot_table(index='genre', columns='rating', values='na_sales', aggfunc='sum').fillna(0),\n",
    "          robust=True, linewidth=.5, cbar=True, square=False)"
   ]
  },
  {
   "cell_type": "code",
   "execution_count": 63,
   "id": "86eff23a",
   "metadata": {
    "scrolled": false
   },
   "outputs": [
    {
     "data": {
      "text/html": [
       "<div>\n",
       "<style scoped>\n",
       "    .dataframe tbody tr th:only-of-type {\n",
       "        vertical-align: middle;\n",
       "    }\n",
       "\n",
       "    .dataframe tbody tr th {\n",
       "        vertical-align: top;\n",
       "    }\n",
       "\n",
       "    .dataframe thead th {\n",
       "        text-align: right;\n",
       "    }\n",
       "</style>\n",
       "<table border=\"1\" class=\"dataframe\">\n",
       "  <thead>\n",
       "    <tr style=\"text-align: right;\">\n",
       "      <th>rating</th>\n",
       "      <th>genre</th>\n",
       "      <th>E</th>\n",
       "      <th>E10+</th>\n",
       "      <th>M</th>\n",
       "      <th>T</th>\n",
       "      <th>no rating</th>\n",
       "    </tr>\n",
       "  </thead>\n",
       "  <tbody>\n",
       "    <tr>\n",
       "      <th>0</th>\n",
       "      <td>Action</td>\n",
       "      <td>1.59</td>\n",
       "      <td>8.67</td>\n",
       "      <td>35.62</td>\n",
       "      <td>6.85</td>\n",
       "      <td>10.76</td>\n",
       "    </tr>\n",
       "    <tr>\n",
       "      <th>1</th>\n",
       "      <td>Adventure</td>\n",
       "      <td>0.00</td>\n",
       "      <td>0.39</td>\n",
       "      <td>2.27</td>\n",
       "      <td>0.28</td>\n",
       "      <td>2.02</td>\n",
       "    </tr>\n",
       "    <tr>\n",
       "      <th>2</th>\n",
       "      <td>Fighting</td>\n",
       "      <td>0.00</td>\n",
       "      <td>0.26</td>\n",
       "      <td>1.05</td>\n",
       "      <td>1.97</td>\n",
       "      <td>2.75</td>\n",
       "    </tr>\n",
       "    <tr>\n",
       "      <th>3</th>\n",
       "      <td>Misc</td>\n",
       "      <td>0.98</td>\n",
       "      <td>1.17</td>\n",
       "      <td>0.41</td>\n",
       "      <td>0.92</td>\n",
       "      <td>4.90</td>\n",
       "    </tr>\n",
       "    <tr>\n",
       "      <th>4</th>\n",
       "      <td>Platform</td>\n",
       "      <td>4.08</td>\n",
       "      <td>1.13</td>\n",
       "      <td>0.00</td>\n",
       "      <td>0.27</td>\n",
       "      <td>0.87</td>\n",
       "    </tr>\n",
       "    <tr>\n",
       "      <th>5</th>\n",
       "      <td>Puzzle</td>\n",
       "      <td>0.39</td>\n",
       "      <td>0.03</td>\n",
       "      <td>0.00</td>\n",
       "      <td>0.00</td>\n",
       "      <td>0.10</td>\n",
       "    </tr>\n",
       "    <tr>\n",
       "      <th>6</th>\n",
       "      <td>Racing</td>\n",
       "      <td>7.73</td>\n",
       "      <td>1.13</td>\n",
       "      <td>0.00</td>\n",
       "      <td>1.57</td>\n",
       "      <td>2.49</td>\n",
       "    </tr>\n",
       "    <tr>\n",
       "      <th>7</th>\n",
       "      <td>Role-Playing</td>\n",
       "      <td>0.49</td>\n",
       "      <td>0.38</td>\n",
       "      <td>13.47</td>\n",
       "      <td>2.00</td>\n",
       "      <td>9.60</td>\n",
       "    </tr>\n",
       "    <tr>\n",
       "      <th>8</th>\n",
       "      <td>Shooter</td>\n",
       "      <td>0.00</td>\n",
       "      <td>2.23</td>\n",
       "      <td>29.56</td>\n",
       "      <td>9.62</td>\n",
       "      <td>14.82</td>\n",
       "    </tr>\n",
       "    <tr>\n",
       "      <th>9</th>\n",
       "      <td>Simulation</td>\n",
       "      <td>2.59</td>\n",
       "      <td>0.14</td>\n",
       "      <td>0.00</td>\n",
       "      <td>2.36</td>\n",
       "      <td>1.88</td>\n",
       "    </tr>\n",
       "    <tr>\n",
       "      <th>10</th>\n",
       "      <td>Sports</td>\n",
       "      <td>28.05</td>\n",
       "      <td>1.79</td>\n",
       "      <td>0.00</td>\n",
       "      <td>3.34</td>\n",
       "      <td>0.30</td>\n",
       "    </tr>\n",
       "    <tr>\n",
       "      <th>11</th>\n",
       "      <td>Strategy</td>\n",
       "      <td>0.00</td>\n",
       "      <td>0.57</td>\n",
       "      <td>0.00</td>\n",
       "      <td>0.91</td>\n",
       "      <td>0.31</td>\n",
       "    </tr>\n",
       "  </tbody>\n",
       "</table>\n",
       "</div>"
      ],
      "text/plain": [
       "rating         genre      E  E10+      M     T  no rating\n",
       "0             Action   1.59  8.67  35.62  6.85      10.76\n",
       "1          Adventure   0.00  0.39   2.27  0.28       2.02\n",
       "2           Fighting   0.00  0.26   1.05  1.97       2.75\n",
       "3               Misc   0.98  1.17   0.41  0.92       4.90\n",
       "4           Platform   4.08  1.13   0.00  0.27       0.87\n",
       "5             Puzzle   0.39  0.03   0.00  0.00       0.10\n",
       "6             Racing   7.73  1.13   0.00  1.57       2.49\n",
       "7       Role-Playing   0.49  0.38  13.47  2.00       9.60\n",
       "8            Shooter   0.00  2.23  29.56  9.62      14.82\n",
       "9         Simulation   2.59  0.14   0.00  2.36       1.88\n",
       "10            Sports  28.05  1.79   0.00  3.34       0.30\n",
       "11          Strategy   0.00  0.57   0.00  0.91       0.31"
      ]
     },
     "execution_count": 63,
     "metadata": {},
     "output_type": "execute_result"
    }
   ],
   "source": [
    "df_14.pivot_table(index='genre', columns='rating', values='eu_sales', aggfunc='sum').fillna(0).reset_index()"
   ]
  },
  {
   "cell_type": "code",
   "execution_count": 64,
   "id": "776110db",
   "metadata": {},
   "outputs": [
    {
     "data": {
      "text/plain": [
       "<AxesSubplot:xlabel='rating', ylabel='genre'>"
      ]
     },
     "execution_count": 64,
     "metadata": {},
     "output_type": "execute_result"
    },
    {
     "data": {
      "image/png": "[encoded data removed]",
      "text/plain": [
       "<Figure size 432x288 with 2 Axes>"
      ]
     },
     "metadata": {
      "needs_background": "light"
     },
     "output_type": "display_data"
    }
   ],
   "source": [
    "sb.heatmap(df_14.pivot_table(index='genre', columns='rating', values='eu_sales', aggfunc='sum').fillna(0),\n",
    "          robust=True, linewidth=.5, cbar=True, square=False)"
   ]
  },
  {
   "cell_type": "code",
   "execution_count": 65,
   "id": "a536cc47",
   "metadata": {},
   "outputs": [
    {
     "data": {
      "text/html": [
       "<div>\n",
       "<style scoped>\n",
       "    .dataframe tbody tr th:only-of-type {\n",
       "        vertical-align: middle;\n",
       "    }\n",
       "\n",
       "    .dataframe tbody tr th {\n",
       "        vertical-align: top;\n",
       "    }\n",
       "\n",
       "    .dataframe thead th {\n",
       "        text-align: right;\n",
       "    }\n",
       "</style>\n",
       "<table border=\"1\" class=\"dataframe\">\n",
       "  <thead>\n",
       "    <tr style=\"text-align: right;\">\n",
       "      <th>rating</th>\n",
       "      <th>genre</th>\n",
       "      <th>E</th>\n",
       "      <th>E10+</th>\n",
       "      <th>M</th>\n",
       "      <th>T</th>\n",
       "      <th>no rating</th>\n",
       "    </tr>\n",
       "  </thead>\n",
       "  <tbody>\n",
       "    <tr>\n",
       "      <th>0</th>\n",
       "      <td>Action</td>\n",
       "      <td>0.80</td>\n",
       "      <td>0.98</td>\n",
       "      <td>3.25</td>\n",
       "      <td>2.42</td>\n",
       "      <td>17.26</td>\n",
       "    </tr>\n",
       "    <tr>\n",
       "      <th>1</th>\n",
       "      <td>Adventure</td>\n",
       "      <td>0.00</td>\n",
       "      <td>0.00</td>\n",
       "      <td>0.31</td>\n",
       "      <td>0.03</td>\n",
       "      <td>2.84</td>\n",
       "    </tr>\n",
       "    <tr>\n",
       "      <th>2</th>\n",
       "      <td>Fighting</td>\n",
       "      <td>0.00</td>\n",
       "      <td>0.17</td>\n",
       "      <td>0.00</td>\n",
       "      <td>1.11</td>\n",
       "      <td>3.73</td>\n",
       "    </tr>\n",
       "    <tr>\n",
       "      <th>3</th>\n",
       "      <td>Misc</td>\n",
       "      <td>0.58</td>\n",
       "      <td>0.10</td>\n",
       "      <td>0.03</td>\n",
       "      <td>0.58</td>\n",
       "      <td>3.88</td>\n",
       "    </tr>\n",
       "    <tr>\n",
       "      <th>4</th>\n",
       "      <td>Platform</td>\n",
       "      <td>2.48</td>\n",
       "      <td>0.03</td>\n",
       "      <td>0.00</td>\n",
       "      <td>0.03</td>\n",
       "      <td>0.13</td>\n",
       "    </tr>\n",
       "    <tr>\n",
       "      <th>5</th>\n",
       "      <td>Puzzle</td>\n",
       "      <td>0.26</td>\n",
       "      <td>0.00</td>\n",
       "      <td>0.00</td>\n",
       "      <td>0.00</td>\n",
       "      <td>0.63</td>\n",
       "    </tr>\n",
       "    <tr>\n",
       "      <th>6</th>\n",
       "      <td>Racing</td>\n",
       "      <td>1.41</td>\n",
       "      <td>0.02</td>\n",
       "      <td>0.00</td>\n",
       "      <td>0.03</td>\n",
       "      <td>0.18</td>\n",
       "    </tr>\n",
       "    <tr>\n",
       "      <th>7</th>\n",
       "      <td>Role-Playing</td>\n",
       "      <td>0.39</td>\n",
       "      <td>0.96</td>\n",
       "      <td>1.36</td>\n",
       "      <td>7.10</td>\n",
       "      <td>18.89</td>\n",
       "    </tr>\n",
       "    <tr>\n",
       "      <th>8</th>\n",
       "      <td>Shooter</td>\n",
       "      <td>0.00</td>\n",
       "      <td>1.54</td>\n",
       "      <td>1.45</td>\n",
       "      <td>0.59</td>\n",
       "      <td>0.63</td>\n",
       "    </tr>\n",
       "    <tr>\n",
       "      <th>9</th>\n",
       "      <td>Simulation</td>\n",
       "      <td>1.40</td>\n",
       "      <td>0.43</td>\n",
       "      <td>0.00</td>\n",
       "      <td>0.06</td>\n",
       "      <td>0.40</td>\n",
       "    </tr>\n",
       "    <tr>\n",
       "      <th>10</th>\n",
       "      <td>Sports</td>\n",
       "      <td>0.97</td>\n",
       "      <td>0.09</td>\n",
       "      <td>0.00</td>\n",
       "      <td>0.01</td>\n",
       "      <td>1.00</td>\n",
       "    </tr>\n",
       "    <tr>\n",
       "      <th>11</th>\n",
       "      <td>Strategy</td>\n",
       "      <td>0.00</td>\n",
       "      <td>0.00</td>\n",
       "      <td>0.00</td>\n",
       "      <td>0.03</td>\n",
       "      <td>0.86</td>\n",
       "    </tr>\n",
       "  </tbody>\n",
       "</table>\n",
       "</div>"
      ],
      "text/plain": [
       "rating         genre     E  E10+     M     T  no rating\n",
       "0             Action  0.80  0.98  3.25  2.42      17.26\n",
       "1          Adventure  0.00  0.00  0.31  0.03       2.84\n",
       "2           Fighting  0.00  0.17  0.00  1.11       3.73\n",
       "3               Misc  0.58  0.10  0.03  0.58       3.88\n",
       "4           Platform  2.48  0.03  0.00  0.03       0.13\n",
       "5             Puzzle  0.26  0.00  0.00  0.00       0.63\n",
       "6             Racing  1.41  0.02  0.00  0.03       0.18\n",
       "7       Role-Playing  0.39  0.96  1.36  7.10      18.89\n",
       "8            Shooter  0.00  1.54  1.45  0.59       0.63\n",
       "9         Simulation  1.40  0.43  0.00  0.06       0.40\n",
       "10            Sports  0.97  0.09  0.00  0.01       1.00\n",
       "11          Strategy  0.00  0.00  0.00  0.03       0.86"
      ]
     },
     "execution_count": 65,
     "metadata": {},
     "output_type": "execute_result"
    }
   ],
   "source": [
    "df_14.pivot_table(index='genre', columns='rating', values='jp_sales', aggfunc='sum').fillna(0).reset_index()"
   ]
  },
  {
   "cell_type": "code",
   "execution_count": 66,
   "id": "400e1ef4",
   "metadata": {},
   "outputs": [
    {
     "data": {
      "text/plain": [
       "<AxesSubplot:xlabel='rating', ylabel='genre'>"
      ]
     },
     "execution_count": 66,
     "metadata": {},
     "output_type": "execute_result"
    },
    {
     "data": {
      "image/png": "[encoded data removed]",
      "text/plain": [
       "<Figure size 432x288 with 2 Axes>"
      ]
     },
     "metadata": {
      "needs_background": "light"
     },
     "output_type": "display_data"
    }
   ],
   "source": [
    "sb.heatmap(df_14.pivot_table(index='genre', columns='rating', values='jp_sales', aggfunc='sum').fillna(0),\n",
    "          robust=True, linewidth=.5, cbar=True, square=False)"
   ]
  },
  {
   "cell_type": "markdown",
   "id": "12c7cf1c",
   "metadata": {},
   "source": [
    "<div style=\"border-radius: 3px; border: 2px solid black; padding: 0px;\">    \n",
    "<div class='alert alert-info'>\n",
    "    Основной вывод - игры без рейтинга идут вторым по популярности после игр с рейтингом <b>M</b>. Объединение этих двух групп позволит сузить круг поиска игр из наиболее популярных и прибыльных.\n",
    "</div>\n",
    "</div>"
   ]
  },
  {
   "cell_type": "markdown",
   "id": "ccc060ff",
   "metadata": {},
   "source": [
    "<div style=\"border-radius: 3px; border: 2px solid black; padding: 0px;\">     \n",
    "<div class=\"alert alert-success\">\n",
    "<b>Комментарий ревьюера V.2 ✔️:</b> \n",
    "    \n",
    "Есть контакт 😎    \n",
    "\n",
    "</div>\n",
    "</div>"
   ]
  },
  {
   "cell_type": "markdown",
   "id": "ce2790cf",
   "metadata": {},
   "source": [
    "## Пользовательские рейтинги платформ и жанров"
   ]
  },
  {
   "cell_type": "markdown",
   "id": "4c22bb4b",
   "metadata": {},
   "source": [
    "### Сравним средние пользовательские рейтинги платформ XOne и PC"
   ]
  },
  {
   "cell_type": "code",
   "execution_count": 67,
   "id": "7c1d157c",
   "metadata": {},
   "outputs": [
    {
     "data": {
      "text/plain": [
       "(array([ 2.,  0.,  2.,  1.,  3.,  3.,  3.,  9.,  5.,  3.,  8., 11.,  7.,\n",
       "        12., 15., 15.,  9.,  7.,  6.,  1.]),\n",
       " array([1.4  , 1.795, 2.19 , 2.585, 2.98 , 3.375, 3.77 , 4.165, 4.56 ,\n",
       "        4.955, 5.35 , 5.745, 6.14 , 6.535, 6.93 , 7.325, 7.72 , 8.115,\n",
       "        8.51 , 8.905, 9.3  ]),\n",
       " [<matplotlib.patches.Polygon at 0x7f59424a4430>])"
      ]
     },
     "execution_count": 67,
     "metadata": {},
     "output_type": "execute_result"
    },
    {
     "data": {
      "image/png": "[encoded data removed]",
      "text/plain": [
       "<Figure size 1152x720 with 2 Axes>"
      ]
     },
     "metadata": {
      "needs_background": "light"
     },
     "output_type": "display_data"
    }
   ],
   "source": [
    "df_xone = df_14[((df_14['platform'] == 'XOne') & (df_14['user_score'].isna() == False))]['user_score']\n",
    "df_xone.reset_index(drop=True, inplace=True)\n",
    "df_pc = df_14[(df_14['platform'] == 'PC') & (df_14['user_score'].isna() == False)]['user_score']\n",
    "df_pc.reset_index(drop=True, inplace=True)\n",
    "\n",
    "bins = 20\n",
    "plt.figure(figsize=(16,10))\n",
    "plt.subplot(2, 1, 1)\n",
    "plt.title('XOne')\n",
    "plt.hist(df_xone, align='mid', color='r', bins=bins, histtype='stepfilled', alpha=.6)\n",
    "plt.subplot(2, 1, 2)\n",
    "plt.title('PC')\n",
    "plt.hist(df_pc, align='mid', color='black', bins=bins, histtype='stepfilled', alpha=.6)"
   ]
  },
  {
   "cell_type": "code",
   "execution_count": 68,
   "id": "7dec17b3",
   "metadata": {},
   "outputs": [
    {
     "data": {
      "text/plain": [
       "6.594545454545456"
      ]
     },
     "execution_count": 68,
     "metadata": {},
     "output_type": "execute_result"
    }
   ],
   "source": [
    "df_xone.mean()"
   ]
  },
  {
   "cell_type": "code",
   "execution_count": 69,
   "id": "29e9b437",
   "metadata": {},
   "outputs": [
    {
     "data": {
      "text/plain": [
       "6.298360655737705"
      ]
     },
     "execution_count": 69,
     "metadata": {},
     "output_type": "execute_result"
    }
   ],
   "source": [
    "df_pc.mean()"
   ]
  },
  {
   "cell_type": "markdown",
   "id": "03dac10c",
   "metadata": {},
   "source": [
    "- Нулевая гипотеза: уровень оценок игр пользователями не зависят от платформы (XOne или PC).\n",
    "- Альтернативная гипотеза: средние оценки пользователей разные на разных платформах.  \n",
    "\n",
    "Так как в разрезе платформ это две, по-сути, разные совокупности, состоящие из различных данных, с различными средними и дисперсиями, воспользуемся статистическим методом для сравнения двух генеральных совокупностей, с указанием, что дисперсии в выборках не равны. Критический уровень статистической значимости ${\\alpha}$ зададим значением в 5%"
   ]
  },
  {
   "cell_type": "code",
   "execution_count": 70,
   "id": "a6232753",
   "metadata": {},
   "outputs": [
    {
     "data": {
      "text/plain": [
       "Ttest_indResult(statistic=1.5777606474474968, pvalue=0.11601398086668827)"
      ]
     },
     "execution_count": 70,
     "metadata": {},
     "output_type": "execute_result"
    }
   ],
   "source": [
    "results_platform = st.ttest_ind(df_xone, df_pc, equal_var = False)\n",
    "results_platform"
   ]
  },
  {
   "cell_type": "markdown",
   "id": "c7cb1b6b",
   "metadata": {},
   "source": [
    "Значение p-value на уровне 11%, что выше значеняи выбранного уровня в 5%, показывает, что мы не можем отвергнуть нулевую гипотезу."
   ]
  },
  {
   "cell_type": "markdown",
   "id": "9715a187",
   "metadata": {},
   "source": [
    "<div style=\"border-radius: 3px; border: 2px solid black; padding: 0px;\">     \n",
    "<div class=\"alert alert-success\">\n",
    "<b>Комментарий ревьюера ✔️:</b> \n",
    "    \n",
    "Гипотезы сформулированы и проверены верно 😉    \n",
    "\n",
    "</div>\n",
    "</div>"
   ]
  },
  {
   "cell_type": "markdown",
   "id": "3d0624f6",
   "metadata": {},
   "source": [
    "### Сравним средние пользовательские рейтинги жанров Action и Sports"
   ]
  },
  {
   "cell_type": "code",
   "execution_count": 71,
   "id": "4efc7fa3",
   "metadata": {},
   "outputs": [
    {
     "data": {
      "text/plain": [
       "(array([ 2.,  2.,  1.,  0.,  4.,  2.,  1.,  7.,  3.,  3.,  6., 11., 14.,\n",
       "         5.,  7.,  7.,  3.,  3.,  3.,  2.]),\n",
       " array([1.4 , 1.77, 2.14, 2.51, 2.88, 3.25, 3.62, 3.99, 4.36, 4.73, 5.1 ,\n",
       "        5.47, 5.84, 6.21, 6.58, 6.95, 7.32, 7.69, 8.06, 8.43, 8.8 ]),\n",
       " [<matplotlib.patches.Polygon at 0x7f5941322ac0>])"
      ]
     },
     "execution_count": 71,
     "metadata": {},
     "output_type": "execute_result"
    },
    {
     "data": {
      "image/png": "[encoded data removed]",
      "text/plain": [
       "<Figure size 1152x720 with 2 Axes>"
      ]
     },
     "metadata": {
      "needs_background": "light"
     },
     "output_type": "display_data"
    }
   ],
   "source": [
    "df_action = df_14[((df_14['genre'] == 'Action') & (df_14['user_score'].isna() == False))]['user_score']\n",
    "df_action.reset_index(drop=True, inplace=True)\n",
    "df_sports = df_14[((df_14['genre'] == 'Sports') & (df_14['user_score'].isna() == False))]['user_score']\n",
    "df_sports.reset_index(drop=True, inplace=True)\n",
    "\n",
    "bins = 20\n",
    "plt.figure(figsize=(16,10))\n",
    "plt.subplot(2, 1, 1)\n",
    "plt.title('Action')\n",
    "plt.hist(df_action, align='mid', color='k', bins=bins, histtype='step', alpha=1, linewidth=2)\n",
    "plt.subplot(2, 1, 2)\n",
    "plt.title('Sports')\n",
    "plt.hist(df_sports, align='mid', color='r', bins=bins, histtype='step', alpha=1, linewidth=2)"
   ]
  },
  {
   "cell_type": "markdown",
   "id": "6ae2df36",
   "metadata": {},
   "source": [
    "- Нулевая гипотеза: Уровень оценок игр пользователями не зависят от жанра. В частности, для жанров Action и Sports они равны.\n",
    "- Альтернативная гипотеза: Средние оценки пользователей зависят от жанра. \n",
    "\n",
    "Т.к. большинство пользвателей играли в большую часть популярнейших игр, можно считать генеральную совокупность единой для обеих выборок. А значит и дисперсии выборок должны быть равными. Тогда применим значение параметра equeal_var равным True. Критический уровень статистической значимости выбираем так же 5%."
   ]
  },
  {
   "cell_type": "code",
   "execution_count": 72,
   "id": "e6efa0f8",
   "metadata": {},
   "outputs": [
    {
     "data": {
      "text/plain": [
       "Ttest_indResult(statistic=-6.6420313590530835, pvalue=1.2812702053701422e-10)"
      ]
     },
     "execution_count": 72,
     "metadata": {},
     "output_type": "execute_result"
    }
   ],
   "source": [
    "results_genre = st.ttest_ind(df_sports, df_action)\n",
    "results_genre"
   ]
  },
  {
   "cell_type": "markdown",
   "id": "b39ff312",
   "metadata": {},
   "source": [
    "С учетом pvalue на таком низком уровне мы отвергаем нулевую гипотежу. С большой вероятнсотью уровень пользовательских оценок играм жанра Sport ставят заведомо меньшие оценки, чем играм жанра Action. Скорее всего к другим жанрам пользователи так же относятся заведомо по-разному."
   ]
  },
  {
   "cell_type": "markdown",
   "id": "98157aab",
   "metadata": {},
   "source": [
    "<div style=\"border-radius: 3px; border: 2px solid black; padding: 0px;\">     \n",
    "<div class=\"alert alert-success\">\n",
    "<b>Комментарий ревьюера ✔️:</b> \n",
    "    \n",
    "Гипотезы сформулированы и проверены верно 😉    \n",
    "\n",
    "</div>\n",
    "</div>"
   ]
  },
  {
   "cell_type": "markdown",
   "id": "d8c6270c",
   "metadata": {},
   "source": [
    "## Выводы"
   ]
  },
  {
   "cell_type": "markdown",
   "id": "9f45299b",
   "metadata": {},
   "source": [
    "Ключевыми параметрами формирования ассортимента игр на 2017 год предложим:\n",
    "- Ограничится играми наиболее популярных платформ PS4 и XOne. Причем игр PS4 должно быть в 3-4 раза больше чем XOne.\n",
    "- При выборе игр руководстоваться жанрами: Shooter, Fighting, Racing, Sports. Причем ассортимент игр жанра Shooter сформировать максимально широким. Игры жанра Action стоит выбирать только из проверенных лидеров продаж.\n",
    "- При выборе определенных игр необходимо найти друие источники информации для прогноза популярности конкретной игры. Оценками критиков следует пользоваться с осторожностью.\n"
   ]
  },
  {
   "cell_type": "markdown",
   "id": "9811691f",
   "metadata": {},
   "source": [
    "<div style=\"border-radius: 3px; border: 2px solid black; padding: 0px;\">\n",
    "<div class='alert alert-info'>\n",
    "Исходя из полученных данных рекомендуется \n",
    "    <li>Ограничится платформами PS4 и XOne\n",
    "    <li>Выбирать игры жанров Shooting и Sports\n",
    "    <li>Преимущество отдавать играм с рейтингом M и играм без указанных возрастных ограничений\n",
    "</div>\n",
    "</div>"
   ]
  },
  {
   "cell_type": "markdown",
   "id": "79a43f2b",
   "metadata": {},
   "source": [
    "<div style=\"border-radius: 3px; border: 2px solid black; padding: 0px;\">      \n",
    "<div class=\"alert alert-warning\">\n",
    "<b>Комментарий ревьюера V.2 ⚠️:</b> \n",
    "    \n",
    "Здесь было бы очень круто сделать несколько выводов для разного рекламного бюджета (низкого, среднего, высокого), всё таки у нас 5 потенициально прибыльных консолей\n",
    "    \n",
    "</div>\n",
    "</div>"
   ]
  },
  {
   "cell_type": "code",
   "execution_count": 73,
   "id": "d136a351",
   "metadata": {},
   "outputs": [
    {
     "data": {
      "text/html": [
       "<div>\n",
       "<style scoped>\n",
       "    .dataframe tbody tr th:only-of-type {\n",
       "        vertical-align: middle;\n",
       "    }\n",
       "\n",
       "    .dataframe tbody tr th {\n",
       "        vertical-align: top;\n",
       "    }\n",
       "\n",
       "    .dataframe thead th {\n",
       "        text-align: right;\n",
       "    }\n",
       "</style>\n",
       "<table border=\"1\" class=\"dataframe\">\n",
       "  <thead>\n",
       "    <tr style=\"text-align: right;\">\n",
       "      <th></th>\n",
       "      <th>name</th>\n",
       "      <th>platform</th>\n",
       "      <th>year_of_release</th>\n",
       "      <th>genre</th>\n",
       "      <th>na_sales</th>\n",
       "      <th>eu_sales</th>\n",
       "      <th>jp_sales</th>\n",
       "      <th>other_sales</th>\n",
       "      <th>critic_score</th>\n",
       "      <th>user_score</th>\n",
       "      <th>rating</th>\n",
       "      <th>total_sales</th>\n",
       "    </tr>\n",
       "  </thead>\n",
       "  <tbody>\n",
       "    <tr>\n",
       "      <th>0</th>\n",
       "      <td>Call of Duty: Black Ops 3</td>\n",
       "      <td>PS4</td>\n",
       "      <td>2015</td>\n",
       "      <td>Shooter</td>\n",
       "      <td>6.03</td>\n",
       "      <td>5.86</td>\n",
       "      <td>0.36</td>\n",
       "      <td>2.38</td>\n",
       "      <td>NaN</td>\n",
       "      <td>NaN</td>\n",
       "      <td>no rating</td>\n",
       "      <td>14.63</td>\n",
       "    </tr>\n",
       "    <tr>\n",
       "      <th>4</th>\n",
       "      <td>Star Wars Battlefront (2015)</td>\n",
       "      <td>PS4</td>\n",
       "      <td>2015</td>\n",
       "      <td>Shooter</td>\n",
       "      <td>2.99</td>\n",
       "      <td>3.49</td>\n",
       "      <td>0.22</td>\n",
       "      <td>1.28</td>\n",
       "      <td>NaN</td>\n",
       "      <td>NaN</td>\n",
       "      <td>no rating</td>\n",
       "      <td>7.98</td>\n",
       "    </tr>\n",
       "    <tr>\n",
       "      <th>5</th>\n",
       "      <td>Call of Duty: Advanced Warfare</td>\n",
       "      <td>PS4</td>\n",
       "      <td>2014</td>\n",
       "      <td>Shooter</td>\n",
       "      <td>2.81</td>\n",
       "      <td>3.48</td>\n",
       "      <td>0.14</td>\n",
       "      <td>1.23</td>\n",
       "      <td>83.0</td>\n",
       "      <td>5.7</td>\n",
       "      <td>M</td>\n",
       "      <td>7.66</td>\n",
       "    </tr>\n",
       "    <tr>\n",
       "      <th>8</th>\n",
       "      <td>Call of Duty: Black Ops 3</td>\n",
       "      <td>XOne</td>\n",
       "      <td>2015</td>\n",
       "      <td>Shooter</td>\n",
       "      <td>4.59</td>\n",
       "      <td>2.11</td>\n",
       "      <td>0.01</td>\n",
       "      <td>0.68</td>\n",
       "      <td>NaN</td>\n",
       "      <td>NaN</td>\n",
       "      <td>no rating</td>\n",
       "      <td>7.39</td>\n",
       "    </tr>\n",
       "    <tr>\n",
       "      <th>16</th>\n",
       "      <td>Call of Duty: Advanced Warfare</td>\n",
       "      <td>XOne</td>\n",
       "      <td>2014</td>\n",
       "      <td>Shooter</td>\n",
       "      <td>3.22</td>\n",
       "      <td>1.55</td>\n",
       "      <td>0.01</td>\n",
       "      <td>0.48</td>\n",
       "      <td>81.0</td>\n",
       "      <td>5.4</td>\n",
       "      <td>M</td>\n",
       "      <td>5.26</td>\n",
       "    </tr>\n",
       "    <tr>\n",
       "      <th>21</th>\n",
       "      <td>Call of Duty: Infinite Warfare</td>\n",
       "      <td>PS4</td>\n",
       "      <td>2016</td>\n",
       "      <td>Shooter</td>\n",
       "      <td>1.61</td>\n",
       "      <td>2.00</td>\n",
       "      <td>0.15</td>\n",
       "      <td>0.71</td>\n",
       "      <td>77.0</td>\n",
       "      <td>3.4</td>\n",
       "      <td>M</td>\n",
       "      <td>4.47</td>\n",
       "    </tr>\n",
       "    <tr>\n",
       "      <th>25</th>\n",
       "      <td>Battlefield 1</td>\n",
       "      <td>PS4</td>\n",
       "      <td>2016</td>\n",
       "      <td>Shooter</td>\n",
       "      <td>1.10</td>\n",
       "      <td>2.15</td>\n",
       "      <td>0.21</td>\n",
       "      <td>0.61</td>\n",
       "      <td>88.0</td>\n",
       "      <td>8.4</td>\n",
       "      <td>M</td>\n",
       "      <td>4.07</td>\n",
       "    </tr>\n",
       "    <tr>\n",
       "      <th>27</th>\n",
       "      <td>Far Cry 4</td>\n",
       "      <td>PS4</td>\n",
       "      <td>2014</td>\n",
       "      <td>Shooter</td>\n",
       "      <td>1.13</td>\n",
       "      <td>2.18</td>\n",
       "      <td>0.10</td>\n",
       "      <td>0.63</td>\n",
       "      <td>85.0</td>\n",
       "      <td>7.7</td>\n",
       "      <td>M</td>\n",
       "      <td>4.04</td>\n",
       "    </tr>\n",
       "    <tr>\n",
       "      <th>33</th>\n",
       "      <td>Tom Clancy's The Division</td>\n",
       "      <td>PS4</td>\n",
       "      <td>2016</td>\n",
       "      <td>Shooter</td>\n",
       "      <td>1.35</td>\n",
       "      <td>1.70</td>\n",
       "      <td>0.15</td>\n",
       "      <td>0.60</td>\n",
       "      <td>80.0</td>\n",
       "      <td>7.0</td>\n",
       "      <td>M</td>\n",
       "      <td>3.80</td>\n",
       "    </tr>\n",
       "    <tr>\n",
       "      <th>34</th>\n",
       "      <td>Star Wars Battlefront (2015)</td>\n",
       "      <td>XOne</td>\n",
       "      <td>2015</td>\n",
       "      <td>Shooter</td>\n",
       "      <td>2.04</td>\n",
       "      <td>1.28</td>\n",
       "      <td>0.02</td>\n",
       "      <td>0.32</td>\n",
       "      <td>NaN</td>\n",
       "      <td>NaN</td>\n",
       "      <td>no rating</td>\n",
       "      <td>3.66</td>\n",
       "    </tr>\n",
       "    <tr>\n",
       "      <th>41</th>\n",
       "      <td>Gears of War: Ultimate Edition</td>\n",
       "      <td>XOne</td>\n",
       "      <td>2015</td>\n",
       "      <td>Shooter</td>\n",
       "      <td>2.61</td>\n",
       "      <td>0.33</td>\n",
       "      <td>0.00</td>\n",
       "      <td>0.34</td>\n",
       "      <td>82.0</td>\n",
       "      <td>7.5</td>\n",
       "      <td>M</td>\n",
       "      <td>3.28</td>\n",
       "    </tr>\n",
       "    <tr>\n",
       "      <th>44</th>\n",
       "      <td>Halo: The Master Chief Collection</td>\n",
       "      <td>XOne</td>\n",
       "      <td>2014</td>\n",
       "      <td>Shooter</td>\n",
       "      <td>1.91</td>\n",
       "      <td>1.00</td>\n",
       "      <td>0.03</td>\n",
       "      <td>0.29</td>\n",
       "      <td>85.0</td>\n",
       "      <td>7.2</td>\n",
       "      <td>M</td>\n",
       "      <td>3.23</td>\n",
       "    </tr>\n",
       "    <tr>\n",
       "      <th>49</th>\n",
       "      <td>Titanfall</td>\n",
       "      <td>XOne</td>\n",
       "      <td>2014</td>\n",
       "      <td>Shooter</td>\n",
       "      <td>1.84</td>\n",
       "      <td>0.80</td>\n",
       "      <td>0.04</td>\n",
       "      <td>0.27</td>\n",
       "      <td>86.0</td>\n",
       "      <td>6.4</td>\n",
       "      <td>M</td>\n",
       "      <td>2.95</td>\n",
       "    </tr>\n",
       "    <tr>\n",
       "      <th>58</th>\n",
       "      <td>Call of Duty: Infinite Warfare</td>\n",
       "      <td>XOne</td>\n",
       "      <td>2016</td>\n",
       "      <td>Shooter</td>\n",
       "      <td>1.46</td>\n",
       "      <td>0.74</td>\n",
       "      <td>0.00</td>\n",
       "      <td>0.22</td>\n",
       "      <td>78.0</td>\n",
       "      <td>3.1</td>\n",
       "      <td>M</td>\n",
       "      <td>2.42</td>\n",
       "    </tr>\n",
       "    <tr>\n",
       "      <th>64</th>\n",
       "      <td>Battlefield 1</td>\n",
       "      <td>XOne</td>\n",
       "      <td>2016</td>\n",
       "      <td>Shooter</td>\n",
       "      <td>1.28</td>\n",
       "      <td>0.77</td>\n",
       "      <td>0.00</td>\n",
       "      <td>0.20</td>\n",
       "      <td>87.0</td>\n",
       "      <td>8.2</td>\n",
       "      <td>M</td>\n",
       "      <td>2.25</td>\n",
       "    </tr>\n",
       "    <tr>\n",
       "      <th>65</th>\n",
       "      <td>Tom Clancy's Rainbow Six: Siege</td>\n",
       "      <td>PS4</td>\n",
       "      <td>2015</td>\n",
       "      <td>Shooter</td>\n",
       "      <td>0.55</td>\n",
       "      <td>1.19</td>\n",
       "      <td>0.14</td>\n",
       "      <td>0.33</td>\n",
       "      <td>73.0</td>\n",
       "      <td>7.3</td>\n",
       "      <td>M</td>\n",
       "      <td>2.21</td>\n",
       "    </tr>\n",
       "    <tr>\n",
       "      <th>68</th>\n",
       "      <td>Tom Clancy's The Division</td>\n",
       "      <td>XOne</td>\n",
       "      <td>2016</td>\n",
       "      <td>Shooter</td>\n",
       "      <td>1.29</td>\n",
       "      <td>0.68</td>\n",
       "      <td>0.00</td>\n",
       "      <td>0.20</td>\n",
       "      <td>80.0</td>\n",
       "      <td>6.9</td>\n",
       "      <td>M</td>\n",
       "      <td>2.17</td>\n",
       "    </tr>\n",
       "    <tr>\n",
       "      <th>70</th>\n",
       "      <td>Battlefield: Hardline</td>\n",
       "      <td>PS4</td>\n",
       "      <td>2015</td>\n",
       "      <td>Shooter</td>\n",
       "      <td>0.71</td>\n",
       "      <td>0.94</td>\n",
       "      <td>0.14</td>\n",
       "      <td>0.32</td>\n",
       "      <td>73.0</td>\n",
       "      <td>5.0</td>\n",
       "      <td>M</td>\n",
       "      <td>2.11</td>\n",
       "    </tr>\n",
       "    <tr>\n",
       "      <th>86</th>\n",
       "      <td>The Order: 1886</td>\n",
       "      <td>PS4</td>\n",
       "      <td>2015</td>\n",
       "      <td>Shooter</td>\n",
       "      <td>0.61</td>\n",
       "      <td>0.78</td>\n",
       "      <td>0.06</td>\n",
       "      <td>0.27</td>\n",
       "      <td>63.0</td>\n",
       "      <td>6.6</td>\n",
       "      <td>M</td>\n",
       "      <td>1.72</td>\n",
       "    </tr>\n",
       "    <tr>\n",
       "      <th>93</th>\n",
       "      <td>Far Cry 4</td>\n",
       "      <td>XOne</td>\n",
       "      <td>2014</td>\n",
       "      <td>Shooter</td>\n",
       "      <td>0.80</td>\n",
       "      <td>0.69</td>\n",
       "      <td>0.01</td>\n",
       "      <td>0.14</td>\n",
       "      <td>82.0</td>\n",
       "      <td>7.5</td>\n",
       "      <td>M</td>\n",
       "      <td>1.64</td>\n",
       "    </tr>\n",
       "  </tbody>\n",
       "</table>\n",
       "</div>"
      ],
      "text/plain": [
       "                                 name platform  year_of_release    genre  \\\n",
       "0           Call of Duty: Black Ops 3      PS4             2015  Shooter   \n",
       "4        Star Wars Battlefront (2015)      PS4             2015  Shooter   \n",
       "5      Call of Duty: Advanced Warfare      PS4             2014  Shooter   \n",
       "8           Call of Duty: Black Ops 3     XOne             2015  Shooter   \n",
       "16     Call of Duty: Advanced Warfare     XOne             2014  Shooter   \n",
       "21     Call of Duty: Infinite Warfare      PS4             2016  Shooter   \n",
       "25                      Battlefield 1      PS4             2016  Shooter   \n",
       "27                          Far Cry 4      PS4             2014  Shooter   \n",
       "33          Tom Clancy's The Division      PS4             2016  Shooter   \n",
       "34       Star Wars Battlefront (2015)     XOne             2015  Shooter   \n",
       "41     Gears of War: Ultimate Edition     XOne             2015  Shooter   \n",
       "44  Halo: The Master Chief Collection     XOne             2014  Shooter   \n",
       "49                          Titanfall     XOne             2014  Shooter   \n",
       "58     Call of Duty: Infinite Warfare     XOne             2016  Shooter   \n",
       "64                      Battlefield 1     XOne             2016  Shooter   \n",
       "65    Tom Clancy's Rainbow Six: Siege      PS4             2015  Shooter   \n",
       "68          Tom Clancy's The Division     XOne             2016  Shooter   \n",
       "70              Battlefield: Hardline      PS4             2015  Shooter   \n",
       "86                    The Order: 1886      PS4             2015  Shooter   \n",
       "93                          Far Cry 4     XOne             2014  Shooter   \n",
       "\n",
       "    na_sales  eu_sales  jp_sales  other_sales  critic_score  user_score  \\\n",
       "0       6.03      5.86      0.36         2.38           NaN         NaN   \n",
       "4       2.99      3.49      0.22         1.28           NaN         NaN   \n",
       "5       2.81      3.48      0.14         1.23          83.0         5.7   \n",
       "8       4.59      2.11      0.01         0.68           NaN         NaN   \n",
       "16      3.22      1.55      0.01         0.48          81.0         5.4   \n",
       "21      1.61      2.00      0.15         0.71          77.0         3.4   \n",
       "25      1.10      2.15      0.21         0.61          88.0         8.4   \n",
       "27      1.13      2.18      0.10         0.63          85.0         7.7   \n",
       "33      1.35      1.70      0.15         0.60          80.0         7.0   \n",
       "34      2.04      1.28      0.02         0.32           NaN         NaN   \n",
       "41      2.61      0.33      0.00         0.34          82.0         7.5   \n",
       "44      1.91      1.00      0.03         0.29          85.0         7.2   \n",
       "49      1.84      0.80      0.04         0.27          86.0         6.4   \n",
       "58      1.46      0.74      0.00         0.22          78.0         3.1   \n",
       "64      1.28      0.77      0.00         0.20          87.0         8.2   \n",
       "65      0.55      1.19      0.14         0.33          73.0         7.3   \n",
       "68      1.29      0.68      0.00         0.20          80.0         6.9   \n",
       "70      0.71      0.94      0.14         0.32          73.0         5.0   \n",
       "86      0.61      0.78      0.06         0.27          63.0         6.6   \n",
       "93      0.80      0.69      0.01         0.14          82.0         7.5   \n",
       "\n",
       "       rating  total_sales  \n",
       "0   no rating        14.63  \n",
       "4   no rating         7.98  \n",
       "5           M         7.66  \n",
       "8   no rating         7.39  \n",
       "16          M         5.26  \n",
       "21          M         4.47  \n",
       "25          M         4.07  \n",
       "27          M         4.04  \n",
       "33          M         3.80  \n",
       "34  no rating         3.66  \n",
       "41          M         3.28  \n",
       "44          M         3.23  \n",
       "49          M         2.95  \n",
       "58          M         2.42  \n",
       "64          M         2.25  \n",
       "65          M         2.21  \n",
       "68          M         2.17  \n",
       "70          M         2.11  \n",
       "86          M         1.72  \n",
       "93          M         1.64  "
      ]
     },
     "execution_count": 73,
     "metadata": {},
     "output_type": "execute_result"
    }
   ],
   "source": [
    "df_result = (\n",
    "    df_14[((df_14['genre'] == 'Shooter') | (df_14['genre'] == 'Sports')) &\n",
    "     ((df_14['rating'] == 'M') | (df_14['rating'] == 'no rating')) &\n",
    "     ((df_14['platform'] == 'PS4') | (df_14['platform'] == 'XOne'))]\n",
    "    .sort_values(by='total_sales', ascending=False)    \n",
    ")\n",
    "df_result.head(20)"
   ]
  },
  {
   "cell_type": "markdown",
   "id": "a1602725",
   "metadata": {},
   "source": [
    "<div style=\"border-radius: 3px; border: 2px solid black; padding: 0px;\">\n",
    "<div class='alert alert-info'>\n",
    "В зависимости от бюджета и пожеланий по ассортиментной матрице рекомендуется выбирать из этого списка больше или меньше игр.\n",
    "</div>\n",
    "</div>"
   ]
  },
  {
   "cell_type": "code",
   "execution_count": 74,
   "id": "160f68e6",
   "metadata": {},
   "outputs": [
    {
     "data": {
      "text/plain": [
       "array(['Call of Duty: Black Ops 3', 'Star Wars Battlefront (2015)',\n",
       "       'Call of Duty: Advanced Warfare', 'Call of Duty: Infinite Warfare',\n",
       "       'Battlefield 1', 'Far Cry 4', \"Tom Clancy's The Division\",\n",
       "       'Gears of War: Ultimate Edition',\n",
       "       'Halo: The Master Chief Collection', 'Titanfall',\n",
       "       \"Tom Clancy's Rainbow Six: Siege\", 'Battlefield: Hardline',\n",
       "       'The Order: 1886'], dtype=object)"
      ]
     },
     "execution_count": 74,
     "metadata": {},
     "output_type": "execute_result"
    }
   ],
   "source": [
    "df_result.head(20)['name'].unique()"
   ]
  },
  {
   "cell_type": "code",
   "execution_count": 75,
   "id": "28123c6f",
   "metadata": {},
   "outputs": [
    {
     "data": {
      "text/plain": [
       "13"
      ]
     },
     "execution_count": 75,
     "metadata": {},
     "output_type": "execute_result"
    }
   ],
   "source": [
    "len(df_result.head(20)['name'].unique())"
   ]
  },
  {
   "cell_type": "markdown",
   "id": "1cff4137",
   "metadata": {},
   "source": [
    "<div style=\"border-radius: 3px; border: 2px solid black; padding: 0px;\">     \n",
    "<div class=\"alert alert-success\">\n",
    "<b>Комментарий ревьюера V.2 ✔️:</b> \n",
    "    \n",
    "А вот здесь решение одобряю 👏👏👏 Так у заказчика появляется выбор   \n",
    "\n",
    "</div>\n",
    "</div>"
   ]
  },
  {
   "cell_type": "markdown",
   "id": "563e37d3",
   "metadata": {},
   "source": [
    "<div style=\"border-radius: 3px; border: 2px solid black; padding: 0px;\">    \n",
    "<div class=\"alert alert-danger\">\n",
    "<s><b>Комментарий ревьюера ❌:</b> \n",
    "    \n",
    "Необходимо обновить общий вывод после всех доработок. Также можно сказать пару слов о возрастных рейтингах и наиболее прибыльных жанрах (популярные мы уже определили)\n",
    "</s>\n",
    "</div>\n",
    "</div>"
   ]
  },
  {
   "cell_type": "markdown",
   "id": "df70d7fd",
   "metadata": {},
   "source": [
    "<div style=\"border-radius: 15px; border: 3px solid black; padding: 15px;\">\n",
    "<b>Итоговый Комментарий ревьюера: </b>\n",
    "    \n",
    "В твоём проекте мне очень понравились следующие моменты:\n",
    "\n",
    "<div style=\"border-radius: 3px; border: 2px solid black; padding: 0px;\">     \n",
    "<div class=\"alert alert-success\">\n",
    "    \n",
    "✔️ Проект имеет чёткую структуру, код имеет хорошую логику и мало повторений;\n",
    "    \n",
    "✔️ Прослеживается вдумчивый подход в изучении данных;\n",
    "    \n",
    "✔️ Крутая и понятная визуализация;  \n",
    "    \n",
    "✔️ Верно сформулированы и проверены гипотезы;\n",
    "    \n",
    "    \n",
    "</div>    \n",
    "</div> \n",
    "    \n",
    "Моменты, которые нужно исправить:  \n",
    "<div style=\"border-radius: 3px; border: 2px solid black; padding: 0px;\">    \n",
    "<div class=\"alert alert-danger\">\n",
    "    \n",
    "❌ Присутствуют не все первичные выводы после загрузки данных и не сформирован план предобработки данных; \n",
    "    \n",
    "❌ Отсутствуют некоторые выводы после разделов;\n",
    "    \n",
    "❌ Не рассмотрены средние/медианные продажи по жанрам;\n",
    "    \n",
    "❌ Не заменены пропуски в категориях рейтинга; \n",
    "    \n",
    "❌ После всех исправлений необходимо обновить некоторые выводы;\n",
    "    \n",
    "</div>    \n",
    "</div> \n",
    "<hr>   \n",
    "Верю, что ты со всем справишься! Если появятся вопросы, буду рад на них ответить. С нетерпением жду проект на повторную проверку!\n",
    "</div> "
   ]
  },
  {
   "cell_type": "markdown",
   "id": "229a2962",
   "metadata": {},
   "source": [
    "<div style=\"border-radius: 15px; border: 3px solid black; padding: 15px;\">\n",
    "<b>Итог. Комментарий ревьюера V.2: </b>\n",
    "       \n",
    "Проект принят, поздравляю! Надеюсь, что смог помочь тебе сделать ещё один шаг на пути обучения, в котором желаю тебе удачи и больших успехов!\n",
    "    \n",
    "</div> "
   ]
  },
  {
   "cell_type": "code",
   "execution_count": null,
   "id": "64a6c64d",
   "metadata": {},
   "outputs": [],
   "source": []
  }
 ],
 "metadata": {
  "ExecuteTimeLog": [
   {
    "duration": 1806,
    "start_time": "2022-04-26T15:10:52.582Z"
   },
   {
    "duration": 81,
    "start_time": "2022-04-26T15:10:54.390Z"
   },
   {
    "duration": 26,
    "start_time": "2022-04-26T15:10:54.473Z"
   },
   {
    "duration": 23,
    "start_time": "2022-04-26T15:10:54.502Z"
   },
   {
    "duration": 29,
    "start_time": "2022-04-26T15:10:54.527Z"
   },
   {
    "duration": 35,
    "start_time": "2022-04-26T15:10:54.560Z"
   },
   {
    "duration": 29,
    "start_time": "2022-04-26T15:10:54.597Z"
   },
   {
    "duration": 19,
    "start_time": "2022-04-26T15:10:54.629Z"
   },
   {
    "duration": 44,
    "start_time": "2022-04-26T15:10:54.651Z"
   },
   {
    "duration": 11,
    "start_time": "2022-04-26T15:10:54.700Z"
   },
   {
    "duration": 11,
    "start_time": "2022-04-26T15:10:54.713Z"
   },
   {
    "duration": 10,
    "start_time": "2022-04-26T15:10:54.727Z"
   },
   {
    "duration": 57,
    "start_time": "2022-04-26T15:10:54.739Z"
   },
   {
    "duration": 25,
    "start_time": "2022-04-26T15:10:54.799Z"
   },
   {
    "duration": 12,
    "start_time": "2022-04-26T15:10:54.827Z"
   },
   {
    "duration": 12,
    "start_time": "2022-04-26T15:10:54.841Z"
   },
   {
    "duration": 8,
    "start_time": "2022-04-26T15:10:54.894Z"
   },
   {
    "duration": 23,
    "start_time": "2022-04-26T15:10:54.904Z"
   },
   {
    "duration": 6,
    "start_time": "2022-04-26T15:10:54.929Z"
   },
   {
    "duration": 62,
    "start_time": "2022-04-26T15:10:54.937Z"
   },
   {
    "duration": 29,
    "start_time": "2022-04-26T15:10:55.001Z"
   },
   {
    "duration": 391,
    "start_time": "2022-04-26T15:10:55.032Z"
   },
   {
    "duration": 22,
    "start_time": "2022-04-26T15:10:55.425Z"
   },
   {
    "duration": 101,
    "start_time": "2022-04-26T15:10:55.449Z"
   },
   {
    "duration": 1211,
    "start_time": "2022-04-26T15:10:55.552Z"
   },
   {
    "duration": 31,
    "start_time": "2022-04-26T15:10:56.766Z"
   },
   {
    "duration": 33,
    "start_time": "2022-04-26T15:10:56.799Z"
   },
   {
    "duration": 60,
    "start_time": "2022-04-26T15:10:56.838Z"
   },
   {
    "duration": 11,
    "start_time": "2022-04-26T15:10:56.901Z"
   },
   {
    "duration": 336,
    "start_time": "2022-04-26T15:10:56.914Z"
   },
   {
    "duration": 336,
    "start_time": "2022-04-26T15:10:57.253Z"
   },
   {
    "duration": 10,
    "start_time": "2022-04-26T15:10:57.592Z"
   },
   {
    "duration": 14,
    "start_time": "2022-04-26T15:10:57.604Z"
   },
   {
    "duration": 10,
    "start_time": "2022-04-26T15:10:57.621Z"
   },
   {
    "duration": 19,
    "start_time": "2022-04-26T15:10:57.633Z"
   },
   {
    "duration": 309,
    "start_time": "2022-04-26T15:10:57.654Z"
   },
   {
    "duration": 7,
    "start_time": "2022-04-26T15:10:57.966Z"
   },
   {
    "duration": 288,
    "start_time": "2022-04-26T15:10:57.992Z"
   },
   {
    "duration": 13,
    "start_time": "2022-04-26T15:10:58.282Z"
   },
   {
    "duration": 15,
    "start_time": "2022-04-26T15:10:58.298Z"
   },
   {
    "duration": 11,
    "start_time": "2022-04-26T15:10:58.315Z"
   },
   {
    "duration": 3277,
    "start_time": "2022-04-26T15:10:58.328Z"
   },
   {
    "duration": 26,
    "start_time": "2022-04-26T15:11:01.607Z"
   },
   {
    "duration": 35,
    "start_time": "2022-04-26T15:11:01.635Z"
   },
   {
    "duration": 34,
    "start_time": "2022-04-26T15:11:01.672Z"
   },
   {
    "duration": 30,
    "start_time": "2022-04-26T15:11:01.709Z"
   },
   {
    "duration": 25,
    "start_time": "2022-04-26T15:11:01.741Z"
   },
   {
    "duration": 14,
    "start_time": "2022-04-26T15:11:01.768Z"
   },
   {
    "duration": 30,
    "start_time": "2022-04-26T15:11:01.784Z"
   },
   {
    "duration": 19,
    "start_time": "2022-04-26T15:11:01.816Z"
   },
   {
    "duration": 24,
    "start_time": "2022-04-26T15:11:01.837Z"
   },
   {
    "duration": 21,
    "start_time": "2022-04-26T15:11:01.864Z"
   },
   {
    "duration": 520,
    "start_time": "2022-04-26T15:11:01.888Z"
   },
   {
    "duration": 6,
    "start_time": "2022-04-26T15:11:02.410Z"
   },
   {
    "duration": 21,
    "start_time": "2022-04-26T15:11:02.418Z"
   },
   {
    "duration": 12,
    "start_time": "2022-04-26T15:11:02.441Z"
   },
   {
    "duration": 569,
    "start_time": "2022-04-26T15:11:02.455Z"
   },
   {
    "duration": 6,
    "start_time": "2022-04-26T15:11:03.026Z"
   },
   {
    "duration": 1542,
    "start_time": "2022-04-26T15:15:03.162Z"
   },
   {
    "duration": 73,
    "start_time": "2022-04-26T15:15:04.708Z"
   },
   {
    "duration": 157,
    "start_time": "2022-04-26T15:15:04.783Z"
   },
   {
    "duration": 1451,
    "start_time": "2022-04-26T15:17:03.877Z"
   },
   {
    "duration": 68,
    "start_time": "2022-04-26T15:17:05.331Z"
   },
   {
    "duration": 26,
    "start_time": "2022-04-26T15:17:05.402Z"
   },
   {
    "duration": 24,
    "start_time": "2022-04-26T15:17:05.431Z"
   },
   {
    "duration": 62,
    "start_time": "2022-04-26T15:17:05.457Z"
   },
   {
    "duration": 5,
    "start_time": "2022-04-26T15:17:05.521Z"
   },
   {
    "duration": 31,
    "start_time": "2022-04-26T15:17:05.528Z"
   },
   {
    "duration": 37,
    "start_time": "2022-04-26T15:17:05.561Z"
   },
   {
    "duration": 11,
    "start_time": "2022-04-26T15:17:05.600Z"
   },
   {
    "duration": 11,
    "start_time": "2022-04-26T15:17:05.615Z"
   },
   {
    "duration": 12,
    "start_time": "2022-04-26T15:17:05.628Z"
   },
   {
    "duration": 56,
    "start_time": "2022-04-26T15:17:05.642Z"
   },
   {
    "duration": 24,
    "start_time": "2022-04-26T15:17:05.701Z"
   },
   {
    "duration": 32,
    "start_time": "2022-04-26T15:17:05.727Z"
   },
   {
    "duration": 11,
    "start_time": "2022-04-26T15:17:05.793Z"
   },
   {
    "duration": 14,
    "start_time": "2022-04-26T15:17:05.806Z"
   },
   {
    "duration": 11,
    "start_time": "2022-04-26T15:17:05.823Z"
   },
   {
    "duration": 22,
    "start_time": "2022-04-26T15:17:05.837Z"
   },
   {
    "duration": 39,
    "start_time": "2022-04-26T15:17:05.861Z"
   },
   {
    "duration": 34,
    "start_time": "2022-04-26T15:17:05.903Z"
   },
   {
    "duration": 54,
    "start_time": "2022-04-26T15:17:05.940Z"
   },
   {
    "duration": 426,
    "start_time": "2022-04-26T15:17:05.996Z"
   },
   {
    "duration": 31,
    "start_time": "2022-04-26T15:17:06.425Z"
   },
   {
    "duration": 137,
    "start_time": "2022-04-26T15:17:06.458Z"
   },
   {
    "duration": 1611,
    "start_time": "2022-04-26T15:17:06.597Z"
   },
   {
    "duration": 19,
    "start_time": "2022-04-26T15:17:08.210Z"
   },
   {
    "duration": 33,
    "start_time": "2022-04-26T15:17:08.231Z"
   },
   {
    "duration": 29,
    "start_time": "2022-04-26T15:17:08.295Z"
   },
   {
    "duration": 10,
    "start_time": "2022-04-26T15:17:08.327Z"
   },
   {
    "duration": 349,
    "start_time": "2022-04-26T15:17:08.339Z"
   },
   {
    "duration": 442,
    "start_time": "2022-04-26T15:17:08.694Z"
   },
   {
    "duration": 11,
    "start_time": "2022-04-26T15:17:09.139Z"
   },
   {
    "duration": 11,
    "start_time": "2022-04-26T15:17:09.152Z"
   },
   {
    "duration": 33,
    "start_time": "2022-04-26T15:17:09.165Z"
   },
   {
    "duration": 20,
    "start_time": "2022-04-26T15:17:09.200Z"
   },
   {
    "duration": 301,
    "start_time": "2022-04-26T15:17:09.222Z"
   },
   {
    "duration": 7,
    "start_time": "2022-04-26T15:17:09.525Z"
   },
   {
    "duration": 303,
    "start_time": "2022-04-26T15:17:09.534Z"
   },
   {
    "duration": 8,
    "start_time": "2022-04-26T15:17:09.839Z"
   },
   {
    "duration": 10,
    "start_time": "2022-04-26T15:17:09.849Z"
   },
   {
    "duration": 37,
    "start_time": "2022-04-26T15:17:09.862Z"
   },
   {
    "duration": 3074,
    "start_time": "2022-04-26T15:17:09.901Z"
   },
   {
    "duration": 35,
    "start_time": "2022-04-26T15:17:12.977Z"
   },
   {
    "duration": 16,
    "start_time": "2022-04-26T15:17:13.014Z"
   },
   {
    "duration": 30,
    "start_time": "2022-04-26T15:17:13.032Z"
   },
   {
    "duration": 47,
    "start_time": "2022-04-26T15:17:13.064Z"
   },
   {
    "duration": 18,
    "start_time": "2022-04-26T15:17:13.113Z"
   },
   {
    "duration": 14,
    "start_time": "2022-04-26T15:17:13.133Z"
   },
   {
    "duration": 45,
    "start_time": "2022-04-26T15:17:13.149Z"
   },
   {
    "duration": 31,
    "start_time": "2022-04-26T15:17:13.196Z"
   },
   {
    "duration": 14,
    "start_time": "2022-04-26T15:17:13.229Z"
   },
   {
    "duration": 13,
    "start_time": "2022-04-26T15:17:13.245Z"
   },
   {
    "duration": 481,
    "start_time": "2022-04-26T15:17:13.260Z"
   },
   {
    "duration": 5,
    "start_time": "2022-04-26T15:17:13.743Z"
   },
   {
    "duration": 8,
    "start_time": "2022-04-26T15:17:13.751Z"
   },
   {
    "duration": 33,
    "start_time": "2022-04-26T15:17:13.761Z"
   },
   {
    "duration": 443,
    "start_time": "2022-04-26T15:17:13.797Z"
   },
   {
    "duration": 6,
    "start_time": "2022-04-26T15:17:14.242Z"
   },
   {
    "duration": 28,
    "start_time": "2022-04-26T15:23:35.982Z"
   },
   {
    "duration": 1954,
    "start_time": "2022-04-26T15:35:19.375Z"
   },
   {
    "duration": 102,
    "start_time": "2022-04-26T15:35:21.333Z"
   },
   {
    "duration": 32,
    "start_time": "2022-04-26T15:35:21.437Z"
   },
   {
    "duration": 53,
    "start_time": "2022-04-26T15:35:21.473Z"
   },
   {
    "duration": 43,
    "start_time": "2022-04-26T15:35:21.529Z"
   },
   {
    "duration": 7,
    "start_time": "2022-04-26T15:35:21.594Z"
   },
   {
    "duration": 28,
    "start_time": "2022-04-26T15:35:21.603Z"
   },
   {
    "duration": 19,
    "start_time": "2022-04-26T15:35:21.634Z"
   },
   {
    "duration": 48,
    "start_time": "2022-04-26T15:35:21.655Z"
   },
   {
    "duration": 15,
    "start_time": "2022-04-26T15:35:21.709Z"
   },
   {
    "duration": 12,
    "start_time": "2022-04-26T15:35:21.726Z"
   },
   {
    "duration": 57,
    "start_time": "2022-04-26T15:35:21.741Z"
   },
   {
    "duration": 22,
    "start_time": "2022-04-26T15:35:21.800Z"
   },
   {
    "duration": 24,
    "start_time": "2022-04-26T15:35:21.825Z"
   },
   {
    "duration": 47,
    "start_time": "2022-04-26T15:35:21.852Z"
   },
   {
    "duration": 12,
    "start_time": "2022-04-26T15:35:21.902Z"
   },
   {
    "duration": 15,
    "start_time": "2022-04-26T15:35:21.917Z"
   },
   {
    "duration": 25,
    "start_time": "2022-04-26T15:35:21.934Z"
   },
   {
    "duration": 38,
    "start_time": "2022-04-26T15:35:21.962Z"
   },
   {
    "duration": 57,
    "start_time": "2022-04-26T15:35:22.003Z"
   },
   {
    "duration": 55,
    "start_time": "2022-04-26T15:35:22.062Z"
   },
   {
    "duration": 390,
    "start_time": "2022-04-26T15:35:22.119Z"
   },
   {
    "duration": 23,
    "start_time": "2022-04-26T15:35:22.511Z"
   },
   {
    "duration": 107,
    "start_time": "2022-04-26T15:35:22.537Z"
   },
   {
    "duration": 1660,
    "start_time": "2022-04-26T15:35:22.648Z"
   },
   {
    "duration": 26,
    "start_time": "2022-04-26T15:35:24.310Z"
   },
   {
    "duration": 66,
    "start_time": "2022-04-26T15:35:24.339Z"
   },
   {
    "duration": 29,
    "start_time": "2022-04-26T15:35:24.411Z"
   },
   {
    "duration": 9,
    "start_time": "2022-04-26T15:35:24.442Z"
   },
   {
    "duration": 354,
    "start_time": "2022-04-26T15:35:24.453Z"
   },
   {
    "duration": 336,
    "start_time": "2022-04-26T15:35:24.810Z"
   },
   {
    "duration": 9,
    "start_time": "2022-04-26T15:35:25.149Z"
   },
   {
    "duration": 33,
    "start_time": "2022-04-26T15:35:25.161Z"
   },
   {
    "duration": 9,
    "start_time": "2022-04-26T15:35:25.198Z"
   },
   {
    "duration": 29,
    "start_time": "2022-04-26T15:35:25.209Z"
   },
   {
    "duration": 301,
    "start_time": "2022-04-26T15:35:25.240Z"
   },
   {
    "duration": 8,
    "start_time": "2022-04-26T15:35:25.543Z"
   },
   {
    "duration": 285,
    "start_time": "2022-04-26T15:35:25.553Z"
   },
   {
    "duration": 7,
    "start_time": "2022-04-26T15:35:25.840Z"
   },
   {
    "duration": 12,
    "start_time": "2022-04-26T15:35:25.849Z"
   },
   {
    "duration": 37,
    "start_time": "2022-04-26T15:35:25.864Z"
   },
   {
    "duration": 3338,
    "start_time": "2022-04-26T15:35:25.904Z"
   },
   {
    "duration": 27,
    "start_time": "2022-04-26T15:35:29.245Z"
   },
   {
    "duration": 20,
    "start_time": "2022-04-26T15:35:29.294Z"
   },
   {
    "duration": 33,
    "start_time": "2022-04-26T15:35:29.316Z"
   },
   {
    "duration": 42,
    "start_time": "2022-04-26T15:35:29.352Z"
   },
   {
    "duration": 18,
    "start_time": "2022-04-26T15:35:29.397Z"
   },
   {
    "duration": 19,
    "start_time": "2022-04-26T15:35:29.417Z"
   },
   {
    "duration": 15,
    "start_time": "2022-04-26T15:35:29.439Z"
   },
   {
    "duration": 52,
    "start_time": "2022-04-26T15:35:29.456Z"
   },
   {
    "duration": 16,
    "start_time": "2022-04-26T15:35:29.511Z"
   },
   {
    "duration": 16,
    "start_time": "2022-04-26T15:35:29.529Z"
   },
   {
    "duration": 507,
    "start_time": "2022-04-26T15:35:29.548Z"
   },
   {
    "duration": 7,
    "start_time": "2022-04-26T15:35:30.057Z"
   },
   {
    "duration": 26,
    "start_time": "2022-04-26T15:35:30.067Z"
   },
   {
    "duration": 8,
    "start_time": "2022-04-26T15:35:30.096Z"
   },
   {
    "duration": 473,
    "start_time": "2022-04-26T15:35:30.106Z"
   },
   {
    "duration": 12,
    "start_time": "2022-04-26T15:35:30.582Z"
   },
   {
    "duration": 1370,
    "start_time": "2022-04-27T17:51:57.619Z"
   },
   {
    "duration": 63,
    "start_time": "2022-04-27T17:51:58.991Z"
   },
   {
    "duration": 23,
    "start_time": "2022-04-27T17:52:02.809Z"
   },
   {
    "duration": 16,
    "start_time": "2022-04-27T17:52:17.357Z"
   },
   {
    "duration": 13,
    "start_time": "2022-04-27T17:53:22.773Z"
   },
   {
    "duration": 3,
    "start_time": "2022-04-27T18:00:19.550Z"
   },
   {
    "duration": 66,
    "start_time": "2022-04-27T18:00:19.948Z"
   },
   {
    "duration": 13,
    "start_time": "2022-04-27T18:00:21.642Z"
   },
   {
    "duration": 1132,
    "start_time": "2022-04-27T18:11:40.730Z"
   },
   {
    "duration": 3,
    "start_time": "2022-04-27T18:11:49.083Z"
   },
   {
    "duration": 53,
    "start_time": "2022-04-27T18:11:49.374Z"
   },
   {
    "duration": 13,
    "start_time": "2022-04-27T18:11:49.531Z"
   },
   {
    "duration": 14,
    "start_time": "2022-04-27T18:11:50.422Z"
   },
   {
    "duration": 17,
    "start_time": "2022-04-27T18:11:50.964Z"
   },
   {
    "duration": 1119,
    "start_time": "2022-04-27T18:11:51.855Z"
   },
   {
    "duration": 0,
    "start_time": "2022-04-27T18:11:52.976Z"
   },
   {
    "duration": 0,
    "start_time": "2022-04-27T18:11:52.977Z"
   },
   {
    "duration": 1045,
    "start_time": "2022-04-27T18:11:53.090Z"
   },
   {
    "duration": 0,
    "start_time": "2022-04-27T18:11:54.137Z"
   },
   {
    "duration": 0,
    "start_time": "2022-04-27T18:11:54.138Z"
   },
   {
    "duration": 1049,
    "start_time": "2022-04-27T18:11:54.307Z"
   },
   {
    "duration": 0,
    "start_time": "2022-04-27T18:11:55.357Z"
   },
   {
    "duration": 0,
    "start_time": "2022-04-27T18:11:55.359Z"
   },
   {
    "duration": 1264,
    "start_time": "2022-04-27T18:11:55.815Z"
   },
   {
    "duration": 0,
    "start_time": "2022-04-27T18:11:57.081Z"
   },
   {
    "duration": 1133,
    "start_time": "2022-04-27T18:11:57.087Z"
   },
   {
    "duration": 0,
    "start_time": "2022-04-27T18:11:58.222Z"
   },
   {
    "duration": 0,
    "start_time": "2022-04-27T18:11:58.223Z"
   },
   {
    "duration": 1062,
    "start_time": "2022-04-27T18:11:59.103Z"
   },
   {
    "duration": 3,
    "start_time": "2022-04-27T18:12:25.335Z"
   },
   {
    "duration": 47,
    "start_time": "2022-04-27T18:12:26.036Z"
   },
   {
    "duration": 13,
    "start_time": "2022-04-27T18:12:27.208Z"
   },
   {
    "duration": 23,
    "start_time": "2022-04-27T18:12:40.776Z"
   },
   {
    "duration": 16,
    "start_time": "2022-04-27T18:12:44.665Z"
   },
   {
    "duration": 9,
    "start_time": "2022-04-27T18:13:04.998Z"
   },
   {
    "duration": 9,
    "start_time": "2022-04-27T18:13:13.130Z"
   },
   {
    "duration": 3,
    "start_time": "2022-04-27T18:13:21.223Z"
   },
   {
    "duration": 50,
    "start_time": "2022-04-27T18:13:21.463Z"
   },
   {
    "duration": 13,
    "start_time": "2022-04-27T18:13:21.783Z"
   },
   {
    "duration": 6,
    "start_time": "2022-04-27T18:13:24.501Z"
   },
   {
    "duration": 3,
    "start_time": "2022-04-27T18:13:34.263Z"
   },
   {
    "duration": 15,
    "start_time": "2022-04-27T18:13:40.117Z"
   },
   {
    "duration": 18,
    "start_time": "2022-04-27T18:13:45.566Z"
   },
   {
    "duration": 29,
    "start_time": "2022-04-27T18:13:50.198Z"
   },
   {
    "duration": 5,
    "start_time": "2022-04-27T18:13:53.448Z"
   },
   {
    "duration": 20,
    "start_time": "2022-04-27T18:13:57.486Z"
   },
   {
    "duration": 14,
    "start_time": "2022-04-27T18:13:57.832Z"
   },
   {
    "duration": 10,
    "start_time": "2022-04-27T18:14:03.038Z"
   },
   {
    "duration": 11,
    "start_time": "2022-04-27T18:14:04.031Z"
   },
   {
    "duration": 10,
    "start_time": "2022-04-27T18:14:04.814Z"
   },
   {
    "duration": 9,
    "start_time": "2022-04-27T18:14:15.062Z"
   },
   {
    "duration": 15,
    "start_time": "2022-04-27T18:14:17.719Z"
   },
   {
    "duration": 19,
    "start_time": "2022-04-27T18:14:18.808Z"
   },
   {
    "duration": 11,
    "start_time": "2022-04-27T18:14:21.743Z"
   },
   {
    "duration": 10,
    "start_time": "2022-04-27T18:14:23.373Z"
   },
   {
    "duration": 7,
    "start_time": "2022-04-27T18:14:25.136Z"
   },
   {
    "duration": 18,
    "start_time": "2022-04-27T18:14:26.085Z"
   },
   {
    "duration": 7,
    "start_time": "2022-04-27T18:14:27.551Z"
   },
   {
    "duration": 29,
    "start_time": "2022-04-27T18:14:31.375Z"
   },
   {
    "duration": 22,
    "start_time": "2022-04-27T18:14:37.701Z"
   },
   {
    "duration": 226,
    "start_time": "2022-04-27T18:14:39.416Z"
   },
   {
    "duration": 220,
    "start_time": "2022-04-27T18:15:01.018Z"
   },
   {
    "duration": 218,
    "start_time": "2022-04-27T18:15:16.257Z"
   },
   {
    "duration": 221,
    "start_time": "2022-04-27T18:15:33.592Z"
   },
   {
    "duration": 214,
    "start_time": "2022-04-27T18:15:53.714Z"
   },
   {
    "duration": 217,
    "start_time": "2022-04-27T18:15:58.174Z"
   },
   {
    "duration": 236,
    "start_time": "2022-04-27T18:16:03.307Z"
   },
   {
    "duration": 220,
    "start_time": "2022-04-27T18:16:22.119Z"
   },
   {
    "duration": 225,
    "start_time": "2022-04-27T18:16:58.307Z"
   },
   {
    "duration": 18,
    "start_time": "2022-04-27T18:17:12.030Z"
   },
   {
    "duration": 59,
    "start_time": "2022-04-27T18:17:16.824Z"
   },
   {
    "duration": 995,
    "start_time": "2022-04-27T18:17:18.725Z"
   },
   {
    "duration": 14,
    "start_time": "2022-04-27T18:18:13.425Z"
   },
   {
    "duration": 23,
    "start_time": "2022-04-27T18:18:13.983Z"
   },
   {
    "duration": 22,
    "start_time": "2022-04-27T18:18:16.032Z"
   },
   {
    "duration": 7,
    "start_time": "2022-04-27T18:18:17.575Z"
   },
   {
    "duration": 221,
    "start_time": "2022-04-27T18:18:21.248Z"
   },
   {
    "duration": 218,
    "start_time": "2022-04-27T18:18:23.703Z"
   },
   {
    "duration": 7,
    "start_time": "2022-04-27T18:18:25.680Z"
   },
   {
    "duration": 7,
    "start_time": "2022-04-27T18:18:28.576Z"
   },
   {
    "duration": 8,
    "start_time": "2022-04-27T18:18:29.025Z"
   },
   {
    "duration": 13,
    "start_time": "2022-04-27T18:18:33.885Z"
   },
   {
    "duration": 169,
    "start_time": "2022-04-27T18:18:35.347Z"
   },
   {
    "duration": 5,
    "start_time": "2022-04-27T18:18:36.552Z"
   },
   {
    "duration": 167,
    "start_time": "2022-04-27T18:18:37.059Z"
   },
   {
    "duration": 5,
    "start_time": "2022-04-27T18:18:38.504Z"
   },
   {
    "duration": 8,
    "start_time": "2022-04-27T18:18:40.800Z"
   },
   {
    "duration": 7,
    "start_time": "2022-04-27T18:18:41.144Z"
   },
   {
    "duration": 2165,
    "start_time": "2022-04-27T18:18:46.832Z"
   },
   {
    "duration": 23,
    "start_time": "2022-04-27T18:21:33.417Z"
   },
   {
    "duration": 14,
    "start_time": "2022-04-27T18:22:10.539Z"
   },
   {
    "duration": 2174,
    "start_time": "2022-04-27T18:23:20.961Z"
   },
   {
    "duration": 161,
    "start_time": "2022-04-27T18:23:39.753Z"
   },
   {
    "duration": 155,
    "start_time": "2022-04-27T18:25:37.603Z"
   },
   {
    "duration": 58,
    "start_time": "2022-04-27T18:26:23.611Z"
   },
   {
    "duration": 148,
    "start_time": "2022-04-27T18:26:29.645Z"
   },
   {
    "duration": 161,
    "start_time": "2022-04-27T18:26:51.099Z"
   },
   {
    "duration": 174,
    "start_time": "2022-04-27T18:26:57.340Z"
   },
   {
    "duration": 362,
    "start_time": "2022-04-27T18:27:01.428Z"
   },
   {
    "duration": 14,
    "start_time": "2022-04-27T18:27:54.176Z"
   },
   {
    "duration": 143,
    "start_time": "2022-04-27T18:29:05.627Z"
   },
   {
    "duration": 143,
    "start_time": "2022-04-27T18:29:20.051Z"
   },
   {
    "duration": 151,
    "start_time": "2022-04-27T18:29:28.774Z"
   },
   {
    "duration": 138,
    "start_time": "2022-04-27T18:29:57.645Z"
   },
   {
    "duration": 125,
    "start_time": "2022-04-27T18:30:21.028Z"
   },
   {
    "duration": 125,
    "start_time": "2022-04-27T18:30:46.084Z"
   },
   {
    "duration": 71,
    "start_time": "2022-04-27T18:32:14.354Z"
   },
   {
    "duration": 143,
    "start_time": "2022-04-27T18:32:24.224Z"
   },
   {
    "duration": 125,
    "start_time": "2022-04-27T18:32:36.520Z"
   },
   {
    "duration": 1265,
    "start_time": "2022-04-27T18:33:24.646Z"
   },
   {
    "duration": 1064,
    "start_time": "2022-04-27T18:33:56.969Z"
   },
   {
    "duration": 13,
    "start_time": "2022-04-27T18:34:03.386Z"
   },
   {
    "duration": 1104,
    "start_time": "2022-04-27T18:34:19.496Z"
   },
   {
    "duration": 16,
    "start_time": "2022-04-27T18:34:39.426Z"
   },
   {
    "duration": 14,
    "start_time": "2022-04-27T18:34:48.926Z"
   },
   {
    "duration": 10,
    "start_time": "2022-04-27T18:34:59.780Z"
   },
   {
    "duration": 15,
    "start_time": "2022-04-27T18:35:12.878Z"
   },
   {
    "duration": 15,
    "start_time": "2022-04-27T18:35:17.314Z"
   },
   {
    "duration": 15,
    "start_time": "2022-04-27T18:35:20.532Z"
   },
   {
    "duration": 14,
    "start_time": "2022-04-27T18:35:27.788Z"
   },
   {
    "duration": 12,
    "start_time": "2022-04-27T18:35:32.523Z"
   },
   {
    "duration": 201,
    "start_time": "2022-04-27T18:35:48.916Z"
   },
   {
    "duration": 343,
    "start_time": "2022-04-27T18:36:39.998Z"
   },
   {
    "duration": 1454,
    "start_time": "2022-04-27T18:38:33.755Z"
   },
   {
    "duration": 1177,
    "start_time": "2022-04-27T18:38:45.018Z"
   },
   {
    "duration": 2053,
    "start_time": "2022-04-27T18:38:58.856Z"
   },
   {
    "duration": 205,
    "start_time": "2022-04-27T18:39:31.305Z"
   },
   {
    "duration": 351,
    "start_time": "2022-04-27T18:41:16.917Z"
   },
   {
    "duration": 243,
    "start_time": "2022-04-27T18:41:45.491Z"
   },
   {
    "duration": 19,
    "start_time": "2022-04-27T18:43:08.821Z"
   },
   {
    "duration": 13,
    "start_time": "2022-04-27T18:43:28.999Z"
   },
   {
    "duration": 22,
    "start_time": "2022-04-27T18:44:36.116Z"
   },
   {
    "duration": 12,
    "start_time": "2022-04-27T18:45:28.335Z"
   },
   {
    "duration": 12,
    "start_time": "2022-04-27T18:45:35.466Z"
   },
   {
    "duration": 13,
    "start_time": "2022-04-27T18:45:44.490Z"
   },
   {
    "duration": 6,
    "start_time": "2022-04-27T18:46:54.904Z"
   },
   {
    "duration": 13,
    "start_time": "2022-04-27T18:47:00.545Z"
   },
   {
    "duration": 13,
    "start_time": "2022-04-27T18:47:02.551Z"
   },
   {
    "duration": 4,
    "start_time": "2022-04-27T18:47:18.080Z"
   },
   {
    "duration": 3,
    "start_time": "2022-04-27T18:47:45.646Z"
   },
   {
    "duration": 6,
    "start_time": "2022-04-27T18:47:48.295Z"
   },
   {
    "duration": 1199,
    "start_time": "2022-04-27T18:48:00.382Z"
   },
   {
    "duration": 54,
    "start_time": "2022-04-27T18:48:01.583Z"
   },
   {
    "duration": 17,
    "start_time": "2022-04-27T18:48:01.639Z"
   },
   {
    "duration": 22,
    "start_time": "2022-04-27T18:48:01.658Z"
   },
   {
    "duration": 33,
    "start_time": "2022-04-27T18:48:01.682Z"
   },
   {
    "duration": 23,
    "start_time": "2022-04-27T18:48:01.717Z"
   },
   {
    "duration": 4,
    "start_time": "2022-04-27T18:48:01.742Z"
   },
   {
    "duration": 20,
    "start_time": "2022-04-27T18:48:01.748Z"
   },
   {
    "duration": 38,
    "start_time": "2022-04-27T18:48:01.770Z"
   },
   {
    "duration": 9,
    "start_time": "2022-04-27T18:48:01.811Z"
   },
   {
    "duration": 8,
    "start_time": "2022-04-27T18:48:01.822Z"
   },
   {
    "duration": 12,
    "start_time": "2022-04-27T18:48:01.832Z"
   },
   {
    "duration": 8,
    "start_time": "2022-04-27T18:48:01.846Z"
   },
   {
    "duration": 15,
    "start_time": "2022-04-27T18:48:01.856Z"
   },
   {
    "duration": 18,
    "start_time": "2022-04-27T18:48:01.907Z"
   },
   {
    "duration": 9,
    "start_time": "2022-04-27T18:48:01.927Z"
   },
   {
    "duration": 13,
    "start_time": "2022-04-27T18:48:01.938Z"
   },
   {
    "duration": 10,
    "start_time": "2022-04-27T18:48:01.952Z"
   },
   {
    "duration": 22,
    "start_time": "2022-04-27T18:48:01.964Z"
   },
   {
    "duration": 5,
    "start_time": "2022-04-27T18:48:02.007Z"
   },
   {
    "duration": 29,
    "start_time": "2022-04-27T18:48:02.014Z"
   },
   {
    "duration": 20,
    "start_time": "2022-04-27T18:48:02.044Z"
   },
   {
    "duration": 260,
    "start_time": "2022-04-27T18:48:02.065Z"
   },
   {
    "duration": 16,
    "start_time": "2022-04-27T18:48:02.327Z"
   },
   {
    "duration": 71,
    "start_time": "2022-04-27T18:48:02.345Z"
   },
   {
    "duration": 874,
    "start_time": "2022-04-27T18:48:02.418Z"
   },
   {
    "duration": 22,
    "start_time": "2022-04-27T18:48:03.294Z"
   },
   {
    "duration": 22,
    "start_time": "2022-04-27T18:48:03.320Z"
   },
   {
    "duration": 28,
    "start_time": "2022-04-27T18:48:03.344Z"
   },
   {
    "duration": 7,
    "start_time": "2022-04-27T18:48:03.373Z"
   },
   {
    "duration": 230,
    "start_time": "2022-04-27T18:48:03.381Z"
   },
   {
    "duration": 219,
    "start_time": "2022-04-27T18:48:03.613Z"
   },
   {
    "duration": 8,
    "start_time": "2022-04-27T18:48:03.834Z"
   },
   {
    "duration": 10,
    "start_time": "2022-04-27T18:48:03.844Z"
   },
   {
    "duration": 11,
    "start_time": "2022-04-27T18:48:03.856Z"
   },
   {
    "duration": 14,
    "start_time": "2022-04-27T18:48:03.869Z"
   },
   {
    "duration": 189,
    "start_time": "2022-04-27T18:48:03.906Z"
   },
   {
    "duration": 10,
    "start_time": "2022-04-27T18:48:04.097Z"
   },
   {
    "duration": 195,
    "start_time": "2022-04-27T18:48:04.109Z"
   },
   {
    "duration": 6,
    "start_time": "2022-04-27T18:48:04.305Z"
   },
   {
    "duration": 10,
    "start_time": "2022-04-27T18:48:04.313Z"
   },
   {
    "duration": 7,
    "start_time": "2022-04-27T18:48:04.325Z"
   },
   {
    "duration": 2145,
    "start_time": "2022-04-27T18:48:04.334Z"
   },
   {
    "duration": 270,
    "start_time": "2022-04-27T18:48:06.481Z"
   },
   {
    "duration": 19,
    "start_time": "2022-04-27T18:48:06.753Z"
   },
   {
    "duration": 34,
    "start_time": "2022-04-27T18:48:06.774Z"
   },
   {
    "duration": 22,
    "start_time": "2022-04-27T18:48:06.811Z"
   },
   {
    "duration": 17,
    "start_time": "2022-04-27T18:48:06.835Z"
   },
   {
    "duration": 13,
    "start_time": "2022-04-27T18:48:06.854Z"
   },
   {
    "duration": 47,
    "start_time": "2022-04-27T18:48:06.868Z"
   },
   {
    "duration": 12,
    "start_time": "2022-04-27T18:48:06.917Z"
   },
   {
    "duration": 4,
    "start_time": "2022-04-27T18:48:06.931Z"
   },
   {
    "duration": 7,
    "start_time": "2022-04-27T18:48:06.937Z"
   },
   {
    "duration": 138,
    "start_time": "2022-04-27T18:48:06.946Z"
   },
   {
    "duration": 0,
    "start_time": "2022-04-27T18:48:07.086Z"
   },
   {
    "duration": 0,
    "start_time": "2022-04-27T18:48:07.087Z"
   },
   {
    "duration": 0,
    "start_time": "2022-04-27T18:48:07.088Z"
   },
   {
    "duration": 0,
    "start_time": "2022-04-27T18:48:07.089Z"
   },
   {
    "duration": 0,
    "start_time": "2022-04-27T18:48:07.090Z"
   },
   {
    "duration": 0,
    "start_time": "2022-04-27T18:48:07.091Z"
   },
   {
    "duration": 0,
    "start_time": "2022-04-27T18:48:07.092Z"
   },
   {
    "duration": 0,
    "start_time": "2022-04-27T18:48:07.108Z"
   },
   {
    "duration": 13,
    "start_time": "2022-04-27T18:48:34.240Z"
   },
   {
    "duration": 1121,
    "start_time": "2022-04-27T18:48:40.745Z"
   },
   {
    "duration": 51,
    "start_time": "2022-04-27T18:48:41.868Z"
   },
   {
    "duration": 17,
    "start_time": "2022-04-27T18:48:41.920Z"
   },
   {
    "duration": 16,
    "start_time": "2022-04-27T18:48:41.940Z"
   },
   {
    "duration": 21,
    "start_time": "2022-04-27T18:48:41.957Z"
   },
   {
    "duration": 45,
    "start_time": "2022-04-27T18:48:41.980Z"
   },
   {
    "duration": 4,
    "start_time": "2022-04-27T18:48:42.027Z"
   },
   {
    "duration": 22,
    "start_time": "2022-04-27T18:48:42.033Z"
   },
   {
    "duration": 13,
    "start_time": "2022-04-27T18:48:42.058Z"
   },
   {
    "duration": 39,
    "start_time": "2022-04-27T18:48:42.074Z"
   },
   {
    "duration": 9,
    "start_time": "2022-04-27T18:48:42.115Z"
   },
   {
    "duration": 8,
    "start_time": "2022-04-27T18:48:42.126Z"
   },
   {
    "duration": 9,
    "start_time": "2022-04-27T18:48:42.136Z"
   },
   {
    "duration": 17,
    "start_time": "2022-04-27T18:48:42.147Z"
   },
   {
    "duration": 56,
    "start_time": "2022-04-27T18:48:42.165Z"
   },
   {
    "duration": 10,
    "start_time": "2022-04-27T18:48:42.222Z"
   },
   {
    "duration": 9,
    "start_time": "2022-04-27T18:48:42.235Z"
   },
   {
    "duration": 10,
    "start_time": "2022-04-27T18:48:42.246Z"
   },
   {
    "duration": 15,
    "start_time": "2022-04-27T18:48:42.257Z"
   },
   {
    "duration": 35,
    "start_time": "2022-04-27T18:48:42.273Z"
   },
   {
    "duration": 25,
    "start_time": "2022-04-27T18:48:42.310Z"
   },
   {
    "duration": 20,
    "start_time": "2022-04-27T18:48:42.336Z"
   },
   {
    "duration": 265,
    "start_time": "2022-04-27T18:48:42.357Z"
   },
   {
    "duration": 17,
    "start_time": "2022-04-27T18:48:42.624Z"
   },
   {
    "duration": 76,
    "start_time": "2022-04-27T18:48:42.642Z"
   },
   {
    "duration": 868,
    "start_time": "2022-04-27T18:48:42.719Z"
   },
   {
    "duration": 27,
    "start_time": "2022-04-27T18:48:43.590Z"
   },
   {
    "duration": 23,
    "start_time": "2022-04-27T18:48:43.623Z"
   },
   {
    "duration": 20,
    "start_time": "2022-04-27T18:48:43.648Z"
   },
   {
    "duration": 7,
    "start_time": "2022-04-27T18:48:43.669Z"
   },
   {
    "duration": 231,
    "start_time": "2022-04-27T18:48:43.678Z"
   },
   {
    "duration": 221,
    "start_time": "2022-04-27T18:48:43.911Z"
   },
   {
    "duration": 8,
    "start_time": "2022-04-27T18:48:44.133Z"
   },
   {
    "duration": 7,
    "start_time": "2022-04-27T18:48:44.143Z"
   },
   {
    "duration": 8,
    "start_time": "2022-04-27T18:48:44.153Z"
   },
   {
    "duration": 51,
    "start_time": "2022-04-27T18:48:44.162Z"
   },
   {
    "duration": 216,
    "start_time": "2022-04-27T18:48:44.215Z"
   },
   {
    "duration": 6,
    "start_time": "2022-04-27T18:48:44.433Z"
   },
   {
    "duration": 203,
    "start_time": "2022-04-27T18:48:44.440Z"
   },
   {
    "duration": 5,
    "start_time": "2022-04-27T18:48:44.645Z"
   },
   {
    "duration": 9,
    "start_time": "2022-04-27T18:48:44.652Z"
   },
   {
    "duration": 7,
    "start_time": "2022-04-27T18:48:44.663Z"
   },
   {
    "duration": 2167,
    "start_time": "2022-04-27T18:48:44.671Z"
   },
   {
    "duration": 259,
    "start_time": "2022-04-27T18:48:46.840Z"
   },
   {
    "duration": 23,
    "start_time": "2022-04-27T18:48:47.101Z"
   },
   {
    "duration": 14,
    "start_time": "2022-04-27T18:48:47.126Z"
   },
   {
    "duration": 24,
    "start_time": "2022-04-27T18:48:47.141Z"
   },
   {
    "duration": 15,
    "start_time": "2022-04-27T18:48:47.167Z"
   },
   {
    "duration": 12,
    "start_time": "2022-04-27T18:48:47.208Z"
   },
   {
    "duration": 11,
    "start_time": "2022-04-27T18:48:47.221Z"
   },
   {
    "duration": 12,
    "start_time": "2022-04-27T18:48:47.234Z"
   },
   {
    "duration": 11,
    "start_time": "2022-04-27T18:48:47.248Z"
   },
   {
    "duration": 56,
    "start_time": "2022-04-27T18:48:47.261Z"
   },
   {
    "duration": 14,
    "start_time": "2022-04-27T18:48:47.318Z"
   },
   {
    "duration": 14,
    "start_time": "2022-04-27T18:48:47.334Z"
   },
   {
    "duration": 14,
    "start_time": "2022-04-27T18:48:47.349Z"
   },
   {
    "duration": 306,
    "start_time": "2022-04-27T18:48:47.364Z"
   },
   {
    "duration": 4,
    "start_time": "2022-04-27T18:48:47.672Z"
   },
   {
    "duration": 6,
    "start_time": "2022-04-27T18:48:47.677Z"
   },
   {
    "duration": 5,
    "start_time": "2022-04-27T18:48:47.685Z"
   },
   {
    "duration": 285,
    "start_time": "2022-04-27T18:48:47.708Z"
   },
   {
    "duration": 13,
    "start_time": "2022-04-27T18:48:47.995Z"
   },
   {
    "duration": 6,
    "start_time": "2022-04-27T18:49:45.864Z"
   },
   {
    "duration": 5,
    "start_time": "2022-04-27T19:01:44.161Z"
   },
   {
    "duration": 35,
    "start_time": "2022-04-27T19:01:48.270Z"
   },
   {
    "duration": 14,
    "start_time": "2022-04-27T19:02:00.637Z"
   },
   {
    "duration": 13,
    "start_time": "2022-04-27T19:02:05.277Z"
   },
   {
    "duration": 13,
    "start_time": "2022-04-27T19:02:06.895Z"
   },
   {
    "duration": 1448,
    "start_time": "2022-04-27T19:05:59.562Z"
   },
   {
    "duration": 17,
    "start_time": "2022-04-27T19:06:07.835Z"
   },
   {
    "duration": 13,
    "start_time": "2022-04-27T19:06:15.402Z"
   },
   {
    "duration": 15,
    "start_time": "2022-04-27T19:06:28.873Z"
   },
   {
    "duration": 33,
    "start_time": "2022-04-27T19:07:04.503Z"
   },
   {
    "duration": 31,
    "start_time": "2022-04-27T19:07:20.942Z"
   },
   {
    "duration": 10,
    "start_time": "2022-04-27T19:08:34.333Z"
   },
   {
    "duration": 14,
    "start_time": "2022-04-27T19:08:42.376Z"
   },
   {
    "duration": 47,
    "start_time": "2022-04-27T19:08:53.304Z"
   },
   {
    "duration": 40,
    "start_time": "2022-04-27T19:09:17.361Z"
   },
   {
    "duration": 41,
    "start_time": "2022-04-27T19:09:23.720Z"
   },
   {
    "duration": 44,
    "start_time": "2022-04-27T19:09:30.351Z"
   },
   {
    "duration": 47,
    "start_time": "2022-04-27T19:09:37.674Z"
   },
   {
    "duration": 63,
    "start_time": "2022-04-27T19:09:55.713Z"
   },
   {
    "duration": 52,
    "start_time": "2022-04-27T19:10:36.198Z"
   },
   {
    "duration": 26,
    "start_time": "2022-04-27T19:10:48.128Z"
   },
   {
    "duration": 21,
    "start_time": "2022-04-27T19:10:50.871Z"
   },
   {
    "duration": 20,
    "start_time": "2022-04-27T19:11:08.032Z"
   },
   {
    "duration": 19,
    "start_time": "2022-04-27T19:11:18.271Z"
   },
   {
    "duration": 24,
    "start_time": "2022-04-27T19:11:20.724Z"
   },
   {
    "duration": 21,
    "start_time": "2022-04-27T19:11:30.186Z"
   },
   {
    "duration": 11,
    "start_time": "2022-04-27T19:11:54.013Z"
   },
   {
    "duration": 20,
    "start_time": "2022-04-27T19:12:10.585Z"
   },
   {
    "duration": 19,
    "start_time": "2022-04-27T19:12:22.151Z"
   },
   {
    "duration": 21,
    "start_time": "2022-04-27T19:16:09.238Z"
   },
   {
    "duration": 14,
    "start_time": "2022-04-27T19:16:23.210Z"
   },
   {
    "duration": 15,
    "start_time": "2022-04-27T19:16:36.148Z"
   },
   {
    "duration": 17,
    "start_time": "2022-04-27T19:16:45.267Z"
   },
   {
    "duration": 33,
    "start_time": "2022-04-27T19:16:53.629Z"
   },
   {
    "duration": 15,
    "start_time": "2022-04-27T19:17:15.210Z"
   },
   {
    "duration": 15,
    "start_time": "2022-04-27T19:17:21.786Z"
   },
   {
    "duration": 32,
    "start_time": "2022-04-27T19:17:27.642Z"
   },
   {
    "duration": 19,
    "start_time": "2022-04-27T19:18:08.789Z"
   },
   {
    "duration": 16,
    "start_time": "2022-04-27T19:18:23.730Z"
   },
   {
    "duration": 35,
    "start_time": "2022-04-27T19:18:49.736Z"
   },
   {
    "duration": 77,
    "start_time": "2022-04-27T19:19:09.883Z"
   },
   {
    "duration": 35,
    "start_time": "2022-04-27T19:19:13.808Z"
   },
   {
    "duration": 11,
    "start_time": "2022-04-27T19:19:23.528Z"
   },
   {
    "duration": 18,
    "start_time": "2022-04-27T19:19:43.439Z"
   },
   {
    "duration": 20,
    "start_time": "2022-04-27T19:20:21.016Z"
   },
   {
    "duration": 19,
    "start_time": "2022-04-27T19:22:10.029Z"
   },
   {
    "duration": 23,
    "start_time": "2022-04-27T19:22:23.969Z"
   },
   {
    "duration": 22,
    "start_time": "2022-04-27T19:22:36.634Z"
   },
   {
    "duration": 21,
    "start_time": "2022-04-27T19:22:41.044Z"
   },
   {
    "duration": 49,
    "start_time": "2022-04-27T19:22:55.517Z"
   },
   {
    "duration": 53,
    "start_time": "2022-04-27T19:23:14.916Z"
   },
   {
    "duration": 54,
    "start_time": "2022-04-27T19:23:49.911Z"
   },
   {
    "duration": 49,
    "start_time": "2022-04-27T19:23:55.976Z"
   },
   {
    "duration": 65,
    "start_time": "2022-04-27T19:24:07.493Z"
   },
   {
    "duration": 18,
    "start_time": "2022-04-27T19:24:20.868Z"
   },
   {
    "duration": 12,
    "start_time": "2022-04-27T19:27:40.755Z"
   },
   {
    "duration": 9,
    "start_time": "2022-04-27T19:27:59.916Z"
   },
   {
    "duration": 36,
    "start_time": "2022-04-28T03:53:24.009Z"
   },
   {
    "duration": 12,
    "start_time": "2022-04-28T03:53:30.360Z"
   },
   {
    "duration": 22,
    "start_time": "2022-04-28T03:56:38.259Z"
   },
   {
    "duration": 4,
    "start_time": "2022-04-28T03:57:15.492Z"
   },
   {
    "duration": 62,
    "start_time": "2022-04-28T03:57:15.795Z"
   },
   {
    "duration": 14,
    "start_time": "2022-04-28T03:57:16.192Z"
   },
   {
    "duration": 16,
    "start_time": "2022-04-28T03:57:17.669Z"
   },
   {
    "duration": 17,
    "start_time": "2022-04-28T03:57:19.834Z"
   },
   {
    "duration": 22,
    "start_time": "2022-04-28T03:57:21.288Z"
   },
   {
    "duration": 4,
    "start_time": "2022-04-28T03:57:22.088Z"
   },
   {
    "duration": 18,
    "start_time": "2022-04-28T03:57:25.114Z"
   },
   {
    "duration": 13,
    "start_time": "2022-04-28T03:57:25.585Z"
   },
   {
    "duration": 9,
    "start_time": "2022-04-28T03:57:28.137Z"
   },
   {
    "duration": 9,
    "start_time": "2022-04-28T03:57:28.319Z"
   },
   {
    "duration": 9,
    "start_time": "2022-04-28T03:57:28.477Z"
   },
   {
    "duration": 9,
    "start_time": "2022-04-28T03:57:28.640Z"
   },
   {
    "duration": 14,
    "start_time": "2022-04-28T03:57:28.948Z"
   },
   {
    "duration": 27,
    "start_time": "2022-04-28T03:57:30.233Z"
   },
   {
    "duration": 9,
    "start_time": "2022-04-28T03:57:32.841Z"
   },
   {
    "duration": 9,
    "start_time": "2022-04-28T03:57:33.545Z"
   },
   {
    "duration": 5,
    "start_time": "2022-04-28T03:57:33.746Z"
   },
   {
    "duration": 14,
    "start_time": "2022-04-28T03:57:35.553Z"
   },
   {
    "duration": 5,
    "start_time": "2022-04-28T03:57:36.704Z"
   },
   {
    "duration": 25,
    "start_time": "2022-04-28T03:57:40.808Z"
   },
   {
    "duration": 21,
    "start_time": "2022-04-28T03:57:49.556Z"
   },
   {
    "duration": 217,
    "start_time": "2022-04-28T03:57:50.383Z"
   },
   {
    "duration": 17,
    "start_time": "2022-04-28T03:57:59.192Z"
   },
   {
    "duration": 54,
    "start_time": "2022-04-28T03:58:02.900Z"
   },
   {
    "duration": 756,
    "start_time": "2022-04-28T03:58:04.929Z"
   },
   {
    "duration": 14,
    "start_time": "2022-04-28T03:58:07.860Z"
   },
   {
    "duration": 23,
    "start_time": "2022-04-28T03:58:10.162Z"
   },
   {
    "duration": 23,
    "start_time": "2022-04-28T03:58:12.584Z"
   },
   {
    "duration": 7,
    "start_time": "2022-04-28T03:58:17.000Z"
   },
   {
    "duration": 365,
    "start_time": "2022-04-28T03:58:18.372Z"
   },
   {
    "duration": 197,
    "start_time": "2022-04-28T03:58:20.681Z"
   },
   {
    "duration": 7,
    "start_time": "2022-04-28T03:58:22.409Z"
   },
   {
    "duration": 6,
    "start_time": "2022-04-28T03:58:24.362Z"
   },
   {
    "duration": 7,
    "start_time": "2022-04-28T03:58:24.841Z"
   },
   {
    "duration": 15,
    "start_time": "2022-04-28T03:58:26.856Z"
   },
   {
    "duration": 171,
    "start_time": "2022-04-28T03:58:30.473Z"
   },
   {
    "duration": 5,
    "start_time": "2022-04-28T03:58:31.857Z"
   },
   {
    "duration": 165,
    "start_time": "2022-04-28T03:58:33.417Z"
   },
   {
    "duration": 5,
    "start_time": "2022-04-28T03:58:33.905Z"
   },
   {
    "duration": 7,
    "start_time": "2022-04-28T03:58:36.345Z"
   },
   {
    "duration": 8,
    "start_time": "2022-04-28T03:58:36.776Z"
   },
   {
    "duration": 2074,
    "start_time": "2022-04-28T03:58:39.416Z"
   },
   {
    "duration": 244,
    "start_time": "2022-04-28T03:58:48.557Z"
   },
   {
    "duration": 17,
    "start_time": "2022-04-28T03:58:52.032Z"
   },
   {
    "duration": 13,
    "start_time": "2022-04-28T03:58:54.275Z"
   },
   {
    "duration": 17,
    "start_time": "2022-04-28T03:59:09.011Z"
   },
   {
    "duration": 18,
    "start_time": "2022-04-28T03:59:13.035Z"
   },
   {
    "duration": 16,
    "start_time": "2022-04-28T03:59:23.563Z"
   },
   {
    "duration": 18,
    "start_time": "2022-04-28T03:59:30.683Z"
   },
   {
    "duration": 18,
    "start_time": "2022-04-28T03:59:39.271Z"
   },
   {
    "duration": 18,
    "start_time": "2022-04-28T03:59:44.899Z"
   },
   {
    "duration": 14,
    "start_time": "2022-04-28T03:59:57.944Z"
   },
   {
    "duration": 21,
    "start_time": "2022-04-28T04:00:02.153Z"
   },
   {
    "duration": 16,
    "start_time": "2022-04-28T04:00:09.024Z"
   },
   {
    "duration": 12,
    "start_time": "2022-04-28T04:00:11.952Z"
   },
   {
    "duration": 12,
    "start_time": "2022-04-28T04:00:14.976Z"
   },
   {
    "duration": 12,
    "start_time": "2022-04-28T04:00:22.859Z"
   },
   {
    "duration": 12,
    "start_time": "2022-04-28T04:00:28.215Z"
   },
   {
    "duration": 12,
    "start_time": "2022-04-28T04:00:34.559Z"
   },
   {
    "duration": 11,
    "start_time": "2022-04-28T04:00:39.980Z"
   },
   {
    "duration": 17,
    "start_time": "2022-04-28T04:00:50.129Z"
   },
   {
    "duration": 18,
    "start_time": "2022-04-28T04:00:55.104Z"
   },
   {
    "duration": 17,
    "start_time": "2022-04-28T04:00:59.106Z"
   },
   {
    "duration": 16,
    "start_time": "2022-04-28T04:01:03.385Z"
   },
   {
    "duration": 17,
    "start_time": "2022-04-28T04:01:07.681Z"
   },
   {
    "duration": 67,
    "start_time": "2022-04-28T04:01:16.001Z"
   },
   {
    "duration": 12,
    "start_time": "2022-04-28T04:01:19.051Z"
   },
   {
    "duration": 12,
    "start_time": "2022-04-28T04:01:28.131Z"
   },
   {
    "duration": 21,
    "start_time": "2022-04-28T04:01:30.274Z"
   },
   {
    "duration": 6,
    "start_time": "2022-04-28T04:02:29.611Z"
   },
   {
    "duration": 23,
    "start_time": "2022-04-28T04:03:38.146Z"
   },
   {
    "duration": 25,
    "start_time": "2022-04-28T04:38:19.506Z"
   },
   {
    "duration": 18,
    "start_time": "2022-04-28T04:38:38.842Z"
   },
   {
    "duration": 23,
    "start_time": "2022-04-28T04:38:49.296Z"
   },
   {
    "duration": 20,
    "start_time": "2022-04-28T04:38:54.545Z"
   },
   {
    "duration": 22,
    "start_time": "2022-04-28T04:38:58.280Z"
   },
   {
    "duration": 23,
    "start_time": "2022-04-28T04:39:07.617Z"
   },
   {
    "duration": 22,
    "start_time": "2022-04-28T04:39:13.870Z"
   },
   {
    "duration": 23,
    "start_time": "2022-04-28T04:39:19.401Z"
   },
   {
    "duration": 20,
    "start_time": "2022-04-28T04:39:26.041Z"
   },
   {
    "duration": 15,
    "start_time": "2022-04-28T04:39:36.849Z"
   },
   {
    "duration": 13,
    "start_time": "2022-04-28T04:39:45.583Z"
   },
   {
    "duration": 23,
    "start_time": "2022-04-28T04:39:48.937Z"
   },
   {
    "duration": 12,
    "start_time": "2022-04-28T04:39:57.320Z"
   },
   {
    "duration": 22,
    "start_time": "2022-04-28T04:40:03.352Z"
   },
   {
    "duration": 24,
    "start_time": "2022-04-28T04:41:48.727Z"
   },
   {
    "duration": 25,
    "start_time": "2022-04-28T04:44:29.089Z"
   },
   {
    "duration": 23,
    "start_time": "2022-04-28T04:44:37.018Z"
   },
   {
    "duration": 11,
    "start_time": "2022-04-28T04:46:29.820Z"
   },
   {
    "duration": 46,
    "start_time": "2022-04-28T04:46:35.395Z"
   },
   {
    "duration": 18,
    "start_time": "2022-04-28T04:47:06.744Z"
   },
   {
    "duration": 23,
    "start_time": "2022-04-28T04:48:20.795Z"
   },
   {
    "duration": 22,
    "start_time": "2022-04-28T04:49:41.649Z"
   },
   {
    "duration": 22,
    "start_time": "2022-04-28T04:49:48.569Z"
   },
   {
    "duration": 22,
    "start_time": "2022-04-28T04:49:55.852Z"
   },
   {
    "duration": 359,
    "start_time": "2022-04-28T04:52:59.268Z"
   },
   {
    "duration": 581,
    "start_time": "2022-04-28T04:53:22.057Z"
   },
   {
    "duration": 5,
    "start_time": "2022-04-28T04:55:31.962Z"
   },
   {
    "duration": 22,
    "start_time": "2022-04-28T04:56:00.084Z"
   },
   {
    "duration": 25,
    "start_time": "2022-04-28T04:56:12.737Z"
   },
   {
    "duration": 24,
    "start_time": "2022-04-28T04:56:19.805Z"
   },
   {
    "duration": 341,
    "start_time": "2022-04-28T04:57:44.304Z"
   },
   {
    "duration": 323,
    "start_time": "2022-04-28T04:58:43.347Z"
   },
   {
    "duration": 374,
    "start_time": "2022-04-28T04:59:11.172Z"
   },
   {
    "duration": 1096,
    "start_time": "2022-04-28T05:09:54.061Z"
   },
   {
    "duration": 50,
    "start_time": "2022-04-28T05:09:55.158Z"
   },
   {
    "duration": 17,
    "start_time": "2022-04-28T05:09:55.210Z"
   },
   {
    "duration": 15,
    "start_time": "2022-04-28T05:09:55.229Z"
   },
   {
    "duration": 18,
    "start_time": "2022-04-28T05:09:55.245Z"
   },
   {
    "duration": 50,
    "start_time": "2022-04-28T05:09:55.264Z"
   },
   {
    "duration": 4,
    "start_time": "2022-04-28T05:09:55.316Z"
   },
   {
    "duration": 21,
    "start_time": "2022-04-28T05:09:55.322Z"
   },
   {
    "duration": 11,
    "start_time": "2022-04-28T05:09:55.345Z"
   },
   {
    "duration": 8,
    "start_time": "2022-04-28T05:09:55.359Z"
   },
   {
    "duration": 8,
    "start_time": "2022-04-28T05:09:55.368Z"
   },
   {
    "duration": 8,
    "start_time": "2022-04-28T05:09:55.408Z"
   },
   {
    "duration": 8,
    "start_time": "2022-04-28T05:09:55.418Z"
   },
   {
    "duration": 15,
    "start_time": "2022-04-28T05:09:55.427Z"
   },
   {
    "duration": 22,
    "start_time": "2022-04-28T05:09:55.443Z"
   },
   {
    "duration": 8,
    "start_time": "2022-04-28T05:09:55.467Z"
   },
   {
    "duration": 10,
    "start_time": "2022-04-28T05:09:55.507Z"
   },
   {
    "duration": 7,
    "start_time": "2022-04-28T05:09:55.518Z"
   },
   {
    "duration": 14,
    "start_time": "2022-04-28T05:09:55.526Z"
   },
   {
    "duration": 6,
    "start_time": "2022-04-28T05:09:55.541Z"
   },
   {
    "duration": 25,
    "start_time": "2022-04-28T05:09:55.548Z"
   },
   {
    "duration": 20,
    "start_time": "2022-04-28T05:09:55.608Z"
   },
   {
    "duration": 241,
    "start_time": "2022-04-28T05:09:55.630Z"
   },
   {
    "duration": 16,
    "start_time": "2022-04-28T05:09:55.873Z"
   },
   {
    "duration": 66,
    "start_time": "2022-04-28T05:09:55.890Z"
   },
   {
    "duration": 800,
    "start_time": "2022-04-28T05:09:55.958Z"
   },
   {
    "duration": 15,
    "start_time": "2022-04-28T05:09:56.760Z"
   },
   {
    "duration": 39,
    "start_time": "2022-04-28T05:09:56.780Z"
   },
   {
    "duration": 21,
    "start_time": "2022-04-28T05:09:56.821Z"
   },
   {
    "duration": 7,
    "start_time": "2022-04-28T05:09:56.843Z"
   },
   {
    "duration": 229,
    "start_time": "2022-04-28T05:09:56.851Z"
   },
   {
    "duration": 205,
    "start_time": "2022-04-28T05:09:57.081Z"
   },
   {
    "duration": 7,
    "start_time": "2022-04-28T05:09:57.287Z"
   },
   {
    "duration": 6,
    "start_time": "2022-04-28T05:09:57.307Z"
   },
   {
    "duration": 6,
    "start_time": "2022-04-28T05:09:57.314Z"
   },
   {
    "duration": 19,
    "start_time": "2022-04-28T05:09:57.322Z"
   },
   {
    "duration": 181,
    "start_time": "2022-04-28T05:09:57.342Z"
   },
   {
    "duration": 5,
    "start_time": "2022-04-28T05:09:57.524Z"
   },
   {
    "duration": 183,
    "start_time": "2022-04-28T05:09:57.531Z"
   },
   {
    "duration": 5,
    "start_time": "2022-04-28T05:09:57.716Z"
   },
   {
    "duration": 7,
    "start_time": "2022-04-28T05:09:57.723Z"
   },
   {
    "duration": 7,
    "start_time": "2022-04-28T05:09:57.732Z"
   },
   {
    "duration": 2107,
    "start_time": "2022-04-28T05:09:57.740Z"
   },
   {
    "duration": 246,
    "start_time": "2022-04-28T05:09:59.849Z"
   },
   {
    "duration": 25,
    "start_time": "2022-04-28T05:10:00.097Z"
   },
   {
    "duration": 13,
    "start_time": "2022-04-28T05:10:00.123Z"
   },
   {
    "duration": 28,
    "start_time": "2022-04-28T05:10:00.138Z"
   },
   {
    "duration": 14,
    "start_time": "2022-04-28T05:10:00.167Z"
   },
   {
    "duration": 31,
    "start_time": "2022-04-28T05:10:00.183Z"
   },
   {
    "duration": 18,
    "start_time": "2022-04-28T05:10:00.215Z"
   },
   {
    "duration": 11,
    "start_time": "2022-04-28T05:10:00.235Z"
   },
   {
    "duration": 17,
    "start_time": "2022-04-28T05:10:00.248Z"
   },
   {
    "duration": 24,
    "start_time": "2022-04-28T05:10:00.266Z"
   },
   {
    "duration": 20,
    "start_time": "2022-04-28T05:10:00.292Z"
   },
   {
    "duration": 21,
    "start_time": "2022-04-28T05:10:00.314Z"
   },
   {
    "duration": 327,
    "start_time": "2022-04-28T05:10:00.337Z"
   },
   {
    "duration": 22,
    "start_time": "2022-04-28T05:10:00.666Z"
   },
   {
    "duration": 355,
    "start_time": "2022-04-28T05:10:00.690Z"
   },
   {
    "duration": 24,
    "start_time": "2022-04-28T05:10:01.047Z"
   },
   {
    "duration": 370,
    "start_time": "2022-04-28T05:10:01.073Z"
   },
   {
    "duration": 23,
    "start_time": "2022-04-28T05:10:01.444Z"
   },
   {
    "duration": 381,
    "start_time": "2022-04-28T05:10:01.469Z"
   },
   {
    "duration": 17,
    "start_time": "2022-04-28T05:10:01.852Z"
   },
   {
    "duration": 292,
    "start_time": "2022-04-28T05:10:01.871Z"
   },
   {
    "duration": 3,
    "start_time": "2022-04-28T05:10:02.165Z"
   },
   {
    "duration": 9,
    "start_time": "2022-04-28T05:10:02.170Z"
   },
   {
    "duration": 22,
    "start_time": "2022-04-28T05:10:02.180Z"
   },
   {
    "duration": 268,
    "start_time": "2022-04-28T05:10:02.206Z"
   },
   {
    "duration": 4,
    "start_time": "2022-04-28T05:10:02.476Z"
   },
   {
    "duration": 427,
    "start_time": "2022-04-28T05:10:19.149Z"
   },
   {
    "duration": 266,
    "start_time": "2022-04-28T05:10:25.341Z"
   },
   {
    "duration": 275,
    "start_time": "2022-04-28T05:10:33.311Z"
   },
   {
    "duration": 10,
    "start_time": "2022-04-28T05:15:37.526Z"
   },
   {
    "duration": 7,
    "start_time": "2022-04-28T05:15:43.962Z"
   },
   {
    "duration": 24,
    "start_time": "2022-04-28T05:15:47.215Z"
   },
   {
    "duration": 4,
    "start_time": "2022-04-28T05:16:41.102Z"
   },
   {
    "duration": 25,
    "start_time": "2022-04-28T05:16:42.911Z"
   },
   {
    "duration": 1149,
    "start_time": "2022-04-28T05:17:01.721Z"
   },
   {
    "duration": 51,
    "start_time": "2022-04-28T05:17:02.872Z"
   },
   {
    "duration": 15,
    "start_time": "2022-04-28T05:17:02.925Z"
   },
   {
    "duration": 15,
    "start_time": "2022-04-28T05:17:02.942Z"
   },
   {
    "duration": 20,
    "start_time": "2022-04-28T05:17:02.958Z"
   },
   {
    "duration": 42,
    "start_time": "2022-04-28T05:17:02.980Z"
   },
   {
    "duration": 4,
    "start_time": "2022-04-28T05:17:03.024Z"
   },
   {
    "duration": 20,
    "start_time": "2022-04-28T05:17:03.030Z"
   },
   {
    "duration": 12,
    "start_time": "2022-04-28T05:17:03.052Z"
   },
   {
    "duration": 23,
    "start_time": "2022-04-28T05:17:03.067Z"
   },
   {
    "duration": 9,
    "start_time": "2022-04-28T05:17:03.108Z"
   },
   {
    "duration": 9,
    "start_time": "2022-04-28T05:17:03.118Z"
   },
   {
    "duration": 9,
    "start_time": "2022-04-28T05:17:03.129Z"
   },
   {
    "duration": 14,
    "start_time": "2022-04-28T05:17:03.140Z"
   },
   {
    "duration": 52,
    "start_time": "2022-04-28T05:17:03.156Z"
   },
   {
    "duration": 9,
    "start_time": "2022-04-28T05:17:03.210Z"
   },
   {
    "duration": 9,
    "start_time": "2022-04-28T05:17:03.221Z"
   },
   {
    "duration": 10,
    "start_time": "2022-04-28T05:17:03.231Z"
   },
   {
    "duration": 13,
    "start_time": "2022-04-28T05:17:03.243Z"
   },
   {
    "duration": 9,
    "start_time": "2022-04-28T05:17:03.258Z"
   },
   {
    "duration": 58,
    "start_time": "2022-04-28T05:17:03.269Z"
   },
   {
    "duration": 21,
    "start_time": "2022-04-28T05:17:03.329Z"
   },
   {
    "duration": 257,
    "start_time": "2022-04-28T05:17:03.352Z"
   },
   {
    "duration": 17,
    "start_time": "2022-04-28T05:17:03.611Z"
   },
   {
    "duration": 55,
    "start_time": "2022-04-28T05:17:03.630Z"
   },
   {
    "duration": 865,
    "start_time": "2022-04-28T05:17:03.707Z"
   },
   {
    "duration": 14,
    "start_time": "2022-04-28T05:17:04.574Z"
   },
   {
    "duration": 23,
    "start_time": "2022-04-28T05:17:04.606Z"
   },
   {
    "duration": 20,
    "start_time": "2022-04-28T05:17:04.631Z"
   },
   {
    "duration": 7,
    "start_time": "2022-04-28T05:17:04.653Z"
   },
   {
    "duration": 222,
    "start_time": "2022-04-28T05:17:04.661Z"
   },
   {
    "duration": 208,
    "start_time": "2022-04-28T05:17:04.885Z"
   },
   {
    "duration": 13,
    "start_time": "2022-04-28T05:17:05.095Z"
   },
   {
    "duration": 7,
    "start_time": "2022-04-28T05:17:05.109Z"
   },
   {
    "duration": 8,
    "start_time": "2022-04-28T05:17:05.117Z"
   },
   {
    "duration": 16,
    "start_time": "2022-04-28T05:17:05.127Z"
   },
   {
    "duration": 191,
    "start_time": "2022-04-28T05:17:05.145Z"
   },
   {
    "duration": 5,
    "start_time": "2022-04-28T05:17:05.338Z"
   },
   {
    "duration": 185,
    "start_time": "2022-04-28T05:17:05.345Z"
   },
   {
    "duration": 6,
    "start_time": "2022-04-28T05:17:05.531Z"
   },
   {
    "duration": 14,
    "start_time": "2022-04-28T05:17:05.538Z"
   },
   {
    "duration": 7,
    "start_time": "2022-04-28T05:17:05.554Z"
   },
   {
    "duration": 2078,
    "start_time": "2022-04-28T05:17:05.563Z"
   },
   {
    "duration": 249,
    "start_time": "2022-04-28T05:17:07.643Z"
   },
   {
    "duration": 27,
    "start_time": "2022-04-28T05:17:07.893Z"
   },
   {
    "duration": 13,
    "start_time": "2022-04-28T05:17:07.922Z"
   },
   {
    "duration": 20,
    "start_time": "2022-04-28T05:17:07.937Z"
   },
   {
    "duration": 15,
    "start_time": "2022-04-28T05:17:07.959Z"
   },
   {
    "duration": 38,
    "start_time": "2022-04-28T05:17:07.976Z"
   },
   {
    "duration": 12,
    "start_time": "2022-04-28T05:17:08.016Z"
   },
   {
    "duration": 11,
    "start_time": "2022-04-28T05:17:08.030Z"
   },
   {
    "duration": 11,
    "start_time": "2022-04-28T05:17:08.042Z"
   },
   {
    "duration": 12,
    "start_time": "2022-04-28T05:17:08.055Z"
   },
   {
    "duration": 13,
    "start_time": "2022-04-28T05:17:08.106Z"
   },
   {
    "duration": 4,
    "start_time": "2022-04-28T05:17:08.121Z"
   },
   {
    "duration": 23,
    "start_time": "2022-04-28T05:17:08.126Z"
   },
   {
    "duration": 387,
    "start_time": "2022-04-28T05:17:08.151Z"
   },
   {
    "duration": 22,
    "start_time": "2022-04-28T05:17:08.540Z"
   },
   {
    "duration": 374,
    "start_time": "2022-04-28T05:17:08.564Z"
   },
   {
    "duration": 22,
    "start_time": "2022-04-28T05:17:08.940Z"
   },
   {
    "duration": 365,
    "start_time": "2022-04-28T05:17:08.964Z"
   },
   {
    "duration": 23,
    "start_time": "2022-04-28T05:17:09.331Z"
   },
   {
    "duration": 384,
    "start_time": "2022-04-28T05:17:09.356Z"
   },
   {
    "duration": 17,
    "start_time": "2022-04-28T05:17:09.742Z"
   },
   {
    "duration": 291,
    "start_time": "2022-04-28T05:17:09.760Z"
   },
   {
    "duration": 5,
    "start_time": "2022-04-28T05:17:10.053Z"
   },
   {
    "duration": 6,
    "start_time": "2022-04-28T05:17:10.060Z"
   },
   {
    "duration": 5,
    "start_time": "2022-04-28T05:17:10.068Z"
   },
   {
    "duration": 293,
    "start_time": "2022-04-28T05:17:10.075Z"
   },
   {
    "duration": 5,
    "start_time": "2022-04-28T05:17:10.370Z"
   },
   {
    "duration": 24,
    "start_time": "2022-04-28T05:17:25.198Z"
   },
   {
    "duration": 24,
    "start_time": "2022-04-28T05:17:43.393Z"
   },
   {
    "duration": 1120,
    "start_time": "2022-04-28T05:18:51.135Z"
   },
   {
    "duration": 50,
    "start_time": "2022-04-28T05:18:52.257Z"
   },
   {
    "duration": 17,
    "start_time": "2022-04-28T05:18:52.309Z"
   },
   {
    "duration": 14,
    "start_time": "2022-04-28T05:18:52.327Z"
   },
   {
    "duration": 18,
    "start_time": "2022-04-28T05:18:52.343Z"
   },
   {
    "duration": 45,
    "start_time": "2022-04-28T05:18:52.363Z"
   },
   {
    "duration": 4,
    "start_time": "2022-04-28T05:18:52.410Z"
   },
   {
    "duration": 20,
    "start_time": "2022-04-28T05:18:52.416Z"
   },
   {
    "duration": 13,
    "start_time": "2022-04-28T05:18:52.437Z"
   },
   {
    "duration": 8,
    "start_time": "2022-04-28T05:18:52.452Z"
   },
   {
    "duration": 8,
    "start_time": "2022-04-28T05:18:52.462Z"
   },
   {
    "duration": 42,
    "start_time": "2022-04-28T05:18:52.471Z"
   },
   {
    "duration": 9,
    "start_time": "2022-04-28T05:18:52.514Z"
   },
   {
    "duration": 14,
    "start_time": "2022-04-28T05:18:52.527Z"
   },
   {
    "duration": 18,
    "start_time": "2022-04-28T05:18:52.542Z"
   },
   {
    "duration": 8,
    "start_time": "2022-04-28T05:18:52.562Z"
   },
   {
    "duration": 41,
    "start_time": "2022-04-28T05:18:52.572Z"
   },
   {
    "duration": 6,
    "start_time": "2022-04-28T05:18:52.615Z"
   },
   {
    "duration": 14,
    "start_time": "2022-04-28T05:18:52.622Z"
   },
   {
    "duration": 5,
    "start_time": "2022-04-28T05:18:52.637Z"
   },
   {
    "duration": 25,
    "start_time": "2022-04-28T05:18:52.643Z"
   },
   {
    "duration": 51,
    "start_time": "2022-04-28T05:18:52.670Z"
   },
   {
    "duration": 239,
    "start_time": "2022-04-28T05:18:52.723Z"
   },
   {
    "duration": 17,
    "start_time": "2022-04-28T05:18:52.964Z"
   },
   {
    "duration": 66,
    "start_time": "2022-04-28T05:18:52.982Z"
   },
   {
    "duration": 802,
    "start_time": "2022-04-28T05:18:53.049Z"
   },
   {
    "duration": 14,
    "start_time": "2022-04-28T05:18:53.853Z"
   },
   {
    "duration": 39,
    "start_time": "2022-04-28T05:18:53.868Z"
   },
   {
    "duration": 20,
    "start_time": "2022-04-28T05:18:53.909Z"
   },
   {
    "duration": 7,
    "start_time": "2022-04-28T05:18:53.930Z"
   },
   {
    "duration": 216,
    "start_time": "2022-04-28T05:18:53.938Z"
   },
   {
    "duration": 195,
    "start_time": "2022-04-28T05:18:54.155Z"
   },
   {
    "duration": 6,
    "start_time": "2022-04-28T05:18:54.352Z"
   },
   {
    "duration": 6,
    "start_time": "2022-04-28T05:18:54.360Z"
   },
   {
    "duration": 7,
    "start_time": "2022-04-28T05:18:54.368Z"
   },
   {
    "duration": 35,
    "start_time": "2022-04-28T05:18:54.376Z"
   },
   {
    "duration": 177,
    "start_time": "2022-04-28T05:18:54.413Z"
   },
   {
    "duration": 5,
    "start_time": "2022-04-28T05:18:54.592Z"
   },
   {
    "duration": 173,
    "start_time": "2022-04-28T05:18:54.608Z"
   },
   {
    "duration": 5,
    "start_time": "2022-04-28T05:18:54.783Z"
   },
   {
    "duration": 20,
    "start_time": "2022-04-28T05:18:54.792Z"
   },
   {
    "duration": 7,
    "start_time": "2022-04-28T05:18:54.813Z"
   },
   {
    "duration": 2040,
    "start_time": "2022-04-28T05:18:54.822Z"
   },
   {
    "duration": 238,
    "start_time": "2022-04-28T05:18:56.864Z"
   },
   {
    "duration": 16,
    "start_time": "2022-04-28T05:18:57.108Z"
   },
   {
    "duration": 13,
    "start_time": "2022-04-28T05:18:57.126Z"
   },
   {
    "duration": 19,
    "start_time": "2022-04-28T05:18:57.140Z"
   },
   {
    "duration": 14,
    "start_time": "2022-04-28T05:18:57.160Z"
   },
   {
    "duration": 42,
    "start_time": "2022-04-28T05:18:57.175Z"
   },
   {
    "duration": 12,
    "start_time": "2022-04-28T05:18:57.218Z"
   },
   {
    "duration": 12,
    "start_time": "2022-04-28T05:18:57.231Z"
   },
   {
    "duration": 13,
    "start_time": "2022-04-28T05:18:57.244Z"
   },
   {
    "duration": 14,
    "start_time": "2022-04-28T05:18:57.258Z"
   },
   {
    "duration": 41,
    "start_time": "2022-04-28T05:18:57.274Z"
   },
   {
    "duration": 23,
    "start_time": "2022-04-28T05:18:57.317Z"
   },
   {
    "duration": 23,
    "start_time": "2022-04-28T05:18:57.341Z"
   },
   {
    "duration": 375,
    "start_time": "2022-04-28T05:18:57.365Z"
   },
   {
    "duration": 22,
    "start_time": "2022-04-28T05:18:57.742Z"
   },
   {
    "duration": 366,
    "start_time": "2022-04-28T05:18:57.766Z"
   },
   {
    "duration": 23,
    "start_time": "2022-04-28T05:18:58.134Z"
   },
   {
    "duration": 373,
    "start_time": "2022-04-28T05:18:58.159Z"
   },
   {
    "duration": 23,
    "start_time": "2022-04-28T05:18:58.533Z"
   },
   {
    "duration": 385,
    "start_time": "2022-04-28T05:18:58.558Z"
   },
   {
    "duration": 17,
    "start_time": "2022-04-28T05:18:58.944Z"
   },
   {
    "duration": 279,
    "start_time": "2022-04-28T05:18:58.963Z"
   },
   {
    "duration": 4,
    "start_time": "2022-04-28T05:18:59.243Z"
   },
   {
    "duration": 6,
    "start_time": "2022-04-28T05:18:59.249Z"
   },
   {
    "duration": 5,
    "start_time": "2022-04-28T05:18:59.257Z"
   },
   {
    "duration": 275,
    "start_time": "2022-04-28T05:18:59.264Z"
   },
   {
    "duration": 5,
    "start_time": "2022-04-28T05:18:59.541Z"
   },
   {
    "duration": 26,
    "start_time": "2022-04-28T05:19:35.681Z"
   },
   {
    "duration": 111,
    "start_time": "2022-04-28T05:19:59.252Z"
   },
   {
    "duration": 24,
    "start_time": "2022-04-28T05:20:18.098Z"
   },
   {
    "duration": 1100,
    "start_time": "2022-04-28T05:20:30.067Z"
   },
   {
    "duration": 52,
    "start_time": "2022-04-28T05:20:31.169Z"
   },
   {
    "duration": 16,
    "start_time": "2022-04-28T05:20:31.223Z"
   },
   {
    "duration": 30,
    "start_time": "2022-04-28T05:20:31.241Z"
   },
   {
    "duration": 23,
    "start_time": "2022-04-28T05:20:31.272Z"
   },
   {
    "duration": 25,
    "start_time": "2022-04-28T05:20:31.297Z"
   },
   {
    "duration": 4,
    "start_time": "2022-04-28T05:20:31.323Z"
   },
   {
    "duration": 22,
    "start_time": "2022-04-28T05:20:31.328Z"
   },
   {
    "duration": 11,
    "start_time": "2022-04-28T05:20:31.352Z"
   },
   {
    "duration": 8,
    "start_time": "2022-04-28T05:20:31.366Z"
   },
   {
    "duration": 38,
    "start_time": "2022-04-28T05:20:31.375Z"
   },
   {
    "duration": 9,
    "start_time": "2022-04-28T05:20:31.414Z"
   },
   {
    "duration": 8,
    "start_time": "2022-04-28T05:20:31.424Z"
   },
   {
    "duration": 16,
    "start_time": "2022-04-28T05:20:31.434Z"
   },
   {
    "duration": 22,
    "start_time": "2022-04-28T05:20:31.451Z"
   },
   {
    "duration": 38,
    "start_time": "2022-04-28T05:20:31.475Z"
   },
   {
    "duration": 8,
    "start_time": "2022-04-28T05:20:31.515Z"
   },
   {
    "duration": 7,
    "start_time": "2022-04-28T05:20:31.524Z"
   },
   {
    "duration": 19,
    "start_time": "2022-04-28T05:20:31.532Z"
   },
   {
    "duration": 4,
    "start_time": "2022-04-28T05:20:31.553Z"
   },
   {
    "duration": 50,
    "start_time": "2022-04-28T05:20:31.558Z"
   },
   {
    "duration": 20,
    "start_time": "2022-04-28T05:20:31.610Z"
   },
   {
    "duration": 248,
    "start_time": "2022-04-28T05:20:31.632Z"
   },
   {
    "duration": 25,
    "start_time": "2022-04-28T05:20:31.882Z"
   },
   {
    "duration": 52,
    "start_time": "2022-04-28T05:20:31.909Z"
   },
   {
    "duration": 800,
    "start_time": "2022-04-28T05:20:31.962Z"
   },
   {
    "duration": 14,
    "start_time": "2022-04-28T05:20:32.763Z"
   },
   {
    "duration": 35,
    "start_time": "2022-04-28T05:20:32.782Z"
   },
   {
    "duration": 20,
    "start_time": "2022-04-28T05:20:32.819Z"
   },
   {
    "duration": 7,
    "start_time": "2022-04-28T05:20:32.840Z"
   },
   {
    "duration": 216,
    "start_time": "2022-04-28T05:20:32.848Z"
   },
   {
    "duration": 203,
    "start_time": "2022-04-28T05:20:33.066Z"
   },
   {
    "duration": 6,
    "start_time": "2022-04-28T05:20:33.271Z"
   },
   {
    "duration": 7,
    "start_time": "2022-04-28T05:20:33.279Z"
   },
   {
    "duration": 21,
    "start_time": "2022-04-28T05:20:33.287Z"
   },
   {
    "duration": 13,
    "start_time": "2022-04-28T05:20:33.310Z"
   },
   {
    "duration": 195,
    "start_time": "2022-04-28T05:20:33.325Z"
   },
   {
    "duration": 5,
    "start_time": "2022-04-28T05:20:33.521Z"
   },
   {
    "duration": 189,
    "start_time": "2022-04-28T05:20:33.527Z"
   },
   {
    "duration": 5,
    "start_time": "2022-04-28T05:20:33.718Z"
   },
   {
    "duration": 7,
    "start_time": "2022-04-28T05:20:33.725Z"
   },
   {
    "duration": 7,
    "start_time": "2022-04-28T05:20:33.734Z"
   },
   {
    "duration": 2046,
    "start_time": "2022-04-28T05:20:33.742Z"
   },
   {
    "duration": 247,
    "start_time": "2022-04-28T05:20:35.790Z"
   },
   {
    "duration": 16,
    "start_time": "2022-04-28T05:20:36.039Z"
   },
   {
    "duration": 13,
    "start_time": "2022-04-28T05:20:36.057Z"
   },
   {
    "duration": 36,
    "start_time": "2022-04-28T05:20:36.072Z"
   },
   {
    "duration": 15,
    "start_time": "2022-04-28T05:20:36.110Z"
   },
   {
    "duration": 13,
    "start_time": "2022-04-28T05:20:36.126Z"
   },
   {
    "duration": 10,
    "start_time": "2022-04-28T05:20:36.141Z"
   },
   {
    "duration": 11,
    "start_time": "2022-04-28T05:20:36.153Z"
   },
   {
    "duration": 45,
    "start_time": "2022-04-28T05:20:36.166Z"
   },
   {
    "duration": 13,
    "start_time": "2022-04-28T05:20:36.213Z"
   },
   {
    "duration": 10,
    "start_time": "2022-04-28T05:20:36.228Z"
   },
   {
    "duration": 23,
    "start_time": "2022-04-28T05:20:36.240Z"
   },
   {
    "duration": 54,
    "start_time": "2022-04-28T05:20:36.265Z"
   },
   {
    "duration": 335,
    "start_time": "2022-04-28T05:20:36.321Z"
   },
   {
    "duration": 22,
    "start_time": "2022-04-28T05:20:36.658Z"
   },
   {
    "duration": 364,
    "start_time": "2022-04-28T05:20:36.682Z"
   },
   {
    "duration": 21,
    "start_time": "2022-04-28T05:20:37.048Z"
   },
   {
    "duration": 359,
    "start_time": "2022-04-28T05:20:37.071Z"
   },
   {
    "duration": 22,
    "start_time": "2022-04-28T05:20:37.432Z"
   },
   {
    "duration": 380,
    "start_time": "2022-04-28T05:20:37.455Z"
   },
   {
    "duration": 16,
    "start_time": "2022-04-28T05:20:37.837Z"
   },
   {
    "duration": 276,
    "start_time": "2022-04-28T05:20:37.855Z"
   },
   {
    "duration": 4,
    "start_time": "2022-04-28T05:20:38.133Z"
   },
   {
    "duration": 5,
    "start_time": "2022-04-28T05:20:38.139Z"
   },
   {
    "duration": 5,
    "start_time": "2022-04-28T05:20:38.146Z"
   },
   {
    "duration": 416,
    "start_time": "2022-04-28T05:20:38.152Z"
   },
   {
    "duration": 5,
    "start_time": "2022-04-28T05:20:38.570Z"
   },
   {
    "duration": 22,
    "start_time": "2022-04-28T05:24:49.810Z"
   },
   {
    "duration": 6,
    "start_time": "2022-04-28T05:24:59.729Z"
   },
   {
    "duration": 29,
    "start_time": "2022-04-28T05:25:09.957Z"
   },
   {
    "duration": 104,
    "start_time": "2022-04-28T05:26:36.124Z"
   },
   {
    "duration": 24,
    "start_time": "2022-04-28T05:26:52.197Z"
   },
   {
    "duration": 4,
    "start_time": "2022-04-28T05:27:08.286Z"
   },
   {
    "duration": 24,
    "start_time": "2022-04-28T05:27:15.845Z"
   },
   {
    "duration": 23,
    "start_time": "2022-04-28T05:27:46.204Z"
   },
   {
    "duration": 354,
    "start_time": "2022-04-28T05:27:49.053Z"
   },
   {
    "duration": 21,
    "start_time": "2022-04-28T05:27:52.359Z"
   },
   {
    "duration": 316,
    "start_time": "2022-04-28T05:27:55.541Z"
   },
   {
    "duration": 26,
    "start_time": "2022-04-28T05:27:58.654Z"
   },
   {
    "duration": 314,
    "start_time": "2022-04-28T05:28:00.334Z"
   },
   {
    "duration": 24,
    "start_time": "2022-04-28T05:28:05.373Z"
   },
   {
    "duration": 349,
    "start_time": "2022-04-28T05:28:07.149Z"
   },
   {
    "duration": 17,
    "start_time": "2022-04-28T05:28:12.612Z"
   },
   {
    "duration": 16,
    "start_time": "2022-04-28T05:28:24.997Z"
   },
   {
    "duration": 16,
    "start_time": "2022-04-28T05:28:31.237Z"
   },
   {
    "duration": 17,
    "start_time": "2022-04-28T05:47:54.922Z"
   },
   {
    "duration": 24,
    "start_time": "2022-04-28T06:01:11.065Z"
   },
   {
    "duration": 29,
    "start_time": "2022-04-28T06:01:22.848Z"
   },
   {
    "duration": 73,
    "start_time": "2022-04-28T06:02:12.455Z"
   },
   {
    "duration": 219,
    "start_time": "2022-04-28T06:36:14.959Z"
   },
   {
    "duration": 354,
    "start_time": "2022-04-28T06:36:28.012Z"
   },
   {
    "duration": 2150,
    "start_time": "2022-04-28T06:38:43.199Z"
   },
   {
    "duration": 2464,
    "start_time": "2022-04-28T06:38:54.826Z"
   },
   {
    "duration": 2340,
    "start_time": "2022-04-28T06:39:04.503Z"
   },
   {
    "duration": 12,
    "start_time": "2022-04-28T06:40:52.757Z"
   },
   {
    "duration": 98,
    "start_time": "2022-04-28T06:41:03.146Z"
   },
   {
    "duration": 96,
    "start_time": "2022-04-28T06:41:09.241Z"
   },
   {
    "duration": 95,
    "start_time": "2022-04-28T06:41:19.719Z"
   },
   {
    "duration": 14,
    "start_time": "2022-04-28T06:42:13.311Z"
   },
   {
    "duration": 12,
    "start_time": "2022-04-28T06:42:18.545Z"
   },
   {
    "duration": 15,
    "start_time": "2022-04-28T06:42:32.849Z"
   },
   {
    "duration": 14,
    "start_time": "2022-04-28T06:42:42.371Z"
   },
   {
    "duration": 161,
    "start_time": "2022-04-28T06:43:35.498Z"
   },
   {
    "duration": 169,
    "start_time": "2022-04-28T06:45:25.020Z"
   },
   {
    "duration": 166,
    "start_time": "2022-04-28T06:45:32.953Z"
   },
   {
    "duration": 167,
    "start_time": "2022-04-28T06:45:42.489Z"
   },
   {
    "duration": 161,
    "start_time": "2022-04-28T06:46:00.906Z"
   },
   {
    "duration": 111,
    "start_time": "2022-04-28T06:46:19.730Z"
   },
   {
    "duration": 99,
    "start_time": "2022-04-28T06:46:24.859Z"
   },
   {
    "duration": 115,
    "start_time": "2022-04-28T06:46:28.782Z"
   },
   {
    "duration": 164,
    "start_time": "2022-04-28T06:46:41.752Z"
   },
   {
    "duration": 167,
    "start_time": "2022-04-28T06:49:24.939Z"
   },
   {
    "duration": 188,
    "start_time": "2022-04-28T07:14:46.208Z"
   },
   {
    "duration": 19,
    "start_time": "2022-04-28T07:15:44.419Z"
   },
   {
    "duration": 273,
    "start_time": "2022-04-28T07:17:04.373Z"
   },
   {
    "duration": 206,
    "start_time": "2022-04-28T07:17:19.233Z"
   },
   {
    "duration": 214,
    "start_time": "2022-04-28T07:20:05.777Z"
   },
   {
    "duration": 251,
    "start_time": "2022-04-28T07:21:49.509Z"
   },
   {
    "duration": 215,
    "start_time": "2022-04-28T07:22:00.786Z"
   },
   {
    "duration": 656,
    "start_time": "2022-04-28T07:22:26.395Z"
   },
   {
    "duration": 196,
    "start_time": "2022-04-28T07:24:58.886Z"
   },
   {
    "duration": 100,
    "start_time": "2022-04-28T07:25:09.198Z"
   },
   {
    "duration": 274,
    "start_time": "2022-04-28T07:27:32.294Z"
   },
   {
    "duration": 2443,
    "start_time": "2022-04-28T07:28:29.125Z"
   },
   {
    "duration": 14,
    "start_time": "2022-04-28T07:29:26.152Z"
   },
   {
    "duration": 11,
    "start_time": "2022-04-28T07:29:43.856Z"
   },
   {
    "duration": 1325,
    "start_time": "2022-04-28T07:29:52.605Z"
   },
   {
    "duration": 26,
    "start_time": "2022-04-28T07:30:03.311Z"
   },
   {
    "duration": 32,
    "start_time": "2022-04-28T07:30:14.688Z"
   },
   {
    "duration": 19,
    "start_time": "2022-04-28T07:30:19.326Z"
   },
   {
    "duration": 18,
    "start_time": "2022-04-28T07:30:25.772Z"
   },
   {
    "duration": 17,
    "start_time": "2022-04-28T07:30:31.715Z"
   },
   {
    "duration": 19,
    "start_time": "2022-04-28T07:30:36.871Z"
   },
   {
    "duration": 1623,
    "start_time": "2022-04-28T07:31:11.993Z"
   },
   {
    "duration": 278,
    "start_time": "2022-04-28T07:31:21.163Z"
   },
   {
    "duration": 13,
    "start_time": "2022-04-28T07:32:47.191Z"
   },
   {
    "duration": 82,
    "start_time": "2022-04-28T07:32:54.547Z"
   },
   {
    "duration": 12,
    "start_time": "2022-04-28T07:33:00.169Z"
   },
   {
    "duration": 20,
    "start_time": "2022-04-28T07:33:25.902Z"
   },
   {
    "duration": 14,
    "start_time": "2022-04-28T07:34:53.680Z"
   },
   {
    "duration": 19,
    "start_time": "2022-04-28T07:37:21.707Z"
   },
   {
    "duration": 17,
    "start_time": "2022-04-28T08:07:12.849Z"
   },
   {
    "duration": 288,
    "start_time": "2022-04-28T08:07:28.247Z"
   },
   {
    "duration": 330,
    "start_time": "2022-04-28T08:07:39.395Z"
   },
   {
    "duration": 86,
    "start_time": "2022-04-28T08:08:12.892Z"
   },
   {
    "duration": 274,
    "start_time": "2022-04-28T08:08:24.500Z"
   },
   {
    "duration": 261,
    "start_time": "2022-04-28T08:08:45.764Z"
   },
   {
    "duration": 323,
    "start_time": "2022-04-28T08:09:21.670Z"
   },
   {
    "duration": 324,
    "start_time": "2022-04-28T08:09:38.462Z"
   },
   {
    "duration": 338,
    "start_time": "2022-04-28T08:10:00.608Z"
   },
   {
    "duration": 366,
    "start_time": "2022-04-28T08:10:12.196Z"
   },
   {
    "duration": 317,
    "start_time": "2022-04-28T08:10:26.963Z"
   },
   {
    "duration": 326,
    "start_time": "2022-04-28T08:10:45.224Z"
   },
   {
    "duration": 316,
    "start_time": "2022-04-28T08:11:45.749Z"
   },
   {
    "duration": 12,
    "start_time": "2022-04-28T08:12:04.083Z"
   },
   {
    "duration": 27,
    "start_time": "2022-04-28T08:12:40.189Z"
   },
   {
    "duration": 28,
    "start_time": "2022-04-28T08:13:11.453Z"
   },
   {
    "duration": 40,
    "start_time": "2022-04-28T08:14:03.296Z"
   },
   {
    "duration": 38,
    "start_time": "2022-04-28T08:14:55.799Z"
   },
   {
    "duration": 34,
    "start_time": "2022-04-28T08:15:10.287Z"
   },
   {
    "duration": 32,
    "start_time": "2022-04-28T08:15:17.319Z"
   },
   {
    "duration": 40,
    "start_time": "2022-04-28T08:15:21.598Z"
   },
   {
    "duration": 36,
    "start_time": "2022-04-28T08:15:42.550Z"
   },
   {
    "duration": 26,
    "start_time": "2022-04-28T08:15:48.647Z"
   },
   {
    "duration": 27,
    "start_time": "2022-04-28T08:15:54.983Z"
   },
   {
    "duration": 24,
    "start_time": "2022-04-28T08:16:02.249Z"
   },
   {
    "duration": 30,
    "start_time": "2022-04-28T08:16:09.716Z"
   },
   {
    "duration": 29,
    "start_time": "2022-04-28T08:16:16.686Z"
   },
   {
    "duration": 330,
    "start_time": "2022-04-28T08:17:00.904Z"
   },
   {
    "duration": 32,
    "start_time": "2022-04-28T08:17:20.991Z"
   },
   {
    "duration": 318,
    "start_time": "2022-04-28T08:17:25.775Z"
   },
   {
    "duration": 31,
    "start_time": "2022-04-28T08:17:35.922Z"
   },
   {
    "duration": 296,
    "start_time": "2022-04-28T08:17:39.120Z"
   },
   {
    "duration": 35,
    "start_time": "2022-04-28T08:18:19.956Z"
   },
   {
    "duration": 308,
    "start_time": "2022-04-28T08:18:26.685Z"
   },
   {
    "duration": 347,
    "start_time": "2022-04-28T08:19:26.455Z"
   },
   {
    "duration": 384,
    "start_time": "2022-04-28T08:20:18.504Z"
   },
   {
    "duration": 350,
    "start_time": "2022-04-28T08:20:28.892Z"
   },
   {
    "duration": 963,
    "start_time": "2022-04-28T08:21:31.591Z"
   },
   {
    "duration": 339,
    "start_time": "2022-04-28T09:00:53.413Z"
   },
   {
    "duration": 332,
    "start_time": "2022-04-28T09:02:52.469Z"
   },
   {
    "duration": 356,
    "start_time": "2022-04-28T09:03:04.966Z"
   },
   {
    "duration": 353,
    "start_time": "2022-04-28T09:03:13.542Z"
   },
   {
    "duration": 145,
    "start_time": "2022-04-28T09:04:54.149Z"
   },
   {
    "duration": 370,
    "start_time": "2022-04-28T09:05:06.899Z"
   },
   {
    "duration": 299,
    "start_time": "2022-04-28T09:14:12.528Z"
   },
   {
    "duration": 337,
    "start_time": "2022-04-28T09:14:28.569Z"
   },
   {
    "duration": 342,
    "start_time": "2022-04-28T09:14:38.644Z"
   },
   {
    "duration": 346,
    "start_time": "2022-04-28T09:15:07.972Z"
   },
   {
    "duration": 355,
    "start_time": "2022-04-28T09:15:22.911Z"
   },
   {
    "duration": 335,
    "start_time": "2022-04-28T09:17:07.841Z"
   },
   {
    "duration": 359,
    "start_time": "2022-04-28T09:17:22.624Z"
   },
   {
    "duration": 347,
    "start_time": "2022-04-28T09:17:30.258Z"
   },
   {
    "duration": 343,
    "start_time": "2022-04-28T09:17:42.824Z"
   },
   {
    "duration": 344,
    "start_time": "2022-04-28T09:17:51.400Z"
   },
   {
    "duration": 369,
    "start_time": "2022-04-28T09:18:04.609Z"
   },
   {
    "duration": 363,
    "start_time": "2022-04-28T09:27:09.844Z"
   },
   {
    "duration": 880,
    "start_time": "2022-04-28T09:27:17.748Z"
   },
   {
    "duration": 32,
    "start_time": "2022-04-28T09:27:24.884Z"
   },
   {
    "duration": 356,
    "start_time": "2022-04-28T09:27:26.129Z"
   },
   {
    "duration": 372,
    "start_time": "2022-04-28T09:27:34.452Z"
   },
   {
    "duration": 368,
    "start_time": "2022-04-28T09:56:35.125Z"
   },
   {
    "duration": 379,
    "start_time": "2022-04-28T09:57:07.705Z"
   },
   {
    "duration": 359,
    "start_time": "2022-04-28T10:08:24.872Z"
   },
   {
    "duration": 379,
    "start_time": "2022-04-28T10:10:15.766Z"
   },
   {
    "duration": 376,
    "start_time": "2022-04-28T10:10:26.668Z"
   },
   {
    "duration": 364,
    "start_time": "2022-04-28T10:10:31.726Z"
   },
   {
    "duration": 379,
    "start_time": "2022-04-28T10:11:11.895Z"
   },
   {
    "duration": 384,
    "start_time": "2022-04-28T10:11:20.983Z"
   },
   {
    "duration": 400,
    "start_time": "2022-04-28T10:11:45.909Z"
   },
   {
    "duration": 368,
    "start_time": "2022-04-28T10:11:50.411Z"
   },
   {
    "duration": 367,
    "start_time": "2022-04-28T10:11:54.957Z"
   },
   {
    "duration": 422,
    "start_time": "2022-04-28T10:12:33.198Z"
   },
   {
    "duration": 369,
    "start_time": "2022-04-28T10:12:41.752Z"
   },
   {
    "duration": 371,
    "start_time": "2022-04-28T10:12:51.244Z"
   },
   {
    "duration": 891,
    "start_time": "2022-04-28T10:12:56.614Z"
   },
   {
    "duration": 379,
    "start_time": "2022-04-28T10:13:02.391Z"
   },
   {
    "duration": 415,
    "start_time": "2022-04-28T10:13:11.318Z"
   },
   {
    "duration": 391,
    "start_time": "2022-04-28T10:13:17.231Z"
   },
   {
    "duration": 421,
    "start_time": "2022-04-28T10:13:21.768Z"
   },
   {
    "duration": 375,
    "start_time": "2022-04-28T10:13:25.494Z"
   },
   {
    "duration": 385,
    "start_time": "2022-04-28T10:13:29.832Z"
   },
   {
    "duration": 375,
    "start_time": "2022-04-28T10:13:33.950Z"
   },
   {
    "duration": 388,
    "start_time": "2022-04-28T10:13:42.501Z"
   },
   {
    "duration": 441,
    "start_time": "2022-04-28T10:14:56.016Z"
   },
   {
    "duration": 394,
    "start_time": "2022-04-28T10:15:19.615Z"
   },
   {
    "duration": 367,
    "start_time": "2022-04-28T10:15:45.838Z"
   },
   {
    "duration": 384,
    "start_time": "2022-04-28T10:15:57.626Z"
   },
   {
    "duration": 385,
    "start_time": "2022-04-28T10:16:11.329Z"
   },
   {
    "duration": 381,
    "start_time": "2022-04-28T10:16:20.135Z"
   },
   {
    "duration": 319,
    "start_time": "2022-04-28T10:17:02.064Z"
   },
   {
    "duration": 406,
    "start_time": "2022-04-28T10:17:06.747Z"
   },
   {
    "duration": 390,
    "start_time": "2022-04-28T10:17:16.856Z"
   },
   {
    "duration": 913,
    "start_time": "2022-04-28T10:17:30.664Z"
   },
   {
    "duration": 377,
    "start_time": "2022-04-28T10:17:57.233Z"
   },
   {
    "duration": 376,
    "start_time": "2022-04-28T10:18:02.136Z"
   },
   {
    "duration": 399,
    "start_time": "2022-04-28T10:18:12.899Z"
   },
   {
    "duration": 389,
    "start_time": "2022-04-28T10:18:17.855Z"
   },
   {
    "duration": 386,
    "start_time": "2022-04-28T10:18:22.527Z"
   },
   {
    "duration": 385,
    "start_time": "2022-04-28T10:19:07.344Z"
   },
   {
    "duration": 499,
    "start_time": "2022-04-28T10:19:14.668Z"
   },
   {
    "duration": 376,
    "start_time": "2022-04-28T10:19:25.320Z"
   },
   {
    "duration": 381,
    "start_time": "2022-04-28T10:19:31.912Z"
   },
   {
    "duration": 381,
    "start_time": "2022-04-28T10:19:40.305Z"
   },
   {
    "duration": 390,
    "start_time": "2022-04-28T10:20:23.873Z"
   },
   {
    "duration": 375,
    "start_time": "2022-04-28T10:20:28.056Z"
   },
   {
    "duration": 376,
    "start_time": "2022-04-28T10:20:33.471Z"
   },
   {
    "duration": 383,
    "start_time": "2022-04-28T10:20:43.545Z"
   },
   {
    "duration": 391,
    "start_time": "2022-04-28T10:20:47.832Z"
   },
   {
    "duration": 375,
    "start_time": "2022-04-28T10:20:51.116Z"
   },
   {
    "duration": 911,
    "start_time": "2022-04-28T10:20:56.263Z"
   },
   {
    "duration": 392,
    "start_time": "2022-04-28T10:21:06.999Z"
   },
   {
    "duration": 384,
    "start_time": "2022-04-28T10:26:48.075Z"
   },
   {
    "duration": 413,
    "start_time": "2022-04-28T10:29:13.726Z"
   },
   {
    "duration": 394,
    "start_time": "2022-04-28T10:29:49.943Z"
   },
   {
    "duration": 408,
    "start_time": "2022-04-28T10:31:22.492Z"
   },
   {
    "duration": 395,
    "start_time": "2022-04-28T10:32:07.418Z"
   },
   {
    "duration": 443,
    "start_time": "2022-04-28T10:32:15.724Z"
   },
   {
    "duration": 451,
    "start_time": "2022-04-28T10:32:50.908Z"
   },
   {
    "duration": 440,
    "start_time": "2022-04-28T10:33:29.267Z"
   },
   {
    "duration": 432,
    "start_time": "2022-04-28T10:34:26.579Z"
   },
   {
    "duration": 374,
    "start_time": "2022-04-28T10:35:03.500Z"
   },
   {
    "duration": 443,
    "start_time": "2022-04-28T10:35:12.556Z"
   },
   {
    "duration": 439,
    "start_time": "2022-04-28T10:35:24.350Z"
   },
   {
    "duration": 442,
    "start_time": "2022-04-28T10:35:40.435Z"
   },
   {
    "duration": 439,
    "start_time": "2022-04-28T10:35:48.573Z"
   },
   {
    "duration": 320,
    "start_time": "2022-04-28T10:37:28.668Z"
   },
   {
    "duration": 523,
    "start_time": "2022-04-28T10:39:03.269Z"
   },
   {
    "duration": 1034,
    "start_time": "2022-04-28T10:39:25.516Z"
   },
   {
    "duration": 411,
    "start_time": "2022-04-28T10:40:24.751Z"
   },
   {
    "duration": 529,
    "start_time": "2022-04-28T10:40:30.875Z"
   },
   {
    "duration": 560,
    "start_time": "2022-04-28T10:41:15.885Z"
   },
   {
    "duration": 576,
    "start_time": "2022-04-28T10:43:03.608Z"
   },
   {
    "duration": 550,
    "start_time": "2022-04-28T10:43:14.373Z"
   },
   {
    "duration": 549,
    "start_time": "2022-04-28T10:44:10.898Z"
   },
   {
    "duration": 554,
    "start_time": "2022-04-28T10:44:20.926Z"
   },
   {
    "duration": 523,
    "start_time": "2022-04-28T10:44:34.943Z"
   },
   {
    "duration": 538,
    "start_time": "2022-04-28T10:44:41.449Z"
   },
   {
    "duration": 543,
    "start_time": "2022-04-28T10:45:58.598Z"
   },
   {
    "duration": 502,
    "start_time": "2022-04-28T10:46:56.302Z"
   },
   {
    "duration": 541,
    "start_time": "2022-04-28T10:47:12.546Z"
   },
   {
    "duration": 544,
    "start_time": "2022-04-28T10:47:24.696Z"
   },
   {
    "duration": 1049,
    "start_time": "2022-04-28T10:47:33.179Z"
   },
   {
    "duration": 533,
    "start_time": "2022-04-28T10:47:47.311Z"
   },
   {
    "duration": 556,
    "start_time": "2022-04-28T10:48:08.014Z"
   },
   {
    "duration": 547,
    "start_time": "2022-04-28T10:48:12.698Z"
   },
   {
    "duration": 414,
    "start_time": "2022-04-28T10:49:33.047Z"
   },
   {
    "duration": 524,
    "start_time": "2022-04-28T10:49:48.831Z"
   },
   {
    "duration": 553,
    "start_time": "2022-04-28T10:51:20.121Z"
   },
   {
    "duration": 530,
    "start_time": "2022-04-28T10:51:30.874Z"
   },
   {
    "duration": 37,
    "start_time": "2022-04-28T11:18:56.866Z"
   },
   {
    "duration": 534,
    "start_time": "2022-04-28T11:18:58.760Z"
   },
   {
    "duration": 10,
    "start_time": "2022-04-28T11:23:51.229Z"
   },
   {
    "duration": 526,
    "start_time": "2022-04-28T11:25:56.719Z"
   },
   {
    "duration": 23,
    "start_time": "2022-04-28T11:29:37.047Z"
   },
   {
    "duration": 12,
    "start_time": "2022-04-28T11:30:19.577Z"
   },
   {
    "duration": 11,
    "start_time": "2022-04-28T11:30:31.433Z"
   },
   {
    "duration": 24,
    "start_time": "2022-04-28T11:30:36.245Z"
   },
   {
    "duration": 26,
    "start_time": "2022-04-28T11:31:29.088Z"
   },
   {
    "duration": 27,
    "start_time": "2022-04-28T11:32:05.383Z"
   },
   {
    "duration": 27,
    "start_time": "2022-04-28T11:32:46.267Z"
   },
   {
    "duration": 27,
    "start_time": "2022-04-28T11:32:57.658Z"
   },
   {
    "duration": 28,
    "start_time": "2022-04-28T11:33:28.985Z"
   },
   {
    "duration": 10,
    "start_time": "2022-04-28T11:34:39.872Z"
   },
   {
    "duration": 15,
    "start_time": "2022-04-28T11:34:55.390Z"
   },
   {
    "duration": 11,
    "start_time": "2022-04-28T11:35:07.217Z"
   },
   {
    "duration": 17,
    "start_time": "2022-04-28T11:35:11.545Z"
   },
   {
    "duration": 12,
    "start_time": "2022-04-28T11:36:43.487Z"
   },
   {
    "duration": 13,
    "start_time": "2022-04-28T11:36:51.266Z"
   },
   {
    "duration": 9,
    "start_time": "2022-04-28T11:36:55.978Z"
   },
   {
    "duration": 10,
    "start_time": "2022-04-28T11:37:08.376Z"
   },
   {
    "duration": 11,
    "start_time": "2022-04-28T11:38:41.209Z"
   },
   {
    "duration": 14,
    "start_time": "2022-04-28T11:38:47.625Z"
   },
   {
    "duration": 28,
    "start_time": "2022-04-28T11:39:15.743Z"
   },
   {
    "duration": 25,
    "start_time": "2022-04-28T11:39:26.372Z"
   },
   {
    "duration": 30,
    "start_time": "2022-04-28T11:39:44.924Z"
   },
   {
    "duration": 28,
    "start_time": "2022-04-28T11:58:16.998Z"
   },
   {
    "duration": 15,
    "start_time": "2022-04-28T11:58:31.368Z"
   },
   {
    "duration": 32,
    "start_time": "2022-04-28T11:58:44.792Z"
   },
   {
    "duration": 31,
    "start_time": "2022-04-28T11:58:56.259Z"
   },
   {
    "duration": 21,
    "start_time": "2022-04-28T11:59:01.354Z"
   },
   {
    "duration": 5,
    "start_time": "2022-04-28T12:00:46.303Z"
   },
   {
    "duration": 5,
    "start_time": "2022-04-28T12:01:02.641Z"
   },
   {
    "duration": 5,
    "start_time": "2022-04-28T12:01:06.382Z"
   },
   {
    "duration": 5,
    "start_time": "2022-04-28T12:01:16.972Z"
   },
   {
    "duration": 5,
    "start_time": "2022-04-28T12:01:22.332Z"
   },
   {
    "duration": 26,
    "start_time": "2022-04-28T12:01:30.368Z"
   },
   {
    "duration": 5,
    "start_time": "2022-04-28T12:01:36.247Z"
   },
   {
    "duration": 4,
    "start_time": "2022-04-28T12:01:39.527Z"
   },
   {
    "duration": 335,
    "start_time": "2022-04-28T12:06:27.202Z"
   },
   {
    "duration": 1348,
    "start_time": "2022-04-28T16:14:16.775Z"
   },
   {
    "duration": 73,
    "start_time": "2022-04-28T16:14:18.125Z"
   },
   {
    "duration": 17,
    "start_time": "2022-04-28T16:14:18.199Z"
   },
   {
    "duration": 14,
    "start_time": "2022-04-28T16:14:18.219Z"
   },
   {
    "duration": 21,
    "start_time": "2022-04-28T16:14:18.234Z"
   },
   {
    "duration": 35,
    "start_time": "2022-04-28T16:14:18.257Z"
   },
   {
    "duration": 5,
    "start_time": "2022-04-28T16:14:18.293Z"
   },
   {
    "duration": 24,
    "start_time": "2022-04-28T16:14:18.299Z"
   },
   {
    "duration": 13,
    "start_time": "2022-04-28T16:14:18.325Z"
   },
   {
    "duration": 38,
    "start_time": "2022-04-28T16:14:18.341Z"
   },
   {
    "duration": 9,
    "start_time": "2022-04-28T16:14:18.380Z"
   },
   {
    "duration": 8,
    "start_time": "2022-04-28T16:14:18.390Z"
   },
   {
    "duration": 9,
    "start_time": "2022-04-28T16:14:18.400Z"
   },
   {
    "duration": 17,
    "start_time": "2022-04-28T16:14:18.410Z"
   },
   {
    "duration": 53,
    "start_time": "2022-04-28T16:14:18.428Z"
   },
   {
    "duration": 9,
    "start_time": "2022-04-28T16:14:18.482Z"
   },
   {
    "duration": 9,
    "start_time": "2022-04-28T16:14:18.493Z"
   },
   {
    "duration": 8,
    "start_time": "2022-04-28T16:14:18.503Z"
   },
   {
    "duration": 17,
    "start_time": "2022-04-28T16:14:18.513Z"
   },
   {
    "duration": 5,
    "start_time": "2022-04-28T16:14:18.532Z"
   },
   {
    "duration": 52,
    "start_time": "2022-04-28T16:14:18.539Z"
   },
   {
    "duration": 19,
    "start_time": "2022-04-28T16:14:18.593Z"
   },
   {
    "duration": 248,
    "start_time": "2022-04-28T16:14:18.614Z"
   },
   {
    "duration": 23,
    "start_time": "2022-04-28T16:14:18.864Z"
   },
   {
    "duration": 52,
    "start_time": "2022-04-28T16:14:18.889Z"
   },
   {
    "duration": 895,
    "start_time": "2022-04-28T16:14:18.942Z"
   },
   {
    "duration": 13,
    "start_time": "2022-04-28T16:14:19.839Z"
   },
   {
    "duration": 41,
    "start_time": "2022-04-28T16:14:19.856Z"
   },
   {
    "duration": 19,
    "start_time": "2022-04-28T16:14:19.899Z"
   },
   {
    "duration": 6,
    "start_time": "2022-04-28T16:14:19.920Z"
   },
   {
    "duration": 221,
    "start_time": "2022-04-28T16:14:19.928Z"
   },
   {
    "duration": 198,
    "start_time": "2022-04-28T16:14:20.151Z"
   },
   {
    "duration": 8,
    "start_time": "2022-04-28T16:14:20.350Z"
   },
   {
    "duration": 8,
    "start_time": "2022-04-28T16:14:20.373Z"
   },
   {
    "duration": 12,
    "start_time": "2022-04-28T16:14:20.383Z"
   },
   {
    "duration": 18,
    "start_time": "2022-04-28T16:14:20.397Z"
   },
   {
    "duration": 188,
    "start_time": "2022-04-28T16:14:20.417Z"
   },
   {
    "duration": 6,
    "start_time": "2022-04-28T16:14:20.607Z"
   },
   {
    "duration": 177,
    "start_time": "2022-04-28T16:14:20.614Z"
   },
   {
    "duration": 5,
    "start_time": "2022-04-28T16:14:20.794Z"
   },
   {
    "duration": 15,
    "start_time": "2022-04-28T16:14:20.800Z"
   },
   {
    "duration": 19,
    "start_time": "2022-04-28T16:14:20.817Z"
   },
   {
    "duration": 2054,
    "start_time": "2022-04-28T16:14:20.838Z"
   },
   {
    "duration": 34,
    "start_time": "2022-04-28T16:14:22.894Z"
   },
   {
    "duration": 526,
    "start_time": "2022-04-28T16:14:22.929Z"
   },
   {
    "duration": 26,
    "start_time": "2022-04-28T16:14:23.457Z"
   },
   {
    "duration": 13,
    "start_time": "2022-04-28T16:14:23.486Z"
   },
   {
    "duration": 20,
    "start_time": "2022-04-28T16:14:23.501Z"
   },
   {
    "duration": 15,
    "start_time": "2022-04-28T16:14:23.523Z"
   },
   {
    "duration": 41,
    "start_time": "2022-04-28T16:14:23.540Z"
   },
   {
    "duration": 13,
    "start_time": "2022-04-28T16:14:23.582Z"
   },
   {
    "duration": 17,
    "start_time": "2022-04-28T16:14:23.597Z"
   },
   {
    "duration": 15,
    "start_time": "2022-04-28T16:14:23.616Z"
   },
   {
    "duration": 16,
    "start_time": "2022-04-28T16:14:23.633Z"
   },
   {
    "duration": 14,
    "start_time": "2022-04-28T16:14:23.674Z"
   },
   {
    "duration": 19,
    "start_time": "2022-04-28T16:14:23.690Z"
   },
   {
    "duration": 25,
    "start_time": "2022-04-28T16:14:23.711Z"
   },
   {
    "duration": 395,
    "start_time": "2022-04-28T16:14:23.737Z"
   },
   {
    "duration": 24,
    "start_time": "2022-04-28T16:14:24.134Z"
   },
   {
    "duration": 17,
    "start_time": "2022-04-28T16:14:24.173Z"
   },
   {
    "duration": 27,
    "start_time": "2022-04-28T16:14:24.192Z"
   },
   {
    "duration": 404,
    "start_time": "2022-04-28T16:14:24.221Z"
   },
   {
    "duration": 24,
    "start_time": "2022-04-28T16:14:24.627Z"
   },
   {
    "duration": 364,
    "start_time": "2022-04-28T16:14:24.653Z"
   },
   {
    "duration": 24,
    "start_time": "2022-04-28T16:14:25.019Z"
   },
   {
    "duration": 386,
    "start_time": "2022-04-28T16:14:25.045Z"
   },
   {
    "duration": 457,
    "start_time": "2022-04-28T16:14:25.433Z"
   },
   {
    "duration": 4,
    "start_time": "2022-04-28T16:14:25.892Z"
   },
   {
    "duration": 9,
    "start_time": "2022-04-28T16:14:25.898Z"
   },
   {
    "duration": 11,
    "start_time": "2022-04-28T16:14:25.909Z"
   },
   {
    "duration": 293,
    "start_time": "2022-04-28T16:14:25.921Z"
   },
   {
    "duration": 5,
    "start_time": "2022-04-28T16:14:26.215Z"
   },
   {
    "duration": 26,
    "start_time": "2022-04-28T16:14:26.222Z"
   },
   {
    "duration": 25,
    "start_time": "2022-04-28T16:14:26.250Z"
   },
   {
    "duration": 7,
    "start_time": "2022-04-28T16:14:26.277Z"
   },
   {
    "duration": 1189,
    "start_time": "2022-04-28T16:15:10.748Z"
   },
   {
    "duration": 50,
    "start_time": "2022-04-28T16:15:11.939Z"
   },
   {
    "duration": 17,
    "start_time": "2022-04-28T16:15:11.990Z"
   },
   {
    "duration": 15,
    "start_time": "2022-04-28T16:15:12.009Z"
   },
   {
    "duration": 20,
    "start_time": "2022-04-28T16:15:12.026Z"
   },
   {
    "duration": 46,
    "start_time": "2022-04-28T16:15:12.048Z"
   },
   {
    "duration": 4,
    "start_time": "2022-04-28T16:15:12.096Z"
   },
   {
    "duration": 28,
    "start_time": "2022-04-28T16:15:12.102Z"
   },
   {
    "duration": 19,
    "start_time": "2022-04-28T16:15:12.132Z"
   },
   {
    "duration": 30,
    "start_time": "2022-04-28T16:15:12.155Z"
   },
   {
    "duration": 12,
    "start_time": "2022-04-28T16:15:12.188Z"
   },
   {
    "duration": 9,
    "start_time": "2022-04-28T16:15:12.202Z"
   },
   {
    "duration": 12,
    "start_time": "2022-04-28T16:15:12.213Z"
   },
   {
    "duration": 47,
    "start_time": "2022-04-28T16:15:12.227Z"
   },
   {
    "duration": 19,
    "start_time": "2022-04-28T16:15:12.276Z"
   },
   {
    "duration": 11,
    "start_time": "2022-04-28T16:15:12.297Z"
   },
   {
    "duration": 10,
    "start_time": "2022-04-28T16:15:12.309Z"
   },
   {
    "duration": 23,
    "start_time": "2022-04-28T16:15:12.321Z"
   },
   {
    "duration": 33,
    "start_time": "2022-04-28T16:15:12.346Z"
   },
   {
    "duration": 5,
    "start_time": "2022-04-28T16:15:12.381Z"
   },
   {
    "duration": 25,
    "start_time": "2022-04-28T16:15:12.388Z"
   },
   {
    "duration": 19,
    "start_time": "2022-04-28T16:15:12.415Z"
   },
   {
    "duration": 262,
    "start_time": "2022-04-28T16:15:12.436Z"
   },
   {
    "duration": 18,
    "start_time": "2022-04-28T16:15:12.700Z"
   },
   {
    "duration": 77,
    "start_time": "2022-04-28T16:15:12.720Z"
   },
   {
    "duration": 797,
    "start_time": "2022-04-28T16:15:12.800Z"
   },
   {
    "duration": 15,
    "start_time": "2022-04-28T16:15:13.600Z"
   },
   {
    "duration": 23,
    "start_time": "2022-04-28T16:15:13.621Z"
   },
   {
    "duration": 29,
    "start_time": "2022-04-28T16:15:13.674Z"
   },
   {
    "duration": 7,
    "start_time": "2022-04-28T16:15:13.704Z"
   },
   {
    "duration": 214,
    "start_time": "2022-04-28T16:15:13.713Z"
   },
   {
    "duration": 200,
    "start_time": "2022-04-28T16:15:13.928Z"
   },
   {
    "duration": 8,
    "start_time": "2022-04-28T16:15:14.129Z"
   },
   {
    "duration": 15,
    "start_time": "2022-04-28T16:15:14.138Z"
   },
   {
    "duration": 18,
    "start_time": "2022-04-28T16:15:14.155Z"
   },
   {
    "duration": 14,
    "start_time": "2022-04-28T16:15:14.175Z"
   },
   {
    "duration": 197,
    "start_time": "2022-04-28T16:15:14.191Z"
   },
   {
    "duration": 6,
    "start_time": "2022-04-28T16:15:14.390Z"
   },
   {
    "duration": 181,
    "start_time": "2022-04-28T16:15:14.398Z"
   },
   {
    "duration": 5,
    "start_time": "2022-04-28T16:15:14.581Z"
   },
   {
    "duration": 10,
    "start_time": "2022-04-28T16:15:14.588Z"
   },
   {
    "duration": 8,
    "start_time": "2022-04-28T16:15:14.600Z"
   },
   {
    "duration": 2221,
    "start_time": "2022-04-28T16:15:14.609Z"
   },
   {
    "duration": 45,
    "start_time": "2022-04-28T16:15:16.832Z"
   },
   {
    "duration": 513,
    "start_time": "2022-04-28T16:15:16.878Z"
   },
   {
    "duration": 18,
    "start_time": "2022-04-28T16:15:17.393Z"
   },
   {
    "duration": 14,
    "start_time": "2022-04-28T16:15:17.413Z"
   },
   {
    "duration": 22,
    "start_time": "2022-04-28T16:15:17.429Z"
   },
   {
    "duration": 16,
    "start_time": "2022-04-28T16:15:17.474Z"
   },
   {
    "duration": 14,
    "start_time": "2022-04-28T16:15:17.492Z"
   },
   {
    "duration": 14,
    "start_time": "2022-04-28T16:15:17.508Z"
   },
   {
    "duration": 23,
    "start_time": "2022-04-28T16:15:17.523Z"
   },
   {
    "duration": 34,
    "start_time": "2022-04-28T16:15:17.547Z"
   },
   {
    "duration": 13,
    "start_time": "2022-04-28T16:15:17.583Z"
   },
   {
    "duration": 14,
    "start_time": "2022-04-28T16:15:17.598Z"
   },
   {
    "duration": 17,
    "start_time": "2022-04-28T16:15:17.613Z"
   },
   {
    "duration": 49,
    "start_time": "2022-04-28T16:15:17.632Z"
   },
   {
    "duration": 348,
    "start_time": "2022-04-28T16:15:17.682Z"
   },
   {
    "duration": 25,
    "start_time": "2022-04-28T16:15:18.032Z"
   },
   {
    "duration": 17,
    "start_time": "2022-04-28T16:15:18.073Z"
   },
   {
    "duration": 26,
    "start_time": "2022-04-28T16:15:18.092Z"
   },
   {
    "duration": 400,
    "start_time": "2022-04-28T16:15:18.120Z"
   },
   {
    "duration": 24,
    "start_time": "2022-04-28T16:15:18.521Z"
   },
   {
    "duration": 373,
    "start_time": "2022-04-28T16:15:18.547Z"
   },
   {
    "duration": 24,
    "start_time": "2022-04-28T16:15:18.921Z"
   },
   {
    "duration": 372,
    "start_time": "2022-04-28T16:15:18.946Z"
   },
   {
    "duration": 444,
    "start_time": "2022-04-28T16:15:19.320Z"
   },
   {
    "duration": 10,
    "start_time": "2022-04-28T16:15:19.765Z"
   },
   {
    "duration": 8,
    "start_time": "2022-04-28T16:15:19.776Z"
   },
   {
    "duration": 9,
    "start_time": "2022-04-28T16:15:19.786Z"
   },
   {
    "duration": 269,
    "start_time": "2022-04-28T16:15:19.796Z"
   },
   {
    "duration": 10,
    "start_time": "2022-04-28T16:15:20.067Z"
   },
   {
    "duration": 28,
    "start_time": "2022-04-28T16:15:20.078Z"
   },
   {
    "duration": 7,
    "start_time": "2022-04-28T16:15:20.108Z"
   },
   {
    "duration": 8,
    "start_time": "2022-04-28T16:15:20.117Z"
   }
  ],
  "kernelspec": {
   "display_name": "Python 3 (ipykernel)",
   "language": "python",
   "name": "python3"
  },
  "language_info": {
   "codemirror_mode": {
    "name": "ipython",
    "version": 3
   },
   "file_extension": ".py",
   "mimetype": "text/x-python",
   "name": "python",
   "nbconvert_exporter": "python",
   "pygments_lexer": "ipython3",
   "version": "3.9.7"
  },
  "toc": {
   "base_numbering": 1,
   "nav_menu": {},
   "number_sections": true,
   "sideBar": true,
   "skip_h1_title": true,
   "title_cell": "Table of Contents",
   "title_sidebar": "Contents",
   "toc_cell": true,
   "toc_position": {
    "height": "calc(100% - 180px)",
    "left": "10px",
    "top": "150px",
    "width": "382px"
   },
   "toc_section_display": true,
   "toc_window_display": false
  }
 },
 "nbformat": 4,
 "nbformat_minor": 5
}
