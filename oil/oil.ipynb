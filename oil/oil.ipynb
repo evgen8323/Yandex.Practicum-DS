{
 "cells": [
  {
   "cell_type": "markdown",
   "id": "2a39523a",
   "metadata": {},
   "source": [
    "<a id='content'></a>\n",
    "<br><b>Содержание</b>\n",
    "<br><b>1. [Введение](#p1)</b>\n",
    "<br><b>2. [Импорт библиотек. Выгрузка данных](#p1)</b>\n",
    "<br><b>2.1. [Регион 0](#2.1_reg0)\n",
    "<br><b>2.2. [Регион 1](#2.2_reg1)\n",
    "<br><b>2.3. [Регион 2](#2.3_reg2)\n",
    "<br><b>3. [Подготовка и обучение модели. Оценка метрик](#3_ml)</b>\n",
    "<br><b>4. [Подготовка данных для расчета прибыли](#4_prep_prof)</b>\n",
    "<br><b>5. [Bootstrap](#5_bootstrap)</b>"
   ]
  },
  {
   "cell_type": "markdown",
   "id": "fe441c02",
   "metadata": {},
   "source": [
    "<a id='p1'></a>\n",
    "<h1>1. Введение</h1>"
   ]
  },
  {
   "cell_type": "markdown",
   "id": "5ac98e9d",
   "metadata": {},
   "source": [
    "По предоставленным пробам нефти в трёх регионах, характеристики для каждой скважины в которых уже известны, требуется построить модель для выбора региона, где добыча принесёт наибольшую прибыль. \n",
    "Так же требуется оценить возможную прибыль и риски техников Bootstrap."
   ]
  },
  {
   "cell_type": "markdown",
   "id": "21377187",
   "metadata": {},
   "source": [
    "<a id='p1'></a>\n",
    "<h1>2. Импорт библиотек. Выгрузка данных</h1>\n",
    "\n",
    "[Содержание](#content)"
   ]
  },
  {
   "cell_type": "code",
   "execution_count": 1,
   "id": "fe71dfb4",
   "metadata": {},
   "outputs": [],
   "source": [
    "import pandas as pd\n",
    "from matplotlib import pyplot as plt\n",
    "import numpy as np\n",
    "\n",
    "from sklearn.model_selection import train_test_split\n",
    "from sklearn.linear_model import LinearRegression\n",
    "from sklearn.metrics import mean_squared_error"
   ]
  },
  {
   "cell_type": "code",
   "execution_count": 3,
   "id": "8fc67eeb",
   "metadata": {},
   "outputs": [],
   "source": [
    "data_0 = pd.read_csv('geo_data_0.csv')\n",
    "data_1 = pd.read_csv('geo_data_1.csv')\n",
    "data_2 = pd.read_csv('geo_data_2.csv')"
   ]
  },
  {
   "cell_type": "markdown",
   "id": "085fe3e2",
   "metadata": {},
   "source": [
    "Построим гистограммы для каждого из столбцов."
   ]
  },
  {
   "cell_type": "markdown",
   "id": "a36b15dc",
   "metadata": {},
   "source": [
    "Создадим функцию для построения однотипных графиков по каждому из регионов"
   ]
  },
  {
   "cell_type": "code",
   "execution_count": 8,
   "id": "66e016f0",
   "metadata": {},
   "outputs": [],
   "source": [
    "def graph(data):\n",
    "    fig = plt.figure()\n",
    "    fig.set_figwidth(16)\n",
    "    fig.set_figheight(10)\n",
    "\n",
    "    ax = fig.add_subplot(211)\n",
    "    ax.hist(data['f0'], histtype='step', linewidth=2, label='f0')\n",
    "    ax.hist(data['f1'], histtype='step', linewidth=2, label='f1')\n",
    "    ax.hist(data['f2'], histtype='step', linewidth=2, label='f2')\n",
    "    ax.legend(fontsize='xx-large')\n",
    "\n",
    "    ax1 = fig.add_subplot(212)\n",
    "    _ = ax1.hist(data['product'], density=True, bins=30)"
   ]
  },
  {
   "cell_type": "markdown",
   "id": "f63660f6",
   "metadata": {},
   "source": [
    "<a id='2.1_reg0'></a>\n",
    "<h3>2.1 Регион 0</h3>\n",
    "\n",
    "[Содержание](#content)"
   ]
  },
  {
   "cell_type": "code",
   "execution_count": 4,
   "id": "1f53378a",
   "metadata": {
    "scrolled": false
   },
   "outputs": [
    {
     "data": {
      "text/html": [
       "<div>\n",
       "<style scoped>\n",
       "    .dataframe tbody tr th:only-of-type {\n",
       "        vertical-align: middle;\n",
       "    }\n",
       "\n",
       "    .dataframe tbody tr th {\n",
       "        vertical-align: top;\n",
       "    }\n",
       "\n",
       "    .dataframe thead th {\n",
       "        text-align: right;\n",
       "    }\n",
       "</style>\n",
       "<table border=\"1\" class=\"dataframe\">\n",
       "  <thead>\n",
       "    <tr style=\"text-align: right;\">\n",
       "      <th></th>\n",
       "      <th>id</th>\n",
       "      <th>f0</th>\n",
       "      <th>f1</th>\n",
       "      <th>f2</th>\n",
       "      <th>product</th>\n",
       "    </tr>\n",
       "  </thead>\n",
       "  <tbody>\n",
       "    <tr>\n",
       "      <th>0</th>\n",
       "      <td>txEyH</td>\n",
       "      <td>0.705745</td>\n",
       "      <td>-0.497823</td>\n",
       "      <td>1.221170</td>\n",
       "      <td>105.280062</td>\n",
       "    </tr>\n",
       "    <tr>\n",
       "      <th>1</th>\n",
       "      <td>2acmU</td>\n",
       "      <td>1.334711</td>\n",
       "      <td>-0.340164</td>\n",
       "      <td>4.365080</td>\n",
       "      <td>73.037750</td>\n",
       "    </tr>\n",
       "    <tr>\n",
       "      <th>2</th>\n",
       "      <td>409Wp</td>\n",
       "      <td>1.022732</td>\n",
       "      <td>0.151990</td>\n",
       "      <td>1.419926</td>\n",
       "      <td>85.265647</td>\n",
       "    </tr>\n",
       "    <tr>\n",
       "      <th>3</th>\n",
       "      <td>iJLyR</td>\n",
       "      <td>-0.032172</td>\n",
       "      <td>0.139033</td>\n",
       "      <td>2.978566</td>\n",
       "      <td>168.620776</td>\n",
       "    </tr>\n",
       "    <tr>\n",
       "      <th>4</th>\n",
       "      <td>Xdl7t</td>\n",
       "      <td>1.988431</td>\n",
       "      <td>0.155413</td>\n",
       "      <td>4.751769</td>\n",
       "      <td>154.036647</td>\n",
       "    </tr>\n",
       "  </tbody>\n",
       "</table>\n",
       "</div>"
      ],
      "text/plain": [
       "      id        f0        f1        f2     product\n",
       "0  txEyH  0.705745 -0.497823  1.221170  105.280062\n",
       "1  2acmU  1.334711 -0.340164  4.365080   73.037750\n",
       "2  409Wp  1.022732  0.151990  1.419926   85.265647\n",
       "3  iJLyR -0.032172  0.139033  2.978566  168.620776\n",
       "4  Xdl7t  1.988431  0.155413  4.751769  154.036647"
      ]
     },
     "execution_count": 4,
     "metadata": {},
     "output_type": "execute_result"
    }
   ],
   "source": [
    "data_0.head()"
   ]
  },
  {
   "cell_type": "code",
   "execution_count": 11,
   "id": "da95ad6a",
   "metadata": {},
   "outputs": [
    {
     "data": {
      "image/png": "[encoded data removed]",
      "text/plain": [
       "<Figure size 1152x720 with 2 Axes>"
      ]
     },
     "metadata": {
      "needs_background": "light"
     },
     "output_type": "display_data"
    }
   ],
   "source": [
    "graph(data_0)"
   ]
  },
  {
   "cell_type": "markdown",
   "id": "e5fa62da",
   "metadata": {},
   "source": [
    "<a id='2.2_reg1'></a>\n",
    "<h3>2.2 Регион 1</h3>\n",
    "\n",
    "[Содержание](#content)"
   ]
  },
  {
   "cell_type": "code",
   "execution_count": 5,
   "id": "4b4e072c",
   "metadata": {
    "scrolled": false
   },
   "outputs": [
    {
     "data": {
      "text/html": [
       "<div>\n",
       "<style scoped>\n",
       "    .dataframe tbody tr th:only-of-type {\n",
       "        vertical-align: middle;\n",
       "    }\n",
       "\n",
       "    .dataframe tbody tr th {\n",
       "        vertical-align: top;\n",
       "    }\n",
       "\n",
       "    .dataframe thead th {\n",
       "        text-align: right;\n",
       "    }\n",
       "</style>\n",
       "<table border=\"1\" class=\"dataframe\">\n",
       "  <thead>\n",
       "    <tr style=\"text-align: right;\">\n",
       "      <th></th>\n",
       "      <th>id</th>\n",
       "      <th>f0</th>\n",
       "      <th>f1</th>\n",
       "      <th>f2</th>\n",
       "      <th>product</th>\n",
       "    </tr>\n",
       "  </thead>\n",
       "  <tbody>\n",
       "    <tr>\n",
       "      <th>0</th>\n",
       "      <td>kBEdx</td>\n",
       "      <td>-15.001348</td>\n",
       "      <td>-8.276000</td>\n",
       "      <td>-0.005876</td>\n",
       "      <td>3.179103</td>\n",
       "    </tr>\n",
       "    <tr>\n",
       "      <th>1</th>\n",
       "      <td>62mP7</td>\n",
       "      <td>14.272088</td>\n",
       "      <td>-3.475083</td>\n",
       "      <td>0.999183</td>\n",
       "      <td>26.953261</td>\n",
       "    </tr>\n",
       "    <tr>\n",
       "      <th>2</th>\n",
       "      <td>vyE1P</td>\n",
       "      <td>6.263187</td>\n",
       "      <td>-5.948386</td>\n",
       "      <td>5.001160</td>\n",
       "      <td>134.766305</td>\n",
       "    </tr>\n",
       "    <tr>\n",
       "      <th>3</th>\n",
       "      <td>KcrkZ</td>\n",
       "      <td>-13.081196</td>\n",
       "      <td>-11.506057</td>\n",
       "      <td>4.999415</td>\n",
       "      <td>137.945408</td>\n",
       "    </tr>\n",
       "    <tr>\n",
       "      <th>4</th>\n",
       "      <td>AHL4O</td>\n",
       "      <td>12.702195</td>\n",
       "      <td>-8.147433</td>\n",
       "      <td>5.004363</td>\n",
       "      <td>134.766305</td>\n",
       "    </tr>\n",
       "  </tbody>\n",
       "</table>\n",
       "</div>"
      ],
      "text/plain": [
       "      id         f0         f1        f2     product\n",
       "0  kBEdx -15.001348  -8.276000 -0.005876    3.179103\n",
       "1  62mP7  14.272088  -3.475083  0.999183   26.953261\n",
       "2  vyE1P   6.263187  -5.948386  5.001160  134.766305\n",
       "3  KcrkZ -13.081196 -11.506057  4.999415  137.945408\n",
       "4  AHL4O  12.702195  -8.147433  5.004363  134.766305"
      ]
     },
     "execution_count": 5,
     "metadata": {},
     "output_type": "execute_result"
    }
   ],
   "source": [
    "data_1.head()"
   ]
  },
  {
   "cell_type": "code",
   "execution_count": 9,
   "id": "b1393ecf",
   "metadata": {},
   "outputs": [
    {
     "data": {
      "image/png": "[encoded data removed]",
      "text/plain": [
       "<Figure size 1152x720 with 2 Axes>"
      ]
     },
     "metadata": {
      "needs_background": "light"
     },
     "output_type": "display_data"
    }
   ],
   "source": [
    "graph(data_1)"
   ]
  },
  {
   "cell_type": "markdown",
   "id": "142d09ad",
   "metadata": {},
   "source": [
    "<a id='2.3_reg2'></a>\n",
    "<h3>2.3 Регион 2</h3>\n",
    "\n",
    "[Содержание](#content)"
   ]
  },
  {
   "cell_type": "code",
   "execution_count": 7,
   "id": "c2724631",
   "metadata": {
    "scrolled": false
   },
   "outputs": [
    {
     "data": {
      "text/html": [
       "<div>\n",
       "<style scoped>\n",
       "    .dataframe tbody tr th:only-of-type {\n",
       "        vertical-align: middle;\n",
       "    }\n",
       "\n",
       "    .dataframe tbody tr th {\n",
       "        vertical-align: top;\n",
       "    }\n",
       "\n",
       "    .dataframe thead th {\n",
       "        text-align: right;\n",
       "    }\n",
       "</style>\n",
       "<table border=\"1\" class=\"dataframe\">\n",
       "  <thead>\n",
       "    <tr style=\"text-align: right;\">\n",
       "      <th></th>\n",
       "      <th>id</th>\n",
       "      <th>f0</th>\n",
       "      <th>f1</th>\n",
       "      <th>f2</th>\n",
       "      <th>product</th>\n",
       "    </tr>\n",
       "  </thead>\n",
       "  <tbody>\n",
       "    <tr>\n",
       "      <th>0</th>\n",
       "      <td>fwXo0</td>\n",
       "      <td>-1.146987</td>\n",
       "      <td>0.963328</td>\n",
       "      <td>-0.828965</td>\n",
       "      <td>27.758673</td>\n",
       "    </tr>\n",
       "    <tr>\n",
       "      <th>1</th>\n",
       "      <td>WJtFt</td>\n",
       "      <td>0.262778</td>\n",
       "      <td>0.269839</td>\n",
       "      <td>-2.530187</td>\n",
       "      <td>56.069697</td>\n",
       "    </tr>\n",
       "    <tr>\n",
       "      <th>2</th>\n",
       "      <td>ovLUW</td>\n",
       "      <td>0.194587</td>\n",
       "      <td>0.289035</td>\n",
       "      <td>-5.586433</td>\n",
       "      <td>62.871910</td>\n",
       "    </tr>\n",
       "    <tr>\n",
       "      <th>3</th>\n",
       "      <td>q6cA6</td>\n",
       "      <td>2.236060</td>\n",
       "      <td>-0.553760</td>\n",
       "      <td>0.930038</td>\n",
       "      <td>114.572842</td>\n",
       "    </tr>\n",
       "    <tr>\n",
       "      <th>4</th>\n",
       "      <td>WPMUX</td>\n",
       "      <td>-0.515993</td>\n",
       "      <td>1.716266</td>\n",
       "      <td>5.899011</td>\n",
       "      <td>149.600746</td>\n",
       "    </tr>\n",
       "  </tbody>\n",
       "</table>\n",
       "</div>"
      ],
      "text/plain": [
       "      id        f0        f1        f2     product\n",
       "0  fwXo0 -1.146987  0.963328 -0.828965   27.758673\n",
       "1  WJtFt  0.262778  0.269839 -2.530187   56.069697\n",
       "2  ovLUW  0.194587  0.289035 -5.586433   62.871910\n",
       "3  q6cA6  2.236060 -0.553760  0.930038  114.572842\n",
       "4  WPMUX -0.515993  1.716266  5.899011  149.600746"
      ]
     },
     "execution_count": 7,
     "metadata": {},
     "output_type": "execute_result"
    }
   ],
   "source": [
    "data_2.head()"
   ]
  },
  {
   "cell_type": "code",
   "execution_count": 10,
   "id": "ce078861",
   "metadata": {},
   "outputs": [
    {
     "data": {
      "image/png": "[encoded data removed]",
      "text/plain": [
       "<Figure size 1152x720 with 2 Axes>"
      ]
     },
     "metadata": {
      "needs_background": "light"
     },
     "output_type": "display_data"
    }
   ],
   "source": [
    "graph(data_2)"
   ]
  },
  {
   "cell_type": "markdown",
   "id": "9fff1248",
   "metadata": {},
   "source": [
    "<a id='3_ml'></a>\n",
    "<h1>3. Обучение модели. Оценка метрик</h1>\n",
    "\n",
    "[Содержание](#content)"
   ]
  },
  {
   "cell_type": "markdown",
   "id": "759e10ee",
   "metadata": {},
   "source": [
    "Что бы не повторять однотипный код и избежать возможных ошибок при его повторе, создадим функцию для выделения обучающей и валидационной выборок, обучения моделей и получения предсказаний."
   ]
  },
  {
   "cell_type": "code",
   "execution_count": 9,
   "id": "ca7fd5fa",
   "metadata": {},
   "outputs": [],
   "source": [
    "def get_predict_target(data):\n",
    "    target = data['product']\n",
    "    features = data.drop(['product', 'id'], axis=1)\n",
    "    features_train, features_valid, target_train, target_valid = train_test_split(features, target, test_size=.25, random_state=8323)\n",
    "    model = LinearRegression()\n",
    "    model.fit(features, target)\n",
    "    return pd.Series(model.predict(features_valid), index=target_valid.index), target_valid"
   ]
  },
  {
   "cell_type": "code",
   "execution_count": 10,
   "id": "20021922",
   "metadata": {},
   "outputs": [
    {
     "name": "stdout",
     "output_type": "stream",
     "text": [
      "Регион 0\n",
      "Ошибка RMSE: 37.823218244522856\n",
      "Средний запас предсказанног сырья: 92.56316536026188\n"
     ]
    }
   ],
   "source": [
    "prediction_0, target_valid_0 = get_predict_target(data_0)\n",
    "print('Регион 0')\n",
    "print('Ошибка RMSE:', mean_squared_error(prediction_0, target_valid_0) ** .5)\n",
    "print('Средний запас предсказанног сырья:', prediction_0.mean())"
   ]
  },
  {
   "cell_type": "code",
   "execution_count": 11,
   "id": "85e12bc9",
   "metadata": {},
   "outputs": [
    {
     "name": "stdout",
     "output_type": "stream",
     "text": [
      "Регион 1\n",
      "Ошибка RMSE: 0.8934919485235134\n",
      "Средний запас предсказанног сырья: 68.7353687032232\n"
     ]
    }
   ],
   "source": [
    "prediction_1, target_valid_1 = get_predict_target(data_1)\n",
    "\n",
    "print('Регион 1')\n",
    "print('Ошибка RMSE:', mean_squared_error(prediction_1, target_valid_1) ** .5)\n",
    "print('Средний запас предсказанног сырья:', prediction_1.mean())"
   ]
  },
  {
   "cell_type": "code",
   "execution_count": 12,
   "id": "20f4785c",
   "metadata": {},
   "outputs": [
    {
     "name": "stdout",
     "output_type": "stream",
     "text": [
      "Регион 2\n",
      "Ошибка RMSE: 39.82913787126493\n",
      "Средний запас предсказанног сырья: 95.13137461772324\n"
     ]
    }
   ],
   "source": [
    "prediction_2, target_valid_2 = get_predict_target(data_2)\n",
    "\n",
    "print('Регион 2')\n",
    "print('Ошибка RMSE:', mean_squared_error(prediction_2, target_valid_2) ** .5)\n",
    "print('Средний запас предсказанног сырья:', prediction_2.mean())"
   ]
  },
  {
   "cell_type": "code",
   "execution_count": 13,
   "id": "e7e6d098",
   "metadata": {
    "scrolled": true
   },
   "outputs": [
    {
     "data": {
      "text/html": [
       "<div>\n",
       "<style scoped>\n",
       "    .dataframe tbody tr th:only-of-type {\n",
       "        vertical-align: middle;\n",
       "    }\n",
       "\n",
       "    .dataframe tbody tr th {\n",
       "        vertical-align: top;\n",
       "    }\n",
       "\n",
       "    .dataframe thead th {\n",
       "        text-align: right;\n",
       "    }\n",
       "</style>\n",
       "<table border=\"1\" class=\"dataframe\">\n",
       "  <thead>\n",
       "    <tr style=\"text-align: right;\">\n",
       "      <th></th>\n",
       "      <th>product</th>\n",
       "      <th>product</th>\n",
       "      <th>product</th>\n",
       "    </tr>\n",
       "  </thead>\n",
       "  <tbody>\n",
       "    <tr>\n",
       "      <th>count</th>\n",
       "      <td>25000.000000</td>\n",
       "      <td>25000.000000</td>\n",
       "      <td>25000.000000</td>\n",
       "    </tr>\n",
       "    <tr>\n",
       "      <th>mean</th>\n",
       "      <td>93.018415</td>\n",
       "      <td>68.729339</td>\n",
       "      <td>95.303394</td>\n",
       "    </tr>\n",
       "    <tr>\n",
       "      <th>std</th>\n",
       "      <td>44.374654</td>\n",
       "      <td>45.946736</td>\n",
       "      <td>44.413784</td>\n",
       "    </tr>\n",
       "    <tr>\n",
       "      <th>min</th>\n",
       "      <td>0.000000</td>\n",
       "      <td>0.000000</td>\n",
       "      <td>0.023608</td>\n",
       "    </tr>\n",
       "    <tr>\n",
       "      <th>25%</th>\n",
       "      <td>56.537036</td>\n",
       "      <td>26.953261</td>\n",
       "      <td>60.023552</td>\n",
       "    </tr>\n",
       "    <tr>\n",
       "      <th>50%</th>\n",
       "      <td>93.448480</td>\n",
       "      <td>57.085625</td>\n",
       "      <td>95.384342</td>\n",
       "    </tr>\n",
       "    <tr>\n",
       "      <th>75%</th>\n",
       "      <td>129.235270</td>\n",
       "      <td>107.813044</td>\n",
       "      <td>130.571507</td>\n",
       "    </tr>\n",
       "    <tr>\n",
       "      <th>max</th>\n",
       "      <td>185.362690</td>\n",
       "      <td>137.945408</td>\n",
       "      <td>190.013589</td>\n",
       "    </tr>\n",
       "  </tbody>\n",
       "</table>\n",
       "</div>"
      ],
      "text/plain": [
       "            product       product       product\n",
       "count  25000.000000  25000.000000  25000.000000\n",
       "mean      93.018415     68.729339     95.303394\n",
       "std       44.374654     45.946736     44.413784\n",
       "min        0.000000      0.000000      0.023608\n",
       "25%       56.537036     26.953261     60.023552\n",
       "50%       93.448480     57.085625     95.384342\n",
       "75%      129.235270    107.813044    130.571507\n",
       "max      185.362690    137.945408    190.013589"
      ]
     },
     "execution_count": 13,
     "metadata": {},
     "output_type": "execute_result"
    }
   ],
   "source": [
    "pd.concat([target_valid_0, target_valid_1, target_valid_2], axis=1).describe()"
   ]
  },
  {
   "cell_type": "code",
   "execution_count": 14,
   "id": "c2948b43",
   "metadata": {},
   "outputs": [
    {
     "data": {
      "text/html": [
       "<div>\n",
       "<style scoped>\n",
       "    .dataframe tbody tr th:only-of-type {\n",
       "        vertical-align: middle;\n",
       "    }\n",
       "\n",
       "    .dataframe tbody tr th {\n",
       "        vertical-align: top;\n",
       "    }\n",
       "\n",
       "    .dataframe thead th {\n",
       "        text-align: right;\n",
       "    }\n",
       "</style>\n",
       "<table border=\"1\" class=\"dataframe\">\n",
       "  <thead>\n",
       "    <tr style=\"text-align: right;\">\n",
       "      <th></th>\n",
       "      <th>0</th>\n",
       "      <th>1</th>\n",
       "      <th>2</th>\n",
       "    </tr>\n",
       "  </thead>\n",
       "  <tbody>\n",
       "    <tr>\n",
       "      <th>count</th>\n",
       "      <td>25000.000000</td>\n",
       "      <td>25000.000000</td>\n",
       "      <td>25000.000000</td>\n",
       "    </tr>\n",
       "    <tr>\n",
       "      <th>mean</th>\n",
       "      <td>92.563165</td>\n",
       "      <td>68.735369</td>\n",
       "      <td>95.131375</td>\n",
       "    </tr>\n",
       "    <tr>\n",
       "      <th>std</th>\n",
       "      <td>23.302514</td>\n",
       "      <td>45.937693</td>\n",
       "      <td>19.975962</td>\n",
       "    </tr>\n",
       "    <tr>\n",
       "      <th>min</th>\n",
       "      <td>-9.884474</td>\n",
       "      <td>-1.886341</td>\n",
       "      <td>11.976569</td>\n",
       "    </tr>\n",
       "    <tr>\n",
       "      <th>25%</th>\n",
       "      <td>76.630112</td>\n",
       "      <td>28.509735</td>\n",
       "      <td>81.590296</td>\n",
       "    </tr>\n",
       "    <tr>\n",
       "      <th>50%</th>\n",
       "      <td>92.624784</td>\n",
       "      <td>58.020241</td>\n",
       "      <td>95.021118</td>\n",
       "    </tr>\n",
       "    <tr>\n",
       "      <th>75%</th>\n",
       "      <td>108.371209</td>\n",
       "      <td>109.294531</td>\n",
       "      <td>108.488998</td>\n",
       "    </tr>\n",
       "    <tr>\n",
       "      <th>max</th>\n",
       "      <td>180.386068</td>\n",
       "      <td>139.900372</td>\n",
       "      <td>176.829066</td>\n",
       "    </tr>\n",
       "  </tbody>\n",
       "</table>\n",
       "</div>"
      ],
      "text/plain": [
       "                  0             1             2\n",
       "count  25000.000000  25000.000000  25000.000000\n",
       "mean      92.563165     68.735369     95.131375\n",
       "std       23.302514     45.937693     19.975962\n",
       "min       -9.884474     -1.886341     11.976569\n",
       "25%       76.630112     28.509735     81.590296\n",
       "50%       92.624784     58.020241     95.021118\n",
       "75%      108.371209    109.294531    108.488998\n",
       "max      180.386068    139.900372    176.829066"
      ]
     },
     "execution_count": 14,
     "metadata": {},
     "output_type": "execute_result"
    }
   ],
   "source": [
    "pd.concat([prediction_0, prediction_1, prediction_2], axis=1).describe()"
   ]
  },
  {
   "cell_type": "markdown",
   "id": "1cacb6a5",
   "metadata": {},
   "source": [
    "Текущие выводы:\n",
    "- Предсказания по региону 2 имеют наименьшую ошибку. Очень близкую к нулю.\n",
    "- В тоже время, в отличии от регионов 0 и 2, здесь существенной ниже значение максимального запаса одной из скважин, а также низкий уровень запасов скважин в первых двух квартилях. Судя по графикам, регион 1 имеет иное распределение запасов нефти по скважинам.\n",
    "- Распределение запасов по скважинам регионов 0 и 2 похожи между собой."
   ]
  },
  {
   "cell_type": "markdown",
   "id": "b757f049",
   "metadata": {},
   "source": [
    "<a id = '4_prep_prof'></a>\n",
    "    \n",
    "<h1>4. Подготовка данных для расчета прибыли</h1>\n",
    "    \n",
    "[Содержание](#content)"
   ]
  },
  {
   "cell_type": "markdown",
   "id": "a90f2b29",
   "metadata": {},
   "source": [
    "Константы для дальнейших расчетов"
   ]
  },
  {
   "cell_type": "code",
   "execution_count": 15,
   "id": "32b145e9",
   "metadata": {},
   "outputs": [],
   "source": [
    "BUDGET = 10000000000\n",
    "SOME_500 = 500\n",
    "BEST_200 = 200\n",
    "PROFIT_BY_BARREL = 450000"
   ]
  },
  {
   "cell_type": "markdown",
   "id": "b42b2daa",
   "metadata": {},
   "source": [
    "Суммарный запас нефти в разрабатываемых скважинах в регионе, для безубыточного результата"
   ]
  },
  {
   "cell_type": "code",
   "execution_count": 16,
   "id": "b059b820",
   "metadata": {},
   "outputs": [
    {
     "data": {
      "text/plain": [
       "22222"
      ]
     },
     "execution_count": 16,
     "metadata": {},
     "output_type": "execute_result"
    }
   ],
   "source": [
    "min_prod_region = BUDGET // PROFIT_BY_BARREL\n",
    "min_prod_region"
   ]
  },
  {
   "cell_type": "markdown",
   "id": "d8546b29",
   "metadata": {},
   "source": [
    "Так как, согласно методике заказчика, для разработки в регионе отбирают 200 скважин, то минимальный средний запас нефти для каждой из скважин можно рассчитать так:"
   ]
  },
  {
   "cell_type": "code",
   "execution_count": 17,
   "id": "3408a389",
   "metadata": {},
   "outputs": [
    {
     "data": {
      "text/plain": [
       "111"
      ]
     },
     "execution_count": 17,
     "metadata": {},
     "output_type": "execute_result"
    }
   ],
   "source": [
    "min_product = BUDGET // PROFIT_BY_BARREL // BEST_200\n",
    "min_product"
   ]
  },
  {
   "cell_type": "code",
   "execution_count": 18,
   "id": "76bf5263",
   "metadata": {},
   "outputs": [
    {
     "data": {
      "text/html": [
       "<div>\n",
       "<style scoped>\n",
       "    .dataframe tbody tr th:only-of-type {\n",
       "        vertical-align: middle;\n",
       "    }\n",
       "\n",
       "    .dataframe tbody tr th {\n",
       "        vertical-align: top;\n",
       "    }\n",
       "\n",
       "    .dataframe thead th {\n",
       "        text-align: right;\n",
       "    }\n",
       "</style>\n",
       "<table border=\"1\" class=\"dataframe\">\n",
       "  <thead>\n",
       "    <tr style=\"text-align: right;\">\n",
       "      <th></th>\n",
       "      <th>0</th>\n",
       "      <th>1</th>\n",
       "      <th>2</th>\n",
       "    </tr>\n",
       "  </thead>\n",
       "  <tbody>\n",
       "    <tr>\n",
       "      <th>count</th>\n",
       "      <td>25000.000000</td>\n",
       "      <td>25000.000000</td>\n",
       "      <td>25000.000000</td>\n",
       "    </tr>\n",
       "    <tr>\n",
       "      <th>mean</th>\n",
       "      <td>92.563165</td>\n",
       "      <td>68.735369</td>\n",
       "      <td>95.131375</td>\n",
       "    </tr>\n",
       "    <tr>\n",
       "      <th>std</th>\n",
       "      <td>23.302514</td>\n",
       "      <td>45.937693</td>\n",
       "      <td>19.975962</td>\n",
       "    </tr>\n",
       "    <tr>\n",
       "      <th>min</th>\n",
       "      <td>-9.884474</td>\n",
       "      <td>-1.886341</td>\n",
       "      <td>11.976569</td>\n",
       "    </tr>\n",
       "    <tr>\n",
       "      <th>25%</th>\n",
       "      <td>76.630112</td>\n",
       "      <td>28.509735</td>\n",
       "      <td>81.590296</td>\n",
       "    </tr>\n",
       "    <tr>\n",
       "      <th>50%</th>\n",
       "      <td>92.624784</td>\n",
       "      <td>58.020241</td>\n",
       "      <td>95.021118</td>\n",
       "    </tr>\n",
       "    <tr>\n",
       "      <th>75%</th>\n",
       "      <td>108.371209</td>\n",
       "      <td>109.294531</td>\n",
       "      <td>108.488998</td>\n",
       "    </tr>\n",
       "    <tr>\n",
       "      <th>max</th>\n",
       "      <td>180.386068</td>\n",
       "      <td>139.900372</td>\n",
       "      <td>176.829066</td>\n",
       "    </tr>\n",
       "  </tbody>\n",
       "</table>\n",
       "</div>"
      ],
      "text/plain": [
       "                  0             1             2\n",
       "count  25000.000000  25000.000000  25000.000000\n",
       "mean      92.563165     68.735369     95.131375\n",
       "std       23.302514     45.937693     19.975962\n",
       "min       -9.884474     -1.886341     11.976569\n",
       "25%       76.630112     28.509735     81.590296\n",
       "50%       92.624784     58.020241     95.021118\n",
       "75%      108.371209    109.294531    108.488998\n",
       "max      180.386068    139.900372    176.829066"
      ]
     },
     "execution_count": 18,
     "metadata": {},
     "output_type": "execute_result"
    }
   ],
   "source": [
    "pd.concat([prediction_0, prediction_1, prediction_2], axis=1).describe()"
   ]
  },
  {
   "cell_type": "markdown",
   "id": "463c4426",
   "metadata": {},
   "source": [
    "Средний запас по каждому из регионов ниже полученного значения. Примерно 25% скважин в каждом из регионов содержат достаточный для безубыточной работы запас нефти. "
   ]
  },
  {
   "cell_type": "markdown",
   "id": "84f03205",
   "metadata": {},
   "source": [
    "<a id='profit_calc'></a>\n",
    "Функция расчета суммарной прибыли региона"
   ]
  },
  {
   "cell_type": "code",
   "execution_count": 48,
   "id": "28b2f947",
   "metadata": {},
   "outputs": [],
   "source": [
    "def profit_calc(predict, data):\n",
    "    best_indexes = predict.sort_values(ascending=False).head(BEST_200)\n",
    "    best_for_profit = data.loc[best_indexes.index]['product'].sum()\n",
    "    return int((best_for_profit * PROFIT_BY_BARREL - BUDGET) / 1000000)"
   ]
  },
  {
   "cell_type": "code",
   "execution_count": 49,
   "id": "34b3e033",
   "metadata": {},
   "outputs": [
    {
     "name": "stdout",
     "output_type": "stream",
     "text": [
      "Расчетная прибыль в наилучшем случае Региона 0, млн. руб.: 3245\n",
      "Расчетная прибыль в наилучшем случае Региона 1, млн. руб.: 2415\n",
      "Расчетная прибыль в наилучшем случае Региона 2, млн. руб.: 2395\n"
     ]
    }
   ],
   "source": [
    "print('Расчетная прибыль в наилучшем случае Региона 0, млн. руб.:', profit_calc(prediction_0, data_0))\n",
    "print('Расчетная прибыль в наилучшем случае Региона 1, млн. руб.:', profit_calc(prediction_1, data_1))\n",
    "print('Расчетная прибыль в наилучшем случае Региона 2, млн. руб.:', profit_calc(prediction_2, data_2))"
   ]
  },
  {
   "cell_type": "markdown",
   "id": "8e35e923",
   "metadata": {},
   "source": [
    "<a id = '5_bootstrap'></a>\n",
    "    \n",
    "<h1>5. Bootstrap</h1>\n",
    "    \n",
    "[Содержание](#content)"
   ]
  },
  {
   "cell_type": "markdown",
   "id": "c77db1da",
   "metadata": {},
   "source": [
    "Функция для генерации 1000 выборок и расчета прибыли региона исходя из каждой из этих выборок."
   ]
  },
  {
   "cell_type": "code",
   "execution_count": 50,
   "id": "1475758c",
   "metadata": {},
   "outputs": [],
   "source": [
    "def get_sample_profit(pred, data):\n",
    "    state = np.random.RandomState(8323)\n",
    "    sample = []\n",
    "    for i in range(1000):\n",
    "        prob = pred.sample(n=SOME_500, random_state=state, replace=True)\n",
    "        sample.append(profit_calc(prob, data))\n",
    "    return sample"
   ]
  },
  {
   "cell_type": "markdown",
   "id": "95118cc3",
   "metadata": {},
   "source": [
    "По каждому из регионов методом bootstrap рассчитаем среднюю выручку, доверительный интервал и вероятность убытков. Вероятность убытков определим, как доля выборок, среднее значение которых оказалось отрицательным."
   ]
  },
  {
   "cell_type": "code",
   "execution_count": 53,
   "id": "2b2f75c6",
   "metadata": {
    "scrolled": true
   },
   "outputs": [
    {
     "name": "stdout",
     "output_type": "stream",
     "text": [
      "==================================================\n",
      "Регион 0\n",
      "Средняя выручка: 454.631\n",
      "Доверительный интервал: -55 965\n",
      "Вероятность убытков: 4.4\n",
      "==================================================\n",
      "Регион 1\n",
      "Средняя выручка: 442.6\n",
      "Доверительный интервал: 68 831\n",
      "Вероятность убытков: 1.4\n",
      "==================================================\n",
      "Регион 2\n",
      "Средняя выручка: 349.572\n",
      "Доверительный интервал: -199 865\n",
      "Вероятность убытков: 10.4\n"
     ]
    }
   ],
   "source": [
    "i = 0\n",
    "\n",
    "for data, pred in zip([data_0, data_1, data_2], [prediction_0, prediction_1, prediction_2]):\n",
    "    sample = get_sample_profit(pred, data)\n",
    "    sample = pd.Series(sample)\n",
    "    print('='*50)\n",
    "    print('Регион', i)\n",
    "    i += 1\n",
    "    print('Средняя выручка:', sample.mean())\n",
    "    print('Доверительный интервал:', round(sample.quantile(.025)), round(sample.quantile(.975)))\n",
    "    loss = sample[sample < 0]\n",
    "    loss = loss.count() * 100 / sample.count()\n",
    "    print('Вероятность убытков:', loss)"
   ]
  },
  {
   "cell_type": "markdown",
   "id": "1c2265c4",
   "metadata": {},
   "source": [
    "Средняя выручка по методу bootstrap оказалась на порядок ниже максимально возможной в каждом из регионов. Что естественно."
   ]
  },
  {
   "cell_type": "markdown",
   "id": "4bcc7698",
   "metadata": {},
   "source": [
    "Исходя из полученных значений, для далнейшей разработки предлагается Регион 1. Так как вероятность убытков составил всего 1.4%."
   ]
  }
 ],
 "metadata": {
  "kernelspec": {
   "display_name": "Python 3 (ipykernel)",
   "language": "python",
   "name": "python3"
  },
  "language_info": {
   "codemirror_mode": {
    "name": "ipython",
    "version": 3
   },
   "file_extension": ".py",
   "mimetype": "text/x-python",
   "name": "python",
   "nbconvert_exporter": "python",
   "pygments_lexer": "ipython3",
   "version": "3.9.7"
  },
  "toc": {
   "base_numbering": 1,
   "nav_menu": {},
   "number_sections": true,
   "sideBar": true,
   "skip_h1_title": true,
   "title_cell": "Table of Contents",
   "title_sidebar": "Contents",
   "toc_cell": false,
   "toc_position": {},
   "toc_section_display": true,
   "toc_window_display": false
  }
 },
 "nbformat": 4,
 "nbformat_minor": 5
}
