{
 "cells": [
  {
   "cell_type": "markdown",
   "id": "d0b0d928",
   "metadata": {
    "toc": true
   },
   "source": [
    "<h1>Table of Contents<span class=\"tocSkip\"></span></h1>\n",
    "<div class=\"toc\"><ul class=\"toc-item\"><li><span><a href=\"#Цель-исследования\" data-toc-modified-id=\"Цель-исследования-1\"><span class=\"toc-item-num\">1&nbsp;&nbsp;</span>Цель исследования</a></span></li><li><span><a href=\"#Выгрузка-и-обзор-данных\" data-toc-modified-id=\"Выгрузка-и-обзор-данных-2\"><span class=\"toc-item-num\">2&nbsp;&nbsp;</span>Выгрузка и обзор данных</a></span><ul class=\"toc-item\"><li><span><a href=\"#Данные-о-голосовой-связи\" data-toc-modified-id=\"Данные-о-голосовой-связи-2.1\"><span class=\"toc-item-num\">2.1&nbsp;&nbsp;</span>Данные о голосовой связи</a></span></li><li><span><a href=\"#Данные-об-интернет-трафике\" data-toc-modified-id=\"Данные-об-интернет-трафике-2.2\"><span class=\"toc-item-num\">2.2&nbsp;&nbsp;</span>Данные об интернет-трафике</a></span></li><li><span><a href=\"#Данные-о-SMS\" data-toc-modified-id=\"Данные-о-SMS-2.3\"><span class=\"toc-item-num\">2.3&nbsp;&nbsp;</span>Данные о SMS</a></span></li><li><span><a href=\"#Данные-о-пользователях\" data-toc-modified-id=\"Данные-о-пользователях-2.4\"><span class=\"toc-item-num\">2.4&nbsp;&nbsp;</span>Данные о пользователях</a></span></li><li><span><a href=\"#Данные-о-тарифных-планах\" data-toc-modified-id=\"Данные-о-тарифных-планах-2.5\"><span class=\"toc-item-num\">2.5&nbsp;&nbsp;</span>Данные о тарифных планах</a></span></li></ul></li><li><span><a href=\"#Предобработка-и-подготовка-данных\" data-toc-modified-id=\"Предобработка-и-подготовка-данных-3\"><span class=\"toc-item-num\">3&nbsp;&nbsp;</span>Предобработка и подготовка данных</a></span><ul class=\"toc-item\"><li><span><a href=\"#Устранение-выявленных-ошибок.-Дополнение-данных\" data-toc-modified-id=\"Устранение-выявленных-ошибок.-Дополнение-данных-3.1\"><span class=\"toc-item-num\">3.1&nbsp;&nbsp;</span>Устранение выявленных ошибок. Дополнение данных</a></span><ul class=\"toc-item\"><li><span><a href=\"#Голосовая-связь\" data-toc-modified-id=\"Голосовая-связь-3.1.1\"><span class=\"toc-item-num\">3.1.1&nbsp;&nbsp;</span>Голосовая связь</a></span></li><li><span><a href=\"#Интернет-трафик\" data-toc-modified-id=\"Интернет-трафик-3.1.2\"><span class=\"toc-item-num\">3.1.2&nbsp;&nbsp;</span>Интернет-трафик</a></span></li><li><span><a href=\"#SMS\" data-toc-modified-id=\"SMS-3.1.3\"><span class=\"toc-item-num\">3.1.3&nbsp;&nbsp;</span>SMS</a></span></li><li><span><a href=\"#Данные-о-пользователях\" data-toc-modified-id=\"Данные-о-пользователях-3.1.4\"><span class=\"toc-item-num\">3.1.4&nbsp;&nbsp;</span>Данные о пользователях</a></span></li><li><span><a href=\"#Данные-о-тарифных-планах\" data-toc-modified-id=\"Данные-о-тарифных-планах-3.1.5\"><span class=\"toc-item-num\">3.1.5&nbsp;&nbsp;</span>Данные о тарифных планах</a></span></li></ul></li><li><span><a href=\"#Группировка-оказанных-услуг-по-отдельным-пользователям\" data-toc-modified-id=\"Группировка-оказанных-услуг-по-отдельным-пользователям-3.2\"><span class=\"toc-item-num\">3.2&nbsp;&nbsp;</span>Группировка оказанных услуг по отдельным пользователям</a></span><ul class=\"toc-item\"><li><span><a href=\"#Голосовая-связь\" data-toc-modified-id=\"Голосовая-связь-3.2.1\"><span class=\"toc-item-num\">3.2.1&nbsp;&nbsp;</span>Голосовая связь</a></span></li><li><span><a href=\"#Интернет-трафик\" data-toc-modified-id=\"Интернет-трафик-3.2.2\"><span class=\"toc-item-num\">3.2.2&nbsp;&nbsp;</span>Интернет-трафик</a></span></li><li><span><a href=\"#SMS\" data-toc-modified-id=\"SMS-3.2.3\"><span class=\"toc-item-num\">3.2.3&nbsp;&nbsp;</span>SMS</a></span></li></ul></li><li><span><a href=\"#Расчет-помесячной-выручки-по-каждому-пользователю\" data-toc-modified-id=\"Расчет-помесячной-выручки-по-каждому-пользователю-3.3\"><span class=\"toc-item-num\">3.3&nbsp;&nbsp;</span>Расчет помесячной выручки по каждому пользователю</a></span><ul class=\"toc-item\"><li><span><a href=\"#Голосовые-сообщения\" data-toc-modified-id=\"Голосовые-сообщения-3.3.1\"><span class=\"toc-item-num\">3.3.1&nbsp;&nbsp;</span>Голосовые сообщения</a></span></li><li><span><a href=\"#Интернет-трафик\" data-toc-modified-id=\"Интернет-трафик-3.3.2\"><span class=\"toc-item-num\">3.3.2&nbsp;&nbsp;</span>Интернет-трафик</a></span></li><li><span><a href=\"#SMS\" data-toc-modified-id=\"SMS-3.3.3\"><span class=\"toc-item-num\">3.3.3&nbsp;&nbsp;</span>SMS</a></span></li><li><span><a href=\"#Расчет-абонентской-платы\" data-toc-modified-id=\"Расчет-абонентской-платы-3.3.4\"><span class=\"toc-item-num\">3.3.4&nbsp;&nbsp;</span>Расчет абонентской платы</a></span></li><li><span><a href=\"#Расчет-по-каждому-пользователю-годовой-и-среднемесячной-выручки\" data-toc-modified-id=\"Расчет-по-каждому-пользователю-годовой-и-среднемесячной-выручки-3.3.5\"><span class=\"toc-item-num\">3.3.5&nbsp;&nbsp;</span>Расчет по каждому пользователю годовой и среднемесячной выручки</a></span></li></ul></li></ul></li><li><span><a href=\"#Анализ-данных\" data-toc-modified-id=\"Анализ-данных-4\"><span class=\"toc-item-num\">4&nbsp;&nbsp;</span>Анализ данных</a></span><ul class=\"toc-item\"><li><span><a href=\"#Голосовая-связь\" data-toc-modified-id=\"Голосовая-связь-4.1\"><span class=\"toc-item-num\">4.1&nbsp;&nbsp;</span>Голосовая связь</a></span></li><li><span><a href=\"#Интернет-тарфик\" data-toc-modified-id=\"Интернет-тарфик-4.2\"><span class=\"toc-item-num\">4.2&nbsp;&nbsp;</span>Интернет-тарфик</a></span></li><li><span><a href=\"#SMS\" data-toc-modified-id=\"SMS-4.3\"><span class=\"toc-item-num\">4.3&nbsp;&nbsp;</span>SMS</a></span></li><li><span><a href=\"#Среднемесячная-выручка-для-тарифов-ultra-и-smart\" data-toc-modified-id=\"Среднемесячная-выручка-для-тарифов-ultra-и-smart-4.4\"><span class=\"toc-item-num\">4.4&nbsp;&nbsp;</span>Среднемесячная выручка для тарифов ultra и smart</a></span></li><li><span><a href=\"#Среднемесячная-выручка-по-региональному-разделению\" data-toc-modified-id=\"Среднемесячная-выручка-по-региональному-разделению-4.5\"><span class=\"toc-item-num\">4.5&nbsp;&nbsp;</span>Среднемесячная выручка по региональному разделению</a></span></li><li><span><a href=\"#Выводы\" data-toc-modified-id=\"Выводы-4.6\"><span class=\"toc-item-num\">4.6&nbsp;&nbsp;</span>Выводы</a></span></li></ul></li></ul></div>"
   ]
  },
  {
   "cell_type": "markdown",
   "id": "30b7e0b7",
   "metadata": {},
   "source": [
    "## Цель исследования\n",
    "По предоставленным компанией данным определить наиболее выгодный для дальнейшего продвижения тариф.\n",
    "\n",
    "Чтобы скорректировать рекламный бюджет, коммерческий департамент хочет понять, какой тариф приносит больше денег.\n",
    "\n",
    "Нужно проанализировать поведение клиентов и сделать вывод — какой тариф лучше."
   ]
  },
  {
   "cell_type": "markdown",
   "id": "1901591a",
   "metadata": {},
   "source": [
    "## Выгрузка и обзор данных"
   ]
  },
  {
   "cell_type": "markdown",
   "id": "a1b126af",
   "metadata": {},
   "source": [
    "### Данные о голосовой связи"
   ]
  },
  {
   "cell_type": "code",
   "execution_count": 1,
   "id": "3b14bce7",
   "metadata": {
    "scrolled": true
   },
   "outputs": [],
   "source": [
    "import pandas as pd\n",
    "import numpy as np\n",
    "import matplotlib.pyplot as plt\n",
    "from scipy import stats as st"
   ]
  },
  {
   "cell_type": "code",
   "execution_count": 2,
   "id": "c6534798",
   "metadata": {
    "scrolled": true
   },
   "outputs": [],
   "source": [
    "#загрузка файлов\n",
    "# df_calls = pd.read_csv('/datasets/calls.csv') \n",
    "# df_inet = pd.read_csv('/datasets/internet.csv') \n",
    "# df_sms = pd.read_csv('/datasets/messages.csv') \n",
    "# df_tariffs = pd.read_csv('/datasets/tariffs.csv')\n",
    "# df_users = pd.read_csv('/datasets/users.csv') "
   ]
  },
  {
   "cell_type": "code",
   "execution_count": 3,
   "id": "3a9e0cb3",
   "metadata": {},
   "outputs": [
    {
     "data": {
      "text/html": [
       "<div>\n",
       "<style scoped>\n",
       "    .dataframe tbody tr th:only-of-type {\n",
       "        vertical-align: middle;\n",
       "    }\n",
       "\n",
       "    .dataframe tbody tr th {\n",
       "        vertical-align: top;\n",
       "    }\n",
       "\n",
       "    .dataframe thead th {\n",
       "        text-align: right;\n",
       "    }\n",
       "</style>\n",
       "<table border=\"1\" class=\"dataframe\">\n",
       "  <thead>\n",
       "    <tr style=\"text-align: right;\">\n",
       "      <th></th>\n",
       "      <th>id</th>\n",
       "      <th>call_date</th>\n",
       "      <th>duration</th>\n",
       "      <th>user_id</th>\n",
       "    </tr>\n",
       "  </thead>\n",
       "  <tbody>\n",
       "    <tr>\n",
       "      <th>0</th>\n",
       "      <td>1000_0</td>\n",
       "      <td>2018-07-25</td>\n",
       "      <td>0.00</td>\n",
       "      <td>1000</td>\n",
       "    </tr>\n",
       "    <tr>\n",
       "      <th>1</th>\n",
       "      <td>1000_1</td>\n",
       "      <td>2018-08-17</td>\n",
       "      <td>0.00</td>\n",
       "      <td>1000</td>\n",
       "    </tr>\n",
       "    <tr>\n",
       "      <th>2</th>\n",
       "      <td>1000_2</td>\n",
       "      <td>2018-06-11</td>\n",
       "      <td>2.85</td>\n",
       "      <td>1000</td>\n",
       "    </tr>\n",
       "    <tr>\n",
       "      <th>3</th>\n",
       "      <td>1000_3</td>\n",
       "      <td>2018-09-21</td>\n",
       "      <td>13.80</td>\n",
       "      <td>1000</td>\n",
       "    </tr>\n",
       "    <tr>\n",
       "      <th>4</th>\n",
       "      <td>1000_4</td>\n",
       "      <td>2018-12-15</td>\n",
       "      <td>5.18</td>\n",
       "      <td>1000</td>\n",
       "    </tr>\n",
       "  </tbody>\n",
       "</table>\n",
       "</div>"
      ],
      "text/plain": [
       "       id   call_date  duration  user_id\n",
       "0  1000_0  2018-07-25      0.00     1000\n",
       "1  1000_1  2018-08-17      0.00     1000\n",
       "2  1000_2  2018-06-11      2.85     1000\n",
       "3  1000_3  2018-09-21     13.80     1000\n",
       "4  1000_4  2018-12-15      5.18     1000"
      ]
     },
     "metadata": {},
     "output_type": "display_data"
    }
   ],
   "source": [
    "df_calls = pd.read_csv('/datasets/calls.csv')\n",
    "display(df_calls.head())"
   ]
  },
  {
   "cell_type": "code",
   "execution_count": 4,
   "id": "58e1f3a2",
   "metadata": {
    "scrolled": true
   },
   "outputs": [
    {
     "name": "stdout",
     "output_type": "stream",
     "text": [
      "<class 'pandas.core.frame.DataFrame'>\n",
      "RangeIndex: 202607 entries, 0 to 202606\n",
      "Data columns (total 4 columns):\n",
      " #   Column     Non-Null Count   Dtype  \n",
      "---  ------     --------------   -----  \n",
      " 0   id         202607 non-null  object \n",
      " 1   call_date  202607 non-null  object \n",
      " 2   duration   202607 non-null  float64\n",
      " 3   user_id    202607 non-null  int64  \n",
      "dtypes: float64(1), int64(1), object(2)\n",
      "memory usage: 6.2+ MB\n"
     ]
    }
   ],
   "source": [
    "df_calls.info()"
   ]
  },
  {
   "cell_type": "code",
   "execution_count": 5,
   "id": "58902529",
   "metadata": {},
   "outputs": [
    {
     "name": "stdout",
     "output_type": "stream",
     "text": [
      "Количество уникальных клиентов: 492\n",
      "Дата начала интервала: 2018-01-01\n",
      "Дата окончания интервала: 2018-12-31\n"
     ]
    },
    {
     "data": {
      "text/plain": [
       "count    202607.000000\n",
       "mean          6.755887\n",
       "std           5.843365\n",
       "min           0.000000\n",
       "25%           1.300000\n",
       "50%           6.000000\n",
       "75%          10.700000\n",
       "max          38.000000\n",
       "Name: duration, dtype: float64"
      ]
     },
     "execution_count": 5,
     "metadata": {},
     "output_type": "execute_result"
    }
   ],
   "source": [
    "print('Количество уникальных клиентов:',len(df_calls['user_id'].unique()))\n",
    "print('Дата начала интервала:',df_calls['call_date'].min())\n",
    "print('Дата окончания интервала:',df_calls['call_date'].max())\n",
    "df_calls['duration'].describe()"
   ]
  },
  {
   "cell_type": "markdown",
   "id": "ac317b89",
   "metadata": {},
   "source": [
    "- Число клиентов меньше 500, что соответствует описанию данных. \n",
    "- Дата начала и конца входят в один календарный год. \n",
    "- Пропущенных значений не обнаружено. \n",
    "- Минимальное значение длтительности вызова 0 минут. Согласно условиям это значение не стоит принимать за ошибку.  \n",
    "В базе звонков не наблюдается каких-либо явных ошибок."
   ]
  },
  {
   "cell_type": "markdown",
   "id": "b7a45974",
   "metadata": {},
   "source": [
    "### Данные об интернет-трафике"
   ]
  },
  {
   "cell_type": "code",
   "execution_count": 6,
   "id": "816a9120",
   "metadata": {},
   "outputs": [
    {
     "data": {
      "text/html": [
       "<div>\n",
       "<style scoped>\n",
       "    .dataframe tbody tr th:only-of-type {\n",
       "        vertical-align: middle;\n",
       "    }\n",
       "\n",
       "    .dataframe tbody tr th {\n",
       "        vertical-align: top;\n",
       "    }\n",
       "\n",
       "    .dataframe thead th {\n",
       "        text-align: right;\n",
       "    }\n",
       "</style>\n",
       "<table border=\"1\" class=\"dataframe\">\n",
       "  <thead>\n",
       "    <tr style=\"text-align: right;\">\n",
       "      <th></th>\n",
       "      <th>id</th>\n",
       "      <th>mb_used</th>\n",
       "      <th>session_date</th>\n",
       "      <th>user_id</th>\n",
       "    </tr>\n",
       "  </thead>\n",
       "  <tbody>\n",
       "    <tr>\n",
       "      <th>0</th>\n",
       "      <td>1000_0</td>\n",
       "      <td>112.95</td>\n",
       "      <td>2018-11-25</td>\n",
       "      <td>1000</td>\n",
       "    </tr>\n",
       "    <tr>\n",
       "      <th>1</th>\n",
       "      <td>1000_1</td>\n",
       "      <td>1052.81</td>\n",
       "      <td>2018-09-07</td>\n",
       "      <td>1000</td>\n",
       "    </tr>\n",
       "    <tr>\n",
       "      <th>2</th>\n",
       "      <td>1000_2</td>\n",
       "      <td>1197.26</td>\n",
       "      <td>2018-06-25</td>\n",
       "      <td>1000</td>\n",
       "    </tr>\n",
       "    <tr>\n",
       "      <th>3</th>\n",
       "      <td>1000_3</td>\n",
       "      <td>550.27</td>\n",
       "      <td>2018-08-22</td>\n",
       "      <td>1000</td>\n",
       "    </tr>\n",
       "    <tr>\n",
       "      <th>4</th>\n",
       "      <td>1000_4</td>\n",
       "      <td>302.56</td>\n",
       "      <td>2018-09-24</td>\n",
       "      <td>1000</td>\n",
       "    </tr>\n",
       "  </tbody>\n",
       "</table>\n",
       "</div>"
      ],
      "text/plain": [
       "       id  mb_used session_date  user_id\n",
       "0  1000_0   112.95   2018-11-25     1000\n",
       "1  1000_1  1052.81   2018-09-07     1000\n",
       "2  1000_2  1197.26   2018-06-25     1000\n",
       "3  1000_3   550.27   2018-08-22     1000\n",
       "4  1000_4   302.56   2018-09-24     1000"
      ]
     },
     "execution_count": 6,
     "metadata": {},
     "output_type": "execute_result"
    }
   ],
   "source": [
    "df_inet = pd.read_csv('/datasets/internet.csv', index_col=0)\n",
    "df_inet.head()"
   ]
  },
  {
   "cell_type": "code",
   "execution_count": 7,
   "id": "16fd9874",
   "metadata": {},
   "outputs": [
    {
     "name": "stdout",
     "output_type": "stream",
     "text": [
      "<class 'pandas.core.frame.DataFrame'>\n",
      "Int64Index: 149396 entries, 0 to 149395\n",
      "Data columns (total 4 columns):\n",
      " #   Column        Non-Null Count   Dtype  \n",
      "---  ------        --------------   -----  \n",
      " 0   id            149396 non-null  object \n",
      " 1   mb_used       149396 non-null  float64\n",
      " 2   session_date  149396 non-null  object \n",
      " 3   user_id       149396 non-null  int64  \n",
      "dtypes: float64(1), int64(1), object(2)\n",
      "memory usage: 5.7+ MB\n"
     ]
    }
   ],
   "source": [
    "df_inet.info()"
   ]
  },
  {
   "cell_type": "code",
   "execution_count": 8,
   "id": "e18da5d8",
   "metadata": {},
   "outputs": [
    {
     "name": "stdout",
     "output_type": "stream",
     "text": [
      "Количество уникальных клиентов: 497\n",
      "Дата начала интервала: 2018-01-01\n",
      "Дата окончания интервала: 2018-12-31\n"
     ]
    },
    {
     "data": {
      "text/plain": [
       "count    149396.000000\n",
       "mean        370.192426\n",
       "std         278.300951\n",
       "min           0.000000\n",
       "25%         138.187500\n",
       "50%         348.015000\n",
       "75%         559.552500\n",
       "max        1724.830000\n",
       "Name: mb_used, dtype: float64"
      ]
     },
     "execution_count": 8,
     "metadata": {},
     "output_type": "execute_result"
    }
   ],
   "source": [
    "print('Количество уникальных клиентов:',len(df_inet['user_id'].unique()))\n",
    "print('Дата начала интервала:',df_inet['session_date'].min())\n",
    "print('Дата окончания интервала:',df_inet['session_date'].max())\n",
    "df_inet['mb_used'].describe()"
   ]
  },
  {
   "cell_type": "code",
   "execution_count": 9,
   "id": "b1acdfe9",
   "metadata": {
    "scrolled": true
   },
   "outputs": [],
   "source": [
    "#print(df_inet['Unnamed: 0'])"
   ]
  },
  {
   "cell_type": "markdown",
   "id": "3c1ecae6",
   "metadata": {},
   "source": [
    "- Данные о пользователях и датах совпадают с их описанием. \n",
    "- О значении полученого трафика в объеме 0 МБ в условиях не говорится. Возможно это несостоявшиеся соединения, и данные строки не несут необходимого для анализа смысла.\n",
    "\n",
    "Более не актуально:\n",
    "- Столбец ```'Unnamed: 0'```, по-видимому, является ошибочно дублированным столбцом индексов. "
   ]
  },
  {
   "cell_type": "markdown",
   "id": "537ba00b",
   "metadata": {},
   "source": [
    "### Данные о SMS"
   ]
  },
  {
   "cell_type": "code",
   "execution_count": 10,
   "id": "bee5a7d6",
   "metadata": {
    "scrolled": true
   },
   "outputs": [
    {
     "data": {
      "text/html": [
       "<div>\n",
       "<style scoped>\n",
       "    .dataframe tbody tr th:only-of-type {\n",
       "        vertical-align: middle;\n",
       "    }\n",
       "\n",
       "    .dataframe tbody tr th {\n",
       "        vertical-align: top;\n",
       "    }\n",
       "\n",
       "    .dataframe thead th {\n",
       "        text-align: right;\n",
       "    }\n",
       "</style>\n",
       "<table border=\"1\" class=\"dataframe\">\n",
       "  <thead>\n",
       "    <tr style=\"text-align: right;\">\n",
       "      <th></th>\n",
       "      <th>id</th>\n",
       "      <th>message_date</th>\n",
       "      <th>user_id</th>\n",
       "    </tr>\n",
       "  </thead>\n",
       "  <tbody>\n",
       "    <tr>\n",
       "      <th>0</th>\n",
       "      <td>1000_0</td>\n",
       "      <td>2018-06-27</td>\n",
       "      <td>1000</td>\n",
       "    </tr>\n",
       "    <tr>\n",
       "      <th>1</th>\n",
       "      <td>1000_1</td>\n",
       "      <td>2018-10-08</td>\n",
       "      <td>1000</td>\n",
       "    </tr>\n",
       "    <tr>\n",
       "      <th>2</th>\n",
       "      <td>1000_2</td>\n",
       "      <td>2018-08-04</td>\n",
       "      <td>1000</td>\n",
       "    </tr>\n",
       "    <tr>\n",
       "      <th>3</th>\n",
       "      <td>1000_3</td>\n",
       "      <td>2018-06-16</td>\n",
       "      <td>1000</td>\n",
       "    </tr>\n",
       "    <tr>\n",
       "      <th>4</th>\n",
       "      <td>1000_4</td>\n",
       "      <td>2018-12-05</td>\n",
       "      <td>1000</td>\n",
       "    </tr>\n",
       "  </tbody>\n",
       "</table>\n",
       "</div>"
      ],
      "text/plain": [
       "       id message_date  user_id\n",
       "0  1000_0   2018-06-27     1000\n",
       "1  1000_1   2018-10-08     1000\n",
       "2  1000_2   2018-08-04     1000\n",
       "3  1000_3   2018-06-16     1000\n",
       "4  1000_4   2018-12-05     1000"
      ]
     },
     "execution_count": 10,
     "metadata": {},
     "output_type": "execute_result"
    }
   ],
   "source": [
    "df_sms = pd.read_csv('/datasets/messages.csv')\n",
    "df_sms.head()"
   ]
  },
  {
   "cell_type": "code",
   "execution_count": 11,
   "id": "45f1b028",
   "metadata": {},
   "outputs": [
    {
     "name": "stdout",
     "output_type": "stream",
     "text": [
      "<class 'pandas.core.frame.DataFrame'>\n",
      "RangeIndex: 123036 entries, 0 to 123035\n",
      "Data columns (total 3 columns):\n",
      " #   Column        Non-Null Count   Dtype \n",
      "---  ------        --------------   ----- \n",
      " 0   id            123036 non-null  object\n",
      " 1   message_date  123036 non-null  object\n",
      " 2   user_id       123036 non-null  int64 \n",
      "dtypes: int64(1), object(2)\n",
      "memory usage: 2.8+ MB\n"
     ]
    }
   ],
   "source": [
    "df_sms.info()"
   ]
  },
  {
   "cell_type": "code",
   "execution_count": 12,
   "id": "a63b4b1a",
   "metadata": {},
   "outputs": [
    {
     "name": "stdout",
     "output_type": "stream",
     "text": [
      "Количество уникальных клиентов: 426\n",
      "Дата начала интервала: 2018-01-02\n",
      "Дата окончания интервала: 2018-12-31\n"
     ]
    }
   ],
   "source": [
    "print('Количество уникальных клиентов:',len(df_sms['user_id'].unique()))\n",
    "print('Дата начала интервала:',df_sms['message_date'].min())\n",
    "print('Дата окончания интервала:',df_sms['message_date'].max())"
   ]
  },
  {
   "cell_type": "markdown",
   "id": "fe33d1a1",
   "metadata": {},
   "source": [
    "- Число уникальных клиентов в пределах заявленных.\n",
    "- Даты интервала совпадают с заявленными. Но почему-то начинаются не с 01, а с 02 января 2018. Учитывая особенность даты предполагается ошибочная выгрузка (неверно заданный интервал). Если сможем подтвердить, то число дней необходимо будет учесть при подсчете среднего числа сообщений в день."
   ]
  },
  {
   "cell_type": "markdown",
   "id": "c46da37e",
   "metadata": {},
   "source": [
    "### Данные о пользователях"
   ]
  },
  {
   "cell_type": "code",
   "execution_count": 13,
   "id": "a8d62b20",
   "metadata": {
    "scrolled": true
   },
   "outputs": [
    {
     "data": {
      "text/html": [
       "<div>\n",
       "<style scoped>\n",
       "    .dataframe tbody tr th:only-of-type {\n",
       "        vertical-align: middle;\n",
       "    }\n",
       "\n",
       "    .dataframe tbody tr th {\n",
       "        vertical-align: top;\n",
       "    }\n",
       "\n",
       "    .dataframe thead th {\n",
       "        text-align: right;\n",
       "    }\n",
       "</style>\n",
       "<table border=\"1\" class=\"dataframe\">\n",
       "  <thead>\n",
       "    <tr style=\"text-align: right;\">\n",
       "      <th></th>\n",
       "      <th>user_id</th>\n",
       "      <th>age</th>\n",
       "      <th>churn_date</th>\n",
       "      <th>city</th>\n",
       "      <th>first_name</th>\n",
       "      <th>last_name</th>\n",
       "      <th>reg_date</th>\n",
       "      <th>tariff</th>\n",
       "    </tr>\n",
       "  </thead>\n",
       "  <tbody>\n",
       "    <tr>\n",
       "      <th>0</th>\n",
       "      <td>1000</td>\n",
       "      <td>52</td>\n",
       "      <td>NaN</td>\n",
       "      <td>Краснодар</td>\n",
       "      <td>Рафаил</td>\n",
       "      <td>Верещагин</td>\n",
       "      <td>2018-05-25</td>\n",
       "      <td>ultra</td>\n",
       "    </tr>\n",
       "    <tr>\n",
       "      <th>1</th>\n",
       "      <td>1001</td>\n",
       "      <td>41</td>\n",
       "      <td>NaN</td>\n",
       "      <td>Москва</td>\n",
       "      <td>Иван</td>\n",
       "      <td>Ежов</td>\n",
       "      <td>2018-11-01</td>\n",
       "      <td>smart</td>\n",
       "    </tr>\n",
       "    <tr>\n",
       "      <th>2</th>\n",
       "      <td>1002</td>\n",
       "      <td>59</td>\n",
       "      <td>NaN</td>\n",
       "      <td>Стерлитамак</td>\n",
       "      <td>Евгений</td>\n",
       "      <td>Абрамович</td>\n",
       "      <td>2018-06-17</td>\n",
       "      <td>smart</td>\n",
       "    </tr>\n",
       "    <tr>\n",
       "      <th>3</th>\n",
       "      <td>1003</td>\n",
       "      <td>23</td>\n",
       "      <td>NaN</td>\n",
       "      <td>Москва</td>\n",
       "      <td>Белла</td>\n",
       "      <td>Белякова</td>\n",
       "      <td>2018-08-17</td>\n",
       "      <td>ultra</td>\n",
       "    </tr>\n",
       "    <tr>\n",
       "      <th>4</th>\n",
       "      <td>1004</td>\n",
       "      <td>68</td>\n",
       "      <td>NaN</td>\n",
       "      <td>Новокузнецк</td>\n",
       "      <td>Татьяна</td>\n",
       "      <td>Авдеенко</td>\n",
       "      <td>2018-05-14</td>\n",
       "      <td>ultra</td>\n",
       "    </tr>\n",
       "  </tbody>\n",
       "</table>\n",
       "</div>"
      ],
      "text/plain": [
       "   user_id  age churn_date         city first_name  last_name    reg_date  \\\n",
       "0     1000   52        NaN    Краснодар     Рафаил  Верещагин  2018-05-25   \n",
       "1     1001   41        NaN       Москва       Иван       Ежов  2018-11-01   \n",
       "2     1002   59        NaN  Стерлитамак    Евгений  Абрамович  2018-06-17   \n",
       "3     1003   23        NaN       Москва      Белла   Белякова  2018-08-17   \n",
       "4     1004   68        NaN  Новокузнецк    Татьяна   Авдеенко  2018-05-14   \n",
       "\n",
       "  tariff  \n",
       "0  ultra  \n",
       "1  smart  \n",
       "2  smart  \n",
       "3  ultra  \n",
       "4  ultra  "
      ]
     },
     "execution_count": 13,
     "metadata": {},
     "output_type": "execute_result"
    }
   ],
   "source": [
    "df_users = pd.read_csv('/datasets/users.csv')\n",
    "df_users.head()"
   ]
  },
  {
   "cell_type": "code",
   "execution_count": 14,
   "id": "62390d46",
   "metadata": {},
   "outputs": [
    {
     "name": "stdout",
     "output_type": "stream",
     "text": [
      "<class 'pandas.core.frame.DataFrame'>\n",
      "RangeIndex: 500 entries, 0 to 499\n",
      "Data columns (total 8 columns):\n",
      " #   Column      Non-Null Count  Dtype \n",
      "---  ------      --------------  ----- \n",
      " 0   user_id     500 non-null    int64 \n",
      " 1   age         500 non-null    int64 \n",
      " 2   churn_date  38 non-null     object\n",
      " 3   city        500 non-null    object\n",
      " 4   first_name  500 non-null    object\n",
      " 5   last_name   500 non-null    object\n",
      " 6   reg_date    500 non-null    object\n",
      " 7   tariff      500 non-null    object\n",
      "dtypes: int64(2), object(6)\n",
      "memory usage: 31.4+ KB\n"
     ]
    }
   ],
   "source": [
    "df_users.info()"
   ]
  },
  {
   "cell_type": "code",
   "execution_count": 15,
   "id": "73432931",
   "metadata": {},
   "outputs": [
    {
     "name": "stdout",
     "output_type": "stream",
     "text": [
      "Количество уникальных клиентов: 500\n",
      "Дата начала интервала: 2018-01-01\n",
      "Дата начала интервала: 2018-12-31\n"
     ]
    }
   ],
   "source": [
    "print('Количество уникальных клиентов:',len(df_users['user_id'].unique()))\n",
    "print('Дата начала интервала:',df_users['reg_date'].min())\n",
    "print('Дата начала интервала:',df_users['reg_date'].max())"
   ]
  },
  {
   "cell_type": "code",
   "execution_count": 16,
   "id": "3033c515",
   "metadata": {},
   "outputs": [
    {
     "name": "stdout",
     "output_type": "stream",
     "text": [
      "Описание столбца [age]:\n"
     ]
    },
    {
     "data": {
      "text/plain": [
       "count    500.00000\n",
       "mean      46.58800\n",
       "std       16.66763\n",
       "min       18.00000\n",
       "25%       32.00000\n",
       "50%       46.00000\n",
       "75%       62.00000\n",
       "max       75.00000\n",
       "Name: age, dtype: float64"
      ]
     },
     "execution_count": 16,
     "metadata": {},
     "output_type": "execute_result"
    }
   ],
   "source": [
    "print('Описание столбца [age]:')\n",
    "df_users['age'].describe()"
   ]
  },
  {
   "cell_type": "code",
   "execution_count": 17,
   "id": "b0129ce9",
   "metadata": {},
   "outputs": [
    {
     "name": "stdout",
     "output_type": "stream",
     "text": [
      "Уникальные значения тарифов:\n"
     ]
    },
    {
     "data": {
      "text/plain": [
       "smart    351\n",
       "ultra    149\n",
       "Name: tariff, dtype: int64"
      ]
     },
     "execution_count": 17,
     "metadata": {},
     "output_type": "execute_result"
    }
   ],
   "source": [
    "print('Уникальные значения тарифов:')\n",
    "df_users['tariff'].value_counts()"
   ]
  },
  {
   "cell_type": "markdown",
   "id": "c8500ac0",
   "metadata": {},
   "source": [
    "- Данные по количеству и качеству сходятся с их описанием. \n",
    "- Возраст пользователей находится в разумных пределах. \n",
    "- Количество и названия тарифов совпадают с заявленными."
   ]
  },
  {
   "cell_type": "markdown",
   "id": "b80c0a65",
   "metadata": {},
   "source": [
    "### Данные о тарифных планах"
   ]
  },
  {
   "cell_type": "code",
   "execution_count": 18,
   "id": "d8906c75",
   "metadata": {},
   "outputs": [
    {
     "data": {
      "text/html": [
       "<div>\n",
       "<style scoped>\n",
       "    .dataframe tbody tr th:only-of-type {\n",
       "        vertical-align: middle;\n",
       "    }\n",
       "\n",
       "    .dataframe tbody tr th {\n",
       "        vertical-align: top;\n",
       "    }\n",
       "\n",
       "    .dataframe thead th {\n",
       "        text-align: right;\n",
       "    }\n",
       "</style>\n",
       "<table border=\"1\" class=\"dataframe\">\n",
       "  <thead>\n",
       "    <tr style=\"text-align: right;\">\n",
       "      <th></th>\n",
       "      <th>messages_included</th>\n",
       "      <th>mb_per_month_included</th>\n",
       "      <th>minutes_included</th>\n",
       "      <th>rub_monthly_fee</th>\n",
       "      <th>rub_per_gb</th>\n",
       "      <th>rub_per_message</th>\n",
       "      <th>rub_per_minute</th>\n",
       "      <th>tariff_name</th>\n",
       "    </tr>\n",
       "  </thead>\n",
       "  <tbody>\n",
       "    <tr>\n",
       "      <th>0</th>\n",
       "      <td>50</td>\n",
       "      <td>15360</td>\n",
       "      <td>500</td>\n",
       "      <td>550</td>\n",
       "      <td>200</td>\n",
       "      <td>3</td>\n",
       "      <td>3</td>\n",
       "      <td>smart</td>\n",
       "    </tr>\n",
       "    <tr>\n",
       "      <th>1</th>\n",
       "      <td>1000</td>\n",
       "      <td>30720</td>\n",
       "      <td>3000</td>\n",
       "      <td>1950</td>\n",
       "      <td>150</td>\n",
       "      <td>1</td>\n",
       "      <td>1</td>\n",
       "      <td>ultra</td>\n",
       "    </tr>\n",
       "  </tbody>\n",
       "</table>\n",
       "</div>"
      ],
      "text/plain": [
       "   messages_included  mb_per_month_included  minutes_included  \\\n",
       "0                 50                  15360               500   \n",
       "1               1000                  30720              3000   \n",
       "\n",
       "   rub_monthly_fee  rub_per_gb  rub_per_message  rub_per_minute tariff_name  \n",
       "0              550         200                3               3       smart  \n",
       "1             1950         150                1               1       ultra  "
      ]
     },
     "execution_count": 18,
     "metadata": {},
     "output_type": "execute_result"
    }
   ],
   "source": [
    "df_tariffs = pd.read_csv('/datasets/tariffs.csv')\n",
    "df_tariffs"
   ]
  },
  {
   "cell_type": "markdown",
   "id": "ae55b74d",
   "metadata": {},
   "source": [
    "- Все значения совпадают с заявленными. Ошибок нет."
   ]
  },
  {
   "cell_type": "code",
   "execution_count": 19,
   "id": "b7786c58",
   "metadata": {},
   "outputs": [
    {
     "data": {
      "text/html": [
       "<div>\n",
       "<style scoped>\n",
       "    .dataframe tbody tr th:only-of-type {\n",
       "        vertical-align: middle;\n",
       "    }\n",
       "\n",
       "    .dataframe tbody tr th {\n",
       "        vertical-align: top;\n",
       "    }\n",
       "\n",
       "    .dataframe thead th {\n",
       "        text-align: right;\n",
       "    }\n",
       "</style>\n",
       "<table border=\"1\" class=\"dataframe\">\n",
       "  <thead>\n",
       "    <tr style=\"text-align: right;\">\n",
       "      <th></th>\n",
       "      <th>id</th>\n",
       "      <th>user_id</th>\n",
       "    </tr>\n",
       "  </thead>\n",
       "  <tbody>\n",
       "    <tr>\n",
       "      <th>202607</th>\n",
       "      <td>NaN</td>\n",
       "      <td>1091</td>\n",
       "    </tr>\n",
       "    <tr>\n",
       "      <th>202608</th>\n",
       "      <td>NaN</td>\n",
       "      <td>1106</td>\n",
       "    </tr>\n",
       "    <tr>\n",
       "      <th>202609</th>\n",
       "      <td>NaN</td>\n",
       "      <td>1128</td>\n",
       "    </tr>\n",
       "    <tr>\n",
       "      <th>202610</th>\n",
       "      <td>NaN</td>\n",
       "      <td>1231</td>\n",
       "    </tr>\n",
       "    <tr>\n",
       "      <th>202611</th>\n",
       "      <td>NaN</td>\n",
       "      <td>1328</td>\n",
       "    </tr>\n",
       "    <tr>\n",
       "      <th>202612</th>\n",
       "      <td>NaN</td>\n",
       "      <td>1371</td>\n",
       "    </tr>\n",
       "    <tr>\n",
       "      <th>202613</th>\n",
       "      <td>NaN</td>\n",
       "      <td>1473</td>\n",
       "    </tr>\n",
       "    <tr>\n",
       "      <th>202614</th>\n",
       "      <td>NaN</td>\n",
       "      <td>1489</td>\n",
       "    </tr>\n",
       "  </tbody>\n",
       "</table>\n",
       "</div>"
      ],
      "text/plain": [
       "         id  user_id\n",
       "202607  NaN     1091\n",
       "202608  NaN     1106\n",
       "202609  NaN     1128\n",
       "202610  NaN     1231\n",
       "202611  NaN     1328\n",
       "202612  NaN     1371\n",
       "202613  NaN     1473\n",
       "202614  NaN     1489"
      ]
     },
     "execution_count": 19,
     "metadata": {},
     "output_type": "execute_result"
    }
   ],
   "source": [
    "df_calls_empty = df_calls.merge(df_users[['user_id']], on='user_id', how='outer')[['id','user_id']]\n",
    "df_calls_empty = df_calls_empty[df_calls_empty['id'].isna() == True]\n",
    "df_calls_empty"
   ]
  },
  {
   "cell_type": "code",
   "execution_count": 20,
   "id": "114aee7a",
   "metadata": {},
   "outputs": [
    {
     "data": {
      "text/html": [
       "<div>\n",
       "<style scoped>\n",
       "    .dataframe tbody tr th:only-of-type {\n",
       "        vertical-align: middle;\n",
       "    }\n",
       "\n",
       "    .dataframe tbody tr th {\n",
       "        vertical-align: top;\n",
       "    }\n",
       "\n",
       "    .dataframe thead th {\n",
       "        text-align: right;\n",
       "    }\n",
       "</style>\n",
       "<table border=\"1\" class=\"dataframe\">\n",
       "  <thead>\n",
       "    <tr style=\"text-align: right;\">\n",
       "      <th></th>\n",
       "      <th>id</th>\n",
       "      <th>user_id</th>\n",
       "    </tr>\n",
       "  </thead>\n",
       "  <tbody>\n",
       "    <tr>\n",
       "      <th>149396</th>\n",
       "      <td>NaN</td>\n",
       "      <td>1128</td>\n",
       "    </tr>\n",
       "    <tr>\n",
       "      <th>149397</th>\n",
       "      <td>NaN</td>\n",
       "      <td>1273</td>\n",
       "    </tr>\n",
       "    <tr>\n",
       "      <th>149398</th>\n",
       "      <td>NaN</td>\n",
       "      <td>1371</td>\n",
       "    </tr>\n",
       "  </tbody>\n",
       "</table>\n",
       "</div>"
      ],
      "text/plain": [
       "         id  user_id\n",
       "149396  NaN     1128\n",
       "149397  NaN     1273\n",
       "149398  NaN     1371"
      ]
     },
     "execution_count": 20,
     "metadata": {},
     "output_type": "execute_result"
    }
   ],
   "source": [
    "df_inet_empty = df_inet.merge(df_users['user_id'], on='user_id', how='outer')[['id','user_id']]\n",
    "df_inet_empty = df_inet_empty[df_inet_empty['id'].isna()==True]\n",
    "df_inet_empty"
   ]
  },
  {
   "cell_type": "code",
   "execution_count": 21,
   "id": "66c57326",
   "metadata": {},
   "outputs": [
    {
     "data": {
      "text/plain": [
       "id             0\n",
       "user_id       74\n",
       "churn_date     9\n",
       "reg_date      74\n",
       "dtype: int64"
      ]
     },
     "execution_count": 21,
     "metadata": {},
     "output_type": "execute_result"
    }
   ],
   "source": [
    "df_sms_empty = df_sms.merge(df_users[['user_id','churn_date','reg_date']], \n",
    "                            on='user_id', how='outer')[['id','user_id','churn_date','reg_date']]\n",
    "df_sms_empty = df_sms_empty[df_sms_empty['id'].isna()==True]\n",
    "df_sms_empty.count()"
   ]
  },
  {
   "cell_type": "code",
   "execution_count": 22,
   "id": "57f62f49",
   "metadata": {},
   "outputs": [
    {
     "data": {
      "text/html": [
       "<div>\n",
       "<style scoped>\n",
       "    .dataframe tbody tr th:only-of-type {\n",
       "        vertical-align: middle;\n",
       "    }\n",
       "\n",
       "    .dataframe tbody tr th {\n",
       "        vertical-align: top;\n",
       "    }\n",
       "\n",
       "    .dataframe thead th {\n",
       "        text-align: right;\n",
       "    }\n",
       "</style>\n",
       "<table border=\"1\" class=\"dataframe\">\n",
       "  <thead>\n",
       "    <tr style=\"text-align: right;\">\n",
       "      <th></th>\n",
       "      <th>id_x</th>\n",
       "      <th>user_id</th>\n",
       "      <th>id_y</th>\n",
       "      <th>id</th>\n",
       "      <th>churn_date</th>\n",
       "      <th>reg_date</th>\n",
       "    </tr>\n",
       "  </thead>\n",
       "  <tbody>\n",
       "    <tr>\n",
       "      <th>0</th>\n",
       "      <td>NaN</td>\n",
       "      <td>1128</td>\n",
       "      <td>NaN</td>\n",
       "      <td>NaN</td>\n",
       "      <td>2018-12-23</td>\n",
       "      <td>2018-12-15</td>\n",
       "    </tr>\n",
       "    <tr>\n",
       "      <th>1</th>\n",
       "      <td>NaN</td>\n",
       "      <td>1371</td>\n",
       "      <td>NaN</td>\n",
       "      <td>NaN</td>\n",
       "      <td>2018-12-30</td>\n",
       "      <td>2018-12-25</td>\n",
       "    </tr>\n",
       "  </tbody>\n",
       "</table>\n",
       "</div>"
      ],
      "text/plain": [
       "  id_x  user_id id_y   id  churn_date    reg_date\n",
       "0  NaN     1128  NaN  NaN  2018-12-23  2018-12-15\n",
       "1  NaN     1371  NaN  NaN  2018-12-30  2018-12-25"
      ]
     },
     "execution_count": 22,
     "metadata": {},
     "output_type": "execute_result"
    }
   ],
   "source": [
    "df_calls_empty.merge(df_inet_empty, on='user_id').merge(df_sms_empty, on='user_id')"
   ]
  },
  {
   "cell_type": "markdown",
   "id": "3d8e6079",
   "metadata": {},
   "source": [
    "Число абонентов, которые не воспользовались за рассматриваемый период услугами:\n",
    "- 8 голосовой связью;\n",
    "- 3 интернет;\n",
    "- 74 смс    \n",
    "Причем обнаружено двое клиентов, не воспользовавшихся ни одной из услуг."
   ]
  },
  {
   "cell_type": "markdown",
   "id": "ccf99bd0",
   "metadata": {},
   "source": [
    "## Предобработка и подготовка данных"
   ]
  },
  {
   "cell_type": "markdown",
   "id": "a6ee05d3",
   "metadata": {},
   "source": [
    "### Устранение выявленных ошибок. Дополнение данных"
   ]
  },
  {
   "cell_type": "markdown",
   "id": "e5fffd39",
   "metadata": {},
   "source": [
    "#### Голосовая связь"
   ]
  },
  {
   "cell_type": "markdown",
   "id": "70bcfb00",
   "metadata": {},
   "source": [
    "- Привеедм типы данных столбцов user_id и duration к 32-разрядным величинам, для более экономного расхода памяти.\n",
    "- Так как необходимо будет обращаться к месяцам, приведем call_date к типу Datetime.\n",
    "- Добавляем столбец со значением месяца call_moth\n",
    "- Округлим длительность голсового соединения до большего целого значения."
   ]
  },
  {
   "cell_type": "code",
   "execution_count": 23,
   "id": "fa78c858",
   "metadata": {},
   "outputs": [],
   "source": [
    "df_calls['user_id'] = df_calls['user_id'].astype('int32')\n",
    "df_calls['duration'] = df_calls['duration'].astype('float32')\n",
    "df_calls['call_date'] = pd.to_datetime(df_calls['call_date'], format='%Y-%m-%d')\n",
    "df_calls['call_month'] = pd.DatetimeIndex(df_calls['call_date']).month\n",
    "df_calls['call_month'] = df_calls['call_month'].astype('int32')"
   ]
  },
  {
   "cell_type": "code",
   "execution_count": 24,
   "id": "f08effa6",
   "metadata": {},
   "outputs": [],
   "source": [
    "# df_calls['duration'] = df_calls['duration'].apply(np.ceil).astype('int32')\n",
    "# df_calls['duration']\n",
    "\n",
    "# Исправился\n",
    "df_calls['duration'] = np.ceil(df_calls['duration']).astype('int32')"
   ]
  },
  {
   "cell_type": "code",
   "execution_count": 25,
   "id": "670f6de0",
   "metadata": {},
   "outputs": [
    {
     "name": "stdout",
     "output_type": "stream",
     "text": [
      "<class 'pandas.core.frame.DataFrame'>\n",
      "RangeIndex: 202607 entries, 0 to 202606\n",
      "Data columns (total 5 columns):\n",
      " #   Column      Non-Null Count   Dtype         \n",
      "---  ------      --------------   -----         \n",
      " 0   id          202607 non-null  object        \n",
      " 1   call_date   202607 non-null  datetime64[ns]\n",
      " 2   duration    202607 non-null  int32         \n",
      " 3   user_id     202607 non-null  int32         \n",
      " 4   call_month  202607 non-null  int32         \n",
      "dtypes: datetime64[ns](1), int32(3), object(1)\n",
      "memory usage: 5.4+ MB\n"
     ]
    }
   ],
   "source": [
    "df_calls.info()"
   ]
  },
  {
   "cell_type": "markdown",
   "id": "5dca227e",
   "metadata": {},
   "source": [
    "#### Интернет-трафик"
   ]
  },
  {
   "cell_type": "markdown",
   "id": "5b7a79ff",
   "metadata": {},
   "source": [
    "- Приведем данные mb_used b user_id к 32-разрядым типам. Для более экономного расхода памяти.\n",
    "- Так же приведем дату к типу datetime. Добавим столбец со значением месяца session_month."
   ]
  },
  {
   "cell_type": "code",
   "execution_count": 26,
   "id": "d3acec04",
   "metadata": {},
   "outputs": [],
   "source": [
    "df_inet['mb_used'] = df_inet['mb_used'].astype('float32')\n",
    "df_inet['user_id'] = df_inet['user_id'].astype('int32')\n",
    "df_inet['session_date'] = pd.to_datetime(df_inet['session_date'], format='%Y-%m-%d')\n",
    "df_inet['session_month'] = pd.DatetimeIndex(df_inet['session_date']).month\n",
    "df_inet['session_month'] = df_inet['session_month'].astype('int32')"
   ]
  },
  {
   "cell_type": "markdown",
   "id": "9b1a6d4e",
   "metadata": {},
   "source": [
    "Были обнаружены строки с размером полученого трафика 0 mb. Так как такие строки не несут полезной информации - удалим их."
   ]
  },
  {
   "cell_type": "code",
   "execution_count": 29,
   "id": "1adf3dbe",
   "metadata": {
    "scrolled": true
   },
   "outputs": [],
   "source": [
    "mask = df_inet['mb_used'] == 0\n",
    "df_inet = df_inet[~mask]"
   ]
  },
  {
   "cell_type": "code",
   "execution_count": 30,
   "id": "165e7b2c",
   "metadata": {},
   "outputs": [
    {
     "data": {
      "text/html": [
       "<div>\n",
       "<style scoped>\n",
       "    .dataframe tbody tr th:only-of-type {\n",
       "        vertical-align: middle;\n",
       "    }\n",
       "\n",
       "    .dataframe tbody tr th {\n",
       "        vertical-align: top;\n",
       "    }\n",
       "\n",
       "    .dataframe thead th {\n",
       "        text-align: right;\n",
       "    }\n",
       "</style>\n",
       "<table border=\"1\" class=\"dataframe\">\n",
       "  <thead>\n",
       "    <tr style=\"text-align: right;\">\n",
       "      <th></th>\n",
       "      <th>id</th>\n",
       "      <th>mb_used</th>\n",
       "      <th>session_date</th>\n",
       "      <th>user_id</th>\n",
       "      <th>session_month</th>\n",
       "    </tr>\n",
       "  </thead>\n",
       "  <tbody>\n",
       "    <tr>\n",
       "      <th>0</th>\n",
       "      <td>1000_0</td>\n",
       "      <td>112.949997</td>\n",
       "      <td>2018-11-25</td>\n",
       "      <td>1000</td>\n",
       "      <td>11</td>\n",
       "    </tr>\n",
       "    <tr>\n",
       "      <th>1</th>\n",
       "      <td>1000_1</td>\n",
       "      <td>1052.810059</td>\n",
       "      <td>2018-09-07</td>\n",
       "      <td>1000</td>\n",
       "      <td>9</td>\n",
       "    </tr>\n",
       "    <tr>\n",
       "      <th>2</th>\n",
       "      <td>1000_2</td>\n",
       "      <td>1197.260010</td>\n",
       "      <td>2018-06-25</td>\n",
       "      <td>1000</td>\n",
       "      <td>6</td>\n",
       "    </tr>\n",
       "    <tr>\n",
       "      <th>3</th>\n",
       "      <td>1000_3</td>\n",
       "      <td>550.270020</td>\n",
       "      <td>2018-08-22</td>\n",
       "      <td>1000</td>\n",
       "      <td>8</td>\n",
       "    </tr>\n",
       "    <tr>\n",
       "      <th>4</th>\n",
       "      <td>1000_4</td>\n",
       "      <td>302.559998</td>\n",
       "      <td>2018-09-24</td>\n",
       "      <td>1000</td>\n",
       "      <td>9</td>\n",
       "    </tr>\n",
       "  </tbody>\n",
       "</table>\n",
       "</div>"
      ],
      "text/plain": [
       "       id      mb_used session_date  user_id  session_month\n",
       "0  1000_0   112.949997   2018-11-25     1000             11\n",
       "1  1000_1  1052.810059   2018-09-07     1000              9\n",
       "2  1000_2  1197.260010   2018-06-25     1000              6\n",
       "3  1000_3   550.270020   2018-08-22     1000              8\n",
       "4  1000_4   302.559998   2018-09-24     1000              9"
      ]
     },
     "execution_count": 30,
     "metadata": {},
     "output_type": "execute_result"
    }
   ],
   "source": [
    "df_inet.head()"
   ]
  },
  {
   "cell_type": "code",
   "execution_count": 31,
   "id": "89f1c27e",
   "metadata": {},
   "outputs": [
    {
     "name": "stdout",
     "output_type": "stream",
     "text": [
      "<class 'pandas.core.frame.DataFrame'>\n",
      "Int64Index: 129798 entries, 0 to 149395\n",
      "Data columns (total 5 columns):\n",
      " #   Column         Non-Null Count   Dtype         \n",
      "---  ------         --------------   -----         \n",
      " 0   id             129798 non-null  object        \n",
      " 1   mb_used        129798 non-null  float32       \n",
      " 2   session_date   129798 non-null  datetime64[ns]\n",
      " 3   user_id        129798 non-null  int32         \n",
      " 4   session_month  129798 non-null  int32         \n",
      "dtypes: datetime64[ns](1), float32(1), int32(2), object(1)\n",
      "memory usage: 4.5+ MB\n"
     ]
    }
   ],
   "source": [
    "df_inet.info()"
   ]
  },
  {
   "cell_type": "markdown",
   "id": "2a0646ae",
   "metadata": {},
   "source": [
    "#### SMS"
   ]
  },
  {
   "cell_type": "markdown",
   "id": "07e68fd8",
   "metadata": {},
   "source": [
    "- Приводим типы данных message_date и user_id. \n",
    "- Добавляем колонку с числом месяцев message_month."
   ]
  },
  {
   "cell_type": "code",
   "execution_count": 32,
   "id": "957d4e66",
   "metadata": {},
   "outputs": [],
   "source": [
    "df_sms['user_id'] = df_sms['user_id'].astype('int32')\n",
    "df_sms['message_date'] = pd.to_datetime(df_sms['message_date'], format='%Y-%m-%d')\n",
    "df_sms['message_month'] = pd.DatetimeIndex(df_sms['message_date']).month\n",
    "df_sms['message_month'] = df_sms['message_month'].astype('int32')"
   ]
  },
  {
   "cell_type": "code",
   "execution_count": 33,
   "id": "913f871f",
   "metadata": {},
   "outputs": [
    {
     "data": {
      "text/html": [
       "<div>\n",
       "<style scoped>\n",
       "    .dataframe tbody tr th:only-of-type {\n",
       "        vertical-align: middle;\n",
       "    }\n",
       "\n",
       "    .dataframe tbody tr th {\n",
       "        vertical-align: top;\n",
       "    }\n",
       "\n",
       "    .dataframe thead th {\n",
       "        text-align: right;\n",
       "    }\n",
       "</style>\n",
       "<table border=\"1\" class=\"dataframe\">\n",
       "  <thead>\n",
       "    <tr style=\"text-align: right;\">\n",
       "      <th></th>\n",
       "      <th>id</th>\n",
       "      <th>message_date</th>\n",
       "      <th>user_id</th>\n",
       "      <th>message_month</th>\n",
       "    </tr>\n",
       "  </thead>\n",
       "  <tbody>\n",
       "    <tr>\n",
       "      <th>0</th>\n",
       "      <td>1000_0</td>\n",
       "      <td>2018-06-27</td>\n",
       "      <td>1000</td>\n",
       "      <td>6</td>\n",
       "    </tr>\n",
       "    <tr>\n",
       "      <th>1</th>\n",
       "      <td>1000_1</td>\n",
       "      <td>2018-10-08</td>\n",
       "      <td>1000</td>\n",
       "      <td>10</td>\n",
       "    </tr>\n",
       "    <tr>\n",
       "      <th>2</th>\n",
       "      <td>1000_2</td>\n",
       "      <td>2018-08-04</td>\n",
       "      <td>1000</td>\n",
       "      <td>8</td>\n",
       "    </tr>\n",
       "    <tr>\n",
       "      <th>3</th>\n",
       "      <td>1000_3</td>\n",
       "      <td>2018-06-16</td>\n",
       "      <td>1000</td>\n",
       "      <td>6</td>\n",
       "    </tr>\n",
       "    <tr>\n",
       "      <th>4</th>\n",
       "      <td>1000_4</td>\n",
       "      <td>2018-12-05</td>\n",
       "      <td>1000</td>\n",
       "      <td>12</td>\n",
       "    </tr>\n",
       "  </tbody>\n",
       "</table>\n",
       "</div>"
      ],
      "text/plain": [
       "       id message_date  user_id  message_month\n",
       "0  1000_0   2018-06-27     1000              6\n",
       "1  1000_1   2018-10-08     1000             10\n",
       "2  1000_2   2018-08-04     1000              8\n",
       "3  1000_3   2018-06-16     1000              6\n",
       "4  1000_4   2018-12-05     1000             12"
      ]
     },
     "execution_count": 33,
     "metadata": {},
     "output_type": "execute_result"
    }
   ],
   "source": [
    "df_sms.head()"
   ]
  },
  {
   "cell_type": "code",
   "execution_count": 34,
   "id": "8b98d565",
   "metadata": {},
   "outputs": [
    {
     "name": "stdout",
     "output_type": "stream",
     "text": [
      "<class 'pandas.core.frame.DataFrame'>\n",
      "RangeIndex: 123036 entries, 0 to 123035\n",
      "Data columns (total 4 columns):\n",
      " #   Column         Non-Null Count   Dtype         \n",
      "---  ------         --------------   -----         \n",
      " 0   id             123036 non-null  object        \n",
      " 1   message_date   123036 non-null  datetime64[ns]\n",
      " 2   user_id        123036 non-null  int32         \n",
      " 3   message_month  123036 non-null  int32         \n",
      "dtypes: datetime64[ns](1), int32(2), object(1)\n",
      "memory usage: 2.8+ MB\n"
     ]
    }
   ],
   "source": [
    "df_sms.info()"
   ]
  },
  {
   "cell_type": "markdown",
   "id": "6536851c",
   "metadata": {},
   "source": [
    "Было обнаружено отсутствие данных по отправке SMS за 01 января 2018. Возможно это было сделано намеренно, что б не искажать статистику по месяцам. Тем не менее известно, что в этот день SMS отправляется больше, чем в любой другой из дней года. И отсутствие данных за этот день не может не сказываться на финансовых показателях."
   ]
  },
  {
   "cell_type": "code",
   "execution_count": 35,
   "id": "6a506566",
   "metadata": {},
   "outputs": [
    {
     "data": {
      "text/plain": [
       "1       924\n",
       "2      1924\n",
       "3      3648\n",
       "4      5179\n",
       "5      7298\n",
       "6      8983\n",
       "7     11320\n",
       "8     13088\n",
       "9     14759\n",
       "10    17114\n",
       "11    18244\n",
       "12    20555\n",
       "Name: message_month, dtype: int64"
      ]
     },
     "execution_count": 35,
     "metadata": {},
     "output_type": "execute_result"
    }
   ],
   "source": [
    "df_sms['message_month'].value_counts().sort_values()"
   ]
  },
  {
   "cell_type": "markdown",
   "id": "f9efcd55",
   "metadata": {},
   "source": [
    "Видно, что смс сообщений с каждым месяцем становится все больше. Объясняется активностью новых клиентов. Т.е. все клиенты в исследуемой базе стали таковыми именно в 2018 году. \n",
    "Однако из базы голосовой связи видно, что 01.01 услуги голосовой уже связи предоставлялись.\n",
    "Тогда можно предположить, услуга SMS активируется на следующий день, после заключения договора. Либо же именно 01.01 было так по какой-то технической причине. На текущем этапе отложим данный вопрос."
   ]
  },
  {
   "cell_type": "markdown",
   "id": "7b17d468",
   "metadata": {},
   "source": [
    "#### Данные о пользователях"
   ]
  },
  {
   "cell_type": "markdown",
   "id": "232bea36",
   "metadata": {},
   "source": [
    "- Приведем даты к формату Datetime\n",
    "- Так как в рассчетах надо будет учесть абонентскую плату по каждому пользователю, необходимо обеспечить начала ее списания не раньше месяця заключения догвора. Если же договор уже не действует, то начислять абонентскую плату не нужно. Для этого Выделим столбцы со значением месяца начала действия договора. Дата окончания договора обозначена только у 38 пользователей. Что бы заполнить пустые ячейки, заменим их на 31.12.2018."
   ]
  },
  {
   "cell_type": "code",
   "execution_count": 36,
   "id": "e512728a",
   "metadata": {
    "scrolled": false
   },
   "outputs": [],
   "source": [
    "df_users['reg_date'] = pd.to_datetime(df_users['reg_date'],format='%Y-%m-%d')\n",
    "df_users['reg_month'] = pd.DatetimeIndex(df_users['reg_date']).month\n",
    "df_users['reg_month'] = df_users['reg_month'].astype('int32')"
   ]
  },
  {
   "cell_type": "code",
   "execution_count": 37,
   "id": "e379e053",
   "metadata": {},
   "outputs": [
    {
     "name": "stdout",
     "output_type": "stream",
     "text": [
      "<class 'pandas.core.frame.DataFrame'>\n",
      "RangeIndex: 500 entries, 0 to 499\n",
      "Data columns (total 10 columns):\n",
      " #   Column       Non-Null Count  Dtype         \n",
      "---  ------       --------------  -----         \n",
      " 0   user_id      500 non-null    int64         \n",
      " 1   age          500 non-null    int64         \n",
      " 2   churn_date   500 non-null    datetime64[ns]\n",
      " 3   city         500 non-null    object        \n",
      " 4   first_name   500 non-null    object        \n",
      " 5   last_name    500 non-null    object        \n",
      " 6   reg_date     500 non-null    datetime64[ns]\n",
      " 7   tariff       500 non-null    object        \n",
      " 8   reg_month    500 non-null    int32         \n",
      " 9   churn_month  500 non-null    int32         \n",
      "dtypes: datetime64[ns](2), int32(2), int64(2), object(4)\n",
      "memory usage: 35.3+ KB\n"
     ]
    }
   ],
   "source": [
    "df_users['churn_date'] = df_users['churn_date'].fillna(value = '2018-12-31')\n",
    "df_users['churn_date'] = pd.to_datetime(df_users['churn_date'],format='%Y-%m-%d')\n",
    "df_users['churn_month'] = pd.DatetimeIndex(df_users['churn_date']).month\n",
    "df_users['churn_month'] = df_users['churn_month'].astype('int32')\n",
    "\n",
    "df_users.info()"
   ]
  },
  {
   "cell_type": "markdown",
   "id": "2264b075",
   "metadata": {},
   "source": [
    "Провим, что в данных о звонках, смс и интернет-трафике дата оказания услуг больше даты регистрации и меньше даты расторжения договоров по каждому пользователю."
   ]
  },
  {
   "cell_type": "code",
   "execution_count": 38,
   "id": "ea87081e",
   "metadata": {},
   "outputs": [
    {
     "name": "stdout",
     "output_type": "stream",
     "text": [
      "Случаев совершенных вызовов до заключения договора: 0\n",
      "Случаев совершенных вызовов после расторжения договора: 0\n"
     ]
    }
   ],
   "source": [
    "# Голосовые вызов\n",
    "calls_date_compare = df_calls.pivot_table(\n",
    "    index='user_id',\n",
    "    values ='call_date',\n",
    "    aggfunc='min').merge(\n",
    "            df_users[['user_id','reg_date','churn_date']], \n",
    "            on='user_id',\n",
    "            how='outer')\n",
    "print('Случаев совершенных вызовов до заключения договора:', calls_date_compare.query('call_date < reg_date')['user_id'].count())\n",
    "\n",
    "calls_date_compare = df_calls.pivot_table(\n",
    "    index='user_id',\n",
    "    values ='call_date',\n",
    "    aggfunc='max').merge(\n",
    "            df_users[['user_id','reg_date','churn_date']], \n",
    "            on='user_id',\n",
    "            how='outer')\n",
    "print('Случаев совершенных вызовов после расторжения договора:', calls_date_compare.query('call_date > churn_date')['user_id'].count())"
   ]
  },
  {
   "cell_type": "code",
   "execution_count": 39,
   "id": "c7e5073e",
   "metadata": {},
   "outputs": [
    {
     "data": {
      "text/html": [
       "<div>\n",
       "<style scoped>\n",
       "    .dataframe tbody tr th:only-of-type {\n",
       "        vertical-align: middle;\n",
       "    }\n",
       "\n",
       "    .dataframe tbody tr th {\n",
       "        vertical-align: top;\n",
       "    }\n",
       "\n",
       "    .dataframe thead th {\n",
       "        text-align: right;\n",
       "    }\n",
       "</style>\n",
       "<table border=\"1\" class=\"dataframe\">\n",
       "  <thead>\n",
       "    <tr style=\"text-align: right;\">\n",
       "      <th></th>\n",
       "      <th>min</th>\n",
       "      <th>max</th>\n",
       "    </tr>\n",
       "    <tr>\n",
       "      <th>user_id</th>\n",
       "      <th></th>\n",
       "      <th></th>\n",
       "    </tr>\n",
       "  </thead>\n",
       "  <tbody>\n",
       "    <tr>\n",
       "      <th>1000</th>\n",
       "      <td>2018-05-25</td>\n",
       "      <td>2018-12-29</td>\n",
       "    </tr>\n",
       "    <tr>\n",
       "      <th>1001</th>\n",
       "      <td>2018-11-01</td>\n",
       "      <td>2018-12-31</td>\n",
       "    </tr>\n",
       "  </tbody>\n",
       "</table>\n",
       "</div>"
      ],
      "text/plain": [
       "               min        max\n",
       "user_id                      \n",
       "1000    2018-05-25 2018-12-29\n",
       "1001    2018-11-01 2018-12-31"
      ]
     },
     "execution_count": 39,
     "metadata": {},
     "output_type": "execute_result"
    }
   ],
   "source": [
    "# check\n",
    "dff = df_calls.pivot_table(\n",
    "    index='user_id',\n",
    "    values ='call_date',\n",
    "    aggfunc=['min','max'])\n",
    "dff.columns = ('min','max')\n",
    "dff.head(2)"
   ]
  },
  {
   "cell_type": "code",
   "execution_count": 40,
   "id": "777d9708",
   "metadata": {},
   "outputs": [
    {
     "name": "stdout",
     "output_type": "stream",
     "text": [
      "Случаев отправки SMS до заключения договора: 0\n",
      "Случаев отправки SMS после расторжения договора: 0\n"
     ]
    }
   ],
   "source": [
    "# Интернет-тарффик\n",
    "inet_date_compare = df_inet.pivot_table(\n",
    "    index='user_id',\n",
    "    values ='session_date',\n",
    "    aggfunc='min').merge(\n",
    "            df_users[['user_id','reg_date','churn_date']], \n",
    "            on='user_id',\n",
    "            how='outer')\n",
    "print('Случаев отправки SMS до заключения договора:', inet_date_compare.query('session_date < reg_date')['user_id'].count())\n",
    "\n",
    "inet_date_compare = df_inet.pivot_table(\n",
    "    index='user_id',\n",
    "    values ='session_date',\n",
    "    aggfunc='max').merge(\n",
    "            df_users[['user_id','reg_date','churn_date']], \n",
    "            on='user_id',\n",
    "            how='outer')\n",
    "print('Случаев отправки SMS после расторжения договора:', inet_date_compare.query('session_date > churn_date')['user_id'].count())"
   ]
  },
  {
   "cell_type": "code",
   "execution_count": 41,
   "id": "5cf167b2",
   "metadata": {},
   "outputs": [
    {
     "name": "stdout",
     "output_type": "stream",
     "text": [
      "Случаев отправки SMS до заключения договора: 0\n",
      "Случаев отправки SMS после расторжения договора: 0\n"
     ]
    }
   ],
   "source": [
    "# SMS\n",
    "sms_date_compare = df_sms.pivot_table(\n",
    "    index='user_id',\n",
    "    values ='message_date',\n",
    "    aggfunc='min').merge(\n",
    "            df_users[['user_id','reg_date','churn_date']], \n",
    "            on='user_id',\n",
    "            how='outer')\n",
    "print('Случаев отправки SMS до заключения договора:', sms_date_compare.query('message_date < reg_date')['user_id'].count())\n",
    "\n",
    "sms_date_compare = df_sms.pivot_table(\n",
    "    index='user_id',\n",
    "    values ='message_date',\n",
    "    aggfunc='max').merge(\n",
    "            df_users[['user_id','reg_date','churn_date']], \n",
    "            on='user_id',\n",
    "            how='outer')\n",
    "print('Случаев отправки SMS после расторжения договора:', sms_date_compare.query('message_date > churn_date')['user_id'].count())"
   ]
  },
  {
   "cell_type": "markdown",
   "id": "75ff7905",
   "metadata": {},
   "source": [
    "#### Данные о тарифных планах"
   ]
  },
  {
   "cell_type": "markdown",
   "id": "b580a44a",
   "metadata": {},
   "source": [
    "Для дальнейшего удобства переименуем колонку с названиями тарифов так же."
   ]
  },
  {
   "cell_type": "code",
   "execution_count": 42,
   "id": "90e2dcc2",
   "metadata": {},
   "outputs": [
    {
     "data": {
      "text/html": [
       "<div>\n",
       "<style scoped>\n",
       "    .dataframe tbody tr th:only-of-type {\n",
       "        vertical-align: middle;\n",
       "    }\n",
       "\n",
       "    .dataframe tbody tr th {\n",
       "        vertical-align: top;\n",
       "    }\n",
       "\n",
       "    .dataframe thead th {\n",
       "        text-align: right;\n",
       "    }\n",
       "</style>\n",
       "<table border=\"1\" class=\"dataframe\">\n",
       "  <thead>\n",
       "    <tr style=\"text-align: right;\">\n",
       "      <th></th>\n",
       "      <th>messages_included</th>\n",
       "      <th>mb_per_month_included</th>\n",
       "      <th>minutes_included</th>\n",
       "      <th>rub_monthly_fee</th>\n",
       "      <th>rub_per_gb</th>\n",
       "      <th>rub_per_message</th>\n",
       "      <th>rub_per_minute</th>\n",
       "      <th>tariff</th>\n",
       "    </tr>\n",
       "  </thead>\n",
       "  <tbody>\n",
       "    <tr>\n",
       "      <th>0</th>\n",
       "      <td>50</td>\n",
       "      <td>15360</td>\n",
       "      <td>500</td>\n",
       "      <td>550</td>\n",
       "      <td>200</td>\n",
       "      <td>3</td>\n",
       "      <td>3</td>\n",
       "      <td>smart</td>\n",
       "    </tr>\n",
       "    <tr>\n",
       "      <th>1</th>\n",
       "      <td>1000</td>\n",
       "      <td>30720</td>\n",
       "      <td>3000</td>\n",
       "      <td>1950</td>\n",
       "      <td>150</td>\n",
       "      <td>1</td>\n",
       "      <td>1</td>\n",
       "      <td>ultra</td>\n",
       "    </tr>\n",
       "  </tbody>\n",
       "</table>\n",
       "</div>"
      ],
      "text/plain": [
       "   messages_included  mb_per_month_included  minutes_included  \\\n",
       "0                 50                  15360               500   \n",
       "1               1000                  30720              3000   \n",
       "\n",
       "   rub_monthly_fee  rub_per_gb  rub_per_message  rub_per_minute tariff  \n",
       "0              550         200                3               3  smart  \n",
       "1             1950         150                1               1  ultra  "
      ]
     },
     "execution_count": 42,
     "metadata": {},
     "output_type": "execute_result"
    }
   ],
   "source": [
    "df_tariffs.columns =['messages_included', 'mb_per_month_included', 'minutes_included',\n",
    "       'rub_monthly_fee', 'rub_per_gb', 'rub_per_message', 'rub_per_minute',\n",
    "       'tariff']\n",
    "df_tariffs"
   ]
  },
  {
   "cell_type": "markdown",
   "id": "a5cdcdb8",
   "metadata": {},
   "source": [
    "### Группировка оказанных услуг по отдельным пользователям"
   ]
  },
  {
   "cell_type": "markdown",
   "id": "84bbd603",
   "metadata": {},
   "source": [
    "#### Голосовая связь"
   ]
  },
  {
   "cell_type": "markdown",
   "id": "82cf783b",
   "metadata": {},
   "source": [
    "Сгруппируем данные по каждому пользователю с расчетом ежемесячного количества и продолжительности звонков."
   ]
  },
  {
   "cell_type": "code",
   "execution_count": 43,
   "id": "fb4d032b",
   "metadata": {},
   "outputs": [
    {
     "data": {
      "text/html": [
       "<div>\n",
       "<style scoped>\n",
       "    .dataframe tbody tr th:only-of-type {\n",
       "        vertical-align: middle;\n",
       "    }\n",
       "\n",
       "    .dataframe tbody tr th {\n",
       "        vertical-align: top;\n",
       "    }\n",
       "\n",
       "    .dataframe thead th {\n",
       "        text-align: right;\n",
       "    }\n",
       "</style>\n",
       "<table border=\"1\" class=\"dataframe\">\n",
       "  <thead>\n",
       "    <tr style=\"text-align: right;\">\n",
       "      <th></th>\n",
       "      <th>user_id</th>\n",
       "      <th>1</th>\n",
       "      <th>2</th>\n",
       "      <th>3</th>\n",
       "      <th>4</th>\n",
       "      <th>5</th>\n",
       "      <th>6</th>\n",
       "      <th>7</th>\n",
       "      <th>8</th>\n",
       "      <th>9</th>\n",
       "      <th>10</th>\n",
       "      <th>11</th>\n",
       "      <th>12</th>\n",
       "    </tr>\n",
       "  </thead>\n",
       "  <tbody>\n",
       "    <tr>\n",
       "      <th>0</th>\n",
       "      <td>1000</td>\n",
       "      <td>0</td>\n",
       "      <td>0</td>\n",
       "      <td>0</td>\n",
       "      <td>0</td>\n",
       "      <td>159</td>\n",
       "      <td>172</td>\n",
       "      <td>340</td>\n",
       "      <td>408</td>\n",
       "      <td>466</td>\n",
       "      <td>350</td>\n",
       "      <td>338</td>\n",
       "      <td>333</td>\n",
       "    </tr>\n",
       "    <tr>\n",
       "      <th>1</th>\n",
       "      <td>1001</td>\n",
       "      <td>0</td>\n",
       "      <td>0</td>\n",
       "      <td>0</td>\n",
       "      <td>0</td>\n",
       "      <td>0</td>\n",
       "      <td>0</td>\n",
       "      <td>0</td>\n",
       "      <td>0</td>\n",
       "      <td>0</td>\n",
       "      <td>0</td>\n",
       "      <td>430</td>\n",
       "      <td>414</td>\n",
       "    </tr>\n",
       "    <tr>\n",
       "      <th>2</th>\n",
       "      <td>1002</td>\n",
       "      <td>0</td>\n",
       "      <td>0</td>\n",
       "      <td>0</td>\n",
       "      <td>0</td>\n",
       "      <td>0</td>\n",
       "      <td>117</td>\n",
       "      <td>214</td>\n",
       "      <td>289</td>\n",
       "      <td>206</td>\n",
       "      <td>212</td>\n",
       "      <td>243</td>\n",
       "      <td>236</td>\n",
       "    </tr>\n",
       "    <tr>\n",
       "      <th>3</th>\n",
       "      <td>1003</td>\n",
       "      <td>0</td>\n",
       "      <td>0</td>\n",
       "      <td>0</td>\n",
       "      <td>0</td>\n",
       "      <td>0</td>\n",
       "      <td>0</td>\n",
       "      <td>0</td>\n",
       "      <td>380</td>\n",
       "      <td>961</td>\n",
       "      <td>855</td>\n",
       "      <td>824</td>\n",
       "      <td>802</td>\n",
       "    </tr>\n",
       "    <tr>\n",
       "      <th>4</th>\n",
       "      <td>1004</td>\n",
       "      <td>0</td>\n",
       "      <td>0</td>\n",
       "      <td>0</td>\n",
       "      <td>0</td>\n",
       "      <td>35</td>\n",
       "      <td>171</td>\n",
       "      <td>135</td>\n",
       "      <td>137</td>\n",
       "      <td>117</td>\n",
       "      <td>145</td>\n",
       "      <td>117</td>\n",
       "      <td>130</td>\n",
       "    </tr>\n",
       "    <tr>\n",
       "      <th>...</th>\n",
       "      <td>...</td>\n",
       "      <td>...</td>\n",
       "      <td>...</td>\n",
       "      <td>...</td>\n",
       "      <td>...</td>\n",
       "      <td>...</td>\n",
       "      <td>...</td>\n",
       "      <td>...</td>\n",
       "      <td>...</td>\n",
       "      <td>...</td>\n",
       "      <td>...</td>\n",
       "      <td>...</td>\n",
       "      <td>...</td>\n",
       "    </tr>\n",
       "    <tr>\n",
       "      <th>487</th>\n",
       "      <td>1495</td>\n",
       "      <td>0</td>\n",
       "      <td>0</td>\n",
       "      <td>0</td>\n",
       "      <td>0</td>\n",
       "      <td>0</td>\n",
       "      <td>0</td>\n",
       "      <td>0</td>\n",
       "      <td>92</td>\n",
       "      <td>813</td>\n",
       "      <td>1030</td>\n",
       "      <td>954</td>\n",
       "      <td>1031</td>\n",
       "    </tr>\n",
       "    <tr>\n",
       "      <th>488</th>\n",
       "      <td>1496</td>\n",
       "      <td>48</td>\n",
       "      <td>594</td>\n",
       "      <td>557</td>\n",
       "      <td>521</td>\n",
       "      <td>484</td>\n",
       "      <td>555</td>\n",
       "      <td>582</td>\n",
       "      <td>527</td>\n",
       "      <td>486</td>\n",
       "      <td>450</td>\n",
       "      <td>662</td>\n",
       "      <td>518</td>\n",
       "    </tr>\n",
       "    <tr>\n",
       "      <th>489</th>\n",
       "      <td>1497</td>\n",
       "      <td>0</td>\n",
       "      <td>0</td>\n",
       "      <td>0</td>\n",
       "      <td>0</td>\n",
       "      <td>0</td>\n",
       "      <td>0</td>\n",
       "      <td>0</td>\n",
       "      <td>0</td>\n",
       "      <td>0</td>\n",
       "      <td>490</td>\n",
       "      <td>371</td>\n",
       "      <td>545</td>\n",
       "    </tr>\n",
       "    <tr>\n",
       "      <th>490</th>\n",
       "      <td>1498</td>\n",
       "      <td>0</td>\n",
       "      <td>0</td>\n",
       "      <td>0</td>\n",
       "      <td>0</td>\n",
       "      <td>0</td>\n",
       "      <td>0</td>\n",
       "      <td>175</td>\n",
       "      <td>400</td>\n",
       "      <td>471</td>\n",
       "      <td>247</td>\n",
       "      <td>0</td>\n",
       "      <td>0</td>\n",
       "    </tr>\n",
       "    <tr>\n",
       "      <th>491</th>\n",
       "      <td>1499</td>\n",
       "      <td>0</td>\n",
       "      <td>0</td>\n",
       "      <td>0</td>\n",
       "      <td>0</td>\n",
       "      <td>0</td>\n",
       "      <td>0</td>\n",
       "      <td>0</td>\n",
       "      <td>0</td>\n",
       "      <td>70</td>\n",
       "      <td>449</td>\n",
       "      <td>612</td>\n",
       "      <td>492</td>\n",
       "    </tr>\n",
       "  </tbody>\n",
       "</table>\n",
       "<p>492 rows × 13 columns</p>\n",
       "</div>"
      ],
      "text/plain": [
       "     user_id   1    2    3    4    5    6    7    8    9    10   11    12\n",
       "0       1000   0    0    0    0  159  172  340  408  466   350  338   333\n",
       "1       1001   0    0    0    0    0    0    0    0    0     0  430   414\n",
       "2       1002   0    0    0    0    0  117  214  289  206   212  243   236\n",
       "3       1003   0    0    0    0    0    0    0  380  961   855  824   802\n",
       "4       1004   0    0    0    0   35  171  135  137  117   145  117   130\n",
       "..       ...  ..  ...  ...  ...  ...  ...  ...  ...  ...   ...  ...   ...\n",
       "487     1495   0    0    0    0    0    0    0   92  813  1030  954  1031\n",
       "488     1496  48  594  557  521  484  555  582  527  486   450  662   518\n",
       "489     1497   0    0    0    0    0    0    0    0    0   490  371   545\n",
       "490     1498   0    0    0    0    0    0  175  400  471   247    0     0\n",
       "491     1499   0    0    0    0    0    0    0    0   70   449  612   492\n",
       "\n",
       "[492 rows x 13 columns]"
      ]
     },
     "execution_count": 43,
     "metadata": {},
     "output_type": "execute_result"
    }
   ],
   "source": [
    "df_calls_users_month_time = df_calls.pivot_table(\n",
    "    index='user_id', \n",
    "    columns='call_month', \n",
    "    values='duration',\n",
    "    aggfunc=['sum'],\n",
    "    fill_value=0).reset_index()\n",
    "\n",
    "# Убираем лишние индексы, корректируем имена столбцов\n",
    "df_calls_users_month_time.columns = df_calls_users_month_time.columns.droplevel(0)\n",
    "df_calls_users_month_time.columns = ['user_id', 1, 2, 3, 4, 5, 6, 7, 8, 9, 10, 11, 12]\n",
    "df_calls_users_month_time"
   ]
  },
  {
   "cell_type": "code",
   "execution_count": 44,
   "id": "204fe721",
   "metadata": {},
   "outputs": [
    {
     "data": {
      "text/html": [
       "<div>\n",
       "<style scoped>\n",
       "    .dataframe tbody tr th:only-of-type {\n",
       "        vertical-align: middle;\n",
       "    }\n",
       "\n",
       "    .dataframe tbody tr th {\n",
       "        vertical-align: top;\n",
       "    }\n",
       "\n",
       "    .dataframe thead th {\n",
       "        text-align: right;\n",
       "    }\n",
       "</style>\n",
       "<table border=\"1\" class=\"dataframe\">\n",
       "  <thead>\n",
       "    <tr style=\"text-align: right;\">\n",
       "      <th>call_month</th>\n",
       "      <th></th>\n",
       "      <th>1</th>\n",
       "      <th>2</th>\n",
       "      <th>3</th>\n",
       "      <th>4</th>\n",
       "      <th>5</th>\n",
       "      <th>6</th>\n",
       "      <th>7</th>\n",
       "      <th>8</th>\n",
       "      <th>9</th>\n",
       "      <th>10</th>\n",
       "      <th>11</th>\n",
       "      <th>12</th>\n",
       "    </tr>\n",
       "  </thead>\n",
       "  <tbody>\n",
       "    <tr>\n",
       "      <th>0</th>\n",
       "      <td>1000</td>\n",
       "      <td>0</td>\n",
       "      <td>0</td>\n",
       "      <td>0</td>\n",
       "      <td>0</td>\n",
       "      <td>22</td>\n",
       "      <td>43</td>\n",
       "      <td>47</td>\n",
       "      <td>52</td>\n",
       "      <td>58</td>\n",
       "      <td>57</td>\n",
       "      <td>43</td>\n",
       "      <td>46</td>\n",
       "    </tr>\n",
       "    <tr>\n",
       "      <th>1</th>\n",
       "      <td>1001</td>\n",
       "      <td>0</td>\n",
       "      <td>0</td>\n",
       "      <td>0</td>\n",
       "      <td>0</td>\n",
       "      <td>0</td>\n",
       "      <td>0</td>\n",
       "      <td>0</td>\n",
       "      <td>0</td>\n",
       "      <td>0</td>\n",
       "      <td>0</td>\n",
       "      <td>59</td>\n",
       "      <td>63</td>\n",
       "    </tr>\n",
       "    <tr>\n",
       "      <th>2</th>\n",
       "      <td>1002</td>\n",
       "      <td>0</td>\n",
       "      <td>0</td>\n",
       "      <td>0</td>\n",
       "      <td>0</td>\n",
       "      <td>0</td>\n",
       "      <td>15</td>\n",
       "      <td>26</td>\n",
       "      <td>42</td>\n",
       "      <td>36</td>\n",
       "      <td>33</td>\n",
       "      <td>32</td>\n",
       "      <td>33</td>\n",
       "    </tr>\n",
       "    <tr>\n",
       "      <th>3</th>\n",
       "      <td>1003</td>\n",
       "      <td>0</td>\n",
       "      <td>0</td>\n",
       "      <td>0</td>\n",
       "      <td>0</td>\n",
       "      <td>0</td>\n",
       "      <td>0</td>\n",
       "      <td>0</td>\n",
       "      <td>55</td>\n",
       "      <td>134</td>\n",
       "      <td>108</td>\n",
       "      <td>115</td>\n",
       "      <td>108</td>\n",
       "    </tr>\n",
       "    <tr>\n",
       "      <th>4</th>\n",
       "      <td>1004</td>\n",
       "      <td>0</td>\n",
       "      <td>0</td>\n",
       "      <td>0</td>\n",
       "      <td>0</td>\n",
       "      <td>9</td>\n",
       "      <td>31</td>\n",
       "      <td>22</td>\n",
       "      <td>19</td>\n",
       "      <td>26</td>\n",
       "      <td>29</td>\n",
       "      <td>19</td>\n",
       "      <td>21</td>\n",
       "    </tr>\n",
       "  </tbody>\n",
       "</table>\n",
       "</div>"
      ],
      "text/plain": [
       "call_month        1  2  3  4   5   6   7   8    9   10   11   12\n",
       "0           1000  0  0  0  0  22  43  47  52   58   57   43   46\n",
       "1           1001  0  0  0  0   0   0   0   0    0    0   59   63\n",
       "2           1002  0  0  0  0   0  15  26  42   36   33   32   33\n",
       "3           1003  0  0  0  0   0   0   0  55  134  108  115  108\n",
       "4           1004  0  0  0  0   9  31  22  19   26   29   19   21"
      ]
     },
     "execution_count": 44,
     "metadata": {},
     "output_type": "execute_result"
    }
   ],
   "source": [
    "df_calls_users_month_counts = df_calls.pivot_table(\n",
    "    index='user_id', \n",
    "    columns='call_month', \n",
    "    values='duration',\n",
    "    aggfunc=['count'],\n",
    "    fill_value=0).reset_index()\n",
    "df_calls_users_month_counts.columns = df_calls_users_month_counts.columns.droplevel(0)\n",
    "df_calls_users_month_counts.head()"
   ]
  },
  {
   "cell_type": "markdown",
   "id": "9c8c4806",
   "metadata": {},
   "source": [
    "#### Интернет-трафик"
   ]
  },
  {
   "cell_type": "markdown",
   "id": "236004f1",
   "metadata": {},
   "source": [
    "Аналогично сгрупперуем данные по пользователям. Учтем условие компании округлять месячный трафик до целых гигобайт в большую сторону. Под Гигобайтом понимаем 1024 Мегабайта."
   ]
  },
  {
   "cell_type": "code",
   "execution_count": 45,
   "id": "308889e2",
   "metadata": {},
   "outputs": [
    {
     "data": {
      "text/html": [
       "<div>\n",
       "<style scoped>\n",
       "    .dataframe tbody tr th:only-of-type {\n",
       "        vertical-align: middle;\n",
       "    }\n",
       "\n",
       "    .dataframe tbody tr th {\n",
       "        vertical-align: top;\n",
       "    }\n",
       "\n",
       "    .dataframe thead th {\n",
       "        text-align: right;\n",
       "    }\n",
       "</style>\n",
       "<table border=\"1\" class=\"dataframe\">\n",
       "  <thead>\n",
       "    <tr style=\"text-align: right;\">\n",
       "      <th></th>\n",
       "      <th>user_id</th>\n",
       "      <th>1</th>\n",
       "      <th>2</th>\n",
       "      <th>3</th>\n",
       "      <th>4</th>\n",
       "      <th>5</th>\n",
       "      <th>6</th>\n",
       "      <th>7</th>\n",
       "      <th>8</th>\n",
       "      <th>9</th>\n",
       "      <th>10</th>\n",
       "      <th>11</th>\n",
       "      <th>12</th>\n",
       "    </tr>\n",
       "  </thead>\n",
       "  <tbody>\n",
       "    <tr>\n",
       "      <th>0</th>\n",
       "      <td>1000</td>\n",
       "      <td>0</td>\n",
       "      <td>0</td>\n",
       "      <td>0</td>\n",
       "      <td>0</td>\n",
       "      <td>3</td>\n",
       "      <td>23</td>\n",
       "      <td>14</td>\n",
       "      <td>14</td>\n",
       "      <td>15</td>\n",
       "      <td>15</td>\n",
       "      <td>15</td>\n",
       "      <td>10</td>\n",
       "    </tr>\n",
       "    <tr>\n",
       "      <th>1</th>\n",
       "      <td>1001</td>\n",
       "      <td>0</td>\n",
       "      <td>0</td>\n",
       "      <td>0</td>\n",
       "      <td>0</td>\n",
       "      <td>0</td>\n",
       "      <td>0</td>\n",
       "      <td>0</td>\n",
       "      <td>0</td>\n",
       "      <td>0</td>\n",
       "      <td>0</td>\n",
       "      <td>18</td>\n",
       "      <td>14</td>\n",
       "    </tr>\n",
       "    <tr>\n",
       "      <th>2</th>\n",
       "      <td>1002</td>\n",
       "      <td>0</td>\n",
       "      <td>0</td>\n",
       "      <td>0</td>\n",
       "      <td>0</td>\n",
       "      <td>0</td>\n",
       "      <td>11</td>\n",
       "      <td>18</td>\n",
       "      <td>20</td>\n",
       "      <td>17</td>\n",
       "      <td>14</td>\n",
       "      <td>19</td>\n",
       "      <td>18</td>\n",
       "    </tr>\n",
       "    <tr>\n",
       "      <th>3</th>\n",
       "      <td>1003</td>\n",
       "      <td>0</td>\n",
       "      <td>0</td>\n",
       "      <td>0</td>\n",
       "      <td>0</td>\n",
       "      <td>0</td>\n",
       "      <td>0</td>\n",
       "      <td>0</td>\n",
       "      <td>9</td>\n",
       "      <td>13</td>\n",
       "      <td>15</td>\n",
       "      <td>12</td>\n",
       "      <td>10</td>\n",
       "    </tr>\n",
       "    <tr>\n",
       "      <th>4</th>\n",
       "      <td>1004</td>\n",
       "      <td>0</td>\n",
       "      <td>0</td>\n",
       "      <td>0</td>\n",
       "      <td>0</td>\n",
       "      <td>14</td>\n",
       "      <td>18</td>\n",
       "      <td>22</td>\n",
       "      <td>28</td>\n",
       "      <td>15</td>\n",
       "      <td>19</td>\n",
       "      <td>16</td>\n",
       "      <td>18</td>\n",
       "    </tr>\n",
       "  </tbody>\n",
       "</table>\n",
       "</div>"
      ],
      "text/plain": [
       "   user_id  1  2  3  4   5   6   7   8   9  10  11  12\n",
       "0     1000  0  0  0  0   3  23  14  14  15  15  15  10\n",
       "1     1001  0  0  0  0   0   0   0   0   0   0  18  14\n",
       "2     1002  0  0  0  0   0  11  18  20  17  14  19  18\n",
       "3     1003  0  0  0  0   0   0   0   9  13  15  12  10\n",
       "4     1004  0  0  0  0  14  18  22  28  15  19  16  18"
      ]
     },
     "execution_count": 45,
     "metadata": {},
     "output_type": "execute_result"
    }
   ],
   "source": [
    "df_inet_users_month = df_inet.pivot_table(\n",
    "    index='user_id',\n",
    "    columns='session_month',\n",
    "    values='mb_used',\n",
    "    aggfunc=lambda x: sum(x)/1024,\n",
    "    fill_value=0\n",
    "    ).apply(np.ceil).astype('int32').reset_index()\n",
    "\n",
    "# Корректируем имена столбцов\n",
    "df_inet_users_month.columns = ['user_id', 1, 2, 3, 4, 5, 6, 7, 8, 9, 10, 11, 12]\n",
    "df_inet_users_month.head()"
   ]
  },
  {
   "cell_type": "markdown",
   "id": "fce08e4b",
   "metadata": {},
   "source": [
    "#### SMS"
   ]
  },
  {
   "cell_type": "markdown",
   "id": "ad096908",
   "metadata": {},
   "source": [
    "Данные о текстовых сообщениях разнесем по числу сообщений в месяц в разрезе каждого пользователя."
   ]
  },
  {
   "cell_type": "code",
   "execution_count": 46,
   "id": "528e5125",
   "metadata": {},
   "outputs": [
    {
     "data": {
      "text/html": [
       "<div>\n",
       "<style scoped>\n",
       "    .dataframe tbody tr th:only-of-type {\n",
       "        vertical-align: middle;\n",
       "    }\n",
       "\n",
       "    .dataframe tbody tr th {\n",
       "        vertical-align: top;\n",
       "    }\n",
       "\n",
       "    .dataframe thead th {\n",
       "        text-align: right;\n",
       "    }\n",
       "</style>\n",
       "<table border=\"1\" class=\"dataframe\">\n",
       "  <thead>\n",
       "    <tr style=\"text-align: right;\">\n",
       "      <th></th>\n",
       "      <th>user_id</th>\n",
       "      <th>1</th>\n",
       "      <th>2</th>\n",
       "      <th>3</th>\n",
       "      <th>4</th>\n",
       "      <th>5</th>\n",
       "      <th>6</th>\n",
       "      <th>7</th>\n",
       "      <th>8</th>\n",
       "      <th>9</th>\n",
       "      <th>10</th>\n",
       "      <th>11</th>\n",
       "      <th>12</th>\n",
       "    </tr>\n",
       "  </thead>\n",
       "  <tbody>\n",
       "    <tr>\n",
       "      <th>0</th>\n",
       "      <td>1000</td>\n",
       "      <td>0</td>\n",
       "      <td>0</td>\n",
       "      <td>0</td>\n",
       "      <td>0</td>\n",
       "      <td>22</td>\n",
       "      <td>60</td>\n",
       "      <td>75</td>\n",
       "      <td>81</td>\n",
       "      <td>57</td>\n",
       "      <td>73</td>\n",
       "      <td>58</td>\n",
       "      <td>70</td>\n",
       "    </tr>\n",
       "    <tr>\n",
       "      <th>1</th>\n",
       "      <td>1002</td>\n",
       "      <td>0</td>\n",
       "      <td>0</td>\n",
       "      <td>0</td>\n",
       "      <td>0</td>\n",
       "      <td>0</td>\n",
       "      <td>4</td>\n",
       "      <td>11</td>\n",
       "      <td>13</td>\n",
       "      <td>4</td>\n",
       "      <td>10</td>\n",
       "      <td>16</td>\n",
       "      <td>12</td>\n",
       "    </tr>\n",
       "    <tr>\n",
       "      <th>2</th>\n",
       "      <td>1003</td>\n",
       "      <td>0</td>\n",
       "      <td>0</td>\n",
       "      <td>0</td>\n",
       "      <td>0</td>\n",
       "      <td>0</td>\n",
       "      <td>0</td>\n",
       "      <td>0</td>\n",
       "      <td>37</td>\n",
       "      <td>91</td>\n",
       "      <td>83</td>\n",
       "      <td>94</td>\n",
       "      <td>75</td>\n",
       "    </tr>\n",
       "    <tr>\n",
       "      <th>3</th>\n",
       "      <td>1004</td>\n",
       "      <td>0</td>\n",
       "      <td>0</td>\n",
       "      <td>0</td>\n",
       "      <td>0</td>\n",
       "      <td>95</td>\n",
       "      <td>134</td>\n",
       "      <td>181</td>\n",
       "      <td>151</td>\n",
       "      <td>146</td>\n",
       "      <td>165</td>\n",
       "      <td>158</td>\n",
       "      <td>162</td>\n",
       "    </tr>\n",
       "    <tr>\n",
       "      <th>4</th>\n",
       "      <td>1005</td>\n",
       "      <td>7</td>\n",
       "      <td>38</td>\n",
       "      <td>56</td>\n",
       "      <td>41</td>\n",
       "      <td>42</td>\n",
       "      <td>47</td>\n",
       "      <td>56</td>\n",
       "      <td>64</td>\n",
       "      <td>52</td>\n",
       "      <td>44</td>\n",
       "      <td>51</td>\n",
       "      <td>54</td>\n",
       "    </tr>\n",
       "  </tbody>\n",
       "</table>\n",
       "</div>"
      ],
      "text/plain": [
       "   user_id  1   2   3   4   5    6    7    8    9   10   11   12\n",
       "0     1000  0   0   0   0  22   60   75   81   57   73   58   70\n",
       "1     1002  0   0   0   0   0    4   11   13    4   10   16   12\n",
       "2     1003  0   0   0   0   0    0    0   37   91   83   94   75\n",
       "3     1004  0   0   0   0  95  134  181  151  146  165  158  162\n",
       "4     1005  7  38  56  41  42   47   56   64   52   44   51   54"
      ]
     },
     "execution_count": 46,
     "metadata": {},
     "output_type": "execute_result"
    }
   ],
   "source": [
    "df_sms_users_month = df_sms.pivot_table(\n",
    "    index='user_id', \n",
    "    columns='message_month',\n",
    "    values='id',\n",
    "    aggfunc='count',\n",
    "    fill_value=0\n",
    "    ).reset_index()\n",
    "df_sms_users_month.columns = ['user_id', 1, 2, 3, 4, 5, 6, 7, 8, 9, 10, 11, 12]\n",
    "df_sms_users_month.head()"
   ]
  },
  {
   "cell_type": "markdown",
   "id": "38d00cee",
   "metadata": {},
   "source": [
    "### Расчет помесячной выручки по каждому пользователю"
   ]
  },
  {
   "cell_type": "markdown",
   "id": "a8d4cc91",
   "metadata": {},
   "source": [
    "#### Голосовые сообщения"
   ]
  },
  {
   "cell_type": "markdown",
   "id": "47bd1412",
   "metadata": {},
   "source": [
    "Рассчитаем стоимость минут, использованных каждым пользователем сверх тарифа."
   ]
  },
  {
   "cell_type": "code",
   "execution_count": 47,
   "id": "856a27b1",
   "metadata": {},
   "outputs": [],
   "source": [
    "# Добавим в таблицу, созданную в п. 3.2.1 df_calls_users_month_time данные из таблиц df_users, df_tariffs \n",
    "df_calls_earn = df_calls_users_month_time.merge(\n",
    "    df_users[['tariff', 'user_id']], on='user_id',how='outer').merge(\n",
    "                df_tariffs[['minutes_included', 'tariff','rub_per_minute']], on='tariff')\n",
    "\n",
    "# Заполним пропуски, образовавшиеся от добавления абонентов, не пользовавшихся голосовой связью\n",
    "df_calls_earn.fillna(value=0, inplace=True)\n",
    "\n",
    "# Для удобства и экономии памяти преобразуем в формат int\n",
    "df_calls_earn.iloc[:,1:13] = df_calls_earn.iloc[:,1:13].astype('int')\n",
    "\n",
    "# Дальше будет использоваться функция для рассчета значений, превысивших лимит. \n",
    "# Что бы эту функции можно было использовать для каждой из услуг, \n",
    "# переименуем столбец со значениями лимита звонков по тарифу. \n",
    "df_calls_earn.columns = ['user_id', 1, 2, 3, 4, 5, 6, 7, 8, 9, 10, 11, 12, 'tariff', 'tariff_includs', 'rub_per_minute']"
   ]
  },
  {
   "cell_type": "code",
   "execution_count": 48,
   "id": "c3a9bf35",
   "metadata": {},
   "outputs": [],
   "source": [
    "# Функция для рассчета сверхлимитного использования услуг (общая для голосовой связи, sms и интернета)\n",
    "def limits(row):\n",
    "    over_limit = 0\n",
    "    tariff_limit = row['tariff_includs']\n",
    "    for i in range(1,13):\n",
    "        if row[i] > tariff_limit:\n",
    "            over_limit = over_limit + row[i] - tariff_limit\n",
    "    return over_limit    "
   ]
  },
  {
   "cell_type": "code",
   "execution_count": 49,
   "id": "445dff1d",
   "metadata": {},
   "outputs": [
    {
     "data": {
      "text/html": [
       "<div>\n",
       "<style scoped>\n",
       "    .dataframe tbody tr th:only-of-type {\n",
       "        vertical-align: middle;\n",
       "    }\n",
       "\n",
       "    .dataframe tbody tr th {\n",
       "        vertical-align: top;\n",
       "    }\n",
       "\n",
       "    .dataframe thead th {\n",
       "        text-align: right;\n",
       "    }\n",
       "</style>\n",
       "<table border=\"1\" class=\"dataframe\">\n",
       "  <thead>\n",
       "    <tr style=\"text-align: right;\">\n",
       "      <th></th>\n",
       "      <th>user_id</th>\n",
       "      <th>1</th>\n",
       "      <th>2</th>\n",
       "      <th>3</th>\n",
       "      <th>4</th>\n",
       "      <th>5</th>\n",
       "      <th>6</th>\n",
       "      <th>7</th>\n",
       "      <th>8</th>\n",
       "      <th>9</th>\n",
       "      <th>10</th>\n",
       "      <th>11</th>\n",
       "      <th>12</th>\n",
       "      <th>tariff</th>\n",
       "      <th>tariff_includs</th>\n",
       "      <th>rub_per_minute</th>\n",
       "      <th>over_limit</th>\n",
       "      <th>calls_extra_pay</th>\n",
       "    </tr>\n",
       "  </thead>\n",
       "  <tbody>\n",
       "    <tr>\n",
       "      <th>151</th>\n",
       "      <td>1005</td>\n",
       "      <td>95</td>\n",
       "      <td>456</td>\n",
       "      <td>606</td>\n",
       "      <td>712</td>\n",
       "      <td>595</td>\n",
       "      <td>612</td>\n",
       "      <td>569</td>\n",
       "      <td>619</td>\n",
       "      <td>479</td>\n",
       "      <td>723</td>\n",
       "      <td>547</td>\n",
       "      <td>592</td>\n",
       "      <td>smart</td>\n",
       "      <td>500</td>\n",
       "      <td>3</td>\n",
       "      <td>1075</td>\n",
       "      <td>3225</td>\n",
       "    </tr>\n",
       "    <tr>\n",
       "      <th>153</th>\n",
       "      <td>1007</td>\n",
       "      <td>0</td>\n",
       "      <td>0</td>\n",
       "      <td>0</td>\n",
       "      <td>198</td>\n",
       "      <td>480</td>\n",
       "      <td>545</td>\n",
       "      <td>577</td>\n",
       "      <td>458</td>\n",
       "      <td>655</td>\n",
       "      <td>465</td>\n",
       "      <td>580</td>\n",
       "      <td>421</td>\n",
       "      <td>smart</td>\n",
       "      <td>500</td>\n",
       "      <td>3</td>\n",
       "      <td>357</td>\n",
       "      <td>1071</td>\n",
       "    </tr>\n",
       "    <tr>\n",
       "      <th>157</th>\n",
       "      <td>1011</td>\n",
       "      <td>0</td>\n",
       "      <td>0</td>\n",
       "      <td>212</td>\n",
       "      <td>371</td>\n",
       "      <td>437</td>\n",
       "      <td>327</td>\n",
       "      <td>502</td>\n",
       "      <td>515</td>\n",
       "      <td>472</td>\n",
       "      <td>630</td>\n",
       "      <td>501</td>\n",
       "      <td>361</td>\n",
       "      <td>smart</td>\n",
       "      <td>500</td>\n",
       "      <td>3</td>\n",
       "      <td>148</td>\n",
       "      <td>444</td>\n",
       "    </tr>\n",
       "    <tr>\n",
       "      <th>160</th>\n",
       "      <td>1015</td>\n",
       "      <td>0</td>\n",
       "      <td>0</td>\n",
       "      <td>0</td>\n",
       "      <td>11</td>\n",
       "      <td>401</td>\n",
       "      <td>430</td>\n",
       "      <td>556</td>\n",
       "      <td>394</td>\n",
       "      <td>486</td>\n",
       "      <td>577</td>\n",
       "      <td>454</td>\n",
       "      <td>499</td>\n",
       "      <td>smart</td>\n",
       "      <td>500</td>\n",
       "      <td>3</td>\n",
       "      <td>133</td>\n",
       "      <td>399</td>\n",
       "    </tr>\n",
       "    <tr>\n",
       "      <th>162</th>\n",
       "      <td>1020</td>\n",
       "      <td>0</td>\n",
       "      <td>0</td>\n",
       "      <td>0</td>\n",
       "      <td>0</td>\n",
       "      <td>0</td>\n",
       "      <td>0</td>\n",
       "      <td>0</td>\n",
       "      <td>0</td>\n",
       "      <td>0</td>\n",
       "      <td>239</td>\n",
       "      <td>674</td>\n",
       "      <td>340</td>\n",
       "      <td>smart</td>\n",
       "      <td>500</td>\n",
       "      <td>3</td>\n",
       "      <td>174</td>\n",
       "      <td>522</td>\n",
       "    </tr>\n",
       "    <tr>\n",
       "      <th>...</th>\n",
       "      <td>...</td>\n",
       "      <td>...</td>\n",
       "      <td>...</td>\n",
       "      <td>...</td>\n",
       "      <td>...</td>\n",
       "      <td>...</td>\n",
       "      <td>...</td>\n",
       "      <td>...</td>\n",
       "      <td>...</td>\n",
       "      <td>...</td>\n",
       "      <td>...</td>\n",
       "      <td>...</td>\n",
       "      <td>...</td>\n",
       "      <td>...</td>\n",
       "      <td>...</td>\n",
       "      <td>...</td>\n",
       "      <td>...</td>\n",
       "      <td>...</td>\n",
       "    </tr>\n",
       "    <tr>\n",
       "      <th>492</th>\n",
       "      <td>1492</td>\n",
       "      <td>0</td>\n",
       "      <td>0</td>\n",
       "      <td>0</td>\n",
       "      <td>0</td>\n",
       "      <td>0</td>\n",
       "      <td>84</td>\n",
       "      <td>517</td>\n",
       "      <td>603</td>\n",
       "      <td>694</td>\n",
       "      <td>619</td>\n",
       "      <td>510</td>\n",
       "      <td>781</td>\n",
       "      <td>smart</td>\n",
       "      <td>500</td>\n",
       "      <td>3</td>\n",
       "      <td>724</td>\n",
       "      <td>2172</td>\n",
       "    </tr>\n",
       "    <tr>\n",
       "      <th>493</th>\n",
       "      <td>1494</td>\n",
       "      <td>0</td>\n",
       "      <td>0</td>\n",
       "      <td>0</td>\n",
       "      <td>0</td>\n",
       "      <td>0</td>\n",
       "      <td>0</td>\n",
       "      <td>0</td>\n",
       "      <td>262</td>\n",
       "      <td>501</td>\n",
       "      <td>354</td>\n",
       "      <td>411</td>\n",
       "      <td>418</td>\n",
       "      <td>smart</td>\n",
       "      <td>500</td>\n",
       "      <td>3</td>\n",
       "      <td>1</td>\n",
       "      <td>3</td>\n",
       "    </tr>\n",
       "    <tr>\n",
       "      <th>494</th>\n",
       "      <td>1496</td>\n",
       "      <td>48</td>\n",
       "      <td>594</td>\n",
       "      <td>557</td>\n",
       "      <td>521</td>\n",
       "      <td>484</td>\n",
       "      <td>555</td>\n",
       "      <td>582</td>\n",
       "      <td>527</td>\n",
       "      <td>486</td>\n",
       "      <td>450</td>\n",
       "      <td>662</td>\n",
       "      <td>518</td>\n",
       "      <td>smart</td>\n",
       "      <td>500</td>\n",
       "      <td>3</td>\n",
       "      <td>516</td>\n",
       "      <td>1548</td>\n",
       "    </tr>\n",
       "    <tr>\n",
       "      <th>495</th>\n",
       "      <td>1497</td>\n",
       "      <td>0</td>\n",
       "      <td>0</td>\n",
       "      <td>0</td>\n",
       "      <td>0</td>\n",
       "      <td>0</td>\n",
       "      <td>0</td>\n",
       "      <td>0</td>\n",
       "      <td>0</td>\n",
       "      <td>0</td>\n",
       "      <td>490</td>\n",
       "      <td>371</td>\n",
       "      <td>545</td>\n",
       "      <td>smart</td>\n",
       "      <td>500</td>\n",
       "      <td>3</td>\n",
       "      <td>45</td>\n",
       "      <td>135</td>\n",
       "    </tr>\n",
       "    <tr>\n",
       "      <th>497</th>\n",
       "      <td>1499</td>\n",
       "      <td>0</td>\n",
       "      <td>0</td>\n",
       "      <td>0</td>\n",
       "      <td>0</td>\n",
       "      <td>0</td>\n",
       "      <td>0</td>\n",
       "      <td>0</td>\n",
       "      <td>0</td>\n",
       "      <td>70</td>\n",
       "      <td>449</td>\n",
       "      <td>612</td>\n",
       "      <td>492</td>\n",
       "      <td>smart</td>\n",
       "      <td>500</td>\n",
       "      <td>3</td>\n",
       "      <td>112</td>\n",
       "      <td>336</td>\n",
       "    </tr>\n",
       "  </tbody>\n",
       "</table>\n",
       "<p>213 rows × 18 columns</p>\n",
       "</div>"
      ],
      "text/plain": [
       "     user_id   1    2    3    4    5    6    7    8    9   10   11   12  \\\n",
       "151     1005  95  456  606  712  595  612  569  619  479  723  547  592   \n",
       "153     1007   0    0    0  198  480  545  577  458  655  465  580  421   \n",
       "157     1011   0    0  212  371  437  327  502  515  472  630  501  361   \n",
       "160     1015   0    0    0   11  401  430  556  394  486  577  454  499   \n",
       "162     1020   0    0    0    0    0    0    0    0    0  239  674  340   \n",
       "..       ...  ..  ...  ...  ...  ...  ...  ...  ...  ...  ...  ...  ...   \n",
       "492     1492   0    0    0    0    0   84  517  603  694  619  510  781   \n",
       "493     1494   0    0    0    0    0    0    0  262  501  354  411  418   \n",
       "494     1496  48  594  557  521  484  555  582  527  486  450  662  518   \n",
       "495     1497   0    0    0    0    0    0    0    0    0  490  371  545   \n",
       "497     1499   0    0    0    0    0    0    0    0   70  449  612  492   \n",
       "\n",
       "    tariff  tariff_includs  rub_per_minute  over_limit  calls_extra_pay  \n",
       "151  smart             500               3        1075             3225  \n",
       "153  smart             500               3         357             1071  \n",
       "157  smart             500               3         148              444  \n",
       "160  smart             500               3         133              399  \n",
       "162  smart             500               3         174              522  \n",
       "..     ...             ...             ...         ...              ...  \n",
       "492  smart             500               3         724             2172  \n",
       "493  smart             500               3           1                3  \n",
       "494  smart             500               3         516             1548  \n",
       "495  smart             500               3          45              135  \n",
       "497  smart             500               3         112              336  \n",
       "\n",
       "[213 rows x 18 columns]"
      ]
     },
     "execution_count": 49,
     "metadata": {},
     "output_type": "execute_result"
    }
   ],
   "source": [
    "# Применим функцию построчно к сфорированной ранее таблице.\n",
    "# Результат - сумма перерасходованных минут за каждый месяц нарастающим итогом\n",
    "df_calls_earn['over_limit'] = df_calls_earn.apply(limits, axis=1)\n",
    "\n",
    "# Подлежит начислению согласно тарифов\n",
    "df_calls_earn['calls_extra_pay'] = df_calls_earn['over_limit'] * df_calls_earn['rub_per_minute']\n",
    "\n",
    "# Проврека структуры полученной таблицы\n",
    "df_calls_earn[df_calls_earn['calls_extra_pay']!=0]"
   ]
  },
  {
   "cell_type": "markdown",
   "id": "b4089163",
   "metadata": {},
   "source": [
    "#### Интернет-трафик"
   ]
  },
  {
   "cell_type": "markdown",
   "id": "09f730c5",
   "metadata": {},
   "source": [
    "Стоимость перерасходованных сверх лимита гигобайт интернет-тарфика."
   ]
  },
  {
   "cell_type": "code",
   "execution_count": 50,
   "id": "de826ea0",
   "metadata": {},
   "outputs": [],
   "source": [
    "# Добавим в таблицу, созданную в п. 3.2.2 df_inet_users_month данные из таблиц df_users, df_tariffs \n",
    "df_inet_earn = df_inet_users_month.merge(\n",
    "    df_users[['tariff','user_id']], on='user_id', how='outer').merge(\n",
    "        df_tariffs[['tariff','mb_per_month_included','rub_per_gb']], on='tariff')\n",
    "\n",
    "# Переведем трафик из Мегабайтов в Гигабайты\n",
    "df_inet_earn['mb_per_month_included'] = df_inet_earn['mb_per_month_included']/1024\n",
    "\n",
    "# Заменим пустые значения на 0. Преобразуем тимы данных в int\n",
    "df_inet_earn.fillna(value=0, inplace=True)\n",
    "df_inet_earn.iloc[:,1:13] = df_inet_earn.iloc[:,1:13].astype('int')\n",
    "\n",
    "# Для использования написанной ранее функции limits переименуем столбец mb_per_month_included в tariff_includs\n",
    "df_inet_earn.columns = ['user_id', 1, 2, 3, 4, 5, 6, 7, 8, 9, 10, 11, 12, 'tariff', 'tariff_includs', 'rub_per_gb']"
   ]
  },
  {
   "cell_type": "code",
   "execution_count": 51,
   "id": "81ba966f",
   "metadata": {
    "scrolled": false
   },
   "outputs": [
    {
     "data": {
      "text/html": [
       "<div>\n",
       "<style scoped>\n",
       "    .dataframe tbody tr th:only-of-type {\n",
       "        vertical-align: middle;\n",
       "    }\n",
       "\n",
       "    .dataframe tbody tr th {\n",
       "        vertical-align: top;\n",
       "    }\n",
       "\n",
       "    .dataframe thead th {\n",
       "        text-align: right;\n",
       "    }\n",
       "</style>\n",
       "<table border=\"1\" class=\"dataframe\">\n",
       "  <thead>\n",
       "    <tr style=\"text-align: right;\">\n",
       "      <th></th>\n",
       "      <th>user_id</th>\n",
       "      <th>1</th>\n",
       "      <th>2</th>\n",
       "      <th>3</th>\n",
       "      <th>4</th>\n",
       "      <th>5</th>\n",
       "      <th>6</th>\n",
       "      <th>7</th>\n",
       "      <th>8</th>\n",
       "      <th>9</th>\n",
       "      <th>10</th>\n",
       "      <th>11</th>\n",
       "      <th>12</th>\n",
       "      <th>tariff</th>\n",
       "      <th>tariff_includs</th>\n",
       "      <th>rub_per_gb</th>\n",
       "      <th>over_limit</th>\n",
       "      <th>inet_extra_pay</th>\n",
       "    </tr>\n",
       "  </thead>\n",
       "  <tbody>\n",
       "    <tr>\n",
       "      <th>8</th>\n",
       "      <td>1024</td>\n",
       "      <td>0</td>\n",
       "      <td>0</td>\n",
       "      <td>0</td>\n",
       "      <td>0</td>\n",
       "      <td>0</td>\n",
       "      <td>0</td>\n",
       "      <td>0</td>\n",
       "      <td>0</td>\n",
       "      <td>0</td>\n",
       "      <td>4</td>\n",
       "      <td>43</td>\n",
       "      <td>36</td>\n",
       "      <td>ultra</td>\n",
       "      <td>30.0</td>\n",
       "      <td>150</td>\n",
       "      <td>19.0</td>\n",
       "      <td>2850.0</td>\n",
       "    </tr>\n",
       "    <tr>\n",
       "      <th>13</th>\n",
       "      <td>1050</td>\n",
       "      <td>0</td>\n",
       "      <td>0</td>\n",
       "      <td>0</td>\n",
       "      <td>0</td>\n",
       "      <td>0</td>\n",
       "      <td>10</td>\n",
       "      <td>35</td>\n",
       "      <td>25</td>\n",
       "      <td>30</td>\n",
       "      <td>1</td>\n",
       "      <td>0</td>\n",
       "      <td>0</td>\n",
       "      <td>ultra</td>\n",
       "      <td>30.0</td>\n",
       "      <td>150</td>\n",
       "      <td>5.0</td>\n",
       "      <td>750.0</td>\n",
       "    </tr>\n",
       "    <tr>\n",
       "      <th>16</th>\n",
       "      <td>1060</td>\n",
       "      <td>0</td>\n",
       "      <td>0</td>\n",
       "      <td>0</td>\n",
       "      <td>0</td>\n",
       "      <td>0</td>\n",
       "      <td>0</td>\n",
       "      <td>0</td>\n",
       "      <td>0</td>\n",
       "      <td>0</td>\n",
       "      <td>0</td>\n",
       "      <td>13</td>\n",
       "      <td>43</td>\n",
       "      <td>ultra</td>\n",
       "      <td>30.0</td>\n",
       "      <td>150</td>\n",
       "      <td>13.0</td>\n",
       "      <td>1950.0</td>\n",
       "    </tr>\n",
       "    <tr>\n",
       "      <th>34</th>\n",
       "      <td>1124</td>\n",
       "      <td>0</td>\n",
       "      <td>0</td>\n",
       "      <td>0</td>\n",
       "      <td>0</td>\n",
       "      <td>0</td>\n",
       "      <td>0</td>\n",
       "      <td>0</td>\n",
       "      <td>0</td>\n",
       "      <td>9</td>\n",
       "      <td>49</td>\n",
       "      <td>36</td>\n",
       "      <td>39</td>\n",
       "      <td>ultra</td>\n",
       "      <td>30.0</td>\n",
       "      <td>150</td>\n",
       "      <td>34.0</td>\n",
       "      <td>5100.0</td>\n",
       "    </tr>\n",
       "    <tr>\n",
       "      <th>35</th>\n",
       "      <td>1126</td>\n",
       "      <td>16</td>\n",
       "      <td>20</td>\n",
       "      <td>25</td>\n",
       "      <td>27</td>\n",
       "      <td>27</td>\n",
       "      <td>29</td>\n",
       "      <td>28</td>\n",
       "      <td>29</td>\n",
       "      <td>26</td>\n",
       "      <td>20</td>\n",
       "      <td>27</td>\n",
       "      <td>33</td>\n",
       "      <td>ultra</td>\n",
       "      <td>30.0</td>\n",
       "      <td>150</td>\n",
       "      <td>3.0</td>\n",
       "      <td>450.0</td>\n",
       "    </tr>\n",
       "    <tr>\n",
       "      <th>...</th>\n",
       "      <td>...</td>\n",
       "      <td>...</td>\n",
       "      <td>...</td>\n",
       "      <td>...</td>\n",
       "      <td>...</td>\n",
       "      <td>...</td>\n",
       "      <td>...</td>\n",
       "      <td>...</td>\n",
       "      <td>...</td>\n",
       "      <td>...</td>\n",
       "      <td>...</td>\n",
       "      <td>...</td>\n",
       "      <td>...</td>\n",
       "      <td>...</td>\n",
       "      <td>...</td>\n",
       "      <td>...</td>\n",
       "      <td>...</td>\n",
       "      <td>...</td>\n",
       "    </tr>\n",
       "    <tr>\n",
       "      <th>494</th>\n",
       "      <td>1494</td>\n",
       "      <td>0</td>\n",
       "      <td>0</td>\n",
       "      <td>0</td>\n",
       "      <td>0</td>\n",
       "      <td>0</td>\n",
       "      <td>0</td>\n",
       "      <td>0</td>\n",
       "      <td>7</td>\n",
       "      <td>17</td>\n",
       "      <td>18</td>\n",
       "      <td>18</td>\n",
       "      <td>18</td>\n",
       "      <td>smart</td>\n",
       "      <td>15.0</td>\n",
       "      <td>200</td>\n",
       "      <td>11.0</td>\n",
       "      <td>2200.0</td>\n",
       "    </tr>\n",
       "    <tr>\n",
       "      <th>495</th>\n",
       "      <td>1496</td>\n",
       "      <td>4</td>\n",
       "      <td>28</td>\n",
       "      <td>25</td>\n",
       "      <td>21</td>\n",
       "      <td>24</td>\n",
       "      <td>20</td>\n",
       "      <td>24</td>\n",
       "      <td>23</td>\n",
       "      <td>27</td>\n",
       "      <td>28</td>\n",
       "      <td>25</td>\n",
       "      <td>21</td>\n",
       "      <td>smart</td>\n",
       "      <td>15.0</td>\n",
       "      <td>200</td>\n",
       "      <td>101.0</td>\n",
       "      <td>20200.0</td>\n",
       "    </tr>\n",
       "    <tr>\n",
       "      <th>496</th>\n",
       "      <td>1497</td>\n",
       "      <td>0</td>\n",
       "      <td>0</td>\n",
       "      <td>0</td>\n",
       "      <td>0</td>\n",
       "      <td>0</td>\n",
       "      <td>0</td>\n",
       "      <td>0</td>\n",
       "      <td>0</td>\n",
       "      <td>0</td>\n",
       "      <td>12</td>\n",
       "      <td>14</td>\n",
       "      <td>20</td>\n",
       "      <td>smart</td>\n",
       "      <td>15.0</td>\n",
       "      <td>200</td>\n",
       "      <td>5.0</td>\n",
       "      <td>1000.0</td>\n",
       "    </tr>\n",
       "    <tr>\n",
       "      <th>497</th>\n",
       "      <td>1498</td>\n",
       "      <td>0</td>\n",
       "      <td>0</td>\n",
       "      <td>0</td>\n",
       "      <td>0</td>\n",
       "      <td>0</td>\n",
       "      <td>0</td>\n",
       "      <td>8</td>\n",
       "      <td>24</td>\n",
       "      <td>22</td>\n",
       "      <td>21</td>\n",
       "      <td>0</td>\n",
       "      <td>0</td>\n",
       "      <td>smart</td>\n",
       "      <td>15.0</td>\n",
       "      <td>200</td>\n",
       "      <td>22.0</td>\n",
       "      <td>4400.0</td>\n",
       "    </tr>\n",
       "    <tr>\n",
       "      <th>498</th>\n",
       "      <td>1499</td>\n",
       "      <td>0</td>\n",
       "      <td>0</td>\n",
       "      <td>0</td>\n",
       "      <td>0</td>\n",
       "      <td>0</td>\n",
       "      <td>0</td>\n",
       "      <td>0</td>\n",
       "      <td>0</td>\n",
       "      <td>2</td>\n",
       "      <td>18</td>\n",
       "      <td>18</td>\n",
       "      <td>13</td>\n",
       "      <td>smart</td>\n",
       "      <td>15.0</td>\n",
       "      <td>200</td>\n",
       "      <td>6.0</td>\n",
       "      <td>1200.0</td>\n",
       "    </tr>\n",
       "  </tbody>\n",
       "</table>\n",
       "<p>353 rows × 18 columns</p>\n",
       "</div>"
      ],
      "text/plain": [
       "     user_id   1   2   3   4   5   6   7   8   9  10  11  12 tariff  \\\n",
       "8       1024   0   0   0   0   0   0   0   0   0   4  43  36  ultra   \n",
       "13      1050   0   0   0   0   0  10  35  25  30   1   0   0  ultra   \n",
       "16      1060   0   0   0   0   0   0   0   0   0   0  13  43  ultra   \n",
       "34      1124   0   0   0   0   0   0   0   0   9  49  36  39  ultra   \n",
       "35      1126  16  20  25  27  27  29  28  29  26  20  27  33  ultra   \n",
       "..       ...  ..  ..  ..  ..  ..  ..  ..  ..  ..  ..  ..  ..    ...   \n",
       "494     1494   0   0   0   0   0   0   0   7  17  18  18  18  smart   \n",
       "495     1496   4  28  25  21  24  20  24  23  27  28  25  21  smart   \n",
       "496     1497   0   0   0   0   0   0   0   0   0  12  14  20  smart   \n",
       "497     1498   0   0   0   0   0   0   8  24  22  21   0   0  smart   \n",
       "498     1499   0   0   0   0   0   0   0   0   2  18  18  13  smart   \n",
       "\n",
       "     tariff_includs  rub_per_gb  over_limit  inet_extra_pay  \n",
       "8              30.0         150        19.0          2850.0  \n",
       "13             30.0         150         5.0           750.0  \n",
       "16             30.0         150        13.0          1950.0  \n",
       "34             30.0         150        34.0          5100.0  \n",
       "35             30.0         150         3.0           450.0  \n",
       "..              ...         ...         ...             ...  \n",
       "494            15.0         200        11.0          2200.0  \n",
       "495            15.0         200       101.0         20200.0  \n",
       "496            15.0         200         5.0          1000.0  \n",
       "497            15.0         200        22.0          4400.0  \n",
       "498            15.0         200         6.0          1200.0  \n",
       "\n",
       "[353 rows x 18 columns]"
      ]
     },
     "execution_count": 51,
     "metadata": {},
     "output_type": "execute_result"
    }
   ],
   "source": [
    "df_inet_earn['over_limit'] = df_inet_earn.apply(limits, axis=1)\n",
    "\n",
    "# Общая сумма к оплате за все перерасходы\n",
    "df_inet_earn['inet_extra_pay'] = df_inet_earn['over_limit'] * df_inet_earn['rub_per_gb']\n",
    "df_inet_earn[df_inet_earn['inet_extra_pay']!=0]"
   ]
  },
  {
   "cell_type": "markdown",
   "id": "e9e6a2fb",
   "metadata": {},
   "source": [
    "#### SMS"
   ]
  },
  {
   "cell_type": "code",
   "execution_count": 52,
   "id": "18db5a6f",
   "metadata": {},
   "outputs": [],
   "source": [
    "# Добавим в таблицу, созданную в п. 3.2.3 df_sms_users_month данные из таблиц df_users, df_tariffs \n",
    "df_sms_earn = df_sms_users_month.merge(\n",
    "    df_users[['tariff','user_id']], how='outer').merge(\n",
    "        df_tariffs[['tariff','messages_included','rub_per_message']], on='tariff')\n",
    "\n",
    "# Поправляем пропуски, типы значений, названия столбцов\n",
    "df_sms_earn.fillna(value=0, inplace=True)\n",
    "df_sms_earn.iloc[:,1:13] = df_sms_earn.iloc[:,1:13].astype('int')\n",
    "df_sms_earn.columns = ['user_id', 1, 2, 3, 4, 5, 6, 7, 8, 9, 10, 11, 12, 'tariff', 'tariff_includs', 'rub_per_message']"
   ]
  },
  {
   "cell_type": "code",
   "execution_count": 53,
   "id": "77e31ee9",
   "metadata": {},
   "outputs": [
    {
     "data": {
      "text/html": [
       "<div>\n",
       "<style scoped>\n",
       "    .dataframe tbody tr th:only-of-type {\n",
       "        vertical-align: middle;\n",
       "    }\n",
       "\n",
       "    .dataframe tbody tr th {\n",
       "        vertical-align: top;\n",
       "    }\n",
       "\n",
       "    .dataframe thead th {\n",
       "        text-align: right;\n",
       "    }\n",
       "</style>\n",
       "<table border=\"1\" class=\"dataframe\">\n",
       "  <thead>\n",
       "    <tr style=\"text-align: right;\">\n",
       "      <th></th>\n",
       "      <th>user_id</th>\n",
       "      <th>1</th>\n",
       "      <th>2</th>\n",
       "      <th>3</th>\n",
       "      <th>4</th>\n",
       "      <th>5</th>\n",
       "      <th>6</th>\n",
       "      <th>7</th>\n",
       "      <th>8</th>\n",
       "      <th>9</th>\n",
       "      <th>10</th>\n",
       "      <th>11</th>\n",
       "      <th>12</th>\n",
       "      <th>tariff</th>\n",
       "      <th>tariff_includs</th>\n",
       "      <th>rub_per_message</th>\n",
       "      <th>over_limit</th>\n",
       "      <th>sms_extra_pay</th>\n",
       "    </tr>\n",
       "  </thead>\n",
       "  <tbody>\n",
       "    <tr>\n",
       "      <th>150</th>\n",
       "      <td>1005</td>\n",
       "      <td>7</td>\n",
       "      <td>38</td>\n",
       "      <td>56</td>\n",
       "      <td>41</td>\n",
       "      <td>42</td>\n",
       "      <td>47</td>\n",
       "      <td>56</td>\n",
       "      <td>64</td>\n",
       "      <td>52</td>\n",
       "      <td>44</td>\n",
       "      <td>51</td>\n",
       "      <td>54</td>\n",
       "      <td>smart</td>\n",
       "      <td>50</td>\n",
       "      <td>3</td>\n",
       "      <td>33</td>\n",
       "      <td>99</td>\n",
       "    </tr>\n",
       "    <tr>\n",
       "      <th>152</th>\n",
       "      <td>1008</td>\n",
       "      <td>0</td>\n",
       "      <td>0</td>\n",
       "      <td>0</td>\n",
       "      <td>0</td>\n",
       "      <td>0</td>\n",
       "      <td>0</td>\n",
       "      <td>0</td>\n",
       "      <td>0</td>\n",
       "      <td>0</td>\n",
       "      <td>0</td>\n",
       "      <td>0</td>\n",
       "      <td>56</td>\n",
       "      <td>smart</td>\n",
       "      <td>50</td>\n",
       "      <td>3</td>\n",
       "      <td>6</td>\n",
       "      <td>18</td>\n",
       "    </tr>\n",
       "    <tr>\n",
       "      <th>156</th>\n",
       "      <td>1014</td>\n",
       "      <td>0</td>\n",
       "      <td>0</td>\n",
       "      <td>0</td>\n",
       "      <td>0</td>\n",
       "      <td>34</td>\n",
       "      <td>48</td>\n",
       "      <td>39</td>\n",
       "      <td>43</td>\n",
       "      <td>48</td>\n",
       "      <td>51</td>\n",
       "      <td>36</td>\n",
       "      <td>53</td>\n",
       "      <td>smart</td>\n",
       "      <td>50</td>\n",
       "      <td>3</td>\n",
       "      <td>4</td>\n",
       "      <td>12</td>\n",
       "    </tr>\n",
       "    <tr>\n",
       "      <th>157</th>\n",
       "      <td>1015</td>\n",
       "      <td>0</td>\n",
       "      <td>0</td>\n",
       "      <td>0</td>\n",
       "      <td>3</td>\n",
       "      <td>73</td>\n",
       "      <td>80</td>\n",
       "      <td>90</td>\n",
       "      <td>68</td>\n",
       "      <td>68</td>\n",
       "      <td>68</td>\n",
       "      <td>61</td>\n",
       "      <td>74</td>\n",
       "      <td>smart</td>\n",
       "      <td>50</td>\n",
       "      <td>3</td>\n",
       "      <td>182</td>\n",
       "      <td>546</td>\n",
       "    </tr>\n",
       "    <tr>\n",
       "      <th>162</th>\n",
       "      <td>1026</td>\n",
       "      <td>0</td>\n",
       "      <td>0</td>\n",
       "      <td>0</td>\n",
       "      <td>0</td>\n",
       "      <td>0</td>\n",
       "      <td>0</td>\n",
       "      <td>0</td>\n",
       "      <td>0</td>\n",
       "      <td>0</td>\n",
       "      <td>39</td>\n",
       "      <td>48</td>\n",
       "      <td>57</td>\n",
       "      <td>smart</td>\n",
       "      <td>50</td>\n",
       "      <td>3</td>\n",
       "      <td>7</td>\n",
       "      <td>21</td>\n",
       "    </tr>\n",
       "    <tr>\n",
       "      <th>...</th>\n",
       "      <td>...</td>\n",
       "      <td>...</td>\n",
       "      <td>...</td>\n",
       "      <td>...</td>\n",
       "      <td>...</td>\n",
       "      <td>...</td>\n",
       "      <td>...</td>\n",
       "      <td>...</td>\n",
       "      <td>...</td>\n",
       "      <td>...</td>\n",
       "      <td>...</td>\n",
       "      <td>...</td>\n",
       "      <td>...</td>\n",
       "      <td>...</td>\n",
       "      <td>...</td>\n",
       "      <td>...</td>\n",
       "      <td>...</td>\n",
       "      <td>...</td>\n",
       "    </tr>\n",
       "    <tr>\n",
       "      <th>443</th>\n",
       "      <td>1488</td>\n",
       "      <td>0</td>\n",
       "      <td>0</td>\n",
       "      <td>0</td>\n",
       "      <td>0</td>\n",
       "      <td>0</td>\n",
       "      <td>0</td>\n",
       "      <td>0</td>\n",
       "      <td>0</td>\n",
       "      <td>0</td>\n",
       "      <td>0</td>\n",
       "      <td>81</td>\n",
       "      <td>103</td>\n",
       "      <td>smart</td>\n",
       "      <td>50</td>\n",
       "      <td>3</td>\n",
       "      <td>84</td>\n",
       "      <td>252</td>\n",
       "    </tr>\n",
       "    <tr>\n",
       "      <th>445</th>\n",
       "      <td>1490</td>\n",
       "      <td>0</td>\n",
       "      <td>0</td>\n",
       "      <td>0</td>\n",
       "      <td>38</td>\n",
       "      <td>37</td>\n",
       "      <td>50</td>\n",
       "      <td>62</td>\n",
       "      <td>50</td>\n",
       "      <td>48</td>\n",
       "      <td>45</td>\n",
       "      <td>47</td>\n",
       "      <td>46</td>\n",
       "      <td>smart</td>\n",
       "      <td>50</td>\n",
       "      <td>3</td>\n",
       "      <td>12</td>\n",
       "      <td>36</td>\n",
       "    </tr>\n",
       "    <tr>\n",
       "      <th>447</th>\n",
       "      <td>1496</td>\n",
       "      <td>9</td>\n",
       "      <td>45</td>\n",
       "      <td>46</td>\n",
       "      <td>49</td>\n",
       "      <td>40</td>\n",
       "      <td>35</td>\n",
       "      <td>42</td>\n",
       "      <td>41</td>\n",
       "      <td>29</td>\n",
       "      <td>35</td>\n",
       "      <td>46</td>\n",
       "      <td>51</td>\n",
       "      <td>smart</td>\n",
       "      <td>50</td>\n",
       "      <td>3</td>\n",
       "      <td>1</td>\n",
       "      <td>3</td>\n",
       "    </tr>\n",
       "    <tr>\n",
       "      <th>449</th>\n",
       "      <td>1498</td>\n",
       "      <td>0</td>\n",
       "      <td>0</td>\n",
       "      <td>0</td>\n",
       "      <td>0</td>\n",
       "      <td>0</td>\n",
       "      <td>0</td>\n",
       "      <td>20</td>\n",
       "      <td>62</td>\n",
       "      <td>44</td>\n",
       "      <td>42</td>\n",
       "      <td>0</td>\n",
       "      <td>0</td>\n",
       "      <td>smart</td>\n",
       "      <td>50</td>\n",
       "      <td>3</td>\n",
       "      <td>12</td>\n",
       "      <td>36</td>\n",
       "    </tr>\n",
       "    <tr>\n",
       "      <th>450</th>\n",
       "      <td>1499</td>\n",
       "      <td>0</td>\n",
       "      <td>0</td>\n",
       "      <td>0</td>\n",
       "      <td>0</td>\n",
       "      <td>0</td>\n",
       "      <td>0</td>\n",
       "      <td>0</td>\n",
       "      <td>0</td>\n",
       "      <td>11</td>\n",
       "      <td>48</td>\n",
       "      <td>59</td>\n",
       "      <td>66</td>\n",
       "      <td>smart</td>\n",
       "      <td>50</td>\n",
       "      <td>3</td>\n",
       "      <td>25</td>\n",
       "      <td>75</td>\n",
       "    </tr>\n",
       "  </tbody>\n",
       "</table>\n",
       "<p>125 rows × 18 columns</p>\n",
       "</div>"
      ],
      "text/plain": [
       "     user_id  1   2   3   4   5   6   7   8   9  10  11   12 tariff  \\\n",
       "150     1005  7  38  56  41  42  47  56  64  52  44  51   54  smart   \n",
       "152     1008  0   0   0   0   0   0   0   0   0   0   0   56  smart   \n",
       "156     1014  0   0   0   0  34  48  39  43  48  51  36   53  smart   \n",
       "157     1015  0   0   0   3  73  80  90  68  68  68  61   74  smart   \n",
       "162     1026  0   0   0   0   0   0   0   0   0  39  48   57  smart   \n",
       "..       ... ..  ..  ..  ..  ..  ..  ..  ..  ..  ..  ..  ...    ...   \n",
       "443     1488  0   0   0   0   0   0   0   0   0   0  81  103  smart   \n",
       "445     1490  0   0   0  38  37  50  62  50  48  45  47   46  smart   \n",
       "447     1496  9  45  46  49  40  35  42  41  29  35  46   51  smart   \n",
       "449     1498  0   0   0   0   0   0  20  62  44  42   0    0  smart   \n",
       "450     1499  0   0   0   0   0   0   0   0  11  48  59   66  smart   \n",
       "\n",
       "     tariff_includs  rub_per_message  over_limit  sms_extra_pay  \n",
       "150              50                3          33             99  \n",
       "152              50                3           6             18  \n",
       "156              50                3           4             12  \n",
       "157              50                3         182            546  \n",
       "162              50                3           7             21  \n",
       "..              ...              ...         ...            ...  \n",
       "443              50                3          84            252  \n",
       "445              50                3          12             36  \n",
       "447              50                3           1              3  \n",
       "449              50                3          12             36  \n",
       "450              50                3          25             75  \n",
       "\n",
       "[125 rows x 18 columns]"
      ]
     },
     "execution_count": 53,
     "metadata": {},
     "output_type": "execute_result"
    }
   ],
   "source": [
    "# Применяем функцию limit, рассчитываем стоимость sms, отправленных сверх тарифа\n",
    "df_sms_earn['over_limit'] = df_sms_earn.apply(limits, axis=1)\n",
    "df_sms_earn['sms_extra_pay'] = df_sms_earn['over_limit'] * df_sms_earn['rub_per_message']\n",
    "df_sms_earn[df_sms_earn['sms_extra_pay']!=0]"
   ]
  },
  {
   "cell_type": "markdown",
   "id": "7cfe60c9",
   "metadata": {},
   "source": [
    "#### Расчет абонентской платы"
   ]
  },
  {
   "cell_type": "markdown",
   "id": "e262a495",
   "metadata": {},
   "source": [
    "Абонентскую плату посчитаем общей суммой за год для каждого пользователя. Для этого используем даты регистрации и, у кого указаны, расторжения договора из таблицы df_users."
   ]
  },
  {
   "cell_type": "code",
   "execution_count": 54,
   "id": "9215b90b",
   "metadata": {
    "scrolled": false
   },
   "outputs": [
    {
     "data": {
      "text/html": [
       "<div>\n",
       "<style scoped>\n",
       "    .dataframe tbody tr th:only-of-type {\n",
       "        vertical-align: middle;\n",
       "    }\n",
       "\n",
       "    .dataframe tbody tr th {\n",
       "        vertical-align: top;\n",
       "    }\n",
       "\n",
       "    .dataframe thead th {\n",
       "        text-align: right;\n",
       "    }\n",
       "</style>\n",
       "<table border=\"1\" class=\"dataframe\">\n",
       "  <thead>\n",
       "    <tr style=\"text-align: right;\">\n",
       "      <th></th>\n",
       "      <th>user_id</th>\n",
       "      <th>reg_month</th>\n",
       "      <th>churn_month</th>\n",
       "      <th>tariff</th>\n",
       "      <th>rub_monthly_fee</th>\n",
       "      <th>actual_months</th>\n",
       "      <th>fee</th>\n",
       "    </tr>\n",
       "  </thead>\n",
       "  <tbody>\n",
       "    <tr>\n",
       "      <th>0</th>\n",
       "      <td>1000</td>\n",
       "      <td>5</td>\n",
       "      <td>12</td>\n",
       "      <td>ultra</td>\n",
       "      <td>1950</td>\n",
       "      <td>8</td>\n",
       "      <td>15600</td>\n",
       "    </tr>\n",
       "    <tr>\n",
       "      <th>1</th>\n",
       "      <td>1003</td>\n",
       "      <td>8</td>\n",
       "      <td>12</td>\n",
       "      <td>ultra</td>\n",
       "      <td>1950</td>\n",
       "      <td>5</td>\n",
       "      <td>9750</td>\n",
       "    </tr>\n",
       "    <tr>\n",
       "      <th>2</th>\n",
       "      <td>1004</td>\n",
       "      <td>5</td>\n",
       "      <td>12</td>\n",
       "      <td>ultra</td>\n",
       "      <td>1950</td>\n",
       "      <td>8</td>\n",
       "      <td>15600</td>\n",
       "    </tr>\n",
       "    <tr>\n",
       "      <th>3</th>\n",
       "      <td>1013</td>\n",
       "      <td>11</td>\n",
       "      <td>12</td>\n",
       "      <td>ultra</td>\n",
       "      <td>1950</td>\n",
       "      <td>2</td>\n",
       "      <td>3900</td>\n",
       "    </tr>\n",
       "    <tr>\n",
       "      <th>4</th>\n",
       "      <td>1016</td>\n",
       "      <td>11</td>\n",
       "      <td>12</td>\n",
       "      <td>ultra</td>\n",
       "      <td>1950</td>\n",
       "      <td>2</td>\n",
       "      <td>3900</td>\n",
       "    </tr>\n",
       "    <tr>\n",
       "      <th>...</th>\n",
       "      <td>...</td>\n",
       "      <td>...</td>\n",
       "      <td>...</td>\n",
       "      <td>...</td>\n",
       "      <td>...</td>\n",
       "      <td>...</td>\n",
       "      <td>...</td>\n",
       "    </tr>\n",
       "    <tr>\n",
       "      <th>495</th>\n",
       "      <td>1494</td>\n",
       "      <td>8</td>\n",
       "      <td>12</td>\n",
       "      <td>smart</td>\n",
       "      <td>550</td>\n",
       "      <td>5</td>\n",
       "      <td>2750</td>\n",
       "    </tr>\n",
       "    <tr>\n",
       "      <th>496</th>\n",
       "      <td>1496</td>\n",
       "      <td>1</td>\n",
       "      <td>12</td>\n",
       "      <td>smart</td>\n",
       "      <td>550</td>\n",
       "      <td>12</td>\n",
       "      <td>6600</td>\n",
       "    </tr>\n",
       "    <tr>\n",
       "      <th>497</th>\n",
       "      <td>1497</td>\n",
       "      <td>10</td>\n",
       "      <td>12</td>\n",
       "      <td>smart</td>\n",
       "      <td>550</td>\n",
       "      <td>3</td>\n",
       "      <td>1650</td>\n",
       "    </tr>\n",
       "    <tr>\n",
       "      <th>498</th>\n",
       "      <td>1498</td>\n",
       "      <td>7</td>\n",
       "      <td>10</td>\n",
       "      <td>smart</td>\n",
       "      <td>550</td>\n",
       "      <td>4</td>\n",
       "      <td>2200</td>\n",
       "    </tr>\n",
       "    <tr>\n",
       "      <th>499</th>\n",
       "      <td>1499</td>\n",
       "      <td>9</td>\n",
       "      <td>12</td>\n",
       "      <td>smart</td>\n",
       "      <td>550</td>\n",
       "      <td>4</td>\n",
       "      <td>2200</td>\n",
       "    </tr>\n",
       "  </tbody>\n",
       "</table>\n",
       "<p>500 rows × 7 columns</p>\n",
       "</div>"
      ],
      "text/plain": [
       "     user_id  reg_month  churn_month tariff  rub_monthly_fee  actual_months  \\\n",
       "0       1000          5           12  ultra             1950              8   \n",
       "1       1003          8           12  ultra             1950              5   \n",
       "2       1004          5           12  ultra             1950              8   \n",
       "3       1013         11           12  ultra             1950              2   \n",
       "4       1016         11           12  ultra             1950              2   \n",
       "..       ...        ...          ...    ...              ...            ...   \n",
       "495     1494          8           12  smart              550              5   \n",
       "496     1496          1           12  smart              550             12   \n",
       "497     1497         10           12  smart              550              3   \n",
       "498     1498          7           10  smart              550              4   \n",
       "499     1499          9           12  smart              550              4   \n",
       "\n",
       "       fee  \n",
       "0    15600  \n",
       "1     9750  \n",
       "2    15600  \n",
       "3     3900  \n",
       "4     3900  \n",
       "..     ...  \n",
       "495   2750  \n",
       "496   6600  \n",
       "497   1650  \n",
       "498   2200  \n",
       "499   2200  \n",
       "\n",
       "[500 rows x 7 columns]"
      ]
     },
     "execution_count": 54,
     "metadata": {},
     "output_type": "execute_result"
    }
   ],
   "source": [
    "# Объедимним нужные данные из таблиц user_id и df_tariffs в новую таблицу\n",
    "df_fee = df_users[['user_id',\n",
    "                   'reg_month',\n",
    "                   'churn_month',\n",
    "                   'tariff']].merge(df_tariffs[['tariff',\n",
    "                                'rub_monthly_fee']], on='tariff')\n",
    "\n",
    "# Рассчитаем количество месяцев, в которых договор действовал.\n",
    "df_fee['actual_months'] = df_fee['churn_month'] - df_fee['reg_month'] + 1\n",
    "\n",
    "# Рассчитаем общую сумму абонентской платы за период пользования услугами\n",
    "df_fee['fee'] = df_fee['actual_months'] * df_fee['rub_monthly_fee']\n",
    "\n",
    "# Проверим сформированную таблицу\n",
    "df_fee"
   ]
  },
  {
   "cell_type": "markdown",
   "id": "75610c98",
   "metadata": {},
   "source": [
    "#### Расчет по каждому пользователю годовой и среднемесячной выручки"
   ]
  },
  {
   "cell_type": "code",
   "execution_count": 55,
   "id": "6aaf2265",
   "metadata": {},
   "outputs": [
    {
     "data": {
      "text/plain": [
       "user_id            0\n",
       "calls_extra_pay    0\n",
       "inet_extra_pay     0\n",
       "sms_extra_pay      0\n",
       "fee                0\n",
       "actual_months      0\n",
       "total_fee          0\n",
       "dtype: int64"
      ]
     },
     "execution_count": 55,
     "metadata": {},
     "output_type": "execute_result"
    }
   ],
   "source": [
    "# Объединим в одну таблицу полученные данные по услугам сверх лимита\n",
    "df_earn = df_calls_earn[['user_id','calls_extra_pay']].merge(\n",
    "            df_inet_earn[['user_id','inet_extra_pay']], on='user_id').merge(\n",
    "                df_sms_earn[['user_id','sms_extra_pay']], on='user_id').merge(\n",
    "                    df_fee[['user_id','fee','actual_months']], on='user_id')\n",
    "\n",
    "# Годовая выручка\n",
    "df_earn['total_fee'] = df_earn['calls_extra_pay'] + \\\n",
    "                       df_earn['inet_extra_pay'] + \\\n",
    "                       df_earn['sms_extra_pay'] + \\\n",
    "                       df_earn['fee']\n",
    "\n",
    "# Убедимся, что в стобце actual_month не оказалось нулевых и отрицательных значений\n",
    "df_earn[df_earn['actual_months'] <= 0].count()"
   ]
  },
  {
   "cell_type": "code",
   "execution_count": 56,
   "id": "20f9c48c",
   "metadata": {},
   "outputs": [
    {
     "data": {
      "text/html": [
       "<div>\n",
       "<style scoped>\n",
       "    .dataframe tbody tr th:only-of-type {\n",
       "        vertical-align: middle;\n",
       "    }\n",
       "\n",
       "    .dataframe tbody tr th {\n",
       "        vertical-align: top;\n",
       "    }\n",
       "\n",
       "    .dataframe thead th {\n",
       "        text-align: right;\n",
       "    }\n",
       "</style>\n",
       "<table border=\"1\" class=\"dataframe\">\n",
       "  <thead>\n",
       "    <tr style=\"text-align: right;\">\n",
       "      <th></th>\n",
       "      <th>user_id</th>\n",
       "      <th>calls_extra_pay</th>\n",
       "      <th>inet_extra_pay</th>\n",
       "      <th>sms_extra_pay</th>\n",
       "      <th>fee</th>\n",
       "      <th>actual_months</th>\n",
       "      <th>total_fee</th>\n",
       "      <th>avg_month_fee</th>\n",
       "    </tr>\n",
       "  </thead>\n",
       "  <tbody>\n",
       "    <tr>\n",
       "      <th>0</th>\n",
       "      <td>1000</td>\n",
       "      <td>0</td>\n",
       "      <td>0.0</td>\n",
       "      <td>0</td>\n",
       "      <td>15600</td>\n",
       "      <td>8</td>\n",
       "      <td>15600.0</td>\n",
       "      <td>1950.00</td>\n",
       "    </tr>\n",
       "    <tr>\n",
       "      <th>1</th>\n",
       "      <td>1003</td>\n",
       "      <td>0</td>\n",
       "      <td>0.0</td>\n",
       "      <td>0</td>\n",
       "      <td>9750</td>\n",
       "      <td>5</td>\n",
       "      <td>9750.0</td>\n",
       "      <td>1950.00</td>\n",
       "    </tr>\n",
       "    <tr>\n",
       "      <th>2</th>\n",
       "      <td>1004</td>\n",
       "      <td>0</td>\n",
       "      <td>0.0</td>\n",
       "      <td>0</td>\n",
       "      <td>15600</td>\n",
       "      <td>8</td>\n",
       "      <td>15600.0</td>\n",
       "      <td>1950.00</td>\n",
       "    </tr>\n",
       "    <tr>\n",
       "      <th>3</th>\n",
       "      <td>1013</td>\n",
       "      <td>0</td>\n",
       "      <td>0.0</td>\n",
       "      <td>0</td>\n",
       "      <td>3900</td>\n",
       "      <td>2</td>\n",
       "      <td>3900.0</td>\n",
       "      <td>1950.00</td>\n",
       "    </tr>\n",
       "    <tr>\n",
       "      <th>4</th>\n",
       "      <td>1016</td>\n",
       "      <td>0</td>\n",
       "      <td>0.0</td>\n",
       "      <td>0</td>\n",
       "      <td>3900</td>\n",
       "      <td>2</td>\n",
       "      <td>3900.0</td>\n",
       "      <td>1950.00</td>\n",
       "    </tr>\n",
       "    <tr>\n",
       "      <th>...</th>\n",
       "      <td>...</td>\n",
       "      <td>...</td>\n",
       "      <td>...</td>\n",
       "      <td>...</td>\n",
       "      <td>...</td>\n",
       "      <td>...</td>\n",
       "      <td>...</td>\n",
       "      <td>...</td>\n",
       "    </tr>\n",
       "    <tr>\n",
       "      <th>495</th>\n",
       "      <td>1497</td>\n",
       "      <td>135</td>\n",
       "      <td>1000.0</td>\n",
       "      <td>0</td>\n",
       "      <td>1650</td>\n",
       "      <td>3</td>\n",
       "      <td>2785.0</td>\n",
       "      <td>928.33</td>\n",
       "    </tr>\n",
       "    <tr>\n",
       "      <th>496</th>\n",
       "      <td>1498</td>\n",
       "      <td>0</td>\n",
       "      <td>4400.0</td>\n",
       "      <td>36</td>\n",
       "      <td>2200</td>\n",
       "      <td>4</td>\n",
       "      <td>6636.0</td>\n",
       "      <td>1659.00</td>\n",
       "    </tr>\n",
       "    <tr>\n",
       "      <th>497</th>\n",
       "      <td>1499</td>\n",
       "      <td>336</td>\n",
       "      <td>1200.0</td>\n",
       "      <td>75</td>\n",
       "      <td>2200</td>\n",
       "      <td>4</td>\n",
       "      <td>3811.0</td>\n",
       "      <td>952.75</td>\n",
       "    </tr>\n",
       "    <tr>\n",
       "      <th>498</th>\n",
       "      <td>1371</td>\n",
       "      <td>0</td>\n",
       "      <td>0.0</td>\n",
       "      <td>0</td>\n",
       "      <td>550</td>\n",
       "      <td>1</td>\n",
       "      <td>550.0</td>\n",
       "      <td>550.00</td>\n",
       "    </tr>\n",
       "    <tr>\n",
       "      <th>499</th>\n",
       "      <td>1489</td>\n",
       "      <td>0</td>\n",
       "      <td>2400.0</td>\n",
       "      <td>0</td>\n",
       "      <td>2750</td>\n",
       "      <td>5</td>\n",
       "      <td>5150.0</td>\n",
       "      <td>1030.00</td>\n",
       "    </tr>\n",
       "  </tbody>\n",
       "</table>\n",
       "<p>500 rows × 8 columns</p>\n",
       "</div>"
      ],
      "text/plain": [
       "     user_id  calls_extra_pay  inet_extra_pay  sms_extra_pay    fee  \\\n",
       "0       1000                0             0.0              0  15600   \n",
       "1       1003                0             0.0              0   9750   \n",
       "2       1004                0             0.0              0  15600   \n",
       "3       1013                0             0.0              0   3900   \n",
       "4       1016                0             0.0              0   3900   \n",
       "..       ...              ...             ...            ...    ...   \n",
       "495     1497              135          1000.0              0   1650   \n",
       "496     1498                0          4400.0             36   2200   \n",
       "497     1499              336          1200.0             75   2200   \n",
       "498     1371                0             0.0              0    550   \n",
       "499     1489                0          2400.0              0   2750   \n",
       "\n",
       "     actual_months  total_fee  avg_month_fee  \n",
       "0                8    15600.0        1950.00  \n",
       "1                5     9750.0        1950.00  \n",
       "2                8    15600.0        1950.00  \n",
       "3                2     3900.0        1950.00  \n",
       "4                2     3900.0        1950.00  \n",
       "..             ...        ...            ...  \n",
       "495              3     2785.0         928.33  \n",
       "496              4     6636.0        1659.00  \n",
       "497              4     3811.0         952.75  \n",
       "498              1      550.0         550.00  \n",
       "499              5     5150.0        1030.00  \n",
       "\n",
       "[500 rows x 8 columns]"
      ]
     },
     "execution_count": 56,
     "metadata": {},
     "output_type": "execute_result"
    }
   ],
   "source": [
    "# Среднемесячная выручка\n",
    "df_earn['avg_month_fee'] = round(df_earn['total_fee'] / df_earn['actual_months'],2)\n",
    "df_earn"
   ]
  },
  {
   "cell_type": "code",
   "execution_count": 57,
   "id": "1e6ed4f2",
   "metadata": {},
   "outputs": [
    {
     "data": {
      "text/plain": [
       "4916951.0"
      ]
     },
     "execution_count": 57,
     "metadata": {},
     "output_type": "execute_result"
    }
   ],
   "source": [
    "# check\n",
    "df_earn['total_fee'].sum()"
   ]
  },
  {
   "cell_type": "markdown",
   "id": "1b1adc9d",
   "metadata": {},
   "source": [
    "## Анализ данных"
   ]
  },
  {
   "cell_type": "markdown",
   "id": "6d4cf1d8",
   "metadata": {},
   "source": [
    "### Голосовая связь"
   ]
  },
  {
   "cell_type": "markdown",
   "id": "e3d368d2",
   "metadata": {},
   "source": [
    "Для анализа нам потребуется таблица со среднемесячным расходом минут по каждому абоненту. "
   ]
  },
  {
   "cell_type": "code",
   "execution_count": 58,
   "id": "bc12d353",
   "metadata": {},
   "outputs": [],
   "source": [
    "# Функция суммирования помесячных значений\n",
    "def summarizer(row):\n",
    "    total = 0\n",
    "    for i in range(1,13):\n",
    "        total += row[i]\n",
    "    return total "
   ]
  },
  {
   "cell_type": "code",
   "execution_count": 59,
   "id": "b8bf83e6",
   "metadata": {},
   "outputs": [],
   "source": [
    "# Функция для расчета статистик\n",
    "def statistics(data): \n",
    "    s = dict(); \n",
    "    s['median'] = round(data.median(),2)\n",
    "    s['mean'] = round(data.mean(),2)\n",
    "    s['var'] = round(np.var(data, ddof=1),2)\n",
    "    s['std'] = round(np.std(data, ddof=1),2)\n",
    "    s['count'] = data.count()\n",
    "    return s"
   ]
  },
  {
   "cell_type": "code",
   "execution_count": 60,
   "id": "7a3ecdfb",
   "metadata": {
    "scrolled": false
   },
   "outputs": [],
   "source": [
    "df_calls_avg = df_calls_users_month_time\n",
    "df_calls_avg['duration_avg'] = df_calls_avg.apply(summarizer, axis=1)\n",
    "\n",
    "# Добавим данные о тарифе и числе активных месяцев (для расчета среднемесячных значений)\n",
    "df_calls_avg = df_calls_avg.merge(\n",
    "    df_users[['user_id','tariff','reg_month','churn_month']], on='user_id', how='outer')\n",
    "df_calls_avg = df_calls_avg.fillna(0)\n",
    "df_calls_avg['actual_months'] = df_calls_avg['churn_month'] - df_calls_avg['reg_month'] + 1\n",
    "\n",
    "# Среднее число минут в месяц\n",
    "df_calls_avg['duration_avg'] = round(df_calls_avg['duration_avg'] / df_calls_avg['actual_months'],2)\n",
    "\n",
    "# Удалим не нужные более столбцы\n",
    "df_calls_avg = df_calls_avg.drop(columns=['churn_month','reg_month','actual_months',1,2,3,4,5,6,7,8,9,10,11,12],axis=1)\n"
   ]
  },
  {
   "cell_type": "code",
   "execution_count": 61,
   "id": "8867502d",
   "metadata": {},
   "outputs": [
    {
     "name": "stdout",
     "output_type": "stream",
     "text": [
      "Тариф ultra: {'median': 513.33, 'mean': 524.28, 'var': 80736.85, 'std': 284.14, 'count': 149}\n",
      "Тариф smart: {'median': 424.88, 'mean': 418.44, 'var': 21475.78, 'std': 146.55, 'count': 351}\n"
     ]
    },
    {
     "data": {
      "image/png": "[encoded data removed]",
      "text/plain": [
       "<Figure size 864x432 with 2 Axes>"
      ]
     },
     "metadata": {
      "needs_background": "light"
     },
     "output_type": "display_data"
    }
   ],
   "source": [
    "# Данные по разным тарифам выделяем в разные таблицы, рассчитываем статистики с помощью функции statistics\n",
    "df_calls_ultra = df_calls_avg[df_calls_avg['tariff'] == 'ultra']['duration_avg']\n",
    "stats_calls_ultra = statistics(df_calls_ultra)\n",
    "print('Тариф ultra:',stats_calls_ultra)\n",
    "\n",
    "df_calls_smart = df_calls_avg[df_calls_avg['tariff'] == 'smart']['duration_avg']\n",
    "stats_calls_smart = statistics(df_calls_smart)\n",
    "print('Тариф smart:',stats_calls_smart)\n",
    "\n",
    "# Строим гистограммы\n",
    "plt.figure(figsize=(12,6))\n",
    "plt.subplot(1,2,1)\n",
    "plt.hist(df_calls_ultra, density=True)\n",
    "plt.title('ultra')\n",
    "\n",
    "plt.subplot(1,2,2)\n",
    "plt.hist(df_calls_smart, density=True)\n",
    "plt.title('smart')\n",
    "plt.tight_layout()"
   ]
  },
  {
   "cell_type": "markdown",
   "id": "9d001d49",
   "metadata": {},
   "source": [
    "<div class=\"alert alert-warning\", style=\"border:solid coral 3px; padding: 20px\">\n",
    "<font size=\"4\", color = \"DimGrey\"><b>⚠️ Комментарий ревьюера</b></font>\n",
    "    <br /> \n",
    "    <font size=\"3\", color = \"black\">\n",
    "<br />посмотрим на влияние выбранной формы анализа, когда мы усредняем данные по клиенту за год"
   ]
  },
  {
   "cell_type": "code",
   "execution_count": 62,
   "id": "dbb67064",
   "metadata": {},
   "outputs": [
    {
     "data": {
      "text/html": [
       "<div>\n",
       "<style scoped>\n",
       "    .dataframe tbody tr th:only-of-type {\n",
       "        vertical-align: middle;\n",
       "    }\n",
       "\n",
       "    .dataframe tbody tr th {\n",
       "        vertical-align: top;\n",
       "    }\n",
       "\n",
       "    .dataframe thead th {\n",
       "        text-align: right;\n",
       "    }\n",
       "</style>\n",
       "<table border=\"1\" class=\"dataframe\">\n",
       "  <thead>\n",
       "    <tr style=\"text-align: right;\">\n",
       "      <th></th>\n",
       "      <th>id</th>\n",
       "      <th>call_date</th>\n",
       "      <th>duration</th>\n",
       "      <th>user_id</th>\n",
       "      <th>call_month</th>\n",
       "      <th>city</th>\n",
       "      <th>tariff</th>\n",
       "    </tr>\n",
       "  </thead>\n",
       "  <tbody>\n",
       "    <tr>\n",
       "      <th>0</th>\n",
       "      <td>1000_0</td>\n",
       "      <td>2018-07-25</td>\n",
       "      <td>0</td>\n",
       "      <td>1000</td>\n",
       "      <td>7</td>\n",
       "      <td>Краснодар</td>\n",
       "      <td>ultra</td>\n",
       "    </tr>\n",
       "    <tr>\n",
       "      <th>1</th>\n",
       "      <td>1000_1</td>\n",
       "      <td>2018-08-17</td>\n",
       "      <td>0</td>\n",
       "      <td>1000</td>\n",
       "      <td>8</td>\n",
       "      <td>Краснодар</td>\n",
       "      <td>ultra</td>\n",
       "    </tr>\n",
       "  </tbody>\n",
       "</table>\n",
       "</div>"
      ],
      "text/plain": [
       "       id  call_date  duration  user_id  call_month       city tariff\n",
       "0  1000_0 2018-07-25         0     1000           7  Краснодар  ultra\n",
       "1  1000_1 2018-08-17         0     1000           8  Краснодар  ultra"
      ]
     },
     "execution_count": 62,
     "metadata": {},
     "output_type": "execute_result"
    }
   ],
   "source": [
    "# check\n",
    "# применим «левое» соединение, чтобы не бороться с пропусками\n",
    "\n",
    "df_check = df_calls.merge(df_users[['user_id', 'city', 'tariff']], how = 'left', on = 'user_id')\n",
    "df_check.head(2)"
   ]
  },
  {
   "cell_type": "code",
   "execution_count": 63,
   "id": "ce8e7b3a",
   "metadata": {
    "scrolled": false
   },
   "outputs": [
    {
     "data": {
      "text/html": [
       "<div>\n",
       "<style scoped>\n",
       "    .dataframe tbody tr th:only-of-type {\n",
       "        vertical-align: middle;\n",
       "    }\n",
       "\n",
       "    .dataframe tbody tr th {\n",
       "        vertical-align: top;\n",
       "    }\n",
       "\n",
       "    .dataframe thead th {\n",
       "        text-align: right;\n",
       "    }\n",
       "</style>\n",
       "<table border=\"1\" class=\"dataframe\">\n",
       "  <thead>\n",
       "    <tr style=\"text-align: right;\">\n",
       "      <th></th>\n",
       "      <th>user_id</th>\n",
       "      <th>call_month</th>\n",
       "      <th>city</th>\n",
       "      <th>tariff</th>\n",
       "      <th>duration</th>\n",
       "    </tr>\n",
       "  </thead>\n",
       "  <tbody>\n",
       "    <tr>\n",
       "      <th>0</th>\n",
       "      <td>1000</td>\n",
       "      <td>5</td>\n",
       "      <td>Краснодар</td>\n",
       "      <td>ultra</td>\n",
       "      <td>159</td>\n",
       "    </tr>\n",
       "    <tr>\n",
       "      <th>1</th>\n",
       "      <td>1000</td>\n",
       "      <td>6</td>\n",
       "      <td>Краснодар</td>\n",
       "      <td>ultra</td>\n",
       "      <td>172</td>\n",
       "    </tr>\n",
       "  </tbody>\n",
       "</table>\n",
       "</div>"
      ],
      "text/plain": [
       "   user_id  call_month       city tariff  duration\n",
       "0     1000           5  Краснодар  ultra       159\n",
       "1     1000           6  Краснодар  ultra       172"
      ]
     },
     "execution_count": 63,
     "metadata": {},
     "output_type": "execute_result"
    }
   ],
   "source": [
    "df_check = df_check.pivot_table(index=['user_id', 'call_month', 'city', 'tariff'], values='duration', aggfunc='sum').reset_index()\n",
    "df_check.head(2)"
   ]
  },
  {
   "cell_type": "code",
   "execution_count": 65,
   "id": "27c3d169",
   "metadata": {},
   "outputs": [
    {
     "data": {
      "text/html": [
       "<div>\n",
       "<style scoped>\n",
       "    .dataframe tbody tr th:only-of-type {\n",
       "        vertical-align: middle;\n",
       "    }\n",
       "\n",
       "    .dataframe tbody tr th {\n",
       "        vertical-align: top;\n",
       "    }\n",
       "\n",
       "    .dataframe thead th {\n",
       "        text-align: right;\n",
       "    }\n",
       "</style>\n",
       "<table border=\"1\" class=\"dataframe\">\n",
       "  <thead>\n",
       "    <tr style=\"text-align: right;\">\n",
       "      <th></th>\n",
       "      <th>tariff</th>\n",
       "      <th>median</th>\n",
       "      <th>mean</th>\n",
       "      <th>var</th>\n",
       "      <th>std</th>\n",
       "      <th>count</th>\n",
       "    </tr>\n",
       "  </thead>\n",
       "  <tbody>\n",
       "    <tr>\n",
       "      <th>1</th>\n",
       "      <td>ultra</td>\n",
       "      <td>528</td>\n",
       "      <td>545.45</td>\n",
       "      <td>94,203.42</td>\n",
       "      <td>306.93</td>\n",
       "      <td>951</td>\n",
       "    </tr>\n",
       "    <tr>\n",
       "      <th>0</th>\n",
       "      <td>smart</td>\n",
       "      <td>423</td>\n",
       "      <td>419.06</td>\n",
       "      <td>35,844.19</td>\n",
       "      <td>189.33</td>\n",
       "      <td>2223</td>\n",
       "    </tr>\n",
       "  </tbody>\n",
       "</table>\n",
       "</div>"
      ],
      "text/plain": [
       "  tariff  median   mean       var    std  count\n",
       "1  ultra     528 545.45 94,203.42 306.93    951\n",
       "0  smart     423 419.06 35,844.19 189.33   2223"
      ]
     },
     "execution_count": 65,
     "metadata": {},
     "output_type": "execute_result"
    }
   ],
   "source": [
    "(\n",
    "    df_check\n",
    "         .pivot_table(index = 'tariff', values = ['duration'], aggfunc = ['median', 'mean', 'var', 'std', 'count'])\n",
    "#          .round(2)\n",
    "         .droplevel(level=1, axis=1)\n",
    "         .reset_index()\n",
    "         .sort_values(by = ['median'], ascending = False)\n",
    ")"
   ]
  },
  {
   "cell_type": "code",
   "execution_count": 66,
   "id": "1d16905c",
   "metadata": {},
   "outputs": [],
   "source": [
    "df_my_check = df_calls.merge(df_users[['tariff','user_id','city']], on='user_id', how='left')\n",
    "df_my_check = df_my_check.pivot_table(index=['user_id','tariff','call_month','city'],\n",
    "                                      values='duration', aggfunc='sum').reset_index()"
   ]
  },
  {
   "cell_type": "code",
   "execution_count": 67,
   "id": "17c2ac09",
   "metadata": {
    "scrolled": false
   },
   "outputs": [
    {
     "data": {
      "image/png": "[encoded data removed]",
      "text/plain": [
       "<Figure size 1152x864 with 2 Axes>"
      ]
     },
     "metadata": {
      "needs_background": "light"
     },
     "output_type": "display_data"
    }
   ],
   "source": [
    "fig = plt.figure()\n",
    "fig.set_figwidth(16)\n",
    "fig.set_figheight(12)\n",
    "ax_1 = fig.add_subplot(211)\n",
    "ax_2 = fig.add_subplot(212)\n",
    "\n",
    "ax_1.hist(df_my_check[df_my_check['tariff'] == 'smart']['duration'], density=True, bins=40)\n",
    "ax_1.set(title='Smart')\n",
    "ax_1.title.set(size=20)\n",
    "ax_1.set_xlim(0, 1600)\n",
    "\n",
    "ax_2.hist(df_my_check[df_my_check['tariff'] == 'ultra']['duration'], density=True, bins=40)\n",
    "ax_2.set(title='Ultra')\n",
    "ax_2.title.set(size=20)\n",
    "ax_2.set_xlim(0, 1600)\n",
    "plt.show()"
   ]
  },
  {
   "cell_type": "code",
   "execution_count": 68,
   "id": "a32b3463",
   "metadata": {},
   "outputs": [
    {
     "data": {
      "text/html": [
       "<div>\n",
       "<style scoped>\n",
       "    .dataframe tbody tr th:only-of-type {\n",
       "        vertical-align: middle;\n",
       "    }\n",
       "\n",
       "    .dataframe tbody tr th {\n",
       "        vertical-align: top;\n",
       "    }\n",
       "\n",
       "    .dataframe thead th {\n",
       "        text-align: right;\n",
       "    }\n",
       "</style>\n",
       "<table border=\"1\" class=\"dataframe\">\n",
       "  <thead>\n",
       "    <tr style=\"text-align: right;\">\n",
       "      <th></th>\n",
       "      <th>tariff</th>\n",
       "      <th>mean</th>\n",
       "      <th>median</th>\n",
       "      <th>std</th>\n",
       "      <th>var</th>\n",
       "      <th>count</th>\n",
       "    </tr>\n",
       "  </thead>\n",
       "  <tbody>\n",
       "    <tr>\n",
       "      <th>0</th>\n",
       "      <td>smart</td>\n",
       "      <td>419.06</td>\n",
       "      <td>423</td>\n",
       "      <td>189.33</td>\n",
       "      <td>35,844.19</td>\n",
       "      <td>2223</td>\n",
       "    </tr>\n",
       "    <tr>\n",
       "      <th>1</th>\n",
       "      <td>ultra</td>\n",
       "      <td>545.45</td>\n",
       "      <td>528</td>\n",
       "      <td>306.93</td>\n",
       "      <td>94,203.42</td>\n",
       "      <td>951</td>\n",
       "    </tr>\n",
       "  </tbody>\n",
       "</table>\n",
       "</div>"
      ],
      "text/plain": [
       "  tariff   mean  median    std       var  count\n",
       "0  smart 419.06     423 189.33 35,844.19   2223\n",
       "1  ultra 545.45     528 306.93 94,203.42    951"
      ]
     },
     "execution_count": 68,
     "metadata": {},
     "output_type": "execute_result"
    }
   ],
   "source": [
    "(\n",
    "    df_my_check\n",
    "    .pivot_table(index='tariff', values='duration', \n",
    "                 aggfunc=['mean', 'median', 'std', 'var', 'count'])\n",
    "    .droplevel(level=1, axis=1)\n",
    "    .reset_index()\n",
    ")"
   ]
  },
  {
   "cell_type": "markdown",
   "id": "aca43f5a",
   "metadata": {},
   "source": [
    "Для проверки, действительно ли разница в выручке по тарифам smart и ultra не является случайной проведем ttest со уровнем статистической значимости 1%.  "
   ]
  },
  {
   "cell_type": "code",
   "execution_count": 69,
   "id": "2b5ca658",
   "metadata": {
    "scrolled": true
   },
   "outputs": [
    {
     "name": "stdout",
     "output_type": "stream",
     "text": [
      "p-value = 2.6673032519502326e-05\n"
     ]
    }
   ],
   "source": [
    "calls_compare = st.ttest_ind(df_calls_smart, df_calls_ultra, equal_var=False)\n",
    "print('p-value =',calls_compare.pvalue)"
   ]
  },
  {
   "cell_type": "markdown",
   "id": "9b1b65dd",
   "metadata": {},
   "source": [
    "Уровень p-value значительно ниже 1%, вероятность получить настолько разное поведение выборок крайне низка. Отвергаем гипотезу о их случайной разнице.  \n",
    "\n",
    "Рассчитанные статистики показывают, что в среднем абоненты тарифа ultra тратят на 100 минут больше абонентов тарифа smart. По тарифу ultra медиана меньше среднего, а значит ее график скошен вправо - т.е. есть тенденция к использованию большего количества минут. По тарифу смарт же картина обратная. Дисперсия и стандартное отклонение по тарифу ультра значительно превышают показатели smart'а. Значит данные имеют больший разброс. Стоит отметить, что по обоим тарифа больша часть абонентов вписываются в установленные лимиты. Однако абоненты ultra недобирают около 2500 минут в месяц.  \n",
    "Можно выдвинуть предположение, что независимо от тарифа, большенству пользователей требуется 500-600 минут в месяц."
   ]
  },
  {
   "cell_type": "markdown",
   "id": "bc84d442",
   "metadata": {},
   "source": [
    "### Интернет-тарфик"
   ]
  },
  {
   "cell_type": "code",
   "execution_count": 70,
   "id": "1351ac6c",
   "metadata": {
    "scrolled": false
   },
   "outputs": [],
   "source": [
    "df_inet_avg = df_inet_users_month\n",
    "df_inet_avg['traffic_avg'] = df_inet_avg.apply(summarizer, axis=1)\n",
    "\n",
    "# Добавим данные о тарифе и числе активных месяцев (для расчета среднемесячных значений)\n",
    "df_inet_avg = df_inet_avg.merge(\n",
    "    df_users[['user_id','tariff','reg_month','churn_month']], on='user_id', how='outer')\n",
    "df_inet_avg = df_inet_avg.fillna(0)\n",
    "df_inet_avg['actual_months'] = df_inet_avg['churn_month'] - df_inet_avg['reg_month'] + 1\n",
    "\n",
    "# Среднее число гигобайт в месяц\n",
    "df_inet_avg['traffic_avg'] = round(df_inet_avg['traffic_avg'] / df_inet_avg['actual_months'],2)\n",
    "\n",
    "# Удалим не нужные более столбцы\n",
    "df_inet_avg = df_inet_avg.drop(columns=['churn_month','reg_month','actual_months',1,2,3,4,5,6,7,8,9,10,11,12],axis=1)"
   ]
  },
  {
   "cell_type": "code",
   "execution_count": 71,
   "id": "37bf50e4",
   "metadata": {
    "scrolled": false
   },
   "outputs": [
    {
     "name": "stdout",
     "output_type": "stream",
     "text": [
      "Тариф ultra: {'median': 18.75, 'mean': 19.46, 'var': 68.0, 'std': 8.25, 'count': 149}\n",
      "Тариф smart: {'median': 16.33, 'mean': 16.26, 'var': 12.98, 'std': 3.6, 'count': 351}\n"
     ]
    },
    {
     "data": {
      "image/png": "[encoded data removed]",
      "text/plain": [
       "<Figure size 864x432 with 2 Axes>"
      ]
     },
     "metadata": {
      "needs_background": "light"
     },
     "output_type": "display_data"
    }
   ],
   "source": [
    "# Данные по разным тарифам выделяем в разные таблицы, рассчитываем статистики с помощью функции statistics\n",
    "df_inet_ultra = df_inet_avg[df_inet_avg['tariff'] == 'ultra']['traffic_avg']\n",
    "stats_inet_ultra = statistics(df_inet_ultra)\n",
    "print('Тариф ultra:',stats_inet_ultra)\n",
    "\n",
    "df_inet_smart = df_inet_avg[df_inet_avg['tariff'] == 'smart']['traffic_avg']\n",
    "stats_inet_smart = statistics(df_inet_smart)\n",
    "print('Тариф smart:',stats_inet_smart)\n",
    "\n",
    "# Строим гистограммы\n",
    "plt.figure(figsize=(12,6))\n",
    "plt.subplot(1,2,1)\n",
    "plt.hist(df_inet_ultra, density=True)\n",
    "plt.title('ultra')\n",
    "\n",
    "plt.subplot(1,2,2)\n",
    "plt.hist(df_inet_smart, density=True)\n",
    "plt.title('smart')\n",
    "plt.tight_layout()"
   ]
  },
  {
   "cell_type": "code",
   "execution_count": 72,
   "id": "16896170",
   "metadata": {},
   "outputs": [],
   "source": [
    "df_inet_2 = df_inet.merge(df_users[['user_id','city','tariff']], on='user_id', how='left')\n",
    "df_inet_2['mb_used'] = df_inet_2['mb_used'] / 1024\n",
    "df_inet_2 = df_inet_2.pivot_table(index=['user_id', 'city', 'tariff', 'session_month'], values='mb_used', aggfunc='sum').reset_index()"
   ]
  },
  {
   "cell_type": "code",
   "execution_count": 73,
   "id": "bb3bc975",
   "metadata": {},
   "outputs": [
    {
     "data": {
      "image/png": "[encoded data removed]",
      "text/plain": [
       "<Figure size 1152x864 with 2 Axes>"
      ]
     },
     "metadata": {
      "needs_background": "light"
     },
     "output_type": "display_data"
    }
   ],
   "source": [
    "fig = plt.figure()\n",
    "fig.set_figwidth(16)\n",
    "fig.set_figheight(12)\n",
    "ax_3 = fig.add_subplot(211)\n",
    "ax_4 = fig.add_subplot(212)\n",
    "\n",
    "ax_4.hist(df_inet_2[df_inet_2['tariff'] == 'ultra']['mb_used'], density=True, bins=40)\n",
    "ax_4.set(title='Ultra')\n",
    "ax_4.title.set(size=20)\n",
    "ax_4.set_xlim(0, 50)\n",
    "\n",
    "ax_3.hist(df_inet_2[df_inet_2['tariff'] == 'smart']['mb_used'], density=True, bins=40)\n",
    "ax_3.set(title='Smart')\n",
    "ax_3.title.set(size=20)\n",
    "ax_3.set_xlim(0, 50)\n",
    "plt.show()"
   ]
  },
  {
   "cell_type": "code",
   "execution_count": 74,
   "id": "cec5c1af",
   "metadata": {},
   "outputs": [
    {
     "data": {
      "text/html": [
       "<div>\n",
       "<style scoped>\n",
       "    .dataframe tbody tr th:only-of-type {\n",
       "        vertical-align: middle;\n",
       "    }\n",
       "\n",
       "    .dataframe tbody tr th {\n",
       "        vertical-align: top;\n",
       "    }\n",
       "\n",
       "    .dataframe thead th {\n",
       "        text-align: right;\n",
       "    }\n",
       "</style>\n",
       "<table border=\"1\" class=\"dataframe\">\n",
       "  <thead>\n",
       "    <tr style=\"text-align: right;\">\n",
       "      <th></th>\n",
       "      <th>tariff</th>\n",
       "      <th>median</th>\n",
       "      <th>mean</th>\n",
       "      <th>var</th>\n",
       "      <th>std</th>\n",
       "      <th>count</th>\n",
       "    </tr>\n",
       "  </thead>\n",
       "  <tbody>\n",
       "    <tr>\n",
       "      <th>0</th>\n",
       "      <td>smart</td>\n",
       "      <td>16.12</td>\n",
       "      <td>15.84</td>\n",
       "      <td>32.67</td>\n",
       "      <td>5.72</td>\n",
       "      <td>2227</td>\n",
       "    </tr>\n",
       "    <tr>\n",
       "      <th>1</th>\n",
       "      <td>ultra</td>\n",
       "      <td>18.95</td>\n",
       "      <td>19.23</td>\n",
       "      <td>94.00</td>\n",
       "      <td>9.70</td>\n",
       "      <td>974</td>\n",
       "    </tr>\n",
       "  </tbody>\n",
       "</table>\n",
       "</div>"
      ],
      "text/plain": [
       "  tariff  median  mean   var  std  count\n",
       "0  smart   16.12 15.84 32.67 5.72   2227\n",
       "1  ultra   18.95 19.23 94.00 9.70    974"
      ]
     },
     "execution_count": 74,
     "metadata": {},
     "output_type": "execute_result"
    }
   ],
   "source": [
    "(\n",
    "    df_inet_2\n",
    "    .pivot_table(index='tariff', \n",
    "                 values='mb_used', \n",
    "                 aggfunc=['median', 'mean', 'var', 'std', 'count'])\n",
    "    .reset_index()\n",
    "    .droplevel(level=1, axis=1)\n",
    ")"
   ]
  },
  {
   "cell_type": "markdown",
   "id": "b052a0b2",
   "metadata": {},
   "source": [
    "<b>Нулевая гипотеза:</b> Распределение расходов интернет-тарфика абонентов разных тарифов равны одинаковое. (равны значения среднемесячного расхода).\n",
    "<br /><b>Альтернативная гипотеза:</b> Среднемесячный расход интернет-трафика различается для каждого из тарифов.\n",
    "\n",
    "<br>Уровень статистической значимости принимаем равным 1%"
   ]
  },
  {
   "cell_type": "code",
   "execution_count": 75,
   "id": "390da549",
   "metadata": {},
   "outputs": [
    {
     "name": "stdout",
     "output_type": "stream",
     "text": [
      "p-value = 1.0170797138034969e-05\n"
     ]
    }
   ],
   "source": [
    "inet_compare = st.ttest_ind(df_inet_smart, df_inet_ultra, equal_var=False)\n",
    "print('p-value =',inet_compare.pvalue)"
   ]
  },
  {
   "cell_type": "markdown",
   "id": "e97656c2",
   "metadata": {},
   "source": [
    "Отвергаем нулевую гипотезу. Вероятность получить такую разницу в данных, при условии верности нулевой гипотезы, составляет значительно менне уровня статистической значимости в 1%."
   ]
  },
  {
   "cell_type": "markdown",
   "id": "8809c2a1",
   "metadata": {},
   "source": [
    "Уровень p-value значительно ниже 1%, вероятность получить настолько разное поведение выборок крайне низка. Отвергаем гипотезу о их случайной разнице.  \n",
    "\n",
    "Соотношение вличин примерно такое же как и по звонкам. По тарифу ultra, в среднем, расход трафика на 20% больше, чем по тарифу smart. При этом у пользователей тарифа smart расход, в среденм, превышает установленные лимиты. Причем в 34% случаев он будет больше на 7 Гб (одна сигма), еще в 13% на 13 Гб (две сигмы). Что по условиям тарифа приводит к существенной переплате абонентами."
   ]
  },
  {
   "cell_type": "markdown",
   "id": "ae048958",
   "metadata": {},
   "source": [
    "### SMS"
   ]
  },
  {
   "cell_type": "code",
   "execution_count": 76,
   "id": "e7c3cbfd",
   "metadata": {
    "scrolled": false
   },
   "outputs": [],
   "source": [
    "df_sms_avg = df_sms_users_month\n",
    "df_sms_avg['sms_avg'] = df_sms_avg.apply(summarizer, axis=1)\n",
    "\n",
    "# Добавим данные о тарифе и числе активных месяцев (для расчета среднемесячных значений)\n",
    "df_sms_avg = df_sms_avg.merge(\n",
    "    df_users[['user_id','tariff','reg_month','churn_month']], on='user_id', how='outer')\n",
    "df_sms_avg = df_sms_avg.fillna(0)\n",
    "df_sms_avg['actual_months'] = df_sms_avg['churn_month'] - df_sms_avg['reg_month'] + 1\n",
    "\n",
    "# Среднее число смс в месяц\n",
    "df_sms_avg['sms_avg'] = round(df_sms_avg['sms_avg'] / df_sms_avg['actual_months'],2)\n",
    "\n",
    "# Удалим не нужные более столбцы\n",
    "df_sms_avg = df_sms_avg.drop(columns=['churn_month','reg_month','actual_months',1,2,3,4,5,6,7,8,9,10,11,12],axis=1)"
   ]
  },
  {
   "cell_type": "code",
   "execution_count": 77,
   "id": "e71b2bcc",
   "metadata": {},
   "outputs": [
    {
     "name": "stdout",
     "output_type": "stream",
     "text": [
      "Тариф ultra: {'median': 45.0, 'mean': 53.67, 'var': 2154.9, 'std': 46.42, 'count': 149}\n",
      "Тариф smart: {'median': 27.5, 'mean': 32.26, 'var': 703.88, 'std': 26.53, 'count': 351}\n"
     ]
    },
    {
     "data": {
      "image/png": "[encoded data removed]",
      "text/plain": [
       "<Figure size 864x432 with 2 Axes>"
      ]
     },
     "metadata": {
      "needs_background": "light"
     },
     "output_type": "display_data"
    }
   ],
   "source": [
    "# Данные по разным тарифам выделяем в разные таблицы, рассчитываем статистики с помощью функции statistics\n",
    "df_sms_ultra = df_sms_avg[df_sms_avg['tariff'] == 'ultra']['sms_avg']\n",
    "stats_sms_ultra = statistics(df_sms_ultra)\n",
    "print('Тариф ultra:',stats_sms_ultra)\n",
    "\n",
    "df_sms_smart = df_sms_avg[df_sms_avg['tariff'] == 'smart']['sms_avg']\n",
    "stats_sms_smart = statistics(df_sms_smart)\n",
    "print('Тариф smart:',stats_sms_smart)\n",
    "\n",
    "# Строим гистограммы\n",
    "plt.figure(figsize=(12,6))\n",
    "plt.subplot(1,2,1)\n",
    "plt.hist(df_sms_ultra, density=True)\n",
    "plt.title('ultra')\n",
    "\n",
    "plt.subplot(1,2,2)\n",
    "plt.hist(df_sms_smart, density=True)\n",
    "plt.title('smart')\n",
    "plt.tight_layout()"
   ]
  },
  {
   "cell_type": "code",
   "execution_count": 78,
   "id": "22a04e20",
   "metadata": {},
   "outputs": [
    {
     "name": "stdout",
     "output_type": "stream",
     "text": [
      "p-value = 3.581598855899302e-07\n"
     ]
    }
   ],
   "source": [
    "sms_compare = st.ttest_ind(df_sms_smart, df_sms_ultra, equal_var=False)\n",
    "print('p-value =',sms_compare.pvalue)"
   ]
  },
  {
   "cell_type": "code",
   "execution_count": 79,
   "id": "d91dd69a",
   "metadata": {},
   "outputs": [],
   "source": [
    "df_sms_2 = df_sms.merge(df_users[['tariff', 'city', 'user_id']], on='user_id')\n",
    "df_sms_2 = df_sms_2.pivot_table(index=['user_id','message_month', 'tariff', 'city'], \n",
    "                                values='message_date', aggfunc='count').reset_index()"
   ]
  },
  {
   "cell_type": "code",
   "execution_count": 80,
   "id": "be763f41",
   "metadata": {},
   "outputs": [
    {
     "data": {
      "image/png": "[encoded data removed]",
      "text/plain": [
       "<Figure size 1152x864 with 2 Axes>"
      ]
     },
     "metadata": {
      "needs_background": "light"
     },
     "output_type": "display_data"
    }
   ],
   "source": [
    "fig = plt.figure()\n",
    "fig.set_figwidth(16)\n",
    "fig.set_figheight(12)\n",
    "ax_5 = fig.add_subplot(211)\n",
    "ax_6 = fig.add_subplot(212)\n",
    "\n",
    "ax_5.hist(df_sms_2[df_sms_2['tariff'] == 'ultra']['message_date'], density=True, bins=20)\n",
    "ax_5.set(title='Ultra')\n",
    "ax_5.title.set(size=20)\n",
    "\n",
    "ax_6.hist(df_sms_2[df_sms_2['tariff'] == 'smart']['message_date'], density=True, bins=20)\n",
    "ax_6.set(title='Smart')\n",
    "ax_6.title.set(size=20)\n",
    "plt.show()"
   ]
  },
  {
   "cell_type": "code",
   "execution_count": 81,
   "id": "0fbecbf6",
   "metadata": {},
   "outputs": [
    {
     "data": {
      "text/html": [
       "<div>\n",
       "<style scoped>\n",
       "    .dataframe tbody tr th:only-of-type {\n",
       "        vertical-align: middle;\n",
       "    }\n",
       "\n",
       "    .dataframe tbody tr th {\n",
       "        vertical-align: top;\n",
       "    }\n",
       "\n",
       "    .dataframe thead th {\n",
       "        text-align: right;\n",
       "    }\n",
       "</style>\n",
       "<table border=\"1\" class=\"dataframe\">\n",
       "  <thead>\n",
       "    <tr style=\"text-align: right;\">\n",
       "      <th></th>\n",
       "      <th>tariff</th>\n",
       "      <th>mean</th>\n",
       "      <th>median</th>\n",
       "      <th>var</th>\n",
       "      <th>std</th>\n",
       "      <th>count</th>\n",
       "    </tr>\n",
       "  </thead>\n",
       "  <tbody>\n",
       "    <tr>\n",
       "      <th>0</th>\n",
       "      <td>smart</td>\n",
       "      <td>38.72</td>\n",
       "      <td>34</td>\n",
       "      <td>717.59</td>\n",
       "      <td>26.79</td>\n",
       "      <td>1922</td>\n",
       "    </tr>\n",
       "    <tr>\n",
       "      <th>1</th>\n",
       "      <td>ultra</td>\n",
       "      <td>61.16</td>\n",
       "      <td>51</td>\n",
       "      <td>2,109.66</td>\n",
       "      <td>45.93</td>\n",
       "      <td>795</td>\n",
       "    </tr>\n",
       "  </tbody>\n",
       "</table>\n",
       "</div>"
      ],
      "text/plain": [
       "  tariff  mean  median      var   std  count\n",
       "0  smart 38.72      34   717.59 26.79   1922\n",
       "1  ultra 61.16      51 2,109.66 45.93    795"
      ]
     },
     "execution_count": 81,
     "metadata": {},
     "output_type": "execute_result"
    }
   ],
   "source": [
    "(\n",
    "    df_sms_2\n",
    "    .pivot_table(index='tariff', values='message_date', \n",
    "                         aggfunc=['mean', 'median', 'var', 'std', 'count'])\n",
    "    .droplevel(level=1, axis=1)\n",
    "    .reset_index()\n",
    ")"
   ]
  },
  {
   "cell_type": "markdown",
   "id": "45724db7",
   "metadata": {},
   "source": [
    "Уровень p-value значительно ниже 1%, вероятность получить настолько разное поведение выборок крайне низка. Отвергаем гипотезу о их случайной разнице.  \n",
    "\n",
    "Услуга sms не пользуются значительным спросом. В среднем, большая часть абонентов smart вписывается в лимиты. Абоненты ultra пользуются sms значительно чаще, в полтора раза больше. Но превышений лимитов у них вряд ли достяжимы."
   ]
  },
  {
   "cell_type": "markdown",
   "id": "82983c0d",
   "metadata": {},
   "source": [
    "<a id='corr_1'></a>\n",
    "# Скорректированная выборка по выручке"
   ]
  },
  {
   "cell_type": "code",
   "execution_count": 82,
   "id": "f5302e9e",
   "metadata": {},
   "outputs": [
    {
     "data": {
      "text/html": [
       "<div>\n",
       "<style scoped>\n",
       "    .dataframe tbody tr th:only-of-type {\n",
       "        vertical-align: middle;\n",
       "    }\n",
       "\n",
       "    .dataframe tbody tr th {\n",
       "        vertical-align: top;\n",
       "    }\n",
       "\n",
       "    .dataframe thead th {\n",
       "        text-align: right;\n",
       "    }\n",
       "</style>\n",
       "<table border=\"1\" class=\"dataframe\">\n",
       "  <thead>\n",
       "    <tr style=\"text-align: right;\">\n",
       "      <th></th>\n",
       "      <th>user_id</th>\n",
       "      <th>city</th>\n",
       "      <th>tariff</th>\n",
       "      <th>month</th>\n",
       "      <th>gb_used</th>\n",
       "      <th>sms_count</th>\n",
       "      <th>duration</th>\n",
       "    </tr>\n",
       "  </thead>\n",
       "  <tbody>\n",
       "    <tr>\n",
       "      <th>0</th>\n",
       "      <td>1000</td>\n",
       "      <td>Краснодар</td>\n",
       "      <td>ultra</td>\n",
       "      <td>5</td>\n",
       "      <td>3.00</td>\n",
       "      <td>22.00</td>\n",
       "      <td>159.00</td>\n",
       "    </tr>\n",
       "    <tr>\n",
       "      <th>1</th>\n",
       "      <td>1000</td>\n",
       "      <td>Краснодар</td>\n",
       "      <td>ultra</td>\n",
       "      <td>6</td>\n",
       "      <td>23.00</td>\n",
       "      <td>60.00</td>\n",
       "      <td>172.00</td>\n",
       "    </tr>\n",
       "    <tr>\n",
       "      <th>2</th>\n",
       "      <td>1000</td>\n",
       "      <td>Краснодар</td>\n",
       "      <td>ultra</td>\n",
       "      <td>7</td>\n",
       "      <td>14.00</td>\n",
       "      <td>75.00</td>\n",
       "      <td>340.00</td>\n",
       "    </tr>\n",
       "    <tr>\n",
       "      <th>3</th>\n",
       "      <td>1000</td>\n",
       "      <td>Краснодар</td>\n",
       "      <td>ultra</td>\n",
       "      <td>8</td>\n",
       "      <td>14.00</td>\n",
       "      <td>81.00</td>\n",
       "      <td>408.00</td>\n",
       "    </tr>\n",
       "    <tr>\n",
       "      <th>4</th>\n",
       "      <td>1000</td>\n",
       "      <td>Краснодар</td>\n",
       "      <td>ultra</td>\n",
       "      <td>9</td>\n",
       "      <td>15.00</td>\n",
       "      <td>57.00</td>\n",
       "      <td>466.00</td>\n",
       "    </tr>\n",
       "    <tr>\n",
       "      <th>...</th>\n",
       "      <td>...</td>\n",
       "      <td>...</td>\n",
       "      <td>...</td>\n",
       "      <td>...</td>\n",
       "      <td>...</td>\n",
       "      <td>...</td>\n",
       "      <td>...</td>\n",
       "    </tr>\n",
       "    <tr>\n",
       "      <th>3209</th>\n",
       "      <td>1273</td>\n",
       "      <td>Курган</td>\n",
       "      <td>ultra</td>\n",
       "      <td>12</td>\n",
       "      <td>0.00</td>\n",
       "      <td>0.00</td>\n",
       "      <td>260.00</td>\n",
       "    </tr>\n",
       "    <tr>\n",
       "      <th>3210</th>\n",
       "      <td>1365</td>\n",
       "      <td>Ростов-на-Дону</td>\n",
       "      <td>smart</td>\n",
       "      <td>10</td>\n",
       "      <td>0.00</td>\n",
       "      <td>0.00</td>\n",
       "      <td>43.00</td>\n",
       "    </tr>\n",
       "    <tr>\n",
       "      <th>3211</th>\n",
       "      <td>1377</td>\n",
       "      <td>Брянск</td>\n",
       "      <td>ultra</td>\n",
       "      <td>2</td>\n",
       "      <td>0.00</td>\n",
       "      <td>0.00</td>\n",
       "      <td>179.00</td>\n",
       "    </tr>\n",
       "    <tr>\n",
       "      <th>3212</th>\n",
       "      <td>1392</td>\n",
       "      <td>Челябинск</td>\n",
       "      <td>ultra</td>\n",
       "      <td>2</td>\n",
       "      <td>0.00</td>\n",
       "      <td>0.00</td>\n",
       "      <td>13.00</td>\n",
       "    </tr>\n",
       "    <tr>\n",
       "      <th>3213</th>\n",
       "      <td>1446</td>\n",
       "      <td>Липецк</td>\n",
       "      <td>smart</td>\n",
       "      <td>8</td>\n",
       "      <td>0.00</td>\n",
       "      <td>0.00</td>\n",
       "      <td>50.00</td>\n",
       "    </tr>\n",
       "  </tbody>\n",
       "</table>\n",
       "<p>3214 rows × 7 columns</p>\n",
       "</div>"
      ],
      "text/plain": [
       "      user_id            city tariff  month  gb_used  sms_count  duration\n",
       "0        1000       Краснодар  ultra      5     3.00      22.00    159.00\n",
       "1        1000       Краснодар  ultra      6    23.00      60.00    172.00\n",
       "2        1000       Краснодар  ultra      7    14.00      75.00    340.00\n",
       "3        1000       Краснодар  ultra      8    14.00      81.00    408.00\n",
       "4        1000       Краснодар  ultra      9    15.00      57.00    466.00\n",
       "...       ...             ...    ...    ...      ...        ...       ...\n",
       "3209     1273          Курган  ultra     12     0.00       0.00    260.00\n",
       "3210     1365  Ростов-на-Дону  smart     10     0.00       0.00     43.00\n",
       "3211     1377          Брянск  ultra      2     0.00       0.00    179.00\n",
       "3212     1392       Челябинск  ultra      2     0.00       0.00     13.00\n",
       "3213     1446          Липецк  smart      8     0.00       0.00     50.00\n",
       "\n",
       "[3214 rows x 7 columns]"
      ]
     },
     "execution_count": 82,
     "metadata": {},
     "output_type": "execute_result"
    }
   ],
   "source": [
    "# Переименуем столбцы для удобного соединения в одну таблицу\n",
    "df_inet_2 = df_inet_2.rename(columns={'session_month':'month', 'mb_used':'gb_used'})\n",
    "df_sms_2 = df_sms_2.rename(columns={'message_month':'month', 'message_date':'sms_count'})\n",
    "df_my_check = df_my_check.rename(columns={'call_month':'month'})\n",
    "\n",
    "# Объединим в одну таблицу\n",
    "df_earn_2 = (\n",
    "    df_inet_2\n",
    "    .merge(df_sms_2[['user_id', 'month', 'sms_count', 'city', 'tariff']], \n",
    "           on=['user_id', 'month', 'city', 'tariff'], how='left')\n",
    "    .merge(df_my_check[['user_id', 'month', 'duration', 'city', 'tariff']], \n",
    "           on=['user_id', 'month', 'city', 'tariff'], how='outer').fillna(0)\n",
    ")\n",
    "\n",
    "# Корректировка единиц изменерений, форматов\n",
    "df_earn_2['gb_used'] = np.ceil(df_earn_2['gb_used'])\n",
    "df_earn_2['month'] = df_earn_2['month'].astype('int32')\n",
    "df_earn_2"
   ]
  },
  {
   "cell_type": "code",
   "execution_count": 83,
   "id": "f3e4155d",
   "metadata": {},
   "outputs": [
    {
     "data": {
      "text/html": [
       "<div>\n",
       "<style scoped>\n",
       "    .dataframe tbody tr th:only-of-type {\n",
       "        vertical-align: middle;\n",
       "    }\n",
       "\n",
       "    .dataframe tbody tr th {\n",
       "        vertical-align: top;\n",
       "    }\n",
       "\n",
       "    .dataframe thead th {\n",
       "        text-align: right;\n",
       "    }\n",
       "</style>\n",
       "<table border=\"1\" class=\"dataframe\">\n",
       "  <thead>\n",
       "    <tr style=\"text-align: right;\">\n",
       "      <th></th>\n",
       "      <th>user_id</th>\n",
       "      <th>city</th>\n",
       "      <th>tariff</th>\n",
       "      <th>month</th>\n",
       "      <th>gb_used</th>\n",
       "      <th>sms_count</th>\n",
       "      <th>duration</th>\n",
       "      <th>messages_included</th>\n",
       "      <th>mb_per_month_included</th>\n",
       "      <th>minutes_included</th>\n",
       "      <th>rub_monthly_fee</th>\n",
       "      <th>rub_per_gb</th>\n",
       "      <th>rub_per_message</th>\n",
       "      <th>rub_per_minute</th>\n",
       "      <th>fee_inet</th>\n",
       "      <th>fee_sms</th>\n",
       "      <th>fee_calls</th>\n",
       "      <th>fee</th>\n",
       "    </tr>\n",
       "  </thead>\n",
       "  <tbody>\n",
       "    <tr>\n",
       "      <th>0</th>\n",
       "      <td>1000</td>\n",
       "      <td>Краснодар</td>\n",
       "      <td>ultra</td>\n",
       "      <td>5</td>\n",
       "      <td>3.00</td>\n",
       "      <td>22.00</td>\n",
       "      <td>159.00</td>\n",
       "      <td>1000</td>\n",
       "      <td>30720</td>\n",
       "      <td>3000</td>\n",
       "      <td>1950</td>\n",
       "      <td>150</td>\n",
       "      <td>1</td>\n",
       "      <td>1</td>\n",
       "      <td>0.00</td>\n",
       "      <td>0.00</td>\n",
       "      <td>0.00</td>\n",
       "      <td>1,950.00</td>\n",
       "    </tr>\n",
       "    <tr>\n",
       "      <th>1</th>\n",
       "      <td>1000</td>\n",
       "      <td>Краснодар</td>\n",
       "      <td>ultra</td>\n",
       "      <td>6</td>\n",
       "      <td>23.00</td>\n",
       "      <td>60.00</td>\n",
       "      <td>172.00</td>\n",
       "      <td>1000</td>\n",
       "      <td>30720</td>\n",
       "      <td>3000</td>\n",
       "      <td>1950</td>\n",
       "      <td>150</td>\n",
       "      <td>1</td>\n",
       "      <td>1</td>\n",
       "      <td>0.00</td>\n",
       "      <td>0.00</td>\n",
       "      <td>0.00</td>\n",
       "      <td>1,950.00</td>\n",
       "    </tr>\n",
       "    <tr>\n",
       "      <th>2</th>\n",
       "      <td>1000</td>\n",
       "      <td>Краснодар</td>\n",
       "      <td>ultra</td>\n",
       "      <td>7</td>\n",
       "      <td>14.00</td>\n",
       "      <td>75.00</td>\n",
       "      <td>340.00</td>\n",
       "      <td>1000</td>\n",
       "      <td>30720</td>\n",
       "      <td>3000</td>\n",
       "      <td>1950</td>\n",
       "      <td>150</td>\n",
       "      <td>1</td>\n",
       "      <td>1</td>\n",
       "      <td>0.00</td>\n",
       "      <td>0.00</td>\n",
       "      <td>0.00</td>\n",
       "      <td>1,950.00</td>\n",
       "    </tr>\n",
       "    <tr>\n",
       "      <th>3</th>\n",
       "      <td>1000</td>\n",
       "      <td>Краснодар</td>\n",
       "      <td>ultra</td>\n",
       "      <td>8</td>\n",
       "      <td>14.00</td>\n",
       "      <td>81.00</td>\n",
       "      <td>408.00</td>\n",
       "      <td>1000</td>\n",
       "      <td>30720</td>\n",
       "      <td>3000</td>\n",
       "      <td>1950</td>\n",
       "      <td>150</td>\n",
       "      <td>1</td>\n",
       "      <td>1</td>\n",
       "      <td>0.00</td>\n",
       "      <td>0.00</td>\n",
       "      <td>0.00</td>\n",
       "      <td>1,950.00</td>\n",
       "    </tr>\n",
       "    <tr>\n",
       "      <th>4</th>\n",
       "      <td>1000</td>\n",
       "      <td>Краснодар</td>\n",
       "      <td>ultra</td>\n",
       "      <td>9</td>\n",
       "      <td>15.00</td>\n",
       "      <td>57.00</td>\n",
       "      <td>466.00</td>\n",
       "      <td>1000</td>\n",
       "      <td>30720</td>\n",
       "      <td>3000</td>\n",
       "      <td>1950</td>\n",
       "      <td>150</td>\n",
       "      <td>1</td>\n",
       "      <td>1</td>\n",
       "      <td>0.00</td>\n",
       "      <td>0.00</td>\n",
       "      <td>0.00</td>\n",
       "      <td>1,950.00</td>\n",
       "    </tr>\n",
       "    <tr>\n",
       "      <th>...</th>\n",
       "      <td>...</td>\n",
       "      <td>...</td>\n",
       "      <td>...</td>\n",
       "      <td>...</td>\n",
       "      <td>...</td>\n",
       "      <td>...</td>\n",
       "      <td>...</td>\n",
       "      <td>...</td>\n",
       "      <td>...</td>\n",
       "      <td>...</td>\n",
       "      <td>...</td>\n",
       "      <td>...</td>\n",
       "      <td>...</td>\n",
       "      <td>...</td>\n",
       "      <td>...</td>\n",
       "      <td>...</td>\n",
       "      <td>...</td>\n",
       "      <td>...</td>\n",
       "    </tr>\n",
       "    <tr>\n",
       "      <th>3209</th>\n",
       "      <td>1499</td>\n",
       "      <td>Пермь</td>\n",
       "      <td>smart</td>\n",
       "      <td>10</td>\n",
       "      <td>18.00</td>\n",
       "      <td>48.00</td>\n",
       "      <td>449.00</td>\n",
       "      <td>50</td>\n",
       "      <td>15360</td>\n",
       "      <td>500</td>\n",
       "      <td>550</td>\n",
       "      <td>200</td>\n",
       "      <td>3</td>\n",
       "      <td>3</td>\n",
       "      <td>600.00</td>\n",
       "      <td>0.00</td>\n",
       "      <td>0.00</td>\n",
       "      <td>1,150.00</td>\n",
       "    </tr>\n",
       "    <tr>\n",
       "      <th>3210</th>\n",
       "      <td>1499</td>\n",
       "      <td>Пермь</td>\n",
       "      <td>smart</td>\n",
       "      <td>11</td>\n",
       "      <td>18.00</td>\n",
       "      <td>59.00</td>\n",
       "      <td>612.00</td>\n",
       "      <td>50</td>\n",
       "      <td>15360</td>\n",
       "      <td>500</td>\n",
       "      <td>550</td>\n",
       "      <td>200</td>\n",
       "      <td>3</td>\n",
       "      <td>3</td>\n",
       "      <td>600.00</td>\n",
       "      <td>27.00</td>\n",
       "      <td>336.00</td>\n",
       "      <td>1,513.00</td>\n",
       "    </tr>\n",
       "    <tr>\n",
       "      <th>3211</th>\n",
       "      <td>1499</td>\n",
       "      <td>Пермь</td>\n",
       "      <td>smart</td>\n",
       "      <td>12</td>\n",
       "      <td>13.00</td>\n",
       "      <td>66.00</td>\n",
       "      <td>492.00</td>\n",
       "      <td>50</td>\n",
       "      <td>15360</td>\n",
       "      <td>500</td>\n",
       "      <td>550</td>\n",
       "      <td>200</td>\n",
       "      <td>3</td>\n",
       "      <td>3</td>\n",
       "      <td>0.00</td>\n",
       "      <td>48.00</td>\n",
       "      <td>0.00</td>\n",
       "      <td>598.00</td>\n",
       "    </tr>\n",
       "    <tr>\n",
       "      <th>3212</th>\n",
       "      <td>1365</td>\n",
       "      <td>Ростов-на-Дону</td>\n",
       "      <td>smart</td>\n",
       "      <td>10</td>\n",
       "      <td>0.00</td>\n",
       "      <td>0.00</td>\n",
       "      <td>43.00</td>\n",
       "      <td>50</td>\n",
       "      <td>15360</td>\n",
       "      <td>500</td>\n",
       "      <td>550</td>\n",
       "      <td>200</td>\n",
       "      <td>3</td>\n",
       "      <td>3</td>\n",
       "      <td>0.00</td>\n",
       "      <td>0.00</td>\n",
       "      <td>0.00</td>\n",
       "      <td>550.00</td>\n",
       "    </tr>\n",
       "    <tr>\n",
       "      <th>3213</th>\n",
       "      <td>1446</td>\n",
       "      <td>Липецк</td>\n",
       "      <td>smart</td>\n",
       "      <td>8</td>\n",
       "      <td>0.00</td>\n",
       "      <td>0.00</td>\n",
       "      <td>50.00</td>\n",
       "      <td>50</td>\n",
       "      <td>15360</td>\n",
       "      <td>500</td>\n",
       "      <td>550</td>\n",
       "      <td>200</td>\n",
       "      <td>3</td>\n",
       "      <td>3</td>\n",
       "      <td>0.00</td>\n",
       "      <td>0.00</td>\n",
       "      <td>0.00</td>\n",
       "      <td>550.00</td>\n",
       "    </tr>\n",
       "  </tbody>\n",
       "</table>\n",
       "<p>3214 rows × 18 columns</p>\n",
       "</div>"
      ],
      "text/plain": [
       "      user_id            city tariff  month  gb_used  sms_count  duration  \\\n",
       "0        1000       Краснодар  ultra      5     3.00      22.00    159.00   \n",
       "1        1000       Краснодар  ultra      6    23.00      60.00    172.00   \n",
       "2        1000       Краснодар  ultra      7    14.00      75.00    340.00   \n",
       "3        1000       Краснодар  ultra      8    14.00      81.00    408.00   \n",
       "4        1000       Краснодар  ultra      9    15.00      57.00    466.00   \n",
       "...       ...             ...    ...    ...      ...        ...       ...   \n",
       "3209     1499           Пермь  smart     10    18.00      48.00    449.00   \n",
       "3210     1499           Пермь  smart     11    18.00      59.00    612.00   \n",
       "3211     1499           Пермь  smart     12    13.00      66.00    492.00   \n",
       "3212     1365  Ростов-на-Дону  smart     10     0.00       0.00     43.00   \n",
       "3213     1446          Липецк  smart      8     0.00       0.00     50.00   \n",
       "\n",
       "      messages_included  mb_per_month_included  minutes_included  \\\n",
       "0                  1000                  30720              3000   \n",
       "1                  1000                  30720              3000   \n",
       "2                  1000                  30720              3000   \n",
       "3                  1000                  30720              3000   \n",
       "4                  1000                  30720              3000   \n",
       "...                 ...                    ...               ...   \n",
       "3209                 50                  15360               500   \n",
       "3210                 50                  15360               500   \n",
       "3211                 50                  15360               500   \n",
       "3212                 50                  15360               500   \n",
       "3213                 50                  15360               500   \n",
       "\n",
       "      rub_monthly_fee  rub_per_gb  rub_per_message  rub_per_minute  fee_inet  \\\n",
       "0                1950         150                1               1      0.00   \n",
       "1                1950         150                1               1      0.00   \n",
       "2                1950         150                1               1      0.00   \n",
       "3                1950         150                1               1      0.00   \n",
       "4                1950         150                1               1      0.00   \n",
       "...               ...         ...              ...             ...       ...   \n",
       "3209              550         200                3               3    600.00   \n",
       "3210              550         200                3               3    600.00   \n",
       "3211              550         200                3               3      0.00   \n",
       "3212              550         200                3               3      0.00   \n",
       "3213              550         200                3               3      0.00   \n",
       "\n",
       "      fee_sms  fee_calls      fee  \n",
       "0        0.00       0.00 1,950.00  \n",
       "1        0.00       0.00 1,950.00  \n",
       "2        0.00       0.00 1,950.00  \n",
       "3        0.00       0.00 1,950.00  \n",
       "4        0.00       0.00 1,950.00  \n",
       "...       ...        ...      ...  \n",
       "3209     0.00       0.00 1,150.00  \n",
       "3210    27.00     336.00 1,513.00  \n",
       "3211    48.00       0.00   598.00  \n",
       "3212     0.00       0.00   550.00  \n",
       "3213     0.00       0.00   550.00  \n",
       "\n",
       "[3214 rows x 18 columns]"
      ]
     },
     "execution_count": 83,
     "metadata": {},
     "output_type": "execute_result"
    }
   ],
   "source": [
    "# Добавим значения из табилцы с тарифами\n",
    "df_earn_2 = df_earn_2.merge(df_tariffs, on='tariff')\n",
    "\n",
    "# Рассчитаем стоимость сверхлимитно оказанных услуг и добавим абонентскую плату\n",
    "df_earn_2['fee_inet'] = (df_earn_2['gb_used'] - df_earn_2['mb_per_month_included'] / 1024).apply(lambda x: 0 if x < 0 else x) * df_earn_2['rub_per_gb']\n",
    "df_earn_2['fee_sms'] = (df_earn_2['sms_count'] - df_earn_2['messages_included']).apply(lambda x: 0 if x < 0 else x) * df_earn_2['rub_per_message']\n",
    "df_earn_2['fee_calls'] = (df_earn_2['duration'] - df_earn_2['minutes_included']).apply(lambda x: 0 if x < 0 else x) * df_earn_2['rub_per_minute']\n",
    "df_earn_2['fee'] = df_earn_2['fee_inet'] + df_earn_2['fee_sms'] + df_earn_2['fee_calls'] + df_earn_2['rub_monthly_fee']\n",
    "df_earn_2"
   ]
  },
  {
   "cell_type": "markdown",
   "id": "77f1f71f",
   "metadata": {},
   "source": [
    "<a id='corr_2' ></a>\n",
    "# Исправленные тесты"
   ]
  },
  {
   "cell_type": "code",
   "execution_count": 85,
   "id": "0717d1b9",
   "metadata": {},
   "outputs": [
    {
     "data": {
      "text/html": [
       "<div>\n",
       "<style scoped>\n",
       "    .dataframe tbody tr th:only-of-type {\n",
       "        vertical-align: middle;\n",
       "    }\n",
       "\n",
       "    .dataframe tbody tr th {\n",
       "        vertical-align: top;\n",
       "    }\n",
       "\n",
       "    .dataframe thead th {\n",
       "        text-align: right;\n",
       "    }\n",
       "</style>\n",
       "<table border=\"1\" class=\"dataframe\">\n",
       "  <thead>\n",
       "    <tr style=\"text-align: right;\">\n",
       "      <th></th>\n",
       "      <th>tariff</th>\n",
       "      <th>mean</th>\n",
       "      <th>median</th>\n",
       "      <th>var</th>\n",
       "      <th>std</th>\n",
       "    </tr>\n",
       "  </thead>\n",
       "  <tbody>\n",
       "    <tr>\n",
       "      <th>0</th>\n",
       "      <td>smart</td>\n",
       "      <td>1,289.97</td>\n",
       "      <td>1,023.00</td>\n",
       "      <td>669,785.71</td>\n",
       "      <td>818.40</td>\n",
       "    </tr>\n",
       "    <tr>\n",
       "      <th>1</th>\n",
       "      <td>ultra</td>\n",
       "      <td>2,070.15</td>\n",
       "      <td>1,950.00</td>\n",
       "      <td>141,516.75</td>\n",
       "      <td>376.19</td>\n",
       "    </tr>\n",
       "  </tbody>\n",
       "</table>\n",
       "</div>"
      ],
      "text/plain": [
       "  tariff     mean   median        var    std\n",
       "0  smart 1,289.97 1,023.00 669,785.71 818.40\n",
       "1  ultra 2,070.15 1,950.00 141,516.75 376.19"
      ]
     },
     "execution_count": 85,
     "metadata": {},
     "output_type": "execute_result"
    }
   ],
   "source": [
    "(\n",
    "    df_earn_2\n",
    "    .pivot_table(index='tariff', values='fee', aggfunc=['mean', 'median', 'var','std'])\n",
    "    .droplevel(level=1, axis=1).reset_index()\n",
    ")"
   ]
  },
  {
   "cell_type": "markdown",
   "id": "df90c2ef",
   "metadata": {},
   "source": [
    "<div class='alert alert-info'>\n",
    "    <b>V2:</b> Тест о различии в поведении абонентов разных тарифов\n",
    "    <br/><b>Нулевая гипотеза:</b> Среднемесячные платежи по обоим тарифам равны.\n",
    "    <br/><b>Альтернативная гипотеза:</b> Среднемесячные платежи по каждому из тарифов значительно отличаются."
   ]
  },
  {
   "cell_type": "code",
   "execution_count": 86,
   "id": "f73236ef",
   "metadata": {},
   "outputs": [
    {
     "data": {
      "text/plain": [
       "Ttest_indResult(statistic=37.019021231454644, pvalue=4.2606313931076085e-250)"
      ]
     },
     "execution_count": 86,
     "metadata": {},
     "output_type": "execute_result"
    }
   ],
   "source": [
    "tarifs_compare = st.ttest_ind(df_earn_2[df_earn_2['tariff'] == 'ultra']['fee'], \n",
    "                              df_earn_2[df_earn_2['tariff'] == 'smart']['fee'], equal_var = False)\n",
    "tarifs_compare"
   ]
  },
  {
   "cell_type": "markdown",
   "id": "aac7e5f4",
   "metadata": {},
   "source": [
    "<div class='alert alert-info'><b>V2:</b>\n",
    "    Полученное, крайне низкое, значение p-value говорит о том, что вероятность получить такое и еще большее различие в среднемесячной оплате услуг по разным тарифам случайно очень низкая. Отвергаем нулевую гипотезу."
   ]
  },
  {
   "cell_type": "markdown",
   "id": "7a44a9c6",
   "metadata": {},
   "source": [
    "<div class='alert alert-info'>\n",
    "    <b>V2:</b> Тест о различии в поведении абонентов разных регионов\n",
    "<br/><b>Нулевая гипотеза: </b>Среднемесячная выручка в Москве и регионах РФ одинаковая.\n",
    "<br><b>Альтернативная гипотеза: </b> Среднемесячная выручка в Москве и других города РФ разная."
   ]
  },
  {
   "cell_type": "code",
   "execution_count": 87,
   "id": "c5184f3f",
   "metadata": {},
   "outputs": [
    {
     "data": {
      "text/html": [
       "<div>\n",
       "<style scoped>\n",
       "    .dataframe tbody tr th:only-of-type {\n",
       "        vertical-align: middle;\n",
       "    }\n",
       "\n",
       "    .dataframe tbody tr th {\n",
       "        vertical-align: top;\n",
       "    }\n",
       "\n",
       "    .dataframe thead th {\n",
       "        text-align: right;\n",
       "    }\n",
       "</style>\n",
       "<table border=\"1\" class=\"dataframe\">\n",
       "  <thead>\n",
       "    <tr style=\"text-align: right;\">\n",
       "      <th></th>\n",
       "      <th>city</th>\n",
       "      <th>mean</th>\n",
       "      <th>median</th>\n",
       "      <th>var</th>\n",
       "      <th>std</th>\n",
       "    </tr>\n",
       "  </thead>\n",
       "  <tbody>\n",
       "    <tr>\n",
       "      <th>0</th>\n",
       "      <td>Москва</td>\n",
       "      <td>1,546.71</td>\n",
       "      <td>1,750.00</td>\n",
       "      <td>565,636.47</td>\n",
       "      <td>752.09</td>\n",
       "    </tr>\n",
       "  </tbody>\n",
       "</table>\n",
       "</div>"
      ],
      "text/plain": [
       "     city     mean   median        var    std\n",
       "0  Москва 1,546.71 1,750.00 565,636.47 752.09"
      ]
     },
     "execution_count": 87,
     "metadata": {},
     "output_type": "execute_result"
    }
   ],
   "source": [
    "df_earn_2[df_earn_2['city'] == 'Москва'].pivot_table(index='city', values='fee', aggfunc=['mean', 'median', 'var','std']).droplevel(level=1, axis=1).reset_index()"
   ]
  },
  {
   "cell_type": "code",
   "execution_count": 88,
   "id": "a510875a",
   "metadata": {
    "scrolled": true
   },
   "outputs": [
    {
     "data": {
      "text/plain": [
       "mean       1,524.94\n",
       "median     1,583.00\n",
       "var      654,137.63\n",
       "std          808.79\n",
       "Name: fee, dtype: float64"
      ]
     },
     "execution_count": 88,
     "metadata": {},
     "output_type": "execute_result"
    }
   ],
   "source": [
    "df_earn_2[df_earn_2['city'] != 'Москва']['fee'].agg(func=['mean', 'median','var','std'])"
   ]
  },
  {
   "cell_type": "code",
   "execution_count": 89,
   "id": "36c3d2ee",
   "metadata": {},
   "outputs": [
    {
     "data": {
      "text/plain": [
       "Ttest_indResult(statistic=0.6347555055229303, pvalue=0.5257376663729298)"
      ]
     },
     "execution_count": 89,
     "metadata": {},
     "output_type": "execute_result"
    }
   ],
   "source": [
    "city_compare = st.ttest_ind(df_earn_2[df_earn_2['city'] == 'Москва']['fee'], \n",
    "                            df_earn_2[df_earn_2['city'] != 'Москва']['fee'], equal_var = False)\n",
    "city_compare"
   ]
  },
  {
   "cell_type": "markdown",
   "id": "0d957ebe",
   "metadata": {},
   "source": [
    "<div class='alert alert-info'><b>V2:</b>\n",
    "    Не удалось отвергнуть нулевую гипотезу, т.к. вероятность получить случайно такое и еще большее различие в средней сумме абонентской платы в разных регионах слишком высока."
   ]
  },
  {
   "cell_type": "code",
   "execution_count": 90,
   "id": "741d27f5",
   "metadata": {
    "scrolled": false
   },
   "outputs": [
    {
     "name": "stdout",
     "output_type": "stream",
     "text": [
      "Тариф ultra: {'median': 1950.0, 'mean': 2085.55, 'var': 88644.63, 'std': 297.73, 'count': 149}\n",
      "Тариф smart: {'median': 1176.4, 'mean': 1322.19, 'var': 367944.2, 'std': 606.58, 'count': 351}\n",
      "Общая выручка ultra: 310746.79\n",
      "Общая выручка smart: 464090.27\n"
     ]
    },
    {
     "data": {
      "image/png": "[encoded data removed]",
      "text/plain": [
       "<Figure size 864x432 with 2 Axes>"
      ]
     },
     "metadata": {
      "needs_background": "light"
     },
     "output_type": "display_data"
    }
   ],
   "source": [
    "df_earn_avg = df_earn[['user_id','avg_month_fee']].merge(df_users[['user_id','tariff']], on='user_id')\n",
    "\n",
    "# Данные по разным тарифам выделяем в разные таблицы, рассчитываем статистики с помощью функции statistics\n",
    "df_earn_ultra = df_earn_avg[df_earn_avg['tariff'] == 'ultra']['avg_month_fee']\n",
    "stats_earn_ultra = statistics(df_earn_ultra)\n",
    "print('Тариф ultra:',stats_earn_ultra)\n",
    "\n",
    "df_earn_smart = df_earn_avg[df_earn_avg['tariff'] == 'smart']['avg_month_fee']\n",
    "stats_earn_smart = statistics(df_earn_smart)\n",
    "print('Тариф smart:',stats_earn_smart)\n",
    "\n",
    "# Строим гистограммы\n",
    "plt.figure(figsize=(12,6))\n",
    "plt.subplot(1,2,1)\n",
    "plt.hist(df_earn_ultra, density=True)\n",
    "plt.title('ultra')\n",
    "\n",
    "plt.subplot(1,2,2)\n",
    "plt.hist(df_earn_smart, density=True)\n",
    "plt.title('smart')\n",
    "plt.tight_layout()\n",
    "\n",
    "\n",
    "\n",
    "print('Общая выручка ultra:',df_earn_ultra.sum())\n",
    "print('Общая выручка smart:', df_earn_smart.sum())"
   ]
  },
  {
   "cell_type": "markdown",
   "id": "8c272118",
   "metadata": {},
   "source": [
    "Для проверки, действительно ли разница в выручке по тарифам smart и ultra не является случайной проведем ttest со уровнем статистической значимости 1%.  "
   ]
  },
  {
   "cell_type": "markdown",
   "id": "d7c6048e",
   "metadata": {},
   "source": [
    "<div class='alert alert-info'>\n",
    "    По нашим рассчетам получилось, что в среднем абоненты тарифа ultra тратят 2 085 р/мес., а абонеты smart 1 322 р/мес.   \n",
    "    <br /><b>-Нулевая гипотеза:</b> Среднемесячные платежи по обоим тарифам равны.\n",
    "<br /><b>-Альтернативная гипотеза:</b> Среднемесячные платежи по каждому из тарифов значительно отличаются.\n",
    "<br />\n",
    "<br />Уровенть статистической значимости $\\alpha$ примем равным 1%"
   ]
  },
  {
   "cell_type": "code",
   "execution_count": 91,
   "id": "922f5130",
   "metadata": {},
   "outputs": [
    {
     "data": {
      "text/plain": [
       "Ttest_indResult(statistic=18.831305063697634, pvalue=7.247981687409e-60)"
      ]
     },
     "execution_count": 91,
     "metadata": {},
     "output_type": "execute_result"
    }
   ],
   "source": [
    "tarifs_compare = st.ttest_ind(df_earn_ultra, df_earn_smart, equal_var = False)\n",
    "tarifs_compare"
   ]
  },
  {
   "cell_type": "markdown",
   "id": "7b18a584",
   "metadata": {},
   "source": [
    "<div class=\"alert alert-info\">\n",
    "    Значение pvalue < 1%. Отвергаем нулевую гипотезу. Шанс получить такую разницу в выборках, при условии верности нулевой гипотезы, практически равен нулю. Следовательно можно утрвеждать, что с очень большой долей вероятности среднемесячные платежи по тарифам будут значительно различаться."
   ]
  },
  {
   "cell_type": "markdown",
   "id": "fb6e7729",
   "metadata": {},
   "source": [
    "Значение pvalue ниже выбранного уровня критической статистической значимости. Значит вероятность получить такие выборки случайно очень низка, невозможна. "
   ]
  },
  {
   "cell_type": "markdown",
   "id": "ca9b5d24",
   "metadata": {},
   "source": [
    "Медиана ultra находится на уровне размера абонентской платы. Значит половина абонентов не превышают лимиты, установленные тарифом. Еще 34% абонентов платят около 2 250 р/мес., еще 13% - до 2 550 р/мес.  \n",
    "По тарифу smart картина иная. При меньшей медиана и меньшем среднем разброс значений значительно выше. Половина пользователей платят до 1200 р/мес. Это, более чем вдвое превывешает абонентску плату. При этом стандартное отклонение на уровне 600 р. показывает, что 34% позльзователей платят на уровне 1500 р/мес. Еще 13% платят сумму сравнимую с абонентской платой ultra, включающую большие лимиты."
   ]
  },
  {
   "cell_type": "code",
   "execution_count": null,
   "id": "a15fd02a",
   "metadata": {},
   "outputs": [],
   "source": []
  },
  {
   "cell_type": "code",
   "execution_count": null,
   "id": "0fda7d37",
   "metadata": {},
   "outputs": [],
   "source": []
  },
  {
   "cell_type": "code",
   "execution_count": null,
   "id": "eaac6bda",
   "metadata": {},
   "outputs": [],
   "source": []
  },
  {
   "cell_type": "markdown",
   "id": "b17dd5f0",
   "metadata": {},
   "source": [
    "### Среднемесячная выручка по региональному разделению"
   ]
  },
  {
   "cell_type": "code",
   "execution_count": 92,
   "id": "a3bb348b",
   "metadata": {},
   "outputs": [
    {
     "name": "stdout",
     "output_type": "stream",
     "text": [
      "Москва: {'median': 1600.86, 'mean': 1498.47, 'var': 367815.63, 'std': 606.48, 'count': 99}\n",
      "РФ: {'median': 1619.0, 'mean': 1562.32, 'var': 416201.36, 'std': 645.14, 'count': 401}\n"
     ]
    },
    {
     "data": {
      "image/png": "[encoded data removed]",
      "text/plain": [
       "<Figure size 864x432 with 2 Axes>"
      ]
     },
     "metadata": {
      "needs_background": "light"
     },
     "output_type": "display_data"
    }
   ],
   "source": [
    "df_earn_avg = df_earn[['user_id','avg_month_fee']].merge(df_users[['user_id','city']], on='user_id')\n",
    "\n",
    "# df_earn_avg = df_earn[['user_id','avg_month_fee']].merge(df_users[['user_id','city','tariff']], on='user_id')\n",
    "\n",
    "# Данные по разным тарифам выделяем в разные таблицы, рассчитываем статистики с помощью функции statistics\n",
    "df_earn_msk = df_earn_avg[df_earn_avg['city'] == 'Москва']['avg_month_fee']\n",
    "stats_earn_msk = statistics(df_earn_msk)\n",
    "print('Москва:',stats_earn_msk)\n",
    "\n",
    "df_earn_rf = df_earn_avg[df_earn_avg['city'] != 'Москва']['avg_month_fee']\n",
    "stats_earn_rf = statistics(df_earn_rf)\n",
    "print('РФ:',stats_earn_rf)\n",
    "\n",
    "# Строим гистограммы\n",
    "plt.figure(figsize=(12,6))\n",
    "plt.subplot(1,2,1)\n",
    "plt.hist(df_earn_msk, density=True)\n",
    "plt.title('Москва')\n",
    "\n",
    "plt.subplot(1,2,2)\n",
    "plt.hist(df_earn_rf, density=True)\n",
    "plt.title('РФ')\n",
    "plt.tight_layout()"
   ]
  },
  {
   "cell_type": "markdown",
   "id": "b4e07a91",
   "metadata": {},
   "source": [
    "<div class='alert alert-info'>\n",
    "<b>Нулевая гипотеза: </b>Среднемесячная выручка в Москве и регионах РФ одинаковая.\n",
    "<br><b>Альтернативная гипотеза: </b> Среднемесячная выручка в Москве и других города РФ разная."
   ]
  },
  {
   "cell_type": "code",
   "execution_count": 93,
   "id": "f6e70016",
   "metadata": {},
   "outputs": [
    {
     "data": {
      "text/plain": [
       "Ttest_indResult(statistic=-0.9261296687760519, pvalue=0.35579647989818186)"
      ]
     },
     "execution_count": 93,
     "metadata": {},
     "output_type": "execute_result"
    }
   ],
   "source": [
    "city_compare = st.ttest_ind(df_earn_msk, df_earn_rf, equal_var = False)\n",
    "city_compare"
   ]
  },
  {
   "cell_type": "markdown",
   "id": "0f0c23ac",
   "metadata": {},
   "source": [
    "<div class='alert alert-info'>\n",
    "Не удалось отклонить нулевую гипотезу. Значит среднемесячная выручка в Москве и регионах вероятнее всего находятся примерно на одном уровне.\n",
    "    \n",
    "    \n",
    "<br /><font size='2'>Прошу поправить, если не верно понимаю суть метода статистического тестирования. Величина p-value показывает вероятность получить из генерально совокупности сравниваемые, и еще более удаленные, данные, при условии верности нулевой гипотезы. Если эта вероятность ниже выбранного заранее уровня - нулевая гипотеза отвергается. Т.к. маловероятно, что сравниваемые значения могут принадлжать одной выборке. \n",
    "<br /> Изучаю дополнительный материал, но надо привыкнуть к построению таких формулировок</font>"
   ]
  },
  {
   "cell_type": "markdown",
   "id": "7b6d78b8",
   "metadata": {},
   "source": [
    "### Выводы"
   ]
  },
  {
   "cell_type": "markdown",
   "id": "5c72151f",
   "metadata": {},
   "source": [
    "В среднем объем получаемых услуг по тарифу ultra немного выше, чем у абонентов smart. При этом больша часть абонентов ultra вписываеются в лимиты и их опалта не превышает размер абонентской платы. Абонеты smart переплачивают вдвое больше абонентской платы. Значительную долю переплаты составляет перерасход лимита интернет-трафика. При этом же число абонентов smart более чем в двое превышает пользователй ultra. Вероятнее всего такая картина не зависит от региона."
   ]
  },
  {
   "cell_type": "markdown",
   "id": "f19f3c99",
   "metadata": {},
   "source": [
    "<div class='alert alert-info'>\n",
    "    <b> Основные тезисы</b>\n",
    "<br />Число абонентов smart более чем в два раза превосходит число абонентов тарифа ultra."
   ]
  },
  {
   "cell_type": "code",
   "execution_count": 95,
   "id": "97843f57",
   "metadata": {},
   "outputs": [
    {
     "data": {
      "text/plain": [
       "tariff\n",
       "smart    351\n",
       "ultra    149\n",
       "Name: user_id, dtype: int64"
      ]
     },
     "execution_count": 95,
     "metadata": {},
     "output_type": "execute_result"
    }
   ],
   "source": [
    "df_users.groupby(by='tariff').count()['user_id']"
   ]
  },
  {
   "cell_type": "markdown",
   "id": "de0c64c7",
   "metadata": {},
   "source": [
    "<div class='alert alert-info'>\n",
    "Половина абонентов smart не вписываются в установленные лимиты по услугам голосовой связи. Ни один из абонентов ultra не исчерпал ежемесячный лимит на услуги голосовой связи."
   ]
  },
  {
   "cell_type": "code",
   "execution_count": 96,
   "id": "ad34a103",
   "metadata": {
    "scrolled": true
   },
   "outputs": [
    {
     "data": {
      "text/html": [
       "<div>\n",
       "<style scoped>\n",
       "    .dataframe tbody tr th:only-of-type {\n",
       "        vertical-align: middle;\n",
       "    }\n",
       "\n",
       "    .dataframe tbody tr th {\n",
       "        vertical-align: top;\n",
       "    }\n",
       "\n",
       "    .dataframe thead th {\n",
       "        text-align: right;\n",
       "    }\n",
       "</style>\n",
       "<table border=\"1\" class=\"dataframe\">\n",
       "  <thead>\n",
       "    <tr style=\"text-align: right;\">\n",
       "      <th></th>\n",
       "      <th>tariff</th>\n",
       "      <th>mean</th>\n",
       "      <th>median</th>\n",
       "      <th>std</th>\n",
       "    </tr>\n",
       "  </thead>\n",
       "  <tbody>\n",
       "    <tr>\n",
       "      <th>0</th>\n",
       "      <td>smart</td>\n",
       "      <td>419.06</td>\n",
       "      <td>423</td>\n",
       "      <td>189.33</td>\n",
       "    </tr>\n",
       "    <tr>\n",
       "      <th>1</th>\n",
       "      <td>ultra</td>\n",
       "      <td>545.45</td>\n",
       "      <td>528</td>\n",
       "      <td>306.93</td>\n",
       "    </tr>\n",
       "  </tbody>\n",
       "</table>\n",
       "</div>"
      ],
      "text/plain": [
       "  tariff   mean  median    std\n",
       "0  smart 419.06     423 189.33\n",
       "1  ultra 545.45     528 306.93"
      ]
     },
     "execution_count": 96,
     "metadata": {},
     "output_type": "execute_result"
    }
   ],
   "source": [
    "(\n",
    "    df_my_check\n",
    "    .pivot_table(index='tariff', values='duration', \n",
    "                 aggfunc=['mean', 'median', 'std'])\n",
    "    .droplevel(level=1, axis=1)\n",
    "    .reset_index()\n",
    ")"
   ]
  },
  {
   "cell_type": "markdown",
   "id": "6ce6d5e8",
   "metadata": {},
   "source": [
    "<div class='alert alert-info'>\n",
    "Абоненты smart, превышающие лимиты на голосовую связь, доплачивают от 200 и более рублей в месяц. Данная возможность выгодна для клиентов до достижения общей длительности всех звонков в месяц до значения 966 минут. (500 минут включенные в тариф,  466 минут - по сверхлимитной ставке). При необходимости использовать больше минут абоненту следует использовать тариф ultra."
   ]
  },
  {
   "cell_type": "code",
   "execution_count": 97,
   "id": "d6ba2c8b",
   "metadata": {},
   "outputs": [
    {
     "data": {
      "text/html": [
       "<div>\n",
       "<style scoped>\n",
       "    .dataframe tbody tr th:only-of-type {\n",
       "        vertical-align: middle;\n",
       "    }\n",
       "\n",
       "    .dataframe tbody tr th {\n",
       "        vertical-align: top;\n",
       "    }\n",
       "\n",
       "    .dataframe thead th {\n",
       "        text-align: right;\n",
       "    }\n",
       "</style>\n",
       "<table border=\"1\" class=\"dataframe\">\n",
       "  <thead>\n",
       "    <tr style=\"text-align: right;\">\n",
       "      <th></th>\n",
       "      <th>tariff</th>\n",
       "      <th>mean</th>\n",
       "      <th>median</th>\n",
       "      <th>min</th>\n",
       "      <th>max</th>\n",
       "      <th>std</th>\n",
       "    </tr>\n",
       "  </thead>\n",
       "  <tbody>\n",
       "    <tr>\n",
       "      <th>0</th>\n",
       "      <td>smart</td>\n",
       "      <td>792.64</td>\n",
       "      <td>201</td>\n",
       "      <td>0</td>\n",
       "      <td>8082</td>\n",
       "      <td>1,289.69</td>\n",
       "    </tr>\n",
       "    <tr>\n",
       "      <th>1</th>\n",
       "      <td>ultra</td>\n",
       "      <td>0.00</td>\n",
       "      <td>0</td>\n",
       "      <td>0</td>\n",
       "      <td>0</td>\n",
       "      <td>0.00</td>\n",
       "    </tr>\n",
       "  </tbody>\n",
       "</table>\n",
       "</div>"
      ],
      "text/plain": [
       "  tariff   mean  median  min   max      std\n",
       "0  smart 792.64     201    0  8082 1,289.69\n",
       "1  ultra   0.00       0    0     0     0.00"
      ]
     },
     "execution_count": 97,
     "metadata": {},
     "output_type": "execute_result"
    }
   ],
   "source": [
    "(\n",
    "    df_calls_earn\n",
    "    .pivot_table(index='tariff', values='calls_extra_pay', \n",
    "                          aggfunc=['mean','median', 'min','max', 'std'])\n",
    "    .droplevel(level=1, axis=1)\n",
    "    .reset_index()\n",
    ")"
   ]
  },
  {
   "cell_type": "markdown",
   "id": "d281e272",
   "metadata": {},
   "source": [
    "<div class='alert alert-info'>\n",
    "    <br />Более половины абонентов <b>ultra</b> вписываются в лимиты на расход интернет-трафика.\n",
    "    <br />Больше половины абонентов <b>smart</b> превышают лимит по интренет-трафику. При превышении трафика на 7 Гб ежемесячная плата становится равной платежу по тарифу ultra."
   ]
  },
  {
   "cell_type": "code",
   "execution_count": 98,
   "id": "42a0eb21",
   "metadata": {
    "scrolled": false
   },
   "outputs": [
    {
     "data": {
      "text/html": [
       "<div>\n",
       "<style scoped>\n",
       "    .dataframe tbody tr th:only-of-type {\n",
       "        vertical-align: middle;\n",
       "    }\n",
       "\n",
       "    .dataframe tbody tr th {\n",
       "        vertical-align: top;\n",
       "    }\n",
       "\n",
       "    .dataframe thead th {\n",
       "        text-align: right;\n",
       "    }\n",
       "</style>\n",
       "<table border=\"1\" class=\"dataframe\">\n",
       "  <thead>\n",
       "    <tr style=\"text-align: right;\">\n",
       "      <th></th>\n",
       "      <th>tariff</th>\n",
       "      <th>median</th>\n",
       "      <th>mean</th>\n",
       "      <th>std</th>\n",
       "    </tr>\n",
       "  </thead>\n",
       "  <tbody>\n",
       "    <tr>\n",
       "      <th>0</th>\n",
       "      <td>smart</td>\n",
       "      <td>16.12</td>\n",
       "      <td>15.84</td>\n",
       "      <td>5.72</td>\n",
       "    </tr>\n",
       "    <tr>\n",
       "      <th>1</th>\n",
       "      <td>ultra</td>\n",
       "      <td>18.95</td>\n",
       "      <td>19.23</td>\n",
       "      <td>9.70</td>\n",
       "    </tr>\n",
       "  </tbody>\n",
       "</table>\n",
       "</div>"
      ],
      "text/plain": [
       "  tariff  median  mean  std\n",
       "0  smart   16.12 15.84 5.72\n",
       "1  ultra   18.95 19.23 9.70"
      ]
     },
     "execution_count": 98,
     "metadata": {},
     "output_type": "execute_result"
    }
   ],
   "source": [
    "(\n",
    "    df_inet_2\n",
    "    .pivot_table(index='tariff', \n",
    "                 values='gb_used', \n",
    "                 aggfunc=['median', 'mean', 'std'])\n",
    "    .reset_index()\n",
    "    .droplevel(level=1, axis=1)\n",
    ")"
   ]
  },
  {
   "cell_type": "markdown",
   "id": "0615aa5f",
   "metadata": {},
   "source": [
    "<div class='alert alert-info'>\n",
    "    Число абонентов <b>smart</b>, среднемесячный платеж которых сравнялся с абонентской платой по пакету ultra, только за счет перерасхода интернет-трафика:"
   ]
  },
  {
   "cell_type": "code",
   "execution_count": 99,
   "id": "ffa40849",
   "metadata": {},
   "outputs": [
    {
     "data": {
      "text/plain": [
       "34"
      ]
     },
     "execution_count": 99,
     "metadata": {},
     "output_type": "execute_result"
    }
   ],
   "source": [
    "df_earn_22 = df_earn[['inet_extra_pay', 'user_id', 'actual_months']].merge(df_users[['user_id', 'tariff']], on='user_id')\n",
    "df_earn_22['extra_month'] = df_earn_22['inet_extra_pay'] / df_earn_22['actual_months']\n",
    "df_earn_22 = df_earn_22[df_earn_22['tariff'] == 'smart']\n",
    "df_earn_22[df_earn_22['extra_month'] >= 1400]['user_id'].count()"
   ]
  },
  {
   "cell_type": "markdown",
   "id": "d57f4795",
   "metadata": {},
   "source": [
    "<div class='alert alert-info'>\n",
    "Из них более чем у половины такие переплаты просиходили более чем 3 раза. Другими словами эта часть абонентов регулярно существенно переплачивает, при этом имея возможность снизить расходы перейдя на тариф ultra."
   ]
  },
  {
   "cell_type": "code",
   "execution_count": 100,
   "id": "1067a71c",
   "metadata": {},
   "outputs": [
    {
     "data": {
      "text/html": [
       "<div>\n",
       "<style scoped>\n",
       "    .dataframe tbody tr th:only-of-type {\n",
       "        vertical-align: middle;\n",
       "    }\n",
       "\n",
       "    .dataframe tbody tr th {\n",
       "        vertical-align: top;\n",
       "    }\n",
       "\n",
       "    .dataframe thead th {\n",
       "        text-align: right;\n",
       "    }\n",
       "</style>\n",
       "<table border=\"1\" class=\"dataframe\">\n",
       "  <thead>\n",
       "    <tr style=\"text-align: right;\">\n",
       "      <th></th>\n",
       "      <th>actual_months</th>\n",
       "      <th>user_id</th>\n",
       "      <th>extra_month</th>\n",
       "    </tr>\n",
       "  </thead>\n",
       "  <tbody>\n",
       "    <tr>\n",
       "      <th>494</th>\n",
       "      <td>12</td>\n",
       "      <td>1496</td>\n",
       "      <td>1,683.33</td>\n",
       "    </tr>\n",
       "    <tr>\n",
       "      <th>203</th>\n",
       "      <td>11</td>\n",
       "      <td>1072</td>\n",
       "      <td>1,745.45</td>\n",
       "    </tr>\n",
       "    <tr>\n",
       "      <th>336</th>\n",
       "      <td>11</td>\n",
       "      <td>1251</td>\n",
       "      <td>1,436.36</td>\n",
       "    </tr>\n",
       "    <tr>\n",
       "      <th>196</th>\n",
       "      <td>10</td>\n",
       "      <td>1065</td>\n",
       "      <td>1,560.00</td>\n",
       "    </tr>\n",
       "    <tr>\n",
       "      <th>259</th>\n",
       "      <td>8</td>\n",
       "      <td>1149</td>\n",
       "      <td>1,600.00</td>\n",
       "    </tr>\n",
       "    <tr>\n",
       "      <th>387</th>\n",
       "      <td>8</td>\n",
       "      <td>1324</td>\n",
       "      <td>1,400.00</td>\n",
       "    </tr>\n",
       "    <tr>\n",
       "      <th>274</th>\n",
       "      <td>8</td>\n",
       "      <td>1172</td>\n",
       "      <td>2,450.00</td>\n",
       "    </tr>\n",
       "    <tr>\n",
       "      <th>159</th>\n",
       "      <td>8</td>\n",
       "      <td>1014</td>\n",
       "      <td>1,825.00</td>\n",
       "    </tr>\n",
       "    <tr>\n",
       "      <th>328</th>\n",
       "      <td>8</td>\n",
       "      <td>1241</td>\n",
       "      <td>1,900.00</td>\n",
       "    </tr>\n",
       "    <tr>\n",
       "      <th>218</th>\n",
       "      <td>7</td>\n",
       "      <td>1098</td>\n",
       "      <td>1,857.14</td>\n",
       "    </tr>\n",
       "    <tr>\n",
       "      <th>215</th>\n",
       "      <td>7</td>\n",
       "      <td>1092</td>\n",
       "      <td>1,457.14</td>\n",
       "    </tr>\n",
       "    <tr>\n",
       "      <th>250</th>\n",
       "      <td>6</td>\n",
       "      <td>1138</td>\n",
       "      <td>1,766.67</td>\n",
       "    </tr>\n",
       "    <tr>\n",
       "      <th>418</th>\n",
       "      <td>5</td>\n",
       "      <td>1386</td>\n",
       "      <td>1,640.00</td>\n",
       "    </tr>\n",
       "    <tr>\n",
       "      <th>469</th>\n",
       "      <td>5</td>\n",
       "      <td>1456</td>\n",
       "      <td>1,440.00</td>\n",
       "    </tr>\n",
       "    <tr>\n",
       "      <th>420</th>\n",
       "      <td>5</td>\n",
       "      <td>1388</td>\n",
       "      <td>1,480.00</td>\n",
       "    </tr>\n",
       "    <tr>\n",
       "      <th>446</th>\n",
       "      <td>4</td>\n",
       "      <td>1426</td>\n",
       "      <td>1,550.00</td>\n",
       "    </tr>\n",
       "    <tr>\n",
       "      <th>441</th>\n",
       "      <td>4</td>\n",
       "      <td>1420</td>\n",
       "      <td>1,900.00</td>\n",
       "    </tr>\n",
       "    <tr>\n",
       "      <th>223</th>\n",
       "      <td>4</td>\n",
       "      <td>1105</td>\n",
       "      <td>1,750.00</td>\n",
       "    </tr>\n",
       "    <tr>\n",
       "      <th>341</th>\n",
       "      <td>3</td>\n",
       "      <td>1261</td>\n",
       "      <td>2,266.67</td>\n",
       "    </tr>\n",
       "    <tr>\n",
       "      <th>185</th>\n",
       "      <td>3</td>\n",
       "      <td>1047</td>\n",
       "      <td>1,533.33</td>\n",
       "    </tr>\n",
       "  </tbody>\n",
       "</table>\n",
       "</div>"
      ],
      "text/plain": [
       "     actual_months  user_id  extra_month\n",
       "494             12     1496     1,683.33\n",
       "203             11     1072     1,745.45\n",
       "336             11     1251     1,436.36\n",
       "196             10     1065     1,560.00\n",
       "259              8     1149     1,600.00\n",
       "387              8     1324     1,400.00\n",
       "274              8     1172     2,450.00\n",
       "159              8     1014     1,825.00\n",
       "328              8     1241     1,900.00\n",
       "218              7     1098     1,857.14\n",
       "215              7     1092     1,457.14\n",
       "250              6     1138     1,766.67\n",
       "418              5     1386     1,640.00\n",
       "469              5     1456     1,440.00\n",
       "420              5     1388     1,480.00\n",
       "446              4     1426     1,550.00\n",
       "441              4     1420     1,900.00\n",
       "223              4     1105     1,750.00\n",
       "341              3     1261     2,266.67\n",
       "185              3     1047     1,533.33"
      ]
     },
     "execution_count": 100,
     "metadata": {},
     "output_type": "execute_result"
    }
   ],
   "source": [
    "df_earn_22[df_earn_22['extra_month'] >= 1400][['actual_months', 'user_id', 'extra_month']].sort_values(by='actual_months', ascending=False).head(20)\n"
   ]
  },
  {
   "cell_type": "markdown",
   "id": "d4073814",
   "metadata": {},
   "source": [
    "<div class='alert alert-info'>\n",
    "    Число абонентов <b>smart</b>, среднемесячный платеж которых сровнялся или превысил абонентскую плату по тарифу ultra:"
   ]
  },
  {
   "cell_type": "code",
   "execution_count": 101,
   "id": "c0aa7ad6",
   "metadata": {},
   "outputs": [
    {
     "data": {
      "text/plain": [
       "tariff           49\n",
       "avg_month_fee    49\n",
       "dtype: int64"
      ]
     },
     "execution_count": 101,
     "metadata": {},
     "output_type": "execute_result"
    }
   ],
   "source": [
    "df_earn_over = df_earn.merge(df_users[['tariff','user_id']], on='user_id')[['tariff','avg_month_fee']]\n",
    "df_earn_over[(df_earn_over['tariff'] == 'smart') & (df_earn_over['avg_month_fee'] > 1950)].count()"
   ]
  },
  {
   "cell_type": "markdown",
   "id": "c1218a86",
   "metadata": {},
   "source": [
    "<div class='alert alert-info'>\n",
    "    В качестве рекомендации предлагается более активно рекламировать тариф <b>ultra</b>. При этом не отказываясь от существующей рекламы тарифа smart. Данные тарифы предполагают разные потребности абонентов в услугах сотовой связи. И необходимо предоставить потенциальному клиенту выбор между обоими тарифами. Тариф smart пользуется больше популярностью, ввиду низкой абонентской платы. Но у 14% действующих клиентов размеры платежей равны или превосходят абонентскую плату тарифа ultra. Именно для оптимизации затрат этой группы клиентов (действующих и потенциальных) предлагается развивать рекламу тарифа ultra. В абсолютном выражении это, конечно, противречит задаче увеличить выручку от предоставляемых услуг. Но в долгосрочной перспективе предотвратит отток клиентов к конкурентам и повысит лояльность клиентов к нашей компании."
   ]
  }
 ],
 "metadata": {
  "ExecuteTimeLog": [
   {
    "duration": 116,
    "start_time": "2022-04-11T16:29:50.670Z"
   },
   {
    "duration": 1507,
    "start_time": "2022-04-11T16:32:23.946Z"
   },
   {
    "duration": 214,
    "start_time": "2022-04-11T16:32:25.455Z"
   },
   {
    "duration": 0,
    "start_time": "2022-04-11T16:32:25.672Z"
   },
   {
    "duration": 0,
    "start_time": "2022-04-11T16:32:25.679Z"
   },
   {
    "duration": 0,
    "start_time": "2022-04-11T16:32:25.680Z"
   },
   {
    "duration": 0,
    "start_time": "2022-04-11T16:32:25.682Z"
   },
   {
    "duration": 0,
    "start_time": "2022-04-11T16:32:25.683Z"
   },
   {
    "duration": 0,
    "start_time": "2022-04-11T16:32:25.684Z"
   },
   {
    "duration": 0,
    "start_time": "2022-04-11T16:32:25.685Z"
   },
   {
    "duration": 0,
    "start_time": "2022-04-11T16:32:25.686Z"
   },
   {
    "duration": 0,
    "start_time": "2022-04-11T16:32:25.687Z"
   },
   {
    "duration": 0,
    "start_time": "2022-04-11T16:32:25.687Z"
   },
   {
    "duration": 0,
    "start_time": "2022-04-11T16:32:25.689Z"
   },
   {
    "duration": 0,
    "start_time": "2022-04-11T16:32:25.690Z"
   },
   {
    "duration": 0,
    "start_time": "2022-04-11T16:32:25.691Z"
   },
   {
    "duration": 0,
    "start_time": "2022-04-11T16:32:25.692Z"
   },
   {
    "duration": 0,
    "start_time": "2022-04-11T16:32:25.693Z"
   },
   {
    "duration": 0,
    "start_time": "2022-04-11T16:32:25.694Z"
   },
   {
    "duration": 0,
    "start_time": "2022-04-11T16:32:25.695Z"
   },
   {
    "duration": 0,
    "start_time": "2022-04-11T16:32:25.696Z"
   },
   {
    "duration": 0,
    "start_time": "2022-04-11T16:32:25.697Z"
   },
   {
    "duration": 0,
    "start_time": "2022-04-11T16:32:25.698Z"
   },
   {
    "duration": 0,
    "start_time": "2022-04-11T16:32:25.699Z"
   },
   {
    "duration": 0,
    "start_time": "2022-04-11T16:32:25.700Z"
   },
   {
    "duration": 0,
    "start_time": "2022-04-11T16:32:25.701Z"
   },
   {
    "duration": 0,
    "start_time": "2022-04-11T16:32:25.702Z"
   },
   {
    "duration": 0,
    "start_time": "2022-04-11T16:32:25.703Z"
   },
   {
    "duration": 0,
    "start_time": "2022-04-11T16:32:25.704Z"
   },
   {
    "duration": 0,
    "start_time": "2022-04-11T16:32:25.705Z"
   },
   {
    "duration": 0,
    "start_time": "2022-04-11T16:32:25.706Z"
   },
   {
    "duration": 0,
    "start_time": "2022-04-11T16:32:25.707Z"
   },
   {
    "duration": 0,
    "start_time": "2022-04-11T16:32:25.708Z"
   },
   {
    "duration": 0,
    "start_time": "2022-04-11T16:32:25.709Z"
   },
   {
    "duration": 0,
    "start_time": "2022-04-11T16:32:25.710Z"
   },
   {
    "duration": 0,
    "start_time": "2022-04-11T16:32:25.711Z"
   },
   {
    "duration": 0,
    "start_time": "2022-04-11T16:32:25.712Z"
   },
   {
    "duration": 0,
    "start_time": "2022-04-11T16:32:25.712Z"
   },
   {
    "duration": 0,
    "start_time": "2022-04-11T16:32:25.714Z"
   },
   {
    "duration": 0,
    "start_time": "2022-04-11T16:32:25.715Z"
   },
   {
    "duration": 0,
    "start_time": "2022-04-11T16:32:25.716Z"
   },
   {
    "duration": 0,
    "start_time": "2022-04-11T16:32:25.717Z"
   },
   {
    "duration": 0,
    "start_time": "2022-04-11T16:32:25.718Z"
   },
   {
    "duration": 0,
    "start_time": "2022-04-11T16:32:25.795Z"
   },
   {
    "duration": 0,
    "start_time": "2022-04-11T16:32:25.796Z"
   },
   {
    "duration": 0,
    "start_time": "2022-04-11T16:32:25.797Z"
   },
   {
    "duration": 0,
    "start_time": "2022-04-11T16:32:25.798Z"
   },
   {
    "duration": 0,
    "start_time": "2022-04-11T16:32:25.799Z"
   },
   {
    "duration": 0,
    "start_time": "2022-04-11T16:32:25.800Z"
   },
   {
    "duration": 0,
    "start_time": "2022-04-11T16:32:25.801Z"
   },
   {
    "duration": 0,
    "start_time": "2022-04-11T16:32:25.802Z"
   },
   {
    "duration": 0,
    "start_time": "2022-04-11T16:32:25.803Z"
   },
   {
    "duration": 0,
    "start_time": "2022-04-11T16:32:25.804Z"
   },
   {
    "duration": 0,
    "start_time": "2022-04-11T16:32:25.805Z"
   },
   {
    "duration": 0,
    "start_time": "2022-04-11T16:32:25.806Z"
   },
   {
    "duration": 0,
    "start_time": "2022-04-11T16:32:25.807Z"
   },
   {
    "duration": 0,
    "start_time": "2022-04-11T16:32:25.808Z"
   },
   {
    "duration": 0,
    "start_time": "2022-04-11T16:32:25.809Z"
   },
   {
    "duration": 0,
    "start_time": "2022-04-11T16:32:25.810Z"
   },
   {
    "duration": 0,
    "start_time": "2022-04-11T16:32:25.811Z"
   },
   {
    "duration": 0,
    "start_time": "2022-04-11T16:32:25.812Z"
   },
   {
    "duration": 0,
    "start_time": "2022-04-11T16:32:25.814Z"
   },
   {
    "duration": 0,
    "start_time": "2022-04-11T16:32:25.814Z"
   },
   {
    "duration": 0,
    "start_time": "2022-04-11T16:32:25.815Z"
   },
   {
    "duration": 0,
    "start_time": "2022-04-11T16:32:25.816Z"
   },
   {
    "duration": 0,
    "start_time": "2022-04-11T16:32:25.819Z"
   },
   {
    "duration": 0,
    "start_time": "2022-04-11T16:32:25.821Z"
   },
   {
    "duration": 137,
    "start_time": "2022-04-11T16:33:48.920Z"
   },
   {
    "duration": 123,
    "start_time": "2022-04-11T16:34:29.631Z"
   },
   {
    "duration": 584,
    "start_time": "2022-04-11T16:35:48.792Z"
   },
   {
    "duration": 50,
    "start_time": "2022-04-11T16:36:22.900Z"
   },
   {
    "duration": 0,
    "start_time": "2022-04-11T16:36:22.953Z"
   },
   {
    "duration": 0,
    "start_time": "2022-04-11T16:36:22.954Z"
   },
   {
    "duration": 0,
    "start_time": "2022-04-11T16:36:22.956Z"
   },
   {
    "duration": 0,
    "start_time": "2022-04-11T16:36:22.957Z"
   },
   {
    "duration": 0,
    "start_time": "2022-04-11T16:36:22.958Z"
   },
   {
    "duration": 0,
    "start_time": "2022-04-11T16:36:22.959Z"
   },
   {
    "duration": 0,
    "start_time": "2022-04-11T16:36:22.960Z"
   },
   {
    "duration": 0,
    "start_time": "2022-04-11T16:36:22.961Z"
   },
   {
    "duration": 0,
    "start_time": "2022-04-11T16:36:22.962Z"
   },
   {
    "duration": 0,
    "start_time": "2022-04-11T16:36:22.978Z"
   },
   {
    "duration": 0,
    "start_time": "2022-04-11T16:36:22.979Z"
   },
   {
    "duration": 0,
    "start_time": "2022-04-11T16:36:22.980Z"
   },
   {
    "duration": 0,
    "start_time": "2022-04-11T16:36:22.980Z"
   },
   {
    "duration": 0,
    "start_time": "2022-04-11T16:36:22.981Z"
   },
   {
    "duration": 0,
    "start_time": "2022-04-11T16:36:22.981Z"
   },
   {
    "duration": 0,
    "start_time": "2022-04-11T16:36:22.984Z"
   },
   {
    "duration": 0,
    "start_time": "2022-04-11T16:36:22.985Z"
   },
   {
    "duration": 0,
    "start_time": "2022-04-11T16:36:22.986Z"
   },
   {
    "duration": 0,
    "start_time": "2022-04-11T16:36:22.988Z"
   },
   {
    "duration": 0,
    "start_time": "2022-04-11T16:36:22.989Z"
   },
   {
    "duration": 0,
    "start_time": "2022-04-11T16:36:22.997Z"
   },
   {
    "duration": 0,
    "start_time": "2022-04-11T16:36:22.999Z"
   },
   {
    "duration": 0,
    "start_time": "2022-04-11T16:36:23.000Z"
   },
   {
    "duration": 0,
    "start_time": "2022-04-11T16:36:23.001Z"
   },
   {
    "duration": 0,
    "start_time": "2022-04-11T16:36:23.002Z"
   },
   {
    "duration": 6,
    "start_time": "2022-04-11T16:36:23.006Z"
   },
   {
    "duration": 0,
    "start_time": "2022-04-11T16:36:23.014Z"
   },
   {
    "duration": 0,
    "start_time": "2022-04-11T16:36:23.015Z"
   },
   {
    "duration": 0,
    "start_time": "2022-04-11T16:36:23.017Z"
   },
   {
    "duration": 0,
    "start_time": "2022-04-11T16:36:23.018Z"
   },
   {
    "duration": 0,
    "start_time": "2022-04-11T16:36:23.020Z"
   },
   {
    "duration": 0,
    "start_time": "2022-04-11T16:36:23.078Z"
   },
   {
    "duration": 0,
    "start_time": "2022-04-11T16:36:23.079Z"
   },
   {
    "duration": 0,
    "start_time": "2022-04-11T16:36:23.080Z"
   },
   {
    "duration": 0,
    "start_time": "2022-04-11T16:36:23.081Z"
   },
   {
    "duration": 0,
    "start_time": "2022-04-11T16:36:23.082Z"
   },
   {
    "duration": 0,
    "start_time": "2022-04-11T16:36:23.083Z"
   },
   {
    "duration": 0,
    "start_time": "2022-04-11T16:36:23.084Z"
   },
   {
    "duration": 0,
    "start_time": "2022-04-11T16:36:23.084Z"
   },
   {
    "duration": 0,
    "start_time": "2022-04-11T16:36:23.085Z"
   },
   {
    "duration": 0,
    "start_time": "2022-04-11T16:36:23.086Z"
   },
   {
    "duration": 0,
    "start_time": "2022-04-11T16:36:23.087Z"
   },
   {
    "duration": 0,
    "start_time": "2022-04-11T16:36:23.087Z"
   },
   {
    "duration": 0,
    "start_time": "2022-04-11T16:36:23.088Z"
   },
   {
    "duration": 0,
    "start_time": "2022-04-11T16:36:23.089Z"
   },
   {
    "duration": 0,
    "start_time": "2022-04-11T16:36:23.090Z"
   },
   {
    "duration": 0,
    "start_time": "2022-04-11T16:36:23.090Z"
   },
   {
    "duration": 0,
    "start_time": "2022-04-11T16:36:23.095Z"
   },
   {
    "duration": 0,
    "start_time": "2022-04-11T16:36:23.097Z"
   },
   {
    "duration": 0,
    "start_time": "2022-04-11T16:36:23.099Z"
   },
   {
    "duration": 0,
    "start_time": "2022-04-11T16:36:23.100Z"
   },
   {
    "duration": 4,
    "start_time": "2022-04-11T16:36:23.105Z"
   },
   {
    "duration": 4,
    "start_time": "2022-04-11T16:36:23.111Z"
   },
   {
    "duration": 69,
    "start_time": "2022-04-11T16:36:23.117Z"
   },
   {
    "duration": 0,
    "start_time": "2022-04-11T16:36:23.188Z"
   },
   {
    "duration": 0,
    "start_time": "2022-04-11T16:36:23.189Z"
   },
   {
    "duration": 0,
    "start_time": "2022-04-11T16:36:23.194Z"
   },
   {
    "duration": 0,
    "start_time": "2022-04-11T16:36:23.195Z"
   },
   {
    "duration": 0,
    "start_time": "2022-04-11T16:36:23.196Z"
   },
   {
    "duration": 0,
    "start_time": "2022-04-11T16:36:23.198Z"
   },
   {
    "duration": 0,
    "start_time": "2022-04-11T16:36:23.199Z"
   },
   {
    "duration": 0,
    "start_time": "2022-04-11T16:36:23.200Z"
   },
   {
    "duration": 0,
    "start_time": "2022-04-11T16:36:23.202Z"
   },
   {
    "duration": 0,
    "start_time": "2022-04-11T16:36:23.204Z"
   },
   {
    "duration": 0,
    "start_time": "2022-04-11T16:36:23.205Z"
   },
   {
    "duration": 0,
    "start_time": "2022-04-11T16:36:23.207Z"
   },
   {
    "duration": 1262,
    "start_time": "2022-04-11T16:36:54.999Z"
   },
   {
    "duration": 457,
    "start_time": "2022-04-11T16:36:56.264Z"
   },
   {
    "duration": 2,
    "start_time": "2022-04-11T16:36:56.723Z"
   },
   {
    "duration": 28,
    "start_time": "2022-04-11T16:36:56.727Z"
   },
   {
    "duration": 51,
    "start_time": "2022-04-11T16:36:56.757Z"
   },
   {
    "duration": 2,
    "start_time": "2022-04-11T16:36:56.809Z"
   },
   {
    "duration": 23,
    "start_time": "2022-04-11T16:36:56.813Z"
   },
   {
    "duration": 56,
    "start_time": "2022-04-11T16:36:56.838Z"
   },
   {
    "duration": 4,
    "start_time": "2022-04-11T16:36:56.896Z"
   },
   {
    "duration": 6,
    "start_time": "2022-04-11T16:36:56.901Z"
   },
   {
    "duration": 22,
    "start_time": "2022-04-11T16:36:56.908Z"
   },
   {
    "duration": 19,
    "start_time": "2022-04-11T16:36:56.931Z"
   },
   {
    "duration": 3,
    "start_time": "2022-04-11T16:36:56.951Z"
   },
   {
    "duration": 16,
    "start_time": "2022-04-11T16:36:56.978Z"
   },
   {
    "duration": 10,
    "start_time": "2022-04-11T16:36:56.996Z"
   },
   {
    "duration": 10,
    "start_time": "2022-04-11T16:36:57.007Z"
   },
   {
    "duration": 7,
    "start_time": "2022-04-11T16:36:57.018Z"
   },
   {
    "duration": 5,
    "start_time": "2022-04-11T16:36:57.026Z"
   },
   {
    "duration": 99,
    "start_time": "2022-04-11T16:36:57.033Z"
   },
   {
    "duration": 7,
    "start_time": "2022-04-11T16:36:57.134Z"
   },
   {
    "duration": 17,
    "start_time": "2022-04-11T16:36:57.143Z"
   },
   {
    "duration": 67,
    "start_time": "2022-04-11T16:36:57.162Z"
   },
   {
    "duration": 10,
    "start_time": "2022-04-11T16:36:57.231Z"
   },
   {
    "duration": 9,
    "start_time": "2022-04-11T16:36:57.242Z"
   },
   {
    "duration": 38,
    "start_time": "2022-04-11T16:36:57.253Z"
   },
   {
    "duration": 11,
    "start_time": "2022-04-11T16:36:57.292Z"
   },
   {
    "duration": 16,
    "start_time": "2022-04-11T16:36:57.305Z"
   },
   {
    "duration": 56,
    "start_time": "2022-04-11T16:36:57.323Z"
   },
   {
    "duration": 13,
    "start_time": "2022-04-11T16:36:57.380Z"
   },
   {
    "duration": 18,
    "start_time": "2022-04-11T16:36:57.395Z"
   },
   {
    "duration": 6,
    "start_time": "2022-04-11T16:36:57.415Z"
   },
   {
    "duration": 6,
    "start_time": "2022-04-11T16:36:57.422Z"
   },
   {
    "duration": 16,
    "start_time": "2022-04-11T16:36:57.430Z"
   },
   {
    "duration": 73,
    "start_time": "2022-04-11T16:36:57.448Z"
   },
   {
    "duration": 29,
    "start_time": "2022-04-11T16:36:57.523Z"
   },
   {
    "duration": 51,
    "start_time": "2022-04-11T16:36:57.553Z"
   },
   {
    "duration": 31,
    "start_time": "2022-04-11T16:36:57.606Z"
   },
   {
    "duration": 9,
    "start_time": "2022-04-11T16:36:57.639Z"
   },
   {
    "duration": 73,
    "start_time": "2022-04-11T16:36:57.650Z"
   },
   {
    "duration": 37,
    "start_time": "2022-04-11T16:36:57.724Z"
   },
   {
    "duration": 62,
    "start_time": "2022-04-11T16:36:57.790Z"
   },
   {
    "duration": 56,
    "start_time": "2022-04-11T16:36:57.854Z"
   },
   {
    "duration": 16,
    "start_time": "2022-04-11T16:36:57.911Z"
   },
   {
    "duration": 3,
    "start_time": "2022-04-11T16:36:57.929Z"
   },
   {
    "duration": 58,
    "start_time": "2022-04-11T16:36:57.934Z"
   },
   {
    "duration": 16,
    "start_time": "2022-04-11T16:36:57.994Z"
   },
   {
    "duration": 44,
    "start_time": "2022-04-11T16:36:58.012Z"
   },
   {
    "duration": 40,
    "start_time": "2022-04-11T16:36:58.058Z"
   },
   {
    "duration": 39,
    "start_time": "2022-04-11T16:36:58.100Z"
   },
   {
    "duration": 40,
    "start_time": "2022-04-11T16:36:58.141Z"
   },
   {
    "duration": 20,
    "start_time": "2022-04-11T16:36:58.187Z"
   },
   {
    "duration": 16,
    "start_time": "2022-04-11T16:36:58.209Z"
   },
   {
    "duration": 3,
    "start_time": "2022-04-11T16:36:58.227Z"
   },
   {
    "duration": 5,
    "start_time": "2022-04-11T16:36:58.231Z"
   },
   {
    "duration": 71,
    "start_time": "2022-04-11T16:36:58.238Z"
   },
   {
    "duration": 401,
    "start_time": "2022-04-11T16:36:58.310Z"
   },
   {
    "duration": 4,
    "start_time": "2022-04-11T16:36:58.712Z"
   },
   {
    "duration": 36,
    "start_time": "2022-04-11T16:36:58.718Z"
   },
   {
    "duration": 377,
    "start_time": "2022-04-11T16:36:58.756Z"
   },
   {
    "duration": 4,
    "start_time": "2022-04-11T16:36:59.135Z"
   },
   {
    "duration": 49,
    "start_time": "2022-04-11T16:36:59.141Z"
   },
   {
    "duration": 414,
    "start_time": "2022-04-11T16:36:59.192Z"
   },
   {
    "duration": 4,
    "start_time": "2022-04-11T16:36:59.608Z"
   },
   {
    "duration": 421,
    "start_time": "2022-04-11T16:36:59.614Z"
   },
   {
    "duration": 4,
    "start_time": "2022-04-11T16:37:00.037Z"
   },
   {
    "duration": 397,
    "start_time": "2022-04-11T16:37:00.043Z"
   },
   {
    "duration": 5,
    "start_time": "2022-04-11T16:37:00.442Z"
   },
   {
    "duration": 130,
    "start_time": "2022-04-11T16:37:53.695Z"
   },
   {
    "duration": 34,
    "start_time": "2022-04-11T16:39:43.640Z"
   },
   {
    "duration": 40,
    "start_time": "2022-04-11T16:39:53.280Z"
   },
   {
    "duration": 35,
    "start_time": "2022-04-11T16:40:03.328Z"
   },
   {
    "duration": 37,
    "start_time": "2022-04-11T16:40:08.977Z"
   },
   {
    "duration": 122,
    "start_time": "2022-04-11T16:41:30.771Z"
   },
   {
    "duration": 120,
    "start_time": "2022-04-11T16:42:04.036Z"
   },
   {
    "duration": 41,
    "start_time": "2022-04-11T16:42:11.253Z"
   },
   {
    "duration": 121,
    "start_time": "2022-04-11T16:46:44.808Z"
   },
   {
    "duration": 43,
    "start_time": "2022-04-11T16:47:53.425Z"
   },
   {
    "duration": 17,
    "start_time": "2022-04-11T17:08:29.416Z"
   },
   {
    "duration": 4,
    "start_time": "2022-04-11T17:08:38.885Z"
   },
   {
    "duration": 4,
    "start_time": "2022-04-11T17:09:05.027Z"
   },
   {
    "duration": 166,
    "start_time": "2022-04-11T17:11:31.134Z"
   },
   {
    "duration": 5,
    "start_time": "2022-04-11T17:21:37.074Z"
   },
   {
    "duration": 118,
    "start_time": "2022-04-11T17:31:46.836Z"
   },
   {
    "duration": 120,
    "start_time": "2022-04-11T17:39:43.973Z"
   },
   {
    "duration": 174,
    "start_time": "2022-04-11T17:40:02.807Z"
   },
   {
    "duration": 12,
    "start_time": "2022-04-11T17:41:15.593Z"
   },
   {
    "duration": 16,
    "start_time": "2022-04-11T17:41:25.674Z"
   },
   {
    "duration": 15,
    "start_time": "2022-04-11T17:42:30.380Z"
   },
   {
    "duration": 82,
    "start_time": "2022-04-11T17:42:41.300Z"
   },
   {
    "duration": 5,
    "start_time": "2022-04-11T17:42:57.254Z"
   },
   {
    "duration": 1879,
    "start_time": "2022-04-11T17:43:36.583Z"
   },
   {
    "duration": 45,
    "start_time": "2022-04-11T17:43:50.064Z"
   },
   {
    "duration": 40,
    "start_time": "2022-04-11T17:44:34.520Z"
   },
   {
    "duration": 40,
    "start_time": "2022-04-11T17:45:14.539Z"
   },
   {
    "duration": 43,
    "start_time": "2022-04-11T17:45:15.461Z"
   },
   {
    "duration": 104,
    "start_time": "2022-04-11T17:45:40.579Z"
   },
   {
    "duration": 66,
    "start_time": "2022-04-11T17:45:45.380Z"
   },
   {
    "duration": 15,
    "start_time": "2022-04-11T17:47:32.920Z"
   },
   {
    "duration": 21,
    "start_time": "2022-04-11T17:47:55.993Z"
   },
   {
    "duration": 24,
    "start_time": "2022-04-11T17:48:17.514Z"
   },
   {
    "duration": 13,
    "start_time": "2022-04-11T17:48:21.449Z"
   },
   {
    "duration": 12,
    "start_time": "2022-04-11T17:48:46.706Z"
   },
   {
    "duration": 31,
    "start_time": "2022-04-11T17:49:03.659Z"
   },
   {
    "duration": 68,
    "start_time": "2022-04-11T17:49:05.163Z"
   },
   {
    "duration": 43,
    "start_time": "2022-04-11T17:49:21.068Z"
   },
   {
    "duration": 74,
    "start_time": "2022-04-11T17:49:21.875Z"
   },
   {
    "duration": 37,
    "start_time": "2022-04-11T17:49:41.300Z"
   },
   {
    "duration": 52,
    "start_time": "2022-04-11T17:49:42.084Z"
   },
   {
    "duration": 14,
    "start_time": "2022-04-11T17:49:47.236Z"
   },
   {
    "duration": 321,
    "start_time": "2022-04-11T17:51:07.904Z"
   },
   {
    "duration": 38,
    "start_time": "2022-04-11T17:51:10.712Z"
   },
   {
    "duration": 121,
    "start_time": "2022-04-11T17:51:11.625Z"
   },
   {
    "duration": 9,
    "start_time": "2022-04-11T17:51:17.864Z"
   },
   {
    "duration": 101,
    "start_time": "2022-04-11T17:51:22.433Z"
   },
   {
    "duration": 32,
    "start_time": "2022-04-11T17:51:41.617Z"
   },
   {
    "duration": 70,
    "start_time": "2022-04-11T17:51:42.609Z"
   },
   {
    "duration": 35,
    "start_time": "2022-04-11T17:51:55.074Z"
   },
   {
    "duration": 84,
    "start_time": "2022-04-11T17:51:55.898Z"
   },
   {
    "duration": 28,
    "start_time": "2022-04-11T17:52:01.154Z"
   },
   {
    "duration": 40,
    "start_time": "2022-04-11T17:57:02.125Z"
   },
   {
    "duration": 39,
    "start_time": "2022-04-11T17:57:20.341Z"
   },
   {
    "duration": 42,
    "start_time": "2022-04-11T17:58:03.694Z"
   },
   {
    "duration": 41,
    "start_time": "2022-04-11T17:58:14.719Z"
   },
   {
    "duration": 41,
    "start_time": "2022-04-11T17:58:18.623Z"
   },
   {
    "duration": 40,
    "start_time": "2022-04-11T17:58:38.569Z"
   },
   {
    "duration": 40,
    "start_time": "2022-04-11T17:58:42.441Z"
   },
   {
    "duration": 39,
    "start_time": "2022-04-11T17:59:09.610Z"
   },
   {
    "duration": 38,
    "start_time": "2022-04-11T17:59:14.266Z"
   },
   {
    "duration": 39,
    "start_time": "2022-04-11T17:59:17.586Z"
   },
   {
    "duration": 37,
    "start_time": "2022-04-11T17:59:21.146Z"
   },
   {
    "duration": 39,
    "start_time": "2022-04-11T17:59:29.306Z"
   },
   {
    "duration": 40,
    "start_time": "2022-04-11T17:59:46.035Z"
   },
   {
    "duration": 39,
    "start_time": "2022-04-11T17:59:59.284Z"
   },
   {
    "duration": 1574,
    "start_time": "2022-04-11T18:01:18.519Z"
   },
   {
    "duration": 548,
    "start_time": "2022-04-11T18:01:20.098Z"
   },
   {
    "duration": 2,
    "start_time": "2022-04-11T18:01:20.649Z"
   },
   {
    "duration": 44,
    "start_time": "2022-04-11T18:01:20.654Z"
   },
   {
    "duration": 90,
    "start_time": "2022-04-11T18:01:20.701Z"
   },
   {
    "duration": 2,
    "start_time": "2022-04-11T18:01:20.794Z"
   },
   {
    "duration": 38,
    "start_time": "2022-04-11T18:01:20.798Z"
   },
   {
    "duration": 34,
    "start_time": "2022-04-11T18:01:20.848Z"
   },
   {
    "duration": 5,
    "start_time": "2022-04-11T18:01:20.883Z"
   },
   {
    "duration": 3,
    "start_time": "2022-04-11T18:01:20.891Z"
   },
   {
    "duration": 26,
    "start_time": "2022-04-11T18:01:20.896Z"
   },
   {
    "duration": 52,
    "start_time": "2022-04-11T18:01:20.924Z"
   },
   {
    "duration": 3,
    "start_time": "2022-04-11T18:01:20.978Z"
   },
   {
    "duration": 14,
    "start_time": "2022-04-11T18:01:20.983Z"
   },
   {
    "duration": 6,
    "start_time": "2022-04-11T18:01:20.999Z"
   },
   {
    "duration": 40,
    "start_time": "2022-04-11T18:01:21.007Z"
   },
   {
    "duration": 8,
    "start_time": "2022-04-11T18:01:21.049Z"
   },
   {
    "duration": 3,
    "start_time": "2022-04-11T18:01:21.060Z"
   },
   {
    "duration": 109,
    "start_time": "2022-04-11T18:01:21.065Z"
   },
   {
    "duration": 8,
    "start_time": "2022-04-11T18:01:21.176Z"
   },
   {
    "duration": 31,
    "start_time": "2022-04-11T18:01:21.186Z"
   },
   {
    "duration": 83,
    "start_time": "2022-04-11T18:01:21.220Z"
   },
   {
    "duration": 12,
    "start_time": "2022-04-11T18:01:21.305Z"
   },
   {
    "duration": 11,
    "start_time": "2022-04-11T18:01:21.319Z"
   },
   {
    "duration": 16,
    "start_time": "2022-04-11T18:01:21.348Z"
   },
   {
    "duration": 15,
    "start_time": "2022-04-11T18:01:21.367Z"
   },
   {
    "duration": 26,
    "start_time": "2022-04-11T18:01:21.384Z"
   },
   {
    "duration": 77,
    "start_time": "2022-04-11T18:01:21.416Z"
   },
   {
    "duration": 11,
    "start_time": "2022-04-11T18:01:21.496Z"
   },
   {
    "duration": 20,
    "start_time": "2022-04-11T18:01:21.509Z"
   },
   {
    "duration": 6,
    "start_time": "2022-04-11T18:01:21.548Z"
   },
   {
    "duration": 8,
    "start_time": "2022-04-11T18:01:21.555Z"
   },
   {
    "duration": 16,
    "start_time": "2022-04-11T18:01:21.565Z"
   },
   {
    "duration": 68,
    "start_time": "2022-04-11T18:01:21.583Z"
   },
   {
    "duration": 26,
    "start_time": "2022-04-11T18:01:21.653Z"
   },
   {
    "duration": 32,
    "start_time": "2022-04-11T18:01:21.680Z"
   },
   {
    "duration": 57,
    "start_time": "2022-04-11T18:01:21.713Z"
   },
   {
    "duration": 9,
    "start_time": "2022-04-11T18:01:21.772Z"
   },
   {
    "duration": 47,
    "start_time": "2022-04-11T18:01:21.782Z"
   },
   {
    "duration": 59,
    "start_time": "2022-04-11T18:01:21.847Z"
   },
   {
    "duration": 122,
    "start_time": "2022-04-11T18:01:21.908Z"
   },
   {
    "duration": 67,
    "start_time": "2022-04-11T18:01:22.032Z"
   },
   {
    "duration": 23,
    "start_time": "2022-04-11T18:01:22.101Z"
   },
   {
    "duration": 4,
    "start_time": "2022-04-11T18:01:22.127Z"
   },
   {
    "duration": 42,
    "start_time": "2022-04-11T18:01:22.148Z"
   },
   {
    "duration": 19,
    "start_time": "2022-04-11T18:01:22.191Z"
   },
   {
    "duration": 67,
    "start_time": "2022-04-11T18:01:22.211Z"
   },
   {
    "duration": 17,
    "start_time": "2022-04-11T18:01:22.281Z"
   },
   {
    "duration": 81,
    "start_time": "2022-04-11T18:01:22.300Z"
   },
   {
    "duration": 31,
    "start_time": "2022-04-11T18:01:22.383Z"
   },
   {
    "duration": 45,
    "start_time": "2022-04-11T18:01:22.416Z"
   },
   {
    "duration": 26,
    "start_time": "2022-04-11T18:01:22.463Z"
   },
   {
    "duration": 5,
    "start_time": "2022-04-11T18:01:22.491Z"
   },
   {
    "duration": 7,
    "start_time": "2022-04-11T18:01:22.497Z"
   },
   {
    "duration": 5,
    "start_time": "2022-04-11T18:01:22.506Z"
   },
   {
    "duration": 58,
    "start_time": "2022-04-11T18:01:22.513Z"
   },
   {
    "duration": 482,
    "start_time": "2022-04-11T18:01:22.573Z"
   },
   {
    "duration": 30,
    "start_time": "2022-04-11T18:01:23.058Z"
   },
   {
    "duration": 100,
    "start_time": "2022-04-11T18:01:23.091Z"
   },
   {
    "duration": 39,
    "start_time": "2022-04-11T18:01:23.193Z"
   },
   {
    "duration": 15,
    "start_time": "2022-04-11T18:01:23.234Z"
   },
   {
    "duration": 34,
    "start_time": "2022-04-11T18:01:23.251Z"
   },
   {
    "duration": 382,
    "start_time": "2022-04-11T18:01:23.287Z"
   },
   {
    "duration": 5,
    "start_time": "2022-04-11T18:01:23.670Z"
   },
   {
    "duration": 45,
    "start_time": "2022-04-11T18:01:23.677Z"
   },
   {
    "duration": 527,
    "start_time": "2022-04-11T18:01:23.724Z"
   },
   {
    "duration": 5,
    "start_time": "2022-04-11T18:01:24.253Z"
   },
   {
    "duration": 539,
    "start_time": "2022-04-11T18:01:24.260Z"
   },
   {
    "duration": 7,
    "start_time": "2022-04-11T18:01:24.802Z"
   },
   {
    "duration": 539,
    "start_time": "2022-04-11T18:01:24.811Z"
   },
   {
    "duration": 5,
    "start_time": "2022-04-11T18:01:25.352Z"
   },
   {
    "duration": 1168,
    "start_time": "2022-04-11T18:06:57.809Z"
   },
   {
    "duration": 404,
    "start_time": "2022-04-11T18:06:58.979Z"
   },
   {
    "duration": 3,
    "start_time": "2022-04-11T18:06:59.385Z"
   },
   {
    "duration": 49,
    "start_time": "2022-04-11T18:06:59.390Z"
   },
   {
    "duration": 77,
    "start_time": "2022-04-11T18:06:59.442Z"
   },
   {
    "duration": 3,
    "start_time": "2022-04-11T18:06:59.521Z"
   },
   {
    "duration": 48,
    "start_time": "2022-04-11T18:06:59.526Z"
   },
   {
    "duration": 36,
    "start_time": "2022-04-11T18:06:59.575Z"
   },
   {
    "duration": 4,
    "start_time": "2022-04-11T18:06:59.613Z"
   },
   {
    "duration": 29,
    "start_time": "2022-04-11T18:06:59.618Z"
   },
   {
    "duration": 21,
    "start_time": "2022-04-11T18:06:59.649Z"
   },
   {
    "duration": 21,
    "start_time": "2022-04-11T18:06:59.671Z"
   },
   {
    "duration": 2,
    "start_time": "2022-04-11T18:06:59.694Z"
   },
   {
    "duration": 13,
    "start_time": "2022-04-11T18:06:59.700Z"
   },
   {
    "duration": 9,
    "start_time": "2022-04-11T18:06:59.746Z"
   },
   {
    "duration": 11,
    "start_time": "2022-04-11T18:06:59.757Z"
   },
   {
    "duration": 11,
    "start_time": "2022-04-11T18:06:59.769Z"
   },
   {
    "duration": 4,
    "start_time": "2022-04-11T18:06:59.782Z"
   },
   {
    "duration": 91,
    "start_time": "2022-04-11T18:06:59.787Z"
   },
   {
    "duration": 8,
    "start_time": "2022-04-11T18:06:59.880Z"
   },
   {
    "duration": 34,
    "start_time": "2022-04-11T18:06:59.890Z"
   },
   {
    "duration": 87,
    "start_time": "2022-04-11T18:06:59.927Z"
   },
   {
    "duration": 12,
    "start_time": "2022-04-11T18:07:00.017Z"
   },
   {
    "duration": 11,
    "start_time": "2022-04-11T18:07:00.047Z"
   },
   {
    "duration": 17,
    "start_time": "2022-04-11T18:07:00.060Z"
   },
   {
    "duration": 15,
    "start_time": "2022-04-11T18:07:00.079Z"
   },
   {
    "duration": 28,
    "start_time": "2022-04-11T18:07:00.097Z"
   },
   {
    "duration": 49,
    "start_time": "2022-04-11T18:07:00.149Z"
   },
   {
    "duration": 9,
    "start_time": "2022-04-11T18:07:00.200Z"
   },
   {
    "duration": 37,
    "start_time": "2022-04-11T18:07:00.211Z"
   },
   {
    "duration": 6,
    "start_time": "2022-04-11T18:07:00.250Z"
   },
   {
    "duration": 8,
    "start_time": "2022-04-11T18:07:00.258Z"
   },
   {
    "duration": 22,
    "start_time": "2022-04-11T18:07:00.268Z"
   },
   {
    "duration": 65,
    "start_time": "2022-04-11T18:07:00.291Z"
   },
   {
    "duration": 28,
    "start_time": "2022-04-11T18:07:00.358Z"
   },
   {
    "duration": 33,
    "start_time": "2022-04-11T18:07:00.388Z"
   },
   {
    "duration": 54,
    "start_time": "2022-04-11T18:07:00.423Z"
   },
   {
    "duration": 9,
    "start_time": "2022-04-11T18:07:00.478Z"
   },
   {
    "duration": 65,
    "start_time": "2022-04-11T18:07:00.488Z"
   },
   {
    "duration": 38,
    "start_time": "2022-04-11T18:07:00.554Z"
   },
   {
    "duration": 82,
    "start_time": "2022-04-11T18:07:00.596Z"
   },
   {
    "duration": 37,
    "start_time": "2022-04-11T18:07:00.679Z"
   },
   {
    "duration": 37,
    "start_time": "2022-04-11T18:07:00.718Z"
   },
   {
    "duration": 4,
    "start_time": "2022-04-11T18:07:00.756Z"
   },
   {
    "duration": 44,
    "start_time": "2022-04-11T18:07:00.764Z"
   },
   {
    "duration": 38,
    "start_time": "2022-04-11T18:07:00.810Z"
   },
   {
    "duration": 48,
    "start_time": "2022-04-11T18:07:00.850Z"
   },
   {
    "duration": 18,
    "start_time": "2022-04-11T18:07:00.901Z"
   },
   {
    "duration": 62,
    "start_time": "2022-04-11T18:07:00.921Z"
   },
   {
    "duration": 23,
    "start_time": "2022-04-11T18:07:00.985Z"
   },
   {
    "duration": 45,
    "start_time": "2022-04-11T18:07:01.009Z"
   },
   {
    "duration": 18,
    "start_time": "2022-04-11T18:07:01.055Z"
   },
   {
    "duration": 24,
    "start_time": "2022-04-11T18:07:01.075Z"
   },
   {
    "duration": 11,
    "start_time": "2022-04-11T18:07:01.101Z"
   },
   {
    "duration": 6,
    "start_time": "2022-04-11T18:07:01.114Z"
   },
   {
    "duration": 58,
    "start_time": "2022-04-11T18:07:01.123Z"
   },
   {
    "duration": 430,
    "start_time": "2022-04-11T18:07:01.184Z"
   },
   {
    "duration": 44,
    "start_time": "2022-04-11T18:07:01.615Z"
   },
   {
    "duration": 92,
    "start_time": "2022-04-11T18:07:01.661Z"
   },
   {
    "duration": 40,
    "start_time": "2022-04-11T18:07:01.755Z"
   },
   {
    "duration": 5,
    "start_time": "2022-04-11T18:07:01.797Z"
   },
   {
    "duration": 57,
    "start_time": "2022-04-11T18:07:01.804Z"
   },
   {
    "duration": 405,
    "start_time": "2022-04-11T18:07:01.863Z"
   },
   {
    "duration": 5,
    "start_time": "2022-04-11T18:07:02.270Z"
   },
   {
    "duration": 49,
    "start_time": "2022-04-11T18:07:02.278Z"
   },
   {
    "duration": 544,
    "start_time": "2022-04-11T18:07:02.329Z"
   },
   {
    "duration": 4,
    "start_time": "2022-04-11T18:07:02.875Z"
   },
   {
    "duration": 562,
    "start_time": "2022-04-11T18:07:02.881Z"
   },
   {
    "duration": 6,
    "start_time": "2022-04-11T18:07:03.448Z"
   },
   {
    "duration": 554,
    "start_time": "2022-04-11T18:07:03.456Z"
   },
   {
    "duration": 6,
    "start_time": "2022-04-11T18:07:04.013Z"
   },
   {
    "duration": 5,
    "start_time": "2022-04-11T18:07:50.539Z"
   },
   {
    "duration": 52,
    "start_time": "2022-04-11T18:07:52.731Z"
   },
   {
    "duration": 50,
    "start_time": "2022-04-11T18:08:22.052Z"
   },
   {
    "duration": 5,
    "start_time": "2022-04-11T18:08:32.532Z"
   },
   {
    "duration": 50,
    "start_time": "2022-04-14T02:30:13.211Z"
   },
   {
    "duration": 1374,
    "start_time": "2022-04-14T02:30:17.035Z"
   },
   {
    "duration": 169,
    "start_time": "2022-04-14T02:31:34.517Z"
   },
   {
    "duration": 173,
    "start_time": "2022-04-14T02:32:19.100Z"
   },
   {
    "duration": 2,
    "start_time": "2022-04-14T02:32:28.996Z"
   },
   {
    "duration": 167,
    "start_time": "2022-04-14T02:32:33.981Z"
   },
   {
    "duration": 199,
    "start_time": "2022-04-14T02:34:10.676Z"
   },
   {
    "duration": 143,
    "start_time": "2022-04-14T02:34:33.717Z"
   },
   {
    "duration": 28,
    "start_time": "2022-04-14T02:37:45.253Z"
   },
   {
    "duration": 46,
    "start_time": "2022-04-14T02:37:45.780Z"
   },
   {
    "duration": 152,
    "start_time": "2022-04-14T02:37:51.090Z"
   },
   {
    "duration": 24,
    "start_time": "2022-04-14T02:37:56.427Z"
   },
   {
    "duration": 36,
    "start_time": "2022-04-14T02:37:56.975Z"
   },
   {
    "duration": 162,
    "start_time": "2022-04-14T02:39:01.677Z"
   },
   {
    "duration": 23,
    "start_time": "2022-04-14T02:39:05.123Z"
   },
   {
    "duration": 39,
    "start_time": "2022-04-14T02:39:08.115Z"
   },
   {
    "duration": 2671,
    "start_time": "2022-04-14T02:39:12.988Z"
   },
   {
    "duration": 2,
    "start_time": "2022-04-14T02:39:24.708Z"
   },
   {
    "duration": 102,
    "start_time": "2022-04-14T02:40:47.533Z"
   },
   {
    "duration": 21,
    "start_time": "2022-04-14T02:40:50.359Z"
   },
   {
    "duration": 97,
    "start_time": "2022-04-14T02:41:44.048Z"
   },
   {
    "duration": 21,
    "start_time": "2022-04-14T02:41:45.212Z"
   },
   {
    "duration": 22,
    "start_time": "2022-04-14T02:41:46.037Z"
   },
   {
    "duration": 36,
    "start_time": "2022-04-14T02:42:28.079Z"
   },
   {
    "duration": 11,
    "start_time": "2022-04-14T02:42:32.270Z"
   },
   {
    "duration": 5,
    "start_time": "2022-04-14T02:42:33.670Z"
   },
   {
    "duration": 8,
    "start_time": "2022-04-14T02:42:34.310Z"
   },
   {
    "duration": 6,
    "start_time": "2022-04-14T02:42:38.948Z"
   },
   {
    "duration": 21,
    "start_time": "2022-04-14T02:43:07.299Z"
   },
   {
    "duration": 33,
    "start_time": "2022-04-14T02:43:38.862Z"
   },
   {
    "duration": 31,
    "start_time": "2022-04-14T02:44:20.919Z"
   },
   {
    "duration": 12,
    "start_time": "2022-04-14T02:48:46.696Z"
   },
   {
    "duration": 39,
    "start_time": "2022-04-14T02:49:26.086Z"
   },
   {
    "duration": 28,
    "start_time": "2022-04-14T02:49:42.934Z"
   },
   {
    "duration": 36,
    "start_time": "2022-04-14T02:49:48.166Z"
   },
   {
    "duration": 2883,
    "start_time": "2022-04-14T02:50:01.478Z"
   },
   {
    "duration": 44,
    "start_time": "2022-04-14T02:50:08.803Z"
   },
   {
    "duration": 46,
    "start_time": "2022-04-14T02:50:28.182Z"
   },
   {
    "duration": 51,
    "start_time": "2022-04-14T02:50:58.681Z"
   },
   {
    "duration": 49,
    "start_time": "2022-04-14T02:51:23.103Z"
   },
   {
    "duration": 44,
    "start_time": "2022-04-14T02:51:33.952Z"
   },
   {
    "duration": 12,
    "start_time": "2022-04-14T02:51:46.783Z"
   },
   {
    "duration": 40,
    "start_time": "2022-04-14T02:51:53.665Z"
   },
   {
    "duration": 33,
    "start_time": "2022-04-14T02:52:13.229Z"
   },
   {
    "duration": 171,
    "start_time": "2022-04-14T02:52:36.014Z"
   },
   {
    "duration": 69,
    "start_time": "2022-04-14T02:52:41.894Z"
   },
   {
    "duration": 41,
    "start_time": "2022-04-14T02:53:01.894Z"
   },
   {
    "duration": 36,
    "start_time": "2022-04-14T02:53:07.790Z"
   },
   {
    "duration": 38,
    "start_time": "2022-04-14T02:53:49.702Z"
   },
   {
    "duration": 66,
    "start_time": "2022-04-14T02:54:08.366Z"
   },
   {
    "duration": 49,
    "start_time": "2022-04-14T02:54:24.975Z"
   },
   {
    "duration": 34,
    "start_time": "2022-04-14T02:55:03.182Z"
   },
   {
    "duration": 35,
    "start_time": "2022-04-14T02:55:34.429Z"
   },
   {
    "duration": 34,
    "start_time": "2022-04-14T02:56:21.543Z"
   },
   {
    "duration": 53,
    "start_time": "2022-04-14T02:57:22.736Z"
   },
   {
    "duration": 1163,
    "start_time": "2022-04-14T02:57:40.147Z"
   },
   {
    "duration": 2,
    "start_time": "2022-04-14T02:57:41.312Z"
   },
   {
    "duration": 178,
    "start_time": "2022-04-14T02:57:41.316Z"
   },
   {
    "duration": 28,
    "start_time": "2022-04-14T02:57:43.822Z"
   },
   {
    "duration": 48,
    "start_time": "2022-04-14T02:57:44.190Z"
   },
   {
    "duration": 157,
    "start_time": "2022-04-14T02:57:45.111Z"
   },
   {
    "duration": 23,
    "start_time": "2022-04-14T02:57:45.751Z"
   },
   {
    "duration": 37,
    "start_time": "2022-04-14T02:57:48.679Z"
   },
   {
    "duration": 2,
    "start_time": "2022-04-14T02:57:49.203Z"
   },
   {
    "duration": 100,
    "start_time": "2022-04-14T02:57:53.112Z"
   },
   {
    "duration": 20,
    "start_time": "2022-04-14T02:57:55.366Z"
   },
   {
    "duration": 21,
    "start_time": "2022-04-14T02:57:55.510Z"
   },
   {
    "duration": 34,
    "start_time": "2022-04-14T02:57:56.175Z"
   },
   {
    "duration": 11,
    "start_time": "2022-04-14T02:57:58.705Z"
   },
   {
    "duration": 5,
    "start_time": "2022-04-14T02:57:59.029Z"
   },
   {
    "duration": 9,
    "start_time": "2022-04-14T02:57:59.246Z"
   },
   {
    "duration": 7,
    "start_time": "2022-04-14T02:57:59.454Z"
   },
   {
    "duration": 22,
    "start_time": "2022-04-14T02:58:02.767Z"
   },
   {
    "duration": 68,
    "start_time": "2022-04-14T02:58:04.342Z"
   },
   {
    "duration": 52,
    "start_time": "2022-04-14T02:58:06.583Z"
   },
   {
    "duration": 40,
    "start_time": "2022-04-14T02:58:06.863Z"
   },
   {
    "duration": 52,
    "start_time": "2022-04-14T02:58:21.901Z"
   },
   {
    "duration": 7,
    "start_time": "2022-04-14T02:58:28.969Z"
   },
   {
    "duration": 1167,
    "start_time": "2022-04-14T02:58:38.161Z"
   },
   {
    "duration": 3,
    "start_time": "2022-04-14T02:58:40.420Z"
   },
   {
    "duration": 178,
    "start_time": "2022-04-14T02:58:41.251Z"
   },
   {
    "duration": 29,
    "start_time": "2022-04-14T02:58:42.329Z"
   },
   {
    "duration": 46,
    "start_time": "2022-04-14T02:58:42.829Z"
   },
   {
    "duration": 167,
    "start_time": "2022-04-14T02:58:42.941Z"
   },
   {
    "duration": 32,
    "start_time": "2022-04-14T02:58:43.110Z"
   },
   {
    "duration": 36,
    "start_time": "2022-04-14T02:58:43.143Z"
   },
   {
    "duration": 3,
    "start_time": "2022-04-14T02:58:43.181Z"
   },
   {
    "duration": 103,
    "start_time": "2022-04-14T02:58:43.300Z"
   },
   {
    "duration": 21,
    "start_time": "2022-04-14T02:58:43.405Z"
   },
   {
    "duration": 23,
    "start_time": "2022-04-14T02:58:43.439Z"
   },
   {
    "duration": 34,
    "start_time": "2022-04-14T02:58:43.554Z"
   },
   {
    "duration": 11,
    "start_time": "2022-04-14T02:58:43.641Z"
   },
   {
    "duration": 5,
    "start_time": "2022-04-14T02:58:43.684Z"
   },
   {
    "duration": 9,
    "start_time": "2022-04-14T02:58:43.734Z"
   },
   {
    "duration": 6,
    "start_time": "2022-04-14T02:58:43.787Z"
   },
   {
    "duration": 21,
    "start_time": "2022-04-14T02:58:44.901Z"
   },
   {
    "duration": 69,
    "start_time": "2022-04-14T02:58:45.944Z"
   },
   {
    "duration": 55,
    "start_time": "2022-04-14T02:58:46.208Z"
   },
   {
    "duration": 37,
    "start_time": "2022-04-14T02:58:46.409Z"
   },
   {
    "duration": 51,
    "start_time": "2022-04-14T02:59:28.494Z"
   },
   {
    "duration": 1237,
    "start_time": "2022-04-14T02:59:33.767Z"
   },
   {
    "duration": 3,
    "start_time": "2022-04-14T02:59:35.006Z"
   },
   {
    "duration": 182,
    "start_time": "2022-04-14T02:59:35.011Z"
   },
   {
    "duration": 28,
    "start_time": "2022-04-14T02:59:35.195Z"
   },
   {
    "duration": 45,
    "start_time": "2022-04-14T02:59:35.234Z"
   },
   {
    "duration": 162,
    "start_time": "2022-04-14T02:59:35.281Z"
   },
   {
    "duration": 23,
    "start_time": "2022-04-14T02:59:35.444Z"
   },
   {
    "duration": 36,
    "start_time": "2022-04-14T02:59:35.469Z"
   },
   {
    "duration": 2,
    "start_time": "2022-04-14T02:59:35.507Z"
   },
   {
    "duration": 101,
    "start_time": "2022-04-14T02:59:35.534Z"
   },
   {
    "duration": 21,
    "start_time": "2022-04-14T02:59:35.637Z"
   },
   {
    "duration": 21,
    "start_time": "2022-04-14T02:59:35.660Z"
   },
   {
    "duration": 34,
    "start_time": "2022-04-14T02:59:35.683Z"
   },
   {
    "duration": 23,
    "start_time": "2022-04-14T02:59:35.720Z"
   },
   {
    "duration": 8,
    "start_time": "2022-04-14T02:59:35.744Z"
   },
   {
    "duration": 15,
    "start_time": "2022-04-14T02:59:35.754Z"
   },
   {
    "duration": 6,
    "start_time": "2022-04-14T02:59:35.771Z"
   },
   {
    "duration": 25,
    "start_time": "2022-04-14T02:59:35.778Z"
   },
   {
    "duration": 84,
    "start_time": "2022-04-14T02:59:35.805Z"
   },
   {
    "duration": 62,
    "start_time": "2022-04-14T02:59:35.891Z"
   },
   {
    "duration": 37,
    "start_time": "2022-04-14T02:59:35.955Z"
   },
   {
    "duration": 15,
    "start_time": "2022-04-14T02:59:35.994Z"
   },
   {
    "duration": 58,
    "start_time": "2022-04-14T02:59:36.034Z"
   },
   {
    "duration": 9,
    "start_time": "2022-04-14T02:59:36.094Z"
   },
   {
    "duration": 47,
    "start_time": "2022-04-14T02:59:36.105Z"
   },
   {
    "duration": 44,
    "start_time": "2022-04-14T02:59:36.154Z"
   },
   {
    "duration": 2809,
    "start_time": "2022-04-14T02:59:36.200Z"
   },
   {
    "duration": 0,
    "start_time": "2022-04-14T02:59:39.013Z"
   },
   {
    "duration": 0,
    "start_time": "2022-04-14T02:59:39.014Z"
   },
   {
    "duration": 0,
    "start_time": "2022-04-14T02:59:39.015Z"
   },
   {
    "duration": 0,
    "start_time": "2022-04-14T02:59:39.017Z"
   },
   {
    "duration": 0,
    "start_time": "2022-04-14T02:59:39.018Z"
   },
   {
    "duration": 0,
    "start_time": "2022-04-14T02:59:39.020Z"
   },
   {
    "duration": 0,
    "start_time": "2022-04-14T02:59:39.021Z"
   },
   {
    "duration": 0,
    "start_time": "2022-04-14T02:59:39.023Z"
   },
   {
    "duration": 0,
    "start_time": "2022-04-14T02:59:39.025Z"
   },
   {
    "duration": 0,
    "start_time": "2022-04-14T02:59:39.026Z"
   },
   {
    "duration": 0,
    "start_time": "2022-04-14T02:59:39.028Z"
   },
   {
    "duration": 0,
    "start_time": "2022-04-14T02:59:39.029Z"
   },
   {
    "duration": 0,
    "start_time": "2022-04-14T02:59:39.030Z"
   },
   {
    "duration": 0,
    "start_time": "2022-04-14T02:59:39.032Z"
   },
   {
    "duration": 0,
    "start_time": "2022-04-14T02:59:39.033Z"
   },
   {
    "duration": 0,
    "start_time": "2022-04-14T02:59:39.035Z"
   },
   {
    "duration": 0,
    "start_time": "2022-04-14T02:59:39.036Z"
   },
   {
    "duration": 0,
    "start_time": "2022-04-14T02:59:39.037Z"
   },
   {
    "duration": 0,
    "start_time": "2022-04-14T02:59:39.039Z"
   },
   {
    "duration": 0,
    "start_time": "2022-04-14T02:59:39.041Z"
   },
   {
    "duration": 0,
    "start_time": "2022-04-14T02:59:39.042Z"
   },
   {
    "duration": 0,
    "start_time": "2022-04-14T02:59:39.044Z"
   },
   {
    "duration": 0,
    "start_time": "2022-04-14T02:59:39.045Z"
   },
   {
    "duration": 0,
    "start_time": "2022-04-14T02:59:39.047Z"
   },
   {
    "duration": 0,
    "start_time": "2022-04-14T02:59:39.048Z"
   },
   {
    "duration": 0,
    "start_time": "2022-04-14T02:59:39.051Z"
   },
   {
    "duration": 0,
    "start_time": "2022-04-14T02:59:39.052Z"
   },
   {
    "duration": 0,
    "start_time": "2022-04-14T02:59:39.053Z"
   },
   {
    "duration": 0,
    "start_time": "2022-04-14T02:59:39.055Z"
   },
   {
    "duration": 0,
    "start_time": "2022-04-14T02:59:39.056Z"
   },
   {
    "duration": 0,
    "start_time": "2022-04-14T02:59:39.057Z"
   },
   {
    "duration": 0,
    "start_time": "2022-04-14T02:59:39.058Z"
   },
   {
    "duration": 0,
    "start_time": "2022-04-14T02:59:39.059Z"
   },
   {
    "duration": 0,
    "start_time": "2022-04-14T02:59:39.060Z"
   },
   {
    "duration": 0,
    "start_time": "2022-04-14T02:59:39.061Z"
   },
   {
    "duration": 1,
    "start_time": "2022-04-14T02:59:39.061Z"
   },
   {
    "duration": 0,
    "start_time": "2022-04-14T02:59:39.062Z"
   },
   {
    "duration": 0,
    "start_time": "2022-04-14T02:59:39.063Z"
   },
   {
    "duration": 0,
    "start_time": "2022-04-14T02:59:39.064Z"
   },
   {
    "duration": 0,
    "start_time": "2022-04-14T02:59:39.065Z"
   },
   {
    "duration": 0,
    "start_time": "2022-04-14T02:59:39.066Z"
   },
   {
    "duration": 0,
    "start_time": "2022-04-14T02:59:39.067Z"
   },
   {
    "duration": 0,
    "start_time": "2022-04-14T02:59:39.068Z"
   },
   {
    "duration": 0,
    "start_time": "2022-04-14T02:59:39.069Z"
   },
   {
    "duration": 0,
    "start_time": "2022-04-14T02:59:39.070Z"
   },
   {
    "duration": 0,
    "start_time": "2022-04-14T02:59:39.071Z"
   },
   {
    "duration": 0,
    "start_time": "2022-04-14T02:59:39.072Z"
   },
   {
    "duration": 0,
    "start_time": "2022-04-14T02:59:39.073Z"
   },
   {
    "duration": 0,
    "start_time": "2022-04-14T02:59:39.074Z"
   },
   {
    "duration": 50,
    "start_time": "2022-04-14T03:00:53.938Z"
   },
   {
    "duration": 1294,
    "start_time": "2022-04-14T03:01:07.713Z"
   },
   {
    "duration": 3,
    "start_time": "2022-04-14T03:01:09.009Z"
   },
   {
    "duration": 177,
    "start_time": "2022-04-14T03:01:09.017Z"
   },
   {
    "duration": 38,
    "start_time": "2022-04-14T03:01:09.196Z"
   },
   {
    "duration": 48,
    "start_time": "2022-04-14T03:01:09.236Z"
   },
   {
    "duration": 174,
    "start_time": "2022-04-14T03:01:09.286Z"
   },
   {
    "duration": 22,
    "start_time": "2022-04-14T03:01:09.462Z"
   },
   {
    "duration": 50,
    "start_time": "2022-04-14T03:01:09.486Z"
   },
   {
    "duration": 3,
    "start_time": "2022-04-14T03:01:09.538Z"
   },
   {
    "duration": 104,
    "start_time": "2022-04-14T03:01:09.542Z"
   },
   {
    "duration": 20,
    "start_time": "2022-04-14T03:01:09.648Z"
   },
   {
    "duration": 26,
    "start_time": "2022-04-14T03:01:09.670Z"
   },
   {
    "duration": 33,
    "start_time": "2022-04-14T03:01:09.698Z"
   },
   {
    "duration": 12,
    "start_time": "2022-04-14T03:01:09.734Z"
   },
   {
    "duration": 8,
    "start_time": "2022-04-14T03:01:09.747Z"
   },
   {
    "duration": 16,
    "start_time": "2022-04-14T03:01:09.757Z"
   },
   {
    "duration": 17,
    "start_time": "2022-04-14T03:01:09.774Z"
   },
   {
    "duration": 24,
    "start_time": "2022-04-14T03:01:09.792Z"
   },
   {
    "duration": 42,
    "start_time": "2022-04-14T03:01:09.819Z"
   },
   {
    "duration": 83,
    "start_time": "2022-04-14T03:01:09.863Z"
   },
   {
    "duration": 37,
    "start_time": "2022-04-14T03:01:09.948Z"
   },
   {
    "duration": 82,
    "start_time": "2022-04-14T03:01:09.987Z"
   },
   {
    "duration": 9,
    "start_time": "2022-04-14T03:01:10.071Z"
   },
   {
    "duration": 21,
    "start_time": "2022-04-14T03:01:10.082Z"
   },
   {
    "duration": 68,
    "start_time": "2022-04-14T03:01:10.105Z"
   },
   {
    "duration": 2757,
    "start_time": "2022-04-14T03:01:10.175Z"
   },
   {
    "duration": 0,
    "start_time": "2022-04-14T03:01:12.935Z"
   },
   {
    "duration": 0,
    "start_time": "2022-04-14T03:01:12.936Z"
   },
   {
    "duration": 0,
    "start_time": "2022-04-14T03:01:12.938Z"
   },
   {
    "duration": 0,
    "start_time": "2022-04-14T03:01:12.939Z"
   },
   {
    "duration": 0,
    "start_time": "2022-04-14T03:01:12.940Z"
   },
   {
    "duration": 0,
    "start_time": "2022-04-14T03:01:12.941Z"
   },
   {
    "duration": 0,
    "start_time": "2022-04-14T03:01:12.942Z"
   },
   {
    "duration": 0,
    "start_time": "2022-04-14T03:01:12.943Z"
   },
   {
    "duration": 0,
    "start_time": "2022-04-14T03:01:12.945Z"
   },
   {
    "duration": 0,
    "start_time": "2022-04-14T03:01:12.946Z"
   },
   {
    "duration": 0,
    "start_time": "2022-04-14T03:01:12.947Z"
   },
   {
    "duration": 0,
    "start_time": "2022-04-14T03:01:12.949Z"
   },
   {
    "duration": 0,
    "start_time": "2022-04-14T03:01:12.950Z"
   },
   {
    "duration": 0,
    "start_time": "2022-04-14T03:01:12.951Z"
   },
   {
    "duration": 0,
    "start_time": "2022-04-14T03:01:12.952Z"
   },
   {
    "duration": 0,
    "start_time": "2022-04-14T03:01:12.953Z"
   },
   {
    "duration": 0,
    "start_time": "2022-04-14T03:01:12.954Z"
   },
   {
    "duration": 0,
    "start_time": "2022-04-14T03:01:12.955Z"
   },
   {
    "duration": 0,
    "start_time": "2022-04-14T03:01:12.957Z"
   },
   {
    "duration": 0,
    "start_time": "2022-04-14T03:01:12.958Z"
   },
   {
    "duration": 0,
    "start_time": "2022-04-14T03:01:12.959Z"
   },
   {
    "duration": 0,
    "start_time": "2022-04-14T03:01:12.960Z"
   },
   {
    "duration": 0,
    "start_time": "2022-04-14T03:01:12.961Z"
   },
   {
    "duration": 0,
    "start_time": "2022-04-14T03:01:12.963Z"
   },
   {
    "duration": 0,
    "start_time": "2022-04-14T03:01:12.964Z"
   },
   {
    "duration": 0,
    "start_time": "2022-04-14T03:01:12.965Z"
   },
   {
    "duration": 0,
    "start_time": "2022-04-14T03:01:12.966Z"
   },
   {
    "duration": 0,
    "start_time": "2022-04-14T03:01:12.967Z"
   },
   {
    "duration": 0,
    "start_time": "2022-04-14T03:01:12.968Z"
   },
   {
    "duration": 0,
    "start_time": "2022-04-14T03:01:12.969Z"
   },
   {
    "duration": 0,
    "start_time": "2022-04-14T03:01:12.969Z"
   },
   {
    "duration": 0,
    "start_time": "2022-04-14T03:01:12.970Z"
   },
   {
    "duration": 0,
    "start_time": "2022-04-14T03:01:12.971Z"
   },
   {
    "duration": 0,
    "start_time": "2022-04-14T03:01:13.033Z"
   },
   {
    "duration": 0,
    "start_time": "2022-04-14T03:01:13.035Z"
   },
   {
    "duration": 0,
    "start_time": "2022-04-14T03:01:13.036Z"
   },
   {
    "duration": 0,
    "start_time": "2022-04-14T03:01:13.037Z"
   },
   {
    "duration": 0,
    "start_time": "2022-04-14T03:01:13.038Z"
   },
   {
    "duration": 0,
    "start_time": "2022-04-14T03:01:13.040Z"
   },
   {
    "duration": 0,
    "start_time": "2022-04-14T03:01:13.041Z"
   },
   {
    "duration": 0,
    "start_time": "2022-04-14T03:01:13.042Z"
   },
   {
    "duration": 0,
    "start_time": "2022-04-14T03:01:13.043Z"
   },
   {
    "duration": 0,
    "start_time": "2022-04-14T03:01:13.044Z"
   },
   {
    "duration": 0,
    "start_time": "2022-04-14T03:01:13.045Z"
   },
   {
    "duration": 0,
    "start_time": "2022-04-14T03:01:13.046Z"
   },
   {
    "duration": 0,
    "start_time": "2022-04-14T03:01:13.048Z"
   },
   {
    "duration": 0,
    "start_time": "2022-04-14T03:01:13.049Z"
   },
   {
    "duration": 0,
    "start_time": "2022-04-14T03:01:13.049Z"
   },
   {
    "duration": 0,
    "start_time": "2022-04-14T03:01:13.050Z"
   },
   {
    "duration": 57,
    "start_time": "2022-04-14T03:01:28.337Z"
   },
   {
    "duration": 39,
    "start_time": "2022-04-14T03:02:16.239Z"
   },
   {
    "duration": 43,
    "start_time": "2022-04-14T03:02:24.923Z"
   },
   {
    "duration": 43,
    "start_time": "2022-04-14T03:02:29.451Z"
   },
   {
    "duration": 49,
    "start_time": "2022-04-14T03:03:20.821Z"
   },
   {
    "duration": 57,
    "start_time": "2022-04-14T03:03:31.496Z"
   },
   {
    "duration": 2799,
    "start_time": "2022-04-14T03:03:49.195Z"
   },
   {
    "duration": 53,
    "start_time": "2022-04-14T03:03:56.650Z"
   },
   {
    "duration": 40,
    "start_time": "2022-04-14T03:04:23.011Z"
   },
   {
    "duration": 46,
    "start_time": "2022-04-14T03:04:32.050Z"
   },
   {
    "duration": 47,
    "start_time": "2022-04-14T03:04:49.634Z"
   },
   {
    "duration": 52,
    "start_time": "2022-04-14T03:05:01.180Z"
   },
   {
    "duration": 29,
    "start_time": "2022-04-14T03:05:14.601Z"
   },
   {
    "duration": 41,
    "start_time": "2022-04-14T03:05:32.034Z"
   },
   {
    "duration": 39,
    "start_time": "2022-04-14T03:05:40.905Z"
   },
   {
    "duration": 9,
    "start_time": "2022-04-14T03:06:09.770Z"
   },
   {
    "duration": 13,
    "start_time": "2022-04-14T03:06:29.936Z"
   },
   {
    "duration": 39,
    "start_time": "2022-04-14T03:06:46.451Z"
   },
   {
    "duration": 41,
    "start_time": "2022-04-14T03:07:00.020Z"
   },
   {
    "duration": 35,
    "start_time": "2022-04-14T03:07:11.026Z"
   },
   {
    "duration": 35,
    "start_time": "2022-04-14T03:22:57.909Z"
   },
   {
    "duration": 158,
    "start_time": "2022-04-14T03:28:00.440Z"
   },
   {
    "duration": 10,
    "start_time": "2022-04-14T03:30:44.888Z"
   },
   {
    "duration": 10,
    "start_time": "2022-04-14T03:30:58.566Z"
   },
   {
    "duration": 43,
    "start_time": "2022-04-14T03:32:15.745Z"
   },
   {
    "duration": 45,
    "start_time": "2022-04-14T03:32:32.058Z"
   },
   {
    "duration": 15,
    "start_time": "2022-04-14T03:32:49.457Z"
   },
   {
    "duration": 53,
    "start_time": "2022-04-14T03:33:49.667Z"
   },
   {
    "duration": 15,
    "start_time": "2022-04-14T03:33:50.288Z"
   },
   {
    "duration": 11,
    "start_time": "2022-04-14T03:35:11.313Z"
   },
   {
    "duration": 7,
    "start_time": "2022-04-14T03:35:28.515Z"
   },
   {
    "duration": 8,
    "start_time": "2022-04-14T03:35:50.020Z"
   },
   {
    "duration": 5,
    "start_time": "2022-04-14T03:35:57.989Z"
   },
   {
    "duration": 5,
    "start_time": "2022-04-14T03:36:04.003Z"
   },
   {
    "duration": 21,
    "start_time": "2022-04-14T03:36:04.970Z"
   },
   {
    "duration": 4,
    "start_time": "2022-04-14T03:36:43.306Z"
   },
   {
    "duration": 2735,
    "start_time": "2022-04-14T03:37:16.401Z"
   },
   {
    "duration": 2,
    "start_time": "2022-04-14T03:37:27.994Z"
   },
   {
    "duration": 3,
    "start_time": "2022-04-14T03:37:33.466Z"
   },
   {
    "duration": 3,
    "start_time": "2022-04-14T04:38:29.067Z"
   },
   {
    "duration": 2,
    "start_time": "2022-04-14T04:38:29.447Z"
   },
   {
    "duration": 10,
    "start_time": "2022-04-14T04:38:30.175Z"
   },
   {
    "duration": 10,
    "start_time": "2022-04-14T04:38:31.623Z"
   },
   {
    "duration": 19,
    "start_time": "2022-04-14T04:38:32.858Z"
   },
   {
    "duration": 36,
    "start_time": "2022-04-14T04:38:54.855Z"
   },
   {
    "duration": 8,
    "start_time": "2022-04-14T04:38:55.384Z"
   },
   {
    "duration": 16,
    "start_time": "2022-04-14T04:38:56.223Z"
   },
   {
    "duration": 17,
    "start_time": "2022-04-14T04:39:43.415Z"
   },
   {
    "duration": 7,
    "start_time": "2022-04-14T04:39:44.583Z"
   },
   {
    "duration": 7,
    "start_time": "2022-04-14T04:39:48.184Z"
   },
   {
    "duration": 17,
    "start_time": "2022-04-14T04:39:50.275Z"
   },
   {
    "duration": 44,
    "start_time": "2022-04-14T04:39:51.382Z"
   },
   {
    "duration": 28,
    "start_time": "2022-04-14T04:40:32.712Z"
   },
   {
    "duration": 33,
    "start_time": "2022-04-14T04:40:46.959Z"
   },
   {
    "duration": 29,
    "start_time": "2022-04-14T04:43:07.663Z"
   },
   {
    "duration": 36,
    "start_time": "2022-04-14T04:43:08.056Z"
   },
   {
    "duration": 34,
    "start_time": "2022-04-14T04:43:08.437Z"
   },
   {
    "duration": 9,
    "start_time": "2022-04-14T04:43:35.113Z"
   },
   {
    "duration": 44,
    "start_time": "2022-04-14T04:43:39.008Z"
   },
   {
    "duration": 39,
    "start_time": "2022-04-14T04:43:39.369Z"
   },
   {
    "duration": 78,
    "start_time": "2022-04-14T04:43:41.857Z"
   },
   {
    "duration": 38,
    "start_time": "2022-04-14T04:43:45.345Z"
   },
   {
    "duration": 16,
    "start_time": "2022-04-14T04:46:49.314Z"
   },
   {
    "duration": 3,
    "start_time": "2022-04-14T04:46:51.106Z"
   },
   {
    "duration": 43,
    "start_time": "2022-04-14T04:46:51.689Z"
   },
   {
    "duration": 21,
    "start_time": "2022-04-14T04:46:56.113Z"
   },
   {
    "duration": 48,
    "start_time": "2022-04-14T04:46:56.741Z"
   },
   {
    "duration": 18,
    "start_time": "2022-04-14T04:46:59.458Z"
   },
   {
    "duration": 45,
    "start_time": "2022-04-14T04:46:59.960Z"
   },
   {
    "duration": 23,
    "start_time": "2022-04-14T04:47:03.018Z"
   },
   {
    "duration": 20,
    "start_time": "2022-04-14T04:47:05.316Z"
   },
   {
    "duration": 18,
    "start_time": "2022-04-14T04:47:07.026Z"
   },
   {
    "duration": 4,
    "start_time": "2022-04-14T04:47:08.379Z"
   },
   {
    "duration": 3,
    "start_time": "2022-04-14T04:47:59.514Z"
   },
   {
    "duration": 4,
    "start_time": "2022-04-14T04:48:00.178Z"
   },
   {
    "duration": 37,
    "start_time": "2022-04-14T04:48:00.858Z"
   },
   {
    "duration": 422,
    "start_time": "2022-04-14T04:48:03.530Z"
   },
   {
    "duration": 11,
    "start_time": "2022-04-14T06:51:36.503Z"
   },
   {
    "duration": 378,
    "start_time": "2022-04-14T06:51:43.699Z"
   },
   {
    "duration": 29,
    "start_time": "2022-04-14T06:51:46.309Z"
   },
   {
    "duration": 88,
    "start_time": "2022-04-14T06:51:47.569Z"
   },
   {
    "duration": 2,
    "start_time": "2022-04-14T06:51:49.410Z"
   },
   {
    "duration": 39,
    "start_time": "2022-04-14T06:51:50.761Z"
   },
   {
    "duration": 35,
    "start_time": "2022-04-14T06:52:42.144Z"
   },
   {
    "duration": 91,
    "start_time": "2022-04-14T06:52:45.736Z"
   },
   {
    "duration": 12,
    "start_time": "2022-04-14T06:56:54.754Z"
   },
   {
    "duration": 10,
    "start_time": "2022-04-14T06:58:13.565Z"
   },
   {
    "duration": 41,
    "start_time": "2022-04-14T06:58:18.300Z"
   },
   {
    "duration": 41,
    "start_time": "2022-04-14T06:59:22.189Z"
   },
   {
    "duration": 34,
    "start_time": "2022-04-14T06:59:29.268Z"
   },
   {
    "duration": 60,
    "start_time": "2022-04-14T06:59:34.061Z"
   },
   {
    "duration": 31,
    "start_time": "2022-04-14T07:00:29.991Z"
   },
   {
    "duration": 43,
    "start_time": "2022-04-14T07:00:39.045Z"
   },
   {
    "duration": 39,
    "start_time": "2022-04-14T07:01:22.446Z"
   },
   {
    "duration": 41,
    "start_time": "2022-04-14T07:01:32.440Z"
   },
   {
    "duration": 56,
    "start_time": "2022-04-14T07:01:55.095Z"
   },
   {
    "duration": 148,
    "start_time": "2022-04-14T07:03:00.748Z"
   },
   {
    "duration": 85,
    "start_time": "2022-04-14T07:04:07.086Z"
   },
   {
    "duration": 14,
    "start_time": "2022-04-14T07:04:44.502Z"
   },
   {
    "duration": 101,
    "start_time": "2022-04-14T07:05:47.015Z"
   },
   {
    "duration": 38,
    "start_time": "2022-04-14T07:06:15.111Z"
   },
   {
    "duration": 103,
    "start_time": "2022-04-14T07:06:24.890Z"
   },
   {
    "duration": 106,
    "start_time": "2022-04-14T07:07:03.065Z"
   },
   {
    "duration": 102,
    "start_time": "2022-04-14T07:07:20.872Z"
   },
   {
    "duration": 388,
    "start_time": "2022-04-14T07:09:07.929Z"
   },
   {
    "duration": 156,
    "start_time": "2022-04-14T07:09:16.288Z"
   },
   {
    "duration": 91,
    "start_time": "2022-04-14T07:09:29.153Z"
   },
   {
    "duration": 96,
    "start_time": "2022-04-14T07:09:37.232Z"
   },
   {
    "duration": 97,
    "start_time": "2022-04-14T07:09:49.643Z"
   },
   {
    "duration": 97,
    "start_time": "2022-04-14T07:10:08.960Z"
   },
   {
    "duration": 23,
    "start_time": "2022-04-14T07:11:35.906Z"
   },
   {
    "duration": 41,
    "start_time": "2022-04-14T07:12:08.639Z"
   },
   {
    "duration": 39,
    "start_time": "2022-04-14T07:12:19.577Z"
   },
   {
    "duration": 66,
    "start_time": "2022-04-14T07:13:38.406Z"
   },
   {
    "duration": 80,
    "start_time": "2022-04-14T07:14:01.469Z"
   },
   {
    "duration": 109,
    "start_time": "2022-04-14T07:14:44.241Z"
   },
   {
    "duration": 120,
    "start_time": "2022-04-14T07:14:54.177Z"
   },
   {
    "duration": 169,
    "start_time": "2022-04-14T07:15:52.605Z"
   },
   {
    "duration": 129,
    "start_time": "2022-04-14T07:15:59.955Z"
   },
   {
    "duration": 132,
    "start_time": "2022-04-14T07:16:13.797Z"
   },
   {
    "duration": 137,
    "start_time": "2022-04-14T07:16:24.661Z"
   },
   {
    "duration": 144,
    "start_time": "2022-04-14T07:16:40.538Z"
   },
   {
    "duration": 141,
    "start_time": "2022-04-14T07:16:49.337Z"
   },
   {
    "duration": 138,
    "start_time": "2022-04-14T07:17:04.122Z"
   },
   {
    "duration": 138,
    "start_time": "2022-04-14T07:17:37.895Z"
   },
   {
    "duration": 140,
    "start_time": "2022-04-14T08:02:56.148Z"
   },
   {
    "duration": 8,
    "start_time": "2022-04-14T08:06:13.218Z"
   },
   {
    "duration": 5,
    "start_time": "2022-04-14T08:06:19.286Z"
   },
   {
    "duration": 5,
    "start_time": "2022-04-14T08:06:25.497Z"
   },
   {
    "duration": 11,
    "start_time": "2022-04-14T08:07:05.346Z"
   },
   {
    "duration": 12,
    "start_time": "2022-04-14T08:08:25.806Z"
   },
   {
    "duration": 14,
    "start_time": "2022-04-14T08:08:41.411Z"
   },
   {
    "duration": 117,
    "start_time": "2022-04-14T08:08:48.833Z"
   },
   {
    "duration": 95,
    "start_time": "2022-04-14T08:08:54.074Z"
   },
   {
    "duration": 128,
    "start_time": "2022-04-14T08:09:15.734Z"
   },
   {
    "duration": 168,
    "start_time": "2022-04-14T08:09:36.282Z"
   },
   {
    "duration": 14,
    "start_time": "2022-04-14T08:09:53.151Z"
   },
   {
    "duration": 117,
    "start_time": "2022-04-14T08:10:16.111Z"
   },
   {
    "duration": 124,
    "start_time": "2022-04-14T08:10:30.927Z"
   },
   {
    "duration": 132,
    "start_time": "2022-04-14T08:10:39.150Z"
   },
   {
    "duration": 155,
    "start_time": "2022-04-14T08:11:19.209Z"
   },
   {
    "duration": 211,
    "start_time": "2022-04-14T08:11:36.691Z"
   },
   {
    "duration": 144,
    "start_time": "2022-04-14T08:11:44.244Z"
   },
   {
    "duration": 181,
    "start_time": "2022-04-14T08:12:10.917Z"
   },
   {
    "duration": 171,
    "start_time": "2022-04-14T08:12:16.842Z"
   },
   {
    "duration": 190,
    "start_time": "2022-04-14T08:12:52.338Z"
   },
   {
    "duration": 327,
    "start_time": "2022-04-14T08:13:13.814Z"
   },
   {
    "duration": 331,
    "start_time": "2022-04-14T08:13:53.440Z"
   },
   {
    "duration": 635,
    "start_time": "2022-04-14T08:14:01.310Z"
   },
   {
    "duration": 334,
    "start_time": "2022-04-14T08:14:07.033Z"
   },
   {
    "duration": 13,
    "start_time": "2022-04-14T08:17:49.382Z"
   },
   {
    "duration": 449,
    "start_time": "2022-04-14T08:17:55.436Z"
   },
   {
    "duration": 441,
    "start_time": "2022-04-14T08:18:03.916Z"
   },
   {
    "duration": 366,
    "start_time": "2022-04-14T08:18:54.466Z"
   },
   {
    "duration": 350,
    "start_time": "2022-04-14T08:19:04.646Z"
   },
   {
    "duration": 344,
    "start_time": "2022-04-14T08:19:47.006Z"
   },
   {
    "duration": 445,
    "start_time": "2022-04-14T08:20:00.607Z"
   },
   {
    "duration": 720,
    "start_time": "2022-04-14T08:20:17.883Z"
   },
   {
    "duration": 358,
    "start_time": "2022-04-14T08:21:36.935Z"
   },
   {
    "duration": 353,
    "start_time": "2022-04-14T08:21:51.330Z"
   },
   {
    "duration": 357,
    "start_time": "2022-04-14T08:22:03.167Z"
   },
   {
    "duration": 369,
    "start_time": "2022-04-14T08:22:11.398Z"
   },
   {
    "duration": 429,
    "start_time": "2022-04-14T08:24:32.254Z"
   },
   {
    "duration": 7,
    "start_time": "2022-04-14T08:25:35.181Z"
   },
   {
    "duration": 10,
    "start_time": "2022-04-14T08:25:53.342Z"
   },
   {
    "duration": 8,
    "start_time": "2022-04-14T08:25:58.599Z"
   },
   {
    "duration": 10,
    "start_time": "2022-04-14T08:26:07.160Z"
   },
   {
    "duration": 432,
    "start_time": "2022-04-14T08:27:04.687Z"
   },
   {
    "duration": 436,
    "start_time": "2022-04-14T08:27:16.694Z"
   },
   {
    "duration": 740,
    "start_time": "2022-04-14T08:27:25.478Z"
   },
   {
    "duration": 441,
    "start_time": "2022-04-14T08:27:33.561Z"
   },
   {
    "duration": 437,
    "start_time": "2022-04-14T08:27:40.927Z"
   },
   {
    "duration": 439,
    "start_time": "2022-04-14T08:27:47.015Z"
   },
   {
    "duration": 433,
    "start_time": "2022-04-14T08:27:54.224Z"
   },
   {
    "duration": 438,
    "start_time": "2022-04-14T08:28:01.880Z"
   },
   {
    "duration": 399,
    "start_time": "2022-04-14T08:28:44.585Z"
   },
   {
    "duration": 703,
    "start_time": "2022-04-14T08:28:48.818Z"
   },
   {
    "duration": 378,
    "start_time": "2022-04-14T08:28:53.272Z"
   },
   {
    "duration": 367,
    "start_time": "2022-04-14T08:28:56.215Z"
   },
   {
    "duration": 558,
    "start_time": "2022-04-14T08:29:02.246Z"
   },
   {
    "duration": 397,
    "start_time": "2022-04-14T08:29:18.809Z"
   },
   {
    "duration": 330,
    "start_time": "2022-04-14T08:36:16.403Z"
   },
   {
    "duration": 452,
    "start_time": "2022-04-14T08:36:46.947Z"
   },
   {
    "duration": 350,
    "start_time": "2022-04-14T08:37:33.434Z"
   },
   {
    "duration": 352,
    "start_time": "2022-04-14T08:38:01.150Z"
   },
   {
    "duration": 670,
    "start_time": "2022-04-14T08:38:06.895Z"
   },
   {
    "duration": 332,
    "start_time": "2022-04-14T08:38:32.568Z"
   },
   {
    "duration": 329,
    "start_time": "2022-04-14T08:38:35.947Z"
   },
   {
    "duration": 321,
    "start_time": "2022-04-14T08:38:59.477Z"
   },
   {
    "duration": 437,
    "start_time": "2022-04-14T08:54:59.611Z"
   },
   {
    "duration": 251,
    "start_time": "2022-04-14T08:58:32.626Z"
   },
   {
    "duration": 199,
    "start_time": "2022-04-14T09:01:37.526Z"
   },
   {
    "duration": 202,
    "start_time": "2022-04-14T09:01:52.233Z"
   },
   {
    "duration": 195,
    "start_time": "2022-04-14T09:02:14.612Z"
   },
   {
    "duration": 196,
    "start_time": "2022-04-14T09:02:30.307Z"
   },
   {
    "duration": 179,
    "start_time": "2022-04-14T09:02:47.268Z"
   },
   {
    "duration": 185,
    "start_time": "2022-04-14T09:03:11.723Z"
   },
   {
    "duration": 213,
    "start_time": "2022-04-14T09:03:25.571Z"
   },
   {
    "duration": 201,
    "start_time": "2022-04-14T09:03:33.196Z"
   },
   {
    "duration": 193,
    "start_time": "2022-04-14T09:03:57.268Z"
   },
   {
    "duration": 168,
    "start_time": "2022-04-14T09:04:07.284Z"
   },
   {
    "duration": 213,
    "start_time": "2022-04-14T09:04:23.401Z"
   },
   {
    "duration": 524,
    "start_time": "2022-04-14T09:04:34.319Z"
   },
   {
    "duration": 993,
    "start_time": "2022-04-14T09:04:42.674Z"
   },
   {
    "duration": 444,
    "start_time": "2022-04-14T09:04:47.573Z"
   },
   {
    "duration": 465,
    "start_time": "2022-04-14T09:04:54.231Z"
   },
   {
    "duration": 456,
    "start_time": "2022-04-14T09:04:59.326Z"
   },
   {
    "duration": 490,
    "start_time": "2022-04-14T09:09:11.796Z"
   },
   {
    "duration": 431,
    "start_time": "2022-04-14T09:09:19.256Z"
   },
   {
    "duration": 39,
    "start_time": "2022-04-14T09:09:27.410Z"
   },
   {
    "duration": 90,
    "start_time": "2022-04-14T09:09:32.667Z"
   },
   {
    "duration": 148,
    "start_time": "2022-04-14T09:10:29.081Z"
   },
   {
    "duration": 10,
    "start_time": "2022-04-14T09:10:29.627Z"
   },
   {
    "duration": 410,
    "start_time": "2022-04-14T09:10:31.178Z"
   },
   {
    "duration": 6,
    "start_time": "2022-04-14T09:10:33.501Z"
   },
   {
    "duration": 15,
    "start_time": "2022-04-14T09:14:05.273Z"
   },
   {
    "duration": 34,
    "start_time": "2022-04-14T09:14:44.710Z"
   },
   {
    "duration": 163,
    "start_time": "2022-04-14T09:18:51.372Z"
   },
   {
    "duration": 75,
    "start_time": "2022-04-14T09:19:08.955Z"
   },
   {
    "duration": 74,
    "start_time": "2022-04-14T09:19:19.666Z"
   },
   {
    "duration": 145,
    "start_time": "2022-04-14T09:21:22.683Z"
   },
   {
    "duration": 48,
    "start_time": "2022-04-14T09:21:40.493Z"
   },
   {
    "duration": 435,
    "start_time": "2022-04-14T09:21:41.158Z"
   },
   {
    "duration": 96,
    "start_time": "2022-04-14T09:22:17.388Z"
   },
   {
    "duration": 103,
    "start_time": "2022-04-14T09:23:16.864Z"
   },
   {
    "duration": 103,
    "start_time": "2022-04-14T09:23:32.754Z"
   },
   {
    "duration": 107,
    "start_time": "2022-04-14T09:24:51.963Z"
   },
   {
    "duration": 377,
    "start_time": "2022-04-14T09:26:26.596Z"
   },
   {
    "duration": 584,
    "start_time": "2022-04-14T09:27:12.415Z"
   },
   {
    "duration": 343,
    "start_time": "2022-04-14T09:27:22.690Z"
   },
   {
    "duration": 12,
    "start_time": "2022-04-14T09:27:49.013Z"
   },
   {
    "duration": 18,
    "start_time": "2022-04-14T09:28:26.106Z"
   },
   {
    "duration": 29,
    "start_time": "2022-04-14T09:28:32.484Z"
   },
   {
    "duration": 1173,
    "start_time": "2022-04-14T09:29:44.429Z"
   },
   {
    "duration": 1253,
    "start_time": "2022-04-14T09:29:52.869Z"
   },
   {
    "duration": 176,
    "start_time": "2022-04-14T09:30:05.831Z"
   },
   {
    "duration": 1387,
    "start_time": "2022-04-14T09:30:27.902Z"
   },
   {
    "duration": 77,
    "start_time": "2022-04-14T09:30:54.087Z"
   },
   {
    "duration": 28,
    "start_time": "2022-04-14T09:31:02.335Z"
   },
   {
    "duration": 74,
    "start_time": "2022-04-14T09:31:04.823Z"
   },
   {
    "duration": 174,
    "start_time": "2022-04-14T09:32:50.390Z"
   },
   {
    "duration": 104,
    "start_time": "2022-04-14T09:32:56.680Z"
   },
   {
    "duration": 104,
    "start_time": "2022-04-14T09:33:27.666Z"
   },
   {
    "duration": 101,
    "start_time": "2022-04-14T09:33:36.509Z"
   },
   {
    "duration": 35,
    "start_time": "2022-04-14T09:33:50.318Z"
   },
   {
    "duration": 452,
    "start_time": "2022-04-14T09:33:50.742Z"
   },
   {
    "duration": 390,
    "start_time": "2022-04-14T09:34:37.982Z"
   },
   {
    "duration": 377,
    "start_time": "2022-04-14T09:34:48.573Z"
   },
   {
    "duration": 344,
    "start_time": "2022-04-14T09:34:54.242Z"
   },
   {
    "duration": 455,
    "start_time": "2022-04-14T09:37:13.748Z"
   },
   {
    "duration": 120,
    "start_time": "2022-04-14T09:40:03.104Z"
   },
   {
    "duration": 43,
    "start_time": "2022-04-14T09:40:12.198Z"
   },
   {
    "duration": 41,
    "start_time": "2022-04-14T09:41:21.733Z"
   },
   {
    "duration": 41,
    "start_time": "2022-04-14T09:41:34.172Z"
   },
   {
    "duration": 42,
    "start_time": "2022-04-14T09:41:45.788Z"
   },
   {
    "duration": 44,
    "start_time": "2022-04-14T09:42:02.518Z"
   },
   {
    "duration": 41,
    "start_time": "2022-04-14T09:42:13.021Z"
   },
   {
    "duration": 39,
    "start_time": "2022-04-14T09:42:17.845Z"
   },
   {
    "duration": 40,
    "start_time": "2022-04-14T09:42:25.446Z"
   },
   {
    "duration": 40,
    "start_time": "2022-04-14T09:42:32.983Z"
   },
   {
    "duration": 40,
    "start_time": "2022-04-14T09:42:41.847Z"
   },
   {
    "duration": 38,
    "start_time": "2022-04-14T09:42:48.746Z"
   },
   {
    "duration": 415,
    "start_time": "2022-04-14T09:43:01.501Z"
   },
   {
    "duration": 373,
    "start_time": "2022-04-14T09:43:11.872Z"
   },
   {
    "duration": 384,
    "start_time": "2022-04-14T09:43:22.189Z"
   },
   {
    "duration": 388,
    "start_time": "2022-04-14T09:47:58.354Z"
   },
   {
    "duration": 717,
    "start_time": "2022-04-14T09:48:22.673Z"
   },
   {
    "duration": 407,
    "start_time": "2022-04-14T09:48:44.110Z"
   },
   {
    "duration": 237,
    "start_time": "2022-04-14T09:48:57.446Z"
   },
   {
    "duration": 236,
    "start_time": "2022-04-14T09:49:08.187Z"
   },
   {
    "duration": 236,
    "start_time": "2022-04-14T09:49:18.895Z"
   },
   {
    "duration": 125,
    "start_time": "2022-04-14T09:51:00.681Z"
   },
   {
    "duration": 230,
    "start_time": "2022-04-14T09:52:16.195Z"
   },
   {
    "duration": 307,
    "start_time": "2022-04-14T09:52:34.456Z"
   },
   {
    "duration": 406,
    "start_time": "2022-04-14T09:52:39.528Z"
   },
   {
    "duration": 387,
    "start_time": "2022-04-14T09:52:46.601Z"
   },
   {
    "duration": 381,
    "start_time": "2022-04-14T09:53:33.617Z"
   },
   {
    "duration": 398,
    "start_time": "2022-04-14T09:53:59.322Z"
   },
   {
    "duration": 725,
    "start_time": "2022-04-14T09:54:03.162Z"
   },
   {
    "duration": 87,
    "start_time": "2022-04-14T09:56:24.935Z"
   },
   {
    "duration": 47,
    "start_time": "2022-04-14T09:56:31.425Z"
   },
   {
    "duration": 38,
    "start_time": "2022-04-14T09:56:43.462Z"
   },
   {
    "duration": 173,
    "start_time": "2022-04-14T09:56:56.294Z"
   },
   {
    "duration": 33,
    "start_time": "2022-04-14T09:57:12.893Z"
   },
   {
    "duration": 40,
    "start_time": "2022-04-14T09:57:15.888Z"
   },
   {
    "duration": 334,
    "start_time": "2022-04-14T09:57:22.298Z"
   },
   {
    "duration": 162,
    "start_time": "2022-04-14T09:57:29.639Z"
   },
   {
    "duration": 370,
    "start_time": "2022-04-14T09:57:51.121Z"
   },
   {
    "duration": 288,
    "start_time": "2022-04-14T09:58:07.050Z"
   },
   {
    "duration": 387,
    "start_time": "2022-04-14T09:58:28.344Z"
   },
   {
    "duration": 2007,
    "start_time": "2022-04-14T09:58:46.631Z"
   },
   {
    "duration": 2017,
    "start_time": "2022-04-14T09:59:06.443Z"
   },
   {
    "duration": 250,
    "start_time": "2022-04-14T09:59:16.616Z"
   },
   {
    "duration": 5787,
    "start_time": "2022-04-14T09:59:28.490Z"
   },
   {
    "duration": 715,
    "start_time": "2022-04-14T09:59:51.258Z"
   },
   {
    "duration": 398,
    "start_time": "2022-04-14T09:59:59.075Z"
   },
   {
    "duration": 407,
    "start_time": "2022-04-14T10:00:07.249Z"
   },
   {
    "duration": 380,
    "start_time": "2022-04-14T10:00:12.090Z"
   },
   {
    "duration": 375,
    "start_time": "2022-04-14T10:00:16.771Z"
   },
   {
    "duration": 382,
    "start_time": "2022-04-14T10:08:10.988Z"
   },
   {
    "duration": 11,
    "start_time": "2022-04-14T10:10:31.852Z"
   },
   {
    "duration": 9,
    "start_time": "2022-04-14T10:10:39.437Z"
   },
   {
    "duration": 9,
    "start_time": "2022-04-14T10:10:44.543Z"
   },
   {
    "duration": 12,
    "start_time": "2022-04-14T10:13:38.339Z"
   },
   {
    "duration": 3,
    "start_time": "2022-04-14T10:16:10.198Z"
   },
   {
    "duration": 315,
    "start_time": "2022-04-14T10:16:25.813Z"
   },
   {
    "duration": 5,
    "start_time": "2022-04-14T10:16:39.024Z"
   },
   {
    "duration": 405,
    "start_time": "2022-04-14T10:18:04.560Z"
   },
   {
    "duration": 71,
    "start_time": "2022-04-14T10:20:59.277Z"
   },
   {
    "duration": 43,
    "start_time": "2022-04-14T10:21:03.135Z"
   },
   {
    "duration": 40,
    "start_time": "2022-04-14T10:22:18.000Z"
   },
   {
    "duration": 349,
    "start_time": "2022-04-14T10:22:37.240Z"
   },
   {
    "duration": 723,
    "start_time": "2022-04-14T10:23:32.929Z"
   },
   {
    "duration": 373,
    "start_time": "2022-04-14T10:23:53.280Z"
   },
   {
    "duration": 371,
    "start_time": "2022-04-14T10:24:10.898Z"
   },
   {
    "duration": 351,
    "start_time": "2022-04-14T10:24:42.272Z"
   },
   {
    "duration": 9,
    "start_time": "2022-04-14T10:25:02.103Z"
   },
   {
    "duration": 59,
    "start_time": "2022-04-14T10:27:43.784Z"
   },
   {
    "duration": 41,
    "start_time": "2022-04-14T10:27:51.924Z"
   },
   {
    "duration": 9,
    "start_time": "2022-04-14T10:29:31.911Z"
   },
   {
    "duration": 24,
    "start_time": "2022-04-14T11:36:43.074Z"
   },
   {
    "duration": 12,
    "start_time": "2022-04-14T11:36:53.164Z"
   },
   {
    "duration": 5,
    "start_time": "2022-04-14T11:42:09.208Z"
   },
   {
    "duration": 5,
    "start_time": "2022-04-14T11:43:12.213Z"
   },
   {
    "duration": 447,
    "start_time": "2022-04-14T11:58:08.465Z"
   },
   {
    "duration": 5,
    "start_time": "2022-04-14T11:58:10.846Z"
   },
   {
    "duration": 4,
    "start_time": "2022-04-14T11:59:22.575Z"
   },
   {
    "duration": 0,
    "start_time": "2022-04-14T12:29:03.599Z"
   },
   {
    "duration": 17,
    "start_time": "2022-04-14T14:12:09.903Z"
   },
   {
    "duration": 8,
    "start_time": "2022-04-14T14:12:36.728Z"
   },
   {
    "duration": 13,
    "start_time": "2022-04-14T14:12:59.033Z"
   },
   {
    "duration": 16,
    "start_time": "2022-04-14T14:13:03.135Z"
   },
   {
    "duration": 14,
    "start_time": "2022-04-14T14:13:06.901Z"
   },
   {
    "duration": 10,
    "start_time": "2022-04-14T14:13:30.449Z"
   },
   {
    "duration": 6,
    "start_time": "2022-04-14T14:13:41.343Z"
   },
   {
    "duration": 4,
    "start_time": "2022-04-14T14:15:34.921Z"
   },
   {
    "duration": 10,
    "start_time": "2022-04-14T14:21:25.982Z"
   },
   {
    "duration": 12,
    "start_time": "2022-04-14T14:21:34.551Z"
   },
   {
    "duration": 5,
    "start_time": "2022-04-14T14:21:45.200Z"
   },
   {
    "duration": 12,
    "start_time": "2022-04-14T14:21:53.488Z"
   },
   {
    "duration": 9,
    "start_time": "2022-04-14T14:22:03.734Z"
   },
   {
    "duration": 41,
    "start_time": "2022-04-14T14:23:50.145Z"
   },
   {
    "duration": 39,
    "start_time": "2022-04-14T14:24:28.904Z"
   },
   {
    "duration": 18,
    "start_time": "2022-04-14T14:25:18.993Z"
   },
   {
    "duration": 18,
    "start_time": "2022-04-14T14:25:55.785Z"
   },
   {
    "duration": 30,
    "start_time": "2022-04-14T14:26:46.352Z"
   },
   {
    "duration": 28,
    "start_time": "2022-04-14T14:27:07.705Z"
   },
   {
    "duration": 7,
    "start_time": "2022-04-14T14:27:54.000Z"
   },
   {
    "duration": 9,
    "start_time": "2022-04-14T14:28:02.025Z"
   },
   {
    "duration": 17,
    "start_time": "2022-04-14T14:28:27.360Z"
   },
   {
    "duration": 27,
    "start_time": "2022-04-14T14:29:25.457Z"
   },
   {
    "duration": 38,
    "start_time": "2022-04-14T14:30:02.533Z"
   },
   {
    "duration": 187,
    "start_time": "2022-04-14T14:30:22.065Z"
   },
   {
    "duration": 33,
    "start_time": "2022-04-14T14:30:29.017Z"
   },
   {
    "duration": 34,
    "start_time": "2022-04-14T14:31:16.979Z"
   },
   {
    "duration": 29,
    "start_time": "2022-04-14T14:31:34.153Z"
   },
   {
    "duration": 40,
    "start_time": "2022-04-14T14:31:48.363Z"
   },
   {
    "duration": 160,
    "start_time": "2022-04-14T14:32:39.900Z"
   },
   {
    "duration": 62,
    "start_time": "2022-04-14T14:32:45.104Z"
   },
   {
    "duration": 85,
    "start_time": "2022-04-14T14:32:59.531Z"
   },
   {
    "duration": 67,
    "start_time": "2022-04-14T14:33:27.872Z"
   },
   {
    "duration": 76,
    "start_time": "2022-04-14T14:33:40.881Z"
   },
   {
    "duration": 75,
    "start_time": "2022-04-14T14:34:23.169Z"
   },
   {
    "duration": 71,
    "start_time": "2022-04-14T14:34:29.194Z"
   },
   {
    "duration": 92,
    "start_time": "2022-04-14T14:34:38.327Z"
   },
   {
    "duration": 73,
    "start_time": "2022-04-14T14:35:03.874Z"
   },
   {
    "duration": 261,
    "start_time": "2022-04-14T14:35:37.564Z"
   },
   {
    "duration": 75,
    "start_time": "2022-04-14T14:36:01.099Z"
   },
   {
    "duration": 3870,
    "start_time": "2022-04-14T14:36:13.325Z"
   },
   {
    "duration": 2802,
    "start_time": "2022-04-14T14:36:25.161Z"
   },
   {
    "duration": 62,
    "start_time": "2022-04-14T14:36:32.202Z"
   },
   {
    "duration": 49,
    "start_time": "2022-04-14T14:36:43.076Z"
   },
   {
    "duration": 188,
    "start_time": "2022-04-14T14:36:52.622Z"
   },
   {
    "duration": 82,
    "start_time": "2022-04-14T14:37:03.058Z"
   },
   {
    "duration": 77,
    "start_time": "2022-04-14T14:37:09.866Z"
   },
   {
    "duration": 17,
    "start_time": "2022-04-14T14:37:29.922Z"
   },
   {
    "duration": 12,
    "start_time": "2022-04-14T14:37:54.100Z"
   },
   {
    "duration": 11,
    "start_time": "2022-04-14T14:38:00.770Z"
   },
   {
    "duration": 10,
    "start_time": "2022-04-14T14:38:13.353Z"
   },
   {
    "duration": 35,
    "start_time": "2022-04-14T14:38:23.035Z"
   },
   {
    "duration": 232,
    "start_time": "2022-04-14T14:40:04.349Z"
   },
   {
    "duration": 33,
    "start_time": "2022-04-14T14:40:13.683Z"
   },
   {
    "duration": 73,
    "start_time": "2022-04-14T14:40:18.314Z"
   },
   {
    "duration": 85,
    "start_time": "2022-04-14T14:40:31.720Z"
   },
   {
    "duration": 36,
    "start_time": "2022-04-14T14:41:11.675Z"
   },
   {
    "duration": 2889,
    "start_time": "2022-04-14T14:42:01.352Z"
   },
   {
    "duration": 78,
    "start_time": "2022-04-14T14:42:20.220Z"
   },
   {
    "duration": 73,
    "start_time": "2022-04-14T14:43:07.229Z"
   },
   {
    "duration": 68,
    "start_time": "2022-04-14T14:43:45.104Z"
   },
   {
    "duration": 67,
    "start_time": "2022-04-14T14:43:57.841Z"
   },
   {
    "duration": 168,
    "start_time": "2022-04-14T14:45:23.553Z"
   },
   {
    "duration": 70,
    "start_time": "2022-04-14T14:45:29.318Z"
   },
   {
    "duration": 8,
    "start_time": "2022-04-14T14:47:08.629Z"
   },
   {
    "duration": 33,
    "start_time": "2022-04-14T15:20:05.583Z"
   },
   {
    "duration": 31,
    "start_time": "2022-04-14T15:20:10.509Z"
   },
   {
    "duration": 33,
    "start_time": "2022-04-14T15:20:14.494Z"
   },
   {
    "duration": 34,
    "start_time": "2022-04-14T15:20:16.460Z"
   },
   {
    "duration": 33,
    "start_time": "2022-04-14T15:20:22.684Z"
   },
   {
    "duration": 30,
    "start_time": "2022-04-14T15:20:32.543Z"
   },
   {
    "duration": 30,
    "start_time": "2022-04-14T15:20:39.811Z"
   },
   {
    "duration": 31,
    "start_time": "2022-04-14T15:23:11.413Z"
   },
   {
    "duration": 9,
    "start_time": "2022-04-14T15:40:56.028Z"
   },
   {
    "duration": 9,
    "start_time": "2022-04-14T15:40:58.660Z"
   },
   {
    "duration": 18,
    "start_time": "2022-04-14T15:46:05.228Z"
   },
   {
    "duration": 19,
    "start_time": "2022-04-14T15:47:14.939Z"
   },
   {
    "duration": 16,
    "start_time": "2022-04-14T15:48:05.503Z"
   },
   {
    "duration": 15,
    "start_time": "2022-04-14T15:48:32.984Z"
   },
   {
    "duration": 16,
    "start_time": "2022-04-14T15:48:40.173Z"
   },
   {
    "duration": 12,
    "start_time": "2022-04-14T15:49:06.172Z"
   },
   {
    "duration": 2678,
    "start_time": "2022-04-14T17:26:44.763Z"
   },
   {
    "duration": 6,
    "start_time": "2022-04-14T17:26:57.684Z"
   },
   {
    "duration": 7,
    "start_time": "2022-04-14T17:27:03.459Z"
   },
   {
    "duration": 6,
    "start_time": "2022-04-14T17:27:19.809Z"
   },
   {
    "duration": 20,
    "start_time": "2022-04-14T17:27:46.211Z"
   },
   {
    "duration": 18,
    "start_time": "2022-04-14T17:36:22.484Z"
   },
   {
    "duration": 13,
    "start_time": "2022-04-14T17:36:42.091Z"
   },
   {
    "duration": 15,
    "start_time": "2022-04-14T17:48:26.479Z"
   },
   {
    "duration": 14,
    "start_time": "2022-04-14T17:49:13.521Z"
   },
   {
    "duration": 16,
    "start_time": "2022-04-14T17:51:02.602Z"
   },
   {
    "duration": 11,
    "start_time": "2022-04-14T17:52:15.271Z"
   },
   {
    "duration": 2697,
    "start_time": "2022-04-14T17:52:23.673Z"
   },
   {
    "duration": 11,
    "start_time": "2022-04-14T17:53:06.885Z"
   },
   {
    "duration": 15,
    "start_time": "2022-04-14T17:53:30.319Z"
   },
   {
    "duration": 17,
    "start_time": "2022-04-14T17:54:26.562Z"
   },
   {
    "duration": 8,
    "start_time": "2022-04-15T04:52:00.718Z"
   },
   {
    "duration": 1909,
    "start_time": "2022-04-15T04:52:17.319Z"
   },
   {
    "duration": 4,
    "start_time": "2022-04-15T04:52:19.231Z"
   },
   {
    "duration": 245,
    "start_time": "2022-04-15T04:52:19.237Z"
   },
   {
    "duration": 44,
    "start_time": "2022-04-15T04:52:19.485Z"
   },
   {
    "duration": 130,
    "start_time": "2022-04-15T04:52:19.532Z"
   },
   {
    "duration": 220,
    "start_time": "2022-04-15T04:52:19.666Z"
   },
   {
    "duration": 32,
    "start_time": "2022-04-15T04:52:19.890Z"
   },
   {
    "duration": 47,
    "start_time": "2022-04-15T04:52:19.953Z"
   },
   {
    "duration": 4,
    "start_time": "2022-04-15T04:52:20.002Z"
   },
   {
    "duration": 159,
    "start_time": "2022-04-15T04:52:20.010Z"
   },
   {
    "duration": 29,
    "start_time": "2022-04-15T04:52:20.172Z"
   },
   {
    "duration": 72,
    "start_time": "2022-04-15T04:52:20.204Z"
   },
   {
    "duration": 42,
    "start_time": "2022-04-15T04:52:20.279Z"
   },
   {
    "duration": 46,
    "start_time": "2022-04-15T04:52:20.325Z"
   },
   {
    "duration": 10,
    "start_time": "2022-04-15T04:52:20.375Z"
   },
   {
    "duration": 18,
    "start_time": "2022-04-15T04:52:20.388Z"
   },
   {
    "duration": 13,
    "start_time": "2022-04-15T04:52:20.453Z"
   },
   {
    "duration": 29,
    "start_time": "2022-04-15T04:52:20.469Z"
   },
   {
    "duration": 132,
    "start_time": "2022-04-15T04:52:20.501Z"
   },
   {
    "duration": 91,
    "start_time": "2022-04-15T04:52:20.635Z"
   },
   {
    "duration": 91,
    "start_time": "2022-04-15T04:52:20.729Z"
   },
   {
    "duration": 50,
    "start_time": "2022-04-15T04:52:20.822Z"
   },
   {
    "duration": 107,
    "start_time": "2022-04-15T04:52:20.875Z"
   },
   {
    "duration": 5,
    "start_time": "2022-04-15T04:52:20.985Z"
   },
   {
    "duration": 51,
    "start_time": "2022-04-15T04:52:20.994Z"
   },
   {
    "duration": 65,
    "start_time": "2022-04-15T04:52:21.052Z"
   },
   {
    "duration": 4,
    "start_time": "2022-04-15T04:52:21.119Z"
   },
   {
    "duration": 4,
    "start_time": "2022-04-15T04:52:21.155Z"
   },
   {
    "duration": 20,
    "start_time": "2022-04-15T04:52:21.161Z"
   },
   {
    "duration": 18,
    "start_time": "2022-04-15T04:52:21.184Z"
   },
   {
    "duration": 67,
    "start_time": "2022-04-15T04:52:21.205Z"
   },
   {
    "duration": 50,
    "start_time": "2022-04-15T04:52:21.275Z"
   },
   {
    "duration": 11,
    "start_time": "2022-04-15T04:52:21.351Z"
   },
   {
    "duration": 29,
    "start_time": "2022-04-15T04:52:21.364Z"
   },
   {
    "duration": 11,
    "start_time": "2022-04-15T04:52:21.395Z"
   },
   {
    "duration": 48,
    "start_time": "2022-04-15T04:52:21.408Z"
   },
   {
    "duration": 35,
    "start_time": "2022-04-15T04:52:21.458Z"
   },
   {
    "duration": 130,
    "start_time": "2022-04-15T04:52:21.496Z"
   },
   {
    "duration": 96,
    "start_time": "2022-04-15T04:52:21.629Z"
   },
   {
    "duration": 70,
    "start_time": "2022-04-15T04:52:21.729Z"
   },
   {
    "duration": 103,
    "start_time": "2022-04-15T04:52:21.802Z"
   },
   {
    "duration": 13,
    "start_time": "2022-04-15T04:52:21.908Z"
   },
   {
    "duration": 89,
    "start_time": "2022-04-15T04:52:21.924Z"
   },
   {
    "duration": 104,
    "start_time": "2022-04-15T04:52:22.016Z"
   },
   {
    "duration": 193,
    "start_time": "2022-04-15T04:52:22.123Z"
   },
   {
    "duration": 70,
    "start_time": "2022-04-15T04:52:22.318Z"
   },
   {
    "duration": 26,
    "start_time": "2022-04-15T04:52:22.391Z"
   },
   {
    "duration": 37,
    "start_time": "2022-04-15T04:52:22.420Z"
   },
   {
    "duration": 99,
    "start_time": "2022-04-15T04:52:22.460Z"
   },
   {
    "duration": 38,
    "start_time": "2022-04-15T04:52:22.562Z"
   },
   {
    "duration": 109,
    "start_time": "2022-04-15T04:52:22.603Z"
   },
   {
    "duration": 47,
    "start_time": "2022-04-15T04:52:22.714Z"
   },
   {
    "duration": 69,
    "start_time": "2022-04-15T04:52:22.764Z"
   },
   {
    "duration": 48,
    "start_time": "2022-04-15T04:52:22.852Z"
   },
   {
    "duration": 74,
    "start_time": "2022-04-15T04:52:22.903Z"
   },
   {
    "duration": 38,
    "start_time": "2022-04-15T04:52:22.980Z"
   },
   {
    "duration": 9,
    "start_time": "2022-04-15T04:52:23.051Z"
   },
   {
    "duration": 15,
    "start_time": "2022-04-15T04:52:23.063Z"
   },
   {
    "duration": 10,
    "start_time": "2022-04-15T04:52:23.081Z"
   },
   {
    "duration": 97,
    "start_time": "2022-04-15T04:52:23.094Z"
   },
   {
    "duration": 652,
    "start_time": "2022-04-15T04:52:23.194Z"
   },
   {
    "duration": 55,
    "start_time": "2022-04-15T04:52:23.852Z"
   },
   {
    "duration": 197,
    "start_time": "2022-04-15T04:52:23.910Z"
   },
   {
    "duration": 4,
    "start_time": "2022-04-15T04:52:24.111Z"
   },
   {
    "duration": 79,
    "start_time": "2022-04-15T04:52:24.118Z"
   },
   {
    "duration": 185,
    "start_time": "2022-04-15T04:52:24.199Z"
   },
   {
    "duration": 753,
    "start_time": "2022-04-15T04:52:24.386Z"
   },
   {
    "duration": 64,
    "start_time": "2022-04-15T04:52:25.142Z"
   },
   {
    "duration": 8,
    "start_time": "2022-04-15T04:52:25.209Z"
   },
   {
    "duration": 59,
    "start_time": "2022-04-15T04:52:25.253Z"
   },
   {
    "duration": 848,
    "start_time": "2022-04-15T04:52:25.315Z"
   },
   {
    "duration": 168,
    "start_time": "2022-04-15T04:52:26.167Z"
   },
   {
    "duration": 898,
    "start_time": "2022-04-15T04:52:26.338Z"
   },
   {
    "duration": 95,
    "start_time": "2022-04-15T04:52:27.240Z"
   },
   {
    "duration": 7,
    "start_time": "2022-04-15T04:52:27.351Z"
   },
   {
    "duration": 55,
    "start_time": "2022-04-15T04:52:27.361Z"
   },
   {
    "duration": 638,
    "start_time": "2022-04-15T04:52:27.418Z"
   },
   {
    "duration": 7,
    "start_time": "2022-04-15T04:52:28.059Z"
   },
   {
    "duration": 134,
    "start_time": "2022-04-15T04:52:28.069Z"
   },
   {
    "duration": 664,
    "start_time": "2022-04-15T04:52:28.206Z"
   },
   {
    "duration": 105,
    "start_time": "2022-04-15T04:52:28.873Z"
   },
   {
    "duration": 162,
    "start_time": "2022-04-15T04:52:28.992Z"
   },
   {
    "duration": 0,
    "start_time": "2022-04-15T04:52:29.157Z"
   },
   {
    "duration": 0,
    "start_time": "2022-04-15T04:52:29.160Z"
   },
   {
    "duration": 0,
    "start_time": "2022-04-15T04:52:29.162Z"
   },
   {
    "duration": 0,
    "start_time": "2022-04-15T04:52:29.164Z"
   },
   {
    "duration": 0,
    "start_time": "2022-04-15T04:52:29.165Z"
   },
   {
    "duration": 0,
    "start_time": "2022-04-15T04:52:29.168Z"
   },
   {
    "duration": 1,
    "start_time": "2022-04-15T04:52:29.169Z"
   },
   {
    "duration": 0,
    "start_time": "2022-04-15T04:52:29.171Z"
   },
   {
    "duration": 0,
    "start_time": "2022-04-15T04:52:29.173Z"
   },
   {
    "duration": 11,
    "start_time": "2022-04-15T04:52:58.740Z"
   },
   {
    "duration": 2021,
    "start_time": "2022-04-15T04:53:16.969Z"
   },
   {
    "duration": 4,
    "start_time": "2022-04-15T04:53:18.994Z"
   },
   {
    "duration": 323,
    "start_time": "2022-04-15T04:53:19.001Z"
   },
   {
    "duration": 43,
    "start_time": "2022-04-15T04:53:19.329Z"
   },
   {
    "duration": 78,
    "start_time": "2022-04-15T04:53:19.375Z"
   },
   {
    "duration": 218,
    "start_time": "2022-04-15T04:53:19.456Z"
   },
   {
    "duration": 39,
    "start_time": "2022-04-15T04:53:19.677Z"
   },
   {
    "duration": 98,
    "start_time": "2022-04-15T04:53:19.719Z"
   },
   {
    "duration": 4,
    "start_time": "2022-04-15T04:53:19.820Z"
   },
   {
    "duration": 206,
    "start_time": "2022-04-15T04:53:19.831Z"
   },
   {
    "duration": 40,
    "start_time": "2022-04-15T04:53:20.039Z"
   },
   {
    "duration": 44,
    "start_time": "2022-04-15T04:53:20.083Z"
   },
   {
    "duration": 57,
    "start_time": "2022-04-15T04:53:20.130Z"
   },
   {
    "duration": 22,
    "start_time": "2022-04-15T04:53:20.190Z"
   },
   {
    "duration": 18,
    "start_time": "2022-04-15T04:53:20.215Z"
   },
   {
    "duration": 13,
    "start_time": "2022-04-15T04:53:20.253Z"
   },
   {
    "duration": 17,
    "start_time": "2022-04-15T04:53:20.270Z"
   },
   {
    "duration": 31,
    "start_time": "2022-04-15T04:53:20.290Z"
   },
   {
    "duration": 143,
    "start_time": "2022-04-15T04:53:20.324Z"
   },
   {
    "duration": 147,
    "start_time": "2022-04-15T04:53:20.471Z"
   },
   {
    "duration": 103,
    "start_time": "2022-04-15T04:53:20.622Z"
   },
   {
    "duration": 37,
    "start_time": "2022-04-15T04:53:20.728Z"
   },
   {
    "duration": 138,
    "start_time": "2022-04-15T04:53:20.768Z"
   },
   {
    "duration": 8,
    "start_time": "2022-04-15T04:53:20.909Z"
   },
   {
    "duration": 65,
    "start_time": "2022-04-15T04:53:20.920Z"
   },
   {
    "duration": 106,
    "start_time": "2022-04-15T04:53:20.988Z"
   },
   {
    "duration": 5,
    "start_time": "2022-04-15T04:53:21.097Z"
   },
   {
    "duration": 4,
    "start_time": "2022-04-15T04:53:21.114Z"
   },
   {
    "duration": 47,
    "start_time": "2022-04-15T04:53:21.121Z"
   },
   {
    "duration": 19,
    "start_time": "2022-04-15T04:53:21.171Z"
   },
   {
    "duration": 66,
    "start_time": "2022-04-15T04:53:21.193Z"
   },
   {
    "duration": 71,
    "start_time": "2022-04-15T04:53:21.262Z"
   },
   {
    "duration": 16,
    "start_time": "2022-04-15T04:53:21.353Z"
   },
   {
    "duration": 39,
    "start_time": "2022-04-15T04:53:21.375Z"
   },
   {
    "duration": 36,
    "start_time": "2022-04-15T04:53:21.417Z"
   },
   {
    "duration": 11,
    "start_time": "2022-04-15T04:53:21.456Z"
   },
   {
    "duration": 26,
    "start_time": "2022-04-15T04:53:21.471Z"
   },
   {
    "duration": 107,
    "start_time": "2022-04-15T04:53:21.501Z"
   },
   {
    "duration": 77,
    "start_time": "2022-04-15T04:53:21.610Z"
   },
   {
    "duration": 65,
    "start_time": "2022-04-15T04:53:21.690Z"
   },
   {
    "duration": 94,
    "start_time": "2022-04-15T04:53:21.758Z"
   },
   {
    "duration": 19,
    "start_time": "2022-04-15T04:53:21.855Z"
   },
   {
    "duration": 100,
    "start_time": "2022-04-15T04:53:21.877Z"
   },
   {
    "duration": 61,
    "start_time": "2022-04-15T04:53:21.980Z"
   },
   {
    "duration": 184,
    "start_time": "2022-04-15T04:53:22.052Z"
   },
   {
    "duration": 89,
    "start_time": "2022-04-15T04:53:22.240Z"
   },
   {
    "duration": 41,
    "start_time": "2022-04-15T04:53:22.332Z"
   },
   {
    "duration": 12,
    "start_time": "2022-04-15T04:53:22.376Z"
   },
   {
    "duration": 129,
    "start_time": "2022-04-15T04:53:22.391Z"
   },
   {
    "duration": 47,
    "start_time": "2022-04-15T04:53:22.526Z"
   },
   {
    "duration": 144,
    "start_time": "2022-04-15T04:53:22.576Z"
   },
   {
    "duration": 40,
    "start_time": "2022-04-15T04:53:22.723Z"
   },
   {
    "duration": 127,
    "start_time": "2022-04-15T04:53:22.769Z"
   },
   {
    "duration": 73,
    "start_time": "2022-04-15T04:53:22.899Z"
   },
   {
    "duration": 44,
    "start_time": "2022-04-15T04:53:22.975Z"
   },
   {
    "duration": 47,
    "start_time": "2022-04-15T04:53:23.022Z"
   },
   {
    "duration": 8,
    "start_time": "2022-04-15T04:53:23.072Z"
   },
   {
    "duration": 12,
    "start_time": "2022-04-15T04:53:23.083Z"
   },
   {
    "duration": 10,
    "start_time": "2022-04-15T04:53:23.098Z"
   },
   {
    "duration": 87,
    "start_time": "2022-04-15T04:53:23.110Z"
   },
   {
    "duration": 751,
    "start_time": "2022-04-15T04:53:23.200Z"
   },
   {
    "duration": 57,
    "start_time": "2022-04-15T04:53:23.955Z"
   },
   {
    "duration": 173,
    "start_time": "2022-04-15T04:53:24.015Z"
   },
   {
    "duration": 4,
    "start_time": "2022-04-15T04:53:24.191Z"
   },
   {
    "duration": 88,
    "start_time": "2022-04-15T04:53:24.198Z"
   },
   {
    "duration": 173,
    "start_time": "2022-04-15T04:53:24.288Z"
   },
   {
    "duration": 906,
    "start_time": "2022-04-15T04:53:24.465Z"
   },
   {
    "duration": 83,
    "start_time": "2022-04-15T04:53:25.374Z"
   },
   {
    "duration": 7,
    "start_time": "2022-04-15T04:53:25.460Z"
   },
   {
    "duration": 118,
    "start_time": "2022-04-15T04:53:25.470Z"
   },
   {
    "duration": 600,
    "start_time": "2022-04-15T04:53:25.591Z"
   },
   {
    "duration": 152,
    "start_time": "2022-04-15T04:53:26.195Z"
   },
   {
    "duration": 844,
    "start_time": "2022-04-15T04:53:26.350Z"
   },
   {
    "duration": 65,
    "start_time": "2022-04-15T04:53:27.196Z"
   },
   {
    "duration": 7,
    "start_time": "2022-04-15T04:53:27.264Z"
   },
   {
    "duration": 84,
    "start_time": "2022-04-15T04:53:27.273Z"
   },
   {
    "duration": 750,
    "start_time": "2022-04-15T04:53:27.360Z"
   },
   {
    "duration": 7,
    "start_time": "2022-04-15T04:53:28.113Z"
   },
   {
    "duration": 113,
    "start_time": "2022-04-15T04:53:28.123Z"
   },
   {
    "duration": 558,
    "start_time": "2022-04-15T04:53:28.239Z"
   },
   {
    "duration": 72,
    "start_time": "2022-04-15T04:53:28.800Z"
   },
   {
    "duration": 155,
    "start_time": "2022-04-15T04:53:28.880Z"
   },
   {
    "duration": 0,
    "start_time": "2022-04-15T04:53:29.038Z"
   },
   {
    "duration": 0,
    "start_time": "2022-04-15T04:53:29.039Z"
   },
   {
    "duration": 0,
    "start_time": "2022-04-15T04:53:29.041Z"
   },
   {
    "duration": 0,
    "start_time": "2022-04-15T04:53:29.051Z"
   },
   {
    "duration": 0,
    "start_time": "2022-04-15T04:53:29.053Z"
   },
   {
    "duration": 0,
    "start_time": "2022-04-15T04:53:29.054Z"
   },
   {
    "duration": 0,
    "start_time": "2022-04-15T04:53:29.056Z"
   },
   {
    "duration": 0,
    "start_time": "2022-04-15T04:53:29.057Z"
   },
   {
    "duration": 0,
    "start_time": "2022-04-15T04:53:29.059Z"
   },
   {
    "duration": 890,
    "start_time": "2022-04-15T04:53:45.164Z"
   },
   {
    "duration": 1586,
    "start_time": "2022-04-15T04:53:51.728Z"
   },
   {
    "duration": 3,
    "start_time": "2022-04-15T04:53:53.318Z"
   },
   {
    "duration": 230,
    "start_time": "2022-04-15T04:53:53.323Z"
   },
   {
    "duration": 38,
    "start_time": "2022-04-15T04:53:53.556Z"
   },
   {
    "duration": 80,
    "start_time": "2022-04-15T04:53:53.596Z"
   },
   {
    "duration": 208,
    "start_time": "2022-04-15T04:53:53.679Z"
   },
   {
    "duration": 30,
    "start_time": "2022-04-15T04:53:53.889Z"
   },
   {
    "duration": 68,
    "start_time": "2022-04-15T04:53:53.921Z"
   },
   {
    "duration": 4,
    "start_time": "2022-04-15T04:53:53.992Z"
   },
   {
    "duration": 146,
    "start_time": "2022-04-15T04:53:54.002Z"
   },
   {
    "duration": 26,
    "start_time": "2022-04-15T04:53:54.150Z"
   },
   {
    "duration": 73,
    "start_time": "2022-04-15T04:53:54.179Z"
   },
   {
    "duration": 29,
    "start_time": "2022-04-15T04:53:54.255Z"
   },
   {
    "duration": 27,
    "start_time": "2022-04-15T04:53:54.287Z"
   },
   {
    "duration": 38,
    "start_time": "2022-04-15T04:53:54.317Z"
   },
   {
    "duration": 19,
    "start_time": "2022-04-15T04:53:54.359Z"
   },
   {
    "duration": 9,
    "start_time": "2022-04-15T04:53:54.380Z"
   },
   {
    "duration": 21,
    "start_time": "2022-04-15T04:53:54.391Z"
   },
   {
    "duration": 74,
    "start_time": "2022-04-15T04:53:54.451Z"
   },
   {
    "duration": 85,
    "start_time": "2022-04-15T04:53:54.527Z"
   },
   {
    "duration": 104,
    "start_time": "2022-04-15T04:53:54.615Z"
   },
   {
    "duration": 36,
    "start_time": "2022-04-15T04:53:54.722Z"
   },
   {
    "duration": 95,
    "start_time": "2022-04-15T04:53:54.761Z"
   },
   {
    "duration": 7,
    "start_time": "2022-04-15T04:53:54.859Z"
   },
   {
    "duration": 30,
    "start_time": "2022-04-15T04:53:54.868Z"
   },
   {
    "duration": 118,
    "start_time": "2022-04-15T04:53:54.902Z"
   },
   {
    "duration": 3,
    "start_time": "2022-04-15T04:53:55.023Z"
   },
   {
    "duration": 19,
    "start_time": "2022-04-15T04:53:55.034Z"
   },
   {
    "duration": 26,
    "start_time": "2022-04-15T04:53:55.056Z"
   },
   {
    "duration": 17,
    "start_time": "2022-04-15T04:53:55.084Z"
   },
   {
    "duration": 66,
    "start_time": "2022-04-15T04:53:55.105Z"
   },
   {
    "duration": 49,
    "start_time": "2022-04-15T04:53:55.173Z"
   },
   {
    "duration": 29,
    "start_time": "2022-04-15T04:53:55.225Z"
   },
   {
    "duration": 29,
    "start_time": "2022-04-15T04:53:55.258Z"
   },
   {
    "duration": 9,
    "start_time": "2022-04-15T04:53:55.290Z"
   },
   {
    "duration": 9,
    "start_time": "2022-04-15T04:53:55.301Z"
   },
   {
    "duration": 60,
    "start_time": "2022-04-15T04:53:55.313Z"
   },
   {
    "duration": 90,
    "start_time": "2022-04-15T04:53:55.375Z"
   },
   {
    "duration": 54,
    "start_time": "2022-04-15T04:53:55.467Z"
   },
   {
    "duration": 70,
    "start_time": "2022-04-15T04:53:55.524Z"
   },
   {
    "duration": 79,
    "start_time": "2022-04-15T04:53:55.596Z"
   },
   {
    "duration": 16,
    "start_time": "2022-04-15T04:53:55.678Z"
   },
   {
    "duration": 109,
    "start_time": "2022-04-15T04:53:55.697Z"
   },
   {
    "duration": 82,
    "start_time": "2022-04-15T04:53:55.809Z"
   },
   {
    "duration": 135,
    "start_time": "2022-04-15T04:53:55.894Z"
   },
   {
    "duration": 79,
    "start_time": "2022-04-15T04:53:56.031Z"
   },
   {
    "duration": 41,
    "start_time": "2022-04-15T04:53:56.112Z"
   },
   {
    "duration": 6,
    "start_time": "2022-04-15T04:53:56.156Z"
   },
   {
    "duration": 98,
    "start_time": "2022-04-15T04:53:56.164Z"
   },
   {
    "duration": 25,
    "start_time": "2022-04-15T04:53:56.265Z"
   },
   {
    "duration": 123,
    "start_time": "2022-04-15T04:53:56.293Z"
   },
   {
    "duration": 39,
    "start_time": "2022-04-15T04:53:56.419Z"
   },
   {
    "duration": 111,
    "start_time": "2022-04-15T04:53:56.461Z"
   },
   {
    "duration": 35,
    "start_time": "2022-04-15T04:53:56.575Z"
   },
   {
    "duration": 58,
    "start_time": "2022-04-15T04:53:56.612Z"
   },
   {
    "duration": 42,
    "start_time": "2022-04-15T04:53:56.673Z"
   },
   {
    "duration": 5,
    "start_time": "2022-04-15T04:53:56.718Z"
   },
   {
    "duration": 5,
    "start_time": "2022-04-15T04:53:56.753Z"
   },
   {
    "duration": 10,
    "start_time": "2022-04-15T04:53:56.761Z"
   },
   {
    "duration": 102,
    "start_time": "2022-04-15T04:53:56.774Z"
   },
   {
    "duration": 861,
    "start_time": "2022-04-15T04:53:56.879Z"
   },
   {
    "duration": 59,
    "start_time": "2022-04-15T04:53:57.743Z"
   },
   {
    "duration": 209,
    "start_time": "2022-04-15T04:53:57.804Z"
   },
   {
    "duration": 4,
    "start_time": "2022-04-15T04:53:58.016Z"
   },
   {
    "duration": 107,
    "start_time": "2022-04-15T04:53:58.024Z"
   },
   {
    "duration": 229,
    "start_time": "2022-04-15T04:53:58.134Z"
   },
   {
    "duration": 911,
    "start_time": "2022-04-15T04:53:58.366Z"
   },
   {
    "duration": 113,
    "start_time": "2022-04-15T04:53:59.279Z"
   },
   {
    "duration": 8,
    "start_time": "2022-04-15T04:53:59.395Z"
   },
   {
    "duration": 100,
    "start_time": "2022-04-15T04:53:59.406Z"
   },
   {
    "duration": 850,
    "start_time": "2022-04-15T04:53:59.509Z"
   },
   {
    "duration": 165,
    "start_time": "2022-04-15T04:54:00.361Z"
   },
   {
    "duration": 596,
    "start_time": "2022-04-15T04:54:00.529Z"
   },
   {
    "duration": 67,
    "start_time": "2022-04-15T04:54:01.127Z"
   },
   {
    "duration": 6,
    "start_time": "2022-04-15T04:54:01.197Z"
   },
   {
    "duration": 80,
    "start_time": "2022-04-15T04:54:01.205Z"
   },
   {
    "duration": 669,
    "start_time": "2022-04-15T04:54:01.287Z"
   },
   {
    "duration": 6,
    "start_time": "2022-04-15T04:54:01.959Z"
   },
   {
    "duration": 175,
    "start_time": "2022-04-15T04:54:01.968Z"
   },
   {
    "duration": 712,
    "start_time": "2022-04-15T04:54:02.146Z"
   },
   {
    "duration": 96,
    "start_time": "2022-04-15T04:54:02.862Z"
   },
   {
    "duration": 664,
    "start_time": "2022-04-15T04:54:02.969Z"
   },
   {
    "duration": 19,
    "start_time": "2022-04-15T04:54:03.636Z"
   },
   {
    "duration": 574,
    "start_time": "2022-04-15T04:54:03.657Z"
   },
   {
    "duration": 6,
    "start_time": "2022-04-15T04:54:04.233Z"
   },
   {
    "duration": 13,
    "start_time": "2022-04-15T04:54:04.253Z"
   },
   {
    "duration": 49,
    "start_time": "2022-04-15T04:54:04.268Z"
   },
   {
    "duration": 38,
    "start_time": "2022-04-15T04:54:04.320Z"
   },
   {
    "duration": 50,
    "start_time": "2022-04-15T04:54:04.360Z"
   },
   {
    "duration": 89,
    "start_time": "2022-04-15T04:54:04.413Z"
   },
   {
    "duration": 47,
    "start_time": "2022-04-15T04:54:38.362Z"
   },
   {
    "duration": 85,
    "start_time": "2022-04-15T05:05:11.678Z"
   },
   {
    "duration": 19,
    "start_time": "2022-04-15T05:20:14.985Z"
   },
   {
    "duration": 26,
    "start_time": "2022-04-15T05:20:40.586Z"
   },
   {
    "duration": 158,
    "start_time": "2022-04-15T05:21:28.485Z"
   },
   {
    "duration": 147,
    "start_time": "2022-04-15T05:21:48.289Z"
   },
   {
    "duration": 18,
    "start_time": "2022-04-15T05:21:54.542Z"
   },
   {
    "duration": 14,
    "start_time": "2022-04-15T05:22:21.177Z"
   },
   {
    "duration": 19,
    "start_time": "2022-04-15T05:22:43.738Z"
   },
   {
    "duration": 21,
    "start_time": "2022-04-15T05:23:01.041Z"
   },
   {
    "duration": 13,
    "start_time": "2022-04-15T05:23:26.000Z"
   },
   {
    "duration": 28,
    "start_time": "2022-04-15T05:23:33.758Z"
   },
   {
    "duration": 18,
    "start_time": "2022-04-15T05:24:28.135Z"
   },
   {
    "duration": 19,
    "start_time": "2022-04-15T05:25:03.642Z"
   },
   {
    "duration": 9,
    "start_time": "2022-04-15T05:25:14.334Z"
   },
   {
    "duration": 19,
    "start_time": "2022-04-15T05:26:18.211Z"
   },
   {
    "duration": 20,
    "start_time": "2022-04-15T05:27:13.673Z"
   },
   {
    "duration": 31,
    "start_time": "2022-04-15T05:27:20.250Z"
   },
   {
    "duration": 28,
    "start_time": "2022-04-15T05:34:15.656Z"
   },
   {
    "duration": 31,
    "start_time": "2022-04-15T05:34:20.598Z"
   },
   {
    "duration": 23,
    "start_time": "2022-04-15T05:36:02.349Z"
   },
   {
    "duration": 32,
    "start_time": "2022-04-15T05:36:17.371Z"
   },
   {
    "duration": 43,
    "start_time": "2022-04-15T05:36:53.772Z"
   },
   {
    "duration": 21,
    "start_time": "2022-04-15T05:38:41.149Z"
   },
   {
    "duration": 28,
    "start_time": "2022-04-15T05:39:25.244Z"
   },
   {
    "duration": 23,
    "start_time": "2022-04-15T05:39:51.811Z"
   },
   {
    "duration": 29,
    "start_time": "2022-04-15T05:41:07.243Z"
   },
   {
    "duration": 29,
    "start_time": "2022-04-15T05:41:34.659Z"
   },
   {
    "duration": 34,
    "start_time": "2022-04-15T05:41:54.540Z"
   },
   {
    "duration": 33,
    "start_time": "2022-04-15T05:42:11.855Z"
   },
   {
    "duration": 23,
    "start_time": "2022-04-15T05:42:22.145Z"
   },
   {
    "duration": 23,
    "start_time": "2022-04-15T05:42:55.742Z"
   },
   {
    "duration": 28,
    "start_time": "2022-04-15T05:43:23.788Z"
   },
   {
    "duration": 25,
    "start_time": "2022-04-15T05:45:49.409Z"
   },
   {
    "duration": 19,
    "start_time": "2022-04-15T05:45:57.635Z"
   },
   {
    "duration": 20,
    "start_time": "2022-04-15T05:46:47.414Z"
   },
   {
    "duration": 25,
    "start_time": "2022-04-15T05:47:47.013Z"
   },
   {
    "duration": 36,
    "start_time": "2022-04-15T05:48:13.639Z"
   },
   {
    "duration": 29,
    "start_time": "2022-04-15T05:48:35.185Z"
   },
   {
    "duration": 26,
    "start_time": "2022-04-15T05:48:59.927Z"
   },
   {
    "duration": 26,
    "start_time": "2022-04-15T05:49:17.862Z"
   },
   {
    "duration": 27,
    "start_time": "2022-04-15T05:49:26.543Z"
   },
   {
    "duration": 29,
    "start_time": "2022-04-15T05:49:32.319Z"
   },
   {
    "duration": 26,
    "start_time": "2022-04-15T05:51:04.032Z"
   },
   {
    "duration": 20,
    "start_time": "2022-04-15T05:51:31.857Z"
   },
   {
    "duration": 19,
    "start_time": "2022-04-15T05:52:27.414Z"
   },
   {
    "duration": 20,
    "start_time": "2022-04-15T05:52:32.312Z"
   },
   {
    "duration": 20,
    "start_time": "2022-04-15T05:52:46.236Z"
   },
   {
    "duration": 17,
    "start_time": "2022-04-15T05:52:48.844Z"
   },
   {
    "duration": 16,
    "start_time": "2022-04-15T05:53:17.818Z"
   },
   {
    "duration": 13,
    "start_time": "2022-04-15T05:53:26.151Z"
   },
   {
    "duration": 29,
    "start_time": "2022-04-15T05:53:35.535Z"
   },
   {
    "duration": 31,
    "start_time": "2022-04-15T05:54:05.210Z"
   },
   {
    "duration": 26,
    "start_time": "2022-04-15T05:55:32.407Z"
   },
   {
    "duration": 27,
    "start_time": "2022-04-15T05:55:58.073Z"
   },
   {
    "duration": 28,
    "start_time": "2022-04-15T05:56:37.294Z"
   },
   {
    "duration": 29,
    "start_time": "2022-04-15T05:56:53.474Z"
   },
   {
    "duration": 15,
    "start_time": "2022-04-15T06:01:19.955Z"
   },
   {
    "duration": 29,
    "start_time": "2022-04-15T06:01:27.689Z"
   },
   {
    "duration": 23,
    "start_time": "2022-04-15T06:02:01.182Z"
   },
   {
    "duration": 42,
    "start_time": "2022-04-15T06:02:12.058Z"
   },
   {
    "duration": 23,
    "start_time": "2022-04-15T06:02:22.977Z"
   },
   {
    "duration": 21,
    "start_time": "2022-04-15T06:02:29.666Z"
   },
   {
    "duration": 20,
    "start_time": "2022-04-15T06:02:32.686Z"
   },
   {
    "duration": 19,
    "start_time": "2022-04-15T06:04:48.594Z"
   },
   {
    "duration": 19,
    "start_time": "2022-04-15T06:40:26.895Z"
   },
   {
    "duration": 25,
    "start_time": "2022-04-15T06:40:45.428Z"
   },
   {
    "duration": 25,
    "start_time": "2022-04-15T06:41:15.330Z"
   },
   {
    "duration": 39,
    "start_time": "2022-04-15T06:42:06.451Z"
   },
   {
    "duration": 17,
    "start_time": "2022-04-15T06:42:46.315Z"
   },
   {
    "duration": 16,
    "start_time": "2022-04-15T06:43:11.997Z"
   },
   {
    "duration": 112,
    "start_time": "2022-04-15T12:45:26.135Z"
   },
   {
    "duration": 93,
    "start_time": "2022-04-15T12:46:05.320Z"
   },
   {
    "duration": 100,
    "start_time": "2022-04-15T12:54:52.773Z"
   },
   {
    "duration": 66,
    "start_time": "2022-04-15T13:03:45.231Z"
   },
   {
    "duration": 1497,
    "start_time": "2022-04-15T13:05:41.944Z"
   },
   {
    "duration": 3,
    "start_time": "2022-04-15T13:05:43.443Z"
   },
   {
    "duration": 216,
    "start_time": "2022-04-15T13:05:43.449Z"
   },
   {
    "duration": 39,
    "start_time": "2022-04-15T13:05:43.668Z"
   },
   {
    "duration": 71,
    "start_time": "2022-04-15T13:05:43.710Z"
   },
   {
    "duration": 199,
    "start_time": "2022-04-15T13:05:43.783Z"
   },
   {
    "duration": 27,
    "start_time": "2022-04-15T13:05:43.984Z"
   },
   {
    "duration": 42,
    "start_time": "2022-04-15T13:05:44.013Z"
   },
   {
    "duration": 26,
    "start_time": "2022-04-15T13:05:44.057Z"
   },
   {
    "duration": 122,
    "start_time": "2022-04-15T13:05:44.085Z"
   },
   {
    "duration": 25,
    "start_time": "2022-04-15T13:05:44.209Z"
   },
   {
    "duration": 49,
    "start_time": "2022-04-15T13:05:44.236Z"
   },
   {
    "duration": 42,
    "start_time": "2022-04-15T13:05:44.287Z"
   },
   {
    "duration": 16,
    "start_time": "2022-04-15T13:05:44.335Z"
   },
   {
    "duration": 9,
    "start_time": "2022-04-15T13:05:44.354Z"
   },
   {
    "duration": 25,
    "start_time": "2022-04-15T13:05:44.365Z"
   },
   {
    "duration": 17,
    "start_time": "2022-04-15T13:05:44.391Z"
   },
   {
    "duration": 23,
    "start_time": "2022-04-15T13:05:44.410Z"
   },
   {
    "duration": 88,
    "start_time": "2022-04-15T13:05:44.435Z"
   },
   {
    "duration": 81,
    "start_time": "2022-04-15T13:05:44.525Z"
   },
   {
    "duration": 74,
    "start_time": "2022-04-15T13:05:44.608Z"
   },
   {
    "duration": 20,
    "start_time": "2022-04-15T13:05:44.684Z"
   },
   {
    "duration": 97,
    "start_time": "2022-04-15T13:05:44.706Z"
   },
   {
    "duration": 6,
    "start_time": "2022-04-15T13:05:44.805Z"
   },
   {
    "duration": 29,
    "start_time": "2022-04-15T13:05:44.813Z"
   },
   {
    "duration": 84,
    "start_time": "2022-04-15T13:05:44.844Z"
   },
   {
    "duration": 3,
    "start_time": "2022-04-15T13:05:44.930Z"
   },
   {
    "duration": 6,
    "start_time": "2022-04-15T13:05:44.935Z"
   },
   {
    "duration": 16,
    "start_time": "2022-04-15T13:05:44.943Z"
   },
   {
    "duration": 12,
    "start_time": "2022-04-15T13:05:44.981Z"
   },
   {
    "duration": 24,
    "start_time": "2022-04-15T13:05:44.995Z"
   },
   {
    "duration": 77,
    "start_time": "2022-04-15T13:05:45.021Z"
   },
   {
    "duration": 11,
    "start_time": "2022-04-15T13:05:45.100Z"
   },
   {
    "duration": 23,
    "start_time": "2022-04-15T13:05:45.114Z"
   },
   {
    "duration": 11,
    "start_time": "2022-04-15T13:05:45.139Z"
   },
   {
    "duration": 38,
    "start_time": "2022-04-15T13:05:45.152Z"
   },
   {
    "duration": 22,
    "start_time": "2022-04-15T13:05:45.193Z"
   },
   {
    "duration": 89,
    "start_time": "2022-04-15T13:05:45.217Z"
   },
   {
    "duration": 47,
    "start_time": "2022-04-15T13:05:45.308Z"
   },
   {
    "duration": 66,
    "start_time": "2022-04-15T13:05:45.357Z"
   },
   {
    "duration": 69,
    "start_time": "2022-04-15T13:05:45.430Z"
   },
   {
    "duration": 11,
    "start_time": "2022-04-15T13:05:45.501Z"
   },
   {
    "duration": 81,
    "start_time": "2022-04-15T13:05:45.514Z"
   },
   {
    "duration": 53,
    "start_time": "2022-04-15T13:05:45.597Z"
   },
   {
    "duration": 118,
    "start_time": "2022-04-15T13:05:45.652Z"
   },
   {
    "duration": 58,
    "start_time": "2022-04-15T13:05:45.772Z"
   },
   {
    "duration": 25,
    "start_time": "2022-04-15T13:05:45.832Z"
   },
   {
    "duration": 25,
    "start_time": "2022-04-15T13:05:45.859Z"
   },
   {
    "duration": 73,
    "start_time": "2022-04-15T13:05:45.886Z"
   },
   {
    "duration": 36,
    "start_time": "2022-04-15T13:05:45.961Z"
   },
   {
    "duration": 88,
    "start_time": "2022-04-15T13:05:45.999Z"
   },
   {
    "duration": 24,
    "start_time": "2022-04-15T13:05:46.090Z"
   },
   {
    "duration": 89,
    "start_time": "2022-04-15T13:05:46.116Z"
   },
   {
    "duration": 33,
    "start_time": "2022-04-15T13:05:46.208Z"
   },
   {
    "duration": 51,
    "start_time": "2022-04-15T13:05:46.244Z"
   },
   {
    "duration": 26,
    "start_time": "2022-04-15T13:05:46.298Z"
   },
   {
    "duration": 5,
    "start_time": "2022-04-15T13:05:46.326Z"
   },
   {
    "duration": 6,
    "start_time": "2022-04-15T13:05:46.333Z"
   },
   {
    "duration": 40,
    "start_time": "2022-04-15T13:05:46.341Z"
   },
   {
    "duration": 54,
    "start_time": "2022-04-15T13:05:46.384Z"
   },
   {
    "duration": 594,
    "start_time": "2022-04-15T13:05:46.441Z"
   },
   {
    "duration": 57,
    "start_time": "2022-04-15T13:05:47.037Z"
   },
   {
    "duration": 139,
    "start_time": "2022-04-15T13:05:47.096Z"
   },
   {
    "duration": 3,
    "start_time": "2022-04-15T13:05:47.238Z"
   },
   {
    "duration": 68,
    "start_time": "2022-04-15T13:05:47.243Z"
   },
   {
    "duration": 162,
    "start_time": "2022-04-15T13:05:47.313Z"
   },
   {
    "duration": 619,
    "start_time": "2022-04-15T13:05:47.477Z"
   },
   {
    "duration": 54,
    "start_time": "2022-04-15T13:05:48.098Z"
   },
   {
    "duration": 5,
    "start_time": "2022-04-15T13:05:48.154Z"
   },
   {
    "duration": 53,
    "start_time": "2022-04-15T13:05:48.182Z"
   },
   {
    "duration": 598,
    "start_time": "2022-04-15T13:05:48.237Z"
   },
   {
    "duration": 110,
    "start_time": "2022-04-15T13:05:48.837Z"
   },
   {
    "duration": 566,
    "start_time": "2022-04-15T13:05:48.949Z"
   },
   {
    "duration": 68,
    "start_time": "2022-04-15T13:05:49.517Z"
   },
   {
    "duration": 5,
    "start_time": "2022-04-15T13:05:49.587Z"
   },
   {
    "duration": 55,
    "start_time": "2022-04-15T13:05:49.594Z"
   },
   {
    "duration": 605,
    "start_time": "2022-04-15T13:05:49.651Z"
   },
   {
    "duration": 6,
    "start_time": "2022-04-15T13:05:50.258Z"
   },
   {
    "duration": 105,
    "start_time": "2022-04-15T13:05:50.266Z"
   },
   {
    "duration": 619,
    "start_time": "2022-04-15T13:05:50.373Z"
   },
   {
    "duration": 55,
    "start_time": "2022-04-15T13:05:50.994Z"
   },
   {
    "duration": 637,
    "start_time": "2022-04-15T13:05:51.051Z"
   },
   {
    "duration": 6,
    "start_time": "2022-04-15T13:05:51.691Z"
   },
   {
    "duration": 591,
    "start_time": "2022-04-15T13:05:51.699Z"
   },
   {
    "duration": 6,
    "start_time": "2022-04-15T13:05:52.292Z"
   },
   {
    "duration": 10,
    "start_time": "2022-04-15T13:05:52.301Z"
   },
   {
    "duration": 29,
    "start_time": "2022-04-15T13:05:52.313Z"
   },
   {
    "duration": 54,
    "start_time": "2022-04-15T13:05:52.345Z"
   },
   {
    "duration": 53,
    "start_time": "2022-04-15T13:05:52.401Z"
   },
   {
    "duration": 58,
    "start_time": "2022-04-15T13:05:52.456Z"
   },
   {
    "duration": 17,
    "start_time": "2022-04-15T13:05:52.517Z"
   },
   {
    "duration": 44,
    "start_time": "2022-04-15T13:05:52.536Z"
   },
   {
    "duration": 22,
    "start_time": "2022-04-15T13:05:52.583Z"
   },
   {
    "duration": 7,
    "start_time": "2022-04-15T13:06:13.180Z"
   },
   {
    "duration": 7,
    "start_time": "2022-04-15T13:07:53.854Z"
   },
   {
    "duration": 1615,
    "start_time": "2022-04-15T15:02:06.189Z"
   },
   {
    "duration": 3,
    "start_time": "2022-04-15T15:02:07.807Z"
   },
   {
    "duration": 180,
    "start_time": "2022-04-15T15:02:07.812Z"
   },
   {
    "duration": 22,
    "start_time": "2022-04-15T15:02:07.994Z"
   },
   {
    "duration": 67,
    "start_time": "2022-04-15T15:02:08.018Z"
   },
   {
    "duration": 154,
    "start_time": "2022-04-15T15:02:08.087Z"
   },
   {
    "duration": 16,
    "start_time": "2022-04-15T15:02:08.242Z"
   },
   {
    "duration": 27,
    "start_time": "2022-04-15T15:02:08.260Z"
   },
   {
    "duration": 2,
    "start_time": "2022-04-15T15:02:08.289Z"
   },
   {
    "duration": 111,
    "start_time": "2022-04-15T15:02:08.292Z"
   },
   {
    "duration": 16,
    "start_time": "2022-04-15T15:02:08.404Z"
   },
   {
    "duration": 30,
    "start_time": "2022-04-15T15:02:08.426Z"
   },
   {
    "duration": 21,
    "start_time": "2022-04-15T15:02:08.458Z"
   },
   {
    "duration": 11,
    "start_time": "2022-04-15T15:02:08.482Z"
   },
   {
    "duration": 9,
    "start_time": "2022-04-15T15:02:08.495Z"
   },
   {
    "duration": 11,
    "start_time": "2022-04-15T15:02:08.505Z"
   },
   {
    "duration": 24,
    "start_time": "2022-04-15T15:02:08.518Z"
   },
   {
    "duration": 23,
    "start_time": "2022-04-15T15:02:08.544Z"
   },
   {
    "duration": 45,
    "start_time": "2022-04-15T15:02:08.568Z"
   },
   {
    "duration": 55,
    "start_time": "2022-04-15T15:02:08.614Z"
   },
   {
    "duration": 41,
    "start_time": "2022-04-15T15:02:08.671Z"
   },
   {
    "duration": 27,
    "start_time": "2022-04-15T15:02:08.714Z"
   },
   {
    "duration": 83,
    "start_time": "2022-04-15T15:02:08.743Z"
   },
   {
    "duration": 4,
    "start_time": "2022-04-15T15:02:08.829Z"
   },
   {
    "duration": 39,
    "start_time": "2022-04-15T15:02:08.835Z"
   },
   {
    "duration": 64,
    "start_time": "2022-04-15T15:02:08.876Z"
   },
   {
    "duration": 3,
    "start_time": "2022-04-15T15:02:08.942Z"
   },
   {
    "duration": 8,
    "start_time": "2022-04-15T15:02:08.947Z"
   },
   {
    "duration": 14,
    "start_time": "2022-04-15T15:02:08.957Z"
   },
   {
    "duration": 12,
    "start_time": "2022-04-15T15:02:08.973Z"
   },
   {
    "duration": 50,
    "start_time": "2022-04-15T15:02:08.987Z"
   },
   {
    "duration": 33,
    "start_time": "2022-04-15T15:02:09.040Z"
   },
   {
    "duration": 8,
    "start_time": "2022-04-15T15:02:09.074Z"
   },
   {
    "duration": 41,
    "start_time": "2022-04-15T15:02:09.084Z"
   },
   {
    "duration": 11,
    "start_time": "2022-04-15T15:02:09.128Z"
   },
   {
    "duration": 12,
    "start_time": "2022-04-15T15:02:09.140Z"
   },
   {
    "duration": 22,
    "start_time": "2022-04-15T15:02:09.154Z"
   },
   {
    "duration": 82,
    "start_time": "2022-04-15T15:02:09.179Z"
   },
   {
    "duration": 33,
    "start_time": "2022-04-15T15:02:09.263Z"
   },
   {
    "duration": 60,
    "start_time": "2022-04-15T15:02:09.297Z"
   },
   {
    "duration": 44,
    "start_time": "2022-04-15T15:02:09.364Z"
   },
   {
    "duration": 19,
    "start_time": "2022-04-15T15:02:09.410Z"
   },
   {
    "duration": 68,
    "start_time": "2022-04-15T15:02:09.431Z"
   },
   {
    "duration": 47,
    "start_time": "2022-04-15T15:02:09.501Z"
   },
   {
    "duration": 62,
    "start_time": "2022-04-15T15:02:09.550Z"
   },
   {
    "duration": 49,
    "start_time": "2022-04-15T15:02:09.614Z"
   },
   {
    "duration": 15,
    "start_time": "2022-04-15T15:02:09.664Z"
   },
   {
    "duration": 10,
    "start_time": "2022-04-15T15:02:09.681Z"
   },
   {
    "duration": 71,
    "start_time": "2022-04-15T15:02:09.692Z"
   },
   {
    "duration": 23,
    "start_time": "2022-04-15T15:02:09.765Z"
   },
   {
    "duration": 81,
    "start_time": "2022-04-15T15:02:09.791Z"
   },
   {
    "duration": 15,
    "start_time": "2022-04-15T15:02:09.874Z"
   },
   {
    "duration": 51,
    "start_time": "2022-04-15T15:02:09.891Z"
   },
   {
    "duration": 30,
    "start_time": "2022-04-15T15:02:09.943Z"
   },
   {
    "duration": 19,
    "start_time": "2022-04-15T15:02:09.976Z"
   },
   {
    "duration": 52,
    "start_time": "2022-04-15T15:02:09.997Z"
   },
   {
    "duration": 8,
    "start_time": "2022-04-15T15:02:10.050Z"
   },
   {
    "duration": 6,
    "start_time": "2022-04-15T15:02:10.059Z"
   },
   {
    "duration": 8,
    "start_time": "2022-04-15T15:02:10.066Z"
   },
   {
    "duration": 48,
    "start_time": "2022-04-15T15:02:10.075Z"
   },
   {
    "duration": 455,
    "start_time": "2022-04-15T15:02:10.128Z"
   },
   {
    "duration": 34,
    "start_time": "2022-04-15T15:02:10.585Z"
   },
   {
    "duration": 121,
    "start_time": "2022-04-15T15:02:10.620Z"
   },
   {
    "duration": 3,
    "start_time": "2022-04-15T15:02:10.743Z"
   },
   {
    "duration": 36,
    "start_time": "2022-04-15T15:02:10.747Z"
   },
   {
    "duration": 111,
    "start_time": "2022-04-15T15:02:10.784Z"
   },
   {
    "duration": 356,
    "start_time": "2022-04-15T15:02:10.896Z"
   },
   {
    "duration": 33,
    "start_time": "2022-04-15T15:02:11.255Z"
   },
   {
    "duration": 3,
    "start_time": "2022-04-15T15:02:11.290Z"
   },
   {
    "duration": 63,
    "start_time": "2022-04-15T15:02:11.295Z"
   },
   {
    "duration": 391,
    "start_time": "2022-04-15T15:02:11.359Z"
   },
   {
    "duration": 72,
    "start_time": "2022-04-15T15:02:11.752Z"
   },
   {
    "duration": 324,
    "start_time": "2022-04-15T15:02:11.825Z"
   },
   {
    "duration": 30,
    "start_time": "2022-04-15T15:02:12.151Z"
   },
   {
    "duration": 3,
    "start_time": "2022-04-15T15:02:12.183Z"
   },
   {
    "duration": 62,
    "start_time": "2022-04-15T15:02:12.187Z"
   },
   {
    "duration": 435,
    "start_time": "2022-04-15T15:02:12.251Z"
   },
   {
    "duration": 4,
    "start_time": "2022-04-15T15:02:12.689Z"
   },
   {
    "duration": 95,
    "start_time": "2022-04-15T15:02:12.694Z"
   },
   {
    "duration": 539,
    "start_time": "2022-04-15T15:02:12.791Z"
   },
   {
    "duration": 38,
    "start_time": "2022-04-15T15:02:13.332Z"
   },
   {
    "duration": 422,
    "start_time": "2022-04-15T15:02:13.372Z"
   },
   {
    "duration": 4,
    "start_time": "2022-04-15T15:02:13.796Z"
   },
   {
    "duration": 408,
    "start_time": "2022-04-15T15:02:13.802Z"
   },
   {
    "duration": 4,
    "start_time": "2022-04-15T15:02:14.212Z"
   },
   {
    "duration": 8,
    "start_time": "2022-04-15T15:02:14.224Z"
   },
   {
    "duration": 23,
    "start_time": "2022-04-15T15:02:14.234Z"
   },
   {
    "duration": 25,
    "start_time": "2022-04-15T15:02:14.259Z"
   },
   {
    "duration": 58,
    "start_time": "2022-04-15T15:02:14.286Z"
   },
   {
    "duration": 25,
    "start_time": "2022-04-15T15:02:14.347Z"
   },
   {
    "duration": 13,
    "start_time": "2022-04-15T15:02:14.374Z"
   },
   {
    "duration": 37,
    "start_time": "2022-04-15T15:02:14.388Z"
   },
   {
    "duration": 33,
    "start_time": "2022-04-15T15:02:14.427Z"
   },
   {
    "duration": 11,
    "start_time": "2022-04-15T15:02:22.397Z"
   },
   {
    "duration": 12,
    "start_time": "2022-04-15T15:06:34.550Z"
   },
   {
    "duration": 11,
    "start_time": "2022-04-15T16:25:56.262Z"
   },
   {
    "duration": 11,
    "start_time": "2022-04-15T16:26:03.614Z"
   },
   {
    "duration": 10,
    "start_time": "2022-04-15T16:26:12.758Z"
   },
   {
    "duration": 1161,
    "start_time": "2022-04-15T16:31:04.536Z"
   },
   {
    "duration": 2,
    "start_time": "2022-04-15T16:31:05.699Z"
   },
   {
    "duration": 156,
    "start_time": "2022-04-15T16:31:05.703Z"
   },
   {
    "duration": 20,
    "start_time": "2022-04-15T16:31:05.861Z"
   },
   {
    "duration": 44,
    "start_time": "2022-04-15T16:31:05.883Z"
   },
   {
    "duration": 132,
    "start_time": "2022-04-15T16:31:05.929Z"
   },
   {
    "duration": 17,
    "start_time": "2022-04-15T16:31:06.062Z"
   },
   {
    "duration": 44,
    "start_time": "2022-04-15T16:31:06.081Z"
   },
   {
    "duration": 2,
    "start_time": "2022-04-15T16:31:06.127Z"
   },
   {
    "duration": 97,
    "start_time": "2022-04-15T16:31:06.130Z"
   },
   {
    "duration": 20,
    "start_time": "2022-04-15T16:31:06.229Z"
   },
   {
    "duration": 21,
    "start_time": "2022-04-15T16:31:06.250Z"
   },
   {
    "duration": 23,
    "start_time": "2022-04-15T16:31:06.272Z"
   },
   {
    "duration": 10,
    "start_time": "2022-04-15T16:31:06.298Z"
   },
   {
    "duration": 17,
    "start_time": "2022-04-15T16:31:06.310Z"
   },
   {
    "duration": 20,
    "start_time": "2022-04-15T16:31:06.329Z"
   },
   {
    "duration": 7,
    "start_time": "2022-04-15T16:31:06.351Z"
   },
   {
    "duration": 19,
    "start_time": "2022-04-15T16:31:06.359Z"
   },
   {
    "duration": 46,
    "start_time": "2022-04-15T16:31:06.379Z"
   },
   {
    "duration": 46,
    "start_time": "2022-04-15T16:31:06.426Z"
   },
   {
    "duration": 60,
    "start_time": "2022-04-15T16:31:06.474Z"
   },
   {
    "duration": 13,
    "start_time": "2022-04-15T16:31:06.537Z"
   },
   {
    "duration": 52,
    "start_time": "2022-04-15T16:31:06.552Z"
   },
   {
    "duration": 22,
    "start_time": "2022-04-15T16:31:06.605Z"
   },
   {
    "duration": 31,
    "start_time": "2022-04-15T16:31:06.629Z"
   },
   {
    "duration": 38,
    "start_time": "2022-04-15T16:31:06.662Z"
   },
   {
    "duration": 2,
    "start_time": "2022-04-15T16:31:06.701Z"
   },
   {
    "duration": 4,
    "start_time": "2022-04-15T16:31:06.705Z"
   },
   {
    "duration": 15,
    "start_time": "2022-04-15T16:31:06.724Z"
   },
   {
    "duration": 11,
    "start_time": "2022-04-15T16:31:06.740Z"
   },
   {
    "duration": 16,
    "start_time": "2022-04-15T16:31:06.753Z"
   },
   {
    "duration": 30,
    "start_time": "2022-04-15T16:31:06.771Z"
   },
   {
    "duration": 24,
    "start_time": "2022-04-15T16:31:06.803Z"
   },
   {
    "duration": 21,
    "start_time": "2022-04-15T16:31:06.828Z"
   },
   {
    "duration": 5,
    "start_time": "2022-04-15T16:31:06.851Z"
   },
   {
    "duration": 6,
    "start_time": "2022-04-15T16:31:06.857Z"
   },
   {
    "duration": 15,
    "start_time": "2022-04-15T16:31:06.864Z"
   },
   {
    "duration": 70,
    "start_time": "2022-04-15T16:31:06.880Z"
   },
   {
    "duration": 30,
    "start_time": "2022-04-15T16:31:06.952Z"
   },
   {
    "duration": 40,
    "start_time": "2022-04-15T16:31:06.984Z"
   },
   {
    "duration": 30,
    "start_time": "2022-04-15T16:31:07.035Z"
   },
   {
    "duration": 7,
    "start_time": "2022-04-15T16:31:07.067Z"
   },
   {
    "duration": 61,
    "start_time": "2022-04-15T16:31:07.075Z"
   },
   {
    "duration": 33,
    "start_time": "2022-04-15T16:31:07.138Z"
   },
   {
    "duration": 79,
    "start_time": "2022-04-15T16:31:07.172Z"
   },
   {
    "duration": 31,
    "start_time": "2022-04-15T16:31:07.253Z"
   },
   {
    "duration": 15,
    "start_time": "2022-04-15T16:31:07.286Z"
   },
   {
    "duration": 22,
    "start_time": "2022-04-15T16:31:07.302Z"
   },
   {
    "duration": 56,
    "start_time": "2022-04-15T16:31:07.326Z"
   },
   {
    "duration": 14,
    "start_time": "2022-04-15T16:31:07.383Z"
   },
   {
    "duration": 52,
    "start_time": "2022-04-15T16:31:07.399Z"
   },
   {
    "duration": 13,
    "start_time": "2022-04-15T16:31:07.452Z"
   },
   {
    "duration": 38,
    "start_time": "2022-04-15T16:31:07.467Z"
   },
   {
    "duration": 29,
    "start_time": "2022-04-15T16:31:07.506Z"
   },
   {
    "duration": 19,
    "start_time": "2022-04-15T16:31:07.537Z"
   },
   {
    "duration": 14,
    "start_time": "2022-04-15T16:31:07.558Z"
   },
   {
    "duration": 7,
    "start_time": "2022-04-15T16:31:07.573Z"
   },
   {
    "duration": 4,
    "start_time": "2022-04-15T16:31:07.582Z"
   },
   {
    "duration": 6,
    "start_time": "2022-04-15T16:31:07.588Z"
   },
   {
    "duration": 53,
    "start_time": "2022-04-15T16:31:07.595Z"
   },
   {
    "duration": 395,
    "start_time": "2022-04-15T16:31:07.649Z"
   },
   {
    "duration": 33,
    "start_time": "2022-04-15T16:31:08.045Z"
   },
   {
    "duration": 91,
    "start_time": "2022-04-15T16:31:08.079Z"
   },
   {
    "duration": 2,
    "start_time": "2022-04-15T16:31:08.172Z"
   },
   {
    "duration": 32,
    "start_time": "2022-04-15T16:31:08.176Z"
   },
   {
    "duration": 105,
    "start_time": "2022-04-15T16:31:08.209Z"
   },
   {
    "duration": 333,
    "start_time": "2022-04-15T16:31:08.316Z"
   },
   {
    "duration": 33,
    "start_time": "2022-04-15T16:31:08.651Z"
   },
   {
    "duration": 4,
    "start_time": "2022-04-15T16:31:08.685Z"
   },
   {
    "duration": 52,
    "start_time": "2022-04-15T16:31:08.690Z"
   },
   {
    "duration": 388,
    "start_time": "2022-04-15T16:31:08.744Z"
   },
   {
    "duration": 62,
    "start_time": "2022-04-15T16:31:09.134Z"
   },
   {
    "duration": 306,
    "start_time": "2022-04-15T16:31:09.197Z"
   },
   {
    "duration": 37,
    "start_time": "2022-04-15T16:31:09.504Z"
   },
   {
    "duration": 3,
    "start_time": "2022-04-15T16:31:09.543Z"
   },
   {
    "duration": 28,
    "start_time": "2022-04-15T16:31:09.548Z"
   },
   {
    "duration": 388,
    "start_time": "2022-04-15T16:31:09.577Z"
   },
   {
    "duration": 4,
    "start_time": "2022-04-15T16:31:09.966Z"
   },
   {
    "duration": 65,
    "start_time": "2022-04-15T16:31:09.971Z"
   },
   {
    "duration": 355,
    "start_time": "2022-04-15T16:31:10.038Z"
   },
   {
    "duration": 52,
    "start_time": "2022-04-15T16:31:10.395Z"
   },
   {
    "duration": 396,
    "start_time": "2022-04-15T16:31:10.449Z"
   },
   {
    "duration": 4,
    "start_time": "2022-04-15T16:31:10.847Z"
   },
   {
    "duration": 405,
    "start_time": "2022-04-15T16:31:10.853Z"
   },
   {
    "duration": 5,
    "start_time": "2022-04-15T16:31:11.260Z"
   },
   {
    "duration": 6,
    "start_time": "2022-04-15T16:31:11.267Z"
   },
   {
    "duration": 15,
    "start_time": "2022-04-15T16:31:11.275Z"
   },
   {
    "duration": 44,
    "start_time": "2022-04-15T16:31:11.292Z"
   },
   {
    "duration": 34,
    "start_time": "2022-04-15T16:31:11.338Z"
   },
   {
    "duration": 20,
    "start_time": "2022-04-15T16:31:11.374Z"
   },
   {
    "duration": 35,
    "start_time": "2022-04-15T16:31:11.395Z"
   },
   {
    "duration": 12,
    "start_time": "2022-04-15T16:31:11.433Z"
   },
   {
    "duration": 23,
    "start_time": "2022-04-15T16:31:11.447Z"
   },
   {
    "duration": 44,
    "start_time": "2022-04-17T04:03:34.276Z"
   },
   {
    "duration": 1225,
    "start_time": "2022-04-17T04:03:42.866Z"
   },
   {
    "duration": 3,
    "start_time": "2022-04-17T04:03:44.093Z"
   },
   {
    "duration": 159,
    "start_time": "2022-04-17T04:03:44.097Z"
   },
   {
    "duration": 24,
    "start_time": "2022-04-17T04:03:44.258Z"
   },
   {
    "duration": 38,
    "start_time": "2022-04-17T04:03:44.284Z"
   },
   {
    "duration": 160,
    "start_time": "2022-04-17T04:03:44.323Z"
   },
   {
    "duration": 20,
    "start_time": "2022-04-17T04:03:44.485Z"
   },
   {
    "duration": 47,
    "start_time": "2022-04-17T04:03:44.506Z"
   },
   {
    "duration": 2,
    "start_time": "2022-04-17T04:03:44.555Z"
   },
   {
    "duration": 89,
    "start_time": "2022-04-17T04:03:44.560Z"
   },
   {
    "duration": 17,
    "start_time": "2022-04-17T04:03:44.651Z"
   },
   {
    "duration": 20,
    "start_time": "2022-04-17T04:03:44.670Z"
   },
   {
    "duration": 22,
    "start_time": "2022-04-17T04:03:44.692Z"
   },
   {
    "duration": 11,
    "start_time": "2022-04-17T04:03:44.715Z"
   },
   {
    "duration": 5,
    "start_time": "2022-04-17T04:03:44.748Z"
   },
   {
    "duration": 10,
    "start_time": "2022-04-17T04:03:44.754Z"
   },
   {
    "duration": 8,
    "start_time": "2022-04-17T04:03:44.765Z"
   },
   {
    "duration": 18,
    "start_time": "2022-04-17T04:03:44.774Z"
   },
   {
    "duration": 71,
    "start_time": "2022-04-17T04:03:44.793Z"
   },
   {
    "duration": 49,
    "start_time": "2022-04-17T04:03:44.866Z"
   },
   {
    "duration": 59,
    "start_time": "2022-04-17T04:03:44.917Z"
   },
   {
    "duration": 13,
    "start_time": "2022-04-17T04:03:44.978Z"
   },
   {
    "duration": 67,
    "start_time": "2022-04-17T04:03:44.992Z"
   },
   {
    "duration": 4,
    "start_time": "2022-04-17T04:03:45.061Z"
   },
   {
    "duration": 19,
    "start_time": "2022-04-17T04:03:45.067Z"
   },
   {
    "duration": 40,
    "start_time": "2022-04-17T04:03:45.088Z"
   },
   {
    "duration": 19,
    "start_time": "2022-04-17T04:03:45.130Z"
   },
   {
    "duration": 2,
    "start_time": "2022-04-17T04:03:45.153Z"
   },
   {
    "duration": 14,
    "start_time": "2022-04-17T04:03:45.156Z"
   },
   {
    "duration": 8,
    "start_time": "2022-04-17T04:03:45.172Z"
   },
   {
    "duration": 15,
    "start_time": "2022-04-17T04:03:45.182Z"
   },
   {
    "duration": 60,
    "start_time": "2022-04-17T04:03:45.198Z"
   },
   {
    "duration": 8,
    "start_time": "2022-04-17T04:03:45.259Z"
   },
   {
    "duration": 17,
    "start_time": "2022-04-17T04:03:45.268Z"
   },
   {
    "duration": 6,
    "start_time": "2022-04-17T04:03:45.287Z"
   },
   {
    "duration": 6,
    "start_time": "2022-04-17T04:03:45.294Z"
   },
   {
    "duration": 16,
    "start_time": "2022-04-17T04:03:45.301Z"
   },
   {
    "duration": 71,
    "start_time": "2022-04-17T04:03:45.318Z"
   },
   {
    "duration": 33,
    "start_time": "2022-04-17T04:03:45.391Z"
   },
   {
    "duration": 43,
    "start_time": "2022-04-17T04:03:45.425Z"
   },
   {
    "duration": 30,
    "start_time": "2022-04-17T04:03:45.470Z"
   },
   {
    "duration": 7,
    "start_time": "2022-04-17T04:03:45.502Z"
   },
   {
    "duration": 67,
    "start_time": "2022-04-17T04:03:45.510Z"
   },
   {
    "duration": 37,
    "start_time": "2022-04-17T04:03:45.578Z"
   },
   {
    "duration": 76,
    "start_time": "2022-04-17T04:03:45.616Z"
   },
   {
    "duration": 33,
    "start_time": "2022-04-17T04:03:45.694Z"
   },
   {
    "duration": 30,
    "start_time": "2022-04-17T04:03:45.729Z"
   },
   {
    "duration": 3,
    "start_time": "2022-04-17T04:03:45.761Z"
   },
   {
    "duration": 39,
    "start_time": "2022-04-17T04:03:45.765Z"
   },
   {
    "duration": 14,
    "start_time": "2022-04-17T04:03:45.806Z"
   },
   {
    "duration": 63,
    "start_time": "2022-04-17T04:03:45.822Z"
   },
   {
    "duration": 14,
    "start_time": "2022-04-17T04:03:45.887Z"
   },
   {
    "duration": 53,
    "start_time": "2022-04-17T04:03:45.902Z"
   },
   {
    "duration": 19,
    "start_time": "2022-04-17T04:03:45.956Z"
   },
   {
    "duration": 16,
    "start_time": "2022-04-17T04:03:45.977Z"
   },
   {
    "duration": 14,
    "start_time": "2022-04-17T04:03:45.994Z"
   },
   {
    "duration": 3,
    "start_time": "2022-04-17T04:03:46.010Z"
   },
   {
    "duration": 4,
    "start_time": "2022-04-17T04:03:46.015Z"
   },
   {
    "duration": 3,
    "start_time": "2022-04-17T04:03:46.048Z"
   },
   {
    "duration": 30,
    "start_time": "2022-04-17T04:03:46.053Z"
   },
   {
    "duration": 421,
    "start_time": "2022-04-17T04:03:46.085Z"
   },
   {
    "duration": 44,
    "start_time": "2022-04-17T04:03:46.508Z"
   },
   {
    "duration": 95,
    "start_time": "2022-04-17T04:03:46.553Z"
   },
   {
    "duration": 2,
    "start_time": "2022-04-17T04:03:46.650Z"
   },
   {
    "duration": 34,
    "start_time": "2022-04-17T04:03:46.654Z"
   },
   {
    "duration": 113,
    "start_time": "2022-04-17T04:03:46.690Z"
   },
   {
    "duration": 307,
    "start_time": "2022-04-17T04:03:46.804Z"
   },
   {
    "duration": 40,
    "start_time": "2022-04-17T04:03:47.112Z"
   },
   {
    "duration": 3,
    "start_time": "2022-04-17T04:03:47.154Z"
   },
   {
    "duration": 32,
    "start_time": "2022-04-17T04:03:47.158Z"
   },
   {
    "duration": 378,
    "start_time": "2022-04-17T04:03:47.191Z"
   },
   {
    "duration": 63,
    "start_time": "2022-04-17T04:03:47.570Z"
   },
   {
    "duration": 286,
    "start_time": "2022-04-17T04:03:47.634Z"
   },
   {
    "duration": 38,
    "start_time": "2022-04-17T04:03:47.922Z"
   },
   {
    "duration": 4,
    "start_time": "2022-04-17T04:03:47.962Z"
   },
   {
    "duration": 30,
    "start_time": "2022-04-17T04:03:47.967Z"
   },
   {
    "duration": 436,
    "start_time": "2022-04-17T04:03:47.999Z"
   },
   {
    "duration": 4,
    "start_time": "2022-04-17T04:03:48.437Z"
   },
   {
    "duration": 58,
    "start_time": "2022-04-17T04:03:48.448Z"
   },
   {
    "duration": 273,
    "start_time": "2022-04-17T04:03:48.508Z"
   },
   {
    "duration": 31,
    "start_time": "2022-04-17T04:03:48.783Z"
   },
   {
    "duration": 12,
    "start_time": "2022-04-17T04:03:48.819Z"
   },
   {
    "duration": 369,
    "start_time": "2022-04-17T04:03:48.848Z"
   },
   {
    "duration": 5,
    "start_time": "2022-04-17T04:03:49.219Z"
   },
   {
    "duration": 366,
    "start_time": "2022-04-17T04:03:49.226Z"
   },
   {
    "duration": 5,
    "start_time": "2022-04-17T04:03:49.594Z"
   },
   {
    "duration": 7,
    "start_time": "2022-04-17T04:03:49.601Z"
   },
   {
    "duration": 10,
    "start_time": "2022-04-17T04:03:49.609Z"
   },
   {
    "duration": 49,
    "start_time": "2022-04-17T04:03:49.621Z"
   },
   {
    "duration": 34,
    "start_time": "2022-04-17T04:03:49.672Z"
   },
   {
    "duration": 48,
    "start_time": "2022-04-17T04:03:49.708Z"
   },
   {
    "duration": 11,
    "start_time": "2022-04-17T04:03:49.757Z"
   },
   {
    "duration": 9,
    "start_time": "2022-04-17T04:03:49.770Z"
   },
   {
    "duration": 18,
    "start_time": "2022-04-17T04:03:49.780Z"
   },
   {
    "duration": 12,
    "start_time": "2022-04-17T04:05:26.140Z"
   },
   {
    "duration": 12,
    "start_time": "2022-04-17T04:05:51.961Z"
   },
   {
    "duration": 8,
    "start_time": "2022-04-17T04:06:23.443Z"
   },
   {
    "duration": 11,
    "start_time": "2022-04-17T04:06:33.965Z"
   },
   {
    "duration": 8,
    "start_time": "2022-04-17T04:06:40.180Z"
   },
   {
    "duration": 115,
    "start_time": "2022-04-17T04:09:17.189Z"
   },
   {
    "duration": 109,
    "start_time": "2022-04-17T04:09:22.629Z"
   },
   {
    "duration": 134,
    "start_time": "2022-04-17T04:09:34.944Z"
   },
   {
    "duration": 93,
    "start_time": "2022-04-17T04:10:37.844Z"
   },
   {
    "duration": 132,
    "start_time": "2022-04-17T04:10:54.053Z"
   },
   {
    "duration": 12,
    "start_time": "2022-04-17T04:11:40.488Z"
   },
   {
    "duration": 13,
    "start_time": "2022-04-17T04:11:55.880Z"
   },
   {
    "duration": 12,
    "start_time": "2022-04-17T04:12:21.113Z"
   },
   {
    "duration": 11,
    "start_time": "2022-04-17T04:12:35.506Z"
   },
   {
    "duration": 13,
    "start_time": "2022-04-17T04:12:50.808Z"
   },
   {
    "duration": 13,
    "start_time": "2022-04-17T04:13:16.493Z"
   },
   {
    "duration": 7,
    "start_time": "2022-04-17T04:14:24.001Z"
   },
   {
    "duration": 7,
    "start_time": "2022-04-17T04:14:36.166Z"
   },
   {
    "duration": 20,
    "start_time": "2022-04-17T04:16:57.210Z"
   },
   {
    "duration": 10,
    "start_time": "2022-04-17T04:17:21.487Z"
   },
   {
    "duration": 7,
    "start_time": "2022-04-17T04:17:28.463Z"
   },
   {
    "duration": 11,
    "start_time": "2022-04-17T04:17:32.129Z"
   },
   {
    "duration": 13,
    "start_time": "2022-04-17T04:17:36.414Z"
   },
   {
    "duration": 16,
    "start_time": "2022-04-17T04:17:57.784Z"
   },
   {
    "duration": 18,
    "start_time": "2022-04-17T04:18:40.774Z"
   },
   {
    "duration": 18,
    "start_time": "2022-04-17T04:18:51.607Z"
   },
   {
    "duration": 112,
    "start_time": "2022-04-17T04:20:01.601Z"
   },
   {
    "duration": 130,
    "start_time": "2022-04-17T04:20:09.400Z"
   },
   {
    "duration": 23,
    "start_time": "2022-04-17T04:20:23.851Z"
   },
   {
    "duration": 22,
    "start_time": "2022-04-17T04:20:49.745Z"
   },
   {
    "duration": 24,
    "start_time": "2022-04-17T04:21:19.171Z"
   },
   {
    "duration": 8,
    "start_time": "2022-04-17T04:22:38.328Z"
   },
   {
    "duration": 10,
    "start_time": "2022-04-17T04:22:43.240Z"
   },
   {
    "duration": 20,
    "start_time": "2022-04-17T04:22:55.659Z"
   },
   {
    "duration": 20,
    "start_time": "2022-04-17T04:23:01.556Z"
   },
   {
    "duration": 4,
    "start_time": "2022-04-17T05:02:43.951Z"
   },
   {
    "duration": 6,
    "start_time": "2022-04-17T05:02:47.447Z"
   },
   {
    "duration": 70,
    "start_time": "2022-04-17T05:03:40.719Z"
   },
   {
    "duration": 268,
    "start_time": "2022-04-17T05:03:43.529Z"
   },
   {
    "duration": 30,
    "start_time": "2022-04-17T05:03:44.599Z"
   },
   {
    "duration": 7,
    "start_time": "2022-04-17T05:03:52.044Z"
   },
   {
    "duration": 26,
    "start_time": "2022-04-17T05:04:03.459Z"
   },
   {
    "duration": 9,
    "start_time": "2022-04-17T05:04:18.213Z"
   },
   {
    "duration": 20,
    "start_time": "2022-04-17T05:04:36.853Z"
   },
   {
    "duration": 20,
    "start_time": "2022-04-17T05:04:41.232Z"
   },
   {
    "duration": 10,
    "start_time": "2022-04-17T05:04:49.696Z"
   },
   {
    "duration": 24,
    "start_time": "2022-04-17T05:04:57.670Z"
   },
   {
    "duration": 24,
    "start_time": "2022-04-17T05:05:05.476Z"
   },
   {
    "duration": 25,
    "start_time": "2022-04-17T05:05:30.382Z"
   },
   {
    "duration": 25,
    "start_time": "2022-04-17T05:06:06.736Z"
   },
   {
    "duration": 23,
    "start_time": "2022-04-17T05:06:16.734Z"
   },
   {
    "duration": 24,
    "start_time": "2022-04-17T05:06:25.678Z"
   },
   {
    "duration": 24,
    "start_time": "2022-04-17T05:06:32.510Z"
   },
   {
    "duration": 24,
    "start_time": "2022-04-17T05:06:39.294Z"
   },
   {
    "duration": 22,
    "start_time": "2022-04-17T05:06:46.753Z"
   },
   {
    "duration": 23,
    "start_time": "2022-04-17T05:06:56.913Z"
   },
   {
    "duration": 24,
    "start_time": "2022-04-17T05:07:01.335Z"
   },
   {
    "duration": 24,
    "start_time": "2022-04-17T05:07:08.613Z"
   },
   {
    "duration": 24,
    "start_time": "2022-04-17T05:07:15.208Z"
   },
   {
    "duration": 22,
    "start_time": "2022-04-17T05:07:24.832Z"
   },
   {
    "duration": 27,
    "start_time": "2022-04-17T05:07:28.926Z"
   },
   {
    "duration": 24,
    "start_time": "2022-04-17T05:07:35.121Z"
   },
   {
    "duration": 25,
    "start_time": "2022-04-17T05:07:39.575Z"
   },
   {
    "duration": 105,
    "start_time": "2022-04-17T05:08:03.551Z"
   },
   {
    "duration": 302,
    "start_time": "2022-04-17T05:08:05.770Z"
   },
   {
    "duration": 31,
    "start_time": "2022-04-17T05:08:06.798Z"
   },
   {
    "duration": 4,
    "start_time": "2022-04-17T05:08:08.464Z"
   },
   {
    "duration": 25,
    "start_time": "2022-04-17T05:08:14.607Z"
   },
   {
    "duration": 120,
    "start_time": "2022-04-17T05:09:09.330Z"
   },
   {
    "duration": 27,
    "start_time": "2022-04-17T05:09:25.823Z"
   },
   {
    "duration": 30,
    "start_time": "2022-04-17T05:09:46.544Z"
   },
   {
    "duration": 22,
    "start_time": "2022-04-17T05:11:26.042Z"
   },
   {
    "duration": 19,
    "start_time": "2022-04-17T05:11:34.368Z"
   },
   {
    "duration": 26,
    "start_time": "2022-04-17T05:11:39.159Z"
   },
   {
    "duration": 19,
    "start_time": "2022-04-17T05:12:17.830Z"
   },
   {
    "duration": 29,
    "start_time": "2022-04-17T05:12:23.447Z"
   },
   {
    "duration": 29,
    "start_time": "2022-04-17T05:12:58.323Z"
   },
   {
    "duration": 28,
    "start_time": "2022-04-17T05:13:15.304Z"
   },
   {
    "duration": 96,
    "start_time": "2022-04-17T05:39:05.702Z"
   },
   {
    "duration": 304,
    "start_time": "2022-04-17T05:39:06.598Z"
   },
   {
    "duration": 32,
    "start_time": "2022-04-17T05:39:07.575Z"
   },
   {
    "duration": 68,
    "start_time": "2022-04-17T05:39:29.351Z"
   },
   {
    "duration": 116,
    "start_time": "2022-04-17T05:39:53.520Z"
   },
   {
    "duration": 30,
    "start_time": "2022-04-17T05:40:01.029Z"
   },
   {
    "duration": 103,
    "start_time": "2022-04-17T05:40:21.295Z"
   },
   {
    "duration": 8,
    "start_time": "2022-04-17T05:41:55.265Z"
   },
   {
    "duration": 7,
    "start_time": "2022-04-17T05:41:59.416Z"
   },
   {
    "duration": 1695,
    "start_time": "2022-04-17T05:42:33.540Z"
   },
   {
    "duration": 32,
    "start_time": "2022-04-17T05:42:55.154Z"
   },
   {
    "duration": 37,
    "start_time": "2022-04-17T05:46:07.674Z"
   },
   {
    "duration": 104,
    "start_time": "2022-04-17T06:13:56.455Z"
   },
   {
    "duration": 39,
    "start_time": "2022-04-17T06:17:01.803Z"
   },
   {
    "duration": 45,
    "start_time": "2022-04-17T06:18:16.954Z"
   },
   {
    "duration": 39,
    "start_time": "2022-04-17T06:18:47.438Z"
   },
   {
    "duration": 38,
    "start_time": "2022-04-17T06:18:52.968Z"
   },
   {
    "duration": 36,
    "start_time": "2022-04-17T06:18:56.514Z"
   },
   {
    "duration": 35,
    "start_time": "2022-04-17T06:19:07.754Z"
   },
   {
    "duration": 42,
    "start_time": "2022-04-17T06:19:25.060Z"
   },
   {
    "duration": 41,
    "start_time": "2022-04-17T06:20:27.013Z"
   },
   {
    "duration": 36,
    "start_time": "2022-04-17T06:20:51.531Z"
   },
   {
    "duration": 48,
    "start_time": "2022-04-17T06:21:06.628Z"
   },
   {
    "duration": 48,
    "start_time": "2022-04-17T06:21:54.181Z"
   },
   {
    "duration": 41,
    "start_time": "2022-04-17T06:22:27.740Z"
   },
   {
    "duration": 48,
    "start_time": "2022-04-17T06:22:38.542Z"
   },
   {
    "duration": 42,
    "start_time": "2022-04-17T06:22:59.028Z"
   },
   {
    "duration": 50,
    "start_time": "2022-04-17T06:23:06.804Z"
   },
   {
    "duration": 53,
    "start_time": "2022-04-17T06:23:48.060Z"
   },
   {
    "duration": 46,
    "start_time": "2022-04-17T06:24:11.644Z"
   },
   {
    "duration": 44,
    "start_time": "2022-04-17T06:25:20.205Z"
   },
   {
    "duration": 1832,
    "start_time": "2022-04-17T06:25:31.042Z"
   },
   {
    "duration": 52,
    "start_time": "2022-04-17T06:26:09.301Z"
   },
   {
    "duration": 66,
    "start_time": "2022-04-17T06:28:15.724Z"
   },
   {
    "duration": 63,
    "start_time": "2022-04-17T06:28:36.877Z"
   },
   {
    "duration": 66,
    "start_time": "2022-04-17T06:28:48.492Z"
   },
   {
    "duration": 1902,
    "start_time": "2022-04-17T06:29:29.525Z"
   },
   {
    "duration": 1773,
    "start_time": "2022-04-17T06:29:45.381Z"
   },
   {
    "duration": 65,
    "start_time": "2022-04-17T06:30:03.916Z"
   },
   {
    "duration": 59,
    "start_time": "2022-04-17T06:31:36.627Z"
   },
   {
    "duration": 65,
    "start_time": "2022-04-17T06:31:47.966Z"
   },
   {
    "duration": 1898,
    "start_time": "2022-04-17T06:31:58.651Z"
   },
   {
    "duration": 928,
    "start_time": "2022-04-17T06:32:14.696Z"
   },
   {
    "duration": 54,
    "start_time": "2022-04-17T06:32:27.405Z"
   },
   {
    "duration": 60,
    "start_time": "2022-04-17T06:32:38.246Z"
   },
   {
    "duration": 61,
    "start_time": "2022-04-17T06:33:45.326Z"
   },
   {
    "duration": 54,
    "start_time": "2022-04-17T06:34:10.414Z"
   },
   {
    "duration": 24,
    "start_time": "2022-04-17T06:35:21.136Z"
   },
   {
    "duration": 32,
    "start_time": "2022-04-17T06:35:37.640Z"
   },
   {
    "duration": 36,
    "start_time": "2022-04-17T06:36:34.910Z"
   },
   {
    "duration": 1713,
    "start_time": "2022-04-17T06:37:04.039Z"
   },
   {
    "duration": 1774,
    "start_time": "2022-04-17T06:37:14.877Z"
   },
   {
    "duration": 30,
    "start_time": "2022-04-17T06:37:35.786Z"
   },
   {
    "duration": 1719,
    "start_time": "2022-04-17T06:37:56.945Z"
   },
   {
    "duration": 31,
    "start_time": "2022-04-17T06:38:02.551Z"
   },
   {
    "duration": 12,
    "start_time": "2022-04-17T06:38:34.502Z"
   },
   {
    "duration": 11,
    "start_time": "2022-04-17T06:38:47.930Z"
   },
   {
    "duration": 1759,
    "start_time": "2022-04-17T06:39:06.706Z"
   },
   {
    "duration": 31,
    "start_time": "2022-04-17T06:39:15.731Z"
   },
   {
    "duration": 31,
    "start_time": "2022-04-17T06:45:12.000Z"
   },
   {
    "duration": 8,
    "start_time": "2022-04-17T06:45:16.248Z"
   },
   {
    "duration": 18,
    "start_time": "2022-04-17T06:45:20.848Z"
   },
   {
    "duration": 26,
    "start_time": "2022-04-17T06:45:34.297Z"
   },
   {
    "duration": 17,
    "start_time": "2022-04-17T06:45:35.864Z"
   },
   {
    "duration": 1786,
    "start_time": "2022-04-17T06:46:04.972Z"
   },
   {
    "duration": 1658,
    "start_time": "2022-04-17T06:46:38.808Z"
   },
   {
    "duration": 1770,
    "start_time": "2022-04-17T06:47:23.176Z"
   },
   {
    "duration": 18,
    "start_time": "2022-04-17T06:47:41.664Z"
   },
   {
    "duration": 18,
    "start_time": "2022-04-17T06:47:53.594Z"
   },
   {
    "duration": 26,
    "start_time": "2022-04-17T06:48:07.617Z"
   },
   {
    "duration": 18,
    "start_time": "2022-04-17T06:48:10.024Z"
   },
   {
    "duration": 16,
    "start_time": "2022-04-17T06:48:22.359Z"
   },
   {
    "duration": 106,
    "start_time": "2022-04-17T06:48:28.409Z"
   },
   {
    "duration": 12,
    "start_time": "2022-04-17T06:48:32.880Z"
   },
   {
    "duration": 15,
    "start_time": "2022-04-17T06:48:40.208Z"
   },
   {
    "duration": 18,
    "start_time": "2022-04-17T06:48:51.282Z"
   },
   {
    "duration": 9,
    "start_time": "2022-04-17T06:50:07.529Z"
   },
   {
    "duration": 18,
    "start_time": "2022-04-17T06:50:14.220Z"
   },
   {
    "duration": 10,
    "start_time": "2022-04-17T06:50:55.004Z"
   },
   {
    "duration": 9,
    "start_time": "2022-04-17T06:51:29.570Z"
   },
   {
    "duration": 18,
    "start_time": "2022-04-17T06:51:32.881Z"
   },
   {
    "duration": 115,
    "start_time": "2022-04-17T06:51:52.157Z"
   },
   {
    "duration": 20,
    "start_time": "2022-04-17T06:52:06.536Z"
   },
   {
    "duration": 21,
    "start_time": "2022-04-17T06:52:29.640Z"
   },
   {
    "duration": 20,
    "start_time": "2022-04-17T06:52:59.904Z"
   },
   {
    "duration": 18,
    "start_time": "2022-04-17T06:54:22.790Z"
   },
   {
    "duration": 18,
    "start_time": "2022-04-17T06:56:25.114Z"
   },
   {
    "duration": 20,
    "start_time": "2022-04-17T06:56:44.673Z"
   },
   {
    "duration": 20,
    "start_time": "2022-04-17T06:57:41.580Z"
   },
   {
    "duration": 28,
    "start_time": "2022-04-17T07:21:04.105Z"
   },
   {
    "duration": 18,
    "start_time": "2022-04-17T07:24:15.229Z"
   },
   {
    "duration": 13,
    "start_time": "2022-04-17T07:25:37.219Z"
   },
   {
    "duration": 14,
    "start_time": "2022-04-17T07:26:06.107Z"
   },
   {
    "duration": 14,
    "start_time": "2022-04-17T07:26:24.219Z"
   },
   {
    "duration": 13,
    "start_time": "2022-04-17T07:26:35.566Z"
   },
   {
    "duration": 18,
    "start_time": "2022-04-17T07:27:13.781Z"
   },
   {
    "duration": 17,
    "start_time": "2022-04-17T07:28:37.972Z"
   },
   {
    "duration": 27,
    "start_time": "2022-04-17T07:32:44.371Z"
   },
   {
    "duration": 34,
    "start_time": "2022-04-17T07:34:53.555Z"
   },
   {
    "duration": 36,
    "start_time": "2022-04-17T07:35:24.949Z"
   },
   {
    "duration": 33,
    "start_time": "2022-04-17T07:36:08.695Z"
   },
   {
    "duration": 33,
    "start_time": "2022-04-17T07:36:15.980Z"
   },
   {
    "duration": 34,
    "start_time": "2022-04-17T07:36:32.628Z"
   },
   {
    "duration": 34,
    "start_time": "2022-04-17T07:37:05.231Z"
   },
   {
    "duration": 38,
    "start_time": "2022-04-17T07:37:14.822Z"
   },
   {
    "duration": 36,
    "start_time": "2022-04-17T07:38:10.075Z"
   },
   {
    "duration": 38,
    "start_time": "2022-04-17T07:41:13.470Z"
   },
   {
    "duration": 37,
    "start_time": "2022-04-17T07:41:26.489Z"
   },
   {
    "duration": 39,
    "start_time": "2022-04-17T07:41:31.713Z"
   },
   {
    "duration": 40,
    "start_time": "2022-04-17T07:41:45.985Z"
   },
   {
    "duration": 38,
    "start_time": "2022-04-17T07:42:19.929Z"
   },
   {
    "duration": 34,
    "start_time": "2022-04-17T07:42:29.076Z"
   },
   {
    "duration": 34,
    "start_time": "2022-04-17T07:42:43.327Z"
   },
   {
    "duration": 33,
    "start_time": "2022-04-17T07:42:48.536Z"
   },
   {
    "duration": 35,
    "start_time": "2022-04-17T07:42:52.122Z"
   },
   {
    "duration": 37,
    "start_time": "2022-04-17T07:42:59.150Z"
   },
   {
    "duration": 37,
    "start_time": "2022-04-17T07:43:11.265Z"
   },
   {
    "duration": 46,
    "start_time": "2022-04-17T07:44:12.820Z"
   },
   {
    "duration": 41,
    "start_time": "2022-04-17T07:44:47.795Z"
   },
   {
    "duration": 40,
    "start_time": "2022-04-17T07:45:19.038Z"
   },
   {
    "duration": 19,
    "start_time": "2022-04-17T07:47:42.547Z"
   },
   {
    "duration": 30,
    "start_time": "2022-04-17T07:47:48.240Z"
   },
   {
    "duration": 25,
    "start_time": "2022-04-17T07:47:54.537Z"
   },
   {
    "duration": 29,
    "start_time": "2022-04-17T07:49:24.450Z"
   },
   {
    "duration": 1837,
    "start_time": "2022-04-17T07:50:23.495Z"
   },
   {
    "duration": 25,
    "start_time": "2022-04-17T07:50:39.298Z"
   },
   {
    "duration": 30,
    "start_time": "2022-04-17T07:50:40.178Z"
   },
   {
    "duration": 6,
    "start_time": "2022-04-17T07:51:08.018Z"
   },
   {
    "duration": 10,
    "start_time": "2022-04-17T07:53:36.369Z"
   },
   {
    "duration": 9,
    "start_time": "2022-04-17T07:53:44.164Z"
   },
   {
    "duration": 13,
    "start_time": "2022-04-17T07:53:50.096Z"
   },
   {
    "duration": 14,
    "start_time": "2022-04-17T07:55:31.216Z"
   },
   {
    "duration": 100,
    "start_time": "2022-04-17T07:57:14.541Z"
   },
   {
    "duration": 14,
    "start_time": "2022-04-17T07:57:19.121Z"
   },
   {
    "duration": 18,
    "start_time": "2022-04-17T07:58:08.688Z"
   },
   {
    "duration": 19,
    "start_time": "2022-04-17T07:59:01.446Z"
   },
   {
    "duration": 15,
    "start_time": "2022-04-17T07:59:18.894Z"
   },
   {
    "duration": 19,
    "start_time": "2022-04-17T08:46:46.047Z"
   },
   {
    "duration": 20,
    "start_time": "2022-04-17T08:46:58.675Z"
   },
   {
    "duration": 26,
    "start_time": "2022-04-17T08:48:11.414Z"
   },
   {
    "duration": 26,
    "start_time": "2022-04-17T08:48:48.516Z"
   },
   {
    "duration": 20,
    "start_time": "2022-04-17T08:48:49.832Z"
   },
   {
    "duration": 13,
    "start_time": "2022-04-17T08:48:56.187Z"
   },
   {
    "duration": 12,
    "start_time": "2022-04-17T08:48:58.788Z"
   },
   {
    "duration": 24,
    "start_time": "2022-04-17T08:49:12.085Z"
   },
   {
    "duration": 31,
    "start_time": "2022-04-17T08:49:13.309Z"
   },
   {
    "duration": 14,
    "start_time": "2022-04-17T08:49:16.338Z"
   },
   {
    "duration": 20,
    "start_time": "2022-04-17T08:49:17.641Z"
   },
   {
    "duration": 1842,
    "start_time": "2022-04-17T08:50:08.980Z"
   },
   {
    "duration": 22,
    "start_time": "2022-04-17T08:50:15.220Z"
   },
   {
    "duration": 15,
    "start_time": "2022-04-17T08:50:51.589Z"
   },
   {
    "duration": 26,
    "start_time": "2022-04-17T08:51:07.584Z"
   },
   {
    "duration": 28,
    "start_time": "2022-04-17T08:51:20.642Z"
   },
   {
    "duration": 16,
    "start_time": "2022-04-17T08:51:29.044Z"
   },
   {
    "duration": 16,
    "start_time": "2022-04-17T08:52:07.204Z"
   },
   {
    "duration": 11,
    "start_time": "2022-04-17T08:52:46.710Z"
   },
   {
    "duration": 13,
    "start_time": "2022-04-17T08:53:23.911Z"
   },
   {
    "duration": 135,
    "start_time": "2022-04-17T08:55:10.481Z"
   },
   {
    "duration": 101,
    "start_time": "2022-04-17T08:55:14.622Z"
   },
   {
    "duration": 19,
    "start_time": "2022-04-17T08:55:36.852Z"
   },
   {
    "duration": 107,
    "start_time": "2022-04-17T08:56:36.382Z"
   },
   {
    "duration": 16,
    "start_time": "2022-04-17T08:56:41.637Z"
   },
   {
    "duration": 17,
    "start_time": "2022-04-17T08:58:30.247Z"
   },
   {
    "duration": 1711,
    "start_time": "2022-04-17T08:59:22.728Z"
   },
   {
    "duration": 29,
    "start_time": "2022-04-17T08:59:33.408Z"
   },
   {
    "duration": 30,
    "start_time": "2022-04-17T08:59:34.213Z"
   },
   {
    "duration": 24,
    "start_time": "2022-04-17T09:00:22.046Z"
   },
   {
    "duration": 14,
    "start_time": "2022-04-17T11:13:27.648Z"
   },
   {
    "duration": 1839,
    "start_time": "2022-04-17T11:14:39.727Z"
   },
   {
    "duration": 29,
    "start_time": "2022-04-17T11:14:56.975Z"
   },
   {
    "duration": 26,
    "start_time": "2022-04-17T11:14:58.025Z"
   },
   {
    "duration": 30,
    "start_time": "2022-04-17T11:16:53.096Z"
   },
   {
    "duration": 24,
    "start_time": "2022-04-17T11:16:58.811Z"
   },
   {
    "duration": 22,
    "start_time": "2022-04-17T11:17:07.012Z"
   },
   {
    "duration": 25,
    "start_time": "2022-04-17T11:17:09.404Z"
   },
   {
    "duration": 17,
    "start_time": "2022-04-17T11:17:14.253Z"
   },
   {
    "duration": 14,
    "start_time": "2022-04-17T11:17:19.291Z"
   },
   {
    "duration": 16,
    "start_time": "2022-04-17T11:17:20.573Z"
   },
   {
    "duration": 20,
    "start_time": "2022-04-17T11:17:51.293Z"
   },
   {
    "duration": 27,
    "start_time": "2022-04-17T11:17:52.399Z"
   },
   {
    "duration": 1753,
    "start_time": "2022-04-17T11:18:04.110Z"
   },
   {
    "duration": 29,
    "start_time": "2022-04-17T11:18:35.764Z"
   },
   {
    "duration": 25,
    "start_time": "2022-04-17T11:18:40.349Z"
   },
   {
    "duration": 27,
    "start_time": "2022-04-17T11:18:43.188Z"
   },
   {
    "duration": 20,
    "start_time": "2022-04-17T11:19:36.296Z"
   },
   {
    "duration": 15,
    "start_time": "2022-04-17T11:19:49.864Z"
   },
   {
    "duration": 16,
    "start_time": "2022-04-17T11:19:55.565Z"
   },
   {
    "duration": 19,
    "start_time": "2022-04-17T11:21:08.117Z"
   },
   {
    "duration": 21,
    "start_time": "2022-04-17T11:21:16.377Z"
   },
   {
    "duration": 5,
    "start_time": "2022-04-17T11:21:35.593Z"
   },
   {
    "duration": 18,
    "start_time": "2022-04-17T11:21:45.243Z"
   },
   {
    "duration": 4,
    "start_time": "2022-04-17T11:21:56.501Z"
   },
   {
    "duration": 11,
    "start_time": "2022-04-17T11:22:46.934Z"
   },
   {
    "duration": 9,
    "start_time": "2022-04-17T11:23:02.232Z"
   },
   {
    "duration": 12,
    "start_time": "2022-04-17T11:23:16.997Z"
   },
   {
    "duration": 5,
    "start_time": "2022-04-17T11:23:21.968Z"
   },
   {
    "duration": 11,
    "start_time": "2022-04-17T11:23:25.870Z"
   },
   {
    "duration": 11,
    "start_time": "2022-04-17T11:23:46.691Z"
   },
   {
    "duration": 10,
    "start_time": "2022-04-17T11:23:50.717Z"
   },
   {
    "duration": 12,
    "start_time": "2022-04-17T11:24:00.412Z"
   },
   {
    "duration": 11,
    "start_time": "2022-04-17T11:24:16.659Z"
   },
   {
    "duration": 15,
    "start_time": "2022-04-17T11:24:34.972Z"
   },
   {
    "duration": 15,
    "start_time": "2022-04-17T11:24:49.153Z"
   },
   {
    "duration": 15,
    "start_time": "2022-04-17T11:24:53.070Z"
   },
   {
    "duration": 17,
    "start_time": "2022-04-17T11:26:29.806Z"
   },
   {
    "duration": 17,
    "start_time": "2022-04-17T11:26:52.028Z"
   },
   {
    "duration": 1804,
    "start_time": "2022-04-17T11:30:18.899Z"
   },
   {
    "duration": 117,
    "start_time": "2022-04-17T11:31:20.649Z"
   },
   {
    "duration": 107,
    "start_time": "2022-04-17T11:31:34.170Z"
   },
   {
    "duration": 112,
    "start_time": "2022-04-17T11:31:43.185Z"
   },
   {
    "duration": 111,
    "start_time": "2022-04-17T11:31:50.401Z"
   },
   {
    "duration": 112,
    "start_time": "2022-04-17T11:32:29.936Z"
   },
   {
    "duration": 102,
    "start_time": "2022-04-17T11:32:34.119Z"
   },
   {
    "duration": 33,
    "start_time": "2022-04-17T11:33:25.842Z"
   },
   {
    "duration": 34,
    "start_time": "2022-04-17T11:33:41.666Z"
   },
   {
    "duration": 34,
    "start_time": "2022-04-17T11:33:59.180Z"
   },
   {
    "duration": 23,
    "start_time": "2022-04-17T11:34:03.253Z"
   },
   {
    "duration": 9,
    "start_time": "2022-04-17T11:34:09.335Z"
   },
   {
    "duration": 15,
    "start_time": "2022-04-17T11:34:11.985Z"
   },
   {
    "duration": 1788,
    "start_time": "2022-04-17T11:34:56.441Z"
   },
   {
    "duration": 34,
    "start_time": "2022-04-17T11:35:02.140Z"
   },
   {
    "duration": 31,
    "start_time": "2022-04-17T11:35:02.865Z"
   },
   {
    "duration": 1863,
    "start_time": "2022-04-17T11:35:23.641Z"
   },
   {
    "duration": 33,
    "start_time": "2022-04-17T11:35:29.344Z"
   },
   {
    "duration": 19,
    "start_time": "2022-04-17T11:35:29.843Z"
   },
   {
    "duration": 32,
    "start_time": "2022-04-17T11:36:14.009Z"
   },
   {
    "duration": 17,
    "start_time": "2022-04-17T11:36:21.848Z"
   },
   {
    "duration": 19,
    "start_time": "2022-04-17T11:36:33.704Z"
   },
   {
    "duration": 5,
    "start_time": "2022-04-17T11:36:43.433Z"
   },
   {
    "duration": 9,
    "start_time": "2022-04-17T11:37:01.561Z"
   },
   {
    "duration": 8,
    "start_time": "2022-04-17T11:37:18.200Z"
   },
   {
    "duration": 9,
    "start_time": "2022-04-17T11:37:52.261Z"
   },
   {
    "duration": 10,
    "start_time": "2022-04-17T11:38:14.236Z"
   },
   {
    "duration": 33,
    "start_time": "2022-04-17T11:38:58.203Z"
   },
   {
    "duration": 26,
    "start_time": "2022-04-17T11:38:59.033Z"
   },
   {
    "duration": 13,
    "start_time": "2022-04-17T11:39:54.715Z"
   },
   {
    "duration": 15,
    "start_time": "2022-04-17T11:40:01.159Z"
   },
   {
    "duration": 14,
    "start_time": "2022-04-17T11:40:04.393Z"
   },
   {
    "duration": 11,
    "start_time": "2022-04-17T11:40:45.211Z"
   },
   {
    "duration": 33,
    "start_time": "2022-04-17T11:41:42.640Z"
   },
   {
    "duration": 34,
    "start_time": "2022-04-17T11:41:57.645Z"
   },
   {
    "duration": 29,
    "start_time": "2022-04-17T11:42:48.483Z"
   },
   {
    "duration": 36,
    "start_time": "2022-04-17T11:42:55.605Z"
   },
   {
    "duration": 11,
    "start_time": "2022-04-17T11:43:24.443Z"
   },
   {
    "duration": 27,
    "start_time": "2022-04-17T11:43:26.187Z"
   },
   {
    "duration": 10,
    "start_time": "2022-04-17T11:43:33.324Z"
   },
   {
    "duration": 11,
    "start_time": "2022-04-17T11:43:37.939Z"
   },
   {
    "duration": 14,
    "start_time": "2022-04-17T11:43:39.138Z"
   },
   {
    "duration": 8,
    "start_time": "2022-04-17T11:43:47.733Z"
   },
   {
    "duration": 7,
    "start_time": "2022-04-17T11:44:00.738Z"
   },
   {
    "duration": 1721,
    "start_time": "2022-04-17T11:47:12.141Z"
   },
   {
    "duration": 34,
    "start_time": "2022-04-17T11:47:16.447Z"
   },
   {
    "duration": 23,
    "start_time": "2022-04-17T11:47:17.126Z"
   },
   {
    "duration": 29,
    "start_time": "2022-04-17T11:48:45.773Z"
   },
   {
    "duration": 30,
    "start_time": "2022-04-17T11:48:52.597Z"
   },
   {
    "duration": 1747,
    "start_time": "2022-04-17T11:49:01.258Z"
   },
   {
    "duration": 29,
    "start_time": "2022-04-17T11:49:05.807Z"
   },
   {
    "duration": 19,
    "start_time": "2022-04-17T11:49:06.129Z"
   },
   {
    "duration": 1698,
    "start_time": "2022-04-17T11:49:15.143Z"
   },
   {
    "duration": 29,
    "start_time": "2022-04-17T11:49:19.121Z"
   },
   {
    "duration": 43,
    "start_time": "2022-04-17T11:49:19.607Z"
   },
   {
    "duration": 24,
    "start_time": "2022-04-17T11:59:58.983Z"
   },
   {
    "duration": 6,
    "start_time": "2022-04-17T12:00:13.264Z"
   },
   {
    "duration": 193,
    "start_time": "2022-04-17T12:02:24.988Z"
   },
   {
    "duration": 262,
    "start_time": "2022-04-17T12:02:34.362Z"
   },
   {
    "duration": 356,
    "start_time": "2022-04-17T12:03:31.975Z"
   },
   {
    "duration": 262,
    "start_time": "2022-04-17T12:03:45.935Z"
   },
   {
    "duration": 259,
    "start_time": "2022-04-17T12:03:54.606Z"
   },
   {
    "duration": 264,
    "start_time": "2022-04-17T12:04:04.479Z"
   },
   {
    "duration": 266,
    "start_time": "2022-04-17T12:04:31.076Z"
   },
   {
    "duration": 244,
    "start_time": "2022-04-17T12:04:47.351Z"
   },
   {
    "duration": 328,
    "start_time": "2022-04-17T12:04:59.961Z"
   },
   {
    "duration": 246,
    "start_time": "2022-04-17T12:05:20.201Z"
   },
   {
    "duration": 292,
    "start_time": "2022-04-17T12:06:17.337Z"
   },
   {
    "duration": 286,
    "start_time": "2022-04-17T12:06:30.081Z"
   },
   {
    "duration": 289,
    "start_time": "2022-04-17T12:07:09.010Z"
   },
   {
    "duration": 383,
    "start_time": "2022-04-17T12:07:26.849Z"
   },
   {
    "duration": 302,
    "start_time": "2022-04-17T12:07:35.637Z"
   },
   {
    "duration": 225,
    "start_time": "2022-04-17T12:07:42.906Z"
   },
   {
    "duration": 207,
    "start_time": "2022-04-17T12:09:13.025Z"
   },
   {
    "duration": 190,
    "start_time": "2022-04-17T12:10:55.889Z"
   },
   {
    "duration": 361,
    "start_time": "2022-04-17T12:11:02.386Z"
   },
   {
    "duration": 8,
    "start_time": "2022-04-17T12:12:57.107Z"
   },
   {
    "duration": 7,
    "start_time": "2022-04-17T12:14:54.965Z"
   },
   {
    "duration": 6,
    "start_time": "2022-04-17T12:16:06.772Z"
   },
   {
    "duration": 7,
    "start_time": "2022-04-17T12:16:13.536Z"
   },
   {
    "duration": 5,
    "start_time": "2022-04-17T12:16:43.864Z"
   },
   {
    "duration": 28,
    "start_time": "2022-04-17T13:17:13.728Z"
   },
   {
    "duration": 28,
    "start_time": "2022-04-17T13:18:06.086Z"
   },
   {
    "duration": 29,
    "start_time": "2022-04-17T13:18:13.210Z"
   },
   {
    "duration": 32,
    "start_time": "2022-04-17T13:18:37.459Z"
   },
   {
    "duration": 20,
    "start_time": "2022-04-17T13:21:15.341Z"
   },
   {
    "duration": 29,
    "start_time": "2022-04-17T13:21:31.628Z"
   },
   {
    "duration": 28,
    "start_time": "2022-04-17T13:22:02.590Z"
   },
   {
    "duration": 28,
    "start_time": "2022-04-17T13:22:09.245Z"
   },
   {
    "duration": 27,
    "start_time": "2022-04-17T13:22:41.778Z"
   },
   {
    "duration": 18,
    "start_time": "2022-04-17T13:23:02.083Z"
   },
   {
    "duration": 29,
    "start_time": "2022-04-17T13:23:19.005Z"
   },
   {
    "duration": 27,
    "start_time": "2022-04-17T13:25:46.072Z"
   },
   {
    "duration": 27,
    "start_time": "2022-04-17T13:25:53.091Z"
   },
   {
    "duration": 8,
    "start_time": "2022-04-17T13:26:27.412Z"
   },
   {
    "duration": 30,
    "start_time": "2022-04-17T13:26:49.940Z"
   },
   {
    "duration": 18,
    "start_time": "2022-04-17T13:27:12.518Z"
   },
   {
    "duration": 17,
    "start_time": "2022-04-17T13:27:23.004Z"
   },
   {
    "duration": 14,
    "start_time": "2022-04-17T13:28:42.251Z"
   },
   {
    "duration": 11,
    "start_time": "2022-04-17T13:28:49.989Z"
   },
   {
    "duration": 16,
    "start_time": "2022-04-17T13:29:03.348Z"
   },
   {
    "duration": 12,
    "start_time": "2022-04-17T13:29:40.493Z"
   },
   {
    "duration": 13,
    "start_time": "2022-04-17T13:29:52.205Z"
   },
   {
    "duration": 12,
    "start_time": "2022-04-17T13:30:01.038Z"
   },
   {
    "duration": 11,
    "start_time": "2022-04-17T13:31:21.102Z"
   },
   {
    "duration": 197,
    "start_time": "2022-04-17T13:31:50.255Z"
   },
   {
    "duration": 13,
    "start_time": "2022-04-17T13:32:08.307Z"
   },
   {
    "duration": 7,
    "start_time": "2022-04-17T13:32:26.420Z"
   },
   {
    "duration": 6,
    "start_time": "2022-04-17T13:32:41.829Z"
   },
   {
    "duration": 7,
    "start_time": "2022-04-17T13:32:50.715Z"
   },
   {
    "duration": 9,
    "start_time": "2022-04-17T13:33:04.846Z"
   },
   {
    "duration": 1085,
    "start_time": "2022-04-17T13:46:45.198Z"
   },
   {
    "duration": 2,
    "start_time": "2022-04-17T13:46:46.285Z"
   },
   {
    "duration": 154,
    "start_time": "2022-04-17T13:46:46.288Z"
   },
   {
    "duration": 24,
    "start_time": "2022-04-17T13:46:46.446Z"
   },
   {
    "duration": 38,
    "start_time": "2022-04-17T13:46:46.472Z"
   },
   {
    "duration": 146,
    "start_time": "2022-04-17T13:46:46.512Z"
   },
   {
    "duration": 20,
    "start_time": "2022-04-17T13:46:46.659Z"
   },
   {
    "duration": 30,
    "start_time": "2022-04-17T13:46:46.680Z"
   },
   {
    "duration": 2,
    "start_time": "2022-04-17T13:46:46.711Z"
   },
   {
    "duration": 106,
    "start_time": "2022-04-17T13:46:46.715Z"
   },
   {
    "duration": 24,
    "start_time": "2022-04-17T13:46:46.823Z"
   },
   {
    "duration": 19,
    "start_time": "2022-04-17T13:46:46.849Z"
   },
   {
    "duration": 45,
    "start_time": "2022-04-17T13:46:46.870Z"
   },
   {
    "duration": 11,
    "start_time": "2022-04-17T13:46:46.916Z"
   },
   {
    "duration": 5,
    "start_time": "2022-04-17T13:46:46.929Z"
   },
   {
    "duration": 7,
    "start_time": "2022-04-17T13:46:46.936Z"
   },
   {
    "duration": 5,
    "start_time": "2022-04-17T13:46:46.945Z"
   },
   {
    "duration": 17,
    "start_time": "2022-04-17T13:46:46.951Z"
   },
   {
    "duration": 48,
    "start_time": "2022-04-17T13:46:46.970Z"
   },
   {
    "duration": 61,
    "start_time": "2022-04-17T13:46:47.019Z"
   },
   {
    "duration": 66,
    "start_time": "2022-04-17T13:46:47.082Z"
   },
   {
    "duration": 13,
    "start_time": "2022-04-17T13:46:47.150Z"
   },
   {
    "duration": 55,
    "start_time": "2022-04-17T13:46:47.165Z"
   },
   {
    "duration": 4,
    "start_time": "2022-04-17T13:46:47.221Z"
   },
   {
    "duration": 32,
    "start_time": "2022-04-17T13:46:47.227Z"
   },
   {
    "duration": 40,
    "start_time": "2022-04-17T13:46:47.261Z"
   },
   {
    "duration": 4,
    "start_time": "2022-04-17T13:46:47.303Z"
   },
   {
    "duration": 2,
    "start_time": "2022-04-17T13:46:47.312Z"
   },
   {
    "duration": 36,
    "start_time": "2022-04-17T13:46:47.315Z"
   },
   {
    "duration": 9,
    "start_time": "2022-04-17T13:46:47.352Z"
   },
   {
    "duration": 17,
    "start_time": "2022-04-17T13:46:47.362Z"
   },
   {
    "duration": 31,
    "start_time": "2022-04-17T13:46:47.380Z"
   },
   {
    "duration": 7,
    "start_time": "2022-04-17T13:46:47.412Z"
   },
   {
    "duration": 37,
    "start_time": "2022-04-17T13:46:47.420Z"
   },
   {
    "duration": 6,
    "start_time": "2022-04-17T13:46:47.458Z"
   },
   {
    "duration": 5,
    "start_time": "2022-04-17T13:46:47.465Z"
   },
   {
    "duration": 14,
    "start_time": "2022-04-17T13:46:47.471Z"
   },
   {
    "duration": 73,
    "start_time": "2022-04-17T13:46:47.486Z"
   },
   {
    "duration": 33,
    "start_time": "2022-04-17T13:46:47.560Z"
   },
   {
    "duration": 29,
    "start_time": "2022-04-17T13:46:47.594Z"
   },
   {
    "duration": 50,
    "start_time": "2022-04-17T13:46:47.624Z"
   },
   {
    "duration": 7,
    "start_time": "2022-04-17T13:46:47.676Z"
   },
   {
    "duration": 41,
    "start_time": "2022-04-17T13:46:47.685Z"
   },
   {
    "duration": 36,
    "start_time": "2022-04-17T13:46:47.748Z"
   },
   {
    "duration": 75,
    "start_time": "2022-04-17T13:46:47.785Z"
   },
   {
    "duration": 33,
    "start_time": "2022-04-17T13:46:47.861Z"
   },
   {
    "duration": 13,
    "start_time": "2022-04-17T13:46:47.896Z"
   },
   {
    "duration": 3,
    "start_time": "2022-04-17T13:46:47.910Z"
   },
   {
    "duration": 60,
    "start_time": "2022-04-17T13:46:47.915Z"
   },
   {
    "duration": 15,
    "start_time": "2022-04-17T13:46:47.977Z"
   },
   {
    "duration": 55,
    "start_time": "2022-04-17T13:46:47.993Z"
   },
   {
    "duration": 15,
    "start_time": "2022-04-17T13:46:48.050Z"
   },
   {
    "duration": 37,
    "start_time": "2022-04-17T13:46:48.066Z"
   },
   {
    "duration": 19,
    "start_time": "2022-04-17T13:46:48.104Z"
   },
   {
    "duration": 17,
    "start_time": "2022-04-17T13:46:48.148Z"
   },
   {
    "duration": 15,
    "start_time": "2022-04-17T13:46:48.167Z"
   },
   {
    "duration": 5,
    "start_time": "2022-04-17T13:46:48.183Z"
   },
   {
    "duration": 4,
    "start_time": "2022-04-17T13:46:48.189Z"
   },
   {
    "duration": 4,
    "start_time": "2022-04-17T13:46:48.194Z"
   },
   {
    "duration": 59,
    "start_time": "2022-04-17T13:46:48.200Z"
   },
   {
    "duration": 364,
    "start_time": "2022-04-17T13:46:48.260Z"
   },
   {
    "duration": 42,
    "start_time": "2022-04-17T13:46:48.626Z"
   },
   {
    "duration": 89,
    "start_time": "2022-04-17T13:46:48.670Z"
   },
   {
    "duration": 2,
    "start_time": "2022-04-17T13:46:48.761Z"
   },
   {
    "duration": 33,
    "start_time": "2022-04-17T13:46:48.765Z"
   },
   {
    "duration": 117,
    "start_time": "2022-04-17T13:46:48.800Z"
   },
   {
    "duration": 308,
    "start_time": "2022-04-17T13:46:48.918Z"
   },
   {
    "duration": 40,
    "start_time": "2022-04-17T13:46:49.228Z"
   },
   {
    "duration": 3,
    "start_time": "2022-04-17T13:46:49.270Z"
   },
   {
    "duration": 32,
    "start_time": "2022-04-17T13:46:49.275Z"
   },
   {
    "duration": 348,
    "start_time": "2022-04-17T13:46:49.309Z"
   },
   {
    "duration": 66,
    "start_time": "2022-04-17T13:46:49.659Z"
   },
   {
    "duration": 294,
    "start_time": "2022-04-17T13:46:49.727Z"
   },
   {
    "duration": 43,
    "start_time": "2022-04-17T13:46:50.023Z"
   },
   {
    "duration": 4,
    "start_time": "2022-04-17T13:46:50.068Z"
   },
   {
    "duration": 28,
    "start_time": "2022-04-17T13:46:50.073Z"
   },
   {
    "duration": 356,
    "start_time": "2022-04-17T13:46:50.103Z"
   },
   {
    "duration": 4,
    "start_time": "2022-04-17T13:46:50.461Z"
   },
   {
    "duration": 62,
    "start_time": "2022-04-17T13:46:50.466Z"
   },
   {
    "duration": 357,
    "start_time": "2022-04-17T13:46:50.530Z"
   },
   {
    "duration": 34,
    "start_time": "2022-04-17T13:46:50.888Z"
   },
   {
    "duration": 46,
    "start_time": "2022-04-17T13:46:50.927Z"
   },
   {
    "duration": 30,
    "start_time": "2022-04-17T13:46:50.974Z"
   },
   {
    "duration": 42,
    "start_time": "2022-04-17T13:46:51.006Z"
   },
   {
    "duration": 7,
    "start_time": "2022-04-17T13:46:51.050Z"
   },
   {
    "duration": 26,
    "start_time": "2022-04-17T13:46:51.059Z"
   },
   {
    "duration": 7,
    "start_time": "2022-04-17T13:46:51.087Z"
   },
   {
    "duration": 7,
    "start_time": "2022-04-17T13:46:51.096Z"
   },
   {
    "duration": 389,
    "start_time": "2022-04-17T13:46:51.104Z"
   },
   {
    "duration": 4,
    "start_time": "2022-04-17T13:46:51.495Z"
   },
   {
    "duration": 372,
    "start_time": "2022-04-17T13:46:51.500Z"
   },
   {
    "duration": 4,
    "start_time": "2022-04-17T13:46:51.874Z"
   },
   {
    "duration": 8,
    "start_time": "2022-04-17T13:46:51.879Z"
   },
   {
    "duration": 10,
    "start_time": "2022-04-17T13:46:51.888Z"
   },
   {
    "duration": 27,
    "start_time": "2022-04-17T13:46:51.899Z"
   },
   {
    "duration": 51,
    "start_time": "2022-04-17T13:46:51.928Z"
   },
   {
    "duration": 103,
    "start_time": "2022-04-17T13:46:51.981Z"
   },
   {
    "duration": 0,
    "start_time": "2022-04-17T13:46:52.085Z"
   },
   {
    "duration": 0,
    "start_time": "2022-04-17T13:46:52.086Z"
   },
   {
    "duration": 0,
    "start_time": "2022-04-17T13:46:52.087Z"
   },
   {
    "duration": 110,
    "start_time": "2022-04-17T13:49:59.642Z"
   },
   {
    "duration": 29,
    "start_time": "2022-04-17T13:56:07.871Z"
   },
   {
    "duration": 30,
    "start_time": "2022-04-17T14:08:25.722Z"
   },
   {
    "duration": 31,
    "start_time": "2022-04-17T14:09:14.702Z"
   },
   {
    "duration": 23,
    "start_time": "2022-04-17T14:10:46.498Z"
   },
   {
    "duration": 48,
    "start_time": "2022-04-18T01:16:15.324Z"
   },
   {
    "duration": 1189,
    "start_time": "2022-04-18T01:16:21.185Z"
   },
   {
    "duration": 2,
    "start_time": "2022-04-18T01:16:22.377Z"
   },
   {
    "duration": 179,
    "start_time": "2022-04-18T01:16:22.382Z"
   },
   {
    "duration": 27,
    "start_time": "2022-04-18T01:16:22.564Z"
   },
   {
    "duration": 62,
    "start_time": "2022-04-18T01:16:22.593Z"
   },
   {
    "duration": 157,
    "start_time": "2022-04-18T01:16:22.657Z"
   },
   {
    "duration": 29,
    "start_time": "2022-04-18T01:16:22.816Z"
   },
   {
    "duration": 36,
    "start_time": "2022-04-18T01:16:22.847Z"
   },
   {
    "duration": 2,
    "start_time": "2022-04-18T01:16:22.886Z"
   },
   {
    "duration": 100,
    "start_time": "2022-04-18T01:16:22.922Z"
   },
   {
    "duration": 21,
    "start_time": "2022-04-18T01:16:23.024Z"
   },
   {
    "duration": 23,
    "start_time": "2022-04-18T01:16:23.047Z"
   },
   {
    "duration": 36,
    "start_time": "2022-04-18T01:16:23.072Z"
   },
   {
    "duration": 21,
    "start_time": "2022-04-18T01:16:23.110Z"
   },
   {
    "duration": 6,
    "start_time": "2022-04-18T01:16:23.133Z"
   },
   {
    "duration": 9,
    "start_time": "2022-04-18T01:16:23.141Z"
   },
   {
    "duration": 7,
    "start_time": "2022-04-18T01:16:23.152Z"
   },
   {
    "duration": 22,
    "start_time": "2022-04-18T01:16:23.161Z"
   },
   {
    "duration": 90,
    "start_time": "2022-04-18T01:16:23.185Z"
   },
   {
    "duration": 57,
    "start_time": "2022-04-18T01:16:23.276Z"
   },
   {
    "duration": 49,
    "start_time": "2022-04-18T01:16:23.335Z"
   },
   {
    "duration": 37,
    "start_time": "2022-04-18T01:16:23.386Z"
   },
   {
    "duration": 59,
    "start_time": "2022-04-18T01:16:23.424Z"
   },
   {
    "duration": 5,
    "start_time": "2022-04-18T01:16:23.485Z"
   },
   {
    "duration": 37,
    "start_time": "2022-04-18T01:16:23.491Z"
   },
   {
    "duration": 45,
    "start_time": "2022-04-18T01:16:23.530Z"
   },
   {
    "duration": 3,
    "start_time": "2022-04-18T01:16:23.577Z"
   },
   {
    "duration": 7,
    "start_time": "2022-04-18T01:16:23.584Z"
   },
   {
    "duration": 32,
    "start_time": "2022-04-18T01:16:23.593Z"
   },
   {
    "duration": 9,
    "start_time": "2022-04-18T01:16:23.627Z"
   },
   {
    "duration": 19,
    "start_time": "2022-04-18T01:16:23.637Z"
   },
   {
    "duration": 37,
    "start_time": "2022-04-18T01:16:23.657Z"
   },
   {
    "duration": 28,
    "start_time": "2022-04-18T01:16:23.696Z"
   },
   {
    "duration": 17,
    "start_time": "2022-04-18T01:16:23.726Z"
   },
   {
    "duration": 7,
    "start_time": "2022-04-18T01:16:23.744Z"
   },
   {
    "duration": 6,
    "start_time": "2022-04-18T01:16:23.752Z"
   },
   {
    "duration": 15,
    "start_time": "2022-04-18T01:16:23.760Z"
   },
   {
    "duration": 88,
    "start_time": "2022-04-18T01:16:23.777Z"
   },
   {
    "duration": 36,
    "start_time": "2022-04-18T01:16:23.867Z"
   },
   {
    "duration": 46,
    "start_time": "2022-04-18T01:16:23.904Z"
   },
   {
    "duration": 33,
    "start_time": "2022-04-18T01:16:23.951Z"
   },
   {
    "duration": 9,
    "start_time": "2022-04-18T01:16:23.986Z"
   },
   {
    "duration": 73,
    "start_time": "2022-04-18T01:16:23.996Z"
   },
   {
    "duration": 57,
    "start_time": "2022-04-18T01:16:24.071Z"
   },
   {
    "duration": 70,
    "start_time": "2022-04-18T01:16:24.130Z"
   },
   {
    "duration": 49,
    "start_time": "2022-04-18T01:16:24.202Z"
   },
   {
    "duration": 15,
    "start_time": "2022-04-18T01:16:24.253Z"
   },
   {
    "duration": 4,
    "start_time": "2022-04-18T01:16:24.270Z"
   },
   {
    "duration": 64,
    "start_time": "2022-04-18T01:16:24.275Z"
   },
   {
    "duration": 16,
    "start_time": "2022-04-18T01:16:24.341Z"
   },
   {
    "duration": 45,
    "start_time": "2022-04-18T01:16:24.359Z"
   },
   {
    "duration": 33,
    "start_time": "2022-04-18T01:16:24.405Z"
   },
   {
    "duration": 41,
    "start_time": "2022-04-18T01:16:24.439Z"
   },
   {
    "duration": 42,
    "start_time": "2022-04-18T01:16:24.482Z"
   },
   {
    "duration": 20,
    "start_time": "2022-04-18T01:16:24.525Z"
   },
   {
    "duration": 18,
    "start_time": "2022-04-18T01:16:24.546Z"
   },
   {
    "duration": 4,
    "start_time": "2022-04-18T01:16:24.565Z"
   },
   {
    "duration": 4,
    "start_time": "2022-04-18T01:16:24.571Z"
   },
   {
    "duration": 6,
    "start_time": "2022-04-18T01:16:24.577Z"
   },
   {
    "duration": 58,
    "start_time": "2022-04-18T01:16:24.585Z"
   },
   {
    "duration": 368,
    "start_time": "2022-04-18T01:16:24.645Z"
   },
   {
    "duration": 41,
    "start_time": "2022-04-18T01:16:25.014Z"
   },
   {
    "duration": 96,
    "start_time": "2022-04-18T01:16:25.057Z"
   },
   {
    "duration": 3,
    "start_time": "2022-04-18T01:16:25.154Z"
   },
   {
    "duration": 33,
    "start_time": "2022-04-18T01:16:25.159Z"
   },
   {
    "duration": 122,
    "start_time": "2022-04-18T01:16:25.194Z"
   },
   {
    "duration": 307,
    "start_time": "2022-04-18T01:16:25.318Z"
   },
   {
    "duration": 32,
    "start_time": "2022-04-18T01:16:25.627Z"
   },
   {
    "duration": 4,
    "start_time": "2022-04-18T01:16:25.660Z"
   },
   {
    "duration": 33,
    "start_time": "2022-04-18T01:16:25.665Z"
   },
   {
    "duration": 345,
    "start_time": "2022-04-18T01:16:25.722Z"
   },
   {
    "duration": 77,
    "start_time": "2022-04-18T01:16:26.069Z"
   },
   {
    "duration": 285,
    "start_time": "2022-04-18T01:16:26.147Z"
   },
   {
    "duration": 28,
    "start_time": "2022-04-18T01:16:26.434Z"
   },
   {
    "duration": 3,
    "start_time": "2022-04-18T01:16:26.464Z"
   },
   {
    "duration": 28,
    "start_time": "2022-04-18T01:16:26.469Z"
   },
   {
    "duration": 355,
    "start_time": "2022-04-18T01:16:26.499Z"
   },
   {
    "duration": 4,
    "start_time": "2022-04-18T01:16:26.855Z"
   },
   {
    "duration": 71,
    "start_time": "2022-04-18T01:16:26.860Z"
   },
   {
    "duration": 331,
    "start_time": "2022-04-18T01:16:26.933Z"
   },
   {
    "duration": 33,
    "start_time": "2022-04-18T01:16:27.266Z"
   },
   {
    "duration": 40,
    "start_time": "2022-04-18T01:16:27.305Z"
   },
   {
    "duration": 28,
    "start_time": "2022-04-18T01:16:27.347Z"
   },
   {
    "duration": 45,
    "start_time": "2022-04-18T01:16:27.377Z"
   },
   {
    "duration": 8,
    "start_time": "2022-04-18T01:16:27.424Z"
   },
   {
    "duration": 27,
    "start_time": "2022-04-18T01:16:27.433Z"
   },
   {
    "duration": 7,
    "start_time": "2022-04-18T01:16:27.462Z"
   },
   {
    "duration": 7,
    "start_time": "2022-04-18T01:16:27.471Z"
   },
   {
    "duration": 387,
    "start_time": "2022-04-18T01:16:27.479Z"
   },
   {
    "duration": 4,
    "start_time": "2022-04-18T01:16:27.867Z"
   },
   {
    "duration": 371,
    "start_time": "2022-04-18T01:16:27.872Z"
   },
   {
    "duration": 4,
    "start_time": "2022-04-18T01:16:28.245Z"
   },
   {
    "duration": 6,
    "start_time": "2022-04-18T01:16:28.250Z"
   },
   {
    "duration": 10,
    "start_time": "2022-04-18T01:16:28.258Z"
   },
   {
    "duration": 23,
    "start_time": "2022-04-18T01:16:28.269Z"
   },
   {
    "duration": 56,
    "start_time": "2022-04-18T01:16:28.294Z"
   },
   {
    "duration": 20,
    "start_time": "2022-04-18T01:16:28.352Z"
   },
   {
    "duration": 10,
    "start_time": "2022-04-18T01:16:28.374Z"
   },
   {
    "duration": 8,
    "start_time": "2022-04-18T01:16:28.385Z"
   },
   {
    "duration": 35,
    "start_time": "2022-04-18T01:16:28.395Z"
   },
   {
    "duration": 3,
    "start_time": "2022-04-18T01:16:28.431Z"
   },
   {
    "duration": 4,
    "start_time": "2022-04-18T01:17:40.547Z"
   },
   {
    "duration": 88,
    "start_time": "2022-04-18T01:18:02.452Z"
   },
   {
    "duration": 56,
    "start_time": "2022-04-18T01:18:27.484Z"
   },
   {
    "duration": 149,
    "start_time": "2022-04-18T01:18:45.587Z"
   },
   {
    "duration": 153,
    "start_time": "2022-04-18T01:19:03.020Z"
   },
   {
    "duration": 142,
    "start_time": "2022-04-18T01:19:09.236Z"
   },
   {
    "duration": 17,
    "start_time": "2022-04-18T01:19:41.805Z"
   },
   {
    "duration": 1122,
    "start_time": "2022-04-18T01:20:06.335Z"
   },
   {
    "duration": 52,
    "start_time": "2022-04-18T01:20:57.848Z"
   },
   {
    "duration": 2,
    "start_time": "2022-04-18T01:21:03.735Z"
   },
   {
    "duration": 11,
    "start_time": "2022-04-18T01:22:39.908Z"
   },
   {
    "duration": 1159,
    "start_time": "2022-04-18T01:24:04.196Z"
   },
   {
    "duration": 2,
    "start_time": "2022-04-18T01:24:05.357Z"
   },
   {
    "duration": 156,
    "start_time": "2022-04-18T01:24:05.360Z"
   },
   {
    "duration": 23,
    "start_time": "2022-04-18T01:24:05.521Z"
   },
   {
    "duration": 38,
    "start_time": "2022-04-18T01:24:05.546Z"
   },
   {
    "duration": 143,
    "start_time": "2022-04-18T01:24:05.586Z"
   },
   {
    "duration": 21,
    "start_time": "2022-04-18T01:24:05.730Z"
   },
   {
    "duration": 31,
    "start_time": "2022-04-18T01:24:05.752Z"
   },
   {
    "duration": 2,
    "start_time": "2022-04-18T01:24:05.785Z"
   },
   {
    "duration": 105,
    "start_time": "2022-04-18T01:24:05.789Z"
   },
   {
    "duration": 17,
    "start_time": "2022-04-18T01:24:05.895Z"
   },
   {
    "duration": 18,
    "start_time": "2022-04-18T01:24:05.922Z"
   },
   {
    "duration": 34,
    "start_time": "2022-04-18T01:24:05.941Z"
   },
   {
    "duration": 10,
    "start_time": "2022-04-18T01:24:05.976Z"
   },
   {
    "duration": 6,
    "start_time": "2022-04-18T01:24:05.988Z"
   },
   {
    "duration": 15,
    "start_time": "2022-04-18T01:24:05.995Z"
   },
   {
    "duration": 6,
    "start_time": "2022-04-18T01:24:06.011Z"
   },
   {
    "duration": 20,
    "start_time": "2022-04-18T01:24:06.022Z"
   },
   {
    "duration": 50,
    "start_time": "2022-04-18T01:24:06.043Z"
   },
   {
    "duration": 52,
    "start_time": "2022-04-18T01:24:06.094Z"
   },
   {
    "duration": 48,
    "start_time": "2022-04-18T01:24:06.148Z"
   },
   {
    "duration": 25,
    "start_time": "2022-04-18T01:24:06.198Z"
   },
   {
    "duration": 56,
    "start_time": "2022-04-18T01:24:06.225Z"
   },
   {
    "duration": 4,
    "start_time": "2022-04-18T01:24:06.283Z"
   },
   {
    "duration": 38,
    "start_time": "2022-04-18T01:24:06.288Z"
   },
   {
    "duration": 41,
    "start_time": "2022-04-18T01:24:06.327Z"
   },
   {
    "duration": 3,
    "start_time": "2022-04-18T01:24:06.369Z"
   },
   {
    "duration": 2,
    "start_time": "2022-04-18T01:24:06.376Z"
   },
   {
    "duration": 12,
    "start_time": "2022-04-18T01:24:06.380Z"
   },
   {
    "duration": 31,
    "start_time": "2022-04-18T01:24:06.393Z"
   },
   {
    "duration": 16,
    "start_time": "2022-04-18T01:24:06.425Z"
   },
   {
    "duration": 30,
    "start_time": "2022-04-18T01:24:06.442Z"
   },
   {
    "duration": 7,
    "start_time": "2022-04-18T01:24:06.473Z"
   },
   {
    "duration": 15,
    "start_time": "2022-04-18T01:24:06.482Z"
   },
   {
    "duration": 7,
    "start_time": "2022-04-18T01:24:06.522Z"
   },
   {
    "duration": 5,
    "start_time": "2022-04-18T01:24:06.531Z"
   },
   {
    "duration": 17,
    "start_time": "2022-04-18T01:24:06.537Z"
   },
   {
    "duration": 39,
    "start_time": "2022-04-18T01:24:06.556Z"
   },
   {
    "duration": 49,
    "start_time": "2022-04-18T01:24:06.597Z"
   },
   {
    "duration": 27,
    "start_time": "2022-04-18T01:24:06.647Z"
   },
   {
    "duration": 48,
    "start_time": "2022-04-18T01:24:06.676Z"
   },
   {
    "duration": 7,
    "start_time": "2022-04-18T01:24:06.726Z"
   },
   {
    "duration": 39,
    "start_time": "2022-04-18T01:24:06.735Z"
   },
   {
    "duration": 55,
    "start_time": "2022-04-18T01:24:06.775Z"
   },
   {
    "duration": 60,
    "start_time": "2022-04-18T01:24:06.832Z"
   },
   {
    "duration": 46,
    "start_time": "2022-04-18T01:24:06.894Z"
   },
   {
    "duration": 14,
    "start_time": "2022-04-18T01:24:06.942Z"
   },
   {
    "duration": 3,
    "start_time": "2022-04-18T01:24:06.958Z"
   },
   {
    "duration": 60,
    "start_time": "2022-04-18T01:24:06.963Z"
   },
   {
    "duration": 15,
    "start_time": "2022-04-18T01:24:07.025Z"
   },
   {
    "duration": 44,
    "start_time": "2022-04-18T01:24:07.041Z"
   },
   {
    "duration": 38,
    "start_time": "2022-04-18T01:24:07.087Z"
   },
   {
    "duration": 38,
    "start_time": "2022-04-18T01:24:07.127Z"
   },
   {
    "duration": 20,
    "start_time": "2022-04-18T01:24:07.166Z"
   },
   {
    "duration": 44,
    "start_time": "2022-04-18T01:24:07.188Z"
   },
   {
    "duration": 15,
    "start_time": "2022-04-18T01:24:07.233Z"
   },
   {
    "duration": 4,
    "start_time": "2022-04-18T01:24:07.250Z"
   },
   {
    "duration": 3,
    "start_time": "2022-04-18T01:24:07.256Z"
   },
   {
    "duration": 4,
    "start_time": "2022-04-18T01:24:07.261Z"
   },
   {
    "duration": 57,
    "start_time": "2022-04-18T01:24:07.266Z"
   },
   {
    "duration": 356,
    "start_time": "2022-04-18T01:24:07.325Z"
   },
   {
    "duration": 44,
    "start_time": "2022-04-18T01:24:07.683Z"
   },
   {
    "duration": 81,
    "start_time": "2022-04-18T01:24:07.729Z"
   },
   {
    "duration": 3,
    "start_time": "2022-04-18T01:24:07.822Z"
   },
   {
    "duration": 37,
    "start_time": "2022-04-18T01:24:07.827Z"
   },
   {
    "duration": 105,
    "start_time": "2022-04-18T01:24:07.866Z"
   },
   {
    "duration": 305,
    "start_time": "2022-04-18T01:24:07.972Z"
   },
   {
    "duration": 32,
    "start_time": "2022-04-18T01:24:08.279Z"
   },
   {
    "duration": 4,
    "start_time": "2022-04-18T01:24:08.323Z"
   },
   {
    "duration": 38,
    "start_time": "2022-04-18T01:24:08.329Z"
   },
   {
    "duration": 371,
    "start_time": "2022-04-18T01:24:08.369Z"
   },
   {
    "duration": 61,
    "start_time": "2022-04-18T01:24:08.741Z"
   },
   {
    "duration": 283,
    "start_time": "2022-04-18T01:24:08.804Z"
   },
   {
    "duration": 39,
    "start_time": "2022-04-18T01:24:09.089Z"
   },
   {
    "duration": 4,
    "start_time": "2022-04-18T01:24:09.130Z"
   },
   {
    "duration": 29,
    "start_time": "2022-04-18T01:24:09.135Z"
   },
   {
    "duration": 388,
    "start_time": "2022-04-18T01:24:09.165Z"
   },
   {
    "duration": 4,
    "start_time": "2022-04-18T01:24:09.555Z"
   },
   {
    "duration": 71,
    "start_time": "2022-04-18T01:24:09.561Z"
   },
   {
    "duration": 324,
    "start_time": "2022-04-18T01:24:09.634Z"
   },
   {
    "duration": 32,
    "start_time": "2022-04-18T01:24:09.960Z"
   },
   {
    "duration": 42,
    "start_time": "2022-04-18T01:24:09.997Z"
   },
   {
    "duration": 27,
    "start_time": "2022-04-18T01:24:10.041Z"
   },
   {
    "duration": 12,
    "start_time": "2022-04-18T01:24:10.070Z"
   },
   {
    "duration": 51,
    "start_time": "2022-04-18T01:24:10.083Z"
   },
   {
    "duration": 8,
    "start_time": "2022-04-18T01:24:10.136Z"
   },
   {
    "duration": 26,
    "start_time": "2022-04-18T01:24:10.146Z"
   },
   {
    "duration": 8,
    "start_time": "2022-04-18T01:24:10.173Z"
   },
   {
    "duration": 8,
    "start_time": "2022-04-18T01:24:10.182Z"
   },
   {
    "duration": 389,
    "start_time": "2022-04-18T01:24:10.191Z"
   },
   {
    "duration": 4,
    "start_time": "2022-04-18T01:24:10.582Z"
   },
   {
    "duration": 372,
    "start_time": "2022-04-18T01:24:10.587Z"
   },
   {
    "duration": 4,
    "start_time": "2022-04-18T01:24:10.961Z"
   },
   {
    "duration": 6,
    "start_time": "2022-04-18T01:24:10.967Z"
   },
   {
    "duration": 12,
    "start_time": "2022-04-18T01:24:10.974Z"
   },
   {
    "duration": 39,
    "start_time": "2022-04-18T01:24:10.987Z"
   },
   {
    "duration": 31,
    "start_time": "2022-04-18T01:24:11.027Z"
   },
   {
    "duration": 22,
    "start_time": "2022-04-18T01:24:11.059Z"
   },
   {
    "duration": 11,
    "start_time": "2022-04-18T01:24:11.082Z"
   },
   {
    "duration": 36,
    "start_time": "2022-04-18T01:24:11.094Z"
   },
   {
    "duration": 12,
    "start_time": "2022-04-18T01:24:11.131Z"
   },
   {
    "duration": 54,
    "start_time": "2022-04-18T01:24:11.144Z"
   },
   {
    "duration": 1088,
    "start_time": "2022-04-18T01:24:11.199Z"
   },
   {
    "duration": 155,
    "start_time": "2022-04-18T01:24:12.288Z"
   },
   {
    "duration": 244,
    "start_time": "2022-04-18T01:24:12.445Z"
   },
   {
    "duration": 155,
    "start_time": "2022-04-18T01:24:12.690Z"
   },
   {
    "duration": 42,
    "start_time": "2022-04-18T01:24:12.846Z"
   }
  ],
  "kernelspec": {
   "display_name": "Python 3 (ipykernel)",
   "language": "python",
   "name": "python3"
  },
  "language_info": {
   "codemirror_mode": {
    "name": "ipython",
    "version": 3
   },
   "file_extension": ".py",
   "mimetype": "text/x-python",
   "name": "python",
   "nbconvert_exporter": "python",
   "pygments_lexer": "ipython3",
   "version": "3.9.7"
  },
  "toc": {
   "base_numbering": 1,
   "nav_menu": {},
   "number_sections": true,
   "sideBar": true,
   "skip_h1_title": true,
   "title_cell": "Table of Contents",
   "title_sidebar": "Contents",
   "toc_cell": true,
   "toc_position": {
    "height": "calc(100% - 180px)",
    "left": "10px",
    "top": "150px",
    "width": "321px"
   },
   "toc_section_display": true,
   "toc_window_display": true
  }
 },
 "nbformat": 4,
 "nbformat_minor": 5
}
