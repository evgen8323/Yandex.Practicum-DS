{
 "cells": [
  {
   "cell_type": "markdown",
   "id": "f972f52e",
   "metadata": {},
   "source": [
    "<a id='content'></a>\n",
    "# Содержание\n",
    "<br><b>1. [Выгрузка и обзор данных](#first)</b>\n",
    "<br><b>2. [Выделение обучающей, валиданционной, тестовой выборок](#second)</b>\n",
    "<br><b>3. [Дерево решений](#third)</b>\n",
    "<br><b>4. [Случайный лес](#forth)</b>\n",
    "<br><b>5. [Логистическая регрессия](#fivth)</b>\n",
    "<br><b>6. [Проверки на тестовой выборке](#sixth)</b>"
   ]
  },
  {
   "cell_type": "markdown",
   "id": "f8208e79",
   "metadata": {},
   "source": [
    "На основании предоставленных данных необходимо определить наилучшую модель, позволяющую рекомендовать абонентам отпимальный тарифный план, а также подобрать гиперпараметры."
   ]
  },
  {
   "cell_type": "markdown",
   "id": "ce7010f6",
   "metadata": {},
   "source": [
    "<a id='first'></a>\n",
    "# 1. Выгрузка и обзор днных.\n",
    "[содержание](#content) [>>](#second)"
   ]
  },
  {
   "cell_type": "code",
   "execution_count": 1,
   "id": "bfcf338d",
   "metadata": {},
   "outputs": [],
   "source": [
    "import pandas as pd\n",
    "\n",
    "from sklearn.model_selection import train_test_split\n",
    "from sklearn.tree import DecisionTreeClassifier\n",
    "from sklearn.metrics import accuracy_score\n",
    "from sklearn.ensemble import RandomForestClassifier\n",
    "from sklearn.linear_model import LogisticRegression"
   ]
  },
  {
   "cell_type": "code",
   "execution_count": 2,
   "id": "a8bfa6b8",
   "metadata": {},
   "outputs": [
    {
     "data": {
      "text/html": [
       "<div>\n",
       "<style scoped>\n",
       "    .dataframe tbody tr th:only-of-type {\n",
       "        vertical-align: middle;\n",
       "    }\n",
       "\n",
       "    .dataframe tbody tr th {\n",
       "        vertical-align: top;\n",
       "    }\n",
       "\n",
       "    .dataframe thead th {\n",
       "        text-align: right;\n",
       "    }\n",
       "</style>\n",
       "<table border=\"1\" class=\"dataframe\">\n",
       "  <thead>\n",
       "    <tr style=\"text-align: right;\">\n",
       "      <th></th>\n",
       "      <th>calls</th>\n",
       "      <th>minutes</th>\n",
       "      <th>messages</th>\n",
       "      <th>mb_used</th>\n",
       "      <th>is_ultra</th>\n",
       "    </tr>\n",
       "  </thead>\n",
       "  <tbody>\n",
       "    <tr>\n",
       "      <th>0</th>\n",
       "      <td>40.0</td>\n",
       "      <td>311.90</td>\n",
       "      <td>83.0</td>\n",
       "      <td>19915.42</td>\n",
       "      <td>0</td>\n",
       "    </tr>\n",
       "    <tr>\n",
       "      <th>1</th>\n",
       "      <td>85.0</td>\n",
       "      <td>516.75</td>\n",
       "      <td>56.0</td>\n",
       "      <td>22696.96</td>\n",
       "      <td>0</td>\n",
       "    </tr>\n",
       "    <tr>\n",
       "      <th>2</th>\n",
       "      <td>77.0</td>\n",
       "      <td>467.66</td>\n",
       "      <td>86.0</td>\n",
       "      <td>21060.45</td>\n",
       "      <td>0</td>\n",
       "    </tr>\n",
       "    <tr>\n",
       "      <th>3</th>\n",
       "      <td>106.0</td>\n",
       "      <td>745.53</td>\n",
       "      <td>81.0</td>\n",
       "      <td>8437.39</td>\n",
       "      <td>1</td>\n",
       "    </tr>\n",
       "    <tr>\n",
       "      <th>4</th>\n",
       "      <td>66.0</td>\n",
       "      <td>418.74</td>\n",
       "      <td>1.0</td>\n",
       "      <td>14502.75</td>\n",
       "      <td>0</td>\n",
       "    </tr>\n",
       "    <tr>\n",
       "      <th>...</th>\n",
       "      <td>...</td>\n",
       "      <td>...</td>\n",
       "      <td>...</td>\n",
       "      <td>...</td>\n",
       "      <td>...</td>\n",
       "    </tr>\n",
       "    <tr>\n",
       "      <th>3209</th>\n",
       "      <td>122.0</td>\n",
       "      <td>910.98</td>\n",
       "      <td>20.0</td>\n",
       "      <td>35124.90</td>\n",
       "      <td>1</td>\n",
       "    </tr>\n",
       "    <tr>\n",
       "      <th>3210</th>\n",
       "      <td>25.0</td>\n",
       "      <td>190.36</td>\n",
       "      <td>0.0</td>\n",
       "      <td>3275.61</td>\n",
       "      <td>0</td>\n",
       "    </tr>\n",
       "    <tr>\n",
       "      <th>3211</th>\n",
       "      <td>97.0</td>\n",
       "      <td>634.44</td>\n",
       "      <td>70.0</td>\n",
       "      <td>13974.06</td>\n",
       "      <td>0</td>\n",
       "    </tr>\n",
       "    <tr>\n",
       "      <th>3212</th>\n",
       "      <td>64.0</td>\n",
       "      <td>462.32</td>\n",
       "      <td>90.0</td>\n",
       "      <td>31239.78</td>\n",
       "      <td>0</td>\n",
       "    </tr>\n",
       "    <tr>\n",
       "      <th>3213</th>\n",
       "      <td>80.0</td>\n",
       "      <td>566.09</td>\n",
       "      <td>6.0</td>\n",
       "      <td>29480.52</td>\n",
       "      <td>1</td>\n",
       "    </tr>\n",
       "  </tbody>\n",
       "</table>\n",
       "<p>3214 rows × 5 columns</p>\n",
       "</div>"
      ],
      "text/plain": [
       "      calls  minutes  messages   mb_used  is_ultra\n",
       "0      40.0   311.90      83.0  19915.42         0\n",
       "1      85.0   516.75      56.0  22696.96         0\n",
       "2      77.0   467.66      86.0  21060.45         0\n",
       "3     106.0   745.53      81.0   8437.39         1\n",
       "4      66.0   418.74       1.0  14502.75         0\n",
       "...     ...      ...       ...       ...       ...\n",
       "3209  122.0   910.98      20.0  35124.90         1\n",
       "3210   25.0   190.36       0.0   3275.61         0\n",
       "3211   97.0   634.44      70.0  13974.06         0\n",
       "3212   64.0   462.32      90.0  31239.78         0\n",
       "3213   80.0   566.09       6.0  29480.52         1\n",
       "\n",
       "[3214 rows x 5 columns]"
      ]
     },
     "execution_count": 2,
     "metadata": {},
     "output_type": "execute_result"
    }
   ],
   "source": [
    "# df = pd.read_csv('users_behavior.csv')\n",
    "df = pd.read_csv('/datasets/users_behavior.csv')\n",
    "df"
   ]
  },
  {
   "cell_type": "code",
   "execution_count": 3,
   "id": "08d8f3a4",
   "metadata": {},
   "outputs": [
    {
     "name": "stdout",
     "output_type": "stream",
     "text": [
      "<class 'pandas.core.frame.DataFrame'>\n",
      "RangeIndex: 3214 entries, 0 to 3213\n",
      "Data columns (total 5 columns):\n",
      " #   Column    Non-Null Count  Dtype  \n",
      "---  ------    --------------  -----  \n",
      " 0   calls     3214 non-null   float64\n",
      " 1   minutes   3214 non-null   float64\n",
      " 2   messages  3214 non-null   float64\n",
      " 3   mb_used   3214 non-null   float64\n",
      " 4   is_ultra  3214 non-null   int64  \n",
      "dtypes: float64(4), int64(1)\n",
      "memory usage: 125.7 KB\n"
     ]
    }
   ],
   "source": [
    "df.info()"
   ]
  },
  {
   "cell_type": "code",
   "execution_count": 4,
   "id": "a1289435",
   "metadata": {},
   "outputs": [
    {
     "data": {
      "text/html": [
       "<div>\n",
       "<style scoped>\n",
       "    .dataframe tbody tr th:only-of-type {\n",
       "        vertical-align: middle;\n",
       "    }\n",
       "\n",
       "    .dataframe tbody tr th {\n",
       "        vertical-align: top;\n",
       "    }\n",
       "\n",
       "    .dataframe thead th {\n",
       "        text-align: right;\n",
       "    }\n",
       "</style>\n",
       "<table border=\"1\" class=\"dataframe\">\n",
       "  <thead>\n",
       "    <tr style=\"text-align: right;\">\n",
       "      <th></th>\n",
       "      <th>calls</th>\n",
       "      <th>minutes</th>\n",
       "      <th>messages</th>\n",
       "      <th>mb_used</th>\n",
       "      <th>is_ultra</th>\n",
       "    </tr>\n",
       "  </thead>\n",
       "  <tbody>\n",
       "    <tr>\n",
       "      <th>count</th>\n",
       "      <td>3214.000000</td>\n",
       "      <td>3214.000000</td>\n",
       "      <td>3214.000000</td>\n",
       "      <td>3214.000000</td>\n",
       "      <td>3214.000000</td>\n",
       "    </tr>\n",
       "    <tr>\n",
       "      <th>mean</th>\n",
       "      <td>63.038892</td>\n",
       "      <td>438.208787</td>\n",
       "      <td>38.281269</td>\n",
       "      <td>17207.673836</td>\n",
       "      <td>0.306472</td>\n",
       "    </tr>\n",
       "    <tr>\n",
       "      <th>std</th>\n",
       "      <td>33.236368</td>\n",
       "      <td>234.569872</td>\n",
       "      <td>36.148326</td>\n",
       "      <td>7570.968246</td>\n",
       "      <td>0.461100</td>\n",
       "    </tr>\n",
       "    <tr>\n",
       "      <th>min</th>\n",
       "      <td>0.000000</td>\n",
       "      <td>0.000000</td>\n",
       "      <td>0.000000</td>\n",
       "      <td>0.000000</td>\n",
       "      <td>0.000000</td>\n",
       "    </tr>\n",
       "    <tr>\n",
       "      <th>25%</th>\n",
       "      <td>40.000000</td>\n",
       "      <td>274.575000</td>\n",
       "      <td>9.000000</td>\n",
       "      <td>12491.902500</td>\n",
       "      <td>0.000000</td>\n",
       "    </tr>\n",
       "    <tr>\n",
       "      <th>50%</th>\n",
       "      <td>62.000000</td>\n",
       "      <td>430.600000</td>\n",
       "      <td>30.000000</td>\n",
       "      <td>16943.235000</td>\n",
       "      <td>0.000000</td>\n",
       "    </tr>\n",
       "    <tr>\n",
       "      <th>75%</th>\n",
       "      <td>82.000000</td>\n",
       "      <td>571.927500</td>\n",
       "      <td>57.000000</td>\n",
       "      <td>21424.700000</td>\n",
       "      <td>1.000000</td>\n",
       "    </tr>\n",
       "    <tr>\n",
       "      <th>max</th>\n",
       "      <td>244.000000</td>\n",
       "      <td>1632.060000</td>\n",
       "      <td>224.000000</td>\n",
       "      <td>49745.730000</td>\n",
       "      <td>1.000000</td>\n",
       "    </tr>\n",
       "  </tbody>\n",
       "</table>\n",
       "</div>"
      ],
      "text/plain": [
       "             calls      minutes     messages       mb_used     is_ultra\n",
       "count  3214.000000  3214.000000  3214.000000   3214.000000  3214.000000\n",
       "mean     63.038892   438.208787    38.281269  17207.673836     0.306472\n",
       "std      33.236368   234.569872    36.148326   7570.968246     0.461100\n",
       "min       0.000000     0.000000     0.000000      0.000000     0.000000\n",
       "25%      40.000000   274.575000     9.000000  12491.902500     0.000000\n",
       "50%      62.000000   430.600000    30.000000  16943.235000     0.000000\n",
       "75%      82.000000   571.927500    57.000000  21424.700000     1.000000\n",
       "max     244.000000  1632.060000   224.000000  49745.730000     1.000000"
      ]
     },
     "execution_count": 4,
     "metadata": {},
     "output_type": "execute_result"
    }
   ],
   "source": [
    "df.describe()"
   ]
  },
  {
   "cell_type": "markdown",
   "id": "297523df",
   "metadata": {},
   "source": [
    "Данные корректны. Пропусков нет. Можно преступать к выделению выборок."
   ]
  },
  {
   "cell_type": "markdown",
   "id": "8e222e31",
   "metadata": {},
   "source": [
    "<a id='second'></a>\n",
    "# 2. Выделение обучающей, валиданционной, тестовой выборок\n",
    "[<<](#first) [содержание](#content) [>>](#third)"
   ]
  },
  {
   "cell_type": "markdown",
   "id": "f905fee9",
   "metadata": {},
   "source": [
    "Выделим целевой показатель в отдельную таблицу."
   ]
  },
  {
   "cell_type": "code",
   "execution_count": 6,
   "id": "f071f251",
   "metadata": {},
   "outputs": [],
   "source": [
    "features = df.drop('is_ultra', axis=1)\n",
    "target = df['is_ultra']"
   ]
  },
  {
   "cell_type": "markdown",
   "id": "0b185162",
   "metadata": {},
   "source": [
    "Выделим на тестовую и валидационную выборки по 20% от общих данных."
   ]
  },
  {
   "cell_type": "code",
   "execution_count": 7,
   "id": "e93af58a",
   "metadata": {},
   "outputs": [],
   "source": [
    "features_train, features_test, target_train, target_test = train_test_split(\n",
    "    features, target, random_state=8323, test_size=.2)\n",
    "features_train, features_valid, target_train, target_valid = train_test_split(\n",
    "    features_train, target_train, random_state=8323, test_size=.25)"
   ]
  },
  {
   "cell_type": "code",
   "execution_count": 8,
   "id": "0cbb5299",
   "metadata": {
    "scrolled": true
   },
   "outputs": [
    {
     "data": {
      "text/html": [
       "<div>\n",
       "<style scoped>\n",
       "    .dataframe tbody tr th:only-of-type {\n",
       "        vertical-align: middle;\n",
       "    }\n",
       "\n",
       "    .dataframe tbody tr th {\n",
       "        vertical-align: top;\n",
       "    }\n",
       "\n",
       "    .dataframe thead th {\n",
       "        text-align: right;\n",
       "    }\n",
       "</style>\n",
       "<table border=\"1\" class=\"dataframe\">\n",
       "  <thead>\n",
       "    <tr style=\"text-align: right;\">\n",
       "      <th></th>\n",
       "      <th>calls</th>\n",
       "      <th>minutes</th>\n",
       "      <th>messages</th>\n",
       "      <th>mb_used</th>\n",
       "    </tr>\n",
       "  </thead>\n",
       "  <tbody>\n",
       "    <tr>\n",
       "      <th>3072</th>\n",
       "      <td>74.0</td>\n",
       "      <td>561.64</td>\n",
       "      <td>27.0</td>\n",
       "      <td>23297.82</td>\n",
       "    </tr>\n",
       "    <tr>\n",
       "      <th>618</th>\n",
       "      <td>65.0</td>\n",
       "      <td>490.26</td>\n",
       "      <td>76.0</td>\n",
       "      <td>30307.39</td>\n",
       "    </tr>\n",
       "    <tr>\n",
       "      <th>1202</th>\n",
       "      <td>49.0</td>\n",
       "      <td>316.69</td>\n",
       "      <td>46.0</td>\n",
       "      <td>17519.29</td>\n",
       "    </tr>\n",
       "    <tr>\n",
       "      <th>2144</th>\n",
       "      <td>44.0</td>\n",
       "      <td>324.86</td>\n",
       "      <td>0.0</td>\n",
       "      <td>18611.43</td>\n",
       "    </tr>\n",
       "    <tr>\n",
       "      <th>1261</th>\n",
       "      <td>80.0</td>\n",
       "      <td>552.33</td>\n",
       "      <td>23.0</td>\n",
       "      <td>18457.85</td>\n",
       "    </tr>\n",
       "    <tr>\n",
       "      <th>...</th>\n",
       "      <td>...</td>\n",
       "      <td>...</td>\n",
       "      <td>...</td>\n",
       "      <td>...</td>\n",
       "    </tr>\n",
       "    <tr>\n",
       "      <th>2727</th>\n",
       "      <td>34.0</td>\n",
       "      <td>210.03</td>\n",
       "      <td>49.0</td>\n",
       "      <td>17071.06</td>\n",
       "    </tr>\n",
       "    <tr>\n",
       "      <th>2564</th>\n",
       "      <td>58.0</td>\n",
       "      <td>444.38</td>\n",
       "      <td>42.0</td>\n",
       "      <td>19477.10</td>\n",
       "    </tr>\n",
       "    <tr>\n",
       "      <th>2615</th>\n",
       "      <td>51.0</td>\n",
       "      <td>296.04</td>\n",
       "      <td>38.0</td>\n",
       "      <td>22479.57</td>\n",
       "    </tr>\n",
       "    <tr>\n",
       "      <th>1833</th>\n",
       "      <td>31.0</td>\n",
       "      <td>197.82</td>\n",
       "      <td>13.0</td>\n",
       "      <td>2237.30</td>\n",
       "    </tr>\n",
       "    <tr>\n",
       "      <th>2978</th>\n",
       "      <td>45.0</td>\n",
       "      <td>270.14</td>\n",
       "      <td>29.0</td>\n",
       "      <td>0.00</td>\n",
       "    </tr>\n",
       "  </tbody>\n",
       "</table>\n",
       "<p>1928 rows × 4 columns</p>\n",
       "</div>"
      ],
      "text/plain": [
       "      calls  minutes  messages   mb_used\n",
       "3072   74.0   561.64      27.0  23297.82\n",
       "618    65.0   490.26      76.0  30307.39\n",
       "1202   49.0   316.69      46.0  17519.29\n",
       "2144   44.0   324.86       0.0  18611.43\n",
       "1261   80.0   552.33      23.0  18457.85\n",
       "...     ...      ...       ...       ...\n",
       "2727   34.0   210.03      49.0  17071.06\n",
       "2564   58.0   444.38      42.0  19477.10\n",
       "2615   51.0   296.04      38.0  22479.57\n",
       "1833   31.0   197.82      13.0   2237.30\n",
       "2978   45.0   270.14      29.0      0.00\n",
       "\n",
       "[1928 rows x 4 columns]"
      ]
     },
     "execution_count": 8,
     "metadata": {},
     "output_type": "execute_result"
    }
   ],
   "source": [
    "features_train"
   ]
  },
  {
   "cell_type": "code",
   "execution_count": 9,
   "id": "c0fe1acb",
   "metadata": {},
   "outputs": [
    {
     "data": {
      "text/plain": [
       "3072    0\n",
       "618     1\n",
       "1202    0\n",
       "2144    0\n",
       "1261    0\n",
       "Name: is_ultra, dtype: int64"
      ]
     },
     "execution_count": 9,
     "metadata": {},
     "output_type": "execute_result"
    }
   ],
   "source": [
    "target_train.head()"
   ]
  },
  {
   "cell_type": "markdown",
   "id": "4f9e74a7",
   "metadata": {},
   "source": [
    "<a id='third'></a>\n",
    "# 3. Дерево решений\n",
    "[<<](#second) [содержание](#content) [>>](#forth)"
   ]
  },
  {
   "cell_type": "markdown",
   "id": "801be54d",
   "metadata": {},
   "source": [
    "Для получения максимально точно предсказывающего алгоритма проведем обучение на деревьях с глубиной от 1 до 10."
   ]
  },
  {
   "cell_type": "code",
   "execution_count": 11,
   "id": "7c040574",
   "metadata": {},
   "outputs": [
    {
     "name": "stdout",
     "output_type": "stream",
     "text": [
      "max_depth = 1 : 0.7527216174183515\n",
      "max_depth = 2 : 0.7744945567651633\n",
      "max_depth = 3 : 0.7853810264385692\n",
      "max_depth = 4 : 0.7791601866251944\n",
      "max_depth = 5 : 0.7916018662519441\n",
      "max_depth = 6 : 0.7947122861586314\n",
      "max_depth = 7 : 0.7962674961119751\n",
      "max_depth = 8 : 0.7962674961119751\n",
      "max_depth = 9 : 0.8009331259720062\n",
      "max_depth = 10 : 0.7900466562986003\n"
     ]
    }
   ],
   "source": [
    "for depth in range(1, 11):\n",
    "    dec_tree_model = DecisionTreeClassifier(random_state=8323, max_depth=depth)\n",
    "    dec_tree_model.fit(features_train, target_train)\n",
    "    dec_tree_prediction = dec_tree_model.predict(features_valid)\n",
    "    dec_tree_accuracy = accuracy_score(target_valid, dec_tree_prediction)\n",
    "    print('max_depth =', depth, ':', dec_tree_accuracy)"
   ]
  },
  {
   "cell_type": "markdown",
   "id": "0d91b790",
   "metadata": {},
   "source": [
    "Лучшие показатели получены со значением глубины дерева 9. Начиная с глубины 5 значения accuracy улучшается в пределах 1%. Далее начинает снижаться."
   ]
  },
  {
   "cell_type": "markdown",
   "id": "fd1b9137",
   "metadata": {},
   "source": [
    "<a id='forth'></a>\n",
    "# 4. Случайный лес\n",
    "[<<](#third) [содержание](#content) [>>](#fivth)"
   ]
  },
  {
   "cell_type": "markdown",
   "id": "ac365608",
   "metadata": {},
   "source": [
    "Будем менять число деревьев от 1 до 50 с шагом 10. При каждом из значений будем так же менять и глубину деревьев от 1 до 10. Так определим гиперпараметры обеспечившие максимальную точность."
   ]
  },
  {
   "cell_type": "code",
   "execution_count": 13,
   "id": "e5f0d076",
   "metadata": {
    "scrolled": false
   },
   "outputs": [
    {
     "name": "stdout",
     "output_type": "stream",
     "text": [
      "Максимальная точность: 0.8180404354587869 \n",
      " Глубина при максимальной точности: 9 \n",
      " estimators прим максимальной точности: 11\n"
     ]
    }
   ],
   "source": [
    "best_model = None\n",
    "best_depth = 0\n",
    "best_est = 0\n",
    "best_accuracy = 0\n",
    "\n",
    "for est in range(1, 51, 10):\n",
    "    for depth in range(1, 10):\n",
    "        rnd_forest_model = RandomForestClassifier(random_state=8323, max_depth=depth, n_estimators=est)\n",
    "        rnd_forest_model.fit(features_train, target_train)\n",
    "        rnd_forest_prediction = rnd_forest_model.predict(features_valid)\n",
    "        rnd_forest_accuracy = accuracy_score(target_valid, rnd_forest_prediction)\n",
    "        if rnd_forest_accuracy > best_accuracy:\n",
    "            best_accuracy = rnd_forest_accuracy\n",
    "            best_est = est\n",
    "            best_depth = depth\n",
    "            best_model = rnd_forest_model\n",
    "\n",
    "print('Максимальная точность:', best_accuracy,'\\n', \n",
    "      'Глубина при максимальной точности:', best_depth, '\\n',\n",
    "     'estimators прим максимальной точности:', best_est)"
   ]
  },
  {
   "cell_type": "markdown",
   "id": "5674c8cf",
   "metadata": {},
   "source": [
    "Точность на 1,8% выше чем у решающего дерева."
   ]
  },
  {
   "cell_type": "markdown",
   "id": "71333ffd",
   "metadata": {},
   "source": [
    "<a id='fivth'></a>\n",
    "# 5. Логистическая регрессия\n",
    "[<<](#forth) [содержание](#content) [>>](#sixth)"
   ]
  },
  {
   "cell_type": "code",
   "execution_count": 15,
   "id": "0d7c9755",
   "metadata": {},
   "outputs": [
    {
     "name": "stdout",
     "output_type": "stream",
     "text": [
      "0.7122861586314152\n"
     ]
    }
   ],
   "source": [
    "lr_model = LogisticRegression(random_state=8323, max_iter=1000, solver='lbfgs')\n",
    "lr_model.fit(features_train, target_train)\n",
    "# lr_prediction = lr_model.predict(features_valid)\n",
    "lr_score = lr_model.score(features_valid, target_valid)\n",
    "print(lr_score)"
   ]
  },
  {
   "cell_type": "markdown",
   "id": "3ebfb0cb",
   "metadata": {},
   "source": [
    "Самый низки показатель точности."
   ]
  },
  {
   "cell_type": "markdown",
   "id": "c2038264",
   "metadata": {},
   "source": [
    "<div class=\"alert alert-block alert-warning\">\n",
    "привести признаки к одному масштабу. Если же хочешь использовать классический вариант логистической регрессии стоит использовать penalty='none'\n",
    "</div>"
   ]
  },
  {
   "cell_type": "markdown",
   "id": "0284157a",
   "metadata": {},
   "source": [
    "<a id='sixth'></a>\n",
    "# 6. Проверки на тестовой выборке\n",
    "[<<](#fivth) [содержание](#content) [>>](#seventh)"
   ]
  },
  {
   "cell_type": "markdown",
   "id": "fc784bfa",
   "metadata": {},
   "source": [
    "## 6.1. Решающее дерево"
   ]
  },
  {
   "cell_type": "markdown",
   "id": "af1cf82f",
   "metadata": {},
   "source": [
    "Выбираем глубину дерева 9, показавшую максимальную точность на валидационной выборке."
   ]
  },
  {
   "cell_type": "code",
   "execution_count": 16,
   "id": "5cccac26",
   "metadata": {},
   "outputs": [
    {
     "name": "stdout",
     "output_type": "stream",
     "text": [
      "0.7853810264385692\n"
     ]
    }
   ],
   "source": [
    "dec_tree_model_test = DecisionTreeClassifier(random_state=8323, max_depth=9)\n",
    "dec_tree_model_test.fit(features_train, target_train)\n",
    "dec_tree_prediction_test = dec_tree_model_test.predict(features_test)\n",
    "dec_tree_accuracy_test = accuracy_score(target_test, dec_tree_prediction_test)\n",
    "print(dec_tree_accuracy_test)"
   ]
  },
  {
   "cell_type": "markdown",
   "id": "3e7a6a28",
   "metadata": {},
   "source": [
    "## 6.2. Случайный лес"
   ]
  },
  {
   "cell_type": "code",
   "execution_count": 17,
   "id": "e932ba66",
   "metadata": {},
   "outputs": [
    {
     "data": {
      "text/plain": [
       "0.807153965785381"
      ]
     },
     "execution_count": 17,
     "metadata": {},
     "output_type": "execute_result"
    }
   ],
   "source": [
    "rnd_forest_model_test = RandomForestClassifier(random_state=8323, max_depth=9, n_estimators=11)\n",
    "rnd_forest_model_test.fit(features_train, target_train)\n",
    "rnd_forest_prediction_test = rnd_forest_model_test.predict(features_test)\n",
    "accuracy_score(target_test, rnd_forest_prediction_test)"
   ]
  },
  {
   "cell_type": "markdown",
   "id": "838660cb",
   "metadata": {},
   "source": [
    "## 6.3. Логистическая регрессия"
   ]
  },
  {
   "cell_type": "markdown",
   "id": "df5ad2a4",
   "metadata": {},
   "source": [
    "Так как мы не меняли гиперпараметры у модели логистической регрессии, то нет необходимости переобучать модель. Рассчитаем точность предсказаний тестовой выборке."
   ]
  },
  {
   "cell_type": "code",
   "execution_count": 18,
   "id": "e4576e22",
   "metadata": {},
   "outputs": [
    {
     "name": "stdout",
     "output_type": "stream",
     "text": [
      "0.6951788491446346\n"
     ]
    }
   ],
   "source": [
    "lr_score = lr_model.score(features_test, target_test)\n",
    "print(lr_score)"
   ]
  },
  {
   "cell_type": "markdown",
   "id": "3ef8d2e2",
   "metadata": {},
   "source": [
    "<a id='conclusion'></a>\n",
    "# Вывод\n",
    "[<<](#sixth) [содержание](#content)"
   ]
  },
  {
   "cell_type": "markdown",
   "id": "74f16e46",
   "metadata": {},
   "source": [
    "<li>Максимальную точно предсказаний показала модель Случайный лес. Далее идет решающее дерево. Самый низкий показатель у Логистической регрессии."
   ]
  }
 ],
 "metadata": {
  "ExecuteTimeLog": [
   {
    "duration": 70,
    "start_time": "2022-05-02T07:20:47.122Z"
   },
   {
    "duration": 508,
    "start_time": "2022-05-02T07:28:29.428Z"
   },
   {
    "duration": 42,
    "start_time": "2022-05-02T07:28:29.939Z"
   },
   {
    "duration": 15,
    "start_time": "2022-05-02T07:28:29.983Z"
   },
   {
    "duration": 54,
    "start_time": "2022-05-02T07:28:30.001Z"
   },
   {
    "duration": 1015,
    "start_time": "2022-05-02T07:28:30.057Z"
   },
   {
    "duration": 5,
    "start_time": "2022-05-02T07:28:31.074Z"
   },
   {
    "duration": 19,
    "start_time": "2022-05-02T07:28:31.081Z"
   },
   {
    "duration": 20,
    "start_time": "2022-05-02T07:28:31.102Z"
   },
   {
    "duration": 10,
    "start_time": "2022-05-02T07:28:31.123Z"
   },
   {
    "duration": 67,
    "start_time": "2022-05-02T07:28:31.137Z"
   },
   {
    "duration": 116,
    "start_time": "2022-05-02T07:28:31.206Z"
   },
   {
    "duration": 30,
    "start_time": "2022-05-02T07:28:31.324Z"
   },
   {
    "duration": 3197,
    "start_time": "2022-05-02T07:28:31.356Z"
   },
   {
    "duration": 4,
    "start_time": "2022-05-02T07:28:34.555Z"
   },
   {
    "duration": 37,
    "start_time": "2022-05-02T07:28:34.561Z"
   },
   {
    "duration": 18,
    "start_time": "2022-05-02T07:28:34.601Z"
   },
   {
    "duration": 86,
    "start_time": "2022-05-02T07:28:34.621Z"
   },
   {
    "duration": 8,
    "start_time": "2022-05-02T07:28:34.709Z"
   }
  ],
  "kernelspec": {
   "display_name": "Python 3 (ipykernel)",
   "language": "python",
   "name": "python3"
  },
  "language_info": {
   "codemirror_mode": {
    "name": "ipython",
    "version": 3
   },
   "file_extension": ".py",
   "mimetype": "text/x-python",
   "name": "python",
   "nbconvert_exporter": "python",
   "pygments_lexer": "ipython3",
   "version": "3.9.7"
  },
  "toc": {
   "base_numbering": 1,
   "nav_menu": {},
   "number_sections": true,
   "sideBar": true,
   "skip_h1_title": true,
   "title_cell": "Table of Contents",
   "title_sidebar": "Contents",
   "toc_cell": false,
   "toc_position": {},
   "toc_section_display": true,
   "toc_window_display": false
  }
 },
 "nbformat": 4,
 "nbformat_minor": 5
}
