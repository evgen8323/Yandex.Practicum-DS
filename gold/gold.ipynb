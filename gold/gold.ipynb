{
 "cells": [
  {
   "cell_type": "markdown",
   "id": "1e246d4e",
   "metadata": {},
   "source": [
    "Необходимо подготовить модель для предсказания коэффициента восстановления золота из золотосодержащей руды. "
   ]
  },
  {
   "cell_type": "markdown",
   "id": "60c46452",
   "metadata": {},
   "source": [
    "# Подготовка данных"
   ]
  },
  {
   "cell_type": "markdown",
   "id": "f2adabb6",
   "metadata": {},
   "source": [
    "## Импорт библиотек. Обзор данных."
   ]
  },
  {
   "cell_type": "code",
   "execution_count": 1,
   "id": "edfc514c",
   "metadata": {},
   "outputs": [],
   "source": [
    "import pandas as pd\n",
    "from sklearn.metrics import mean_absolute_error as mae\n",
    "import matplotlib.pyplot as plt\n",
    "import scipy.stats as st\n",
    "\n",
    "from sklearn.model_selection import train_test_split\n",
    "\n",
    "from sklearn.tree import DecisionTreeRegressor\n",
    "from sklearn.ensemble import RandomForestRegressor\n",
    "\n",
    "from sklearn.model_selection import cross_val_predict as cvp\n",
    "from sklearn.model_selection import cross_val_score\n",
    "from sklearn.metrics import make_scorer"
   ]
  },
  {
   "cell_type": "code",
   "execution_count": 2,
   "id": "81a08a2b",
   "metadata": {},
   "outputs": [],
   "source": [
    "full = pd.read_csv('https://code.s3.yandex.net/datasets/gold_recovery_full_new.csv', index_col='date')\n",
    "test = pd.read_csv('https://code.s3.yandex.net/datasets/gold_recovery_test_new.csv', index_col='date')\n",
    "train = pd.read_csv('https://code.s3.yandex.net/datasets/gold_recovery_train_new.csv', index_col='date')"
   ]
  },
  {
   "cell_type": "markdown",
   "id": "41c4b8ba",
   "metadata": {},
   "source": [
    "## Расчет recovery. Сравнение с данным в таблице. Расчет MAE."
   ]
  },
  {
   "cell_type": "code",
   "execution_count": 3,
   "id": "1427534c",
   "metadata": {},
   "outputs": [],
   "source": [
    "def recovery(c, f, t):\n",
    "    return c * (f - t) * 100 / (f * (c - t))"
   ]
  },
  {
   "cell_type": "code",
   "execution_count": 4,
   "id": "d5dd0c28",
   "metadata": {
    "scrolled": false
   },
   "outputs": [
    {
     "data": {
      "text/plain": [
       "1.1131451184435918e-14"
      ]
     },
     "execution_count": 4,
     "metadata": {},
     "output_type": "execute_result"
    }
   ],
   "source": [
    "c_rougher = train['rougher.output.concentrate_au']\n",
    "f_rougher = train['rougher.input.feed_au']\n",
    "t_rougher = train['rougher.output.tail_au']\n",
    "recovery_rougher = recovery(c_rougher, f_rougher, t_rougher)\n",
    "mae(recovery_rougher, train['rougher.output.recovery'])"
   ]
  },
  {
   "cell_type": "markdown",
   "id": "04385f12",
   "metadata": {},
   "source": [
    "MAE очень низкое. Значит ошибка очень низкая. Значит целевой признак отображен корректно."
   ]
  },
  {
   "cell_type": "markdown",
   "id": "6c0ecb0f",
   "metadata": {},
   "source": [
    "## Данные, которых нет в тестовой выборке"
   ]
  },
  {
   "cell_type": "code",
   "execution_count": 5,
   "id": "142353ef",
   "metadata": {
    "scrolled": false
   },
   "outputs": [
    {
     "name": "stdout",
     "output_type": "stream",
     "text": [
      "<class 'pandas.core.frame.DataFrame'>\n",
      "Index: 19439 entries, 2016-01-15 00:00:00 to 2018-08-18 10:59:59\n",
      "Data columns (total 34 columns):\n",
      " #   Column                                              Non-Null Count  Dtype  \n",
      "---  ------                                              --------------  -----  \n",
      " 0   final.output.concentrate_ag                         19438 non-null  float64\n",
      " 1   final.output.concentrate_pb                         19438 non-null  float64\n",
      " 2   final.output.concentrate_sol                        19228 non-null  float64\n",
      " 3   final.output.concentrate_au                         19439 non-null  float64\n",
      " 4   final.output.recovery                               19439 non-null  float64\n",
      " 5   final.output.tail_ag                                19438 non-null  float64\n",
      " 6   final.output.tail_pb                                19338 non-null  float64\n",
      " 7   final.output.tail_sol                               19433 non-null  float64\n",
      " 8   final.output.tail_au                                19439 non-null  float64\n",
      " 9   primary_cleaner.output.concentrate_ag               19439 non-null  float64\n",
      " 10  primary_cleaner.output.concentrate_pb               19323 non-null  float64\n",
      " 11  primary_cleaner.output.concentrate_sol              19069 non-null  float64\n",
      " 12  primary_cleaner.output.concentrate_au               19439 non-null  float64\n",
      " 13  primary_cleaner.output.tail_ag                      19435 non-null  float64\n",
      " 14  primary_cleaner.output.tail_pb                      19418 non-null  float64\n",
      " 15  primary_cleaner.output.tail_sol                     19377 non-null  float64\n",
      " 16  primary_cleaner.output.tail_au                      19439 non-null  float64\n",
      " 17  rougher.calculation.sulfate_to_au_concentrate       19437 non-null  float64\n",
      " 18  rougher.calculation.floatbank10_sulfate_to_au_feed  19437 non-null  float64\n",
      " 19  rougher.calculation.floatbank11_sulfate_to_au_feed  19437 non-null  float64\n",
      " 20  rougher.calculation.au_pb_ratio                     19439 non-null  float64\n",
      " 21  rougher.output.concentrate_ag                       19439 non-null  float64\n",
      " 22  rougher.output.concentrate_pb                       19439 non-null  float64\n",
      " 23  rougher.output.concentrate_sol                      19416 non-null  float64\n",
      " 24  rougher.output.concentrate_au                       19439 non-null  float64\n",
      " 25  rougher.output.recovery                             19439 non-null  float64\n",
      " 26  rougher.output.tail_ag                              19438 non-null  float64\n",
      " 27  rougher.output.tail_pb                              19439 non-null  float64\n",
      " 28  rougher.output.tail_sol                             19439 non-null  float64\n",
      " 29  rougher.output.tail_au                              19439 non-null  float64\n",
      " 30  secondary_cleaner.output.tail_ag                    19437 non-null  float64\n",
      " 31  secondary_cleaner.output.tail_pb                    19427 non-null  float64\n",
      " 32  secondary_cleaner.output.tail_sol                   17691 non-null  float64\n",
      " 33  secondary_cleaner.output.tail_au                    19439 non-null  float64\n",
      "dtypes: float64(34)\n",
      "memory usage: 5.2+ MB\n"
     ]
    }
   ],
   "source": [
    "full.drop(test.columns, axis=1).info()"
   ]
  },
  {
   "cell_type": "markdown",
   "id": "e631b8e7",
   "metadata": {},
   "source": [
    "В тестовой выборке отсутствуют целевые признаки, а так же ряд других полезных для обучения данных..\n"
   ]
  },
  {
   "cell_type": "markdown",
   "id": "0b84f032",
   "metadata": {},
   "source": [
    "Оставим в обучающем датасете тот же набор признаков, что и в тестовом датасете"
   ]
  },
  {
   "cell_type": "code",
   "execution_count": 6,
   "id": "ead71acb",
   "metadata": {},
   "outputs": [],
   "source": [
    "train_2 = train[test.columns]\n",
    "test_2 = test  # для удобства, что бы не путаться с индексами"
   ]
  },
  {
   "cell_type": "markdown",
   "id": "92d7de2d",
   "metadata": {},
   "source": [
    "## Предобработка данных"
   ]
  },
  {
   "cell_type": "markdown",
   "id": "ec4a6ac5",
   "metadata": {},
   "source": [
    "Выделим все выборки по новой. Заменим пустоты методом ffill"
   ]
  },
  {
   "cell_type": "code",
   "execution_count": 8,
   "id": "c74ba60e",
   "metadata": {},
   "outputs": [],
   "source": [
    "# Заполнение пропусков\n",
    "test_2 = test_2.fillna(method='ffill')\n",
    "train_2 = train_2.fillna(method='ffill')\n",
    "full_2 = full.fillna(method='ffill')"
   ]
  },
  {
   "cell_type": "markdown",
   "id": "ecca37b3",
   "metadata": {},
   "source": [
    "# Анализ данных"
   ]
  },
  {
   "cell_type": "markdown",
   "id": "c555ac24",
   "metadata": {},
   "source": [
    "## Значения концентрации металлов на разных этапах очистки"
   ]
  },
  {
   "cell_type": "code",
   "execution_count": 9,
   "id": "a8552be4",
   "metadata": {},
   "outputs": [
    {
     "data": {
      "text/plain": [
       "Text(0.5, 1.0, 'Изменение концентрации золота')"
      ]
     },
     "execution_count": 9,
     "metadata": {},
     "output_type": "execute_result"
    },
    {
     "data": {
      "image/png": "[encoded data removed]",
      "text/plain": [
       "<Figure size 432x288 with 1 Axes>"
      ]
     },
     "metadata": {
      "needs_background": "light"
     },
     "output_type": "display_data"
    }
   ],
   "source": [
    "plt.hist(full_2['rougher.input.feed_au'], bins=30, alpha=.5, label='rougher.input')\n",
    "plt.hist(full_2['rougher.output.concentrate_au'], bins=30, alpha=.5, label='rougher.output')\n",
    "plt.hist(full_2['primary_cleaner.output.concentrate_au'], bins=30, alpha=.5, label='primary_cleaner')\n",
    "plt.hist(full_2['final.output.concentrate_au'], bins=30, alpha=.5, label='final')\n",
    "plt.legend()\n",
    "plt.title('Изменение концентрации золота')"
   ]
  },
  {
   "cell_type": "code",
   "execution_count": 10,
   "id": "f37cd634",
   "metadata": {
    "scrolled": false
   },
   "outputs": [
    {
     "data": {
      "text/plain": [
       "Text(0.5, 1.0, 'Изменение концентрации серебра')"
      ]
     },
     "execution_count": 10,
     "metadata": {},
     "output_type": "execute_result"
    },
    {
     "data": {
      "image/png": "[encoded data removed]",
      "text/plain": [
       "<Figure size 432x288 with 1 Axes>"
      ]
     },
     "metadata": {
      "needs_background": "light"
     },
     "output_type": "display_data"
    }
   ],
   "source": [
    "plt.hist(full_2['rougher.input.feed_ag'], bins=30, alpha=.5, label='rougher.input')\n",
    "plt.hist(full_2['rougher.output.concentrate_ag'], bins=30, alpha=.5, label='rougher.output')\n",
    "plt.hist(full_2['primary_cleaner.output.concentrate_ag'], bins=30, alpha=.5, label='primary_cleaner')\n",
    "plt.hist(full_2['final.output.concentrate_ag'], bins=30, alpha=.5, label='final')\n",
    "plt.legend()\n",
    "plt.title('Изменение концентрации серебра')"
   ]
  },
  {
   "cell_type": "code",
   "execution_count": 11,
   "id": "4df4fd01",
   "metadata": {},
   "outputs": [
    {
     "data": {
      "text/plain": [
       "Text(0.5, 1.0, 'Изменение концентрации свинца')"
      ]
     },
     "execution_count": 11,
     "metadata": {},
     "output_type": "execute_result"
    },
    {
     "data": {
      "image/png": "[encoded data removed]",
      "text/plain": [
       "<Figure size 432x288 with 1 Axes>"
      ]
     },
     "metadata": {
      "needs_background": "light"
     },
     "output_type": "display_data"
    }
   ],
   "source": [
    "plt.hist(full_2['rougher.input.feed_pb'], bins=30, alpha=.5, label='rougher.input')\n",
    "plt.hist(full_2['rougher.output.concentrate_pb'], bins=30, alpha=.5, label='rougher.output')\n",
    "plt.hist(full_2['primary_cleaner.output.concentrate_pb'], bins=30, alpha=.5, label='primary_cleaner')\n",
    "plt.hist(full_2['final.output.concentrate_pb'], bins=30, alpha=.5, label='final')\n",
    "plt.legend()\n",
    "plt.title('Изменение концентрации свинца')"
   ]
  },
  {
   "cell_type": "markdown",
   "id": "edd790a3",
   "metadata": {},
   "source": [
    "С каждым этапом растет концентрация золота и незначительно свинца. Концентрация серебра снижается."
   ]
  },
  {
   "cell_type": "markdown",
   "id": "85c6201d",
   "metadata": {},
   "source": [
    "## Распределения размера гранул"
   ]
  },
  {
   "cell_type": "markdown",
   "id": "784a7f5a",
   "metadata": {},
   "source": [
    "### rougher"
   ]
  },
  {
   "cell_type": "code",
   "execution_count": 12,
   "id": "25f86a33",
   "metadata": {
    "scrolled": false
   },
   "outputs": [
    {
     "data": {
      "text/plain": [
       "(array([2.100e+01, 4.720e+02, 7.542e+03, 3.731e+03, 1.842e+03, 2.770e+02,\n",
       "        8.900e+01, 4.500e+01, 2.400e+01, 9.000e+00, 1.600e+01, 7.000e+00,\n",
       "        1.600e+01, 5.000e+00, 3.000e+00, 6.000e+00, 5.000e+00, 4.000e+00,\n",
       "        5.000e+00, 4.000e+00, 1.700e+01, 2.000e+00, 2.000e+00, 1.000e+00,\n",
       "        1.000e+00, 1.000e+00, 0.000e+00, 1.000e+00, 0.000e+00, 1.000e+00]),\n",
       " array([  9.65957631,  25.50317265,  41.34676899,  57.19036533,\n",
       "         73.03396167,  88.87755801, 104.72115435, 120.56475069,\n",
       "        136.40834703, 152.25194337, 168.09553971, 183.93913605,\n",
       "        199.78273239, 215.62632873, 231.46992506, 247.3135214 ,\n",
       "        263.15711774, 279.00071408, 294.84431042, 310.68790676,\n",
       "        326.5315031 , 342.37509944, 358.21869578, 374.06229212,\n",
       "        389.90588846, 405.7494848 , 421.59308114, 437.43667748,\n",
       "        453.28027382, 469.12387015, 484.96746649]),\n",
       " <BarContainer object of 30 artists>)"
      ]
     },
     "execution_count": 12,
     "metadata": {},
     "output_type": "execute_result"
    },
    {
     "data": {
      "image/png": "[encoded data removed]",
      "text/plain": [
       "<Figure size 432x288 with 1 Axes>"
      ]
     },
     "metadata": {
      "needs_background": "light"
     },
     "output_type": "display_data"
    }
   ],
   "source": [
    "plt.hist(test_2['rougher.input.feed_size'], bins=30, alpha=.5)\n",
    "plt.hist(train_2['rougher.input.feed_size'], bins=30, alpha=.5)"
   ]
  },
  {
   "cell_type": "code",
   "execution_count": 13,
   "id": "fca20135",
   "metadata": {},
   "outputs": [
    {
     "data": {
      "text/plain": [
       "count    5290.000000\n",
       "mean       55.952754\n",
       "std        19.080334\n",
       "min         0.046369\n",
       "25%        43.906504\n",
       "50%        50.846843\n",
       "75%        62.451165\n",
       "max       392.494040\n",
       "Name: rougher.input.feed_size, dtype: float64"
      ]
     },
     "execution_count": 13,
     "metadata": {},
     "output_type": "execute_result"
    }
   ],
   "source": [
    "test_2['rougher.input.feed_size'].describe()"
   ]
  },
  {
   "cell_type": "code",
   "execution_count": 93,
   "id": "ff959295",
   "metadata": {},
   "outputs": [
    {
     "data": {
      "text/plain": [
       "count    13789.000000\n",
       "mean        60.253254\n",
       "std         23.087127\n",
       "min          9.659576\n",
       "25%         48.988817\n",
       "50%         55.333956\n",
       "75%         65.960137\n",
       "max        484.967466\n",
       "Name: rougher.input.feed_size, dtype: float64"
      ]
     },
     "execution_count": 93,
     "metadata": {},
     "output_type": "execute_result"
    }
   ],
   "source": [
    "train_2['rougher.input.feed_size'].describe()"
   ]
  },
  {
   "cell_type": "code",
   "execution_count": 15,
   "id": "da20b0e0",
   "metadata": {},
   "outputs": [
    {
     "data": {
      "text/plain": [
       "Ttest_indResult(statistic=-12.088216423310282, pvalue=1.6081245670851188e-33)"
      ]
     },
     "execution_count": 15,
     "metadata": {},
     "output_type": "execute_result"
    }
   ],
   "source": [
    "rougher_desp = st.ttest_ind(test_2['rougher.input.feed_size'], train_2['rougher.input.feed_size'])\n",
    "rougher_desp"
   ]
  },
  {
   "cell_type": "markdown",
   "id": "45a725e3",
   "metadata": {},
   "source": [
    "### final"
   ]
  },
  {
   "cell_type": "code",
   "execution_count": 16,
   "id": "329dfc99",
   "metadata": {},
   "outputs": [
    {
     "data": {
      "text/plain": [
       "(array([8.000e+00, 0.000e+00, 0.000e+00, 0.000e+00, 0.000e+00, 0.000e+00,\n",
       "        0.000e+00, 0.000e+00, 0.000e+00, 0.000e+00, 0.000e+00, 0.000e+00,\n",
       "        1.300e+01, 1.200e+01, 6.200e+01, 2.330e+02, 3.600e+02, 1.272e+03,\n",
       "        2.255e+03, 3.554e+03, 2.630e+03, 1.742e+03, 1.070e+03, 6.550e+02,\n",
       "        2.110e+02, 4.700e+01, 2.100e+01, 0.000e+00, 2.000e+00, 2.000e+00]),\n",
       " array([ 1.08000004,  1.39300005,  1.70600006,  2.01900007,  2.33200007,\n",
       "         2.64500008,  2.95800009,  3.2710001 ,  3.5840001 ,  3.89700011,\n",
       "         4.21000012,  4.52300013,  4.83600013,  5.14900014,  5.46200015,\n",
       "         5.77500015,  6.08800016,  6.40100017,  6.71400018,  7.02700018,\n",
       "         7.34000019,  7.6530002 ,  7.96600021,  8.27900021,  8.59200022,\n",
       "         8.90500023,  9.21800024,  9.53100024,  9.84400025, 10.15700026,\n",
       "        10.47000027]),\n",
       " <BarContainer object of 30 artists>)"
      ]
     },
     "execution_count": 16,
     "metadata": {},
     "output_type": "execute_result"
    },
    {
     "data": {
      "image/png": "[encoded data removed]",
      "text/plain": [
       "<Figure size 432x288 with 1 Axes>"
      ]
     },
     "metadata": {
      "needs_background": "light"
     },
     "output_type": "display_data"
    }
   ],
   "source": [
    "plt.hist(test_2['primary_cleaner.input.feed_size'], bins=30, alpha=.5)\n",
    "plt.hist(train_2['primary_cleaner.input.feed_size'], bins=30, alpha=.5)"
   ]
  },
  {
   "cell_type": "code",
   "execution_count": 17,
   "id": "99578400",
   "metadata": {},
   "outputs": [
    {
     "data": {
      "text/plain": [
       "count    5290.000000\n",
       "mean        7.266339\n",
       "std         0.610219\n",
       "min         5.650000\n",
       "25%         6.890000\n",
       "50%         7.250000\n",
       "75%         7.600000\n",
       "max        15.500000\n",
       "Name: primary_cleaner.input.feed_size, dtype: float64"
      ]
     },
     "execution_count": 17,
     "metadata": {},
     "output_type": "execute_result"
    }
   ],
   "source": [
    "test_2['primary_cleaner.input.feed_size'].describe()"
   ]
  },
  {
   "cell_type": "code",
   "execution_count": 18,
   "id": "c0d592a6",
   "metadata": {},
   "outputs": [
    {
     "data": {
      "text/plain": [
       "count    14149.000000\n",
       "mean         7.322310\n",
       "std          0.614062\n",
       "min          1.080000\n",
       "25%          6.960000\n",
       "50%          7.290000\n",
       "75%          7.700000\n",
       "max         10.470000\n",
       "Name: primary_cleaner.input.feed_size, dtype: float64"
      ]
     },
     "execution_count": 18,
     "metadata": {},
     "output_type": "execute_result"
    }
   ],
   "source": [
    "train_2['primary_cleaner.input.feed_size'].describe()"
   ]
  },
  {
   "cell_type": "code",
   "execution_count": 19,
   "id": "bfbd1f0f",
   "metadata": {},
   "outputs": [
    {
     "data": {
      "text/plain": [
       "Ttest_indResult(statistic=-5.665533565560782, pvalue=1.4864182925957636e-08)"
      ]
     },
     "execution_count": 19,
     "metadata": {},
     "output_type": "execute_result"
    }
   ],
   "source": [
    "primary_desp = st.ttest_ind(test_2['primary_cleaner.input.feed_size'], train_2['primary_cleaner.input.feed_size'])\n",
    "primary_desp"
   ]
  },
  {
   "cell_type": "markdown",
   "id": "240a503d",
   "metadata": {},
   "source": [
    "Визуально по графиук, а так же по данным распределения, значения выборок выглядят похожими."
   ]
  },
  {
   "cell_type": "markdown",
   "id": "b2d72906",
   "metadata": {},
   "source": [
    "## Суммарная концентрация сырья на разных стадиях."
   ]
  },
  {
   "cell_type": "code",
   "execution_count": 20,
   "id": "94b5d667",
   "metadata": {},
   "outputs": [],
   "source": [
    "THRESHOLD = 1\n",
    "input_conz = ['rougher.input.feed_au', 'rougher.input.feed_ag', 'rougher.input.feed_pb', 'rougher.input.feed_sol']\n",
    "prim_conz = ['rougher.output.concentrate_au', 'rougher.output.concentrate_ag', 'rougher.output.concentrate_pb', 'rougher.output.concentrate_sol']\n",
    "fin_conz = ['final.output.concentrate_au', 'final.output.concentrate_ag', 'final.output.concentrate_pb', 'final.output.concentrate_sol']"
   ]
  },
  {
   "cell_type": "code",
   "execution_count": 21,
   "id": "9fe77f74",
   "metadata": {
    "scrolled": false
   },
   "outputs": [
    {
     "data": {
      "text/plain": [
       "<matplotlib.legend.Legend at 0x7fad41925a90>"
      ]
     },
     "execution_count": 21,
     "metadata": {},
     "output_type": "execute_result"
    },
    {
     "data": {
      "image/png": "[encoded data removed]",
      "text/plain": [
       "<Figure size 432x288 with 1 Axes>"
      ]
     },
     "metadata": {
      "needs_background": "light"
     },
     "output_type": "display_data"
    }
   ],
   "source": [
    "plt.hist(full_2[input_conz].sum(1), label='rougher', alpha=.5, bins=30)\n",
    "plt.hist(full_2[prim_conz].sum(1), label='primary', alpha=.5, bins=30)\n",
    "plt.hist(full_2[fin_conz].sum(1), label='final', alpha=.5, bins=30)\n",
    "plt.legend()"
   ]
  },
  {
   "cell_type": "markdown",
   "id": "dfed6f05",
   "metadata": {},
   "source": [
    "Удалим из выборок строки, в которых суммарная концентрация металлов блзка к 0."
   ]
  },
  {
   "cell_type": "code",
   "execution_count": 22,
   "id": "1cdb7d1a",
   "metadata": {},
   "outputs": [],
   "source": [
    "train_2 = full_2.loc[train_2.index]\n",
    "train_2 = train_2[train_2[input_conz].sum(1) > THRESHOLD]\n",
    "train_2 = train_2[train_2[prim_conz].sum(1) > THRESHOLD]\n",
    "train_2 = train_2[train_2[fin_conz].sum(1) > THRESHOLD]\n",
    "train_2 = train_2[test.columns]"
   ]
  },
  {
   "cell_type": "code",
   "execution_count": 23,
   "id": "cc42c45a",
   "metadata": {},
   "outputs": [],
   "source": [
    "test_2 = full_2.loc[test_2.index]\n",
    "test_2 = test_2[test_2[input_conz].sum(1) > THRESHOLD]\n",
    "test_2 = test_2[test_2[prim_conz].sum(1) > THRESHOLD]\n",
    "test_2 = test_2[test_2[fin_conz].sum(1) > THRESHOLD]\n",
    "test_2 = test_2[test.columns]"
   ]
  },
  {
   "cell_type": "markdown",
   "id": "33b78f02",
   "metadata": {},
   "source": [
    "# Обучение моделей"
   ]
  },
  {
   "cell_type": "markdown",
   "id": "57581cba",
   "metadata": {},
   "source": [
    "## Функция для расчета метрики sMAPE"
   ]
  },
  {
   "cell_type": "code",
   "execution_count": 66,
   "id": "35daa5c5",
   "metadata": {},
   "outputs": [],
   "source": [
    "def sMAPE(y, y_hat):\n",
    "    numerator = abs(y - y_hat)\n",
    "    denominator = (abs(y) + abs(y_hat)) / 2\n",
    "    private = numerator * 100 / denominator\n",
    "    return private.sum() / len(private)\n",
    "\n",
    "\n",
    "def sMAPE_total(y, y_hat):\n",
    "    y_hat = pd.DataFrame(y_hat, index=y.index, columns=y.columns)\n",
    "    y_rought = y['rougher.output.recovery']\n",
    "    y_hat_rought = y_hat['rougher.output.recovery']\n",
    "    y_final = y['final.output.recovery']\n",
    "    y_hat_final = y_hat['final.output.recovery']\n",
    "\n",
    "    sMAPE_rought = sMAPE(y_rought, y_hat_rought)\n",
    "    sMAPE_final = sMAPE(y_final, y_hat_final)\n",
    "\n",
    "    return .25 * sMAPE_rought + .75 * sMAPE_final"
   ]
  },
  {
   "cell_type": "code",
   "execution_count": 80,
   "id": "3d1f1bfd",
   "metadata": {},
   "outputs": [],
   "source": [
    "my_scorer = make_scorer(sMAPE_total, greater_is_better=True)"
   ]
  },
  {
   "cell_type": "markdown",
   "id": "3c0289c3",
   "metadata": {},
   "source": [
    "Добавил функцию sMAPE_total, которая возвращает итоговую sMAPE."
   ]
  },
  {
   "cell_type": "markdown",
   "id": "10a83d2b",
   "metadata": {},
   "source": [
    "## Выделение обучающих данных и целевых признаков"
   ]
  },
  {
   "cell_type": "code",
   "execution_count": 46,
   "id": "6888116b",
   "metadata": {
    "scrolled": true
   },
   "outputs": [],
   "source": [
    "target_train = full_2.loc[train_2.index, ['rougher.output.recovery', 'final.output.recovery']]\n",
    "target_test = full_2.loc[test_2.index, ['rougher.output.recovery', 'final.output.recovery']]"
   ]
  },
  {
   "cell_type": "markdown",
   "id": "6e1ecea1",
   "metadata": {},
   "source": [
    "## Выбор моделей кроссвалидацией, обучение, оценка"
   ]
  },
  {
   "cell_type": "code",
   "execution_count": 30,
   "id": "0b1a45a6",
   "metadata": {},
   "outputs": [],
   "source": [
    "# max_r, max_f = 0, 0\n",
    "# for max_depth in range(5, 15):\n",
    "#     model_dtr_cvs_rough = DecisionTreeRegressor(random_state=8323, max_depth=max_depth)\n",
    "#     model_dtr_cvs_final = DecisionTreeRegressor(random_state=8323, max_depth=max_depth)\n",
    "\n",
    "#     score_dtr_cvs_rough = cross_val_score(model_dtr_cvs_rough, features, target_rougher, cv=10)\n",
    "#     score_dtr_cvs_final = cross_val_score(model_dtr_cvs_final, features, target_final, cv=10)\n",
    "#     if score_dtr_cvs_rough.mean() > max_r and score_dtr_cvs_final.mean() > max_f:\n",
    "#         max_r = score_dtr_cvs_rough.mean()\n",
    "#         max_f = score_dtr_cvs_final.mean()\n",
    "#         print(max_depth, 'score_rough =', max_r, '|', 'score_final =', max_f)"
   ]
  },
  {
   "cell_type": "code",
   "execution_count": 31,
   "id": "e83c9ae3",
   "metadata": {},
   "outputs": [],
   "source": [
    "# max_r, max_f = 0, 0\n",
    "# n_estimators = 60\n",
    "# for max_depth in range(11, 15):\n",
    "#     model_rfr_cvs_rough = RandomForestRegressor(random_state=8323, max_depth=max_depth, n_estimators=n_estimators)\n",
    "#     model_rfr_cvs_final = RandomForestRegressor(random_state=8323, max_depth=max_depth, n_estimators=n_estimators)\n",
    "\n",
    "#     score_rfr_cvs_rougher = cross_val_score(model_rfr_cvs_rough, features, target_rougher, cv=3)\n",
    "#     score_rfr_cvs_final = cross_val_score(model_rfr_cvs_final, features, target_final, cv=3)\n",
    "\n",
    "#     print(max_depth, score_rfr_cvs_rougher.mean(), score_rfr_cvs_final.mean())"
   ]
  },
  {
   "cell_type": "markdown",
   "id": "305064ed",
   "metadata": {},
   "source": [
    "Выбираем модель и гиперпараметры, показавшие лучшие результаты. А именно RandomForestRegressor, со значениями max_depth = 14 и n_estimators = 60 (тесты с дургим набором гиперпараметров провоидл, занимает очень много времени, здесь выделил наилучую из проверенных комбинаций)."
   ]
  },
  {
   "cell_type": "code",
   "execution_count": 32,
   "id": "2956b90b",
   "metadata": {},
   "outputs": [],
   "source": [
    "# model_rfr_cvs_rough = RandomForestRegressor(random_state=8323, max_depth=14, n_estimators=60)\n",
    "# model_rfr_cvs_final = RandomForestRegressor(random_state=8323, max_depth=14, n_estimators=60)\n",
    "# rfr_rough_pred = model_rfr_cvs_rough.fit(features, target_rougher).predict(features_test)\n",
    "# rfr_final_pred = model_rfr_cvs_final.fit(features, target_final).predict(features_test)\n",
    "\n",
    "# sMAPE_rough = sMAPE(target_rougher_test, rfr_rough_pred)\n",
    "# sMAPE_final = sMAPE(target_final_test, rfr_final_pred)\n",
    "# sMAPE_total = .25 * sMAPE_rough + .75 * sMAPE_final\n",
    "# print('Значение ошибки sMAPE, на выбранной модели на тестовых данных:', sMAPE_total)"
   ]
  },
  {
   "cell_type": "code",
   "execution_count": 81,
   "id": "cbafc7c6",
   "metadata": {},
   "outputs": [
    {
     "name": "stdout",
     "output_type": "stream",
     "text": [
      "5 11.349467237743864\n",
      "6 10.251817160651878\n",
      "7 13.210461788460023\n",
      "8 11.227107660655832\n",
      "9 10.969788084267579\n",
      "10 13.979361282079344\n",
      "11 12.630123872646239\n",
      "12 15.552942421046108\n",
      "13 13.88804306096672\n",
      "14 15.921234599964103\n"
     ]
    }
   ],
   "source": [
    "for max_depth in range(5, 15):\n",
    "    model_dtr = DecisionTreeRegressor(random_state=8323, max_depth=max_depth)\n",
    "    score_dtr = cross_val_score(model_dtr, train_2, target_train, cv=10, scoring=my_scorer)\n",
    "    print(max_depth, score_dtr.mean())"
   ]
  },
  {
   "cell_type": "code",
   "execution_count": 85,
   "id": "a8bdb81f",
   "metadata": {
    "scrolled": true
   },
   "outputs": [
    {
     "ename": "KeyboardInterrupt",
     "evalue": "",
     "output_type": "error",
     "traceback": [
      "\u001b[0;31m---------------------------------------------------------------------------\u001b[0m",
      "\u001b[0;31mKeyboardInterrupt\u001b[0m                         Traceback (most recent call last)",
      "\u001b[0;32m/tmp/ipykernel_137/525665360.py\u001b[0m in \u001b[0;36m<module>\u001b[0;34m\u001b[0m\n\u001b[1;32m      3\u001b[0m     \u001b[0;32mfor\u001b[0m \u001b[0mmax_depth\u001b[0m \u001b[0;32min\u001b[0m \u001b[0mrange\u001b[0m\u001b[0;34m(\u001b[0m\u001b[0;36m11\u001b[0m\u001b[0;34m,\u001b[0m \u001b[0;36m15\u001b[0m\u001b[0;34m)\u001b[0m\u001b[0;34m:\u001b[0m\u001b[0;34m\u001b[0m\u001b[0;34m\u001b[0m\u001b[0m\n\u001b[1;32m      4\u001b[0m         \u001b[0mmodel_rfr\u001b[0m \u001b[0;34m=\u001b[0m \u001b[0mRandomForestRegressor\u001b[0m\u001b[0;34m(\u001b[0m\u001b[0mrandom_state\u001b[0m\u001b[0;34m=\u001b[0m\u001b[0;36m8323\u001b[0m\u001b[0;34m,\u001b[0m \u001b[0mmax_depth\u001b[0m\u001b[0;34m=\u001b[0m\u001b[0mmax_depth\u001b[0m\u001b[0;34m,\u001b[0m \u001b[0mn_estimators\u001b[0m\u001b[0;34m=\u001b[0m\u001b[0mn_estimators\u001b[0m\u001b[0;34m)\u001b[0m\u001b[0;34m\u001b[0m\u001b[0;34m\u001b[0m\u001b[0m\n\u001b[0;32m----> 5\u001b[0;31m         \u001b[0mscore_rfr\u001b[0m \u001b[0;34m=\u001b[0m \u001b[0mcross_val_score\u001b[0m\u001b[0;34m(\u001b[0m\u001b[0mmodel_rfr\u001b[0m\u001b[0;34m,\u001b[0m \u001b[0mtrain_2\u001b[0m\u001b[0;34m,\u001b[0m \u001b[0mtarget_train\u001b[0m\u001b[0;34m,\u001b[0m \u001b[0mcv\u001b[0m\u001b[0;34m=\u001b[0m\u001b[0;36m4\u001b[0m\u001b[0;34m,\u001b[0m \u001b[0mscoring\u001b[0m\u001b[0;34m=\u001b[0m\u001b[0mmy_scorer\u001b[0m\u001b[0;34m)\u001b[0m\u001b[0;34m\u001b[0m\u001b[0;34m\u001b[0m\u001b[0m\n\u001b[0m\u001b[1;32m      6\u001b[0m         \u001b[0mprint\u001b[0m\u001b[0;34m(\u001b[0m\u001b[0mmax_depth\u001b[0m\u001b[0;34m,\u001b[0m \u001b[0mn_estimators\u001b[0m\u001b[0;34m,\u001b[0m \u001b[0mscore_rfr\u001b[0m\u001b[0;34m.\u001b[0m\u001b[0mmean\u001b[0m\u001b[0;34m(\u001b[0m\u001b[0;34m)\u001b[0m\u001b[0;34m)\u001b[0m\u001b[0;34m\u001b[0m\u001b[0;34m\u001b[0m\u001b[0m\n",
      "\u001b[0;32m/opt/conda/lib/python3.9/site-packages/sklearn/utils/validation.py\u001b[0m in \u001b[0;36minner_f\u001b[0;34m(*args, **kwargs)\u001b[0m\n\u001b[1;32m     61\u001b[0m             \u001b[0mextra_args\u001b[0m \u001b[0;34m=\u001b[0m \u001b[0mlen\u001b[0m\u001b[0;34m(\u001b[0m\u001b[0margs\u001b[0m\u001b[0;34m)\u001b[0m \u001b[0;34m-\u001b[0m \u001b[0mlen\u001b[0m\u001b[0;34m(\u001b[0m\u001b[0mall_args\u001b[0m\u001b[0;34m)\u001b[0m\u001b[0;34m\u001b[0m\u001b[0;34m\u001b[0m\u001b[0m\n\u001b[1;32m     62\u001b[0m             \u001b[0;32mif\u001b[0m \u001b[0mextra_args\u001b[0m \u001b[0;34m<=\u001b[0m \u001b[0;36m0\u001b[0m\u001b[0;34m:\u001b[0m\u001b[0;34m\u001b[0m\u001b[0;34m\u001b[0m\u001b[0m\n\u001b[0;32m---> 63\u001b[0;31m                 \u001b[0;32mreturn\u001b[0m \u001b[0mf\u001b[0m\u001b[0;34m(\u001b[0m\u001b[0;34m*\u001b[0m\u001b[0margs\u001b[0m\u001b[0;34m,\u001b[0m \u001b[0;34m**\u001b[0m\u001b[0mkwargs\u001b[0m\u001b[0;34m)\u001b[0m\u001b[0;34m\u001b[0m\u001b[0;34m\u001b[0m\u001b[0m\n\u001b[0m\u001b[1;32m     64\u001b[0m \u001b[0;34m\u001b[0m\u001b[0m\n\u001b[1;32m     65\u001b[0m             \u001b[0;31m# extra_args > 0\u001b[0m\u001b[0;34m\u001b[0m\u001b[0;34m\u001b[0m\u001b[0;34m\u001b[0m\u001b[0m\n",
      "\u001b[0;32m/opt/conda/lib/python3.9/site-packages/sklearn/model_selection/_validation.py\u001b[0m in \u001b[0;36mcross_val_score\u001b[0;34m(estimator, X, y, groups, scoring, cv, n_jobs, verbose, fit_params, pre_dispatch, error_score)\u001b[0m\n\u001b[1;32m    438\u001b[0m     \u001b[0mscorer\u001b[0m \u001b[0;34m=\u001b[0m \u001b[0mcheck_scoring\u001b[0m\u001b[0;34m(\u001b[0m\u001b[0mestimator\u001b[0m\u001b[0;34m,\u001b[0m \u001b[0mscoring\u001b[0m\u001b[0;34m=\u001b[0m\u001b[0mscoring\u001b[0m\u001b[0;34m)\u001b[0m\u001b[0;34m\u001b[0m\u001b[0;34m\u001b[0m\u001b[0m\n\u001b[1;32m    439\u001b[0m \u001b[0;34m\u001b[0m\u001b[0m\n\u001b[0;32m--> 440\u001b[0;31m     cv_results = cross_validate(estimator=estimator, X=X, y=y, groups=groups,\n\u001b[0m\u001b[1;32m    441\u001b[0m                                 \u001b[0mscoring\u001b[0m\u001b[0;34m=\u001b[0m\u001b[0;34m{\u001b[0m\u001b[0;34m'score'\u001b[0m\u001b[0;34m:\u001b[0m \u001b[0mscorer\u001b[0m\u001b[0;34m}\u001b[0m\u001b[0;34m,\u001b[0m \u001b[0mcv\u001b[0m\u001b[0;34m=\u001b[0m\u001b[0mcv\u001b[0m\u001b[0;34m,\u001b[0m\u001b[0;34m\u001b[0m\u001b[0;34m\u001b[0m\u001b[0m\n\u001b[1;32m    442\u001b[0m                                 \u001b[0mn_jobs\u001b[0m\u001b[0;34m=\u001b[0m\u001b[0mn_jobs\u001b[0m\u001b[0;34m,\u001b[0m \u001b[0mverbose\u001b[0m\u001b[0;34m=\u001b[0m\u001b[0mverbose\u001b[0m\u001b[0;34m,\u001b[0m\u001b[0;34m\u001b[0m\u001b[0;34m\u001b[0m\u001b[0m\n",
      "\u001b[0;32m/opt/conda/lib/python3.9/site-packages/sklearn/utils/validation.py\u001b[0m in \u001b[0;36minner_f\u001b[0;34m(*args, **kwargs)\u001b[0m\n\u001b[1;32m     61\u001b[0m             \u001b[0mextra_args\u001b[0m \u001b[0;34m=\u001b[0m \u001b[0mlen\u001b[0m\u001b[0;34m(\u001b[0m\u001b[0margs\u001b[0m\u001b[0;34m)\u001b[0m \u001b[0;34m-\u001b[0m \u001b[0mlen\u001b[0m\u001b[0;34m(\u001b[0m\u001b[0mall_args\u001b[0m\u001b[0;34m)\u001b[0m\u001b[0;34m\u001b[0m\u001b[0;34m\u001b[0m\u001b[0m\n\u001b[1;32m     62\u001b[0m             \u001b[0;32mif\u001b[0m \u001b[0mextra_args\u001b[0m \u001b[0;34m<=\u001b[0m \u001b[0;36m0\u001b[0m\u001b[0;34m:\u001b[0m\u001b[0;34m\u001b[0m\u001b[0;34m\u001b[0m\u001b[0m\n\u001b[0;32m---> 63\u001b[0;31m                 \u001b[0;32mreturn\u001b[0m \u001b[0mf\u001b[0m\u001b[0;34m(\u001b[0m\u001b[0;34m*\u001b[0m\u001b[0margs\u001b[0m\u001b[0;34m,\u001b[0m \u001b[0;34m**\u001b[0m\u001b[0mkwargs\u001b[0m\u001b[0;34m)\u001b[0m\u001b[0;34m\u001b[0m\u001b[0;34m\u001b[0m\u001b[0m\n\u001b[0m\u001b[1;32m     64\u001b[0m \u001b[0;34m\u001b[0m\u001b[0m\n\u001b[1;32m     65\u001b[0m             \u001b[0;31m# extra_args > 0\u001b[0m\u001b[0;34m\u001b[0m\u001b[0;34m\u001b[0m\u001b[0;34m\u001b[0m\u001b[0m\n",
      "\u001b[0;32m/opt/conda/lib/python3.9/site-packages/sklearn/model_selection/_validation.py\u001b[0m in \u001b[0;36mcross_validate\u001b[0;34m(estimator, X, y, groups, scoring, cv, n_jobs, verbose, fit_params, pre_dispatch, return_train_score, return_estimator, error_score)\u001b[0m\n\u001b[1;32m    244\u001b[0m     parallel = Parallel(n_jobs=n_jobs, verbose=verbose,\n\u001b[1;32m    245\u001b[0m                         pre_dispatch=pre_dispatch)\n\u001b[0;32m--> 246\u001b[0;31m     results = parallel(\n\u001b[0m\u001b[1;32m    247\u001b[0m         delayed(_fit_and_score)(\n\u001b[1;32m    248\u001b[0m             \u001b[0mclone\u001b[0m\u001b[0;34m(\u001b[0m\u001b[0mestimator\u001b[0m\u001b[0;34m)\u001b[0m\u001b[0;34m,\u001b[0m \u001b[0mX\u001b[0m\u001b[0;34m,\u001b[0m \u001b[0my\u001b[0m\u001b[0;34m,\u001b[0m \u001b[0mscorers\u001b[0m\u001b[0;34m,\u001b[0m \u001b[0mtrain\u001b[0m\u001b[0;34m,\u001b[0m \u001b[0mtest\u001b[0m\u001b[0;34m,\u001b[0m \u001b[0mverbose\u001b[0m\u001b[0;34m,\u001b[0m \u001b[0;32mNone\u001b[0m\u001b[0;34m,\u001b[0m\u001b[0;34m\u001b[0m\u001b[0;34m\u001b[0m\u001b[0m\n",
      "\u001b[0;32m/opt/conda/lib/python3.9/site-packages/joblib/parallel.py\u001b[0m in \u001b[0;36m__call__\u001b[0;34m(self, iterable)\u001b[0m\n\u001b[1;32m   1041\u001b[0m             \u001b[0;31m# remaining jobs.\u001b[0m\u001b[0;34m\u001b[0m\u001b[0;34m\u001b[0m\u001b[0;34m\u001b[0m\u001b[0m\n\u001b[1;32m   1042\u001b[0m             \u001b[0mself\u001b[0m\u001b[0;34m.\u001b[0m\u001b[0m_iterating\u001b[0m \u001b[0;34m=\u001b[0m \u001b[0;32mFalse\u001b[0m\u001b[0;34m\u001b[0m\u001b[0;34m\u001b[0m\u001b[0m\n\u001b[0;32m-> 1043\u001b[0;31m             \u001b[0;32mif\u001b[0m \u001b[0mself\u001b[0m\u001b[0;34m.\u001b[0m\u001b[0mdispatch_one_batch\u001b[0m\u001b[0;34m(\u001b[0m\u001b[0miterator\u001b[0m\u001b[0;34m)\u001b[0m\u001b[0;34m:\u001b[0m\u001b[0;34m\u001b[0m\u001b[0;34m\u001b[0m\u001b[0m\n\u001b[0m\u001b[1;32m   1044\u001b[0m                 \u001b[0mself\u001b[0m\u001b[0;34m.\u001b[0m\u001b[0m_iterating\u001b[0m \u001b[0;34m=\u001b[0m \u001b[0mself\u001b[0m\u001b[0;34m.\u001b[0m\u001b[0m_original_iterator\u001b[0m \u001b[0;32mis\u001b[0m \u001b[0;32mnot\u001b[0m \u001b[0;32mNone\u001b[0m\u001b[0;34m\u001b[0m\u001b[0;34m\u001b[0m\u001b[0m\n\u001b[1;32m   1045\u001b[0m \u001b[0;34m\u001b[0m\u001b[0m\n",
      "\u001b[0;32m/opt/conda/lib/python3.9/site-packages/joblib/parallel.py\u001b[0m in \u001b[0;36mdispatch_one_batch\u001b[0;34m(self, iterator)\u001b[0m\n\u001b[1;32m    859\u001b[0m                 \u001b[0;32mreturn\u001b[0m \u001b[0;32mFalse\u001b[0m\u001b[0;34m\u001b[0m\u001b[0;34m\u001b[0m\u001b[0m\n\u001b[1;32m    860\u001b[0m             \u001b[0;32melse\u001b[0m\u001b[0;34m:\u001b[0m\u001b[0;34m\u001b[0m\u001b[0;34m\u001b[0m\u001b[0m\n\u001b[0;32m--> 861\u001b[0;31m                 \u001b[0mself\u001b[0m\u001b[0;34m.\u001b[0m\u001b[0m_dispatch\u001b[0m\u001b[0;34m(\u001b[0m\u001b[0mtasks\u001b[0m\u001b[0;34m)\u001b[0m\u001b[0;34m\u001b[0m\u001b[0;34m\u001b[0m\u001b[0m\n\u001b[0m\u001b[1;32m    862\u001b[0m                 \u001b[0;32mreturn\u001b[0m \u001b[0;32mTrue\u001b[0m\u001b[0;34m\u001b[0m\u001b[0;34m\u001b[0m\u001b[0m\n\u001b[1;32m    863\u001b[0m \u001b[0;34m\u001b[0m\u001b[0m\n",
      "\u001b[0;32m/opt/conda/lib/python3.9/site-packages/joblib/parallel.py\u001b[0m in \u001b[0;36m_dispatch\u001b[0;34m(self, batch)\u001b[0m\n\u001b[1;32m    777\u001b[0m         \u001b[0;32mwith\u001b[0m \u001b[0mself\u001b[0m\u001b[0;34m.\u001b[0m\u001b[0m_lock\u001b[0m\u001b[0;34m:\u001b[0m\u001b[0;34m\u001b[0m\u001b[0;34m\u001b[0m\u001b[0m\n\u001b[1;32m    778\u001b[0m             \u001b[0mjob_idx\u001b[0m \u001b[0;34m=\u001b[0m \u001b[0mlen\u001b[0m\u001b[0;34m(\u001b[0m\u001b[0mself\u001b[0m\u001b[0;34m.\u001b[0m\u001b[0m_jobs\u001b[0m\u001b[0;34m)\u001b[0m\u001b[0;34m\u001b[0m\u001b[0;34m\u001b[0m\u001b[0m\n\u001b[0;32m--> 779\u001b[0;31m             \u001b[0mjob\u001b[0m \u001b[0;34m=\u001b[0m \u001b[0mself\u001b[0m\u001b[0;34m.\u001b[0m\u001b[0m_backend\u001b[0m\u001b[0;34m.\u001b[0m\u001b[0mapply_async\u001b[0m\u001b[0;34m(\u001b[0m\u001b[0mbatch\u001b[0m\u001b[0;34m,\u001b[0m \u001b[0mcallback\u001b[0m\u001b[0;34m=\u001b[0m\u001b[0mcb\u001b[0m\u001b[0;34m)\u001b[0m\u001b[0;34m\u001b[0m\u001b[0;34m\u001b[0m\u001b[0m\n\u001b[0m\u001b[1;32m    780\u001b[0m             \u001b[0;31m# A job can complete so quickly than its callback is\u001b[0m\u001b[0;34m\u001b[0m\u001b[0;34m\u001b[0m\u001b[0;34m\u001b[0m\u001b[0m\n\u001b[1;32m    781\u001b[0m             \u001b[0;31m# called before we get here, causing self._jobs to\u001b[0m\u001b[0;34m\u001b[0m\u001b[0;34m\u001b[0m\u001b[0;34m\u001b[0m\u001b[0m\n",
      "\u001b[0;32m/opt/conda/lib/python3.9/site-packages/joblib/_parallel_backends.py\u001b[0m in \u001b[0;36mapply_async\u001b[0;34m(self, func, callback)\u001b[0m\n\u001b[1;32m    206\u001b[0m     \u001b[0;32mdef\u001b[0m \u001b[0mapply_async\u001b[0m\u001b[0;34m(\u001b[0m\u001b[0mself\u001b[0m\u001b[0;34m,\u001b[0m \u001b[0mfunc\u001b[0m\u001b[0;34m,\u001b[0m \u001b[0mcallback\u001b[0m\u001b[0;34m=\u001b[0m\u001b[0;32mNone\u001b[0m\u001b[0;34m)\u001b[0m\u001b[0;34m:\u001b[0m\u001b[0;34m\u001b[0m\u001b[0;34m\u001b[0m\u001b[0m\n\u001b[1;32m    207\u001b[0m         \u001b[0;34m\"\"\"Schedule a func to be run\"\"\"\u001b[0m\u001b[0;34m\u001b[0m\u001b[0;34m\u001b[0m\u001b[0m\n\u001b[0;32m--> 208\u001b[0;31m         \u001b[0mresult\u001b[0m \u001b[0;34m=\u001b[0m \u001b[0mImmediateResult\u001b[0m\u001b[0;34m(\u001b[0m\u001b[0mfunc\u001b[0m\u001b[0;34m)\u001b[0m\u001b[0;34m\u001b[0m\u001b[0;34m\u001b[0m\u001b[0m\n\u001b[0m\u001b[1;32m    209\u001b[0m         \u001b[0;32mif\u001b[0m \u001b[0mcallback\u001b[0m\u001b[0;34m:\u001b[0m\u001b[0;34m\u001b[0m\u001b[0;34m\u001b[0m\u001b[0m\n\u001b[1;32m    210\u001b[0m             \u001b[0mcallback\u001b[0m\u001b[0;34m(\u001b[0m\u001b[0mresult\u001b[0m\u001b[0;34m)\u001b[0m\u001b[0;34m\u001b[0m\u001b[0;34m\u001b[0m\u001b[0m\n",
      "\u001b[0;32m/opt/conda/lib/python3.9/site-packages/joblib/_parallel_backends.py\u001b[0m in \u001b[0;36m__init__\u001b[0;34m(self, batch)\u001b[0m\n\u001b[1;32m    570\u001b[0m         \u001b[0;31m# Don't delay the application, to avoid keeping the input\u001b[0m\u001b[0;34m\u001b[0m\u001b[0;34m\u001b[0m\u001b[0;34m\u001b[0m\u001b[0m\n\u001b[1;32m    571\u001b[0m         \u001b[0;31m# arguments in memory\u001b[0m\u001b[0;34m\u001b[0m\u001b[0;34m\u001b[0m\u001b[0;34m\u001b[0m\u001b[0m\n\u001b[0;32m--> 572\u001b[0;31m         \u001b[0mself\u001b[0m\u001b[0;34m.\u001b[0m\u001b[0mresults\u001b[0m \u001b[0;34m=\u001b[0m \u001b[0mbatch\u001b[0m\u001b[0;34m(\u001b[0m\u001b[0;34m)\u001b[0m\u001b[0;34m\u001b[0m\u001b[0;34m\u001b[0m\u001b[0m\n\u001b[0m\u001b[1;32m    573\u001b[0m \u001b[0;34m\u001b[0m\u001b[0m\n\u001b[1;32m    574\u001b[0m     \u001b[0;32mdef\u001b[0m \u001b[0mget\u001b[0m\u001b[0;34m(\u001b[0m\u001b[0mself\u001b[0m\u001b[0;34m)\u001b[0m\u001b[0;34m:\u001b[0m\u001b[0;34m\u001b[0m\u001b[0;34m\u001b[0m\u001b[0m\n",
      "\u001b[0;32m/opt/conda/lib/python3.9/site-packages/joblib/parallel.py\u001b[0m in \u001b[0;36m__call__\u001b[0;34m(self)\u001b[0m\n\u001b[1;32m    260\u001b[0m         \u001b[0;31m# change the default number of processes to -1\u001b[0m\u001b[0;34m\u001b[0m\u001b[0;34m\u001b[0m\u001b[0;34m\u001b[0m\u001b[0m\n\u001b[1;32m    261\u001b[0m         \u001b[0;32mwith\u001b[0m \u001b[0mparallel_backend\u001b[0m\u001b[0;34m(\u001b[0m\u001b[0mself\u001b[0m\u001b[0;34m.\u001b[0m\u001b[0m_backend\u001b[0m\u001b[0;34m,\u001b[0m \u001b[0mn_jobs\u001b[0m\u001b[0;34m=\u001b[0m\u001b[0mself\u001b[0m\u001b[0;34m.\u001b[0m\u001b[0m_n_jobs\u001b[0m\u001b[0;34m)\u001b[0m\u001b[0;34m:\u001b[0m\u001b[0;34m\u001b[0m\u001b[0;34m\u001b[0m\u001b[0m\n\u001b[0;32m--> 262\u001b[0;31m             return [func(*args, **kwargs)\n\u001b[0m\u001b[1;32m    263\u001b[0m                     for func, args, kwargs in self.items]\n\u001b[1;32m    264\u001b[0m \u001b[0;34m\u001b[0m\u001b[0m\n",
      "\u001b[0;32m/opt/conda/lib/python3.9/site-packages/joblib/parallel.py\u001b[0m in \u001b[0;36m<listcomp>\u001b[0;34m(.0)\u001b[0m\n\u001b[1;32m    260\u001b[0m         \u001b[0;31m# change the default number of processes to -1\u001b[0m\u001b[0;34m\u001b[0m\u001b[0;34m\u001b[0m\u001b[0;34m\u001b[0m\u001b[0m\n\u001b[1;32m    261\u001b[0m         \u001b[0;32mwith\u001b[0m \u001b[0mparallel_backend\u001b[0m\u001b[0;34m(\u001b[0m\u001b[0mself\u001b[0m\u001b[0;34m.\u001b[0m\u001b[0m_backend\u001b[0m\u001b[0;34m,\u001b[0m \u001b[0mn_jobs\u001b[0m\u001b[0;34m=\u001b[0m\u001b[0mself\u001b[0m\u001b[0;34m.\u001b[0m\u001b[0m_n_jobs\u001b[0m\u001b[0;34m)\u001b[0m\u001b[0;34m:\u001b[0m\u001b[0;34m\u001b[0m\u001b[0;34m\u001b[0m\u001b[0m\n\u001b[0;32m--> 262\u001b[0;31m             return [func(*args, **kwargs)\n\u001b[0m\u001b[1;32m    263\u001b[0m                     for func, args, kwargs in self.items]\n\u001b[1;32m    264\u001b[0m \u001b[0;34m\u001b[0m\u001b[0m\n",
      "\u001b[0;32m/opt/conda/lib/python3.9/site-packages/sklearn/utils/fixes.py\u001b[0m in \u001b[0;36m__call__\u001b[0;34m(self, *args, **kwargs)\u001b[0m\n\u001b[1;32m    220\u001b[0m     \u001b[0;32mdef\u001b[0m \u001b[0m__call__\u001b[0m\u001b[0;34m(\u001b[0m\u001b[0mself\u001b[0m\u001b[0;34m,\u001b[0m \u001b[0;34m*\u001b[0m\u001b[0margs\u001b[0m\u001b[0;34m,\u001b[0m \u001b[0;34m**\u001b[0m\u001b[0mkwargs\u001b[0m\u001b[0;34m)\u001b[0m\u001b[0;34m:\u001b[0m\u001b[0;34m\u001b[0m\u001b[0;34m\u001b[0m\u001b[0m\n\u001b[1;32m    221\u001b[0m         \u001b[0;32mwith\u001b[0m \u001b[0mconfig_context\u001b[0m\u001b[0;34m(\u001b[0m\u001b[0;34m**\u001b[0m\u001b[0mself\u001b[0m\u001b[0;34m.\u001b[0m\u001b[0mconfig\u001b[0m\u001b[0;34m)\u001b[0m\u001b[0;34m:\u001b[0m\u001b[0;34m\u001b[0m\u001b[0;34m\u001b[0m\u001b[0m\n\u001b[0;32m--> 222\u001b[0;31m             \u001b[0;32mreturn\u001b[0m \u001b[0mself\u001b[0m\u001b[0;34m.\u001b[0m\u001b[0mfunction\u001b[0m\u001b[0;34m(\u001b[0m\u001b[0;34m*\u001b[0m\u001b[0margs\u001b[0m\u001b[0;34m,\u001b[0m \u001b[0;34m**\u001b[0m\u001b[0mkwargs\u001b[0m\u001b[0;34m)\u001b[0m\u001b[0;34m\u001b[0m\u001b[0;34m\u001b[0m\u001b[0m\n\u001b[0m",
      "\u001b[0;32m/opt/conda/lib/python3.9/site-packages/sklearn/model_selection/_validation.py\u001b[0m in \u001b[0;36m_fit_and_score\u001b[0;34m(estimator, X, y, scorer, train, test, verbose, parameters, fit_params, return_train_score, return_parameters, return_n_test_samples, return_times, return_estimator, split_progress, candidate_progress, error_score)\u001b[0m\n\u001b[1;32m    591\u001b[0m             \u001b[0mestimator\u001b[0m\u001b[0;34m.\u001b[0m\u001b[0mfit\u001b[0m\u001b[0;34m(\u001b[0m\u001b[0mX_train\u001b[0m\u001b[0;34m,\u001b[0m \u001b[0;34m**\u001b[0m\u001b[0mfit_params\u001b[0m\u001b[0;34m)\u001b[0m\u001b[0;34m\u001b[0m\u001b[0;34m\u001b[0m\u001b[0m\n\u001b[1;32m    592\u001b[0m         \u001b[0;32melse\u001b[0m\u001b[0;34m:\u001b[0m\u001b[0;34m\u001b[0m\u001b[0;34m\u001b[0m\u001b[0m\n\u001b[0;32m--> 593\u001b[0;31m             \u001b[0mestimator\u001b[0m\u001b[0;34m.\u001b[0m\u001b[0mfit\u001b[0m\u001b[0;34m(\u001b[0m\u001b[0mX_train\u001b[0m\u001b[0;34m,\u001b[0m \u001b[0my_train\u001b[0m\u001b[0;34m,\u001b[0m \u001b[0;34m**\u001b[0m\u001b[0mfit_params\u001b[0m\u001b[0;34m)\u001b[0m\u001b[0;34m\u001b[0m\u001b[0;34m\u001b[0m\u001b[0m\n\u001b[0m\u001b[1;32m    594\u001b[0m \u001b[0;34m\u001b[0m\u001b[0m\n\u001b[1;32m    595\u001b[0m     \u001b[0;32mexcept\u001b[0m \u001b[0mException\u001b[0m \u001b[0;32mas\u001b[0m \u001b[0me\u001b[0m\u001b[0;34m:\u001b[0m\u001b[0;34m\u001b[0m\u001b[0;34m\u001b[0m\u001b[0m\n",
      "\u001b[0;32m/opt/conda/lib/python3.9/site-packages/sklearn/ensemble/_forest.py\u001b[0m in \u001b[0;36mfit\u001b[0;34m(self, X, y, sample_weight)\u001b[0m\n\u001b[1;32m    385\u001b[0m             \u001b[0;31m# parallel_backend contexts set at a higher level,\u001b[0m\u001b[0;34m\u001b[0m\u001b[0;34m\u001b[0m\u001b[0;34m\u001b[0m\u001b[0m\n\u001b[1;32m    386\u001b[0m             \u001b[0;31m# since correctness does not rely on using threads.\u001b[0m\u001b[0;34m\u001b[0m\u001b[0;34m\u001b[0m\u001b[0;34m\u001b[0m\u001b[0m\n\u001b[0;32m--> 387\u001b[0;31m             trees = Parallel(n_jobs=self.n_jobs, verbose=self.verbose,\n\u001b[0m\u001b[1;32m    388\u001b[0m                              \u001b[0;34m**\u001b[0m\u001b[0m_joblib_parallel_args\u001b[0m\u001b[0;34m(\u001b[0m\u001b[0mprefer\u001b[0m\u001b[0;34m=\u001b[0m\u001b[0;34m'threads'\u001b[0m\u001b[0;34m)\u001b[0m\u001b[0;34m)\u001b[0m\u001b[0;34m(\u001b[0m\u001b[0;34m\u001b[0m\u001b[0;34m\u001b[0m\u001b[0m\n\u001b[1;32m    389\u001b[0m                 delayed(_parallel_build_trees)(\n",
      "\u001b[0;32m/opt/conda/lib/python3.9/site-packages/joblib/parallel.py\u001b[0m in \u001b[0;36m__call__\u001b[0;34m(self, iterable)\u001b[0m\n\u001b[1;32m   1044\u001b[0m                 \u001b[0mself\u001b[0m\u001b[0;34m.\u001b[0m\u001b[0m_iterating\u001b[0m \u001b[0;34m=\u001b[0m \u001b[0mself\u001b[0m\u001b[0;34m.\u001b[0m\u001b[0m_original_iterator\u001b[0m \u001b[0;32mis\u001b[0m \u001b[0;32mnot\u001b[0m \u001b[0;32mNone\u001b[0m\u001b[0;34m\u001b[0m\u001b[0;34m\u001b[0m\u001b[0m\n\u001b[1;32m   1045\u001b[0m \u001b[0;34m\u001b[0m\u001b[0m\n\u001b[0;32m-> 1046\u001b[0;31m             \u001b[0;32mwhile\u001b[0m \u001b[0mself\u001b[0m\u001b[0;34m.\u001b[0m\u001b[0mdispatch_one_batch\u001b[0m\u001b[0;34m(\u001b[0m\u001b[0miterator\u001b[0m\u001b[0;34m)\u001b[0m\u001b[0;34m:\u001b[0m\u001b[0;34m\u001b[0m\u001b[0;34m\u001b[0m\u001b[0m\n\u001b[0m\u001b[1;32m   1047\u001b[0m                 \u001b[0;32mpass\u001b[0m\u001b[0;34m\u001b[0m\u001b[0;34m\u001b[0m\u001b[0m\n\u001b[1;32m   1048\u001b[0m \u001b[0;34m\u001b[0m\u001b[0m\n",
      "\u001b[0;32m/opt/conda/lib/python3.9/site-packages/joblib/parallel.py\u001b[0m in \u001b[0;36mdispatch_one_batch\u001b[0;34m(self, iterator)\u001b[0m\n\u001b[1;32m    859\u001b[0m                 \u001b[0;32mreturn\u001b[0m \u001b[0;32mFalse\u001b[0m\u001b[0;34m\u001b[0m\u001b[0;34m\u001b[0m\u001b[0m\n\u001b[1;32m    860\u001b[0m             \u001b[0;32melse\u001b[0m\u001b[0;34m:\u001b[0m\u001b[0;34m\u001b[0m\u001b[0;34m\u001b[0m\u001b[0m\n\u001b[0;32m--> 861\u001b[0;31m                 \u001b[0mself\u001b[0m\u001b[0;34m.\u001b[0m\u001b[0m_dispatch\u001b[0m\u001b[0;34m(\u001b[0m\u001b[0mtasks\u001b[0m\u001b[0;34m)\u001b[0m\u001b[0;34m\u001b[0m\u001b[0;34m\u001b[0m\u001b[0m\n\u001b[0m\u001b[1;32m    862\u001b[0m                 \u001b[0;32mreturn\u001b[0m \u001b[0;32mTrue\u001b[0m\u001b[0;34m\u001b[0m\u001b[0;34m\u001b[0m\u001b[0m\n\u001b[1;32m    863\u001b[0m \u001b[0;34m\u001b[0m\u001b[0m\n",
      "\u001b[0;32m/opt/conda/lib/python3.9/site-packages/joblib/parallel.py\u001b[0m in \u001b[0;36m_dispatch\u001b[0;34m(self, batch)\u001b[0m\n\u001b[1;32m    777\u001b[0m         \u001b[0;32mwith\u001b[0m \u001b[0mself\u001b[0m\u001b[0;34m.\u001b[0m\u001b[0m_lock\u001b[0m\u001b[0;34m:\u001b[0m\u001b[0;34m\u001b[0m\u001b[0;34m\u001b[0m\u001b[0m\n\u001b[1;32m    778\u001b[0m             \u001b[0mjob_idx\u001b[0m \u001b[0;34m=\u001b[0m \u001b[0mlen\u001b[0m\u001b[0;34m(\u001b[0m\u001b[0mself\u001b[0m\u001b[0;34m.\u001b[0m\u001b[0m_jobs\u001b[0m\u001b[0;34m)\u001b[0m\u001b[0;34m\u001b[0m\u001b[0;34m\u001b[0m\u001b[0m\n\u001b[0;32m--> 779\u001b[0;31m             \u001b[0mjob\u001b[0m \u001b[0;34m=\u001b[0m \u001b[0mself\u001b[0m\u001b[0;34m.\u001b[0m\u001b[0m_backend\u001b[0m\u001b[0;34m.\u001b[0m\u001b[0mapply_async\u001b[0m\u001b[0;34m(\u001b[0m\u001b[0mbatch\u001b[0m\u001b[0;34m,\u001b[0m \u001b[0mcallback\u001b[0m\u001b[0;34m=\u001b[0m\u001b[0mcb\u001b[0m\u001b[0;34m)\u001b[0m\u001b[0;34m\u001b[0m\u001b[0;34m\u001b[0m\u001b[0m\n\u001b[0m\u001b[1;32m    780\u001b[0m             \u001b[0;31m# A job can complete so quickly than its callback is\u001b[0m\u001b[0;34m\u001b[0m\u001b[0;34m\u001b[0m\u001b[0;34m\u001b[0m\u001b[0m\n\u001b[1;32m    781\u001b[0m             \u001b[0;31m# called before we get here, causing self._jobs to\u001b[0m\u001b[0;34m\u001b[0m\u001b[0;34m\u001b[0m\u001b[0;34m\u001b[0m\u001b[0m\n",
      "\u001b[0;32m/opt/conda/lib/python3.9/site-packages/joblib/_parallel_backends.py\u001b[0m in \u001b[0;36mapply_async\u001b[0;34m(self, func, callback)\u001b[0m\n\u001b[1;32m    206\u001b[0m     \u001b[0;32mdef\u001b[0m \u001b[0mapply_async\u001b[0m\u001b[0;34m(\u001b[0m\u001b[0mself\u001b[0m\u001b[0;34m,\u001b[0m \u001b[0mfunc\u001b[0m\u001b[0;34m,\u001b[0m \u001b[0mcallback\u001b[0m\u001b[0;34m=\u001b[0m\u001b[0;32mNone\u001b[0m\u001b[0;34m)\u001b[0m\u001b[0;34m:\u001b[0m\u001b[0;34m\u001b[0m\u001b[0;34m\u001b[0m\u001b[0m\n\u001b[1;32m    207\u001b[0m         \u001b[0;34m\"\"\"Schedule a func to be run\"\"\"\u001b[0m\u001b[0;34m\u001b[0m\u001b[0;34m\u001b[0m\u001b[0m\n\u001b[0;32m--> 208\u001b[0;31m         \u001b[0mresult\u001b[0m \u001b[0;34m=\u001b[0m \u001b[0mImmediateResult\u001b[0m\u001b[0;34m(\u001b[0m\u001b[0mfunc\u001b[0m\u001b[0;34m)\u001b[0m\u001b[0;34m\u001b[0m\u001b[0;34m\u001b[0m\u001b[0m\n\u001b[0m\u001b[1;32m    209\u001b[0m         \u001b[0;32mif\u001b[0m \u001b[0mcallback\u001b[0m\u001b[0;34m:\u001b[0m\u001b[0;34m\u001b[0m\u001b[0;34m\u001b[0m\u001b[0m\n\u001b[1;32m    210\u001b[0m             \u001b[0mcallback\u001b[0m\u001b[0;34m(\u001b[0m\u001b[0mresult\u001b[0m\u001b[0;34m)\u001b[0m\u001b[0;34m\u001b[0m\u001b[0;34m\u001b[0m\u001b[0m\n",
      "\u001b[0;32m/opt/conda/lib/python3.9/site-packages/joblib/_parallel_backends.py\u001b[0m in \u001b[0;36m__init__\u001b[0;34m(self, batch)\u001b[0m\n\u001b[1;32m    570\u001b[0m         \u001b[0;31m# Don't delay the application, to avoid keeping the input\u001b[0m\u001b[0;34m\u001b[0m\u001b[0;34m\u001b[0m\u001b[0;34m\u001b[0m\u001b[0m\n\u001b[1;32m    571\u001b[0m         \u001b[0;31m# arguments in memory\u001b[0m\u001b[0;34m\u001b[0m\u001b[0;34m\u001b[0m\u001b[0;34m\u001b[0m\u001b[0m\n\u001b[0;32m--> 572\u001b[0;31m         \u001b[0mself\u001b[0m\u001b[0;34m.\u001b[0m\u001b[0mresults\u001b[0m \u001b[0;34m=\u001b[0m \u001b[0mbatch\u001b[0m\u001b[0;34m(\u001b[0m\u001b[0;34m)\u001b[0m\u001b[0;34m\u001b[0m\u001b[0;34m\u001b[0m\u001b[0m\n\u001b[0m\u001b[1;32m    573\u001b[0m \u001b[0;34m\u001b[0m\u001b[0m\n\u001b[1;32m    574\u001b[0m     \u001b[0;32mdef\u001b[0m \u001b[0mget\u001b[0m\u001b[0;34m(\u001b[0m\u001b[0mself\u001b[0m\u001b[0;34m)\u001b[0m\u001b[0;34m:\u001b[0m\u001b[0;34m\u001b[0m\u001b[0;34m\u001b[0m\u001b[0m\n",
      "\u001b[0;32m/opt/conda/lib/python3.9/site-packages/joblib/parallel.py\u001b[0m in \u001b[0;36m__call__\u001b[0;34m(self)\u001b[0m\n\u001b[1;32m    260\u001b[0m         \u001b[0;31m# change the default number of processes to -1\u001b[0m\u001b[0;34m\u001b[0m\u001b[0;34m\u001b[0m\u001b[0;34m\u001b[0m\u001b[0m\n\u001b[1;32m    261\u001b[0m         \u001b[0;32mwith\u001b[0m \u001b[0mparallel_backend\u001b[0m\u001b[0;34m(\u001b[0m\u001b[0mself\u001b[0m\u001b[0;34m.\u001b[0m\u001b[0m_backend\u001b[0m\u001b[0;34m,\u001b[0m \u001b[0mn_jobs\u001b[0m\u001b[0;34m=\u001b[0m\u001b[0mself\u001b[0m\u001b[0;34m.\u001b[0m\u001b[0m_n_jobs\u001b[0m\u001b[0;34m)\u001b[0m\u001b[0;34m:\u001b[0m\u001b[0;34m\u001b[0m\u001b[0;34m\u001b[0m\u001b[0m\n\u001b[0;32m--> 262\u001b[0;31m             return [func(*args, **kwargs)\n\u001b[0m\u001b[1;32m    263\u001b[0m                     for func, args, kwargs in self.items]\n\u001b[1;32m    264\u001b[0m \u001b[0;34m\u001b[0m\u001b[0m\n",
      "\u001b[0;32m/opt/conda/lib/python3.9/site-packages/joblib/parallel.py\u001b[0m in \u001b[0;36m<listcomp>\u001b[0;34m(.0)\u001b[0m\n\u001b[1;32m    260\u001b[0m         \u001b[0;31m# change the default number of processes to -1\u001b[0m\u001b[0;34m\u001b[0m\u001b[0;34m\u001b[0m\u001b[0;34m\u001b[0m\u001b[0m\n\u001b[1;32m    261\u001b[0m         \u001b[0;32mwith\u001b[0m \u001b[0mparallel_backend\u001b[0m\u001b[0;34m(\u001b[0m\u001b[0mself\u001b[0m\u001b[0;34m.\u001b[0m\u001b[0m_backend\u001b[0m\u001b[0;34m,\u001b[0m \u001b[0mn_jobs\u001b[0m\u001b[0;34m=\u001b[0m\u001b[0mself\u001b[0m\u001b[0;34m.\u001b[0m\u001b[0m_n_jobs\u001b[0m\u001b[0;34m)\u001b[0m\u001b[0;34m:\u001b[0m\u001b[0;34m\u001b[0m\u001b[0;34m\u001b[0m\u001b[0m\n\u001b[0;32m--> 262\u001b[0;31m             return [func(*args, **kwargs)\n\u001b[0m\u001b[1;32m    263\u001b[0m                     for func, args, kwargs in self.items]\n\u001b[1;32m    264\u001b[0m \u001b[0;34m\u001b[0m\u001b[0m\n",
      "\u001b[0;32m/opt/conda/lib/python3.9/site-packages/sklearn/utils/fixes.py\u001b[0m in \u001b[0;36m__call__\u001b[0;34m(self, *args, **kwargs)\u001b[0m\n\u001b[1;32m    220\u001b[0m     \u001b[0;32mdef\u001b[0m \u001b[0m__call__\u001b[0m\u001b[0;34m(\u001b[0m\u001b[0mself\u001b[0m\u001b[0;34m,\u001b[0m \u001b[0;34m*\u001b[0m\u001b[0margs\u001b[0m\u001b[0;34m,\u001b[0m \u001b[0;34m**\u001b[0m\u001b[0mkwargs\u001b[0m\u001b[0;34m)\u001b[0m\u001b[0;34m:\u001b[0m\u001b[0;34m\u001b[0m\u001b[0;34m\u001b[0m\u001b[0m\n\u001b[1;32m    221\u001b[0m         \u001b[0;32mwith\u001b[0m \u001b[0mconfig_context\u001b[0m\u001b[0;34m(\u001b[0m\u001b[0;34m**\u001b[0m\u001b[0mself\u001b[0m\u001b[0;34m.\u001b[0m\u001b[0mconfig\u001b[0m\u001b[0;34m)\u001b[0m\u001b[0;34m:\u001b[0m\u001b[0;34m\u001b[0m\u001b[0;34m\u001b[0m\u001b[0m\n\u001b[0;32m--> 222\u001b[0;31m             \u001b[0;32mreturn\u001b[0m \u001b[0mself\u001b[0m\u001b[0;34m.\u001b[0m\u001b[0mfunction\u001b[0m\u001b[0;34m(\u001b[0m\u001b[0;34m*\u001b[0m\u001b[0margs\u001b[0m\u001b[0;34m,\u001b[0m \u001b[0;34m**\u001b[0m\u001b[0mkwargs\u001b[0m\u001b[0;34m)\u001b[0m\u001b[0;34m\u001b[0m\u001b[0;34m\u001b[0m\u001b[0m\n\u001b[0m",
      "\u001b[0;32m/opt/conda/lib/python3.9/site-packages/sklearn/ensemble/_forest.py\u001b[0m in \u001b[0;36m_parallel_build_trees\u001b[0;34m(tree, forest, X, y, sample_weight, tree_idx, n_trees, verbose, class_weight, n_samples_bootstrap)\u001b[0m\n\u001b[1;32m    167\u001b[0m                                                         indices=indices)\n\u001b[1;32m    168\u001b[0m \u001b[0;34m\u001b[0m\u001b[0m\n\u001b[0;32m--> 169\u001b[0;31m         \u001b[0mtree\u001b[0m\u001b[0;34m.\u001b[0m\u001b[0mfit\u001b[0m\u001b[0;34m(\u001b[0m\u001b[0mX\u001b[0m\u001b[0;34m,\u001b[0m \u001b[0my\u001b[0m\u001b[0;34m,\u001b[0m \u001b[0msample_weight\u001b[0m\u001b[0;34m=\u001b[0m\u001b[0mcurr_sample_weight\u001b[0m\u001b[0;34m,\u001b[0m \u001b[0mcheck_input\u001b[0m\u001b[0;34m=\u001b[0m\u001b[0;32mFalse\u001b[0m\u001b[0;34m)\u001b[0m\u001b[0;34m\u001b[0m\u001b[0;34m\u001b[0m\u001b[0m\n\u001b[0m\u001b[1;32m    170\u001b[0m     \u001b[0;32melse\u001b[0m\u001b[0;34m:\u001b[0m\u001b[0;34m\u001b[0m\u001b[0;34m\u001b[0m\u001b[0m\n\u001b[1;32m    171\u001b[0m         \u001b[0mtree\u001b[0m\u001b[0;34m.\u001b[0m\u001b[0mfit\u001b[0m\u001b[0;34m(\u001b[0m\u001b[0mX\u001b[0m\u001b[0;34m,\u001b[0m \u001b[0my\u001b[0m\u001b[0;34m,\u001b[0m \u001b[0msample_weight\u001b[0m\u001b[0;34m=\u001b[0m\u001b[0msample_weight\u001b[0m\u001b[0;34m,\u001b[0m \u001b[0mcheck_input\u001b[0m\u001b[0;34m=\u001b[0m\u001b[0;32mFalse\u001b[0m\u001b[0;34m)\u001b[0m\u001b[0;34m\u001b[0m\u001b[0;34m\u001b[0m\u001b[0m\n",
      "\u001b[0;32m/opt/conda/lib/python3.9/site-packages/sklearn/tree/_classes.py\u001b[0m in \u001b[0;36mfit\u001b[0;34m(self, X, y, sample_weight, check_input, X_idx_sorted)\u001b[0m\n\u001b[1;32m   1245\u001b[0m         \"\"\"\n\u001b[1;32m   1246\u001b[0m \u001b[0;34m\u001b[0m\u001b[0m\n\u001b[0;32m-> 1247\u001b[0;31m         super().fit(\n\u001b[0m\u001b[1;32m   1248\u001b[0m             \u001b[0mX\u001b[0m\u001b[0;34m,\u001b[0m \u001b[0my\u001b[0m\u001b[0;34m,\u001b[0m\u001b[0;34m\u001b[0m\u001b[0;34m\u001b[0m\u001b[0m\n\u001b[1;32m   1249\u001b[0m             \u001b[0msample_weight\u001b[0m\u001b[0;34m=\u001b[0m\u001b[0msample_weight\u001b[0m\u001b[0;34m,\u001b[0m\u001b[0;34m\u001b[0m\u001b[0;34m\u001b[0m\u001b[0m\n",
      "\u001b[0;32m/opt/conda/lib/python3.9/site-packages/sklearn/tree/_classes.py\u001b[0m in \u001b[0;36mfit\u001b[0;34m(self, X, y, sample_weight, check_input, X_idx_sorted)\u001b[0m\n\u001b[1;32m    387\u001b[0m                                            min_impurity_split)\n\u001b[1;32m    388\u001b[0m \u001b[0;34m\u001b[0m\u001b[0m\n\u001b[0;32m--> 389\u001b[0;31m         \u001b[0mbuilder\u001b[0m\u001b[0;34m.\u001b[0m\u001b[0mbuild\u001b[0m\u001b[0;34m(\u001b[0m\u001b[0mself\u001b[0m\u001b[0;34m.\u001b[0m\u001b[0mtree_\u001b[0m\u001b[0;34m,\u001b[0m \u001b[0mX\u001b[0m\u001b[0;34m,\u001b[0m \u001b[0my\u001b[0m\u001b[0;34m,\u001b[0m \u001b[0msample_weight\u001b[0m\u001b[0;34m)\u001b[0m\u001b[0;34m\u001b[0m\u001b[0;34m\u001b[0m\u001b[0m\n\u001b[0m\u001b[1;32m    390\u001b[0m \u001b[0;34m\u001b[0m\u001b[0m\n\u001b[1;32m    391\u001b[0m         \u001b[0;32mif\u001b[0m \u001b[0mself\u001b[0m\u001b[0;34m.\u001b[0m\u001b[0mn_outputs_\u001b[0m \u001b[0;34m==\u001b[0m \u001b[0;36m1\u001b[0m \u001b[0;32mand\u001b[0m \u001b[0mis_classifier\u001b[0m\u001b[0;34m(\u001b[0m\u001b[0mself\u001b[0m\u001b[0;34m)\u001b[0m\u001b[0;34m:\u001b[0m\u001b[0;34m\u001b[0m\u001b[0;34m\u001b[0m\u001b[0m\n",
      "\u001b[0;31mKeyboardInterrupt\u001b[0m: "
     ]
    }
   ],
   "source": [
    "n_estimators = 60\n",
    "for n_estimators in range(60, 161, 20):\n",
    "    for max_depth in range(11, 15):\n",
    "        model_rfr = RandomForestRegressor(random_state=8323, max_depth=max_depth, n_estimators=n_estimators)\n",
    "        score_rfr = cross_val_score(model_rfr, train_2, target_train, cv=4, scoring=my_scorer)\n",
    "        print(max_depth, n_estimators, score_rfr.mean())"
   ]
  },
  {
   "cell_type": "markdown",
   "id": "3fe2bcf2",
   "metadata": {},
   "source": [
    "## Проверка на тестовой выборке"
   ]
  },
  {
   "cell_type": "code",
   "execution_count": 86,
   "id": "29655674",
   "metadata": {},
   "outputs": [
    {
     "data": {
      "text/plain": [
       "7.9905430130160795"
      ]
     },
     "execution_count": 86,
     "metadata": {},
     "output_type": "execute_result"
    }
   ],
   "source": [
    "model_rfr = RandomForestRegressor(random_state=8323, max_depth=14, n_estimators=60)\n",
    "rfr_pred = model_rfr.fit(train_2, target_train).predict(test_2)\n",
    "\n",
    "sMAPE_total(target_test, rfr_pred)"
   ]
  },
  {
   "cell_type": "code",
   "execution_count": 87,
   "id": "802c975c",
   "metadata": {},
   "outputs": [
    {
     "data": {
      "text/plain": [
       "7.7704787867339675"
      ]
     },
     "execution_count": 87,
     "metadata": {},
     "output_type": "execute_result"
    }
   ],
   "source": [
    "from sklearn.dummy import DummyRegressor\n",
    "dummy_reg = DummyRegressor(strategy='mean')\n",
    "dummy_reg.fit(train_2, target_train)\n",
    "dummy_pred = dummy_reg.predict(test_2)\n",
    "sMAPE_total(target_test, dummy_pred)"
   ]
  }
 ],
 "metadata": {
  "ExecuteTimeLog": [
   {
    "duration": 1793,
    "start_time": "2022-06-06T14:23:33.113Z"
   },
   {
    "duration": 187,
    "start_time": "2022-06-06T14:23:34.908Z"
   },
   {
    "duration": 0,
    "start_time": "2022-06-06T14:23:35.098Z"
   },
   {
    "duration": 0,
    "start_time": "2022-06-06T14:23:35.099Z"
   },
   {
    "duration": 0,
    "start_time": "2022-06-06T14:23:35.100Z"
   },
   {
    "duration": 0,
    "start_time": "2022-06-06T14:23:35.101Z"
   },
   {
    "duration": 0,
    "start_time": "2022-06-06T14:23:35.102Z"
   },
   {
    "duration": 0,
    "start_time": "2022-06-06T14:23:35.103Z"
   },
   {
    "duration": 0,
    "start_time": "2022-06-06T14:23:35.104Z"
   },
   {
    "duration": 0,
    "start_time": "2022-06-06T14:23:35.106Z"
   },
   {
    "duration": 0,
    "start_time": "2022-06-06T14:23:35.107Z"
   },
   {
    "duration": 0,
    "start_time": "2022-06-06T14:23:35.108Z"
   },
   {
    "duration": 0,
    "start_time": "2022-06-06T14:23:35.108Z"
   },
   {
    "duration": 0,
    "start_time": "2022-06-06T14:23:35.109Z"
   },
   {
    "duration": 0,
    "start_time": "2022-06-06T14:23:35.111Z"
   },
   {
    "duration": 0,
    "start_time": "2022-06-06T14:23:35.111Z"
   },
   {
    "duration": 0,
    "start_time": "2022-06-06T14:23:35.113Z"
   },
   {
    "duration": 0,
    "start_time": "2022-06-06T14:23:35.114Z"
   },
   {
    "duration": 0,
    "start_time": "2022-06-06T14:23:35.115Z"
   },
   {
    "duration": 0,
    "start_time": "2022-06-06T14:23:35.115Z"
   },
   {
    "duration": 0,
    "start_time": "2022-06-06T14:23:35.116Z"
   },
   {
    "duration": 0,
    "start_time": "2022-06-06T14:23:35.117Z"
   },
   {
    "duration": 5,
    "start_time": "2022-06-06T14:25:17.190Z"
   },
   {
    "duration": 2285,
    "start_time": "2022-06-06T14:25:17.199Z"
   },
   {
    "duration": 4,
    "start_time": "2022-06-06T14:25:19.486Z"
   },
   {
    "duration": 314,
    "start_time": "2022-06-06T14:25:19.492Z"
   },
   {
    "duration": 28,
    "start_time": "2022-06-06T14:25:19.808Z"
   },
   {
    "duration": 77,
    "start_time": "2022-06-06T14:25:19.838Z"
   },
   {
    "duration": 536,
    "start_time": "2022-06-06T14:25:19.917Z"
   },
   {
    "duration": 414,
    "start_time": "2022-06-06T14:25:20.456Z"
   },
   {
    "duration": 439,
    "start_time": "2022-06-06T14:25:20.872Z"
   },
   {
    "duration": 262,
    "start_time": "2022-06-06T14:25:21.313Z"
   },
   {
    "duration": 5,
    "start_time": "2022-06-06T14:25:21.585Z"
   },
   {
    "duration": 15,
    "start_time": "2022-06-06T14:25:21.591Z"
   },
   {
    "duration": 6,
    "start_time": "2022-06-06T14:25:21.608Z"
   },
   {
    "duration": 274,
    "start_time": "2022-06-06T14:25:21.616Z"
   },
   {
    "duration": 5,
    "start_time": "2022-06-06T14:25:21.892Z"
   },
   {
    "duration": 12,
    "start_time": "2022-06-06T14:25:21.898Z"
   },
   {
    "duration": 12,
    "start_time": "2022-06-06T14:25:21.928Z"
   },
   {
    "duration": 449,
    "start_time": "2022-06-06T14:25:21.942Z"
   },
   {
    "duration": 3,
    "start_time": "2022-06-06T14:25:22.393Z"
   },
   {
    "duration": 22,
    "start_time": "2022-06-06T14:25:22.399Z"
   },
   {
    "duration": 57,
    "start_time": "2022-06-06T14:25:22.426Z"
   },
   {
    "duration": 21,
    "start_time": "2022-06-06T14:25:22.485Z"
   },
   {
    "duration": 28,
    "start_time": "2022-06-06T14:25:43.123Z"
   },
   {
    "duration": 6,
    "start_time": "2022-06-08T12:25:52.665Z"
   },
   {
    "duration": 1572,
    "start_time": "2022-06-08T12:25:53.981Z"
   },
   {
    "duration": 3,
    "start_time": "2022-06-08T12:25:58.034Z"
   },
   {
    "duration": 9,
    "start_time": "2022-06-08T12:25:58.693Z"
   },
   {
    "duration": 16,
    "start_time": "2022-06-08T12:26:01.782Z"
   },
   {
    "duration": 22,
    "start_time": "2022-06-08T12:26:05.037Z"
   },
   {
    "duration": 368,
    "start_time": "2022-06-08T12:26:05.703Z"
   },
   {
    "duration": 481,
    "start_time": "2022-06-08T12:26:06.618Z"
   },
   {
    "duration": 405,
    "start_time": "2022-06-08T12:26:31.895Z"
   },
   {
    "duration": 199,
    "start_time": "2022-06-08T12:26:37.678Z"
   },
   {
    "duration": 206,
    "start_time": "2022-06-08T12:26:56.639Z"
   },
   {
    "duration": 210,
    "start_time": "2022-06-08T12:27:34.977Z"
   },
   {
    "duration": 4,
    "start_time": "2022-06-08T12:27:51.143Z"
   },
   {
    "duration": 5,
    "start_time": "2022-06-08T12:27:51.326Z"
   },
   {
    "duration": 6,
    "start_time": "2022-06-08T12:27:51.484Z"
   },
   {
    "duration": 361,
    "start_time": "2022-06-08T12:28:12.407Z"
   },
   {
    "duration": 12,
    "start_time": "2022-06-08T12:32:07.810Z"
   },
   {
    "duration": 4,
    "start_time": "2022-06-08T13:10:17.299Z"
   },
   {
    "duration": 1598,
    "start_time": "2022-06-08T13:10:18.636Z"
   },
   {
    "duration": 3,
    "start_time": "2022-06-08T13:10:22.284Z"
   },
   {
    "duration": 9,
    "start_time": "2022-06-08T13:10:28.612Z"
   },
   {
    "duration": 15,
    "start_time": "2022-06-08T13:10:33.363Z"
   },
   {
    "duration": 15,
    "start_time": "2022-06-08T13:10:42.589Z"
   },
   {
    "duration": 16,
    "start_time": "2022-06-08T13:11:09.550Z"
   },
   {
    "duration": 37,
    "start_time": "2022-06-08T13:13:02.173Z"
   },
   {
    "duration": 14,
    "start_time": "2022-06-08T13:13:08.912Z"
   },
   {
    "duration": 5,
    "start_time": "2022-06-08T13:13:37.680Z"
   },
   {
    "duration": 5,
    "start_time": "2022-06-08T13:15:00.046Z"
   },
   {
    "duration": 5,
    "start_time": "2022-06-08T13:15:14.655Z"
   },
   {
    "duration": 7,
    "start_time": "2022-06-08T13:15:31.152Z"
   },
   {
    "duration": 30,
    "start_time": "2022-06-08T13:15:34.343Z"
   },
   {
    "duration": 12,
    "start_time": "2022-06-08T13:15:37.776Z"
   },
   {
    "duration": 18,
    "start_time": "2022-06-08T13:15:43.824Z"
   },
   {
    "duration": 11,
    "start_time": "2022-06-08T13:15:50.934Z"
   },
   {
    "duration": 585,
    "start_time": "2022-06-08T13:16:25.296Z"
   },
   {
    "duration": 14,
    "start_time": "2022-06-08T13:16:43.801Z"
   },
   {
    "duration": 14,
    "start_time": "2022-06-08T13:16:48.016Z"
   },
   {
    "duration": 331,
    "start_time": "2022-06-08T13:16:50.586Z"
   },
   {
    "duration": 28,
    "start_time": "2022-06-08T13:17:02.015Z"
   },
   {
    "duration": 12,
    "start_time": "2022-06-08T13:17:06.416Z"
   },
   {
    "duration": 13,
    "start_time": "2022-06-08T13:17:49.871Z"
   },
   {
    "duration": 328,
    "start_time": "2022-06-08T13:17:54.231Z"
   },
   {
    "duration": 340,
    "start_time": "2022-06-08T13:17:55.304Z"
   },
   {
    "duration": 361,
    "start_time": "2022-06-08T13:17:57.495Z"
   },
   {
    "duration": 392,
    "start_time": "2022-06-08T13:18:14.312Z"
   },
   {
    "duration": 5,
    "start_time": "2022-06-08T13:18:31.127Z"
   },
   {
    "duration": 7,
    "start_time": "2022-06-08T13:18:32.178Z"
   },
   {
    "duration": 3,
    "start_time": "2022-06-08T13:18:44.728Z"
   },
   {
    "duration": 14,
    "start_time": "2022-06-08T13:18:46.545Z"
   },
   {
    "duration": 191,
    "start_time": "2022-06-08T13:18:52.131Z"
   },
   {
    "duration": 5,
    "start_time": "2022-06-08T13:18:54.887Z"
   },
   {
    "duration": 5,
    "start_time": "2022-06-08T13:18:55.817Z"
   },
   {
    "duration": 6,
    "start_time": "2022-06-08T13:18:57.480Z"
   },
   {
    "duration": 8,
    "start_time": "2022-06-08T13:19:34.384Z"
   },
   {
    "duration": 10,
    "start_time": "2022-06-08T13:19:44.641Z"
   },
   {
    "duration": 194,
    "start_time": "2022-06-08T13:21:52.926Z"
   },
   {
    "duration": 8,
    "start_time": "2022-06-08T13:22:05.458Z"
   },
   {
    "duration": 9,
    "start_time": "2022-06-08T13:22:10.197Z"
   },
   {
    "duration": 517,
    "start_time": "2022-06-08T13:23:48.260Z"
   },
   {
    "duration": 268,
    "start_time": "2022-06-08T13:24:17.779Z"
   },
   {
    "duration": 22687,
    "start_time": "2022-06-08T13:25:14.251Z"
   },
   {
    "duration": 7,
    "start_time": "2022-06-08T13:25:43.618Z"
   },
   {
    "duration": 16,
    "start_time": "2022-06-08T13:25:50.890Z"
   },
   {
    "duration": 5,
    "start_time": "2022-06-08T13:25:54.998Z"
   },
   {
    "duration": 113,
    "start_time": "2022-06-08T13:26:56.927Z"
   },
   {
    "duration": 6096,
    "start_time": "2022-06-08T13:28:38.763Z"
   },
   {
    "duration": 6,
    "start_time": "2022-06-08T13:28:51.919Z"
   },
   {
    "duration": 40,
    "start_time": "2022-06-08T13:28:59.595Z"
   },
   {
    "duration": 27,
    "start_time": "2022-06-08T13:29:29.766Z"
   },
   {
    "duration": 6,
    "start_time": "2022-06-08T13:29:38.765Z"
   },
   {
    "duration": 38638,
    "start_time": "2022-06-08T13:29:44.835Z"
   },
   {
    "duration": 381,
    "start_time": "2022-06-08T13:30:47.445Z"
   },
   {
    "duration": 424,
    "start_time": "2022-06-08T13:30:56.149Z"
   },
   {
    "duration": 385,
    "start_time": "2022-06-08T13:31:12.115Z"
   },
   {
    "duration": 39,
    "start_time": "2022-06-08T13:31:16.746Z"
   },
   {
    "duration": 27,
    "start_time": "2022-06-08T13:31:24.061Z"
   },
   {
    "duration": 281,
    "start_time": "2022-06-08T13:31:38.612Z"
   },
   {
    "duration": 254,
    "start_time": "2022-06-08T13:31:43.997Z"
   },
   {
    "duration": 256,
    "start_time": "2022-06-08T13:31:47.678Z"
   },
   {
    "duration": 377,
    "start_time": "2022-06-08T13:31:51.365Z"
   },
   {
    "duration": 378,
    "start_time": "2022-06-08T13:31:58.854Z"
   },
   {
    "duration": 244,
    "start_time": "2022-06-08T13:32:01.381Z"
   },
   {
    "duration": 239,
    "start_time": "2022-06-08T13:32:08.381Z"
   },
   {
    "duration": 115,
    "start_time": "2022-06-08T13:32:22.844Z"
   },
   {
    "duration": 25,
    "start_time": "2022-06-08T13:32:30.756Z"
   },
   {
    "duration": 10303,
    "start_time": "2022-06-08T13:32:45.420Z"
   },
   {
    "duration": 16,
    "start_time": "2022-06-08T13:33:44.719Z"
   },
   {
    "duration": 18,
    "start_time": "2022-06-08T13:33:59.063Z"
   },
   {
    "duration": 109,
    "start_time": "2022-06-08T13:34:14.303Z"
   },
   {
    "duration": 102,
    "start_time": "2022-06-08T13:34:18.399Z"
   },
   {
    "duration": 98,
    "start_time": "2022-06-08T13:34:56.294Z"
   },
   {
    "duration": 10164,
    "start_time": "2022-06-08T13:35:19.023Z"
   },
   {
    "duration": 11575,
    "start_time": "2022-06-08T13:35:41.599Z"
   },
   {
    "duration": 84771,
    "start_time": "2022-06-08T13:35:55.495Z"
   },
   {
    "duration": 266,
    "start_time": "2022-06-08T13:40:17.805Z"
   },
   {
    "duration": 15,
    "start_time": "2022-06-08T13:40:47.503Z"
   },
   {
    "duration": 244,
    "start_time": "2022-06-08T13:42:24.708Z"
   },
   {
    "duration": 8,
    "start_time": "2022-06-08T13:45:39.433Z"
   },
   {
    "duration": 7,
    "start_time": "2022-06-08T13:45:48.011Z"
   },
   {
    "duration": 31,
    "start_time": "2022-06-08T13:45:58.338Z"
   },
   {
    "duration": 4,
    "start_time": "2022-06-08T13:47:48.987Z"
   },
   {
    "duration": 12,
    "start_time": "2022-06-08T13:47:52.946Z"
   },
   {
    "duration": 7,
    "start_time": "2022-06-08T13:47:59.664Z"
   },
   {
    "duration": 8,
    "start_time": "2022-06-08T13:48:04.817Z"
   },
   {
    "duration": 8,
    "start_time": "2022-06-08T13:48:27.930Z"
   },
   {
    "duration": 40,
    "start_time": "2022-06-08T13:48:31.898Z"
   },
   {
    "duration": 22,
    "start_time": "2022-06-08T13:48:44.083Z"
   },
   {
    "duration": 22,
    "start_time": "2022-06-08T13:48:47.626Z"
   },
   {
    "duration": 24,
    "start_time": "2022-06-08T13:48:51.666Z"
   },
   {
    "duration": 27,
    "start_time": "2022-06-08T13:49:03.587Z"
   },
   {
    "duration": 37,
    "start_time": "2022-06-08T13:49:10.986Z"
   },
   {
    "duration": 32,
    "start_time": "2022-06-08T13:49:16.835Z"
   },
   {
    "duration": 36,
    "start_time": "2022-06-08T13:49:27.859Z"
   },
   {
    "duration": 42,
    "start_time": "2022-06-08T13:50:40.979Z"
   },
   {
    "duration": 1420,
    "start_time": "2022-06-08T13:51:35.399Z"
   },
   {
    "duration": 1311,
    "start_time": "2022-06-08T13:57:54.500Z"
   },
   {
    "duration": 34,
    "start_time": "2022-06-08T13:59:02.262Z"
   },
   {
    "duration": 33,
    "start_time": "2022-06-08T13:59:14.977Z"
   },
   {
    "duration": 33,
    "start_time": "2022-06-08T13:59:18.567Z"
   },
   {
    "duration": 13,
    "start_time": "2022-06-08T13:59:21.431Z"
   },
   {
    "duration": 14,
    "start_time": "2022-06-08T13:59:25.501Z"
   },
   {
    "duration": 28,
    "start_time": "2022-06-08T13:59:28.755Z"
   },
   {
    "duration": 35,
    "start_time": "2022-06-08T13:59:32.615Z"
   },
   {
    "duration": 179,
    "start_time": "2022-06-08T14:00:17.458Z"
   },
   {
    "duration": 164,
    "start_time": "2022-06-08T14:00:28.956Z"
   },
   {
    "duration": 3,
    "start_time": "2022-06-08T14:03:22.855Z"
   },
   {
    "duration": 582,
    "start_time": "2022-06-08T14:04:04.927Z"
   },
   {
    "duration": 239,
    "start_time": "2022-06-08T14:04:26.246Z"
   },
   {
    "duration": 167,
    "start_time": "2022-06-08T14:04:55.864Z"
   },
   {
    "duration": 162,
    "start_time": "2022-06-08T14:05:15.993Z"
   },
   {
    "duration": 250,
    "start_time": "2022-06-08T14:06:36.850Z"
   },
   {
    "duration": 285,
    "start_time": "2022-06-08T14:06:51.375Z"
   },
   {
    "duration": 13,
    "start_time": "2022-06-08T14:08:35.788Z"
   },
   {
    "duration": 13,
    "start_time": "2022-06-08T14:08:40.582Z"
   },
   {
    "duration": 33,
    "start_time": "2022-06-08T14:08:46.295Z"
   },
   {
    "duration": 14,
    "start_time": "2022-06-08T14:08:59.881Z"
   },
   {
    "duration": 12,
    "start_time": "2022-06-08T14:09:07.977Z"
   },
   {
    "duration": 41,
    "start_time": "2022-06-08T14:09:23.232Z"
   },
   {
    "duration": 43,
    "start_time": "2022-06-08T14:09:28.913Z"
   },
   {
    "duration": 12,
    "start_time": "2022-06-08T14:09:59.785Z"
   },
   {
    "duration": 3,
    "start_time": "2022-06-08T14:12:16.857Z"
   },
   {
    "duration": 317,
    "start_time": "2022-06-08T14:12:19.150Z"
   },
   {
    "duration": 20,
    "start_time": "2022-06-08T14:13:08.815Z"
   },
   {
    "duration": 46,
    "start_time": "2022-06-08T14:13:11.858Z"
   },
   {
    "duration": 14,
    "start_time": "2022-06-08T14:13:39.027Z"
   },
   {
    "duration": 28,
    "start_time": "2022-06-08T14:13:53.929Z"
   },
   {
    "duration": 5,
    "start_time": "2022-06-08T14:14:08.847Z"
   },
   {
    "duration": 49,
    "start_time": "2022-06-08T14:14:13.459Z"
   },
   {
    "duration": 5,
    "start_time": "2022-06-08T14:14:21.208Z"
   },
   {
    "duration": 30,
    "start_time": "2022-06-08T14:14:30.914Z"
   },
   {
    "duration": 23,
    "start_time": "2022-06-08T14:14:58.476Z"
   },
   {
    "duration": 52,
    "start_time": "2022-06-08T14:15:01.951Z"
   },
   {
    "duration": 17,
    "start_time": "2022-06-08T14:15:08.827Z"
   },
   {
    "duration": 17,
    "start_time": "2022-06-08T14:15:11.617Z"
   },
   {
    "duration": 34,
    "start_time": "2022-06-08T14:17:37.209Z"
   },
   {
    "duration": 402,
    "start_time": "2022-06-08T14:18:02.754Z"
   },
   {
    "duration": 0,
    "start_time": "2022-06-08T14:18:03.158Z"
   },
   {
    "duration": 2,
    "start_time": "2022-06-08T14:18:08.026Z"
   },
   {
    "duration": 548,
    "start_time": "2022-06-08T14:18:08.920Z"
   },
   {
    "duration": 4,
    "start_time": "2022-06-08T14:18:12.290Z"
   },
   {
    "duration": 180,
    "start_time": "2022-06-08T14:18:53.698Z"
   },
   {
    "duration": 29,
    "start_time": "2022-06-08T14:19:06.093Z"
   },
   {
    "duration": 15,
    "start_time": "2022-06-08T14:19:10.883Z"
   },
   {
    "duration": 17,
    "start_time": "2022-06-08T14:19:22.275Z"
   },
   {
    "duration": 9,
    "start_time": "2022-06-08T14:19:28.106Z"
   },
   {
    "duration": 8,
    "start_time": "2022-06-08T14:19:32.122Z"
   },
   {
    "duration": 16,
    "start_time": "2022-06-08T14:19:39.954Z"
   },
   {
    "duration": 11,
    "start_time": "2022-06-08T14:20:21.147Z"
   },
   {
    "duration": 7,
    "start_time": "2022-06-08T14:20:58.745Z"
   },
   {
    "duration": 3,
    "start_time": "2022-06-08T14:22:52.797Z"
   },
   {
    "duration": 2,
    "start_time": "2022-06-08T14:23:04.846Z"
   },
   {
    "duration": 3,
    "start_time": "2022-06-08T14:23:17.893Z"
   },
   {
    "duration": 88,
    "start_time": "2022-06-08T14:53:41.172Z"
   },
   {
    "duration": 4,
    "start_time": "2022-06-08T14:53:46.096Z"
   },
   {
    "duration": 933,
    "start_time": "2022-06-08T14:53:48.168Z"
   },
   {
    "duration": 56,
    "start_time": "2022-06-08T14:54:23.458Z"
   },
   {
    "duration": 8,
    "start_time": "2022-06-08T14:54:28.371Z"
   },
   {
    "duration": 3,
    "start_time": "2022-06-08T14:54:31.833Z"
   },
   {
    "duration": 3,
    "start_time": "2022-06-08T14:54:32.200Z"
   },
   {
    "duration": 17,
    "start_time": "2022-06-08T14:55:51.163Z"
   },
   {
    "duration": 861,
    "start_time": "2022-06-08T14:55:57.940Z"
   },
   {
    "duration": 5,
    "start_time": "2022-06-08T14:56:10.986Z"
   },
   {
    "duration": 48,
    "start_time": "2022-06-08T14:56:16.163Z"
   },
   {
    "duration": 1710,
    "start_time": "2022-06-08T14:56:26.164Z"
   },
   {
    "duration": 1489,
    "start_time": "2022-06-08T14:56:27.876Z"
   },
   {
    "duration": 6,
    "start_time": "2022-06-08T14:56:29.370Z"
   },
   {
    "duration": 28,
    "start_time": "2022-06-08T14:56:29.378Z"
   },
   {
    "duration": 32,
    "start_time": "2022-06-08T14:56:29.409Z"
   },
   {
    "duration": 11,
    "start_time": "2022-06-08T14:56:29.450Z"
   },
   {
    "duration": 17,
    "start_time": "2022-06-08T14:56:29.464Z"
   },
   {
    "duration": 28,
    "start_time": "2022-06-08T14:56:29.484Z"
   },
   {
    "duration": 522,
    "start_time": "2022-06-08T14:56:29.514Z"
   },
   {
    "duration": 500,
    "start_time": "2022-06-08T14:56:30.042Z"
   },
   {
    "duration": 597,
    "start_time": "2022-06-08T14:56:30.550Z"
   },
   {
    "duration": 253,
    "start_time": "2022-06-08T14:56:31.152Z"
   },
   {
    "duration": 11,
    "start_time": "2022-06-08T14:56:31.407Z"
   },
   {
    "duration": 98,
    "start_time": "2022-06-08T14:56:31.422Z"
   },
   {
    "duration": 94,
    "start_time": "2022-06-08T14:56:31.522Z"
   },
   {
    "duration": 370,
    "start_time": "2022-06-08T14:56:31.619Z"
   },
   {
    "duration": 12,
    "start_time": "2022-06-08T14:56:31.991Z"
   },
   {
    "duration": 44,
    "start_time": "2022-06-08T14:56:32.005Z"
   },
   {
    "duration": 76,
    "start_time": "2022-06-08T14:56:32.061Z"
   },
   {
    "duration": 42,
    "start_time": "2022-06-08T14:56:32.142Z"
   },
   {
    "duration": 399,
    "start_time": "2022-06-08T14:56:32.186Z"
   },
   {
    "duration": 42,
    "start_time": "2022-06-08T14:56:32.588Z"
   },
   {
    "duration": 25,
    "start_time": "2022-06-08T14:56:32.632Z"
   },
   {
    "duration": 23,
    "start_time": "2022-06-08T14:56:32.663Z"
   },
   {
    "duration": 12,
    "start_time": "2022-06-08T14:56:32.688Z"
   },
   {
    "duration": 9,
    "start_time": "2022-06-08T14:56:32.702Z"
   },
   {
    "duration": 44,
    "start_time": "2022-06-08T14:56:32.713Z"
   },
   {
    "duration": 16,
    "start_time": "2022-06-08T14:56:32.759Z"
   },
   {
    "duration": 17,
    "start_time": "2022-06-08T14:56:32.777Z"
   },
   {
    "duration": 10,
    "start_time": "2022-06-08T14:56:32.797Z"
   },
   {
    "duration": 11,
    "start_time": "2022-06-08T14:56:32.809Z"
   },
   {
    "duration": 39,
    "start_time": "2022-06-08T14:56:32.822Z"
   },
   {
    "duration": 140,
    "start_time": "2022-06-08T14:56:32.863Z"
   },
   {
    "duration": 12401,
    "start_time": "2022-06-08T14:57:28.483Z"
   },
   {
    "duration": 4,
    "start_time": "2022-06-08T14:57:44.299Z"
   },
   {
    "duration": 7,
    "start_time": "2022-06-08T14:57:56.403Z"
   },
   {
    "duration": 16794,
    "start_time": "2022-06-08T14:58:00.411Z"
   },
   {
    "duration": 3,
    "start_time": "2022-06-08T14:58:17.207Z"
   },
   {
    "duration": 5,
    "start_time": "2022-06-08T15:01:30.453Z"
   },
   {
    "duration": 3360,
    "start_time": "2022-06-08T15:02:51.089Z"
   },
   {
    "duration": 19,
    "start_time": "2022-06-08T15:04:12.304Z"
   },
   {
    "duration": 15,
    "start_time": "2022-06-08T15:04:18.693Z"
   },
   {
    "duration": 24,
    "start_time": "2022-06-08T15:04:24.740Z"
   },
   {
    "duration": 363,
    "start_time": "2022-06-08T15:05:40.613Z"
   },
   {
    "duration": 51,
    "start_time": "2022-06-08T15:08:00.504Z"
   },
   {
    "duration": 694,
    "start_time": "2022-06-08T15:08:03.801Z"
   },
   {
    "duration": 706,
    "start_time": "2022-06-08T15:08:10.223Z"
   },
   {
    "duration": 791,
    "start_time": "2022-06-08T15:08:18.906Z"
   },
   {
    "duration": 28,
    "start_time": "2022-06-08T15:08:28.653Z"
   },
   {
    "duration": 927,
    "start_time": "2022-06-08T15:08:34.786Z"
   },
   {
    "duration": 6,
    "start_time": "2022-06-08T15:08:41.195Z"
   },
   {
    "duration": 7,
    "start_time": "2022-06-08T15:08:45.644Z"
   },
   {
    "duration": 483,
    "start_time": "2022-06-08T15:11:54.791Z"
   },
   {
    "duration": 417,
    "start_time": "2022-06-08T15:12:07.087Z"
   },
   {
    "duration": 444,
    "start_time": "2022-06-08T15:12:12.616Z"
   },
   {
    "duration": 1127,
    "start_time": "2022-06-09T03:46:35.254Z"
   },
   {
    "duration": 1694,
    "start_time": "2022-06-09T03:46:36.384Z"
   },
   {
    "duration": 2,
    "start_time": "2022-06-09T03:46:38.080Z"
   },
   {
    "duration": 16,
    "start_time": "2022-06-09T03:46:38.084Z"
   },
   {
    "duration": 13,
    "start_time": "2022-06-09T03:46:38.101Z"
   },
   {
    "duration": 4,
    "start_time": "2022-06-09T03:46:38.127Z"
   },
   {
    "duration": 9,
    "start_time": "2022-06-09T03:46:38.132Z"
   },
   {
    "duration": 17,
    "start_time": "2022-06-09T03:46:38.143Z"
   },
   {
    "duration": 334,
    "start_time": "2022-06-09T03:46:38.161Z"
   },
   {
    "duration": 350,
    "start_time": "2022-06-09T03:46:38.498Z"
   },
   {
    "duration": 384,
    "start_time": "2022-06-09T03:46:38.849Z"
   },
   {
    "duration": 173,
    "start_time": "2022-06-09T03:46:39.235Z"
   },
   {
    "duration": 8,
    "start_time": "2022-06-09T03:46:39.409Z"
   },
   {
    "duration": 7,
    "start_time": "2022-06-09T03:46:39.427Z"
   },
   {
    "duration": 10,
    "start_time": "2022-06-09T03:46:39.435Z"
   },
   {
    "duration": 188,
    "start_time": "2022-06-09T03:46:39.446Z"
   },
   {
    "duration": 7,
    "start_time": "2022-06-09T03:46:39.636Z"
   },
   {
    "duration": 13,
    "start_time": "2022-06-09T03:46:39.644Z"
   },
   {
    "duration": 8,
    "start_time": "2022-06-09T03:46:39.658Z"
   },
   {
    "duration": 13,
    "start_time": "2022-06-09T03:46:39.668Z"
   },
   {
    "duration": 247,
    "start_time": "2022-06-09T03:46:39.682Z"
   },
   {
    "duration": 24,
    "start_time": "2022-06-09T03:46:39.930Z"
   },
   {
    "duration": 13,
    "start_time": "2022-06-09T03:46:39.956Z"
   },
   {
    "duration": 6,
    "start_time": "2022-06-09T03:46:39.970Z"
   },
   {
    "duration": 18,
    "start_time": "2022-06-09T03:46:39.977Z"
   },
   {
    "duration": 12,
    "start_time": "2022-06-09T03:46:39.996Z"
   },
   {
    "duration": 23,
    "start_time": "2022-06-09T03:46:40.010Z"
   },
   {
    "duration": 9,
    "start_time": "2022-06-09T03:46:40.036Z"
   },
   {
    "duration": 38,
    "start_time": "2022-06-09T03:46:40.046Z"
   },
   {
    "duration": 6,
    "start_time": "2022-06-09T03:46:40.085Z"
   },
   {
    "duration": 12,
    "start_time": "2022-06-09T03:46:40.092Z"
   },
   {
    "duration": 21,
    "start_time": "2022-06-09T03:46:40.105Z"
   },
   {
    "duration": 22,
    "start_time": "2022-06-09T03:46:40.128Z"
   },
   {
    "duration": 349,
    "start_time": "2022-06-09T03:46:40.151Z"
   },
   {
    "duration": 105,
    "start_time": "2022-06-09T03:46:40.501Z"
   },
   {
    "duration": 353,
    "start_time": "2022-06-09T03:46:46.635Z"
   },
   {
    "duration": 4,
    "start_time": "2022-06-09T03:46:48.579Z"
   },
   {
    "duration": 3,
    "start_time": "2022-06-09T03:46:54.027Z"
   },
   {
    "duration": 4,
    "start_time": "2022-06-09T03:47:05.085Z"
   },
   {
    "duration": 9,
    "start_time": "2022-06-09T03:47:12.732Z"
   },
   {
    "duration": 4,
    "start_time": "2022-06-09T03:47:36.467Z"
   },
   {
    "duration": 8,
    "start_time": "2022-06-09T03:48:33.429Z"
   },
   {
    "duration": 4,
    "start_time": "2022-06-09T03:49:04.651Z"
   },
   {
    "duration": 20,
    "start_time": "2022-06-09T03:49:06.842Z"
   },
   {
    "duration": 8,
    "start_time": "2022-06-09T03:49:08.498Z"
   },
   {
    "duration": 3,
    "start_time": "2022-06-09T03:49:10.195Z"
   },
   {
    "duration": 29,
    "start_time": "2022-06-09T03:49:18.100Z"
   },
   {
    "duration": 4,
    "start_time": "2022-06-09T03:49:23.691Z"
   },
   {
    "duration": 4,
    "start_time": "2022-06-09T03:49:28.266Z"
   },
   {
    "duration": 3,
    "start_time": "2022-06-09T03:49:34.363Z"
   },
   {
    "duration": 4,
    "start_time": "2022-06-09T03:50:00.947Z"
   },
   {
    "duration": 8,
    "start_time": "2022-06-09T03:50:09.178Z"
   },
   {
    "duration": 4,
    "start_time": "2022-06-09T03:50:15.413Z"
   },
   {
    "duration": 12,
    "start_time": "2022-06-09T03:51:47.396Z"
   },
   {
    "duration": 6,
    "start_time": "2022-06-09T03:51:56.257Z"
   },
   {
    "duration": 10,
    "start_time": "2022-06-09T03:52:05.866Z"
   },
   {
    "duration": 9,
    "start_time": "2022-06-09T03:52:35.530Z"
   },
   {
    "duration": 17,
    "start_time": "2022-06-09T03:52:57.267Z"
   },
   {
    "duration": 9,
    "start_time": "2022-06-09T03:53:18.403Z"
   },
   {
    "duration": 4,
    "start_time": "2022-06-09T03:55:07.755Z"
   },
   {
    "duration": 3,
    "start_time": "2022-06-09T03:56:34.834Z"
   },
   {
    "duration": 4,
    "start_time": "2022-06-09T03:58:20.467Z"
   },
   {
    "duration": 6,
    "start_time": "2022-06-09T03:58:32.003Z"
   },
   {
    "duration": 3,
    "start_time": "2022-06-09T03:58:47.475Z"
   },
   {
    "duration": 4,
    "start_time": "2022-06-09T03:58:53.171Z"
   },
   {
    "duration": 10,
    "start_time": "2022-06-09T04:14:02.504Z"
   },
   {
    "duration": 8,
    "start_time": "2022-06-09T04:15:41.768Z"
   },
   {
    "duration": 345,
    "start_time": "2022-06-09T04:17:03.892Z"
   },
   {
    "duration": 351,
    "start_time": "2022-06-09T04:17:24.586Z"
   },
   {
    "duration": 10,
    "start_time": "2022-06-09T04:50:35.657Z"
   },
   {
    "duration": 14,
    "start_time": "2022-06-09T04:51:05.740Z"
   },
   {
    "duration": 9,
    "start_time": "2022-06-09T04:51:11.981Z"
   },
   {
    "duration": 12,
    "start_time": "2022-06-09T04:52:13.247Z"
   },
   {
    "duration": 1306,
    "start_time": "2022-06-09T05:45:31.896Z"
   },
   {
    "duration": 1344,
    "start_time": "2022-06-09T05:45:33.205Z"
   },
   {
    "duration": 3,
    "start_time": "2022-06-09T05:45:34.555Z"
   },
   {
    "duration": 33,
    "start_time": "2022-06-09T05:45:34.560Z"
   },
   {
    "duration": 16,
    "start_time": "2022-06-09T05:45:34.595Z"
   },
   {
    "duration": 6,
    "start_time": "2022-06-09T05:45:34.626Z"
   },
   {
    "duration": 30,
    "start_time": "2022-06-09T05:45:34.634Z"
   },
   {
    "duration": 27,
    "start_time": "2022-06-09T05:45:34.666Z"
   },
   {
    "duration": 389,
    "start_time": "2022-06-09T05:45:34.697Z"
   },
   {
    "duration": 344,
    "start_time": "2022-06-09T05:45:35.088Z"
   },
   {
    "duration": 421,
    "start_time": "2022-06-09T05:45:35.434Z"
   },
   {
    "duration": 234,
    "start_time": "2022-06-09T05:45:35.856Z"
   },
   {
    "duration": 11,
    "start_time": "2022-06-09T05:45:36.092Z"
   },
   {
    "duration": 29,
    "start_time": "2022-06-09T05:45:36.105Z"
   },
   {
    "duration": 6,
    "start_time": "2022-06-09T05:45:36.136Z"
   },
   {
    "duration": 251,
    "start_time": "2022-06-09T05:45:36.143Z"
   },
   {
    "duration": 11,
    "start_time": "2022-06-09T05:45:36.396Z"
   },
   {
    "duration": 29,
    "start_time": "2022-06-09T05:45:36.409Z"
   },
   {
    "duration": 10,
    "start_time": "2022-06-09T05:45:36.440Z"
   },
   {
    "duration": 14,
    "start_time": "2022-06-09T05:45:36.453Z"
   },
   {
    "duration": 336,
    "start_time": "2022-06-09T05:45:36.469Z"
   },
   {
    "duration": 35,
    "start_time": "2022-06-09T05:45:36.806Z"
   },
   {
    "duration": 16,
    "start_time": "2022-06-09T05:45:36.842Z"
   },
   {
    "duration": 3,
    "start_time": "2022-06-09T05:45:36.859Z"
   },
   {
    "duration": 5,
    "start_time": "2022-06-09T05:45:36.864Z"
   },
   {
    "duration": 6,
    "start_time": "2022-06-09T05:45:36.870Z"
   },
   {
    "duration": 6,
    "start_time": "2022-06-09T05:45:36.879Z"
   },
   {
    "duration": 53,
    "start_time": "2022-06-09T05:45:36.886Z"
   },
   {
    "duration": 16,
    "start_time": "2022-06-09T05:45:36.941Z"
   },
   {
    "duration": 7,
    "start_time": "2022-06-09T05:45:36.959Z"
   },
   {
    "duration": 5,
    "start_time": "2022-06-09T05:45:36.968Z"
   },
   {
    "duration": 8,
    "start_time": "2022-06-09T05:45:36.975Z"
   },
   {
    "duration": 390,
    "start_time": "2022-06-09T05:45:36.985Z"
   },
   {
    "duration": 11,
    "start_time": "2022-06-09T05:45:37.377Z"
   },
   {
    "duration": 11,
    "start_time": "2022-06-09T05:45:37.390Z"
   },
   {
    "duration": 33,
    "start_time": "2022-06-09T05:45:37.402Z"
   },
   {
    "duration": 3,
    "start_time": "2022-06-09T05:46:15.208Z"
   },
   {
    "duration": 5,
    "start_time": "2022-06-09T05:46:21.782Z"
   },
   {
    "duration": 3,
    "start_time": "2022-06-09T05:46:26.094Z"
   },
   {
    "duration": 9,
    "start_time": "2022-06-09T05:51:41.546Z"
   },
   {
    "duration": 11,
    "start_time": "2022-06-09T05:51:56.296Z"
   },
   {
    "duration": 5,
    "start_time": "2022-06-09T05:57:28.545Z"
   },
   {
    "duration": 3,
    "start_time": "2022-06-09T05:58:07.028Z"
   },
   {
    "duration": 4,
    "start_time": "2022-06-09T06:00:30.222Z"
   },
   {
    "duration": 3,
    "start_time": "2022-06-09T06:00:30.644Z"
   },
   {
    "duration": 8,
    "start_time": "2022-06-09T06:02:51.351Z"
   },
   {
    "duration": 6,
    "start_time": "2022-06-09T06:02:55.428Z"
   },
   {
    "duration": 30,
    "start_time": "2022-06-09T06:03:08.203Z"
   },
   {
    "duration": 3,
    "start_time": "2022-06-09T06:03:57.880Z"
   },
   {
    "duration": 102,
    "start_time": "2022-06-09T06:04:08.447Z"
   },
   {
    "duration": 4768,
    "start_time": "2022-06-09T06:04:29.727Z"
   },
   {
    "duration": 6,
    "start_time": "2022-06-09T06:06:56.205Z"
   },
   {
    "duration": 4,
    "start_time": "2022-06-09T06:07:07.062Z"
   },
   {
    "duration": 2,
    "start_time": "2022-06-09T06:07:07.971Z"
   },
   {
    "duration": 21,
    "start_time": "2022-06-09T06:07:12.556Z"
   },
   {
    "duration": 526,
    "start_time": "2022-06-09T06:07:27.539Z"
   },
   {
    "duration": 4,
    "start_time": "2022-06-09T06:08:21.797Z"
   },
   {
    "duration": 4,
    "start_time": "2022-06-09T06:08:22.258Z"
   },
   {
    "duration": 574,
    "start_time": "2022-06-09T06:08:26.307Z"
   },
   {
    "duration": 4,
    "start_time": "2022-06-09T06:09:22.355Z"
   },
   {
    "duration": 3,
    "start_time": "2022-06-09T06:09:22.562Z"
   },
   {
    "duration": 667,
    "start_time": "2022-06-09T06:09:26.248Z"
   },
   {
    "duration": 4,
    "start_time": "2022-06-09T06:09:44.147Z"
   },
   {
    "duration": 3,
    "start_time": "2022-06-09T06:09:44.347Z"
   },
   {
    "duration": 527,
    "start_time": "2022-06-09T06:09:48.270Z"
   },
   {
    "duration": 4,
    "start_time": "2022-06-09T06:10:15.677Z"
   },
   {
    "duration": 3,
    "start_time": "2022-06-09T06:10:15.906Z"
   },
   {
    "duration": 540,
    "start_time": "2022-06-09T06:10:21.850Z"
   },
   {
    "duration": 4792,
    "start_time": "2022-06-09T06:13:42.792Z"
   },
   {
    "duration": 24183,
    "start_time": "2022-06-09T06:18:06.943Z"
   },
   {
    "duration": 53216,
    "start_time": "2022-06-09T06:18:43.944Z"
   },
   {
    "duration": 206416,
    "start_time": "2022-06-09T06:20:56.260Z"
   },
   {
    "duration": 14,
    "start_time": "2022-06-09T06:24:43.395Z"
   },
   {
    "duration": 211138,
    "start_time": "2022-06-09T06:24:47.644Z"
   },
   {
    "duration": 4,
    "start_time": "2022-06-09T06:28:18.784Z"
   },
   {
    "duration": 265980,
    "start_time": "2022-06-09T06:29:06.615Z"
   },
   {
    "duration": 0,
    "start_time": "2022-06-09T06:33:32.597Z"
   },
   {
    "duration": 14,
    "start_time": "2022-06-09T06:33:41.318Z"
   },
   {
    "duration": 7,
    "start_time": "2022-06-09T06:33:50.512Z"
   },
   {
    "duration": 13,
    "start_time": "2022-06-09T06:34:22.159Z"
   },
   {
    "duration": 3,
    "start_time": "2022-06-09T06:34:52.679Z"
   },
   {
    "duration": 54362,
    "start_time": "2022-06-09T06:34:56.683Z"
   },
   {
    "duration": 104305,
    "start_time": "2022-06-09T06:47:33.953Z"
   },
   {
    "duration": 29430,
    "start_time": "2022-06-09T06:49:28.527Z"
   },
   {
    "duration": 915830,
    "start_time": "2022-06-09T06:51:16.827Z"
   },
   {
    "duration": 13446,
    "start_time": "2022-06-09T07:06:47.328Z"
   },
   {
    "duration": 29433,
    "start_time": "2022-06-09T07:07:28.599Z"
   },
   {
    "duration": 10,
    "start_time": "2022-06-09T07:07:58.035Z"
   },
   {
    "duration": 11,
    "start_time": "2022-06-09T07:07:58.046Z"
   },
   {
    "duration": 10,
    "start_time": "2022-06-09T07:13:25.376Z"
   },
   {
    "duration": 8,
    "start_time": "2022-06-09T07:13:30.808Z"
   },
   {
    "duration": 17,
    "start_time": "2022-06-09T07:13:38.008Z"
   },
   {
    "duration": 15,
    "start_time": "2022-06-09T07:13:45.116Z"
   },
   {
    "duration": 9,
    "start_time": "2022-06-09T07:13:50.907Z"
   }
  ],
  "kernelspec": {
   "display_name": "Python 3 (ipykernel)",
   "language": "python",
   "name": "python3"
  },
  "language_info": {
   "codemirror_mode": {
    "name": "ipython",
    "version": 3
   },
   "file_extension": ".py",
   "mimetype": "text/x-python",
   "name": "python",
   "nbconvert_exporter": "python",
   "pygments_lexer": "ipython3",
   "version": "3.9.7"
  },
  "toc": {
   "base_numbering": 1,
   "nav_menu": {},
   "number_sections": true,
   "sideBar": true,
   "skip_h1_title": true,
   "title_cell": "Table of Contents",
   "title_sidebar": "Contents",
   "toc_cell": false,
   "toc_position": {},
   "toc_section_display": true,
   "toc_window_display": true
  }
 },
 "nbformat": 4,
 "nbformat_minor": 5
}
