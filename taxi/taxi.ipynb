{
 "cells": [
  {
   "cell_type": "markdown",
   "metadata": {
    "toc": true
   },
   "source": [
    "<h1>Содержание<span class=\"tocSkip\"></span></h1>\n",
    "<div class=\"toc\"><ul class=\"toc-item\"><li><ul class=\"toc-item\"><li><ul class=\"toc-item\"><li><span><a href=\"#Полезные-ссылки:\" data-toc-modified-id=\"Полезные-ссылки:-0.0.1\"><span class=\"toc-item-num\">0.0.1&nbsp;&nbsp;</span><font color=\"orange\">Полезные ссылки:</font></a></span></li></ul></li><li><span><a href=\"#Общее-впечатление\" data-toc-modified-id=\"Общее-впечатление-0.1\"><span class=\"toc-item-num\">0.1&nbsp;&nbsp;</span><font color=\"orange\">Общее впечатление</font></a></span></li><li><span><a href=\"#Общее-впечатление-(ревью-2)\" data-toc-modified-id=\"Общее-впечатление-(ревью-2)-0.2\"><span class=\"toc-item-num\">0.2&nbsp;&nbsp;</span><font color=\"orange\">Общее впечатление (ревью 2)</font></a></span></li></ul></li><li><span><a href=\"#Введение\" data-toc-modified-id=\"Введение-1\"><span class=\"toc-item-num\">1&nbsp;&nbsp;</span>Введение</a></span></li><li><span><a href=\"#Подготовка\" data-toc-modified-id=\"Подготовка-2\"><span class=\"toc-item-num\">2&nbsp;&nbsp;</span>Подготовка</a></span></li><li><span><a href=\"#Анализ\" data-toc-modified-id=\"Анализ-3\"><span class=\"toc-item-num\">3&nbsp;&nbsp;</span>Анализ</a></span></li><li><span><a href=\"#Обучение\" data-toc-modified-id=\"Обучение-4\"><span class=\"toc-item-num\">4&nbsp;&nbsp;</span>Обучение</a></span><ul class=\"toc-item\"><li><span><a href=\"#Линейная-регрессия\" data-toc-modified-id=\"Линейная-регрессия-4.1\"><span class=\"toc-item-num\">4.1&nbsp;&nbsp;</span>Линейная регрессия</a></span></li><li><span><a href=\"#Дерево-решений\" data-toc-modified-id=\"Дерево-решений-4.2\"><span class=\"toc-item-num\">4.2&nbsp;&nbsp;</span>Дерево решений</a></span></li><li><span><a href=\"#Случайный-лес\" data-toc-modified-id=\"Случайный-лес-4.3\"><span class=\"toc-item-num\">4.3&nbsp;&nbsp;</span>Случайный лес</a></span></li></ul></li><li><span><a href=\"#Тест\" data-toc-modified-id=\"Тест-5\"><span class=\"toc-item-num\">5&nbsp;&nbsp;</span>Тест</a></span></li><li><span><a href=\"#Выводы\" data-toc-modified-id=\"Выводы-6\"><span class=\"toc-item-num\">6&nbsp;&nbsp;</span>Выводы</a></span></li><li><span><a href=\"#Чек-лист-проверки\" data-toc-modified-id=\"Чек-лист-проверки-7\"><span class=\"toc-item-num\">7&nbsp;&nbsp;</span>Чек-лист проверки</a></span></li></ul></div>"
   ]
  },
  {
   "cell_type": "markdown",
   "metadata": {},
   "source": [
    "#  Прогнозирование заказов такси"
   ]
  },
  {
   "cell_type": "markdown",
   "metadata": {},
   "source": [
    "Компания «Чётенькое такси» собрала исторические данные о заказах такси в аэропортах. Чтобы привлекать больше водителей в период пиковой нагрузки, нужно спрогнозировать количество заказов такси на следующий час. Постройте модель для такого предсказания.\n",
    "\n",
    "Значение метрики *RMSE* на тестовой выборке должно быть не больше 48.\n",
    "\n",
    "Вам нужно:\n",
    "\n",
    "1. Загрузить данные и выполнить их ресемплирование по одному часу.\n",
    "2. Проанализировать данные.\n",
    "3. Обучить разные модели с различными гиперпараметрами. Сделать тестовую выборку размером 10% от исходных данных.\n",
    "4. Проверить данные на тестовой выборке и сделать выводы.\n",
    "\n",
    "\n",
    "Данные лежат в файле `taxi.csv`. Количество заказов находится в столбце `num_orders` (от англ. *number of orders*, «число заказов»)."
   ]
  },
  {
   "cell_type": "markdown",
   "metadata": {},
   "source": [
    "## Введение"
   ]
  },
  {
   "cell_type": "markdown",
   "metadata": {},
   "source": [
    "По предоставленному набору данных о заказа такси в аэропорт требуется разработать модель для предсказания количества заказов на ближайший час. Требуемя метрика RMSE, величина которой не должна превышать 48. Процесс разработки модели разделим на следующие этапы:\n",
    "- Обзор и подготовка данных\n",
    "- Анализ данных\n",
    "- Подбор моделей и гиперпараметров"
   ]
  },
  {
   "cell_type": "markdown",
   "metadata": {},
   "source": [
    "## Подготовка"
   ]
  },
  {
   "cell_type": "code",
   "execution_count": 1,
   "metadata": {},
   "outputs": [],
   "source": [
    "import pandas as pd\n",
    "import matplotlib.pyplot as plt\n",
    "\n",
    "from statsmodels.tsa.seasonal import seasonal_decompose\n",
    "from sklearn.model_selection import train_test_split\n",
    "from sklearn.model_selection import TimeSeriesSplit\n",
    "from sklearn.model_selection import cross_validate\n",
    "from sklearn.metrics import make_scorer\n",
    "from sklearn.metrics import mean_squared_error\n",
    "\n",
    "from sklearn.linear_model import LinearRegression\n",
    "from sklearn.tree import DecisionTreeRegressor\n",
    "from sklearn.ensemble import RandomForestRegressor"
   ]
  },
  {
   "cell_type": "code",
   "execution_count": 2,
   "metadata": {},
   "outputs": [
    {
     "data": {
      "text/html": [
       "<div>\n",
       "<style scoped>\n",
       "    .dataframe tbody tr th:only-of-type {\n",
       "        vertical-align: middle;\n",
       "    }\n",
       "\n",
       "    .dataframe tbody tr th {\n",
       "        vertical-align: top;\n",
       "    }\n",
       "\n",
       "    .dataframe thead th {\n",
       "        text-align: right;\n",
       "    }\n",
       "</style>\n",
       "<table border=\"1\" class=\"dataframe\">\n",
       "  <thead>\n",
       "    <tr style=\"text-align: right;\">\n",
       "      <th></th>\n",
       "      <th>num_orders</th>\n",
       "    </tr>\n",
       "    <tr>\n",
       "      <th>datetime</th>\n",
       "      <th></th>\n",
       "    </tr>\n",
       "  </thead>\n",
       "  <tbody>\n",
       "    <tr>\n",
       "      <th>2018-03-01 00:00:00</th>\n",
       "      <td>9</td>\n",
       "    </tr>\n",
       "    <tr>\n",
       "      <th>2018-03-01 00:10:00</th>\n",
       "      <td>14</td>\n",
       "    </tr>\n",
       "    <tr>\n",
       "      <th>2018-03-01 00:20:00</th>\n",
       "      <td>28</td>\n",
       "    </tr>\n",
       "    <tr>\n",
       "      <th>2018-03-01 00:30:00</th>\n",
       "      <td>20</td>\n",
       "    </tr>\n",
       "    <tr>\n",
       "      <th>2018-03-01 00:40:00</th>\n",
       "      <td>32</td>\n",
       "    </tr>\n",
       "  </tbody>\n",
       "</table>\n",
       "</div>"
      ],
      "text/plain": [
       "                     num_orders\n",
       "datetime                       \n",
       "2018-03-01 00:00:00           9\n",
       "2018-03-01 00:10:00          14\n",
       "2018-03-01 00:20:00          28\n",
       "2018-03-01 00:30:00          20\n",
       "2018-03-01 00:40:00          32"
      ]
     },
     "execution_count": 2,
     "metadata": {},
     "output_type": "execute_result"
    }
   ],
   "source": [
    "data = pd.read_csv('/datasets/taxi.csv', parse_dates=[0], index_col=[0])\n",
    "data.sort_index(inplace=True)\n",
    "data.head()"
   ]
  },
  {
   "cell_type": "code",
   "execution_count": 3,
   "metadata": {
    "scrolled": true
   },
   "outputs": [
    {
     "name": "stdout",
     "output_type": "stream",
     "text": [
      "<class 'pandas.core.frame.DataFrame'>\n",
      "DatetimeIndex: 26496 entries, 2018-03-01 00:00:00 to 2018-08-31 23:50:00\n",
      "Data columns (total 1 columns):\n",
      " #   Column      Non-Null Count  Dtype\n",
      "---  ------      --------------  -----\n",
      " 0   num_orders  26496 non-null  int64\n",
      "dtypes: int64(1)\n",
      "memory usage: 414.0 KB\n"
     ]
    }
   ],
   "source": [
    "data.info()"
   ]
  },
  {
   "cell_type": "code",
   "execution_count": 4,
   "metadata": {},
   "outputs": [
    {
     "data": {
      "text/html": [
       "<div>\n",
       "<style scoped>\n",
       "    .dataframe tbody tr th:only-of-type {\n",
       "        vertical-align: middle;\n",
       "    }\n",
       "\n",
       "    .dataframe tbody tr th {\n",
       "        vertical-align: top;\n",
       "    }\n",
       "\n",
       "    .dataframe thead th {\n",
       "        text-align: right;\n",
       "    }\n",
       "</style>\n",
       "<table border=\"1\" class=\"dataframe\">\n",
       "  <thead>\n",
       "    <tr style=\"text-align: right;\">\n",
       "      <th></th>\n",
       "      <th>num_orders</th>\n",
       "    </tr>\n",
       "    <tr>\n",
       "      <th>datetime</th>\n",
       "      <th></th>\n",
       "    </tr>\n",
       "  </thead>\n",
       "  <tbody>\n",
       "    <tr>\n",
       "      <th>2018-03-01 00:00:00</th>\n",
       "      <td>124</td>\n",
       "    </tr>\n",
       "    <tr>\n",
       "      <th>2018-03-01 01:00:00</th>\n",
       "      <td>85</td>\n",
       "    </tr>\n",
       "    <tr>\n",
       "      <th>2018-03-01 02:00:00</th>\n",
       "      <td>71</td>\n",
       "    </tr>\n",
       "    <tr>\n",
       "      <th>2018-03-01 03:00:00</th>\n",
       "      <td>66</td>\n",
       "    </tr>\n",
       "    <tr>\n",
       "      <th>2018-03-01 04:00:00</th>\n",
       "      <td>43</td>\n",
       "    </tr>\n",
       "  </tbody>\n",
       "</table>\n",
       "</div>"
      ],
      "text/plain": [
       "                     num_orders\n",
       "datetime                       \n",
       "2018-03-01 00:00:00         124\n",
       "2018-03-01 01:00:00          85\n",
       "2018-03-01 02:00:00          71\n",
       "2018-03-01 03:00:00          66\n",
       "2018-03-01 04:00:00          43"
      ]
     },
     "execution_count": 4,
     "metadata": {},
     "output_type": "execute_result"
    }
   ],
   "source": [
    "data = data.resample('1H').sum()\n",
    "data.head()"
   ]
  },
  {
   "cell_type": "code",
   "execution_count": 5,
   "metadata": {},
   "outputs": [
    {
     "name": "stdout",
     "output_type": "stream",
     "text": [
      "<class 'pandas.core.frame.DataFrame'>\n",
      "DatetimeIndex: 4416 entries, 2018-03-01 00:00:00 to 2018-08-31 23:00:00\n",
      "Freq: H\n",
      "Data columns (total 1 columns):\n",
      " #   Column      Non-Null Count  Dtype\n",
      "---  ------      --------------  -----\n",
      " 0   num_orders  4416 non-null   int64\n",
      "dtypes: int64(1)\n",
      "memory usage: 69.0 KB\n"
     ]
    }
   ],
   "source": [
    "data.info()"
   ]
  },
  {
   "cell_type": "markdown",
   "metadata": {},
   "source": [
    "## Анализ"
   ]
  },
  {
   "cell_type": "code",
   "execution_count": 6,
   "metadata": {},
   "outputs": [
    {
     "data": {
      "text/plain": [
       "<AxesSubplot:xlabel='datetime'>"
      ]
     },
     "execution_count": 6,
     "metadata": {},
     "output_type": "execute_result"
    },
    {
     "data": {
      "image/png": "[encoded data removed]",
      "text/plain": [
       "<Figure size 432x288 with 1 Axes>"
      ]
     },
     "metadata": {
      "needs_background": "light"
     },
     "output_type": "display_data"
    },
    {
     "data": {
      "image/png": "[encoded data removed]",
      "text/plain": [
       "<Figure size 432x288 with 1 Axes>"
      ]
     },
     "metadata": {
      "needs_background": "light"
     },
     "output_type": "display_data"
    }
   ],
   "source": [
    "data.plot()\n",
    "data.rolling(10).mean().plot()"
   ]
  },
  {
   "cell_type": "code",
   "execution_count": 7,
   "metadata": {},
   "outputs": [
    {
     "data": {
      "image/png": "[encoded data removed]",
      "text/plain": [
       "<Figure size 1080x864 with 3 Axes>"
      ]
     },
     "metadata": {
      "needs_background": "light"
     },
     "output_type": "display_data"
    }
   ],
   "source": [
    "decomposed = seasonal_decompose(data['num_orders'])\n",
    "plt.figure(figsize=(15, 12))\n",
    "\n",
    "plt.subplot(311)\n",
    "decomposed.trend['2018-08-01':'2018-08-31'].plot(ax=plt.gca())\n",
    "plt.title('Trend')\n",
    "\n",
    "plt.subplot(312)\n",
    "decomposed.seasonal['2018-08-01':'2018-08-31'].plot(ax=plt.gca())\n",
    "plt.title('Seasonality')\n",
    "\n",
    "plt.subplot(313)\n",
    "decomposed.resid['2018-08-01':'2018-08-31'].plot(ax=plt.gca())\n",
    "plt.title('Residuals')\n",
    "\n",
    "plt.tight_layout()"
   ]
  },
  {
   "cell_type": "markdown",
   "metadata": {},
   "source": [
    "## Обучение"
   ]
  },
  {
   "cell_type": "markdown",
   "metadata": {},
   "source": [
    "Разделим выборки на обучающую и тестовую"
   ]
  },
  {
   "cell_type": "code",
   "execution_count": 17,
   "metadata": {},
   "outputs": [],
   "source": [
    "data_train, data_test = train_test_split(data, test_size=.1, shuffle=False)"
   ]
  },
  {
   "cell_type": "markdown",
   "metadata": {},
   "source": [
    "В качестве признаков используем месяц, дату, день недели и час заказа такси."
   ]
  },
  {
   "cell_type": "code",
   "execution_count": 9,
   "metadata": {},
   "outputs": [],
   "source": [
    "def make_features(data, max_lag, rolling_mean_size):\n",
    "    new_data = data.copy()\n",
    "    new_data['month'] = new_data.index.month\n",
    "    new_data['day'] = new_data.index.day\n",
    "    new_data['dayofweek'] = new_data.index.dayofweek\n",
    "    new_data['hour'] = new_data.index.hour\n",
    "    \n",
    "    for i in range(1, max_lag + 1):\n",
    "        new_data['lag_' + str(i)] = new_data['num_orders'].shift(i)\n",
    "    \n",
    "    new_data['rolling_mean'] = new_data['num_orders'].shift(1).rolling(rolling_mean_size).mean()\n",
    "    return new_data"
   ]
  },
  {
   "cell_type": "markdown",
   "metadata": {},
   "source": [
    "Для подбора модели будем менять временной интервал используемых признаков, а так же размер окна скользящего среднего. Кроме того, в моделях, основанных на деревьях, будем менять гиперпараметры."
   ]
  },
  {
   "cell_type": "markdown",
   "metadata": {},
   "source": [
    "### Линейная регрессия"
   ]
  },
  {
   "cell_type": "code",
   "execution_count": 39,
   "metadata": {},
   "outputs": [],
   "source": [
    "tc_cv = TimeSeriesSplit(n_splits=5, gap=0, max_train_size=3500, test_size=400)\n",
    "scorer = make_scorer(mean_squared_error)"
   ]
  },
  {
   "cell_type": "code",
   "execution_count": 35,
   "metadata": {
    "scrolled": false
   },
   "outputs": [
    {
     "name": "stdout",
     "output_type": "stream",
     "text": [
      "min_rmse = 34.03535619029359 lag = 1 roll = 1\n",
      "min_rmse = 34.004510993437734 lag = 1 roll = 4\n",
      "min_rmse = 33.96774343195536 lag = 1 roll = 5\n",
      "min_rmse = 33.93156778515963 lag = 1 roll = 6\n",
      "min_rmse = 33.91794826291267 lag = 1 roll = 18\n",
      "min_rmse = 33.86887422745077 lag = 1 roll = 19\n",
      "min_rmse = 33.858374403419354 lag = 1 roll = 20\n",
      "min_rmse = 33.84788651603207 lag = 1 roll = 21\n",
      "min_rmse = 33.83323071517943 lag = 3 roll = 18\n",
      "min_rmse = 33.78942759402215 lag = 3 roll = 19\n",
      "min_rmse = 33.78809035142365 lag = 3 roll = 20\n",
      "min_rmse = 33.775676453338626 lag = 3 roll = 21\n",
      "min_rmse = 33.759752260692814 lag = 7 roll = 19\n",
      "min_rmse = 33.73863700154955 lag = 7 roll = 20\n",
      "min_rmse = 33.73200456541452 lag = 7 roll = 21\n",
      "min_rmse = 33.6923423591698 lag = 9 roll = 12\n",
      "min_rmse = 33.59499244504071 lag = 9 roll = 24\n",
      "min_rmse = 33.52393890352581 lag = 11 roll = 15\n",
      "min_rmse = 33.49581610781845 lag = 11 roll = 18\n",
      "min_rmse = 33.39723457744903 lag = 11 roll = 19\n",
      "min_rmse = 33.36832126754861 lag = 11 roll = 20\n",
      "min_rmse = 33.30334642844359 lag = 12 roll = 19\n",
      "min_rmse = 33.25073550410219 lag = 12 roll = 20\n",
      "min_rmse = 33.233451995424446 lag = 14 roll = 20\n",
      "min_rmse = 32.93638288505416 lag = 14 roll = 24\n",
      "min_rmse = 32.556822955565416 lag = 15 roll = 24\n",
      "min_rmse = 32.554442957553086 lag = 16 roll = 24\n",
      "min_rmse = 32.45155295732131 lag = 17 roll = 19\n",
      "min_rmse = 32.45067656490321 lag = 17 roll = 24\n",
      "min_rmse = 31.565094460969405 lag = 18 roll = 24\n",
      "min_rmse = 30.852951323069185 lag = 19 roll = 24\n",
      "min_rmse = 30.215190990201762 lag = 20 roll = 24\n",
      "min_rmse = 29.286438670516475 lag = 21 roll = 24\n",
      "min_rmse = 29.139726426670354 lag = 22 roll = 24\n",
      "min_rmse = 28.791729172120725 lag = 23 roll = 24\n",
      "min_rmse = 28.791439127272003 lag = 24 roll = 3\n",
      "min_rmse = 28.791412212905264 lag = 24 roll = 8\n",
      "min_rmse = 28.791344735148357 lag = 24 roll = 12\n",
      "min_rmse = 28.76679690528162 lag = 24 roll = 18\n"
     ]
    }
   ],
   "source": [
    "min_rmse = 48\n",
    "best_model_lr = LinearRegression()\n",
    "best_lag_lr = 0\n",
    "best_roll_lr = 0\n",
    "    \n",
    "for lag in range(1, 25):\n",
    "    for roll in range(1, 25):\n",
    "        new_data = make_features(data_train, lag, roll)\n",
    "        new_data = new_data.dropna()\n",
    "        target = new_data['num_orders']\n",
    "        features = new_data.drop('num_orders', axis=1)\n",
    "        scores = cross_validate(LinearRegression(), features, target, cv=tc_cv, scoring=scorer, return_estimator=True)\n",
    "        if (scores['test_score'].sum()/5)**.5 < min_rmse:\n",
    "            min_rmse = (scores['test_score'].sum()/5)**.5\n",
    "            print('min_rmse =', round(min_rmse, 2), 'lag =', lag, 'roll =', roll)\n",
    "            best_model_lr = scores['estimator'][4]\n",
    "            best_lag_lr = lag\n",
    "            best_roll_lr = roll"
   ]
  },
  {
   "cell_type": "markdown",
   "metadata": {},
   "source": [
    "### Дерево решений"
   ]
  },
  {
   "cell_type": "code",
   "execution_count": 41,
   "metadata": {},
   "outputs": [
    {
     "name": "stdout",
     "output_type": "stream",
     "text": [
      "min_rmse = 32.882958160906576 lag = 5 roll = 5 max_depth = 5\n",
      "min_rmse = 31.309877814543672 lag = 5 roll = 5 max_depth = 6\n",
      "min_rmse = 30.870743986193457 lag = 5 roll = 5 max_depth = 7\n",
      "min_rmse = 30.18904697058727 lag = 5 roll = 6 max_depth = 7\n",
      "min_rmse = 29.97219272161116 lag = 5 roll = 6 max_depth = 8\n",
      "min_rmse = 29.783091002151455 lag = 5 roll = 8 max_depth = 7\n",
      "min_rmse = 29.649978183075547 lag = 5 roll = 8 max_depth = 8\n"
     ]
    }
   ],
   "source": [
    "min_rmse = 48\n",
    "best_model_dt = DecisionTreeRegressor()\n",
    "best_lag_dt = 0\n",
    "best_roll_dt = 0\n",
    "     \n",
    "for lag in range(5, 19):\n",
    "    for roll in range(5, 19):\n",
    "\n",
    "        new_data = make_features(data_train, lag, roll)\n",
    "        new_data = new_data.dropna()\n",
    "        target = new_data['num_orders']\n",
    "        features = new_data.drop('num_orders', axis=1)\n",
    "\n",
    "        for depth in range(5, 20):\n",
    "            model_dt = DecisionTreeRegressor(max_depth=depth)\n",
    "            scores = cross_validate(model_dt, features, target, cv=tc_cv, scoring=scorer, return_estimator=True)\n",
    "            if (scores['test_score'].sum()/5)**.5 < min_rmse:\n",
    "                min_rmse = (scores['test_score'].sum()/5)**.5\n",
    "                print('min_rmse =', round(min_rmse, 2), 'lag =', lag, 'roll =', roll, 'max_depth =', depth)\n",
    "                best_model_dt = scores['estimator'][4]\n",
    "                best_lag_dt = lag\n",
    "                best_roll_dt = roll"
   ]
  },
  {
   "cell_type": "markdown",
   "metadata": {},
   "source": [
    "### Случайный лес"
   ]
  },
  {
   "cell_type": "code",
   "execution_count": 43,
   "metadata": {
    "scrolled": false
   },
   "outputs": [
    {
     "name": "stdout",
     "output_type": "stream",
     "text": [
      "min_rmse = 26.47 lag = 12 roll = 12 max_depth = 10 n_estimators = 80\n",
      "min_rmse = 26.33 lag = 12 roll = 12 max_depth = 11 n_estimators = 80\n",
      "min_rmse = 26.28 lag = 12 roll = 12 max_depth = 12 n_estimators = 80\n",
      "min_rmse = 26.09 lag = 12 roll = 12 max_depth = 13 n_estimators = 80\n",
      "min_rmse = 25.98 lag = 12 roll = 12 max_depth = 14 n_estimators = 140\n",
      "min_rmse = 25.87 lag = 12 roll = 13 max_depth = 13 n_estimators = 120\n",
      "min_rmse = 25.85 lag = 13 roll = 14 max_depth = 13 n_estimators = 100\n",
      "min_rmse = 25.83 lag = 13 roll = 14 max_depth = 14 n_estimators = 140\n",
      "min_rmse = 25.79 lag = 14 roll = 16 max_depth = 14 n_estimators = 120\n"
     ]
    }
   ],
   "source": [
    "min_rmse = 48\n",
    "best_model_rf = DecisionTreeRegressor()\n",
    "best_lag_rf = 0\n",
    "best_roll_rf = 0\n",
    "\n",
    "for lag in range(12, 18):\n",
    "    for roll in range(12, 18):\n",
    "        \n",
    "        new_data = make_features(data_train, lag, roll)\n",
    "        new_data = new_data.dropna()\n",
    "        target = new_data['num_orders']\n",
    "        features = new_data.drop('num_orders', axis=1)\n",
    "        \n",
    "        for estimators in range(80, 141, 20):\n",
    "            for depth in range(10, 15):\n",
    "                model_rf = RandomForestRegressor(n_estimators=estimators, max_depth=depth)\n",
    "                scores = cross_validate(model_rf, features, target, cv=tc_cv, scoring=scorer, return_estimator=True)\n",
    "                if (scores['test_score'].sum()/5)**.5 < min_rmse:\n",
    "                    min_rmse = (scores['test_score'].sum()/5)**.5\n",
    "                    print('min_rmse =', round(min_rmse, 2), 'lag =', lag, 'roll =', roll, 'max_depth =', depth, 'n_estimators =', estimators)\n",
    "                    best_model_rf = scores['estimator'][4]\n",
    "                    best_lag_rf = lag\n",
    "                    best_roll_rf = roll"
   ]
  },
  {
   "cell_type": "markdown",
   "metadata": {},
   "source": [
    "## Тест"
   ]
  },
  {
   "cell_type": "code",
   "execution_count": 38,
   "metadata": {},
   "outputs": [
    {
     "data": {
      "text/plain": [
       "46.451559811136256"
      ]
     },
     "execution_count": 38,
     "metadata": {},
     "output_type": "execute_result"
    }
   ],
   "source": [
    "# Test LR\n",
    "new_data_test = make_features(data_test, best_lag_lr, best_roll_lr)\n",
    "new_data_test = new_data_test.dropna()\n",
    "target_test = new_data_test['num_orders']\n",
    "features_test = new_data_test.drop('num_orders', axis=1)\n",
    "predict_test = best_model_lr.predict(features_test)\n",
    "mean_squared_error(predict_test, target_test, squared=False)"
   ]
  },
  {
   "cell_type": "code",
   "execution_count": 42,
   "metadata": {},
   "outputs": [
    {
     "data": {
      "text/plain": [
       "54.9620462544044"
      ]
     },
     "execution_count": 42,
     "metadata": {},
     "output_type": "execute_result"
    }
   ],
   "source": [
    "# Test DT\n",
    "new_data_test = make_features(data_test, best_lag_dt, best_roll_dt)\n",
    "new_data_test = new_data_test.dropna()\n",
    "target_test = new_data_test['num_orders']\n",
    "features_test = new_data_test.drop('num_orders', axis=1)\n",
    "predict_test = best_model_dt.predict(features_test)\n",
    "mean_squared_error(predict_test, target_test, squared=False)"
   ]
  },
  {
   "cell_type": "code",
   "execution_count": 45,
   "metadata": {},
   "outputs": [
    {
     "data": {
      "text/plain": [
       "49.66388235029398"
      ]
     },
     "execution_count": 45,
     "metadata": {},
     "output_type": "execute_result"
    }
   ],
   "source": [
    "# Test RF\n",
    "new_data_test = make_features(data_test, best_lag_rf, best_roll_rf)\n",
    "new_data_test = new_data_test.dropna()\n",
    "target_test = new_data_test['num_orders']\n",
    "features_test = new_data_test.drop('num_orders', axis=1)\n",
    "predict_test = best_model_rf.predict(features_test)\n",
    "mean_squared_error(predict_test, target_test, squared=False)"
   ]
  },
  {
   "cell_type": "markdown",
   "metadata": {},
   "source": [
    "## Выводы"
   ]
  },
  {
   "cell_type": "markdown",
   "metadata": {},
   "source": [
    "Наименьшую ошибку показала модель Случайный лес с обучением на данных за предыдущие 14 часов, размером окна скользящего среднего 16 часов. А так же гиперпараметрами n_estimators = 100 и max_depth = 13."
   ]
  },
  {
   "cell_type": "markdown",
   "metadata": {},
   "source": [
    "## Чек-лист проверки"
   ]
  }
 ],
 "metadata": {
  "ExecuteTimeLog": [
   {
    "duration": 1020,
    "start_time": "2022-07-26T12:47:25.828Z"
   },
   {
    "duration": 83,
    "start_time": "2022-07-26T12:47:43.653Z"
   },
   {
    "duration": 21,
    "start_time": "2022-07-26T12:48:08.462Z"
   },
   {
    "duration": 121,
    "start_time": "2022-07-26T12:49:12.026Z"
   },
   {
    "duration": 19,
    "start_time": "2022-07-26T12:49:17.378Z"
   },
   {
    "duration": 6,
    "start_time": "2022-07-26T12:49:27.027Z"
   },
   {
    "duration": 11,
    "start_time": "2022-07-26T12:49:31.294Z"
   },
   {
    "duration": 1144,
    "start_time": "2022-07-26T12:51:19.039Z"
   },
   {
    "duration": 45,
    "start_time": "2022-07-26T12:51:47.567Z"
   },
   {
    "duration": 6,
    "start_time": "2022-07-26T12:51:49.919Z"
   },
   {
    "duration": 10,
    "start_time": "2022-07-26T12:51:56.375Z"
   },
   {
    "duration": 47,
    "start_time": "2022-07-26T12:52:24.886Z"
   },
   {
    "duration": 6,
    "start_time": "2022-07-26T12:52:25.391Z"
   },
   {
    "duration": 9,
    "start_time": "2022-07-26T12:52:30.828Z"
   },
   {
    "duration": 8,
    "start_time": "2022-07-26T12:52:58.528Z"
   },
   {
    "duration": 3,
    "start_time": "2022-07-26T12:53:07.007Z"
   },
   {
    "duration": 6,
    "start_time": "2022-07-26T12:57:17.640Z"
   },
   {
    "duration": 5,
    "start_time": "2022-07-26T13:51:12.761Z"
   },
   {
    "duration": 10,
    "start_time": "2022-07-26T13:51:22.530Z"
   },
   {
    "duration": 2,
    "start_time": "2022-07-26T13:51:51.579Z"
   },
   {
    "duration": 46,
    "start_time": "2022-07-26T13:51:51.819Z"
   },
   {
    "duration": 6,
    "start_time": "2022-07-26T13:51:52.202Z"
   },
   {
    "duration": 9,
    "start_time": "2022-07-26T13:51:52.849Z"
   },
   {
    "duration": 11,
    "start_time": "2022-07-26T13:51:53.475Z"
   },
   {
    "duration": 9,
    "start_time": "2022-07-26T13:52:37.068Z"
   },
   {
    "duration": 15,
    "start_time": "2022-07-26T13:53:33.577Z"
   },
   {
    "duration": 9,
    "start_time": "2022-07-26T13:53:39.557Z"
   },
   {
    "duration": 675,
    "start_time": "2022-07-26T13:54:03.403Z"
   },
   {
    "duration": 6,
    "start_time": "2022-07-26T13:54:42.653Z"
   },
   {
    "duration": 243,
    "start_time": "2022-07-26T13:54:52.469Z"
   },
   {
    "duration": 11,
    "start_time": "2022-07-26T13:55:11.932Z"
   },
   {
    "duration": 25,
    "start_time": "2022-07-26T13:56:11.966Z"
   },
   {
    "duration": 23,
    "start_time": "2022-07-26T13:56:58.021Z"
   },
   {
    "duration": 7,
    "start_time": "2022-07-26T13:57:30.109Z"
   },
   {
    "duration": 14,
    "start_time": "2022-07-26T13:59:56.416Z"
   },
   {
    "duration": 3,
    "start_time": "2022-07-26T14:00:14.646Z"
   },
   {
    "duration": 551,
    "start_time": "2022-07-26T14:00:17.869Z"
   },
   {
    "duration": 713,
    "start_time": "2022-07-26T14:01:03.734Z"
   },
   {
    "duration": 757,
    "start_time": "2022-07-26T14:01:27.279Z"
   },
   {
    "duration": 823,
    "start_time": "2022-07-26T14:01:33.397Z"
   },
   {
    "duration": 265,
    "start_time": "2022-07-26T14:49:00.299Z"
   },
   {
    "duration": 345,
    "start_time": "2022-07-26T14:49:56.189Z"
   },
   {
    "duration": 446,
    "start_time": "2022-07-26T14:50:00.482Z"
   },
   {
    "duration": 346,
    "start_time": "2022-07-26T14:50:12.018Z"
   },
   {
    "duration": 359,
    "start_time": "2022-07-26T14:50:20.395Z"
   },
   {
    "duration": 17,
    "start_time": "2022-07-26T14:54:43.253Z"
   },
   {
    "duration": 8,
    "start_time": "2022-07-26T14:55:56.380Z"
   },
   {
    "duration": 14,
    "start_time": "2022-07-26T14:55:59.788Z"
   },
   {
    "duration": 490,
    "start_time": "2022-07-26T14:56:19.157Z"
   },
   {
    "duration": 5,
    "start_time": "2022-07-26T14:56:29.890Z"
   },
   {
    "duration": 14,
    "start_time": "2022-07-26T14:56:30.269Z"
   },
   {
    "duration": 4,
    "start_time": "2022-07-26T14:59:54.469Z"
   },
   {
    "duration": 11,
    "start_time": "2022-07-26T15:00:25.240Z"
   },
   {
    "duration": 13,
    "start_time": "2022-07-26T15:00:31.182Z"
   },
   {
    "duration": 4,
    "start_time": "2022-07-26T15:00:37.610Z"
   },
   {
    "duration": 13,
    "start_time": "2022-07-26T15:00:38.631Z"
   },
   {
    "duration": 3,
    "start_time": "2022-07-26T15:00:48.145Z"
   },
   {
    "duration": 24,
    "start_time": "2022-07-26T15:00:48.591Z"
   },
   {
    "duration": 10,
    "start_time": "2022-07-26T15:30:48.394Z"
   },
   {
    "duration": 27,
    "start_time": "2022-07-26T15:30:53.623Z"
   },
   {
    "duration": 9,
    "start_time": "2022-07-26T15:31:00.676Z"
   },
   {
    "duration": 20,
    "start_time": "2022-07-26T15:31:03.575Z"
   },
   {
    "duration": 23,
    "start_time": "2022-07-26T15:32:10.183Z"
   },
   {
    "duration": 3,
    "start_time": "2022-07-26T15:32:22.503Z"
   },
   {
    "duration": 5,
    "start_time": "2022-07-26T15:34:38.591Z"
   },
   {
    "duration": 31,
    "start_time": "2022-07-26T15:36:21.976Z"
   },
   {
    "duration": 32,
    "start_time": "2022-07-26T15:36:30.575Z"
   },
   {
    "duration": 3,
    "start_time": "2022-07-26T15:36:50.458Z"
   },
   {
    "duration": 21,
    "start_time": "2022-07-26T15:36:56.496Z"
   },
   {
    "duration": 73,
    "start_time": "2022-07-26T15:37:53.430Z"
   },
   {
    "duration": 13,
    "start_time": "2022-07-26T15:38:47.339Z"
   },
   {
    "duration": 4,
    "start_time": "2022-07-26T15:38:51.139Z"
   },
   {
    "duration": 110,
    "start_time": "2022-07-26T15:39:06.801Z"
   },
   {
    "duration": 13,
    "start_time": "2022-07-26T15:39:14.840Z"
   },
   {
    "duration": 15,
    "start_time": "2022-07-26T15:39:27.329Z"
   },
   {
    "duration": 13,
    "start_time": "2022-07-26T15:39:39.385Z"
   },
   {
    "duration": 11,
    "start_time": "2022-07-26T15:39:45.273Z"
   },
   {
    "duration": 10,
    "start_time": "2022-07-26T15:39:47.531Z"
   },
   {
    "duration": 2,
    "start_time": "2022-07-26T15:39:52.727Z"
   },
   {
    "duration": 45,
    "start_time": "2022-07-26T15:39:52.960Z"
   },
   {
    "duration": 6,
    "start_time": "2022-07-26T15:39:53.199Z"
   },
   {
    "duration": 10,
    "start_time": "2022-07-26T15:39:53.359Z"
   },
   {
    "duration": 12,
    "start_time": "2022-07-26T15:39:53.543Z"
   },
   {
    "duration": 10,
    "start_time": "2022-07-26T15:39:53.705Z"
   },
   {
    "duration": 203,
    "start_time": "2022-07-26T15:39:54.050Z"
   },
   {
    "duration": 234,
    "start_time": "2022-07-26T15:39:54.255Z"
   },
   {
    "duration": 823,
    "start_time": "2022-07-26T15:39:54.491Z"
   },
   {
    "duration": 350,
    "start_time": "2022-07-26T15:39:55.316Z"
   },
   {
    "duration": 4,
    "start_time": "2022-07-26T15:39:57.640Z"
   },
   {
    "duration": 13,
    "start_time": "2022-07-26T15:40:01.657Z"
   },
   {
    "duration": 6,
    "start_time": "2022-07-26T15:40:03.057Z"
   },
   {
    "duration": 15,
    "start_time": "2022-07-26T15:40:03.785Z"
   },
   {
    "duration": 137,
    "start_time": "2022-07-26T15:42:27.938Z"
   },
   {
    "duration": 318,
    "start_time": "2022-07-26T15:45:23.316Z"
   },
   {
    "duration": 287,
    "start_time": "2022-07-26T15:46:08.961Z"
   },
   {
    "duration": 12,
    "start_time": "2022-07-26T15:47:42.413Z"
   },
   {
    "duration": 33256,
    "start_time": "2022-07-26T15:54:54.626Z"
   },
   {
    "duration": 92327,
    "start_time": "2022-07-26T15:57:24.363Z"
   },
   {
    "duration": 145,
    "start_time": "2022-07-26T16:02:08.874Z"
   },
   {
    "duration": 275,
    "start_time": "2022-07-26T16:02:19.034Z"
   },
   {
    "duration": 253,
    "start_time": "2022-07-26T16:03:08.114Z"
   },
   {
    "duration": 274,
    "start_time": "2022-07-26T16:03:17.242Z"
   },
   {
    "duration": 522,
    "start_time": "2022-07-26T16:03:37.114Z"
   },
   {
    "duration": 3,
    "start_time": "2022-07-26T16:13:38.930Z"
   },
   {
    "duration": 47,
    "start_time": "2022-07-26T16:13:48.095Z"
   },
   {
    "duration": 10,
    "start_time": "2022-07-26T16:13:50.178Z"
   },
   {
    "duration": 11,
    "start_time": "2022-07-26T16:13:54.985Z"
   },
   {
    "duration": 10,
    "start_time": "2022-07-26T16:14:07.954Z"
   },
   {
    "duration": 10,
    "start_time": "2022-07-26T16:14:08.585Z"
   },
   {
    "duration": 193,
    "start_time": "2022-07-26T16:14:11.945Z"
   },
   {
    "duration": 216,
    "start_time": "2022-07-26T16:14:14.883Z"
   },
   {
    "duration": 812,
    "start_time": "2022-07-26T16:14:17.009Z"
   },
   {
    "duration": 217,
    "start_time": "2022-07-26T16:17:26.250Z"
   },
   {
    "duration": 217,
    "start_time": "2022-07-26T16:17:40.370Z"
   },
   {
    "duration": 48,
    "start_time": "2022-07-26T16:18:14.068Z"
   },
   {
    "duration": 10,
    "start_time": "2022-07-26T16:18:14.267Z"
   },
   {
    "duration": 10,
    "start_time": "2022-07-26T16:18:14.452Z"
   },
   {
    "duration": 10,
    "start_time": "2022-07-26T16:18:14.629Z"
   },
   {
    "duration": 186,
    "start_time": "2022-07-26T16:18:16.210Z"
   },
   {
    "duration": 200,
    "start_time": "2022-07-26T16:18:17.579Z"
   },
   {
    "duration": 322,
    "start_time": "2022-07-26T16:18:29.835Z"
   },
   {
    "duration": 415,
    "start_time": "2022-07-26T16:18:47.356Z"
   },
   {
    "duration": 13,
    "start_time": "2022-07-26T16:20:06.460Z"
   },
   {
    "duration": 7,
    "start_time": "2022-07-26T16:20:07.405Z"
   },
   {
    "duration": 14,
    "start_time": "2022-07-26T16:20:08.130Z"
   },
   {
    "duration": 333,
    "start_time": "2022-07-26T16:20:11.949Z"
   },
   {
    "duration": 67643,
    "start_time": "2022-07-26T16:20:15.099Z"
   },
   {
    "duration": 14,
    "start_time": "2022-07-26T16:22:00.835Z"
   },
   {
    "duration": 3,
    "start_time": "2022-07-26T16:22:06.092Z"
   },
   {
    "duration": 47,
    "start_time": "2022-07-26T16:22:06.476Z"
   },
   {
    "duration": 9,
    "start_time": "2022-07-26T16:22:06.781Z"
   },
   {
    "duration": 11,
    "start_time": "2022-07-26T16:22:07.147Z"
   },
   {
    "duration": 10,
    "start_time": "2022-07-26T16:22:07.467Z"
   },
   {
    "duration": 395,
    "start_time": "2022-07-26T16:22:09.300Z"
   },
   {
    "duration": 804,
    "start_time": "2022-07-26T16:22:09.702Z"
   },
   {
    "duration": 4,
    "start_time": "2022-07-26T16:22:13.092Z"
   },
   {
    "duration": 17,
    "start_time": "2022-07-26T16:22:13.859Z"
   },
   {
    "duration": 6,
    "start_time": "2022-07-26T16:22:15.387Z"
   },
   {
    "duration": 150,
    "start_time": "2022-07-26T16:22:16.052Z"
   },
   {
    "duration": 513,
    "start_time": "2022-07-26T16:22:19.548Z"
   },
   {
    "duration": 6,
    "start_time": "2022-07-26T16:22:34.077Z"
   },
   {
    "duration": 82,
    "start_time": "2022-07-26T16:22:34.622Z"
   },
   {
    "duration": 563,
    "start_time": "2022-07-26T16:22:36.612Z"
   },
   {
    "duration": 106223,
    "start_time": "2022-07-26T16:22:40.581Z"
   },
   {
    "duration": 84,
    "start_time": "2022-07-26T16:24:53.421Z"
   },
   {
    "duration": 12,
    "start_time": "2022-07-26T16:25:02.449Z"
   },
   {
    "duration": 512,
    "start_time": "2022-07-26T16:25:21.424Z"
   },
   {
    "duration": 504,
    "start_time": "2022-07-26T16:25:32.750Z"
   },
   {
    "duration": 10,
    "start_time": "2022-07-26T16:26:23.303Z"
   },
   {
    "duration": 535,
    "start_time": "2022-07-26T16:27:30.348Z"
   },
   {
    "duration": 93,
    "start_time": "2022-07-26T16:27:56.310Z"
   },
   {
    "duration": 521,
    "start_time": "2022-07-26T16:28:10.662Z"
   },
   {
    "duration": 531,
    "start_time": "2022-07-26T16:28:28.199Z"
   },
   {
    "duration": 93,
    "start_time": "2022-07-26T16:29:22.510Z"
   },
   {
    "duration": 103684,
    "start_time": "2022-07-26T16:29:46.079Z"
   },
   {
    "duration": 9,
    "start_time": "2022-07-26T16:32:46.960Z"
   },
   {
    "duration": 500,
    "start_time": "2022-07-26T16:33:26.149Z"
   },
   {
    "duration": 506,
    "start_time": "2022-07-26T16:33:32.514Z"
   },
   {
    "duration": 103276,
    "start_time": "2022-07-26T16:34:06.433Z"
   },
   {
    "duration": 13730,
    "start_time": "2022-07-26T16:37:11.487Z"
   },
   {
    "duration": 0,
    "start_time": "2022-07-26T16:37:25.218Z"
   },
   {
    "duration": 0,
    "start_time": "2022-07-26T16:37:25.302Z"
   },
   {
    "duration": 3,
    "start_time": "2022-07-26T16:39:53.437Z"
   },
   {
    "duration": 48,
    "start_time": "2022-07-26T16:39:53.768Z"
   },
   {
    "duration": 9,
    "start_time": "2022-07-26T16:39:54.203Z"
   },
   {
    "duration": 10,
    "start_time": "2022-07-26T16:39:55.478Z"
   },
   {
    "duration": 9,
    "start_time": "2022-07-26T16:39:55.756Z"
   },
   {
    "duration": 436,
    "start_time": "2022-07-26T16:39:57.332Z"
   },
   {
    "duration": 983,
    "start_time": "2022-07-26T16:39:57.771Z"
   },
   {
    "duration": 4,
    "start_time": "2022-07-26T16:40:00.651Z"
   },
   {
    "duration": 18,
    "start_time": "2022-07-26T16:40:02.831Z"
   },
   {
    "duration": 6,
    "start_time": "2022-07-26T16:40:03.603Z"
   },
   {
    "duration": 10,
    "start_time": "2022-07-26T16:40:10.910Z"
   },
   {
    "duration": 20,
    "start_time": "2022-07-26T16:40:12.684Z"
   },
   {
    "duration": 3,
    "start_time": "2022-07-26T16:40:25.611Z"
   },
   {
    "duration": 46,
    "start_time": "2022-07-26T16:40:25.756Z"
   },
   {
    "duration": 11,
    "start_time": "2022-07-26T16:40:25.897Z"
   },
   {
    "duration": 11,
    "start_time": "2022-07-26T16:40:26.034Z"
   },
   {
    "duration": 10,
    "start_time": "2022-07-26T16:40:26.203Z"
   },
   {
    "duration": 402,
    "start_time": "2022-07-26T16:40:26.482Z"
   },
   {
    "duration": 821,
    "start_time": "2022-07-26T16:40:26.885Z"
   },
   {
    "duration": 3,
    "start_time": "2022-07-26T16:40:27.709Z"
   },
   {
    "duration": 2,
    "start_time": "2022-07-26T16:40:30.194Z"
   },
   {
    "duration": 2,
    "start_time": "2022-07-26T16:40:30.499Z"
   },
   {
    "duration": 9,
    "start_time": "2022-07-26T16:40:31.747Z"
   },
   {
    "duration": 26,
    "start_time": "2022-07-26T16:40:35.173Z"
   },
   {
    "duration": 4,
    "start_time": "2022-07-26T16:42:24.587Z"
   },
   {
    "duration": 16,
    "start_time": "2022-07-26T16:42:30.068Z"
   },
   {
    "duration": 6,
    "start_time": "2022-07-26T16:42:32.260Z"
   },
   {
    "duration": 3,
    "start_time": "2022-07-26T16:42:38.153Z"
   },
   {
    "duration": 12,
    "start_time": "2022-07-26T16:42:38.434Z"
   },
   {
    "duration": 7,
    "start_time": "2022-07-26T16:42:38.691Z"
   },
   {
    "duration": 3,
    "start_time": "2022-07-26T16:42:50.838Z"
   },
   {
    "duration": 47,
    "start_time": "2022-07-26T16:42:50.996Z"
   },
   {
    "duration": 9,
    "start_time": "2022-07-26T16:42:51.155Z"
   },
   {
    "duration": 10,
    "start_time": "2022-07-26T16:42:51.299Z"
   },
   {
    "duration": 11,
    "start_time": "2022-07-26T16:42:51.436Z"
   },
   {
    "duration": 382,
    "start_time": "2022-07-26T16:42:52.835Z"
   },
   {
    "duration": 768,
    "start_time": "2022-07-26T16:42:53.218Z"
   },
   {
    "duration": 3,
    "start_time": "2022-07-26T16:42:55.468Z"
   },
   {
    "duration": 18,
    "start_time": "2022-07-26T16:42:57.171Z"
   },
   {
    "duration": 6,
    "start_time": "2022-07-26T16:42:58.179Z"
   },
   {
    "duration": 10,
    "start_time": "2022-07-26T16:42:59.252Z"
   },
   {
    "duration": 539,
    "start_time": "2022-07-26T16:43:05.036Z"
   },
   {
    "duration": 103096,
    "start_time": "2022-07-26T16:43:34.837Z"
   },
   {
    "duration": 11,
    "start_time": "2022-07-26T16:54:07.873Z"
   },
   {
    "duration": 12,
    "start_time": "2022-07-26T16:54:08.912Z"
   },
   {
    "duration": 4545,
    "start_time": "2022-07-26T16:55:09.657Z"
   },
   {
    "duration": 10,
    "start_time": "2022-07-26T16:56:18.811Z"
   },
   {
    "duration": 18,
    "start_time": "2022-07-26T16:56:24.886Z"
   },
   {
    "duration": 3,
    "start_time": "2022-07-26T16:59:50.027Z"
   },
   {
    "duration": 54,
    "start_time": "2022-07-26T16:59:50.281Z"
   },
   {
    "duration": 10,
    "start_time": "2022-07-26T16:59:50.531Z"
   },
   {
    "duration": 11,
    "start_time": "2022-07-26T16:59:50.850Z"
   },
   {
    "duration": 11,
    "start_time": "2022-07-26T16:59:51.011Z"
   },
   {
    "duration": 429,
    "start_time": "2022-07-26T16:59:51.318Z"
   },
   {
    "duration": 806,
    "start_time": "2022-07-26T16:59:52.825Z"
   },
   {
    "duration": 3,
    "start_time": "2022-07-26T16:59:54.978Z"
   },
   {
    "duration": 2,
    "start_time": "2022-07-26T16:59:56.554Z"
   },
   {
    "duration": 2,
    "start_time": "2022-07-26T16:59:56.739Z"
   },
   {
    "duration": 20,
    "start_time": "2022-07-26T16:59:58.743Z"
   },
   {
    "duration": 21,
    "start_time": "2022-07-26T17:01:08.947Z"
   },
   {
    "duration": 28,
    "start_time": "2022-07-26T17:01:21.424Z"
   },
   {
    "duration": 27,
    "start_time": "2022-07-26T17:01:32.964Z"
   },
   {
    "duration": 45796,
    "start_time": "2022-07-26T17:03:25.410Z"
   },
   {
    "duration": 64707,
    "start_time": "2022-07-26T17:04:24.599Z"
   },
   {
    "duration": 76638,
    "start_time": "2022-07-26T17:05:52.766Z"
   },
   {
    "duration": 73567,
    "start_time": "2022-07-26T17:07:51.141Z"
   },
   {
    "duration": 77,
    "start_time": "2022-07-26T17:09:10.207Z"
   },
   {
    "duration": 307418,
    "start_time": "2022-07-26T17:09:19.638Z"
   },
   {
    "duration": 283,
    "start_time": "2022-07-26T17:16:27.969Z"
   },
   {
    "duration": 2857405,
    "start_time": "2022-07-26T17:16:45.612Z"
   },
   {
    "duration": 40694709,
    "start_time": "2022-07-26T18:04:51.229Z"
   },
   {
    "duration": 3028,
    "start_time": "2022-07-27T05:23:09.913Z"
   },
   {
    "duration": 2,
    "start_time": "2022-07-27T05:23:21.976Z"
   },
   {
    "duration": 2464,
    "start_time": "2022-07-27T05:25:28.031Z"
   },
   {
    "duration": 2750,
    "start_time": "2022-07-27T05:25:47.534Z"
   },
   {
    "duration": 2500,
    "start_time": "2022-07-27T05:26:25.137Z"
   },
   {
    "duration": 372,
    "start_time": "2022-07-27T05:30:40.150Z"
   },
   {
    "duration": 55,
    "start_time": "2022-07-28T04:54:32.568Z"
   },
   {
    "duration": 1649,
    "start_time": "2022-07-28T04:54:41.498Z"
   },
   {
    "duration": 3,
    "start_time": "2022-07-28T04:54:43.295Z"
   },
   {
    "duration": 115,
    "start_time": "2022-07-28T04:54:44.127Z"
   },
   {
    "duration": 15,
    "start_time": "2022-07-28T04:54:44.487Z"
   },
   {
    "duration": 15,
    "start_time": "2022-07-28T04:54:44.782Z"
   },
   {
    "duration": 9,
    "start_time": "2022-07-28T04:54:44.953Z"
   },
   {
    "duration": 426,
    "start_time": "2022-07-28T04:54:45.458Z"
   },
   {
    "duration": 954,
    "start_time": "2022-07-28T04:54:45.887Z"
   },
   {
    "duration": 786,
    "start_time": "2022-07-28T04:54:59.989Z"
   },
   {
    "duration": 5,
    "start_time": "2022-07-28T06:18:15.366Z"
   },
   {
    "duration": 151,
    "start_time": "2022-07-28T06:18:19.246Z"
   },
   {
    "duration": 70177,
    "start_time": "2022-07-28T06:19:27.820Z"
   },
   {
    "duration": 29,
    "start_time": "2022-07-28T07:48:16.718Z"
   },
   {
    "duration": 27,
    "start_time": "2022-07-28T07:48:36.109Z"
   },
   {
    "duration": 38,
    "start_time": "2022-07-28T07:48:55.492Z"
   },
   {
    "duration": 10,
    "start_time": "2022-07-28T07:50:57.512Z"
   },
   {
    "duration": 16,
    "start_time": "2022-07-28T07:51:05.696Z"
   },
   {
    "duration": 3,
    "start_time": "2022-07-28T07:51:12.727Z"
   },
   {
    "duration": 9,
    "start_time": "2022-07-28T07:57:29.370Z"
   },
   {
    "duration": 3,
    "start_time": "2022-07-28T07:57:37.355Z"
   },
   {
    "duration": 3,
    "start_time": "2022-07-28T07:59:31.089Z"
   },
   {
    "duration": 4,
    "start_time": "2022-07-28T07:59:37.310Z"
   },
   {
    "duration": 3,
    "start_time": "2022-07-28T07:59:42.717Z"
   },
   {
    "duration": 3,
    "start_time": "2022-07-28T07:59:53.235Z"
   },
   {
    "duration": 4,
    "start_time": "2022-07-28T08:03:22.238Z"
   },
   {
    "duration": 10,
    "start_time": "2022-07-28T08:03:29.572Z"
   },
   {
    "duration": 9,
    "start_time": "2022-07-28T08:03:36.293Z"
   },
   {
    "duration": 29,
    "start_time": "2022-07-28T08:03:59.193Z"
   },
   {
    "duration": 3,
    "start_time": "2022-07-28T08:11:55.677Z"
   },
   {
    "duration": 9,
    "start_time": "2022-07-28T09:17:34.920Z"
   },
   {
    "duration": 3,
    "start_time": "2022-07-28T09:18:05.566Z"
   },
   {
    "duration": 40,
    "start_time": "2022-07-28T09:25:47.658Z"
   },
   {
    "duration": 33,
    "start_time": "2022-07-28T09:27:03.136Z"
   },
   {
    "duration": 31,
    "start_time": "2022-07-28T09:28:36.467Z"
   },
   {
    "duration": 30,
    "start_time": "2022-07-28T09:28:55.499Z"
   },
   {
    "duration": 4,
    "start_time": "2022-07-28T09:29:00.411Z"
   },
   {
    "duration": 10,
    "start_time": "2022-07-28T09:30:12.969Z"
   },
   {
    "duration": 29,
    "start_time": "2022-07-28T09:30:20.410Z"
   },
   {
    "duration": 15,
    "start_time": "2022-07-28T09:30:23.962Z"
   },
   {
    "duration": 8,
    "start_time": "2022-07-28T09:30:41.986Z"
   },
   {
    "duration": 32,
    "start_time": "2022-07-28T09:31:15.683Z"
   },
   {
    "duration": 4,
    "start_time": "2022-07-28T09:31:18.094Z"
   },
   {
    "duration": 67,
    "start_time": "2022-07-28T09:32:17.444Z"
   },
   {
    "duration": 28,
    "start_time": "2022-07-28T09:32:29.250Z"
   },
   {
    "duration": 5,
    "start_time": "2022-07-28T09:32:30.808Z"
   },
   {
    "duration": 3,
    "start_time": "2022-07-28T09:35:30.969Z"
   },
   {
    "duration": 2,
    "start_time": "2022-07-28T09:35:57.851Z"
   },
   {
    "duration": 26,
    "start_time": "2022-07-28T09:36:09.324Z"
   },
   {
    "duration": 4,
    "start_time": "2022-07-28T09:36:12.074Z"
   },
   {
    "duration": 9,
    "start_time": "2022-07-28T09:37:37.505Z"
   },
   {
    "duration": 9,
    "start_time": "2022-07-28T09:37:40.130Z"
   },
   {
    "duration": 9,
    "start_time": "2022-07-28T09:37:48.378Z"
   },
   {
    "duration": 4,
    "start_time": "2022-07-28T09:37:52.811Z"
   },
   {
    "duration": 4,
    "start_time": "2022-07-28T09:38:02.286Z"
   },
   {
    "duration": 4,
    "start_time": "2022-07-28T09:38:06.411Z"
   },
   {
    "duration": 4,
    "start_time": "2022-07-28T09:38:10.556Z"
   },
   {
    "duration": 5,
    "start_time": "2022-07-28T09:38:24.322Z"
   },
   {
    "duration": 3,
    "start_time": "2022-07-28T09:38:49.875Z"
   },
   {
    "duration": 4,
    "start_time": "2022-07-28T09:39:07.607Z"
   },
   {
    "duration": 36,
    "start_time": "2022-07-28T09:39:29.789Z"
   },
   {
    "duration": 23,
    "start_time": "2022-07-28T09:42:42.593Z"
   },
   {
    "duration": 31,
    "start_time": "2022-07-28T09:43:41.248Z"
   },
   {
    "duration": 7,
    "start_time": "2022-07-28T09:43:44.601Z"
   },
   {
    "duration": 2,
    "start_time": "2022-07-28T09:44:09.154Z"
   },
   {
    "duration": 2,
    "start_time": "2022-07-28T09:44:14.762Z"
   },
   {
    "duration": 25,
    "start_time": "2022-07-28T09:44:17.178Z"
   },
   {
    "duration": 17,
    "start_time": "2022-07-28T09:44:35.819Z"
   },
   {
    "duration": 27,
    "start_time": "2022-07-28T09:44:53.738Z"
   },
   {
    "duration": 17,
    "start_time": "2022-07-28T09:45:27.218Z"
   },
   {
    "duration": 24,
    "start_time": "2022-07-28T09:45:34.451Z"
   },
   {
    "duration": 5,
    "start_time": "2022-07-28T09:45:59.395Z"
   },
   {
    "duration": 18,
    "start_time": "2022-07-28T09:46:03.386Z"
   },
   {
    "duration": 25,
    "start_time": "2022-07-28T09:46:35.814Z"
   },
   {
    "duration": 28,
    "start_time": "2022-07-28T09:46:42.931Z"
   },
   {
    "duration": 19,
    "start_time": "2022-07-28T09:46:59.069Z"
   },
   {
    "duration": 2,
    "start_time": "2022-07-28T09:47:18.444Z"
   },
   {
    "duration": 21,
    "start_time": "2022-07-28T09:47:20.896Z"
   },
   {
    "duration": 2,
    "start_time": "2022-07-28T09:47:25.821Z"
   },
   {
    "duration": 17,
    "start_time": "2022-07-28T09:47:26.100Z"
   },
   {
    "duration": 18,
    "start_time": "2022-07-28T09:55:37.645Z"
   },
   {
    "duration": 15,
    "start_time": "2022-07-28T09:55:43.341Z"
   },
   {
    "duration": 31,
    "start_time": "2022-07-28T09:56:06.158Z"
   },
   {
    "duration": 35,
    "start_time": "2022-07-28T09:56:26.388Z"
   },
   {
    "duration": 581,
    "start_time": "2022-07-28T09:56:27.916Z"
   },
   {
    "duration": 27,
    "start_time": "2022-07-28T09:56:31.696Z"
   },
   {
    "duration": 5,
    "start_time": "2022-07-28T10:00:32.305Z"
   },
   {
    "duration": 183461,
    "start_time": "2022-07-28T10:00:44.237Z"
   },
   {
    "duration": 32,
    "start_time": "2022-07-28T10:09:18.982Z"
   },
   {
    "duration": 33,
    "start_time": "2022-07-28T10:09:29.037Z"
   },
   {
    "duration": 4,
    "start_time": "2022-07-28T10:10:09.805Z"
   },
   {
    "duration": 4,
    "start_time": "2022-07-28T10:10:20.684Z"
   },
   {
    "duration": 2,
    "start_time": "2022-07-28T10:10:31.013Z"
   },
   {
    "duration": 83,
    "start_time": "2022-07-28T10:10:31.516Z"
   },
   {
    "duration": 4,
    "start_time": "2022-07-28T10:32:37.635Z"
   },
   {
    "duration": 1523,
    "start_time": "2022-07-28T10:33:00.893Z"
   },
   {
    "duration": 59,
    "start_time": "2022-07-28T10:33:04.778Z"
   },
   {
    "duration": 10,
    "start_time": "2022-07-28T10:33:05.195Z"
   },
   {
    "duration": 17,
    "start_time": "2022-07-28T10:33:05.362Z"
   },
   {
    "duration": 10,
    "start_time": "2022-07-28T10:33:05.497Z"
   },
   {
    "duration": 445,
    "start_time": "2022-07-28T10:33:05.986Z"
   },
   {
    "duration": 904,
    "start_time": "2022-07-28T10:33:06.433Z"
   },
   {
    "duration": 3,
    "start_time": "2022-07-28T10:33:08.828Z"
   },
   {
    "duration": 4,
    "start_time": "2022-07-28T10:33:09.795Z"
   },
   {
    "duration": 3,
    "start_time": "2022-07-28T10:33:16.570Z"
   },
   {
    "duration": 51984,
    "start_time": "2022-07-28T10:33:26.331Z"
   },
   {
    "duration": 181141,
    "start_time": "2022-07-28T10:34:36.462Z"
   },
   {
    "duration": 4,
    "start_time": "2022-07-28T10:37:41.858Z"
   },
   {
    "duration": 36,
    "start_time": "2022-07-28T10:37:43.706Z"
   },
   {
    "duration": 46,
    "start_time": "2022-07-28T10:39:00.700Z"
   },
   {
    "duration": 176755,
    "start_time": "2022-07-28T10:39:14.443Z"
   },
   {
    "duration": 95,
    "start_time": "2022-07-28T10:42:11.204Z"
   },
   {
    "duration": 30,
    "start_time": "2022-07-28T10:42:55.137Z"
   },
   {
    "duration": 1613,
    "start_time": "2022-07-28T10:45:33.565Z"
   },
   {
    "duration": 22,
    "start_time": "2022-07-28T10:46:00.137Z"
   },
   {
    "duration": 8398,
    "start_time": "2022-07-28T10:48:27.466Z"
   },
   {
    "duration": 8225,
    "start_time": "2022-07-28T10:49:09.281Z"
   },
   {
    "duration": 18,
    "start_time": "2022-07-28T10:49:31.633Z"
   },
   {
    "duration": 8268,
    "start_time": "2022-07-28T10:49:42.330Z"
   },
   {
    "duration": 20,
    "start_time": "2022-07-28T10:49:52.978Z"
   },
   {
    "duration": 21,
    "start_time": "2022-07-28T10:53:08.700Z"
   },
   {
    "duration": 8195,
    "start_time": "2022-07-28T10:53:10.387Z"
   },
   {
    "duration": 4,
    "start_time": "2022-07-28T10:53:19.952Z"
   },
   {
    "duration": 4,
    "start_time": "2022-07-28T10:53:24.650Z"
   },
   {
    "duration": 4,
    "start_time": "2022-07-28T10:53:35.473Z"
   },
   {
    "duration": 466933,
    "start_time": "2022-07-28T10:54:15.930Z"
   },
   {
    "duration": 17,
    "start_time": "2022-07-28T11:02:02.865Z"
   },
   {
    "duration": 46,
    "start_time": "2022-07-28T11:02:02.885Z"
   },
   {
    "duration": 18,
    "start_time": "2022-07-28T11:02:27.883Z"
   },
   {
    "duration": 187222,
    "start_time": "2022-07-28T11:04:35.680Z"
   },
   {
    "duration": 212,
    "start_time": "2022-07-28T11:07:42.905Z"
   },
   {
    "duration": 87,
    "start_time": "2022-07-28T11:07:43.119Z"
   },
   {
    "duration": 30,
    "start_time": "2022-07-28T11:10:50.958Z"
   },
   {
    "duration": 3,
    "start_time": "2022-07-28T11:11:26.662Z"
   },
   {
    "duration": 0,
    "start_time": "2022-07-28T11:14:47.324Z"
   },
   {
    "duration": 472654,
    "start_time": "2022-07-28T11:14:50.598Z"
   },
   {
    "duration": 23,
    "start_time": "2022-07-28T11:23:01.520Z"
   },
   {
    "duration": 9148251,
    "start_time": "2022-07-28T11:23:10.039Z"
   },
   {
    "duration": 27,
    "start_time": "2022-07-28T13:58:37.300Z"
   },
   {
    "duration": 49,
    "start_time": "2022-07-28T13:59:03.448Z"
   },
   {
    "duration": 4,
    "start_time": "2022-07-28T13:59:40.623Z"
   },
   {
    "duration": 4,
    "start_time": "2022-07-28T13:59:52.463Z"
   },
   {
    "duration": 4,
    "start_time": "2022-07-28T13:59:59.282Z"
   }
  ],
  "kernelspec": {
   "display_name": "Python 3 (ipykernel)",
   "language": "python",
   "name": "python3"
  },
  "language_info": {
   "codemirror_mode": {
    "name": "ipython",
    "version": 3
   },
   "file_extension": ".py",
   "mimetype": "text/x-python",
   "name": "python",
   "nbconvert_exporter": "python",
   "pygments_lexer": "ipython3",
   "version": "3.9.7"
  },
  "toc": {
   "base_numbering": 1,
   "nav_menu": {},
   "number_sections": true,
   "sideBar": true,
   "skip_h1_title": true,
   "title_cell": "Содержание",
   "title_sidebar": "Contents",
   "toc_cell": true,
   "toc_position": {},
   "toc_section_display": true,
   "toc_window_display": false
  }
 },
 "nbformat": 4,
 "nbformat_minor": 2
}
