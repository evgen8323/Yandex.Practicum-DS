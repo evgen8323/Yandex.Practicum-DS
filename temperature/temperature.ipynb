{
 "cells": [
  {
   "cell_type": "markdown",
   "id": "412097ab",
   "metadata": {},
   "source": [
    "# Проект \"Промышленность\""
   ]
  },
  {
   "cell_type": "markdown",
   "id": "21b83afd",
   "metadata": {},
   "source": [
    "## Введение"
   ]
  },
  {
   "cell_type": "markdown",
   "id": "e3cad523",
   "metadata": {},
   "source": [
    "Основываясь на данных заказчика требуется создать модель, предсказывающую температуру сплава стали в результате одного из этпаов ее обработки."
   ]
  },
  {
   "cell_type": "markdown",
   "id": "9a5b7735",
   "metadata": {},
   "source": [
    "Описание технологического процесса:\n",
    "- прогрев сырьевой стали графитовыми электродами (таблица acr с указанием затраченной мощности и затраченного времени)\n",
    "- продвув сплава инертным газом (таблица gas с указанием затраченного объема газа)\n",
    "- легирование стали сыпучими материалами и/или проволокой (таблицы wire и bulk с указанием типа конкретной добаки и использованного объема, а также соответствующие таблицы с суффиксом time с указанием даты и времени внесения добаки)\n",
    "- число циклов различно для различных партий\n",
    "- добавление лигирующих добавок зависит от текущего химического состава стали. Пропорции и виды добавок зависят как раз от него. Этот процесс не обязательный, если сталь поступила с уже требуемым хим. составом."
   ]
  },
  {
   "cell_type": "markdown",
   "id": "0a58b3da",
   "metadata": {},
   "source": [
    "## Импорт библиотек. Загрузка данных."
   ]
  },
  {
   "cell_type": "code",
   "execution_count": 1,
   "id": "3d503c87",
   "metadata": {},
   "outputs": [],
   "source": [
    "import pandas as pd\n",
    "import matplotlib.pyplot as plt\n",
    "import seaborn as sns\n",
    "\n",
    "from sklearn.model_selection import train_test_split\n",
    "from sklearn.metrics import mean_absolute_error as mae\n",
    "from sklearn.model_selection import cross_validate\n",
    "\n",
    "from sklearn.preprocessing import StandardScaler\n",
    "from sklearn.preprocessing import MinMaxScaler\n",
    "from sklearn.model_selection import GridSearchCV\n",
    "\n",
    "from sklearn.dummy import DummyRegressor\n",
    "from sklearn.linear_model import LinearRegression\n",
    "from sklearn.ensemble import RandomForestRegressor\n",
    "from catboost import CatBoostRegressor\n",
    "\n",
    "from sklearn.inspection import permutation_importance\n",
    "\n",
    "RANDOM_STATE = 19092022"
   ]
  },
  {
   "cell_type": "code",
   "execution_count": 2,
   "id": "07ee9d44",
   "metadata": {},
   "outputs": [],
   "source": [
    "try:\n",
    "    arc = pd.read_csv('data_arc.csv')\n",
    "    bulk = pd.read_csv('data_bulk.csv')\n",
    "    bulk_time = pd.read_csv('data_bulk_time.csv')\n",
    "    gas = pd.read_csv('data_gas.csv')\n",
    "    temp = pd.read_csv('data_temp.csv')\n",
    "    wire = pd.read_csv('data_wire.csv')\n",
    "    wire_time = pd.read_csv('data_wire_time.csv')\n",
    "except:\n",
    "    arc = pd.read_csv('/datasets/final_steel/data_arc.csv')\n",
    "    bulk = pd.read_csv('/datasets/final_steel/data_bulk.csv')\n",
    "    bulk_time = pd.read_csv('/datasets/final_steel/data_bulk_time.csv')\n",
    "    gas = pd.read_csv('/datasets/final_steel/data_gas.csv')\n",
    "    temp = pd.read_csv('/datasets/final_steel/data_temp.csv')\n",
    "    wire = pd.read_csv('/datasets/final_steel/data_wire.csv')\n",
    "    wire_time = pd.read_csv('/datasets/final_steel/data_wire_time.csv')"
   ]
  },
  {
   "cell_type": "markdown",
   "id": "40e469f5",
   "metadata": {},
   "source": [
    "Для дальнейшего удобоства и единообразия изменим рускоязычные заголовки столбцов на англоязычные."
   ]
  },
  {
   "cell_type": "code",
   "execution_count": 3,
   "id": "891521cd",
   "metadata": {},
   "outputs": [],
   "source": [
    "arc.columns = ['key', 'start_of_heating', 'end_of_heating', 'active_power', 'reactive_power']\n",
    "bulk.columns = ['key', 'bulk_1', 'bulk_2', 'bulk_3', 'bulk_4', 'bulk_5', 'bulk_6',\n",
    "       'bulk_7', 'bulk_8', 'bulk_9', 'bulk_10', 'bulk_11', 'bulk_12',\n",
    "       'bulk_13', 'bulk_14', 'bulk_15']\n",
    "bulk_time.columns = ['key', 'bulk_1', 'bulk_2', 'bulk_3', 'bulk_4', 'bulk_5', 'bulk_6',\n",
    "       'bulk_7', 'bulk_8', 'bulk_9', 'bulk_10', 'bulk_11', 'bulk_12',\n",
    "       'bulk_13', 'bulk_14', 'bulk_15']\n",
    "wire.columns = ['key', 'wire_1', 'wire_2', 'wire_3', 'wire_4', 'wire_5', 'wire_6',\n",
    "       'wire_7', 'wire_8', 'wire_9']\n",
    "wire_time.columns = ['key', 'wire_1', 'wire_2', 'wire_3', 'wire_4', 'wire_5', 'wire_6',\n",
    "       'wire_7', 'wire_8', 'wire_9']\n",
    "gas.columns = ['key', 'gas_1']\n",
    "temp.columns = ['key', 'measurement_time', 'temperature']"
   ]
  },
  {
   "cell_type": "markdown",
   "id": "b258dda4",
   "metadata": {},
   "source": [
    "## Обзор данных"
   ]
  },
  {
   "cell_type": "markdown",
   "id": "fd5b1579",
   "metadata": {},
   "source": [
    "### data_arc"
   ]
  },
  {
   "cell_type": "code",
   "execution_count": 4,
   "id": "6631a0d4",
   "metadata": {},
   "outputs": [
    {
     "data": {
      "text/html": [
       "<div>\n",
       "<style scoped>\n",
       "    .dataframe tbody tr th:only-of-type {\n",
       "        vertical-align: middle;\n",
       "    }\n",
       "\n",
       "    .dataframe tbody tr th {\n",
       "        vertical-align: top;\n",
       "    }\n",
       "\n",
       "    .dataframe thead th {\n",
       "        text-align: right;\n",
       "    }\n",
       "</style>\n",
       "<table border=\"1\" class=\"dataframe\">\n",
       "  <thead>\n",
       "    <tr style=\"text-align: right;\">\n",
       "      <th></th>\n",
       "      <th>key</th>\n",
       "      <th>start_of_heating</th>\n",
       "      <th>end_of_heating</th>\n",
       "      <th>active_power</th>\n",
       "      <th>reactive_power</th>\n",
       "    </tr>\n",
       "  </thead>\n",
       "  <tbody>\n",
       "    <tr>\n",
       "      <th>0</th>\n",
       "      <td>1</td>\n",
       "      <td>2019-05-03 11:02:14</td>\n",
       "      <td>2019-05-03 11:06:02</td>\n",
       "      <td>0.976059</td>\n",
       "      <td>0.687084</td>\n",
       "    </tr>\n",
       "    <tr>\n",
       "      <th>1</th>\n",
       "      <td>1</td>\n",
       "      <td>2019-05-03 11:07:28</td>\n",
       "      <td>2019-05-03 11:10:33</td>\n",
       "      <td>0.805607</td>\n",
       "      <td>0.520285</td>\n",
       "    </tr>\n",
       "    <tr>\n",
       "      <th>2</th>\n",
       "      <td>1</td>\n",
       "      <td>2019-05-03 11:11:44</td>\n",
       "      <td>2019-05-03 11:14:36</td>\n",
       "      <td>0.744363</td>\n",
       "      <td>0.498805</td>\n",
       "    </tr>\n",
       "    <tr>\n",
       "      <th>3</th>\n",
       "      <td>1</td>\n",
       "      <td>2019-05-03 11:18:14</td>\n",
       "      <td>2019-05-03 11:24:19</td>\n",
       "      <td>1.659363</td>\n",
       "      <td>1.062669</td>\n",
       "    </tr>\n",
       "    <tr>\n",
       "      <th>4</th>\n",
       "      <td>1</td>\n",
       "      <td>2019-05-03 11:26:09</td>\n",
       "      <td>2019-05-03 11:28:37</td>\n",
       "      <td>0.692755</td>\n",
       "      <td>0.414397</td>\n",
       "    </tr>\n",
       "  </tbody>\n",
       "</table>\n",
       "</div>"
      ],
      "text/plain": [
       "   key     start_of_heating       end_of_heating  active_power  reactive_power\n",
       "0    1  2019-05-03 11:02:14  2019-05-03 11:06:02      0.976059        0.687084\n",
       "1    1  2019-05-03 11:07:28  2019-05-03 11:10:33      0.805607        0.520285\n",
       "2    1  2019-05-03 11:11:44  2019-05-03 11:14:36      0.744363        0.498805\n",
       "3    1  2019-05-03 11:18:14  2019-05-03 11:24:19      1.659363        1.062669\n",
       "4    1  2019-05-03 11:26:09  2019-05-03 11:28:37      0.692755        0.414397"
      ]
     },
     "execution_count": 4,
     "metadata": {},
     "output_type": "execute_result"
    }
   ],
   "source": [
    "arc.head()"
   ]
  },
  {
   "cell_type": "code",
   "execution_count": 5,
   "id": "aba83535",
   "metadata": {},
   "outputs": [
    {
     "name": "stdout",
     "output_type": "stream",
     "text": [
      "<class 'pandas.core.frame.DataFrame'>\n",
      "RangeIndex: 14876 entries, 0 to 14875\n",
      "Data columns (total 5 columns):\n",
      " #   Column            Non-Null Count  Dtype  \n",
      "---  ------            --------------  -----  \n",
      " 0   key               14876 non-null  int64  \n",
      " 1   start_of_heating  14876 non-null  object \n",
      " 2   end_of_heating    14876 non-null  object \n",
      " 3   active_power      14876 non-null  float64\n",
      " 4   reactive_power    14876 non-null  float64\n",
      "dtypes: float64(2), int64(1), object(2)\n",
      "memory usage: 581.2+ KB\n"
     ]
    }
   ],
   "source": [
    "arc.info()"
   ]
  },
  {
   "cell_type": "code",
   "execution_count": 6,
   "id": "5497ee3c",
   "metadata": {
    "scrolled": true
   },
   "outputs": [
    {
     "data": {
      "text/html": [
       "<div>\n",
       "<style scoped>\n",
       "    .dataframe tbody tr th:only-of-type {\n",
       "        vertical-align: middle;\n",
       "    }\n",
       "\n",
       "    .dataframe tbody tr th {\n",
       "        vertical-align: top;\n",
       "    }\n",
       "\n",
       "    .dataframe thead th {\n",
       "        text-align: right;\n",
       "    }\n",
       "</style>\n",
       "<table border=\"1\" class=\"dataframe\">\n",
       "  <thead>\n",
       "    <tr style=\"text-align: right;\">\n",
       "      <th></th>\n",
       "      <th>key</th>\n",
       "      <th>active_power</th>\n",
       "      <th>reactive_power</th>\n",
       "    </tr>\n",
       "  </thead>\n",
       "  <tbody>\n",
       "    <tr>\n",
       "      <th>count</th>\n",
       "      <td>14876.000000</td>\n",
       "      <td>14876.000000</td>\n",
       "      <td>14876.000000</td>\n",
       "    </tr>\n",
       "    <tr>\n",
       "      <th>mean</th>\n",
       "      <td>1615.220422</td>\n",
       "      <td>0.670441</td>\n",
       "      <td>0.452592</td>\n",
       "    </tr>\n",
       "    <tr>\n",
       "      <th>std</th>\n",
       "      <td>934.571502</td>\n",
       "      <td>0.408159</td>\n",
       "      <td>5.878702</td>\n",
       "    </tr>\n",
       "    <tr>\n",
       "      <th>min</th>\n",
       "      <td>1.000000</td>\n",
       "      <td>0.030002</td>\n",
       "      <td>-715.504924</td>\n",
       "    </tr>\n",
       "    <tr>\n",
       "      <th>25%</th>\n",
       "      <td>806.000000</td>\n",
       "      <td>0.395297</td>\n",
       "      <td>0.290991</td>\n",
       "    </tr>\n",
       "    <tr>\n",
       "      <th>50%</th>\n",
       "      <td>1617.000000</td>\n",
       "      <td>0.555517</td>\n",
       "      <td>0.415962</td>\n",
       "    </tr>\n",
       "    <tr>\n",
       "      <th>75%</th>\n",
       "      <td>2429.000000</td>\n",
       "      <td>0.857034</td>\n",
       "      <td>0.637371</td>\n",
       "    </tr>\n",
       "    <tr>\n",
       "      <th>max</th>\n",
       "      <td>3241.000000</td>\n",
       "      <td>3.731596</td>\n",
       "      <td>2.676388</td>\n",
       "    </tr>\n",
       "  </tbody>\n",
       "</table>\n",
       "</div>"
      ],
      "text/plain": [
       "                key  active_power  reactive_power\n",
       "count  14876.000000  14876.000000    14876.000000\n",
       "mean    1615.220422      0.670441        0.452592\n",
       "std      934.571502      0.408159        5.878702\n",
       "min        1.000000      0.030002     -715.504924\n",
       "25%      806.000000      0.395297        0.290991\n",
       "50%     1617.000000      0.555517        0.415962\n",
       "75%     2429.000000      0.857034        0.637371\n",
       "max     3241.000000      3.731596        2.676388"
      ]
     },
     "execution_count": 6,
     "metadata": {},
     "output_type": "execute_result"
    }
   ],
   "source": [
    "arc.describe()"
   ]
  },
  {
   "cell_type": "markdown",
   "id": "856d381b",
   "metadata": {},
   "source": [
    "Отрицательное значение потребленной реативной мощности говорит о выбросе."
   ]
  },
  {
   "cell_type": "code",
   "execution_count": 7,
   "id": "66079a4a",
   "metadata": {},
   "outputs": [
    {
     "data": {
      "text/html": [
       "<div>\n",
       "<style scoped>\n",
       "    .dataframe tbody tr th:only-of-type {\n",
       "        vertical-align: middle;\n",
       "    }\n",
       "\n",
       "    .dataframe tbody tr th {\n",
       "        vertical-align: top;\n",
       "    }\n",
       "\n",
       "    .dataframe thead th {\n",
       "        text-align: right;\n",
       "    }\n",
       "</style>\n",
       "<table border=\"1\" class=\"dataframe\">\n",
       "  <thead>\n",
       "    <tr style=\"text-align: right;\">\n",
       "      <th></th>\n",
       "      <th>key</th>\n",
       "      <th>start_of_heating</th>\n",
       "      <th>end_of_heating</th>\n",
       "      <th>active_power</th>\n",
       "      <th>reactive_power</th>\n",
       "    </tr>\n",
       "  </thead>\n",
       "  <tbody>\n",
       "    <tr>\n",
       "      <th>9780</th>\n",
       "      <td>2116</td>\n",
       "      <td>2019-07-24 00:44:48</td>\n",
       "      <td>2019-07-24 00:46:37</td>\n",
       "      <td>0.495782</td>\n",
       "      <td>-715.504924</td>\n",
       "    </tr>\n",
       "  </tbody>\n",
       "</table>\n",
       "</div>"
      ],
      "text/plain": [
       "       key     start_of_heating       end_of_heating  active_power  \\\n",
       "9780  2116  2019-07-24 00:44:48  2019-07-24 00:46:37      0.495782   \n",
       "\n",
       "      reactive_power  \n",
       "9780     -715.504924  "
      ]
     },
     "execution_count": 7,
     "metadata": {},
     "output_type": "execute_result"
    }
   ],
   "source": [
    "arc[arc['reactive_power'] < 0]"
   ]
  },
  {
   "cell_type": "code",
   "execution_count": 8,
   "id": "a27aee8f",
   "metadata": {},
   "outputs": [
    {
     "data": {
      "text/html": [
       "<div>\n",
       "<style scoped>\n",
       "    .dataframe tbody tr th:only-of-type {\n",
       "        vertical-align: middle;\n",
       "    }\n",
       "\n",
       "    .dataframe tbody tr th {\n",
       "        vertical-align: top;\n",
       "    }\n",
       "\n",
       "    .dataframe thead th {\n",
       "        text-align: right;\n",
       "    }\n",
       "</style>\n",
       "<table border=\"1\" class=\"dataframe\">\n",
       "  <thead>\n",
       "    <tr style=\"text-align: right;\">\n",
       "      <th></th>\n",
       "      <th>key</th>\n",
       "      <th>start_of_heating</th>\n",
       "      <th>end_of_heating</th>\n",
       "      <th>active_power</th>\n",
       "      <th>reactive_power</th>\n",
       "    </tr>\n",
       "  </thead>\n",
       "  <tbody>\n",
       "    <tr>\n",
       "      <th>9778</th>\n",
       "      <td>2116</td>\n",
       "      <td>2019-07-24 00:29:52</td>\n",
       "      <td>2019-07-24 00:31:54</td>\n",
       "      <td>0.433266</td>\n",
       "      <td>0.306141</td>\n",
       "    </tr>\n",
       "    <tr>\n",
       "      <th>9779</th>\n",
       "      <td>2116</td>\n",
       "      <td>2019-07-24 00:35:50</td>\n",
       "      <td>2019-07-24 00:38:05</td>\n",
       "      <td>0.620265</td>\n",
       "      <td>0.408352</td>\n",
       "    </tr>\n",
       "    <tr>\n",
       "      <th>9780</th>\n",
       "      <td>2116</td>\n",
       "      <td>2019-07-24 00:44:48</td>\n",
       "      <td>2019-07-24 00:46:37</td>\n",
       "      <td>0.495782</td>\n",
       "      <td>-715.504924</td>\n",
       "    </tr>\n",
       "    <tr>\n",
       "      <th>9781</th>\n",
       "      <td>2116</td>\n",
       "      <td>2019-07-24 00:51:51</td>\n",
       "      <td>2019-07-24 00:52:58</td>\n",
       "      <td>0.299368</td>\n",
       "      <td>0.198796</td>\n",
       "    </tr>\n",
       "  </tbody>\n",
       "</table>\n",
       "</div>"
      ],
      "text/plain": [
       "       key     start_of_heating       end_of_heating  active_power  \\\n",
       "9778  2116  2019-07-24 00:29:52  2019-07-24 00:31:54      0.433266   \n",
       "9779  2116  2019-07-24 00:35:50  2019-07-24 00:38:05      0.620265   \n",
       "9780  2116  2019-07-24 00:44:48  2019-07-24 00:46:37      0.495782   \n",
       "9781  2116  2019-07-24 00:51:51  2019-07-24 00:52:58      0.299368   \n",
       "\n",
       "      reactive_power  \n",
       "9778        0.306141  \n",
       "9779        0.408352  \n",
       "9780     -715.504924  \n",
       "9781        0.198796  "
      ]
     },
     "execution_count": 8,
     "metadata": {},
     "output_type": "execute_result"
    }
   ],
   "source": [
    "arc[arc['key'] == 2116]"
   ]
  },
  {
   "cell_type": "code",
   "execution_count": 9,
   "id": "ad402bec",
   "metadata": {},
   "outputs": [
    {
     "name": "stdout",
     "output_type": "stream",
     "text": [
      "Самая ранняя указанная дата: 2019-05-03 11:02:14\n",
      "Самая поздняя указанная дата: 2019-09-01 04:34:47\n"
     ]
    }
   ],
   "source": [
    "print('Самая ранняя указанная дата:', arc['start_of_heating'].min())\n",
    "print('Самая поздняя указанная дата:', arc['start_of_heating'].max())"
   ]
  },
  {
   "cell_type": "code",
   "execution_count": 10,
   "id": "15d661d8",
   "metadata": {},
   "outputs": [
    {
     "name": "stdout",
     "output_type": "stream",
     "text": [
      "Самая ранняя указанная дата: 2019-05-03 11:06:02\n",
      "Самая поздняя указанная дата: 2019-09-01 04:36:08\n"
     ]
    }
   ],
   "source": [
    "print('Самая ранняя указанная дата:', arc['end_of_heating'].min())\n",
    "print('Самая поздняя указанная дата:', arc['end_of_heating'].max())"
   ]
  },
  {
   "cell_type": "markdown",
   "id": "c3a02534",
   "metadata": {},
   "source": [
    "Все даты находятся в диапазоне между маем и сентябрем 2019"
   ]
  },
  {
   "cell_type": "code",
   "execution_count": 11,
   "id": "fa4b4fd0",
   "metadata": {
    "scrolled": true
   },
   "outputs": [
    {
     "data": {
      "text/plain": [
       "array([ True])"
      ]
     },
     "execution_count": 11,
     "metadata": {},
     "output_type": "execute_result"
    }
   ],
   "source": [
    "(arc['start_of_heating'] <= arc['end_of_heating']).unique()"
   ]
  },
  {
   "cell_type": "markdown",
   "id": "9ea5fecb",
   "metadata": {},
   "source": [
    "Даты начала и конца нагрева указаны корректно. Начало раньше окончания."
   ]
  },
  {
   "cell_type": "code",
   "execution_count": 12,
   "id": "e26ff8e3",
   "metadata": {},
   "outputs": [
    {
     "data": {
      "text/html": [
       "<div>\n",
       "<style scoped>\n",
       "    .dataframe tbody tr th:only-of-type {\n",
       "        vertical-align: middle;\n",
       "    }\n",
       "\n",
       "    .dataframe tbody tr th {\n",
       "        vertical-align: top;\n",
       "    }\n",
       "\n",
       "    .dataframe thead th {\n",
       "        text-align: right;\n",
       "    }\n",
       "</style>\n",
       "<table border=\"1\" class=\"dataframe\">\n",
       "  <thead>\n",
       "    <tr style=\"text-align: right;\">\n",
       "      <th></th>\n",
       "      <th>start_of_heating</th>\n",
       "      <th>end_of_heating</th>\n",
       "      <th>active_power</th>\n",
       "      <th>reactive_power</th>\n",
       "    </tr>\n",
       "  </thead>\n",
       "  <tbody>\n",
       "    <tr>\n",
       "      <th>count</th>\n",
       "      <td>3214.000000</td>\n",
       "      <td>3214.000000</td>\n",
       "      <td>3214.000000</td>\n",
       "      <td>3214.000000</td>\n",
       "    </tr>\n",
       "    <tr>\n",
       "      <th>mean</th>\n",
       "      <td>4.628500</td>\n",
       "      <td>4.628500</td>\n",
       "      <td>4.628500</td>\n",
       "      <td>4.628500</td>\n",
       "    </tr>\n",
       "    <tr>\n",
       "      <th>std</th>\n",
       "      <td>1.608647</td>\n",
       "      <td>1.608647</td>\n",
       "      <td>1.608647</td>\n",
       "      <td>1.608647</td>\n",
       "    </tr>\n",
       "    <tr>\n",
       "      <th>min</th>\n",
       "      <td>1.000000</td>\n",
       "      <td>1.000000</td>\n",
       "      <td>1.000000</td>\n",
       "      <td>1.000000</td>\n",
       "    </tr>\n",
       "    <tr>\n",
       "      <th>25%</th>\n",
       "      <td>4.000000</td>\n",
       "      <td>4.000000</td>\n",
       "      <td>4.000000</td>\n",
       "      <td>4.000000</td>\n",
       "    </tr>\n",
       "    <tr>\n",
       "      <th>50%</th>\n",
       "      <td>4.000000</td>\n",
       "      <td>4.000000</td>\n",
       "      <td>4.000000</td>\n",
       "      <td>4.000000</td>\n",
       "    </tr>\n",
       "    <tr>\n",
       "      <th>75%</th>\n",
       "      <td>6.000000</td>\n",
       "      <td>6.000000</td>\n",
       "      <td>6.000000</td>\n",
       "      <td>6.000000</td>\n",
       "    </tr>\n",
       "    <tr>\n",
       "      <th>max</th>\n",
       "      <td>16.000000</td>\n",
       "      <td>16.000000</td>\n",
       "      <td>16.000000</td>\n",
       "      <td>16.000000</td>\n",
       "    </tr>\n",
       "  </tbody>\n",
       "</table>\n",
       "</div>"
      ],
      "text/plain": [
       "       start_of_heating  end_of_heating  active_power  reactive_power\n",
       "count       3214.000000     3214.000000   3214.000000     3214.000000\n",
       "mean           4.628500        4.628500      4.628500        4.628500\n",
       "std            1.608647        1.608647      1.608647        1.608647\n",
       "min            1.000000        1.000000      1.000000        1.000000\n",
       "25%            4.000000        4.000000      4.000000        4.000000\n",
       "50%            4.000000        4.000000      4.000000        4.000000\n",
       "75%            6.000000        6.000000      6.000000        6.000000\n",
       "max           16.000000       16.000000     16.000000       16.000000"
      ]
     },
     "execution_count": 12,
     "metadata": {},
     "output_type": "execute_result"
    }
   ],
   "source": [
    "arc.groupby('key').count().describe()"
   ]
  },
  {
   "cell_type": "markdown",
   "id": "d18fbe85",
   "metadata": {},
   "source": [
    "Количество нагревов изменялось от партии к партии."
   ]
  },
  {
   "cell_type": "code",
   "execution_count": 13,
   "id": "47392a61",
   "metadata": {
    "scrolled": false
   },
   "outputs": [
    {
     "data": {
      "text/plain": [
       "<matplotlib.legend.Legend at 0x7f88ce3e5880>"
      ]
     },
     "execution_count": 13,
     "metadata": {},
     "output_type": "execute_result"
    },
    {
     "data": {
      "image/png": "[encoded data removed]",
      "text/plain": [
       "<Figure size 1152x432 with 1 Axes>"
      ]
     },
     "metadata": {
      "needs_background": "light"
     },
     "output_type": "display_data"
    }
   ],
   "source": [
    "plt.figure(figsize=(16, 6))\n",
    "plt.title('Распределение объемов затраченной мощности на нагрев в каждом из циклов')\n",
    "plt.xlabel('Значение мощности', fontsize=11)\n",
    "plt.ylabel('Количество нагревов на данном уровне мощности', fontsize=11)\n",
    "_1 = plt.hist(arc['active_power'], bins=100, label='Активная мощьность')\n",
    "_2 = plt.hist(arc[arc['reactive_power'] >= 0]['reactive_power'], bins=100, label='Реактивная мощность')\n",
    "plt.legend()"
   ]
  },
  {
   "cell_type": "code",
   "execution_count": 14,
   "id": "07874ccd",
   "metadata": {
    "scrolled": false
   },
   "outputs": [
    {
     "data": {
      "text/plain": [
       "<matplotlib.legend.Legend at 0x7f88ce0cbc10>"
      ]
     },
     "execution_count": 14,
     "metadata": {},
     "output_type": "execute_result"
    },
    {
     "data": {
      "image/png": "[encoded data removed]",
      "text/plain": [
       "<Figure size 1152x432 with 1 Axes>"
      ]
     },
     "metadata": {
      "needs_background": "light"
     },
     "output_type": "display_data"
    }
   ],
   "source": [
    "plt.figure(figsize=(16, 6))\n",
    "plt.title('Распределение суммарных объемов затраченной мощности по каждой из партий')\n",
    "plt.xlabel('Суммарная мощность', fontsize=11)\n",
    "plt.ylabel('Количество нагревов на данном уровне мощности', fontsize=11)\n",
    "_1 = plt.hist(arc.groupby('key').sum()['active_power'], bins=100, label='Активная мощьность')\n",
    "_2 = plt.hist(arc[arc['reactive_power'] >= 0].groupby('key').sum()['reactive_power'], \n",
    "              bins=100, label='Реактивная мощность')\n",
    "plt.legend()"
   ]
  },
  {
   "cell_type": "markdown",
   "id": "6d49c269",
   "metadata": {},
   "source": [
    "Не обнаружено других выбросов."
   ]
  },
  {
   "cell_type": "code",
   "execution_count": 15,
   "id": "7d0bff86",
   "metadata": {},
   "outputs": [
    {
     "data": {
      "text/plain": [
       "3214"
      ]
     },
     "execution_count": 15,
     "metadata": {},
     "output_type": "execute_result"
    }
   ],
   "source": [
    "len(arc['key'].unique())"
   ]
  },
  {
   "cell_type": "markdown",
   "id": "1fa01edf",
   "metadata": {},
   "source": [
    "Всего уникальных партий 3214."
   ]
  },
  {
   "cell_type": "markdown",
   "id": "dfb6d709",
   "metadata": {},
   "source": [
    "### data_bulk, data_bulk_time"
   ]
  },
  {
   "cell_type": "code",
   "execution_count": 16,
   "id": "0fa23f94",
   "metadata": {},
   "outputs": [
    {
     "data": {
      "text/html": [
       "<div>\n",
       "<style scoped>\n",
       "    .dataframe tbody tr th:only-of-type {\n",
       "        vertical-align: middle;\n",
       "    }\n",
       "\n",
       "    .dataframe tbody tr th {\n",
       "        vertical-align: top;\n",
       "    }\n",
       "\n",
       "    .dataframe thead th {\n",
       "        text-align: right;\n",
       "    }\n",
       "</style>\n",
       "<table border=\"1\" class=\"dataframe\">\n",
       "  <thead>\n",
       "    <tr style=\"text-align: right;\">\n",
       "      <th></th>\n",
       "      <th>key</th>\n",
       "      <th>bulk_1</th>\n",
       "      <th>bulk_2</th>\n",
       "      <th>bulk_3</th>\n",
       "      <th>bulk_4</th>\n",
       "      <th>bulk_5</th>\n",
       "      <th>bulk_6</th>\n",
       "      <th>bulk_7</th>\n",
       "      <th>bulk_8</th>\n",
       "      <th>bulk_9</th>\n",
       "      <th>bulk_10</th>\n",
       "      <th>bulk_11</th>\n",
       "      <th>bulk_12</th>\n",
       "      <th>bulk_13</th>\n",
       "      <th>bulk_14</th>\n",
       "      <th>bulk_15</th>\n",
       "    </tr>\n",
       "  </thead>\n",
       "  <tbody>\n",
       "    <tr>\n",
       "      <th>0</th>\n",
       "      <td>1</td>\n",
       "      <td>NaN</td>\n",
       "      <td>NaN</td>\n",
       "      <td>NaN</td>\n",
       "      <td>43.0</td>\n",
       "      <td>NaN</td>\n",
       "      <td>NaN</td>\n",
       "      <td>NaN</td>\n",
       "      <td>NaN</td>\n",
       "      <td>NaN</td>\n",
       "      <td>NaN</td>\n",
       "      <td>NaN</td>\n",
       "      <td>206.0</td>\n",
       "      <td>NaN</td>\n",
       "      <td>150.0</td>\n",
       "      <td>154.0</td>\n",
       "    </tr>\n",
       "    <tr>\n",
       "      <th>1</th>\n",
       "      <td>2</td>\n",
       "      <td>NaN</td>\n",
       "      <td>NaN</td>\n",
       "      <td>NaN</td>\n",
       "      <td>73.0</td>\n",
       "      <td>NaN</td>\n",
       "      <td>NaN</td>\n",
       "      <td>NaN</td>\n",
       "      <td>NaN</td>\n",
       "      <td>NaN</td>\n",
       "      <td>NaN</td>\n",
       "      <td>NaN</td>\n",
       "      <td>206.0</td>\n",
       "      <td>NaN</td>\n",
       "      <td>149.0</td>\n",
       "      <td>154.0</td>\n",
       "    </tr>\n",
       "    <tr>\n",
       "      <th>2</th>\n",
       "      <td>3</td>\n",
       "      <td>NaN</td>\n",
       "      <td>NaN</td>\n",
       "      <td>NaN</td>\n",
       "      <td>34.0</td>\n",
       "      <td>NaN</td>\n",
       "      <td>NaN</td>\n",
       "      <td>NaN</td>\n",
       "      <td>NaN</td>\n",
       "      <td>NaN</td>\n",
       "      <td>NaN</td>\n",
       "      <td>NaN</td>\n",
       "      <td>205.0</td>\n",
       "      <td>NaN</td>\n",
       "      <td>152.0</td>\n",
       "      <td>153.0</td>\n",
       "    </tr>\n",
       "    <tr>\n",
       "      <th>3</th>\n",
       "      <td>4</td>\n",
       "      <td>NaN</td>\n",
       "      <td>NaN</td>\n",
       "      <td>NaN</td>\n",
       "      <td>81.0</td>\n",
       "      <td>NaN</td>\n",
       "      <td>NaN</td>\n",
       "      <td>NaN</td>\n",
       "      <td>NaN</td>\n",
       "      <td>NaN</td>\n",
       "      <td>NaN</td>\n",
       "      <td>NaN</td>\n",
       "      <td>207.0</td>\n",
       "      <td>NaN</td>\n",
       "      <td>153.0</td>\n",
       "      <td>154.0</td>\n",
       "    </tr>\n",
       "    <tr>\n",
       "      <th>4</th>\n",
       "      <td>5</td>\n",
       "      <td>NaN</td>\n",
       "      <td>NaN</td>\n",
       "      <td>NaN</td>\n",
       "      <td>78.0</td>\n",
       "      <td>NaN</td>\n",
       "      <td>NaN</td>\n",
       "      <td>NaN</td>\n",
       "      <td>NaN</td>\n",
       "      <td>NaN</td>\n",
       "      <td>NaN</td>\n",
       "      <td>NaN</td>\n",
       "      <td>203.0</td>\n",
       "      <td>NaN</td>\n",
       "      <td>151.0</td>\n",
       "      <td>152.0</td>\n",
       "    </tr>\n",
       "  </tbody>\n",
       "</table>\n",
       "</div>"
      ],
      "text/plain": [
       "   key  bulk_1  bulk_2  bulk_3  bulk_4  bulk_5  bulk_6  bulk_7  bulk_8  \\\n",
       "0    1     NaN     NaN     NaN    43.0     NaN     NaN     NaN     NaN   \n",
       "1    2     NaN     NaN     NaN    73.0     NaN     NaN     NaN     NaN   \n",
       "2    3     NaN     NaN     NaN    34.0     NaN     NaN     NaN     NaN   \n",
       "3    4     NaN     NaN     NaN    81.0     NaN     NaN     NaN     NaN   \n",
       "4    5     NaN     NaN     NaN    78.0     NaN     NaN     NaN     NaN   \n",
       "\n",
       "   bulk_9  bulk_10  bulk_11  bulk_12  bulk_13  bulk_14  bulk_15  \n",
       "0     NaN      NaN      NaN    206.0      NaN    150.0    154.0  \n",
       "1     NaN      NaN      NaN    206.0      NaN    149.0    154.0  \n",
       "2     NaN      NaN      NaN    205.0      NaN    152.0    153.0  \n",
       "3     NaN      NaN      NaN    207.0      NaN    153.0    154.0  \n",
       "4     NaN      NaN      NaN    203.0      NaN    151.0    152.0  "
      ]
     },
     "execution_count": 16,
     "metadata": {},
     "output_type": "execute_result"
    }
   ],
   "source": [
    "bulk.head()"
   ]
  },
  {
   "cell_type": "code",
   "execution_count": 17,
   "id": "2d16fe1b",
   "metadata": {},
   "outputs": [
    {
     "data": {
      "text/html": [
       "<div>\n",
       "<style scoped>\n",
       "    .dataframe tbody tr th:only-of-type {\n",
       "        vertical-align: middle;\n",
       "    }\n",
       "\n",
       "    .dataframe tbody tr th {\n",
       "        vertical-align: top;\n",
       "    }\n",
       "\n",
       "    .dataframe thead th {\n",
       "        text-align: right;\n",
       "    }\n",
       "</style>\n",
       "<table border=\"1\" class=\"dataframe\">\n",
       "  <thead>\n",
       "    <tr style=\"text-align: right;\">\n",
       "      <th></th>\n",
       "      <th>key</th>\n",
       "      <th>bulk_1</th>\n",
       "      <th>bulk_2</th>\n",
       "      <th>bulk_3</th>\n",
       "      <th>bulk_4</th>\n",
       "      <th>bulk_5</th>\n",
       "      <th>bulk_6</th>\n",
       "      <th>bulk_7</th>\n",
       "      <th>bulk_8</th>\n",
       "      <th>bulk_9</th>\n",
       "      <th>bulk_10</th>\n",
       "      <th>bulk_11</th>\n",
       "      <th>bulk_12</th>\n",
       "      <th>bulk_13</th>\n",
       "      <th>bulk_14</th>\n",
       "      <th>bulk_15</th>\n",
       "    </tr>\n",
       "  </thead>\n",
       "  <tbody>\n",
       "    <tr>\n",
       "      <th>0</th>\n",
       "      <td>1</td>\n",
       "      <td>NaN</td>\n",
       "      <td>NaN</td>\n",
       "      <td>NaN</td>\n",
       "      <td>2019-05-03 11:21:30</td>\n",
       "      <td>NaN</td>\n",
       "      <td>NaN</td>\n",
       "      <td>NaN</td>\n",
       "      <td>NaN</td>\n",
       "      <td>NaN</td>\n",
       "      <td>NaN</td>\n",
       "      <td>NaN</td>\n",
       "      <td>2019-05-03 11:03:52</td>\n",
       "      <td>NaN</td>\n",
       "      <td>2019-05-03 11:03:52</td>\n",
       "      <td>2019-05-03 11:03:52</td>\n",
       "    </tr>\n",
       "    <tr>\n",
       "      <th>1</th>\n",
       "      <td>2</td>\n",
       "      <td>NaN</td>\n",
       "      <td>NaN</td>\n",
       "      <td>NaN</td>\n",
       "      <td>2019-05-03 11:46:38</td>\n",
       "      <td>NaN</td>\n",
       "      <td>NaN</td>\n",
       "      <td>NaN</td>\n",
       "      <td>NaN</td>\n",
       "      <td>NaN</td>\n",
       "      <td>NaN</td>\n",
       "      <td>NaN</td>\n",
       "      <td>2019-05-03 11:40:20</td>\n",
       "      <td>NaN</td>\n",
       "      <td>2019-05-03 11:40:20</td>\n",
       "      <td>2019-05-03 11:40:20</td>\n",
       "    </tr>\n",
       "    <tr>\n",
       "      <th>2</th>\n",
       "      <td>3</td>\n",
       "      <td>NaN</td>\n",
       "      <td>NaN</td>\n",
       "      <td>NaN</td>\n",
       "      <td>2019-05-03 12:31:06</td>\n",
       "      <td>NaN</td>\n",
       "      <td>NaN</td>\n",
       "      <td>NaN</td>\n",
       "      <td>NaN</td>\n",
       "      <td>NaN</td>\n",
       "      <td>NaN</td>\n",
       "      <td>NaN</td>\n",
       "      <td>2019-05-03 12:09:40</td>\n",
       "      <td>NaN</td>\n",
       "      <td>2019-05-03 12:09:40</td>\n",
       "      <td>2019-05-03 12:09:40</td>\n",
       "    </tr>\n",
       "    <tr>\n",
       "      <th>3</th>\n",
       "      <td>4</td>\n",
       "      <td>NaN</td>\n",
       "      <td>NaN</td>\n",
       "      <td>NaN</td>\n",
       "      <td>2019-05-03 12:48:43</td>\n",
       "      <td>NaN</td>\n",
       "      <td>NaN</td>\n",
       "      <td>NaN</td>\n",
       "      <td>NaN</td>\n",
       "      <td>NaN</td>\n",
       "      <td>NaN</td>\n",
       "      <td>NaN</td>\n",
       "      <td>2019-05-03 12:41:24</td>\n",
       "      <td>NaN</td>\n",
       "      <td>2019-05-03 12:41:24</td>\n",
       "      <td>2019-05-03 12:41:24</td>\n",
       "    </tr>\n",
       "    <tr>\n",
       "      <th>4</th>\n",
       "      <td>5</td>\n",
       "      <td>NaN</td>\n",
       "      <td>NaN</td>\n",
       "      <td>NaN</td>\n",
       "      <td>2019-05-03 13:18:50</td>\n",
       "      <td>NaN</td>\n",
       "      <td>NaN</td>\n",
       "      <td>NaN</td>\n",
       "      <td>NaN</td>\n",
       "      <td>NaN</td>\n",
       "      <td>NaN</td>\n",
       "      <td>NaN</td>\n",
       "      <td>2019-05-03 13:12:56</td>\n",
       "      <td>NaN</td>\n",
       "      <td>2019-05-03 13:12:56</td>\n",
       "      <td>2019-05-03 13:12:56</td>\n",
       "    </tr>\n",
       "  </tbody>\n",
       "</table>\n",
       "</div>"
      ],
      "text/plain": [
       "   key bulk_1 bulk_2 bulk_3               bulk_4 bulk_5 bulk_6 bulk_7 bulk_8  \\\n",
       "0    1    NaN    NaN    NaN  2019-05-03 11:21:30    NaN    NaN    NaN    NaN   \n",
       "1    2    NaN    NaN    NaN  2019-05-03 11:46:38    NaN    NaN    NaN    NaN   \n",
       "2    3    NaN    NaN    NaN  2019-05-03 12:31:06    NaN    NaN    NaN    NaN   \n",
       "3    4    NaN    NaN    NaN  2019-05-03 12:48:43    NaN    NaN    NaN    NaN   \n",
       "4    5    NaN    NaN    NaN  2019-05-03 13:18:50    NaN    NaN    NaN    NaN   \n",
       "\n",
       "  bulk_9 bulk_10 bulk_11              bulk_12 bulk_13              bulk_14  \\\n",
       "0    NaN     NaN     NaN  2019-05-03 11:03:52     NaN  2019-05-03 11:03:52   \n",
       "1    NaN     NaN     NaN  2019-05-03 11:40:20     NaN  2019-05-03 11:40:20   \n",
       "2    NaN     NaN     NaN  2019-05-03 12:09:40     NaN  2019-05-03 12:09:40   \n",
       "3    NaN     NaN     NaN  2019-05-03 12:41:24     NaN  2019-05-03 12:41:24   \n",
       "4    NaN     NaN     NaN  2019-05-03 13:12:56     NaN  2019-05-03 13:12:56   \n",
       "\n",
       "               bulk_15  \n",
       "0  2019-05-03 11:03:52  \n",
       "1  2019-05-03 11:40:20  \n",
       "2  2019-05-03 12:09:40  \n",
       "3  2019-05-03 12:41:24  \n",
       "4  2019-05-03 13:12:56  "
      ]
     },
     "execution_count": 17,
     "metadata": {},
     "output_type": "execute_result"
    }
   ],
   "source": [
    "bulk_time.head()"
   ]
  },
  {
   "cell_type": "code",
   "execution_count": 18,
   "id": "faefd23d",
   "metadata": {},
   "outputs": [
    {
     "name": "stdout",
     "output_type": "stream",
     "text": [
      "<class 'pandas.core.frame.DataFrame'>\n",
      "RangeIndex: 3129 entries, 0 to 3128\n",
      "Data columns (total 16 columns):\n",
      " #   Column   Non-Null Count  Dtype  \n",
      "---  ------   --------------  -----  \n",
      " 0   key      3129 non-null   int64  \n",
      " 1   bulk_1   252 non-null    float64\n",
      " 2   bulk_2   22 non-null     float64\n",
      " 3   bulk_3   1298 non-null   float64\n",
      " 4   bulk_4   1014 non-null   float64\n",
      " 5   bulk_5   77 non-null     float64\n",
      " 6   bulk_6   576 non-null    float64\n",
      " 7   bulk_7   25 non-null     float64\n",
      " 8   bulk_8   1 non-null      float64\n",
      " 9   bulk_9   19 non-null     float64\n",
      " 10  bulk_10  176 non-null    float64\n",
      " 11  bulk_11  177 non-null    float64\n",
      " 12  bulk_12  2450 non-null   float64\n",
      " 13  bulk_13  18 non-null     float64\n",
      " 14  bulk_14  2806 non-null   float64\n",
      " 15  bulk_15  2248 non-null   float64\n",
      "dtypes: float64(15), int64(1)\n",
      "memory usage: 391.2 KB\n"
     ]
    }
   ],
   "source": [
    "bulk.info()"
   ]
  },
  {
   "cell_type": "code",
   "execution_count": 19,
   "id": "69a50e6f",
   "metadata": {},
   "outputs": [
    {
     "name": "stdout",
     "output_type": "stream",
     "text": [
      "<class 'pandas.core.frame.DataFrame'>\n",
      "RangeIndex: 3129 entries, 0 to 3128\n",
      "Data columns (total 16 columns):\n",
      " #   Column   Non-Null Count  Dtype \n",
      "---  ------   --------------  ----- \n",
      " 0   key      3129 non-null   int64 \n",
      " 1   bulk_1   252 non-null    object\n",
      " 2   bulk_2   22 non-null     object\n",
      " 3   bulk_3   1298 non-null   object\n",
      " 4   bulk_4   1014 non-null   object\n",
      " 5   bulk_5   77 non-null     object\n",
      " 6   bulk_6   576 non-null    object\n",
      " 7   bulk_7   25 non-null     object\n",
      " 8   bulk_8   1 non-null      object\n",
      " 9   bulk_9   19 non-null     object\n",
      " 10  bulk_10  176 non-null    object\n",
      " 11  bulk_11  177 non-null    object\n",
      " 12  bulk_12  2450 non-null   object\n",
      " 13  bulk_13  18 non-null     object\n",
      " 14  bulk_14  2806 non-null   object\n",
      " 15  bulk_15  2248 non-null   object\n",
      "dtypes: int64(1), object(15)\n",
      "memory usage: 391.2+ KB\n"
     ]
    }
   ],
   "source": [
    "bulk_time.info()"
   ]
  },
  {
   "cell_type": "code",
   "execution_count": 20,
   "id": "4e5152a6",
   "metadata": {},
   "outputs": [
    {
     "data": {
      "text/plain": [
       "key        0\n",
       "bulk_1     0\n",
       "bulk_2     0\n",
       "bulk_3     0\n",
       "bulk_4     0\n",
       "bulk_5     0\n",
       "bulk_6     0\n",
       "bulk_7     0\n",
       "bulk_8     0\n",
       "bulk_9     0\n",
       "bulk_10    0\n",
       "bulk_11    0\n",
       "bulk_12    0\n",
       "bulk_13    0\n",
       "bulk_14    0\n",
       "bulk_15    0\n",
       "dtype: int64"
      ]
     },
     "execution_count": 20,
     "metadata": {},
     "output_type": "execute_result"
    }
   ],
   "source": [
    "(bulk.isnull() != bulk_time.isnull()).astype(int).sum()"
   ]
  },
  {
   "cell_type": "markdown",
   "id": "be09bbc7",
   "metadata": {},
   "source": [
    "Ячейки с пропущенными значениями между двумя таблицами совпадают. Т.е. нет таких данных в одной таблице, для которых не найдутся данные в соответствующей ячейке в другой таблице"
   ]
  },
  {
   "cell_type": "code",
   "execution_count": 21,
   "id": "bd77037d",
   "metadata": {},
   "outputs": [
    {
     "name": "stdout",
     "output_type": "stream",
     "text": [
      "Самая ранняя указанная дата: 2019-05-03 11:03:52\n",
      "Самая поздняя указанная дата: 2019-09-01 04:05:34\n"
     ]
    }
   ],
   "source": [
    "print('Самая ранняя указанная дата:', bulk_time.iloc[:, 1:17].apply(pd.to_datetime).min().min())\n",
    "print('Самая поздняя указанная дата:', bulk_time.iloc[:, 1:17].apply(pd.to_datetime).max().max())"
   ]
  },
  {
   "cell_type": "markdown",
   "id": "b0e568c6",
   "metadata": {},
   "source": [
    "Даты так же находятся в пределах диапазона май - сентябрь 2019"
   ]
  },
  {
   "cell_type": "code",
   "execution_count": 22,
   "id": "c6f1a62a",
   "metadata": {
    "scrolled": true
   },
   "outputs": [
    {
     "data": {
      "text/plain": [
       "bulk_1       9889.0\n",
       "bulk_2       5567.0\n",
       "bulk_3     147815.0\n",
       "bulk_4     105856.0\n",
       "bulk_5       8241.0\n",
       "bulk_6      68501.0\n",
       "bulk_7       7640.0\n",
       "bulk_8         49.0\n",
       "bulk_9       1450.0\n",
       "bulk_10     14658.0\n",
       "bulk_11     13597.0\n",
       "bulk_12    638154.0\n",
       "bulk_13      3260.0\n",
       "bulk_14    477819.0\n",
       "bulk_15    360834.0\n",
       "dtype: float64"
      ]
     },
     "execution_count": 22,
     "metadata": {},
     "output_type": "execute_result"
    }
   ],
   "source": [
    "sum_bulks = bulk.iloc[:,1:17].sum()\n",
    "sum_bulks"
   ]
  },
  {
   "cell_type": "code",
   "execution_count": 23,
   "id": "552d4a21",
   "metadata": {},
   "outputs": [
    {
     "data": {
      "text/plain": [
       "<BarContainer object of 15 artists>"
      ]
     },
     "execution_count": 23,
     "metadata": {},
     "output_type": "execute_result"
    },
    {
     "data": {
      "image/png": "[encoded data removed]",
      "text/plain": [
       "<Figure size 1152x432 with 1 Axes>"
      ]
     },
     "metadata": {
      "needs_background": "light"
     },
     "output_type": "display_data"
    }
   ],
   "source": [
    "plt.figure(figsize=(16, 6))\n",
    "plt.title('Суммарный расход каждого из материалов по всем партиям')\n",
    "plt.xlabel('Наименование материалов', fontsize=15)\n",
    "plt.ylabel('Израсходованно материала', fontsize=15)\n",
    "plt.bar(sum_bulks.index, sum_bulks)"
   ]
  },
  {
   "cell_type": "markdown",
   "id": "ecead5b6",
   "metadata": {},
   "source": [
    "Материалы 12, 14 и 15 используются чаще остальных. Несколько материалов искользуются крайне редко. Учитывая различные физические свойства можно предположить, что использование различных лигирующих добавок может по-разному влиять на процессы нагревания и остывания стали."
   ]
  },
  {
   "cell_type": "code",
   "execution_count": 24,
   "id": "2afa3141",
   "metadata": {
    "scrolled": false
   },
   "outputs": [
    {
     "data": {
      "image/png": "[encoded data removed]",
      "text/plain": [
       "<Figure size 1152x1152 with 15 Axes>"
      ]
     },
     "metadata": {
      "needs_background": "light"
     },
     "output_type": "display_data"
    }
   ],
   "source": [
    "fig, axs = plt.subplots(5, 3, figsize=(16, 16))\n",
    "k = 1\n",
    "for ax in axs.flat:\n",
    "    ax.set_title('bulk_' + str(k))\n",
    "    ax.hist(bulk.iloc[:, k], bins=50)\n",
    "    k += 1\n",
    "fig.tight_layout()"
   ]
  },
  {
   "cell_type": "markdown",
   "id": "bb5771c7",
   "metadata": {},
   "source": [
    "Графики показывают различное распределение для каждой добавки. По материалам, таким как bulk_2 и bulk_7, дискретность графиков демонстрирует их редкое использование. Более часто используемые материалы, такие как 3, 4 и 6 показывают более случайные распределения. В графиках материалов 12 и 15 сильно выделяются наиболее распространенные дозировки соответствующих компонентов. На данный момент сложно оценить можно ли использовать полученные данные. Возможно вернемся к ним позже для более подробного анализа влияния тех или иных добавок на итоговый результат."
   ]
  },
  {
   "cell_type": "code",
   "execution_count": 25,
   "id": "64877793",
   "metadata": {},
   "outputs": [
    {
     "data": {
      "text/plain": [
       "3129"
      ]
     },
     "execution_count": 25,
     "metadata": {},
     "output_type": "execute_result"
    }
   ],
   "source": [
    "len(bulk['key'].unique())"
   ]
  },
  {
   "cell_type": "markdown",
   "id": "c55d312c",
   "metadata": {},
   "source": [
    "Количество уникальных значений партий 3129. Выбросов не обнаружено."
   ]
  },
  {
   "cell_type": "markdown",
   "id": "e8405a8b",
   "metadata": {},
   "source": [
    "### data_wire, data_wire_time"
   ]
  },
  {
   "cell_type": "code",
   "execution_count": 26,
   "id": "256b0a6a",
   "metadata": {},
   "outputs": [
    {
     "data": {
      "text/html": [
       "<div>\n",
       "<style scoped>\n",
       "    .dataframe tbody tr th:only-of-type {\n",
       "        vertical-align: middle;\n",
       "    }\n",
       "\n",
       "    .dataframe tbody tr th {\n",
       "        vertical-align: top;\n",
       "    }\n",
       "\n",
       "    .dataframe thead th {\n",
       "        text-align: right;\n",
       "    }\n",
       "</style>\n",
       "<table border=\"1\" class=\"dataframe\">\n",
       "  <thead>\n",
       "    <tr style=\"text-align: right;\">\n",
       "      <th></th>\n",
       "      <th>key</th>\n",
       "      <th>wire_1</th>\n",
       "      <th>wire_2</th>\n",
       "      <th>wire_3</th>\n",
       "      <th>wire_4</th>\n",
       "      <th>wire_5</th>\n",
       "      <th>wire_6</th>\n",
       "      <th>wire_7</th>\n",
       "      <th>wire_8</th>\n",
       "      <th>wire_9</th>\n",
       "    </tr>\n",
       "  </thead>\n",
       "  <tbody>\n",
       "    <tr>\n",
       "      <th>0</th>\n",
       "      <td>1</td>\n",
       "      <td>60.059998</td>\n",
       "      <td>NaN</td>\n",
       "      <td>NaN</td>\n",
       "      <td>NaN</td>\n",
       "      <td>NaN</td>\n",
       "      <td>NaN</td>\n",
       "      <td>NaN</td>\n",
       "      <td>NaN</td>\n",
       "      <td>NaN</td>\n",
       "    </tr>\n",
       "    <tr>\n",
       "      <th>1</th>\n",
       "      <td>2</td>\n",
       "      <td>96.052315</td>\n",
       "      <td>NaN</td>\n",
       "      <td>NaN</td>\n",
       "      <td>NaN</td>\n",
       "      <td>NaN</td>\n",
       "      <td>NaN</td>\n",
       "      <td>NaN</td>\n",
       "      <td>NaN</td>\n",
       "      <td>NaN</td>\n",
       "    </tr>\n",
       "    <tr>\n",
       "      <th>2</th>\n",
       "      <td>3</td>\n",
       "      <td>91.160157</td>\n",
       "      <td>NaN</td>\n",
       "      <td>NaN</td>\n",
       "      <td>NaN</td>\n",
       "      <td>NaN</td>\n",
       "      <td>NaN</td>\n",
       "      <td>NaN</td>\n",
       "      <td>NaN</td>\n",
       "      <td>NaN</td>\n",
       "    </tr>\n",
       "    <tr>\n",
       "      <th>3</th>\n",
       "      <td>4</td>\n",
       "      <td>89.063515</td>\n",
       "      <td>NaN</td>\n",
       "      <td>NaN</td>\n",
       "      <td>NaN</td>\n",
       "      <td>NaN</td>\n",
       "      <td>NaN</td>\n",
       "      <td>NaN</td>\n",
       "      <td>NaN</td>\n",
       "      <td>NaN</td>\n",
       "    </tr>\n",
       "    <tr>\n",
       "      <th>4</th>\n",
       "      <td>5</td>\n",
       "      <td>89.238236</td>\n",
       "      <td>9.11456</td>\n",
       "      <td>NaN</td>\n",
       "      <td>NaN</td>\n",
       "      <td>NaN</td>\n",
       "      <td>NaN</td>\n",
       "      <td>NaN</td>\n",
       "      <td>NaN</td>\n",
       "      <td>NaN</td>\n",
       "    </tr>\n",
       "  </tbody>\n",
       "</table>\n",
       "</div>"
      ],
      "text/plain": [
       "   key     wire_1   wire_2  wire_3  wire_4  wire_5  wire_6  wire_7  wire_8  \\\n",
       "0    1  60.059998      NaN     NaN     NaN     NaN     NaN     NaN     NaN   \n",
       "1    2  96.052315      NaN     NaN     NaN     NaN     NaN     NaN     NaN   \n",
       "2    3  91.160157      NaN     NaN     NaN     NaN     NaN     NaN     NaN   \n",
       "3    4  89.063515      NaN     NaN     NaN     NaN     NaN     NaN     NaN   \n",
       "4    5  89.238236  9.11456     NaN     NaN     NaN     NaN     NaN     NaN   \n",
       "\n",
       "   wire_9  \n",
       "0     NaN  \n",
       "1     NaN  \n",
       "2     NaN  \n",
       "3     NaN  \n",
       "4     NaN  "
      ]
     },
     "execution_count": 26,
     "metadata": {},
     "output_type": "execute_result"
    }
   ],
   "source": [
    "wire.head()"
   ]
  },
  {
   "cell_type": "code",
   "execution_count": 27,
   "id": "fd16fb72",
   "metadata": {},
   "outputs": [
    {
     "name": "stdout",
     "output_type": "stream",
     "text": [
      "<class 'pandas.core.frame.DataFrame'>\n",
      "RangeIndex: 3081 entries, 0 to 3080\n",
      "Data columns (total 10 columns):\n",
      " #   Column  Non-Null Count  Dtype  \n",
      "---  ------  --------------  -----  \n",
      " 0   key     3081 non-null   int64  \n",
      " 1   wire_1  3055 non-null   float64\n",
      " 2   wire_2  1079 non-null   float64\n",
      " 3   wire_3  63 non-null     float64\n",
      " 4   wire_4  14 non-null     float64\n",
      " 5   wire_5  1 non-null      float64\n",
      " 6   wire_6  73 non-null     float64\n",
      " 7   wire_7  11 non-null     float64\n",
      " 8   wire_8  19 non-null     float64\n",
      " 9   wire_9  29 non-null     float64\n",
      "dtypes: float64(9), int64(1)\n",
      "memory usage: 240.8 KB\n"
     ]
    }
   ],
   "source": [
    "wire.info()"
   ]
  },
  {
   "cell_type": "code",
   "execution_count": 28,
   "id": "fa8fd8f2",
   "metadata": {},
   "outputs": [
    {
     "data": {
      "text/html": [
       "<div>\n",
       "<style scoped>\n",
       "    .dataframe tbody tr th:only-of-type {\n",
       "        vertical-align: middle;\n",
       "    }\n",
       "\n",
       "    .dataframe tbody tr th {\n",
       "        vertical-align: top;\n",
       "    }\n",
       "\n",
       "    .dataframe thead th {\n",
       "        text-align: right;\n",
       "    }\n",
       "</style>\n",
       "<table border=\"1\" class=\"dataframe\">\n",
       "  <thead>\n",
       "    <tr style=\"text-align: right;\">\n",
       "      <th></th>\n",
       "      <th>key</th>\n",
       "      <th>wire_1</th>\n",
       "      <th>wire_2</th>\n",
       "      <th>wire_3</th>\n",
       "      <th>wire_4</th>\n",
       "      <th>wire_5</th>\n",
       "      <th>wire_6</th>\n",
       "      <th>wire_7</th>\n",
       "      <th>wire_8</th>\n",
       "      <th>wire_9</th>\n",
       "    </tr>\n",
       "  </thead>\n",
       "  <tbody>\n",
       "    <tr>\n",
       "      <th>count</th>\n",
       "      <td>3081.000000</td>\n",
       "      <td>3055.000000</td>\n",
       "      <td>1079.000000</td>\n",
       "      <td>63.000000</td>\n",
       "      <td>14.000000</td>\n",
       "      <td>1.000</td>\n",
       "      <td>73.000000</td>\n",
       "      <td>11.000000</td>\n",
       "      <td>19.000000</td>\n",
       "      <td>29.000000</td>\n",
       "    </tr>\n",
       "    <tr>\n",
       "      <th>mean</th>\n",
       "      <td>1623.426485</td>\n",
       "      <td>100.895853</td>\n",
       "      <td>50.577323</td>\n",
       "      <td>189.482681</td>\n",
       "      <td>57.442841</td>\n",
       "      <td>15.132</td>\n",
       "      <td>48.016974</td>\n",
       "      <td>10.039007</td>\n",
       "      <td>53.625193</td>\n",
       "      <td>34.155752</td>\n",
       "    </tr>\n",
       "    <tr>\n",
       "      <th>std</th>\n",
       "      <td>932.996726</td>\n",
       "      <td>42.012518</td>\n",
       "      <td>39.320216</td>\n",
       "      <td>99.513444</td>\n",
       "      <td>28.824667</td>\n",
       "      <td>NaN</td>\n",
       "      <td>33.919845</td>\n",
       "      <td>8.610584</td>\n",
       "      <td>16.881728</td>\n",
       "      <td>19.931616</td>\n",
       "    </tr>\n",
       "    <tr>\n",
       "      <th>min</th>\n",
       "      <td>1.000000</td>\n",
       "      <td>1.918800</td>\n",
       "      <td>0.030160</td>\n",
       "      <td>0.144144</td>\n",
       "      <td>24.148801</td>\n",
       "      <td>15.132</td>\n",
       "      <td>0.034320</td>\n",
       "      <td>0.234208</td>\n",
       "      <td>45.076721</td>\n",
       "      <td>4.622800</td>\n",
       "    </tr>\n",
       "    <tr>\n",
       "      <th>25%</th>\n",
       "      <td>823.000000</td>\n",
       "      <td>72.115684</td>\n",
       "      <td>20.193680</td>\n",
       "      <td>95.135044</td>\n",
       "      <td>40.807002</td>\n",
       "      <td>15.132</td>\n",
       "      <td>25.053600</td>\n",
       "      <td>6.762756</td>\n",
       "      <td>46.094879</td>\n",
       "      <td>22.058401</td>\n",
       "    </tr>\n",
       "    <tr>\n",
       "      <th>50%</th>\n",
       "      <td>1619.000000</td>\n",
       "      <td>100.158234</td>\n",
       "      <td>40.142956</td>\n",
       "      <td>235.194977</td>\n",
       "      <td>45.234282</td>\n",
       "      <td>15.132</td>\n",
       "      <td>42.076324</td>\n",
       "      <td>9.017009</td>\n",
       "      <td>46.279999</td>\n",
       "      <td>30.066399</td>\n",
       "    </tr>\n",
       "    <tr>\n",
       "      <th>75%</th>\n",
       "      <td>2434.000000</td>\n",
       "      <td>126.060483</td>\n",
       "      <td>70.227558</td>\n",
       "      <td>276.252014</td>\n",
       "      <td>76.124619</td>\n",
       "      <td>15.132</td>\n",
       "      <td>64.212723</td>\n",
       "      <td>11.886057</td>\n",
       "      <td>48.089603</td>\n",
       "      <td>43.862003</td>\n",
       "    </tr>\n",
       "    <tr>\n",
       "      <th>max</th>\n",
       "      <td>3241.000000</td>\n",
       "      <td>330.314424</td>\n",
       "      <td>282.780152</td>\n",
       "      <td>385.008668</td>\n",
       "      <td>113.231044</td>\n",
       "      <td>15.132</td>\n",
       "      <td>180.454575</td>\n",
       "      <td>32.847674</td>\n",
       "      <td>102.762401</td>\n",
       "      <td>90.053604</td>\n",
       "    </tr>\n",
       "  </tbody>\n",
       "</table>\n",
       "</div>"
      ],
      "text/plain": [
       "               key       wire_1       wire_2      wire_3      wire_4  wire_5  \\\n",
       "count  3081.000000  3055.000000  1079.000000   63.000000   14.000000   1.000   \n",
       "mean   1623.426485   100.895853    50.577323  189.482681   57.442841  15.132   \n",
       "std     932.996726    42.012518    39.320216   99.513444   28.824667     NaN   \n",
       "min       1.000000     1.918800     0.030160    0.144144   24.148801  15.132   \n",
       "25%     823.000000    72.115684    20.193680   95.135044   40.807002  15.132   \n",
       "50%    1619.000000   100.158234    40.142956  235.194977   45.234282  15.132   \n",
       "75%    2434.000000   126.060483    70.227558  276.252014   76.124619  15.132   \n",
       "max    3241.000000   330.314424   282.780152  385.008668  113.231044  15.132   \n",
       "\n",
       "           wire_6     wire_7      wire_8     wire_9  \n",
       "count   73.000000  11.000000   19.000000  29.000000  \n",
       "mean    48.016974  10.039007   53.625193  34.155752  \n",
       "std     33.919845   8.610584   16.881728  19.931616  \n",
       "min      0.034320   0.234208   45.076721   4.622800  \n",
       "25%     25.053600   6.762756   46.094879  22.058401  \n",
       "50%     42.076324   9.017009   46.279999  30.066399  \n",
       "75%     64.212723  11.886057   48.089603  43.862003  \n",
       "max    180.454575  32.847674  102.762401  90.053604  "
      ]
     },
     "execution_count": 28,
     "metadata": {},
     "output_type": "execute_result"
    }
   ],
   "source": [
    "wire.describe()"
   ]
  },
  {
   "cell_type": "code",
   "execution_count": 29,
   "id": "c59775f2",
   "metadata": {
    "scrolled": false
   },
   "outputs": [
    {
     "data": {
      "text/html": [
       "<div>\n",
       "<style scoped>\n",
       "    .dataframe tbody tr th:only-of-type {\n",
       "        vertical-align: middle;\n",
       "    }\n",
       "\n",
       "    .dataframe tbody tr th {\n",
       "        vertical-align: top;\n",
       "    }\n",
       "\n",
       "    .dataframe thead th {\n",
       "        text-align: right;\n",
       "    }\n",
       "</style>\n",
       "<table border=\"1\" class=\"dataframe\">\n",
       "  <thead>\n",
       "    <tr style=\"text-align: right;\">\n",
       "      <th></th>\n",
       "      <th>key</th>\n",
       "      <th>wire_1</th>\n",
       "      <th>wire_2</th>\n",
       "      <th>wire_3</th>\n",
       "      <th>wire_4</th>\n",
       "      <th>wire_5</th>\n",
       "      <th>wire_6</th>\n",
       "      <th>wire_7</th>\n",
       "      <th>wire_8</th>\n",
       "      <th>wire_9</th>\n",
       "    </tr>\n",
       "  </thead>\n",
       "  <tbody>\n",
       "    <tr>\n",
       "      <th>0</th>\n",
       "      <td>1</td>\n",
       "      <td>2019-05-03 11:11:41</td>\n",
       "      <td>NaN</td>\n",
       "      <td>NaN</td>\n",
       "      <td>NaN</td>\n",
       "      <td>NaN</td>\n",
       "      <td>NaN</td>\n",
       "      <td>NaN</td>\n",
       "      <td>NaN</td>\n",
       "      <td>NaN</td>\n",
       "    </tr>\n",
       "    <tr>\n",
       "      <th>1</th>\n",
       "      <td>2</td>\n",
       "      <td>2019-05-03 11:46:10</td>\n",
       "      <td>NaN</td>\n",
       "      <td>NaN</td>\n",
       "      <td>NaN</td>\n",
       "      <td>NaN</td>\n",
       "      <td>NaN</td>\n",
       "      <td>NaN</td>\n",
       "      <td>NaN</td>\n",
       "      <td>NaN</td>\n",
       "    </tr>\n",
       "    <tr>\n",
       "      <th>2</th>\n",
       "      <td>3</td>\n",
       "      <td>2019-05-03 12:13:47</td>\n",
       "      <td>NaN</td>\n",
       "      <td>NaN</td>\n",
       "      <td>NaN</td>\n",
       "      <td>NaN</td>\n",
       "      <td>NaN</td>\n",
       "      <td>NaN</td>\n",
       "      <td>NaN</td>\n",
       "      <td>NaN</td>\n",
       "    </tr>\n",
       "    <tr>\n",
       "      <th>3</th>\n",
       "      <td>4</td>\n",
       "      <td>2019-05-03 12:48:05</td>\n",
       "      <td>NaN</td>\n",
       "      <td>NaN</td>\n",
       "      <td>NaN</td>\n",
       "      <td>NaN</td>\n",
       "      <td>NaN</td>\n",
       "      <td>NaN</td>\n",
       "      <td>NaN</td>\n",
       "      <td>NaN</td>\n",
       "    </tr>\n",
       "    <tr>\n",
       "      <th>4</th>\n",
       "      <td>5</td>\n",
       "      <td>2019-05-03 13:18:15</td>\n",
       "      <td>2019-05-03 13:32:06</td>\n",
       "      <td>NaN</td>\n",
       "      <td>NaN</td>\n",
       "      <td>NaN</td>\n",
       "      <td>NaN</td>\n",
       "      <td>NaN</td>\n",
       "      <td>NaN</td>\n",
       "      <td>NaN</td>\n",
       "    </tr>\n",
       "  </tbody>\n",
       "</table>\n",
       "</div>"
      ],
      "text/plain": [
       "   key               wire_1               wire_2 wire_3 wire_4 wire_5 wire_6  \\\n",
       "0    1  2019-05-03 11:11:41                  NaN    NaN    NaN    NaN    NaN   \n",
       "1    2  2019-05-03 11:46:10                  NaN    NaN    NaN    NaN    NaN   \n",
       "2    3  2019-05-03 12:13:47                  NaN    NaN    NaN    NaN    NaN   \n",
       "3    4  2019-05-03 12:48:05                  NaN    NaN    NaN    NaN    NaN   \n",
       "4    5  2019-05-03 13:18:15  2019-05-03 13:32:06    NaN    NaN    NaN    NaN   \n",
       "\n",
       "  wire_7 wire_8 wire_9  \n",
       "0    NaN    NaN    NaN  \n",
       "1    NaN    NaN    NaN  \n",
       "2    NaN    NaN    NaN  \n",
       "3    NaN    NaN    NaN  \n",
       "4    NaN    NaN    NaN  "
      ]
     },
     "execution_count": 29,
     "metadata": {},
     "output_type": "execute_result"
    }
   ],
   "source": [
    "wire_time.head()"
   ]
  },
  {
   "cell_type": "code",
   "execution_count": 30,
   "id": "f280f950",
   "metadata": {},
   "outputs": [
    {
     "data": {
      "text/plain": [
       "key       0\n",
       "wire_1    0\n",
       "wire_2    0\n",
       "wire_3    0\n",
       "wire_4    0\n",
       "wire_5    0\n",
       "wire_6    0\n",
       "wire_7    0\n",
       "wire_8    0\n",
       "wire_9    0\n",
       "dtype: int64"
      ]
     },
     "execution_count": 30,
     "metadata": {},
     "output_type": "execute_result"
    }
   ],
   "source": [
    "(wire.isnull() != wire_time.isnull()).astype(int).sum()"
   ]
  },
  {
   "cell_type": "code",
   "execution_count": 31,
   "id": "c9b29619",
   "metadata": {},
   "outputs": [
    {
     "name": "stdout",
     "output_type": "stream",
     "text": [
      "Самая ранняя указанная дата: 2019-05-03 11:11:41\n",
      "Самая поздняя указанная дата: 2019-09-01 04:16:01\n"
     ]
    }
   ],
   "source": [
    "print('Самая ранняя указанная дата:', wire_time.iloc[:, 1:10].apply(pd.to_datetime).min().min())\n",
    "print('Самая поздняя указанная дата:', wire_time.iloc[:, 1:10].apply(pd.to_datetime).max().max())"
   ]
  },
  {
   "cell_type": "markdown",
   "id": "688a5bb7",
   "metadata": {},
   "source": [
    "Все даты так же вписываются в найденный ранее диапазон май - сентбярь 2019"
   ]
  },
  {
   "cell_type": "code",
   "execution_count": 32,
   "id": "21fa0429",
   "metadata": {},
   "outputs": [
    {
     "data": {
      "text/plain": [
       "wire_1    308236.830606\n",
       "wire_2     54572.931650\n",
       "wire_3     11937.408916\n",
       "wire_4       804.199781\n",
       "wire_5        15.132000\n",
       "wire_6      3505.239099\n",
       "wire_7       110.429080\n",
       "wire_8      1018.878666\n",
       "wire_9       990.516814\n",
       "dtype: float64"
      ]
     },
     "execution_count": 32,
     "metadata": {},
     "output_type": "execute_result"
    }
   ],
   "source": [
    "sum_wires = wire.iloc[:,1:10].sum()\n",
    "sum_wires"
   ]
  },
  {
   "cell_type": "code",
   "execution_count": 33,
   "id": "aef73e8c",
   "metadata": {
    "scrolled": false
   },
   "outputs": [
    {
     "data": {
      "text/plain": [
       "<BarContainer object of 9 artists>"
      ]
     },
     "execution_count": 33,
     "metadata": {},
     "output_type": "execute_result"
    },
    {
     "data": {
      "image/png": "[encoded data removed]",
      "text/plain": [
       "<Figure size 1152x432 with 1 Axes>"
      ]
     },
     "metadata": {
      "needs_background": "light"
     },
     "output_type": "display_data"
    }
   ],
   "source": [
    "plt.figure(figsize=(16, 6))\n",
    "plt.title('Суммарный расход каждого вида проволоки по всем партиям')\n",
    "plt.xlabel('Тип проволоки', fontsize=15)\n",
    "plt.ylabel('Израсходованно проволоки', fontsize=15)\n",
    "plt.bar(sum_wires.index, sum_wires)"
   ]
  },
  {
   "cell_type": "markdown",
   "id": "c94c7b03",
   "metadata": {},
   "source": [
    "Аналогично сухим материалам, можно выделить тип проволоки используемой в значительно больших объемах чем другие."
   ]
  },
  {
   "cell_type": "code",
   "execution_count": 34,
   "id": "6af4ce3d",
   "metadata": {},
   "outputs": [
    {
     "data": {
      "image/png": "[encoded data removed]",
      "text/plain": [
       "<Figure size 1152x720 with 9 Axes>"
      ]
     },
     "metadata": {
      "needs_background": "light"
     },
     "output_type": "display_data"
    }
   ],
   "source": [
    "fig, axs = plt.subplots(3, 3, figsize=(16, 10))\n",
    "k = 1\n",
    "for ax in axs.flat:\n",
    "    ax.set_title('wire_' + str(k))\n",
    "    ax.hist(wire.iloc[:, k], bins=50)\n",
    "    k += 1\n",
    "fig.tight_layout()"
   ]
  },
  {
   "cell_type": "code",
   "execution_count": 35,
   "id": "2a51bed9",
   "metadata": {},
   "outputs": [
    {
     "data": {
      "text/plain": [
       "3081"
      ]
     },
     "execution_count": 35,
     "metadata": {},
     "output_type": "execute_result"
    }
   ],
   "source": [
    "len(wire['key'].unique())"
   ]
  },
  {
   "cell_type": "markdown",
   "id": "2fbec410",
   "metadata": {},
   "source": [
    "Всего 3081 уникальный id партии."
   ]
  },
  {
   "cell_type": "markdown",
   "id": "55d32e74",
   "metadata": {},
   "source": [
    "### data_gas"
   ]
  },
  {
   "cell_type": "code",
   "execution_count": 36,
   "id": "ff4f4fb8",
   "metadata": {},
   "outputs": [
    {
     "data": {
      "text/html": [
       "<div>\n",
       "<style scoped>\n",
       "    .dataframe tbody tr th:only-of-type {\n",
       "        vertical-align: middle;\n",
       "    }\n",
       "\n",
       "    .dataframe tbody tr th {\n",
       "        vertical-align: top;\n",
       "    }\n",
       "\n",
       "    .dataframe thead th {\n",
       "        text-align: right;\n",
       "    }\n",
       "</style>\n",
       "<table border=\"1\" class=\"dataframe\">\n",
       "  <thead>\n",
       "    <tr style=\"text-align: right;\">\n",
       "      <th></th>\n",
       "      <th>key</th>\n",
       "      <th>gas_1</th>\n",
       "    </tr>\n",
       "  </thead>\n",
       "  <tbody>\n",
       "    <tr>\n",
       "      <th>0</th>\n",
       "      <td>1</td>\n",
       "      <td>29.749986</td>\n",
       "    </tr>\n",
       "    <tr>\n",
       "      <th>1</th>\n",
       "      <td>2</td>\n",
       "      <td>12.555561</td>\n",
       "    </tr>\n",
       "    <tr>\n",
       "      <th>2</th>\n",
       "      <td>3</td>\n",
       "      <td>28.554793</td>\n",
       "    </tr>\n",
       "    <tr>\n",
       "      <th>3</th>\n",
       "      <td>4</td>\n",
       "      <td>18.841219</td>\n",
       "    </tr>\n",
       "    <tr>\n",
       "      <th>4</th>\n",
       "      <td>5</td>\n",
       "      <td>5.413692</td>\n",
       "    </tr>\n",
       "  </tbody>\n",
       "</table>\n",
       "</div>"
      ],
      "text/plain": [
       "   key      gas_1\n",
       "0    1  29.749986\n",
       "1    2  12.555561\n",
       "2    3  28.554793\n",
       "3    4  18.841219\n",
       "4    5   5.413692"
      ]
     },
     "execution_count": 36,
     "metadata": {},
     "output_type": "execute_result"
    }
   ],
   "source": [
    "gas.head()"
   ]
  },
  {
   "cell_type": "code",
   "execution_count": 37,
   "id": "1d83b2ae",
   "metadata": {},
   "outputs": [
    {
     "name": "stdout",
     "output_type": "stream",
     "text": [
      "<class 'pandas.core.frame.DataFrame'>\n",
      "RangeIndex: 3239 entries, 0 to 3238\n",
      "Data columns (total 2 columns):\n",
      " #   Column  Non-Null Count  Dtype  \n",
      "---  ------  --------------  -----  \n",
      " 0   key     3239 non-null   int64  \n",
      " 1   gas_1   3239 non-null   float64\n",
      "dtypes: float64(1), int64(1)\n",
      "memory usage: 50.7 KB\n"
     ]
    }
   ],
   "source": [
    "gas.info()"
   ]
  },
  {
   "cell_type": "code",
   "execution_count": 38,
   "id": "7edfb71c",
   "metadata": {},
   "outputs": [
    {
     "data": {
      "text/html": [
       "<div>\n",
       "<style scoped>\n",
       "    .dataframe tbody tr th:only-of-type {\n",
       "        vertical-align: middle;\n",
       "    }\n",
       "\n",
       "    .dataframe tbody tr th {\n",
       "        vertical-align: top;\n",
       "    }\n",
       "\n",
       "    .dataframe thead th {\n",
       "        text-align: right;\n",
       "    }\n",
       "</style>\n",
       "<table border=\"1\" class=\"dataframe\">\n",
       "  <thead>\n",
       "    <tr style=\"text-align: right;\">\n",
       "      <th></th>\n",
       "      <th>key</th>\n",
       "      <th>gas_1</th>\n",
       "    </tr>\n",
       "  </thead>\n",
       "  <tbody>\n",
       "    <tr>\n",
       "      <th>count</th>\n",
       "      <td>3239.000000</td>\n",
       "      <td>3239.000000</td>\n",
       "    </tr>\n",
       "    <tr>\n",
       "      <th>mean</th>\n",
       "      <td>1621.861377</td>\n",
       "      <td>11.002062</td>\n",
       "    </tr>\n",
       "    <tr>\n",
       "      <th>std</th>\n",
       "      <td>935.386334</td>\n",
       "      <td>6.220327</td>\n",
       "    </tr>\n",
       "    <tr>\n",
       "      <th>min</th>\n",
       "      <td>1.000000</td>\n",
       "      <td>0.008399</td>\n",
       "    </tr>\n",
       "    <tr>\n",
       "      <th>25%</th>\n",
       "      <td>812.500000</td>\n",
       "      <td>7.043089</td>\n",
       "    </tr>\n",
       "    <tr>\n",
       "      <th>50%</th>\n",
       "      <td>1622.000000</td>\n",
       "      <td>9.836267</td>\n",
       "    </tr>\n",
       "    <tr>\n",
       "      <th>75%</th>\n",
       "      <td>2431.500000</td>\n",
       "      <td>13.769915</td>\n",
       "    </tr>\n",
       "    <tr>\n",
       "      <th>max</th>\n",
       "      <td>3241.000000</td>\n",
       "      <td>77.995040</td>\n",
       "    </tr>\n",
       "  </tbody>\n",
       "</table>\n",
       "</div>"
      ],
      "text/plain": [
       "               key        gas_1\n",
       "count  3239.000000  3239.000000\n",
       "mean   1621.861377    11.002062\n",
       "std     935.386334     6.220327\n",
       "min       1.000000     0.008399\n",
       "25%     812.500000     7.043089\n",
       "50%    1622.000000     9.836267\n",
       "75%    2431.500000    13.769915\n",
       "max    3241.000000    77.995040"
      ]
     },
     "execution_count": 38,
     "metadata": {},
     "output_type": "execute_result"
    }
   ],
   "source": [
    "gas.describe()"
   ]
  },
  {
   "cell_type": "markdown",
   "id": "4d75b8c4",
   "metadata": {},
   "source": [
    "Выбросов в данных не наблюдается"
   ]
  },
  {
   "cell_type": "code",
   "execution_count": 39,
   "id": "9cfd8282",
   "metadata": {},
   "outputs": [
    {
     "data": {
      "image/png": "[encoded data removed]",
      "text/plain": [
       "<Figure size 1152x432 with 1 Axes>"
      ]
     },
     "metadata": {
      "needs_background": "light"
     },
     "output_type": "display_data"
    }
   ],
   "source": [
    "plt.figure(figsize=(16, 6))\n",
    "plt.title('Гистограмма объема израсходованного газа при обработки каждой из партий')\n",
    "plt.xlabel('Объем газа', fontsize=15)\n",
    "plt.ylabel('Колиечество партий', fontsize=15)\n",
    "_ = plt.hist(gas['gas_1'], bins=100)"
   ]
  },
  {
   "cell_type": "markdown",
   "id": "4837e1b7",
   "metadata": {},
   "source": [
    "Сложно судить, являются ли значения более 40 выбросами. Возможно стоит уточнить этот вопрос у заказчика."
   ]
  },
  {
   "cell_type": "code",
   "execution_count": 40,
   "id": "07b3c75a",
   "metadata": {},
   "outputs": [
    {
     "data": {
      "text/html": [
       "<div>\n",
       "<style scoped>\n",
       "    .dataframe tbody tr th:only-of-type {\n",
       "        vertical-align: middle;\n",
       "    }\n",
       "\n",
       "    .dataframe tbody tr th {\n",
       "        vertical-align: top;\n",
       "    }\n",
       "\n",
       "    .dataframe thead th {\n",
       "        text-align: right;\n",
       "    }\n",
       "</style>\n",
       "<table border=\"1\" class=\"dataframe\">\n",
       "  <thead>\n",
       "    <tr style=\"text-align: right;\">\n",
       "      <th></th>\n",
       "      <th>key</th>\n",
       "      <th>gas_1</th>\n",
       "    </tr>\n",
       "  </thead>\n",
       "  <tbody>\n",
       "    <tr>\n",
       "      <th>116</th>\n",
       "      <td>117</td>\n",
       "      <td>50.581035</td>\n",
       "    </tr>\n",
       "    <tr>\n",
       "      <th>277</th>\n",
       "      <td>280</td>\n",
       "      <td>60.935689</td>\n",
       "    </tr>\n",
       "    <tr>\n",
       "      <th>319</th>\n",
       "      <td>322</td>\n",
       "      <td>77.995040</td>\n",
       "    </tr>\n",
       "    <tr>\n",
       "      <th>660</th>\n",
       "      <td>663</td>\n",
       "      <td>41.854643</td>\n",
       "    </tr>\n",
       "    <tr>\n",
       "      <th>1461</th>\n",
       "      <td>1464</td>\n",
       "      <td>43.655411</td>\n",
       "    </tr>\n",
       "    <tr>\n",
       "      <th>2105</th>\n",
       "      <td>2108</td>\n",
       "      <td>45.638999</td>\n",
       "    </tr>\n",
       "    <tr>\n",
       "      <th>2107</th>\n",
       "      <td>2110</td>\n",
       "      <td>52.142373</td>\n",
       "    </tr>\n",
       "    <tr>\n",
       "      <th>2567</th>\n",
       "      <td>2570</td>\n",
       "      <td>51.380229</td>\n",
       "    </tr>\n",
       "  </tbody>\n",
       "</table>\n",
       "</div>"
      ],
      "text/plain": [
       "       key      gas_1\n",
       "116    117  50.581035\n",
       "277    280  60.935689\n",
       "319    322  77.995040\n",
       "660    663  41.854643\n",
       "1461  1464  43.655411\n",
       "2105  2108  45.638999\n",
       "2107  2110  52.142373\n",
       "2567  2570  51.380229"
      ]
     },
     "execution_count": 40,
     "metadata": {},
     "output_type": "execute_result"
    }
   ],
   "source": [
    "gas[gas['gas_1'] > 40]"
   ]
  },
  {
   "cell_type": "code",
   "execution_count": 41,
   "id": "ea63470e",
   "metadata": {},
   "outputs": [
    {
     "data": {
      "text/plain": [
       "3239"
      ]
     },
     "execution_count": 41,
     "metadata": {},
     "output_type": "execute_result"
    }
   ],
   "source": [
    "len(gas['key'].unique())"
   ]
  },
  {
   "cell_type": "markdown",
   "id": "2cc67899",
   "metadata": {},
   "source": [
    "### data_temp"
   ]
  },
  {
   "cell_type": "code",
   "execution_count": 42,
   "id": "ec7b6e94",
   "metadata": {
    "scrolled": false
   },
   "outputs": [
    {
     "data": {
      "text/html": [
       "<div>\n",
       "<style scoped>\n",
       "    .dataframe tbody tr th:only-of-type {\n",
       "        vertical-align: middle;\n",
       "    }\n",
       "\n",
       "    .dataframe tbody tr th {\n",
       "        vertical-align: top;\n",
       "    }\n",
       "\n",
       "    .dataframe thead th {\n",
       "        text-align: right;\n",
       "    }\n",
       "</style>\n",
       "<table border=\"1\" class=\"dataframe\">\n",
       "  <thead>\n",
       "    <tr style=\"text-align: right;\">\n",
       "      <th></th>\n",
       "      <th>key</th>\n",
       "      <th>measurement_time</th>\n",
       "      <th>temperature</th>\n",
       "    </tr>\n",
       "  </thead>\n",
       "  <tbody>\n",
       "    <tr>\n",
       "      <th>0</th>\n",
       "      <td>1</td>\n",
       "      <td>2019-05-03 11:16:18</td>\n",
       "      <td>1571.0</td>\n",
       "    </tr>\n",
       "    <tr>\n",
       "      <th>1</th>\n",
       "      <td>1</td>\n",
       "      <td>2019-05-03 11:25:53</td>\n",
       "      <td>1604.0</td>\n",
       "    </tr>\n",
       "    <tr>\n",
       "      <th>2</th>\n",
       "      <td>1</td>\n",
       "      <td>2019-05-03 11:29:11</td>\n",
       "      <td>1618.0</td>\n",
       "    </tr>\n",
       "    <tr>\n",
       "      <th>3</th>\n",
       "      <td>1</td>\n",
       "      <td>2019-05-03 11:30:01</td>\n",
       "      <td>1601.0</td>\n",
       "    </tr>\n",
       "    <tr>\n",
       "      <th>4</th>\n",
       "      <td>1</td>\n",
       "      <td>2019-05-03 11:30:39</td>\n",
       "      <td>1613.0</td>\n",
       "    </tr>\n",
       "  </tbody>\n",
       "</table>\n",
       "</div>"
      ],
      "text/plain": [
       "   key     measurement_time  temperature\n",
       "0    1  2019-05-03 11:16:18       1571.0\n",
       "1    1  2019-05-03 11:25:53       1604.0\n",
       "2    1  2019-05-03 11:29:11       1618.0\n",
       "3    1  2019-05-03 11:30:01       1601.0\n",
       "4    1  2019-05-03 11:30:39       1613.0"
      ]
     },
     "execution_count": 42,
     "metadata": {},
     "output_type": "execute_result"
    }
   ],
   "source": [
    "temp.head()"
   ]
  },
  {
   "cell_type": "code",
   "execution_count": 43,
   "id": "59f5fb45",
   "metadata": {},
   "outputs": [
    {
     "name": "stdout",
     "output_type": "stream",
     "text": [
      "<class 'pandas.core.frame.DataFrame'>\n",
      "RangeIndex: 15907 entries, 0 to 15906\n",
      "Data columns (total 3 columns):\n",
      " #   Column            Non-Null Count  Dtype  \n",
      "---  ------            --------------  -----  \n",
      " 0   key               15907 non-null  int64  \n",
      " 1   measurement_time  15907 non-null  object \n",
      " 2   temperature       13006 non-null  float64\n",
      "dtypes: float64(1), int64(1), object(1)\n",
      "memory usage: 372.9+ KB\n"
     ]
    }
   ],
   "source": [
    "temp.info()"
   ]
  },
  {
   "cell_type": "code",
   "execution_count": 44,
   "id": "1f60bc91",
   "metadata": {
    "scrolled": false
   },
   "outputs": [
    {
     "data": {
      "text/html": [
       "<div>\n",
       "<style scoped>\n",
       "    .dataframe tbody tr th:only-of-type {\n",
       "        vertical-align: middle;\n",
       "    }\n",
       "\n",
       "    .dataframe tbody tr th {\n",
       "        vertical-align: top;\n",
       "    }\n",
       "\n",
       "    .dataframe thead th {\n",
       "        text-align: right;\n",
       "    }\n",
       "</style>\n",
       "<table border=\"1\" class=\"dataframe\">\n",
       "  <thead>\n",
       "    <tr style=\"text-align: right;\">\n",
       "      <th></th>\n",
       "      <th>key</th>\n",
       "      <th>measurement_time</th>\n",
       "      <th>temperature</th>\n",
       "    </tr>\n",
       "  </thead>\n",
       "  <tbody>\n",
       "    <tr>\n",
       "      <th>12268</th>\n",
       "      <td>2500</td>\n",
       "      <td>2019-08-06 03:24:43</td>\n",
       "      <td>NaN</td>\n",
       "    </tr>\n",
       "    <tr>\n",
       "      <th>12269</th>\n",
       "      <td>2500</td>\n",
       "      <td>2019-08-06 03:25:16</td>\n",
       "      <td>NaN</td>\n",
       "    </tr>\n",
       "    <tr>\n",
       "      <th>12270</th>\n",
       "      <td>2500</td>\n",
       "      <td>2019-08-06 03:28:21</td>\n",
       "      <td>NaN</td>\n",
       "    </tr>\n",
       "    <tr>\n",
       "      <th>12272</th>\n",
       "      <td>2501</td>\n",
       "      <td>2019-08-06 04:01:59</td>\n",
       "      <td>NaN</td>\n",
       "    </tr>\n",
       "    <tr>\n",
       "      <th>12273</th>\n",
       "      <td>2501</td>\n",
       "      <td>2019-08-06 04:14:35</td>\n",
       "      <td>NaN</td>\n",
       "    </tr>\n",
       "    <tr>\n",
       "      <th>...</th>\n",
       "      <td>...</td>\n",
       "      <td>...</td>\n",
       "      <td>...</td>\n",
       "    </tr>\n",
       "    <tr>\n",
       "      <th>15901</th>\n",
       "      <td>3240</td>\n",
       "      <td>2019-09-01 03:35:16</td>\n",
       "      <td>NaN</td>\n",
       "    </tr>\n",
       "    <tr>\n",
       "      <th>15903</th>\n",
       "      <td>3241</td>\n",
       "      <td>2019-09-01 04:16:12</td>\n",
       "      <td>NaN</td>\n",
       "    </tr>\n",
       "    <tr>\n",
       "      <th>15904</th>\n",
       "      <td>3241</td>\n",
       "      <td>2019-09-01 04:22:39</td>\n",
       "      <td>NaN</td>\n",
       "    </tr>\n",
       "    <tr>\n",
       "      <th>15905</th>\n",
       "      <td>3241</td>\n",
       "      <td>2019-09-01 04:33:42</td>\n",
       "      <td>NaN</td>\n",
       "    </tr>\n",
       "    <tr>\n",
       "      <th>15906</th>\n",
       "      <td>3241</td>\n",
       "      <td>2019-09-01 04:38:08</td>\n",
       "      <td>NaN</td>\n",
       "    </tr>\n",
       "  </tbody>\n",
       "</table>\n",
       "<p>2901 rows × 3 columns</p>\n",
       "</div>"
      ],
      "text/plain": [
       "        key     measurement_time  temperature\n",
       "12268  2500  2019-08-06 03:24:43          NaN\n",
       "12269  2500  2019-08-06 03:25:16          NaN\n",
       "12270  2500  2019-08-06 03:28:21          NaN\n",
       "12272  2501  2019-08-06 04:01:59          NaN\n",
       "12273  2501  2019-08-06 04:14:35          NaN\n",
       "...     ...                  ...          ...\n",
       "15901  3240  2019-09-01 03:35:16          NaN\n",
       "15903  3241  2019-09-01 04:16:12          NaN\n",
       "15904  3241  2019-09-01 04:22:39          NaN\n",
       "15905  3241  2019-09-01 04:33:42          NaN\n",
       "15906  3241  2019-09-01 04:38:08          NaN\n",
       "\n",
       "[2901 rows x 3 columns]"
      ]
     },
     "execution_count": 44,
     "metadata": {},
     "output_type": "execute_result"
    }
   ],
   "source": [
    "temp[temp['temperature'].isnull()]"
   ]
  },
  {
   "cell_type": "markdown",
   "id": "778c600a",
   "metadata": {},
   "source": [
    "Данные по температуре отсутствуют в части ячеек начиная с партии 2500"
   ]
  },
  {
   "cell_type": "code",
   "execution_count": 45,
   "id": "75a778fc",
   "metadata": {},
   "outputs": [
    {
     "data": {
      "text/html": [
       "<div>\n",
       "<style scoped>\n",
       "    .dataframe tbody tr th:only-of-type {\n",
       "        vertical-align: middle;\n",
       "    }\n",
       "\n",
       "    .dataframe tbody tr th {\n",
       "        vertical-align: top;\n",
       "    }\n",
       "\n",
       "    .dataframe thead th {\n",
       "        text-align: right;\n",
       "    }\n",
       "</style>\n",
       "<table border=\"1\" class=\"dataframe\">\n",
       "  <thead>\n",
       "    <tr style=\"text-align: right;\">\n",
       "      <th></th>\n",
       "      <th>key</th>\n",
       "      <th>temperature</th>\n",
       "    </tr>\n",
       "  </thead>\n",
       "  <tbody>\n",
       "    <tr>\n",
       "      <th>count</th>\n",
       "      <td>15907.000000</td>\n",
       "      <td>13006.000000</td>\n",
       "    </tr>\n",
       "    <tr>\n",
       "      <th>mean</th>\n",
       "      <td>1607.880870</td>\n",
       "      <td>1591.840920</td>\n",
       "    </tr>\n",
       "    <tr>\n",
       "      <th>std</th>\n",
       "      <td>942.212073</td>\n",
       "      <td>21.375851</td>\n",
       "    </tr>\n",
       "    <tr>\n",
       "      <th>min</th>\n",
       "      <td>1.000000</td>\n",
       "      <td>1191.000000</td>\n",
       "    </tr>\n",
       "    <tr>\n",
       "      <th>25%</th>\n",
       "      <td>790.000000</td>\n",
       "      <td>1581.000000</td>\n",
       "    </tr>\n",
       "    <tr>\n",
       "      <th>50%</th>\n",
       "      <td>1618.000000</td>\n",
       "      <td>1591.000000</td>\n",
       "    </tr>\n",
       "    <tr>\n",
       "      <th>75%</th>\n",
       "      <td>2427.000000</td>\n",
       "      <td>1601.000000</td>\n",
       "    </tr>\n",
       "    <tr>\n",
       "      <th>max</th>\n",
       "      <td>3241.000000</td>\n",
       "      <td>1705.000000</td>\n",
       "    </tr>\n",
       "  </tbody>\n",
       "</table>\n",
       "</div>"
      ],
      "text/plain": [
       "                key   temperature\n",
       "count  15907.000000  13006.000000\n",
       "mean    1607.880870   1591.840920\n",
       "std      942.212073     21.375851\n",
       "min        1.000000   1191.000000\n",
       "25%      790.000000   1581.000000\n",
       "50%     1618.000000   1591.000000\n",
       "75%     2427.000000   1601.000000\n",
       "max     3241.000000   1705.000000"
      ]
     },
     "execution_count": 45,
     "metadata": {},
     "output_type": "execute_result"
    }
   ],
   "source": [
    "temp.describe()"
   ]
  },
  {
   "cell_type": "markdown",
   "id": "10acbb73",
   "metadata": {},
   "source": [
    "Выбросов по значениям температуры не выявлено."
   ]
  },
  {
   "cell_type": "code",
   "execution_count": 46,
   "id": "1c53031d",
   "metadata": {
    "scrolled": false
   },
   "outputs": [
    {
     "data": {
      "text/html": [
       "<div>\n",
       "<style scoped>\n",
       "    .dataframe tbody tr th:only-of-type {\n",
       "        vertical-align: middle;\n",
       "    }\n",
       "\n",
       "    .dataframe tbody tr th {\n",
       "        vertical-align: top;\n",
       "    }\n",
       "\n",
       "    .dataframe thead th {\n",
       "        text-align: right;\n",
       "    }\n",
       "</style>\n",
       "<table border=\"1\" class=\"dataframe\">\n",
       "  <thead>\n",
       "    <tr style=\"text-align: right;\">\n",
       "      <th></th>\n",
       "      <th>measurement_time</th>\n",
       "      <th>temperature</th>\n",
       "    </tr>\n",
       "    <tr>\n",
       "      <th>key</th>\n",
       "      <th></th>\n",
       "      <th></th>\n",
       "    </tr>\n",
       "  </thead>\n",
       "  <tbody>\n",
       "    <tr>\n",
       "      <th>1</th>\n",
       "      <td>5</td>\n",
       "      <td>5</td>\n",
       "    </tr>\n",
       "    <tr>\n",
       "      <th>2</th>\n",
       "      <td>6</td>\n",
       "      <td>6</td>\n",
       "    </tr>\n",
       "    <tr>\n",
       "      <th>3</th>\n",
       "      <td>5</td>\n",
       "      <td>5</td>\n",
       "    </tr>\n",
       "    <tr>\n",
       "      <th>4</th>\n",
       "      <td>3</td>\n",
       "      <td>3</td>\n",
       "    </tr>\n",
       "    <tr>\n",
       "      <th>5</th>\n",
       "      <td>2</td>\n",
       "      <td>2</td>\n",
       "    </tr>\n",
       "    <tr>\n",
       "      <th>...</th>\n",
       "      <td>...</td>\n",
       "      <td>...</td>\n",
       "    </tr>\n",
       "    <tr>\n",
       "      <th>3237</th>\n",
       "      <td>1</td>\n",
       "      <td>1</td>\n",
       "    </tr>\n",
       "    <tr>\n",
       "      <th>3238</th>\n",
       "      <td>1</td>\n",
       "      <td>1</td>\n",
       "    </tr>\n",
       "    <tr>\n",
       "      <th>3239</th>\n",
       "      <td>1</td>\n",
       "      <td>1</td>\n",
       "    </tr>\n",
       "    <tr>\n",
       "      <th>3240</th>\n",
       "      <td>1</td>\n",
       "      <td>1</td>\n",
       "    </tr>\n",
       "    <tr>\n",
       "      <th>3241</th>\n",
       "      <td>1</td>\n",
       "      <td>1</td>\n",
       "    </tr>\n",
       "  </tbody>\n",
       "</table>\n",
       "<p>3216 rows × 2 columns</p>\n",
       "</div>"
      ],
      "text/plain": [
       "      measurement_time  temperature\n",
       "key                                \n",
       "1                    5            5\n",
       "2                    6            6\n",
       "3                    5            5\n",
       "4                    3            3\n",
       "5                    2            2\n",
       "...                ...          ...\n",
       "3237                 1            1\n",
       "3238                 1            1\n",
       "3239                 1            1\n",
       "3240                 1            1\n",
       "3241                 1            1\n",
       "\n",
       "[3216 rows x 2 columns]"
      ]
     },
     "execution_count": 46,
     "metadata": {},
     "output_type": "execute_result"
    }
   ],
   "source": [
    "temp[temp['temperature'].isnull() == False].groupby('key').count()"
   ]
  },
  {
   "cell_type": "markdown",
   "id": "4f641012",
   "metadata": {},
   "source": [
    "3216 уникальных партий"
   ]
  },
  {
   "cell_type": "code",
   "execution_count": 47,
   "id": "837d4e0b",
   "metadata": {},
   "outputs": [
    {
     "data": {
      "text/html": [
       "<div>\n",
       "<style scoped>\n",
       "    .dataframe tbody tr th:only-of-type {\n",
       "        vertical-align: middle;\n",
       "    }\n",
       "\n",
       "    .dataframe tbody tr th {\n",
       "        vertical-align: top;\n",
       "    }\n",
       "\n",
       "    .dataframe thead th {\n",
       "        text-align: right;\n",
       "    }\n",
       "</style>\n",
       "<table border=\"1\" class=\"dataframe\">\n",
       "  <thead>\n",
       "    <tr style=\"text-align: right;\">\n",
       "      <th></th>\n",
       "      <th>measurement_time</th>\n",
       "      <th>temperature</th>\n",
       "    </tr>\n",
       "    <tr>\n",
       "      <th>key</th>\n",
       "      <th></th>\n",
       "      <th></th>\n",
       "    </tr>\n",
       "  </thead>\n",
       "  <tbody>\n",
       "    <tr>\n",
       "      <th>195</th>\n",
       "      <td>1</td>\n",
       "      <td>1</td>\n",
       "    </tr>\n",
       "    <tr>\n",
       "      <th>279</th>\n",
       "      <td>1</td>\n",
       "      <td>1</td>\n",
       "    </tr>\n",
       "  </tbody>\n",
       "</table>\n",
       "</div>"
      ],
      "text/plain": [
       "     measurement_time  temperature\n",
       "key                               \n",
       "195                 1            1\n",
       "279                 1            1"
      ]
     },
     "execution_count": 47,
     "metadata": {},
     "output_type": "execute_result"
    }
   ],
   "source": [
    "temp_count = temp[temp['key'] < 2500].groupby('key').count()\n",
    "temp_count[temp_count['temperature'] == 1]"
   ]
  },
  {
   "cell_type": "code",
   "execution_count": 48,
   "id": "d31c056e",
   "metadata": {},
   "outputs": [
    {
     "data": {
      "image/png": "[encoded data removed]",
      "text/plain": [
       "<Figure size 1152x432 with 1 Axes>"
      ]
     },
     "metadata": {
      "needs_background": "light"
     },
     "output_type": "display_data"
    }
   ],
   "source": [
    "temp_fill = temp[temp['temperature'].isnull() == False]\n",
    "plt.figure(figsize=(16, 6))\n",
    "plt.title('Гистограмма значений температур по каждому из замеров')\n",
    "plt.xlabel('Температура', fontsize=15)\n",
    "plt.ylabel('Количество замеров', fontsize=15)\n",
    "_ = plt.hist(temp_fill['temperature'], bins=100)"
   ]
  },
  {
   "cell_type": "markdown",
   "id": "0be28d92",
   "metadata": {},
   "source": [
    "Возможно стоит также обратить внимание на партии с температурами ниже 1500."
   ]
  },
  {
   "cell_type": "code",
   "execution_count": 49,
   "id": "4e4d0328",
   "metadata": {},
   "outputs": [
    {
     "data": {
      "text/html": [
       "<div>\n",
       "<style scoped>\n",
       "    .dataframe tbody tr th:only-of-type {\n",
       "        vertical-align: middle;\n",
       "    }\n",
       "\n",
       "    .dataframe tbody tr th {\n",
       "        vertical-align: top;\n",
       "    }\n",
       "\n",
       "    .dataframe thead th {\n",
       "        text-align: right;\n",
       "    }\n",
       "</style>\n",
       "<table border=\"1\" class=\"dataframe\">\n",
       "  <thead>\n",
       "    <tr style=\"text-align: right;\">\n",
       "      <th></th>\n",
       "      <th>key</th>\n",
       "      <th>measurement_time</th>\n",
       "      <th>temperature</th>\n",
       "    </tr>\n",
       "  </thead>\n",
       "  <tbody>\n",
       "    <tr>\n",
       "      <th>4350</th>\n",
       "      <td>867</td>\n",
       "      <td>2019-06-04 14:21:00</td>\n",
       "      <td>1191.0</td>\n",
       "    </tr>\n",
       "    <tr>\n",
       "      <th>5978</th>\n",
       "      <td>1214</td>\n",
       "      <td>2019-06-16 05:32:00</td>\n",
       "      <td>1208.0</td>\n",
       "    </tr>\n",
       "    <tr>\n",
       "      <th>7958</th>\n",
       "      <td>1619</td>\n",
       "      <td>2019-06-30 11:03:54</td>\n",
       "      <td>1218.0</td>\n",
       "    </tr>\n",
       "    <tr>\n",
       "      <th>8913</th>\n",
       "      <td>1818</td>\n",
       "      <td>2019-07-07 00:30:49</td>\n",
       "      <td>1383.0</td>\n",
       "    </tr>\n",
       "    <tr>\n",
       "      <th>8914</th>\n",
       "      <td>1818</td>\n",
       "      <td>2019-07-07 00:31:40</td>\n",
       "      <td>1383.0</td>\n",
       "    </tr>\n",
       "    <tr>\n",
       "      <th>10127</th>\n",
       "      <td>2052</td>\n",
       "      <td>2019-07-21 14:51:40</td>\n",
       "      <td>1227.0</td>\n",
       "    </tr>\n",
       "    <tr>\n",
       "      <th>12564</th>\n",
       "      <td>2561</td>\n",
       "      <td>2019-08-08 07:34:15</td>\n",
       "      <td>1204.0</td>\n",
       "    </tr>\n",
       "  </tbody>\n",
       "</table>\n",
       "</div>"
      ],
      "text/plain": [
       "        key     measurement_time  temperature\n",
       "4350    867  2019-06-04 14:21:00       1191.0\n",
       "5978   1214  2019-06-16 05:32:00       1208.0\n",
       "7958   1619  2019-06-30 11:03:54       1218.0\n",
       "8913   1818  2019-07-07 00:30:49       1383.0\n",
       "8914   1818  2019-07-07 00:31:40       1383.0\n",
       "10127  2052  2019-07-21 14:51:40       1227.0\n",
       "12564  2561  2019-08-08 07:34:15       1204.0"
      ]
     },
     "execution_count": 49,
     "metadata": {},
     "output_type": "execute_result"
    }
   ],
   "source": [
    "temp[temp['temperature'] < 1500]"
   ]
  },
  {
   "cell_type": "markdown",
   "id": "a0a66de6",
   "metadata": {},
   "source": [
    "### Данные всех таблиц по одной из партий"
   ]
  },
  {
   "cell_type": "markdown",
   "id": "9ce5a36b",
   "metadata": {},
   "source": [
    "Для общего представления о полном цикле нагрева и легирования партии выделим данные по одной и той же партии из каждой таблицы"
   ]
  },
  {
   "cell_type": "code",
   "execution_count": 50,
   "id": "a27891e3",
   "metadata": {
    "scrolled": false
   },
   "outputs": [
    {
     "data": {
      "text/html": [
       "<div>\n",
       "<style scoped>\n",
       "    .dataframe tbody tr th:only-of-type {\n",
       "        vertical-align: middle;\n",
       "    }\n",
       "\n",
       "    .dataframe tbody tr th {\n",
       "        vertical-align: top;\n",
       "    }\n",
       "\n",
       "    .dataframe thead th {\n",
       "        text-align: right;\n",
       "    }\n",
       "</style>\n",
       "<table border=\"1\" class=\"dataframe\">\n",
       "  <thead>\n",
       "    <tr style=\"text-align: right;\">\n",
       "      <th></th>\n",
       "      <th>key</th>\n",
       "      <th>start_of_heating</th>\n",
       "      <th>end_of_heating</th>\n",
       "      <th>active_power</th>\n",
       "      <th>reactive_power</th>\n",
       "    </tr>\n",
       "  </thead>\n",
       "  <tbody>\n",
       "    <tr>\n",
       "      <th>3727</th>\n",
       "      <td>808</td>\n",
       "      <td>2019-06-02 08:16:19</td>\n",
       "      <td>2019-06-02 08:18:23</td>\n",
       "      <td>0.386772</td>\n",
       "      <td>0.250064</td>\n",
       "    </tr>\n",
       "    <tr>\n",
       "      <th>3728</th>\n",
       "      <td>808</td>\n",
       "      <td>2019-06-02 08:22:39</td>\n",
       "      <td>2019-06-02 08:24:03</td>\n",
       "      <td>0.293113</td>\n",
       "      <td>0.198911</td>\n",
       "    </tr>\n",
       "    <tr>\n",
       "      <th>3729</th>\n",
       "      <td>808</td>\n",
       "      <td>2019-06-02 08:25:26</td>\n",
       "      <td>2019-06-02 08:28:13</td>\n",
       "      <td>0.597251</td>\n",
       "      <td>0.474909</td>\n",
       "    </tr>\n",
       "    <tr>\n",
       "      <th>3730</th>\n",
       "      <td>808</td>\n",
       "      <td>2019-06-02 08:29:27</td>\n",
       "      <td>2019-06-02 08:30:51</td>\n",
       "      <td>0.307462</td>\n",
       "      <td>0.197667</td>\n",
       "    </tr>\n",
       "    <tr>\n",
       "      <th>3731</th>\n",
       "      <td>808</td>\n",
       "      <td>2019-06-02 08:36:19</td>\n",
       "      <td>2019-06-02 08:38:36</td>\n",
       "      <td>0.508354</td>\n",
       "      <td>0.313811</td>\n",
       "    </tr>\n",
       "    <tr>\n",
       "      <th>3732</th>\n",
       "      <td>808</td>\n",
       "      <td>2019-06-02 08:41:02</td>\n",
       "      <td>2019-06-02 08:46:24</td>\n",
       "      <td>1.155499</td>\n",
       "      <td>0.729536</td>\n",
       "    </tr>\n",
       "    <tr>\n",
       "      <th>3733</th>\n",
       "      <td>808</td>\n",
       "      <td>2019-06-02 08:47:39</td>\n",
       "      <td>2019-06-02 08:49:56</td>\n",
       "      <td>0.507448</td>\n",
       "      <td>0.319619</td>\n",
       "    </tr>\n",
       "    <tr>\n",
       "      <th>3734</th>\n",
       "      <td>808</td>\n",
       "      <td>2019-06-02 08:56:56</td>\n",
       "      <td>2019-06-02 08:58:02</td>\n",
       "      <td>0.245731</td>\n",
       "      <td>0.157699</td>\n",
       "    </tr>\n",
       "  </tbody>\n",
       "</table>\n",
       "</div>"
      ],
      "text/plain": [
       "      key     start_of_heating       end_of_heating  active_power  \\\n",
       "3727  808  2019-06-02 08:16:19  2019-06-02 08:18:23      0.386772   \n",
       "3728  808  2019-06-02 08:22:39  2019-06-02 08:24:03      0.293113   \n",
       "3729  808  2019-06-02 08:25:26  2019-06-02 08:28:13      0.597251   \n",
       "3730  808  2019-06-02 08:29:27  2019-06-02 08:30:51      0.307462   \n",
       "3731  808  2019-06-02 08:36:19  2019-06-02 08:38:36      0.508354   \n",
       "3732  808  2019-06-02 08:41:02  2019-06-02 08:46:24      1.155499   \n",
       "3733  808  2019-06-02 08:47:39  2019-06-02 08:49:56      0.507448   \n",
       "3734  808  2019-06-02 08:56:56  2019-06-02 08:58:02      0.245731   \n",
       "\n",
       "      reactive_power  \n",
       "3727        0.250064  \n",
       "3728        0.198911  \n",
       "3729        0.474909  \n",
       "3730        0.197667  \n",
       "3731        0.313811  \n",
       "3732        0.729536  \n",
       "3733        0.319619  \n",
       "3734        0.157699  "
      ]
     },
     "metadata": {},
     "output_type": "display_data"
    },
    {
     "data": {
      "text/html": [
       "<div>\n",
       "<style scoped>\n",
       "    .dataframe tbody tr th:only-of-type {\n",
       "        vertical-align: middle;\n",
       "    }\n",
       "\n",
       "    .dataframe tbody tr th {\n",
       "        vertical-align: top;\n",
       "    }\n",
       "\n",
       "    .dataframe thead th {\n",
       "        text-align: right;\n",
       "    }\n",
       "</style>\n",
       "<table border=\"1\" class=\"dataframe\">\n",
       "  <thead>\n",
       "    <tr style=\"text-align: right;\">\n",
       "      <th></th>\n",
       "      <th>key</th>\n",
       "      <th>bulk_1</th>\n",
       "      <th>bulk_2</th>\n",
       "      <th>bulk_3</th>\n",
       "      <th>bulk_4</th>\n",
       "      <th>bulk_5</th>\n",
       "      <th>bulk_6</th>\n",
       "      <th>bulk_7</th>\n",
       "      <th>bulk_8</th>\n",
       "      <th>bulk_9</th>\n",
       "      <th>bulk_10</th>\n",
       "      <th>bulk_11</th>\n",
       "      <th>bulk_12</th>\n",
       "      <th>bulk_13</th>\n",
       "      <th>bulk_14</th>\n",
       "      <th>bulk_15</th>\n",
       "    </tr>\n",
       "  </thead>\n",
       "  <tbody>\n",
       "    <tr>\n",
       "      <th>774</th>\n",
       "      <td>808</td>\n",
       "      <td>NaN</td>\n",
       "      <td>NaN</td>\n",
       "      <td>256.0</td>\n",
       "      <td>NaN</td>\n",
       "      <td>NaN</td>\n",
       "      <td>NaN</td>\n",
       "      <td>NaN</td>\n",
       "      <td>NaN</td>\n",
       "      <td>NaN</td>\n",
       "      <td>NaN</td>\n",
       "      <td>NaN</td>\n",
       "      <td>153.0</td>\n",
       "      <td>NaN</td>\n",
       "      <td>153.0</td>\n",
       "      <td>154.0</td>\n",
       "    </tr>\n",
       "  </tbody>\n",
       "</table>\n",
       "</div>"
      ],
      "text/plain": [
       "     key  bulk_1  bulk_2  bulk_3  bulk_4  bulk_5  bulk_6  bulk_7  bulk_8  \\\n",
       "774  808     NaN     NaN   256.0     NaN     NaN     NaN     NaN     NaN   \n",
       "\n",
       "     bulk_9  bulk_10  bulk_11  bulk_12  bulk_13  bulk_14  bulk_15  \n",
       "774     NaN      NaN      NaN    153.0      NaN    153.0    154.0  "
      ]
     },
     "metadata": {},
     "output_type": "display_data"
    },
    {
     "data": {
      "text/html": [
       "<div>\n",
       "<style scoped>\n",
       "    .dataframe tbody tr th:only-of-type {\n",
       "        vertical-align: middle;\n",
       "    }\n",
       "\n",
       "    .dataframe tbody tr th {\n",
       "        vertical-align: top;\n",
       "    }\n",
       "\n",
       "    .dataframe thead th {\n",
       "        text-align: right;\n",
       "    }\n",
       "</style>\n",
       "<table border=\"1\" class=\"dataframe\">\n",
       "  <thead>\n",
       "    <tr style=\"text-align: right;\">\n",
       "      <th></th>\n",
       "      <th>key</th>\n",
       "      <th>bulk_1</th>\n",
       "      <th>bulk_2</th>\n",
       "      <th>bulk_3</th>\n",
       "      <th>bulk_4</th>\n",
       "      <th>bulk_5</th>\n",
       "      <th>bulk_6</th>\n",
       "      <th>bulk_7</th>\n",
       "      <th>bulk_8</th>\n",
       "      <th>bulk_9</th>\n",
       "      <th>bulk_10</th>\n",
       "      <th>bulk_11</th>\n",
       "      <th>bulk_12</th>\n",
       "      <th>bulk_13</th>\n",
       "      <th>bulk_14</th>\n",
       "      <th>bulk_15</th>\n",
       "    </tr>\n",
       "  </thead>\n",
       "  <tbody>\n",
       "    <tr>\n",
       "      <th>774</th>\n",
       "      <td>808</td>\n",
       "      <td>NaN</td>\n",
       "      <td>NaN</td>\n",
       "      <td>2019-06-02 08:36:22</td>\n",
       "      <td>NaN</td>\n",
       "      <td>NaN</td>\n",
       "      <td>NaN</td>\n",
       "      <td>NaN</td>\n",
       "      <td>NaN</td>\n",
       "      <td>NaN</td>\n",
       "      <td>NaN</td>\n",
       "      <td>NaN</td>\n",
       "      <td>2019-06-02 08:24:14</td>\n",
       "      <td>NaN</td>\n",
       "      <td>2019-06-02 08:24:14</td>\n",
       "      <td>2019-06-02 08:24:14</td>\n",
       "    </tr>\n",
       "  </tbody>\n",
       "</table>\n",
       "</div>"
      ],
      "text/plain": [
       "     key bulk_1 bulk_2               bulk_3 bulk_4 bulk_5 bulk_6 bulk_7  \\\n",
       "774  808    NaN    NaN  2019-06-02 08:36:22    NaN    NaN    NaN    NaN   \n",
       "\n",
       "    bulk_8 bulk_9 bulk_10 bulk_11              bulk_12 bulk_13  \\\n",
       "774    NaN    NaN     NaN     NaN  2019-06-02 08:24:14     NaN   \n",
       "\n",
       "                 bulk_14              bulk_15  \n",
       "774  2019-06-02 08:24:14  2019-06-02 08:24:14  "
      ]
     },
     "metadata": {},
     "output_type": "display_data"
    },
    {
     "data": {
      "text/html": [
       "<div>\n",
       "<style scoped>\n",
       "    .dataframe tbody tr th:only-of-type {\n",
       "        vertical-align: middle;\n",
       "    }\n",
       "\n",
       "    .dataframe tbody tr th {\n",
       "        vertical-align: top;\n",
       "    }\n",
       "\n",
       "    .dataframe thead th {\n",
       "        text-align: right;\n",
       "    }\n",
       "</style>\n",
       "<table border=\"1\" class=\"dataframe\">\n",
       "  <thead>\n",
       "    <tr style=\"text-align: right;\">\n",
       "      <th></th>\n",
       "      <th>key</th>\n",
       "      <th>gas_1</th>\n",
       "    </tr>\n",
       "  </thead>\n",
       "  <tbody>\n",
       "    <tr>\n",
       "      <th>805</th>\n",
       "      <td>808</td>\n",
       "      <td>17.293232</td>\n",
       "    </tr>\n",
       "  </tbody>\n",
       "</table>\n",
       "</div>"
      ],
      "text/plain": [
       "     key      gas_1\n",
       "805  808  17.293232"
      ]
     },
     "metadata": {},
     "output_type": "display_data"
    },
    {
     "data": {
      "text/html": [
       "<div>\n",
       "<style scoped>\n",
       "    .dataframe tbody tr th:only-of-type {\n",
       "        vertical-align: middle;\n",
       "    }\n",
       "\n",
       "    .dataframe tbody tr th {\n",
       "        vertical-align: top;\n",
       "    }\n",
       "\n",
       "    .dataframe thead th {\n",
       "        text-align: right;\n",
       "    }\n",
       "</style>\n",
       "<table border=\"1\" class=\"dataframe\">\n",
       "  <thead>\n",
       "    <tr style=\"text-align: right;\">\n",
       "      <th></th>\n",
       "      <th>key</th>\n",
       "      <th>measurement_time</th>\n",
       "      <th>temperature</th>\n",
       "    </tr>\n",
       "  </thead>\n",
       "  <tbody>\n",
       "    <tr>\n",
       "      <th>4062</th>\n",
       "      <td>808</td>\n",
       "      <td>2019-06-02 08:19:20</td>\n",
       "      <td>1580.0</td>\n",
       "    </tr>\n",
       "    <tr>\n",
       "      <th>4063</th>\n",
       "      <td>808</td>\n",
       "      <td>2019-06-02 08:20:17</td>\n",
       "      <td>1564.0</td>\n",
       "    </tr>\n",
       "    <tr>\n",
       "      <th>4064</th>\n",
       "      <td>808</td>\n",
       "      <td>2019-06-02 08:40:51</td>\n",
       "      <td>1573.0</td>\n",
       "    </tr>\n",
       "    <tr>\n",
       "      <th>4065</th>\n",
       "      <td>808</td>\n",
       "      <td>2019-06-02 08:51:27</td>\n",
       "      <td>1600.0</td>\n",
       "    </tr>\n",
       "    <tr>\n",
       "      <th>4066</th>\n",
       "      <td>808</td>\n",
       "      <td>2019-06-02 08:56:40</td>\n",
       "      <td>1594.0</td>\n",
       "    </tr>\n",
       "    <tr>\n",
       "      <th>4067</th>\n",
       "      <td>808</td>\n",
       "      <td>2019-06-02 08:59:36</td>\n",
       "      <td>1593.0</td>\n",
       "    </tr>\n",
       "  </tbody>\n",
       "</table>\n",
       "</div>"
      ],
      "text/plain": [
       "      key     measurement_time  temperature\n",
       "4062  808  2019-06-02 08:19:20       1580.0\n",
       "4063  808  2019-06-02 08:20:17       1564.0\n",
       "4064  808  2019-06-02 08:40:51       1573.0\n",
       "4065  808  2019-06-02 08:51:27       1600.0\n",
       "4066  808  2019-06-02 08:56:40       1594.0\n",
       "4067  808  2019-06-02 08:59:36       1593.0"
      ]
     },
     "metadata": {},
     "output_type": "display_data"
    },
    {
     "data": {
      "text/html": [
       "<div>\n",
       "<style scoped>\n",
       "    .dataframe tbody tr th:only-of-type {\n",
       "        vertical-align: middle;\n",
       "    }\n",
       "\n",
       "    .dataframe tbody tr th {\n",
       "        vertical-align: top;\n",
       "    }\n",
       "\n",
       "    .dataframe thead th {\n",
       "        text-align: right;\n",
       "    }\n",
       "</style>\n",
       "<table border=\"1\" class=\"dataframe\">\n",
       "  <thead>\n",
       "    <tr style=\"text-align: right;\">\n",
       "      <th></th>\n",
       "      <th>key</th>\n",
       "      <th>wire_1</th>\n",
       "      <th>wire_2</th>\n",
       "      <th>wire_3</th>\n",
       "      <th>wire_4</th>\n",
       "      <th>wire_5</th>\n",
       "      <th>wire_6</th>\n",
       "      <th>wire_7</th>\n",
       "      <th>wire_8</th>\n",
       "      <th>wire_9</th>\n",
       "    </tr>\n",
       "  </thead>\n",
       "  <tbody>\n",
       "    <tr>\n",
       "      <th>755</th>\n",
       "      <td>808</td>\n",
       "      <td>193.377594</td>\n",
       "      <td>NaN</td>\n",
       "      <td>NaN</td>\n",
       "      <td>NaN</td>\n",
       "      <td>NaN</td>\n",
       "      <td>NaN</td>\n",
       "      <td>NaN</td>\n",
       "      <td>NaN</td>\n",
       "      <td>NaN</td>\n",
       "    </tr>\n",
       "  </tbody>\n",
       "</table>\n",
       "</div>"
      ],
      "text/plain": [
       "     key      wire_1  wire_2  wire_3  wire_4  wire_5  wire_6  wire_7  wire_8  \\\n",
       "755  808  193.377594     NaN     NaN     NaN     NaN     NaN     NaN     NaN   \n",
       "\n",
       "     wire_9  \n",
       "755     NaN  "
      ]
     },
     "metadata": {},
     "output_type": "display_data"
    },
    {
     "data": {
      "text/html": [
       "<div>\n",
       "<style scoped>\n",
       "    .dataframe tbody tr th:only-of-type {\n",
       "        vertical-align: middle;\n",
       "    }\n",
       "\n",
       "    .dataframe tbody tr th {\n",
       "        vertical-align: top;\n",
       "    }\n",
       "\n",
       "    .dataframe thead th {\n",
       "        text-align: right;\n",
       "    }\n",
       "</style>\n",
       "<table border=\"1\" class=\"dataframe\">\n",
       "  <thead>\n",
       "    <tr style=\"text-align: right;\">\n",
       "      <th></th>\n",
       "      <th>key</th>\n",
       "      <th>wire_1</th>\n",
       "      <th>wire_2</th>\n",
       "      <th>wire_3</th>\n",
       "      <th>wire_4</th>\n",
       "      <th>wire_5</th>\n",
       "      <th>wire_6</th>\n",
       "      <th>wire_7</th>\n",
       "      <th>wire_8</th>\n",
       "      <th>wire_9</th>\n",
       "    </tr>\n",
       "  </thead>\n",
       "  <tbody>\n",
       "    <tr>\n",
       "      <th>755</th>\n",
       "      <td>808</td>\n",
       "      <td>2019-06-02 08:35:45</td>\n",
       "      <td>NaN</td>\n",
       "      <td>NaN</td>\n",
       "      <td>NaN</td>\n",
       "      <td>NaN</td>\n",
       "      <td>NaN</td>\n",
       "      <td>NaN</td>\n",
       "      <td>NaN</td>\n",
       "      <td>NaN</td>\n",
       "    </tr>\n",
       "  </tbody>\n",
       "</table>\n",
       "</div>"
      ],
      "text/plain": [
       "     key               wire_1 wire_2 wire_3 wire_4 wire_5 wire_6 wire_7  \\\n",
       "755  808  2019-06-02 08:35:45    NaN    NaN    NaN    NaN    NaN    NaN   \n",
       "\n",
       "    wire_8 wire_9  \n",
       "755    NaN    NaN  "
      ]
     },
     "metadata": {},
     "output_type": "display_data"
    }
   ],
   "source": [
    "i = 808\n",
    "display(arc[arc['key'] == i])\n",
    "display(bulk[bulk['key'] == i])\n",
    "display(bulk_time[bulk_time['key'] == i])\n",
    "display(gas[gas['key'] == i])\n",
    "display(temp[temp['key'] == i])\n",
    "display(wire[wire['key'] == i])\n",
    "display(wire_time[wire_time['key'] == i])"
   ]
  },
  {
   "cell_type": "markdown",
   "id": "8c5647e2",
   "metadata": {},
   "source": [
    "## Выводы. Вопросы. Предлагаемый план"
   ]
  },
  {
   "cell_type": "markdown",
   "id": "9fdbd501",
   "metadata": {},
   "source": [
    "### Выводы:"
   ]
  },
  {
   "cell_type": "markdown",
   "id": "49922e70",
   "metadata": {},
   "source": [
    "- Обнаружены следующие особенности, требуещие уточнений или корректировки: отрицательное значение реактивной мощности по одной из партий, 8 значение замерянной температуры ниже порока в 1500C, отсутствие замеров температуры, кроме первого, по всем партиям начиная с 2500.\n",
    "- В разных файлах разное количество уникальных партий. Минимальное в wire."
   ]
  },
  {
   "cell_type": "markdown",
   "id": "ac1a308a",
   "metadata": {},
   "source": [
    "### План работы:"
   ]
  },
  {
   "cell_type": "markdown",
   "id": "2b0111c8",
   "metadata": {},
   "source": [
    "<b>1. Предобработка данных</b>\n",
    "- По согласованию с заказчиком: удалим данны по партиям начиная с индекса 2500; по партиям, со значениями темератур ниже 1500; с отрицательной реактивной мощностью; партии с единственным замером темературы.\n",
    "- В таблицах об объемах добавляемых легирующих элементов заменим пропуски на 0.\n",
    "- В качестве целевого признака используем последнюю из измеренных температур по каждой партии. \n",
    "- В качестве дополнительных признаков выделим: первый замер температуры каждой из партий; продолжнительность нагрева; количество циклов нагрева.\n",
    "- Полученные таблицы объединим в единую по индексу партии. \n",
    "\n",
    "<b>2. Подготовка к обучению, обучение, выбор лучше модели</b>\n",
    "- Разделим новый датафрейм на обучающую и тестовую выборки.\n",
    "- Анализ корреляции между признаками.\n",
    "- Для сравнения и выбора наиболее точной модели выбирем Линейную регрессию, Случайный лес, Catboost.\n",
    "- Для обучения линейных моделей приведем данные к одному масштабу.\n",
    "- Подбор гиперпараметров с применением инструментов GridSearchCV либо RandomSearchCV.\n",
    "- Сравнение полученной модели с результатами Dummy-модели.\n",
    "- Исследование важности признаков.\n",
    "\n",
    "<b>3. Тестирование модели</b>\n",
    "- Проверить результат предсказаний выбранной модели на тестовых данных.\n",
    "\n",
    "<b>4. Отчет</b>\n",
    "- Описание процесса подготовки данных, выбранной модели, выбранных гиперпараметров."
   ]
  },
  {
   "cell_type": "markdown",
   "id": "77c8ae24",
   "metadata": {},
   "source": [
    "## Предобработка данных"
   ]
  },
  {
   "cell_type": "markdown",
   "id": "7ff602b3",
   "metadata": {},
   "source": [
    "### Удаление некорректных данных, генерация новых признаков, объединение признаков в одну таблицу"
   ]
  },
  {
   "cell_type": "code",
   "execution_count": 51,
   "id": "313b9049",
   "metadata": {},
   "outputs": [],
   "source": [
    "# Удаляем партии с отрицательной мощностью, индексами от 2500, а так же с однократными измерениями температуры.\n",
    "arc = arc.drop(arc[arc['key'] == 2116].index)\n",
    "arc = arc.drop(arc[arc['key'] >= 2500].index)\n",
    "arc = arc.drop(arc[(arc['key'] == 195) | (arc['key'] == 279)].index)"
   ]
  },
  {
   "cell_type": "code",
   "execution_count": 52,
   "id": "f99fa151",
   "metadata": {},
   "outputs": [],
   "source": [
    "arc['start_of_heating'] = pd.to_datetime(arc['start_of_heating'])\n",
    "arc['end_of_heating'] = pd.to_datetime(arc['end_of_heating'])\n",
    "arc['heating_time'] = arc['end_of_heating'] - arc['start_of_heating']"
   ]
  },
  {
   "cell_type": "code",
   "execution_count": 53,
   "id": "cf2e6c04",
   "metadata": {},
   "outputs": [
    {
     "data": {
      "text/html": [
       "<div>\n",
       "<style scoped>\n",
       "    .dataframe tbody tr th:only-of-type {\n",
       "        vertical-align: middle;\n",
       "    }\n",
       "\n",
       "    .dataframe tbody tr th {\n",
       "        vertical-align: top;\n",
       "    }\n",
       "\n",
       "    .dataframe thead th {\n",
       "        text-align: right;\n",
       "    }\n",
       "</style>\n",
       "<table border=\"1\" class=\"dataframe\">\n",
       "  <thead>\n",
       "    <tr style=\"text-align: right;\">\n",
       "      <th></th>\n",
       "      <th>mean_active_power</th>\n",
       "      <th>mean_reactive_power</th>\n",
       "      <th>number_of_heatings</th>\n",
       "      <th>heating_duration</th>\n",
       "      <th>time_without_heating</th>\n",
       "    </tr>\n",
       "    <tr>\n",
       "      <th>key</th>\n",
       "      <th></th>\n",
       "      <th></th>\n",
       "      <th></th>\n",
       "      <th></th>\n",
       "      <th></th>\n",
       "    </tr>\n",
       "  </thead>\n",
       "  <tbody>\n",
       "    <tr>\n",
       "      <th>1</th>\n",
       "      <td>0.975629</td>\n",
       "      <td>0.636648</td>\n",
       "      <td>5</td>\n",
       "      <td>1098.0</td>\n",
       "      <td>485.0</td>\n",
       "    </tr>\n",
       "    <tr>\n",
       "      <th>2</th>\n",
       "      <td>0.763150</td>\n",
       "      <td>0.499528</td>\n",
       "      <td>4</td>\n",
       "      <td>811.0</td>\n",
       "      <td>333.0</td>\n",
       "    </tr>\n",
       "    <tr>\n",
       "      <th>3</th>\n",
       "      <td>0.505176</td>\n",
       "      <td>0.319815</td>\n",
       "      <td>5</td>\n",
       "      <td>655.0</td>\n",
       "      <td>870.0</td>\n",
       "    </tr>\n",
       "    <tr>\n",
       "      <th>4</th>\n",
       "      <td>0.802313</td>\n",
       "      <td>0.515074</td>\n",
       "      <td>4</td>\n",
       "      <td>741.0</td>\n",
       "      <td>352.0</td>\n",
       "    </tr>\n",
       "    <tr>\n",
       "      <th>5</th>\n",
       "      <td>0.836793</td>\n",
       "      <td>0.563161</td>\n",
       "      <td>4</td>\n",
       "      <td>869.0</td>\n",
       "      <td>493.0</td>\n",
       "    </tr>\n",
       "  </tbody>\n",
       "</table>\n",
       "</div>"
      ],
      "text/plain": [
       "     mean_active_power  mean_reactive_power  number_of_heatings  \\\n",
       "key                                                               \n",
       "1             0.975629             0.636648                   5   \n",
       "2             0.763150             0.499528                   4   \n",
       "3             0.505176             0.319815                   5   \n",
       "4             0.802313             0.515074                   4   \n",
       "5             0.836793             0.563161                   4   \n",
       "\n",
       "     heating_duration  time_without_heating  \n",
       "key                                          \n",
       "1              1098.0                 485.0  \n",
       "2               811.0                 333.0  \n",
       "3               655.0                 870.0  \n",
       "4               741.0                 352.0  \n",
       "5               869.0                 493.0  "
      ]
     },
     "execution_count": 53,
     "metadata": {},
     "output_type": "execute_result"
    }
   ],
   "source": [
    "# Выедлим следующие признаки: суммарныя активная и реактивная мощность по каждой партии, количество и продолжительность нагревов в партии, \n",
    "arc = arc.groupby('key').agg(\n",
    "    start_party=pd.NamedAgg(column='start_of_heating', aggfunc='min'),\n",
    "    end_party=pd.NamedAgg(column='end_of_heating', aggfunc='max'),\n",
    "    mean_active_power=pd.NamedAgg(column='active_power', aggfunc='mean'),\n",
    "    mean_reactive_power=pd.NamedAgg(column='reactive_power', aggfunc='mean'),\n",
    "    number_of_heatings=pd.NamedAgg(column='key', aggfunc='count'),\n",
    "    heating_duration=pd.NamedAgg(column='heating_time', aggfunc='sum'))\n",
    "\n",
    "arc['time_without_heating'] = arc['end_party'] - arc['start_party'] - arc['heating_duration']\n",
    "arc['time_without_heating'] = arc['time_without_heating'].dt.total_seconds()\n",
    "arc['heating_duration'] = arc['heating_duration'].dt.total_seconds()\n",
    "\n",
    "arc = arc.drop(['start_party', 'end_party'], axis=1)\n",
    "arc.head()"
   ]
  },
  {
   "cell_type": "code",
   "execution_count": 54,
   "id": "295fc792",
   "metadata": {},
   "outputs": [],
   "source": [
    "# Заменяем пропуски нулями\n",
    "bulk = bulk.fillna(0)\n",
    "wire = wire.fillna(0)"
   ]
  },
  {
   "cell_type": "code",
   "execution_count": 55,
   "id": "65ce1ee9",
   "metadata": {},
   "outputs": [
    {
     "data": {
      "text/html": [
       "<div>\n",
       "<style scoped>\n",
       "    .dataframe tbody tr th:only-of-type {\n",
       "        vertical-align: middle;\n",
       "    }\n",
       "\n",
       "    .dataframe tbody tr th {\n",
       "        vertical-align: top;\n",
       "    }\n",
       "\n",
       "    .dataframe thead th {\n",
       "        text-align: right;\n",
       "    }\n",
       "</style>\n",
       "<table border=\"1\" class=\"dataframe\">\n",
       "  <thead>\n",
       "    <tr style=\"text-align: right;\">\n",
       "      <th></th>\n",
       "      <th>key</th>\n",
       "      <th>temperature</th>\n",
       "    </tr>\n",
       "  </thead>\n",
       "  <tbody>\n",
       "    <tr>\n",
       "      <th>0</th>\n",
       "      <td>1</td>\n",
       "      <td>1613.0</td>\n",
       "    </tr>\n",
       "    <tr>\n",
       "      <th>1</th>\n",
       "      <td>2</td>\n",
       "      <td>1602.0</td>\n",
       "    </tr>\n",
       "    <tr>\n",
       "      <th>2</th>\n",
       "      <td>3</td>\n",
       "      <td>1599.0</td>\n",
       "    </tr>\n",
       "    <tr>\n",
       "      <th>3</th>\n",
       "      <td>4</td>\n",
       "      <td>1625.0</td>\n",
       "    </tr>\n",
       "    <tr>\n",
       "      <th>4</th>\n",
       "      <td>5</td>\n",
       "      <td>1602.0</td>\n",
       "    </tr>\n",
       "  </tbody>\n",
       "</table>\n",
       "</div>"
      ],
      "text/plain": [
       "   key  temperature\n",
       "0    1       1613.0\n",
       "1    2       1602.0\n",
       "2    3       1599.0\n",
       "3    4       1625.0\n",
       "4    5       1602.0"
      ]
     },
     "execution_count": 55,
     "metadata": {},
     "output_type": "execute_result"
    }
   ],
   "source": [
    "# Удаляем партии, в которых были обнаружены значения температуры ниже 1500\n",
    "keys_1500 = temp[temp['temperature'] < 1500]['key'].to_list()\n",
    "temp = temp.drop(temp[temp['key'].isin(keys_1500)].index)\n",
    "\n",
    "# Удаляем партии с отрицательной мощностью, индексами от 2500, а так же с однократными измерениями температуры.\n",
    "temp = temp.drop(temp[(temp['key'] == 2116) | (temp['key'] == 195) | (temp['key'] == 279) | (temp['key'] >= 2500)].index)\n",
    "\n",
    "# Используя промежуточне таблицы выделяем первую измеренную температуру каждой партии как дополнительный признак\n",
    "tmp_temp = temp.sort_values(['key', 'measurement_time'], ascending=True)\n",
    "min_idx = tmp_temp.index.to_series().groupby(tmp_temp['key']).agg('first')\n",
    "\n",
    "# ...и последнюю, как целевой признак.\n",
    "tmp_temp = temp.sort_values(['key', 'measurement_time'], ascending=False)\n",
    "max_idx = tmp_temp.index.to_series().groupby(tmp_temp['key']).agg('first')\n",
    "\n",
    "target = temp.loc[max_idx].drop('measurement_time', axis=1).reset_index(drop=True)\n",
    "target.head()"
   ]
  },
  {
   "cell_type": "code",
   "execution_count": 56,
   "id": "7dd55883",
   "metadata": {},
   "outputs": [
    {
     "data": {
      "text/html": [
       "<div>\n",
       "<style scoped>\n",
       "    .dataframe tbody tr th:only-of-type {\n",
       "        vertical-align: middle;\n",
       "    }\n",
       "\n",
       "    .dataframe tbody tr th {\n",
       "        vertical-align: top;\n",
       "    }\n",
       "\n",
       "    .dataframe thead th {\n",
       "        text-align: right;\n",
       "    }\n",
       "</style>\n",
       "<table border=\"1\" class=\"dataframe\">\n",
       "  <thead>\n",
       "    <tr style=\"text-align: right;\">\n",
       "      <th></th>\n",
       "      <th>key</th>\n",
       "      <th>temperature</th>\n",
       "    </tr>\n",
       "  </thead>\n",
       "  <tbody>\n",
       "    <tr>\n",
       "      <th>0</th>\n",
       "      <td>1</td>\n",
       "      <td>1571.0</td>\n",
       "    </tr>\n",
       "    <tr>\n",
       "      <th>1</th>\n",
       "      <td>2</td>\n",
       "      <td>1581.0</td>\n",
       "    </tr>\n",
       "    <tr>\n",
       "      <th>2</th>\n",
       "      <td>3</td>\n",
       "      <td>1596.0</td>\n",
       "    </tr>\n",
       "    <tr>\n",
       "      <th>3</th>\n",
       "      <td>4</td>\n",
       "      <td>1601.0</td>\n",
       "    </tr>\n",
       "    <tr>\n",
       "      <th>4</th>\n",
       "      <td>5</td>\n",
       "      <td>1576.0</td>\n",
       "    </tr>\n",
       "  </tbody>\n",
       "</table>\n",
       "</div>"
      ],
      "text/plain": [
       "   key  temperature\n",
       "0    1       1571.0\n",
       "1    2       1581.0\n",
       "2    3       1596.0\n",
       "3    4       1601.0\n",
       "4    5       1576.0"
      ]
     },
     "execution_count": 56,
     "metadata": {},
     "output_type": "execute_result"
    }
   ],
   "source": [
    "temp_features = temp.loc[min_idx].drop('measurement_time', axis=1).reset_index(drop=True)\n",
    "temp_features.head()"
   ]
  },
  {
   "cell_type": "code",
   "execution_count": 57,
   "id": "32d838bf",
   "metadata": {
    "scrolled": true
   },
   "outputs": [
    {
     "data": {
      "text/html": [
       "<div>\n",
       "<style scoped>\n",
       "    .dataframe tbody tr th:only-of-type {\n",
       "        vertical-align: middle;\n",
       "    }\n",
       "\n",
       "    .dataframe tbody tr th {\n",
       "        vertical-align: top;\n",
       "    }\n",
       "\n",
       "    .dataframe thead th {\n",
       "        text-align: right;\n",
       "    }\n",
       "</style>\n",
       "<table border=\"1\" class=\"dataframe\">\n",
       "  <thead>\n",
       "    <tr style=\"text-align: right;\">\n",
       "      <th></th>\n",
       "      <th>mean_active_power</th>\n",
       "      <th>mean_reactive_power</th>\n",
       "      <th>number_of_heatings</th>\n",
       "      <th>heating_duration</th>\n",
       "      <th>time_without_heating</th>\n",
       "      <th>bulk_1</th>\n",
       "      <th>bulk_2</th>\n",
       "      <th>bulk_3</th>\n",
       "      <th>bulk_4</th>\n",
       "      <th>bulk_5</th>\n",
       "      <th>...</th>\n",
       "      <th>wire_3</th>\n",
       "      <th>wire_4</th>\n",
       "      <th>wire_5</th>\n",
       "      <th>wire_6</th>\n",
       "      <th>wire_7</th>\n",
       "      <th>wire_8</th>\n",
       "      <th>wire_9</th>\n",
       "      <th>gas_1</th>\n",
       "      <th>temperature_x</th>\n",
       "      <th>temperature_y</th>\n",
       "    </tr>\n",
       "  </thead>\n",
       "  <tbody>\n",
       "    <tr>\n",
       "      <th>0</th>\n",
       "      <td>0.975629</td>\n",
       "      <td>0.636648</td>\n",
       "      <td>5</td>\n",
       "      <td>1098.0</td>\n",
       "      <td>485.0</td>\n",
       "      <td>0.0</td>\n",
       "      <td>0.0</td>\n",
       "      <td>0.0</td>\n",
       "      <td>43.0</td>\n",
       "      <td>0.0</td>\n",
       "      <td>...</td>\n",
       "      <td>0.0</td>\n",
       "      <td>0.0</td>\n",
       "      <td>0.0</td>\n",
       "      <td>0.0</td>\n",
       "      <td>0.0</td>\n",
       "      <td>0.0</td>\n",
       "      <td>0.0</td>\n",
       "      <td>29.749986</td>\n",
       "      <td>1571.0</td>\n",
       "      <td>1613.0</td>\n",
       "    </tr>\n",
       "    <tr>\n",
       "      <th>1</th>\n",
       "      <td>0.763150</td>\n",
       "      <td>0.499528</td>\n",
       "      <td>4</td>\n",
       "      <td>811.0</td>\n",
       "      <td>333.0</td>\n",
       "      <td>0.0</td>\n",
       "      <td>0.0</td>\n",
       "      <td>0.0</td>\n",
       "      <td>73.0</td>\n",
       "      <td>0.0</td>\n",
       "      <td>...</td>\n",
       "      <td>0.0</td>\n",
       "      <td>0.0</td>\n",
       "      <td>0.0</td>\n",
       "      <td>0.0</td>\n",
       "      <td>0.0</td>\n",
       "      <td>0.0</td>\n",
       "      <td>0.0</td>\n",
       "      <td>12.555561</td>\n",
       "      <td>1581.0</td>\n",
       "      <td>1602.0</td>\n",
       "    </tr>\n",
       "    <tr>\n",
       "      <th>2</th>\n",
       "      <td>0.505176</td>\n",
       "      <td>0.319815</td>\n",
       "      <td>5</td>\n",
       "      <td>655.0</td>\n",
       "      <td>870.0</td>\n",
       "      <td>0.0</td>\n",
       "      <td>0.0</td>\n",
       "      <td>0.0</td>\n",
       "      <td>34.0</td>\n",
       "      <td>0.0</td>\n",
       "      <td>...</td>\n",
       "      <td>0.0</td>\n",
       "      <td>0.0</td>\n",
       "      <td>0.0</td>\n",
       "      <td>0.0</td>\n",
       "      <td>0.0</td>\n",
       "      <td>0.0</td>\n",
       "      <td>0.0</td>\n",
       "      <td>28.554793</td>\n",
       "      <td>1596.0</td>\n",
       "      <td>1599.0</td>\n",
       "    </tr>\n",
       "    <tr>\n",
       "      <th>3</th>\n",
       "      <td>0.802313</td>\n",
       "      <td>0.515074</td>\n",
       "      <td>4</td>\n",
       "      <td>741.0</td>\n",
       "      <td>352.0</td>\n",
       "      <td>0.0</td>\n",
       "      <td>0.0</td>\n",
       "      <td>0.0</td>\n",
       "      <td>81.0</td>\n",
       "      <td>0.0</td>\n",
       "      <td>...</td>\n",
       "      <td>0.0</td>\n",
       "      <td>0.0</td>\n",
       "      <td>0.0</td>\n",
       "      <td>0.0</td>\n",
       "      <td>0.0</td>\n",
       "      <td>0.0</td>\n",
       "      <td>0.0</td>\n",
       "      <td>18.841219</td>\n",
       "      <td>1601.0</td>\n",
       "      <td>1625.0</td>\n",
       "    </tr>\n",
       "    <tr>\n",
       "      <th>4</th>\n",
       "      <td>0.836793</td>\n",
       "      <td>0.563161</td>\n",
       "      <td>4</td>\n",
       "      <td>869.0</td>\n",
       "      <td>493.0</td>\n",
       "      <td>0.0</td>\n",
       "      <td>0.0</td>\n",
       "      <td>0.0</td>\n",
       "      <td>78.0</td>\n",
       "      <td>0.0</td>\n",
       "      <td>...</td>\n",
       "      <td>0.0</td>\n",
       "      <td>0.0</td>\n",
       "      <td>0.0</td>\n",
       "      <td>0.0</td>\n",
       "      <td>0.0</td>\n",
       "      <td>0.0</td>\n",
       "      <td>0.0</td>\n",
       "      <td>5.413692</td>\n",
       "      <td>1576.0</td>\n",
       "      <td>1602.0</td>\n",
       "    </tr>\n",
       "  </tbody>\n",
       "</table>\n",
       "<p>5 rows × 32 columns</p>\n",
       "</div>"
      ],
      "text/plain": [
       "   mean_active_power  mean_reactive_power  number_of_heatings  \\\n",
       "0           0.975629             0.636648                   5   \n",
       "1           0.763150             0.499528                   4   \n",
       "2           0.505176             0.319815                   5   \n",
       "3           0.802313             0.515074                   4   \n",
       "4           0.836793             0.563161                   4   \n",
       "\n",
       "   heating_duration  time_without_heating  bulk_1  bulk_2  bulk_3  bulk_4  \\\n",
       "0            1098.0                 485.0     0.0     0.0     0.0    43.0   \n",
       "1             811.0                 333.0     0.0     0.0     0.0    73.0   \n",
       "2             655.0                 870.0     0.0     0.0     0.0    34.0   \n",
       "3             741.0                 352.0     0.0     0.0     0.0    81.0   \n",
       "4             869.0                 493.0     0.0     0.0     0.0    78.0   \n",
       "\n",
       "   bulk_5  ...  wire_3  wire_4  wire_5  wire_6  wire_7  wire_8  wire_9  \\\n",
       "0     0.0  ...     0.0     0.0     0.0     0.0     0.0     0.0     0.0   \n",
       "1     0.0  ...     0.0     0.0     0.0     0.0     0.0     0.0     0.0   \n",
       "2     0.0  ...     0.0     0.0     0.0     0.0     0.0     0.0     0.0   \n",
       "3     0.0  ...     0.0     0.0     0.0     0.0     0.0     0.0     0.0   \n",
       "4     0.0  ...     0.0     0.0     0.0     0.0     0.0     0.0     0.0   \n",
       "\n",
       "       gas_1  temperature_x  temperature_y  \n",
       "0  29.749986         1571.0         1613.0  \n",
       "1  12.555561         1581.0         1602.0  \n",
       "2  28.554793         1596.0         1599.0  \n",
       "3  18.841219         1601.0         1625.0  \n",
       "4   5.413692         1576.0         1602.0  \n",
       "\n",
       "[5 rows x 32 columns]"
      ]
     },
     "execution_count": 57,
     "metadata": {},
     "output_type": "execute_result"
    }
   ],
   "source": [
    "features = (\n",
    "    arc\n",
    " .merge(bulk, how='inner', on='key')\n",
    " .merge(wire, how='inner', on='key')\n",
    " .merge(gas, how='inner', on='key')\n",
    " .merge(temp_features, how='inner', on='key')\n",
    " .merge(target, how='inner', on='key')\n",
    ")\n",
    "features = features.drop('key', axis=1)\n",
    "features.head()"
   ]
  },
  {
   "cell_type": "markdown",
   "id": "6325d568",
   "metadata": {},
   "source": [
    "### Визуализация полученных данных"
   ]
  },
  {
   "cell_type": "code",
   "execution_count": 58,
   "id": "1d79ac81",
   "metadata": {},
   "outputs": [
    {
     "data": {
      "image/png": "[encoded data removed]",
      "text/plain": [
       "<Figure size 1152x432 with 1 Axes>"
      ]
     },
     "metadata": {
      "needs_background": "light"
     },
     "output_type": "display_data"
    }
   ],
   "source": [
    "plt.figure(figsize=(16, 6))\n",
    "plt.title('Распределение суммарных затрат мощности по партиям')\n",
    "plt.xlabel('Значение мощности')\n",
    "plt.ylabel('Число партий')\n",
    "_ = plt.hist(features['mean_active_power'], bins=100)\n",
    "_ = plt.hist(features['mean_reactive_power'], bins=100)"
   ]
  },
  {
   "cell_type": "code",
   "execution_count": 59,
   "id": "30713587",
   "metadata": {},
   "outputs": [
    {
     "data": {
      "image/png": "[encoded data removed]",
      "text/plain": [
       "<Figure size 1152x432 with 1 Axes>"
      ]
     },
     "metadata": {
      "needs_background": "light"
     },
     "output_type": "display_data"
    }
   ],
   "source": [
    "plt.figure(figsize=(16, 6))\n",
    "plt.title('Распределение продолжительности нагрева')\n",
    "plt.xlabel('Продолжительность этапа нагрева')\n",
    "plt.ylabel('Число партий')\n",
    "_ = plt.hist(features['heating_duration'], bins=100)"
   ]
  },
  {
   "cell_type": "code",
   "execution_count": 60,
   "id": "7c12581c",
   "metadata": {},
   "outputs": [
    {
     "data": {
      "image/png": "[encoded data removed]",
      "text/plain": [
       "<Figure size 1152x432 with 1 Axes>"
      ]
     },
     "metadata": {
      "needs_background": "light"
     },
     "output_type": "display_data"
    }
   ],
   "source": [
    "plt.figure(figsize=(16, 6))\n",
    "plt.title('Распределение продолжительности пауз между нагревами одной партии')\n",
    "plt.xlabel('Продолжительность паузы')\n",
    "plt.ylabel('Число партий')\n",
    "_ = plt.hist(features['time_without_heating'], bins=100)"
   ]
  },
  {
   "cell_type": "code",
   "execution_count": 61,
   "id": "234129b2",
   "metadata": {},
   "outputs": [
    {
     "data": {
      "image/png": "[encoded data removed]",
      "text/plain": [
       "<Figure size 1152x432 with 1 Axes>"
      ]
     },
     "metadata": {
      "needs_background": "light"
     },
     "output_type": "display_data"
    }
   ],
   "source": [
    "plt.figure(figsize=(16, 6))\n",
    "plt.title('Распределение объемов использованного инертного газа')\n",
    "plt.xlabel('Объем газа')\n",
    "plt.ylabel('Число партий')\n",
    "_ = plt.hist(features['gas_1'], bins=100)"
   ]
  },
  {
   "cell_type": "code",
   "execution_count": 62,
   "id": "022ed7f3",
   "metadata": {},
   "outputs": [
    {
     "data": {
      "image/png": "[encoded data removed]",
      "text/plain": [
       "<Figure size 1152x432 with 1 Axes>"
      ]
     },
     "metadata": {
      "needs_background": "light"
     },
     "output_type": "display_data"
    }
   ],
   "source": [
    "plt.figure(figsize=(16, 6))\n",
    "plt.title('Распределение начальной температуры')\n",
    "plt.xlabel('Начальная температура сплава')\n",
    "plt.ylabel('Число партий')\n",
    "_ = plt.hist(features['temperature_x'], bins=100)"
   ]
  },
  {
   "cell_type": "code",
   "execution_count": 63,
   "id": "a0a4bd64",
   "metadata": {},
   "outputs": [
    {
     "data": {
      "image/png": "[encoded data removed]",
      "text/plain": [
       "<Figure size 1152x432 with 1 Axes>"
      ]
     },
     "metadata": {
      "needs_background": "light"
     },
     "output_type": "display_data"
    }
   ],
   "source": [
    "plt.figure(figsize=(16, 6))\n",
    "plt.title('Распределение конечной температуры')\n",
    "plt.xlabel('Конечная температура температура сплава')\n",
    "plt.ylabel('Число партий')\n",
    "_ = plt.hist(features['temperature_y'], bins=100)"
   ]
  },
  {
   "cell_type": "markdown",
   "id": "324c9287",
   "metadata": {},
   "source": [
    "### Корреляция признаков"
   ]
  },
  {
   "cell_type": "code",
   "execution_count": 67,
   "id": "ac9e326c",
   "metadata": {},
   "outputs": [
    {
     "data": {
      "text/plain": [
       "<AxesSubplot:>"
      ]
     },
     "execution_count": 67,
     "metadata": {},
     "output_type": "execute_result"
    },
    {
     "data": {
      "image/png": "[encoded data removed]",
      "text/plain": [
       "<Figure size 1296x1080 with 2 Axes>"
      ]
     },
     "metadata": {
      "needs_background": "light"
     },
     "output_type": "display_data"
    }
   ],
   "source": [
    "plt.figure(figsize=(18,15))\n",
    "sns.heatmap(features.corr(method='spearman').round(2), annot=True)"
   ]
  },
  {
   "cell_type": "markdown",
   "id": "b40619ce",
   "metadata": {},
   "source": [
    "Наибольшая корреляция наблюдается между такими признаками как мощность, количество циклов нагрева, продолжительность нагрева. Выражена обратная корреляция между первоначальной температурой и затраченной мощностью и продолжительностью нагрева. Что понятно: недостаточно нагретый сплав требует больше ресурсов на доведение до необходимой температуры. Видны точечные связи в использовании некоторых легирующих добавок. Проволока wire_5 требует отдельного внимания."
   ]
  },
  {
   "cell_type": "code",
   "execution_count": 27,
   "id": "e28aab0b",
   "metadata": {
    "scrolled": true
   },
   "outputs": [
    {
     "data": {
      "text/plain": [
       "count    2324.0\n",
       "mean        0.0\n",
       "std         0.0\n",
       "min         0.0\n",
       "25%         0.0\n",
       "50%         0.0\n",
       "75%         0.0\n",
       "max         0.0\n",
       "Name: wire_5, dtype: float64"
      ]
     },
     "execution_count": 27,
     "metadata": {},
     "output_type": "execute_result"
    }
   ],
   "source": [
    "features['wire_5'].describe()"
   ]
  },
  {
   "cell_type": "code",
   "execution_count": 28,
   "id": "f26441bd",
   "metadata": {},
   "outputs": [
    {
     "data": {
      "text/html": [
       "<div>\n",
       "<style scoped>\n",
       "    .dataframe tbody tr th:only-of-type {\n",
       "        vertical-align: middle;\n",
       "    }\n",
       "\n",
       "    .dataframe tbody tr th {\n",
       "        vertical-align: top;\n",
       "    }\n",
       "\n",
       "    .dataframe thead th {\n",
       "        text-align: right;\n",
       "    }\n",
       "</style>\n",
       "<table border=\"1\" class=\"dataframe\">\n",
       "  <thead>\n",
       "    <tr style=\"text-align: right;\">\n",
       "      <th></th>\n",
       "      <th>key</th>\n",
       "      <th>wire_1</th>\n",
       "      <th>wire_2</th>\n",
       "      <th>wire_3</th>\n",
       "      <th>wire_4</th>\n",
       "      <th>wire_5</th>\n",
       "      <th>wire_6</th>\n",
       "      <th>wire_7</th>\n",
       "      <th>wire_8</th>\n",
       "      <th>wire_9</th>\n",
       "    </tr>\n",
       "  </thead>\n",
       "  <tbody>\n",
       "    <tr>\n",
       "      <th>2440</th>\n",
       "      <td>2567</td>\n",
       "      <td>18.30192</td>\n",
       "      <td>0.0</td>\n",
       "      <td>96.288193</td>\n",
       "      <td>0.0</td>\n",
       "      <td>15.132</td>\n",
       "      <td>73.307526</td>\n",
       "      <td>0.0</td>\n",
       "      <td>0.0</td>\n",
       "      <td>0.0</td>\n",
       "    </tr>\n",
       "  </tbody>\n",
       "</table>\n",
       "</div>"
      ],
      "text/plain": [
       "       key    wire_1  wire_2     wire_3  wire_4  wire_5     wire_6  wire_7  \\\n",
       "2440  2567  18.30192     0.0  96.288193     0.0  15.132  73.307526     0.0   \n",
       "\n",
       "      wire_8  wire_9  \n",
       "2440     0.0     0.0  "
      ]
     },
     "execution_count": 28,
     "metadata": {},
     "output_type": "execute_result"
    }
   ],
   "source": [
    "wire[wire['wire_5'] > 0]"
   ]
  },
  {
   "cell_type": "markdown",
   "id": "4a6c8fd1",
   "metadata": {},
   "source": [
    "Во всем датасете данная проволка применялась единожды, причем в партии, оставленной заказчиком для тестирования модели. \n",
    "Видимо стоит обратить внимание заказчика на необходимость большего количества данных с применением данного вида проволоки. Т.к. при имеющихся данных наша модель не будет способна предсказать выходные значения при появлении партий с использованием проволки №5.\n",
    "\n",
    "Т.к. ни осталось ни одной партии с использованием такой проволоки, следует удалить этот столбец из признаков. "
   ]
  },
  {
   "cell_type": "code",
   "execution_count": 29,
   "id": "8acfc500",
   "metadata": {},
   "outputs": [
    {
     "data": {
      "text/html": [
       "<div>\n",
       "<style scoped>\n",
       "    .dataframe tbody tr th:only-of-type {\n",
       "        vertical-align: middle;\n",
       "    }\n",
       "\n",
       "    .dataframe tbody tr th {\n",
       "        vertical-align: top;\n",
       "    }\n",
       "\n",
       "    .dataframe thead th {\n",
       "        text-align: right;\n",
       "    }\n",
       "</style>\n",
       "<table border=\"1\" class=\"dataframe\">\n",
       "  <thead>\n",
       "    <tr style=\"text-align: right;\">\n",
       "      <th></th>\n",
       "      <th>mean_active_power</th>\n",
       "      <th>mean_reactive_power</th>\n",
       "      <th>number_of_heatings</th>\n",
       "      <th>heating_duration</th>\n",
       "      <th>time_without_heating</th>\n",
       "      <th>bulk_1</th>\n",
       "      <th>bulk_2</th>\n",
       "      <th>bulk_3</th>\n",
       "      <th>bulk_4</th>\n",
       "      <th>bulk_5</th>\n",
       "      <th>...</th>\n",
       "      <th>wire_2</th>\n",
       "      <th>wire_3</th>\n",
       "      <th>wire_4</th>\n",
       "      <th>wire_6</th>\n",
       "      <th>wire_7</th>\n",
       "      <th>wire_8</th>\n",
       "      <th>wire_9</th>\n",
       "      <th>gas_1</th>\n",
       "      <th>temperature_x</th>\n",
       "      <th>temperature_y</th>\n",
       "    </tr>\n",
       "  </thead>\n",
       "  <tbody>\n",
       "    <tr>\n",
       "      <th>0</th>\n",
       "      <td>0.975629</td>\n",
       "      <td>0.636648</td>\n",
       "      <td>5</td>\n",
       "      <td>1098.0</td>\n",
       "      <td>485.0</td>\n",
       "      <td>0.0</td>\n",
       "      <td>0.0</td>\n",
       "      <td>0.0</td>\n",
       "      <td>43.0</td>\n",
       "      <td>0.0</td>\n",
       "      <td>...</td>\n",
       "      <td>0.0</td>\n",
       "      <td>0.0</td>\n",
       "      <td>0.0</td>\n",
       "      <td>0.0</td>\n",
       "      <td>0.0</td>\n",
       "      <td>0.0</td>\n",
       "      <td>0.0</td>\n",
       "      <td>29.749986</td>\n",
       "      <td>1571.0</td>\n",
       "      <td>1613.0</td>\n",
       "    </tr>\n",
       "    <tr>\n",
       "      <th>1</th>\n",
       "      <td>0.763150</td>\n",
       "      <td>0.499528</td>\n",
       "      <td>4</td>\n",
       "      <td>811.0</td>\n",
       "      <td>333.0</td>\n",
       "      <td>0.0</td>\n",
       "      <td>0.0</td>\n",
       "      <td>0.0</td>\n",
       "      <td>73.0</td>\n",
       "      <td>0.0</td>\n",
       "      <td>...</td>\n",
       "      <td>0.0</td>\n",
       "      <td>0.0</td>\n",
       "      <td>0.0</td>\n",
       "      <td>0.0</td>\n",
       "      <td>0.0</td>\n",
       "      <td>0.0</td>\n",
       "      <td>0.0</td>\n",
       "      <td>12.555561</td>\n",
       "      <td>1581.0</td>\n",
       "      <td>1602.0</td>\n",
       "    </tr>\n",
       "  </tbody>\n",
       "</table>\n",
       "<p>2 rows × 31 columns</p>\n",
       "</div>"
      ],
      "text/plain": [
       "   mean_active_power  mean_reactive_power  number_of_heatings  \\\n",
       "0           0.975629             0.636648                   5   \n",
       "1           0.763150             0.499528                   4   \n",
       "\n",
       "   heating_duration  time_without_heating  bulk_1  bulk_2  bulk_3  bulk_4  \\\n",
       "0            1098.0                 485.0     0.0     0.0     0.0    43.0   \n",
       "1             811.0                 333.0     0.0     0.0     0.0    73.0   \n",
       "\n",
       "   bulk_5  ...  wire_2  wire_3  wire_4  wire_6  wire_7  wire_8  wire_9  \\\n",
       "0     0.0  ...     0.0     0.0     0.0     0.0     0.0     0.0     0.0   \n",
       "1     0.0  ...     0.0     0.0     0.0     0.0     0.0     0.0     0.0   \n",
       "\n",
       "       gas_1  temperature_x  temperature_y  \n",
       "0  29.749986         1571.0         1613.0  \n",
       "1  12.555561         1581.0         1602.0  \n",
       "\n",
       "[2 rows x 31 columns]"
      ]
     },
     "execution_count": 29,
     "metadata": {},
     "output_type": "execute_result"
    }
   ],
   "source": [
    "features = features.drop('wire_5', axis=1)\n",
    "features.head(2)"
   ]
  },
  {
   "cell_type": "markdown",
   "id": "587a7a0d",
   "metadata": {},
   "source": [
    "Из найденных пар признаков с корреляцией более 0.9, удалим по одному из них. А именно: из пары active_power и reactive_power удалим reactive_power, а из пары bulk_9 и wire_8 удалим wire_8."
   ]
  },
  {
   "cell_type": "code",
   "execution_count": 68,
   "id": "61a267c8",
   "metadata": {
    "scrolled": true
   },
   "outputs": [
    {
     "data": {
      "text/html": [
       "<div>\n",
       "<style scoped>\n",
       "    .dataframe tbody tr th:only-of-type {\n",
       "        vertical-align: middle;\n",
       "    }\n",
       "\n",
       "    .dataframe tbody tr th {\n",
       "        vertical-align: top;\n",
       "    }\n",
       "\n",
       "    .dataframe thead th {\n",
       "        text-align: right;\n",
       "    }\n",
       "</style>\n",
       "<table border=\"1\" class=\"dataframe\">\n",
       "  <thead>\n",
       "    <tr style=\"text-align: right;\">\n",
       "      <th></th>\n",
       "      <th>mean_active_power</th>\n",
       "      <th>number_of_heatings</th>\n",
       "      <th>heating_duration</th>\n",
       "      <th>time_without_heating</th>\n",
       "      <th>bulk_1</th>\n",
       "      <th>bulk_2</th>\n",
       "      <th>bulk_3</th>\n",
       "      <th>bulk_4</th>\n",
       "      <th>bulk_5</th>\n",
       "      <th>bulk_6</th>\n",
       "      <th>...</th>\n",
       "      <th>wire_2</th>\n",
       "      <th>wire_3</th>\n",
       "      <th>wire_4</th>\n",
       "      <th>wire_5</th>\n",
       "      <th>wire_6</th>\n",
       "      <th>wire_7</th>\n",
       "      <th>wire_9</th>\n",
       "      <th>gas_1</th>\n",
       "      <th>temperature_x</th>\n",
       "      <th>temperature_y</th>\n",
       "    </tr>\n",
       "  </thead>\n",
       "  <tbody>\n",
       "    <tr>\n",
       "      <th>0</th>\n",
       "      <td>0.975629</td>\n",
       "      <td>5</td>\n",
       "      <td>1098.0</td>\n",
       "      <td>485.0</td>\n",
       "      <td>0.0</td>\n",
       "      <td>0.0</td>\n",
       "      <td>0.0</td>\n",
       "      <td>43.0</td>\n",
       "      <td>0.0</td>\n",
       "      <td>0.0</td>\n",
       "      <td>...</td>\n",
       "      <td>0.0</td>\n",
       "      <td>0.0</td>\n",
       "      <td>0.0</td>\n",
       "      <td>0.0</td>\n",
       "      <td>0.0</td>\n",
       "      <td>0.0</td>\n",
       "      <td>0.0</td>\n",
       "      <td>29.749986</td>\n",
       "      <td>1571.0</td>\n",
       "      <td>1613.0</td>\n",
       "    </tr>\n",
       "    <tr>\n",
       "      <th>1</th>\n",
       "      <td>0.763150</td>\n",
       "      <td>4</td>\n",
       "      <td>811.0</td>\n",
       "      <td>333.0</td>\n",
       "      <td>0.0</td>\n",
       "      <td>0.0</td>\n",
       "      <td>0.0</td>\n",
       "      <td>73.0</td>\n",
       "      <td>0.0</td>\n",
       "      <td>0.0</td>\n",
       "      <td>...</td>\n",
       "      <td>0.0</td>\n",
       "      <td>0.0</td>\n",
       "      <td>0.0</td>\n",
       "      <td>0.0</td>\n",
       "      <td>0.0</td>\n",
       "      <td>0.0</td>\n",
       "      <td>0.0</td>\n",
       "      <td>12.555561</td>\n",
       "      <td>1581.0</td>\n",
       "      <td>1602.0</td>\n",
       "    </tr>\n",
       "  </tbody>\n",
       "</table>\n",
       "<p>2 rows × 30 columns</p>\n",
       "</div>"
      ],
      "text/plain": [
       "   mean_active_power  number_of_heatings  heating_duration  \\\n",
       "0           0.975629                   5            1098.0   \n",
       "1           0.763150                   4             811.0   \n",
       "\n",
       "   time_without_heating  bulk_1  bulk_2  bulk_3  bulk_4  bulk_5  bulk_6  ...  \\\n",
       "0                 485.0     0.0     0.0     0.0    43.0     0.0     0.0  ...   \n",
       "1                 333.0     0.0     0.0     0.0    73.0     0.0     0.0  ...   \n",
       "\n",
       "   wire_2  wire_3  wire_4  wire_5  wire_6  wire_7  wire_9      gas_1  \\\n",
       "0     0.0     0.0     0.0     0.0     0.0     0.0     0.0  29.749986   \n",
       "1     0.0     0.0     0.0     0.0     0.0     0.0     0.0  12.555561   \n",
       "\n",
       "   temperature_x  temperature_y  \n",
       "0         1571.0         1613.0  \n",
       "1         1581.0         1602.0  \n",
       "\n",
       "[2 rows x 30 columns]"
      ]
     },
     "execution_count": 68,
     "metadata": {},
     "output_type": "execute_result"
    }
   ],
   "source": [
    "features = features.drop(['mean_reactive_power'], axis=1)\n",
    "features = features.drop(['wire_8'], axis=1)\n",
    "features.head(2)"
   ]
  },
  {
   "cell_type": "markdown",
   "id": "bb1c120c",
   "metadata": {},
   "source": [
    "## Подготовка к обучению. Обучение. Выбор модели."
   ]
  },
  {
   "cell_type": "markdown",
   "id": "ffe1d633",
   "metadata": {},
   "source": [
    "### Выделение целевого признака. Разделение выборки на обучающую и тестовую. Масштабирование."
   ]
  },
  {
   "cell_type": "code",
   "execution_count": 69,
   "id": "8189e1b2",
   "metadata": {},
   "outputs": [],
   "source": [
    "target = features['temperature_y']\n",
    "features = features.drop('temperature_y', axis=1)\n",
    "features_train, features_test, target_train, target_test = train_test_split(features, target, test_size=.25, random_state=RANDOM_STATE)"
   ]
  },
  {
   "cell_type": "markdown",
   "id": "e3c600db",
   "metadata": {},
   "source": [
    "Для обучения линейных моделей проведем масштабированя признаков. Для сравнения используем два иструмента масштабирования: StandardScaler() и MinMaxScaler()"
   ]
  },
  {
   "cell_type": "markdown",
   "id": "88f3a00d",
   "metadata": {},
   "source": [
    "### Линейная регрессия"
   ]
  },
  {
   "cell_type": "code",
   "execution_count": 72,
   "id": "1d578a97",
   "metadata": {},
   "outputs": [
    {
     "name": "stdout",
     "output_type": "stream",
     "text": [
      "MAE = 5.86\n"
     ]
    }
   ],
   "source": [
    "model_lr = LinearRegression(normalize=True)\n",
    "cv_lr = cross_validate(model_lr, features_train, target_train, scoring='neg_mean_absolute_error', cv=4, return_estimator=True)\n",
    "print('MAE =', round(-cv_lr['test_score'].mean(), 2))"
   ]
  },
  {
   "cell_type": "markdown",
   "id": "b7a422f7",
   "metadata": {},
   "source": [
    "### Случайный лес"
   ]
  },
  {
   "cell_type": "code",
   "execution_count": 37,
   "id": "728870ca",
   "metadata": {},
   "outputs": [],
   "source": [
    "parameters = {'n_estimators':list(range(80, 301, 20)),\n",
    "              'max_depth':list(range(5, 16))}"
   ]
  },
  {
   "cell_type": "code",
   "execution_count": 38,
   "id": "300804e7",
   "metadata": {},
   "outputs": [
    {
     "name": "stdout",
     "output_type": "stream",
     "text": [
      "-5.916129487045741\n",
      "{'max_depth': 12, 'n_estimators': 200}\n"
     ]
    }
   ],
   "source": [
    "model_rf = GridSearchCV(RandomForestRegressor(random_state=RANDOM_STATE), parameters, cv=5, scoring='neg_mean_absolute_error')\n",
    "model_rf.fit(features_train, target_train)\n",
    "print(model_rf.best_score_)\n",
    "print(model_rf.best_params_)"
   ]
  },
  {
   "cell_type": "markdown",
   "id": "c97557d0",
   "metadata": {},
   "source": [
    "На модели случайного леса удалось достигнуть еще более низкой метрики MAE 2.68, при масштабировании с применением MinMaxScaler() и гиперпараметрах n_estimator = 140, max_depth = 13."
   ]
  },
  {
   "cell_type": "markdown",
   "id": "8301872c",
   "metadata": {},
   "source": [
    "### CatBoost\n"
   ]
  },
  {
   "cell_type": "code",
   "execution_count": 40,
   "id": "fc1da0ac",
   "metadata": {},
   "outputs": [],
   "source": [
    "parameters = {'learning_rate':[.001, .01, .05, .1],\n",
    "             'iterations':[10, 50, 100]}"
   ]
  },
  {
   "cell_type": "code",
   "execution_count": 41,
   "id": "59b73a3b",
   "metadata": {
    "scrolled": true
   },
   "outputs": [
    {
     "name": "stdout",
     "output_type": "stream",
     "text": [
      "-6.535046517469555\n",
      "{'iterations': 100, 'learning_rate': 0.1}\n"
     ]
    }
   ],
   "source": [
    "a_cat = GridSearchCV(CatBoostRegressor(verbose=False, depth=16), parameters, cv=5, scoring='neg_mean_absolute_error')\n",
    "a_cat.fit(features_train, target_train)\n",
    "print(a_cat.best_score_)\n",
    "print(a_cat.best_params_)"
   ]
  },
  {
   "cell_type": "markdown",
   "id": "6bc7e253",
   "metadata": {},
   "source": [
    "### DummyRegressor"
   ]
  },
  {
   "cell_type": "code",
   "execution_count": 42,
   "id": "93432394",
   "metadata": {},
   "outputs": [
    {
     "data": {
      "text/plain": [
       "8.104749462566271"
      ]
     },
     "execution_count": 42,
     "metadata": {},
     "output_type": "execute_result"
    }
   ],
   "source": [
    "dummy_regr = DummyRegressor(strategy='mean')\n",
    "dummy_regr.fit(features_train, target_train)\n",
    "predict_dum = dummy_regr.predict(features_test)\n",
    "mae(predict_dum, target_test)"
   ]
  },
  {
   "cell_type": "markdown",
   "id": "c0fc6e8c",
   "metadata": {},
   "source": [
    "Значение MAE на модели dummy с параметром strategy='mean' может говорить об особенности данных, о довольно не сложной зависимости целевого признака от входных данный, о разбросе целевого признака."
   ]
  },
  {
   "cell_type": "markdown",
   "id": "085a7509",
   "metadata": {},
   "source": [
    "## Проверка наилучшей модели на тестовых данных. Оценка важности признаков."
   ]
  },
  {
   "cell_type": "markdown",
   "id": "269c7b17",
   "metadata": {},
   "source": [
    "Лучшее значение MAE достигнуто на модели LinearRegression."
   ]
  },
  {
   "cell_type": "code",
   "execution_count": 43,
   "id": "33fd64e5",
   "metadata": {},
   "outputs": [
    {
     "data": {
      "text/plain": [
       "5.844332071266285"
      ]
     },
     "execution_count": 43,
     "metadata": {},
     "output_type": "execute_result"
    }
   ],
   "source": [
    "model_for_test = cv_lr['estimator'][0]\n",
    "predict_test = model_for_test.predict(features_test)\n",
    "mae(predict_test, target_test)"
   ]
  },
  {
   "cell_type": "code",
   "execution_count": 97,
   "id": "b7b87291",
   "metadata": {},
   "outputs": [],
   "source": [
    "result_pi = permutation_importance(model_for_test, features_test, target_test, n_repeats=10, random_state=RANDOM_STATE)\n",
    "sorted_idx = result_pi.importances_mean.argsort()"
   ]
  },
  {
   "cell_type": "code",
   "execution_count": 101,
   "id": "6a010cf7",
   "metadata": {
    "scrolled": false
   },
   "outputs": [
    {
     "data": {
      "text/plain": [
       "<BarContainer object of 27 artists>"
      ]
     },
     "execution_count": 101,
     "metadata": {},
     "output_type": "execute_result"
    },
    {
     "data": {
      "image/png": "[encoded data removed]",
      "text/plain": [
       "<Figure size 1152x432 with 1 Axes>"
      ]
     },
     "metadata": {
      "needs_background": "light"
     },
     "output_type": "display_data"
    }
   ],
   "source": [
    "plt.figure(figsize=(16, 6))\n",
    "plt.title('permutation_importances')\n",
    "plt.ylabel('Важность')\n",
    "plt.xticks(rotation=90)\n",
    "plt.bar(features_train.columns[sorted_idx], result_pi.importances_mean[sorted_idx])"
   ]
  },
  {
   "cell_type": "markdown",
   "id": "724c7b9a",
   "metadata": {},
   "source": [
    "Наиболее важными признаками являются активная мощность, начальная температура и суммарно время нахожденияя сплава на этапе нагрева. "
   ]
  },
  {
   "cell_type": "markdown",
   "id": "07844976",
   "metadata": {},
   "source": [
    "## Отчет"
   ]
  },
  {
   "cell_type": "markdown",
   "id": "6ebc1da9",
   "metadata": {},
   "source": [
    "Ход работы:\n",
    "- удаление строк с номерами партий от 2500\n",
    "- удаление строк с индексами 2116 (отрицательная реактивная мощность), 195 и 279 (партии с единственным замером температуры)\n",
    "- выделение времени начала и окончания каждой партии. Определение суммарного времени нахождения заготовки на изучаемом этапе\n",
    "- удаление всех партий по которым встречалась температура 1500С\n",
    "- первую температуру каждой партии переводим в признак обучающей выборки, а последнюю - в целевой признак \n",
    "- объединяем все таблицы в одну. В качестве ключа признак 'key'.\n",
    "- удаляем колонки 'wire_5', 'wire_8', 'reactive_power'\n",
    "- разделяем признаки на обучающую и тестовую выборки\n",
    "- использование модели LinearRegression().\n",
    "- для масштабирования признаков для линейной регрессии применяем нормализацию признаков.\n",
    "\n",
    "\n",
    "В процессе работы над проектом были реализованы все пункты первоначального плана. В части подготовки данных дополнительно были найдены и удалены две пары признаков имеющих очень высокую тесноту связи.\n",
    "\n",
    "Некоторые сомнения были на этапе первичного ознакомления с данными. Но позднее, при обсуждении проекта на встрече с тим-лидом, убедился, что в целом большинство идей и предполагаемый ход решения были верными. По итогам встречи удалось упорядочить этапы работы над проектом, а так же составить более подробный план. В ходе же самой работы проявлись пробелы в навыках работы с инструментами масштабирования признаков, а также подбора гиперпараметров, кросс-валидции, оценки важности признаков, поиска мультиколлинеарности. Все необходимые советы получил от старших коллег (ревьюера и тим-лида).\n",
    "\n",
    "Главными шагами проекта выделил бы анализ данных и разработка детального плана. При предобработке данных крайне важным становится подробная визуализация.\n",
    "\n",
    "Итоговая модель линейая регрессия с MAE = 5.69."
   ]
  }
 ],
 "metadata": {
  "ExecuteTimeLog": [
   {
    "duration": 824,
    "start_time": "2022-09-20T18:41:19.356Z"
   },
   {
    "duration": 145,
    "start_time": "2022-09-20T18:41:21.165Z"
   },
   {
    "duration": 44,
    "start_time": "2022-09-20T18:41:30.671Z"
   },
   {
    "duration": 48,
    "start_time": "2022-09-20T18:41:40.666Z"
   },
   {
    "duration": 91,
    "start_time": "2022-09-20T18:41:48.654Z"
   },
   {
    "duration": 57,
    "start_time": "2022-09-20T18:43:23.758Z"
   },
   {
    "duration": 42,
    "start_time": "2022-09-20T18:45:28.456Z"
   },
   {
    "duration": 42,
    "start_time": "2022-09-20T18:45:32.272Z"
   },
   {
    "duration": 110,
    "start_time": "2022-09-20T18:47:15.268Z"
   },
   {
    "duration": 13,
    "start_time": "2022-09-20T18:47:23.044Z"
   },
   {
    "duration": 56,
    "start_time": "2022-09-20T18:47:27.240Z"
   },
   {
    "duration": 525,
    "start_time": "2022-09-20T18:48:40.486Z"
   },
   {
    "duration": 28,
    "start_time": "2022-09-20T18:59:01.986Z"
   },
   {
    "duration": 363,
    "start_time": "2022-09-20T19:02:51.092Z"
   },
   {
    "duration": 390,
    "start_time": "2022-09-20T19:03:05.572Z"
   },
   {
    "duration": 345,
    "start_time": "2022-09-20T19:03:09.262Z"
   },
   {
    "duration": 400,
    "start_time": "2022-09-20T19:03:43.815Z"
   },
   {
    "duration": 437,
    "start_time": "2022-09-20T19:03:53.812Z"
   },
   {
    "duration": 512,
    "start_time": "2022-09-20T19:04:00.408Z"
   },
   {
    "duration": 456,
    "start_time": "2022-09-20T19:04:18.159Z"
   },
   {
    "duration": 475,
    "start_time": "2022-09-20T19:06:05.963Z"
   },
   {
    "duration": 539,
    "start_time": "2022-09-20T19:06:25.550Z"
   },
   {
    "duration": 441,
    "start_time": "2022-09-20T19:06:32.947Z"
   },
   {
    "duration": 451,
    "start_time": "2022-09-20T19:06:39.198Z"
   },
   {
    "duration": 372,
    "start_time": "2022-09-20T19:06:55.373Z"
   },
   {
    "duration": 565,
    "start_time": "2022-09-20T19:10:31.287Z"
   },
   {
    "duration": 453,
    "start_time": "2022-09-20T19:12:16.600Z"
   },
   {
    "duration": 443,
    "start_time": "2022-09-20T19:12:39.861Z"
   },
   {
    "duration": 509,
    "start_time": "2022-09-20T19:14:21.867Z"
   },
   {
    "duration": 9,
    "start_time": "2022-09-20T19:15:29.369Z"
   },
   {
    "duration": 310,
    "start_time": "2022-09-20T19:15:37.859Z"
   },
   {
    "duration": 8,
    "start_time": "2022-09-20T19:15:42.048Z"
   },
   {
    "duration": 233,
    "start_time": "2022-09-20T19:15:43.257Z"
   },
   {
    "duration": 3,
    "start_time": "2022-09-20T19:16:34.855Z"
   },
   {
    "duration": 296,
    "start_time": "2022-09-20T19:16:35.682Z"
   },
   {
    "duration": 251,
    "start_time": "2022-09-20T19:18:26.354Z"
   },
   {
    "duration": 204,
    "start_time": "2022-09-20T19:18:31.568Z"
   },
   {
    "duration": 200,
    "start_time": "2022-09-20T19:18:42.314Z"
   },
   {
    "duration": 197,
    "start_time": "2022-09-20T19:18:53.941Z"
   },
   {
    "duration": 249,
    "start_time": "2022-09-20T19:19:26.095Z"
   },
   {
    "duration": 5,
    "start_time": "2022-09-20T19:19:47.667Z"
   },
   {
    "duration": 9,
    "start_time": "2022-09-20T19:20:22.368Z"
   },
   {
    "duration": 6,
    "start_time": "2022-09-20T19:20:27.058Z"
   },
   {
    "duration": 146,
    "start_time": "2022-09-20T19:20:29.210Z"
   },
   {
    "duration": 230,
    "start_time": "2022-09-20T19:20:36.401Z"
   },
   {
    "duration": 257,
    "start_time": "2022-09-20T19:21:09.955Z"
   },
   {
    "duration": 174,
    "start_time": "2022-09-20T19:21:33.169Z"
   },
   {
    "duration": 351,
    "start_time": "2022-09-20T19:23:36.116Z"
   },
   {
    "duration": 276,
    "start_time": "2022-09-20T19:24:17.401Z"
   },
   {
    "duration": 399,
    "start_time": "2022-09-20T19:26:07.355Z"
   },
   {
    "duration": 507,
    "start_time": "2022-09-20T19:26:45.159Z"
   },
   {
    "duration": 358,
    "start_time": "2022-09-20T19:26:54.459Z"
   },
   {
    "duration": 606,
    "start_time": "2022-09-20T19:27:10.220Z"
   },
   {
    "duration": 432,
    "start_time": "2022-09-20T19:28:07.164Z"
   },
   {
    "duration": 458,
    "start_time": "2022-09-20T19:28:22.147Z"
   },
   {
    "duration": 569,
    "start_time": "2022-09-20T19:28:35.514Z"
   },
   {
    "duration": 737,
    "start_time": "2022-09-20T19:28:53.116Z"
   },
   {
    "duration": 8,
    "start_time": "2022-09-20T19:38:06.395Z"
   },
   {
    "duration": 7,
    "start_time": "2022-09-20T19:38:12.973Z"
   },
   {
    "duration": 257,
    "start_time": "2022-09-20T19:38:17.701Z"
   },
   {
    "duration": 287,
    "start_time": "2022-09-20T19:38:45.964Z"
   },
   {
    "duration": 11,
    "start_time": "2022-09-20T19:39:47.198Z"
   },
   {
    "duration": 9,
    "start_time": "2022-09-20T19:39:59.596Z"
   },
   {
    "duration": 781,
    "start_time": "2022-09-20T19:40:06.407Z"
   },
   {
    "duration": 159,
    "start_time": "2022-09-20T19:41:15.620Z"
   },
   {
    "duration": 7,
    "start_time": "2022-09-20T19:41:40.867Z"
   },
   {
    "duration": 6,
    "start_time": "2022-09-20T19:41:51.091Z"
   },
   {
    "duration": 9,
    "start_time": "2022-09-20T19:42:02.449Z"
   },
   {
    "duration": 14,
    "start_time": "2022-09-20T19:42:34.896Z"
   },
   {
    "duration": 6,
    "start_time": "2022-09-20T19:43:15.315Z"
   },
   {
    "duration": 1722,
    "start_time": "2022-09-20T19:43:31.354Z"
   },
   {
    "duration": 32,
    "start_time": "2022-09-20T19:43:46.007Z"
   },
   {
    "duration": 1565,
    "start_time": "2022-09-20T19:43:59.921Z"
   },
   {
    "duration": 119,
    "start_time": "2022-09-20T19:44:11.078Z"
   },
   {
    "duration": 315,
    "start_time": "2022-09-20T19:44:18.866Z"
   },
   {
    "duration": 205,
    "start_time": "2022-09-20T19:44:35.256Z"
   },
   {
    "duration": 213,
    "start_time": "2022-09-20T19:44:58.751Z"
   },
   {
    "duration": 218,
    "start_time": "2022-09-20T19:45:03.086Z"
   },
   {
    "duration": 916,
    "start_time": "2022-09-20T19:48:10.050Z"
   },
   {
    "duration": 8,
    "start_time": "2022-09-20T19:48:34.378Z"
   },
   {
    "duration": 5,
    "start_time": "2022-09-20T19:49:01.151Z"
   },
   {
    "duration": 11,
    "start_time": "2022-09-20T19:49:06.489Z"
   },
   {
    "duration": 12,
    "start_time": "2022-09-20T19:49:22.671Z"
   },
   {
    "duration": 12,
    "start_time": "2022-09-20T19:49:46.672Z"
   },
   {
    "duration": 233,
    "start_time": "2022-09-20T19:50:01.861Z"
   },
   {
    "duration": 173,
    "start_time": "2022-09-20T19:50:40.712Z"
   },
   {
    "duration": 357,
    "start_time": "2022-09-20T19:50:45.608Z"
   },
   {
    "duration": 1522,
    "start_time": "2022-09-20T19:50:49.096Z"
   },
   {
    "duration": 590,
    "start_time": "2022-09-20T19:51:01.009Z"
   },
   {
    "duration": 210,
    "start_time": "2022-09-20T19:51:06.473Z"
   },
   {
    "duration": 249,
    "start_time": "2022-09-20T20:01:41.288Z"
   },
   {
    "duration": 778,
    "start_time": "2022-09-21T05:28:42.595Z"
   },
   {
    "duration": 478,
    "start_time": "2022-09-21T05:28:44.197Z"
   },
   {
    "duration": 3,
    "start_time": "2022-09-21T05:28:57.948Z"
   },
   {
    "duration": 217,
    "start_time": "2022-09-21T05:28:58.997Z"
   },
   {
    "duration": 16,
    "start_time": "2022-09-21T05:29:00.710Z"
   },
   {
    "duration": 11,
    "start_time": "2022-09-21T05:29:03.876Z"
   },
   {
    "duration": 17,
    "start_time": "2022-09-21T05:29:04.748Z"
   },
   {
    "duration": 10,
    "start_time": "2022-09-21T05:29:10.477Z"
   },
   {
    "duration": 9,
    "start_time": "2022-09-21T05:29:11.053Z"
   },
   {
    "duration": 7,
    "start_time": "2022-09-21T05:29:26.942Z"
   },
   {
    "duration": 20,
    "start_time": "2022-09-21T05:29:49.204Z"
   },
   {
    "duration": 442,
    "start_time": "2022-09-21T05:29:52.716Z"
   },
   {
    "duration": 17,
    "start_time": "2022-09-21T05:47:12.605Z"
   },
   {
    "duration": 9,
    "start_time": "2022-09-21T05:47:18.065Z"
   },
   {
    "duration": 1009,
    "start_time": "2022-09-21T05:47:46.680Z"
   },
   {
    "duration": 21,
    "start_time": "2022-09-21T05:47:53.564Z"
   },
   {
    "duration": 16,
    "start_time": "2022-09-21T05:48:01.954Z"
   },
   {
    "duration": 18,
    "start_time": "2022-09-21T05:48:13.518Z"
   },
   {
    "duration": 24,
    "start_time": "2022-09-21T05:48:26.995Z"
   },
   {
    "duration": 23,
    "start_time": "2022-09-21T05:48:30.799Z"
   },
   {
    "duration": 7,
    "start_time": "2022-09-21T05:48:54.073Z"
   },
   {
    "duration": 16,
    "start_time": "2022-09-21T05:49:02.178Z"
   },
   {
    "duration": 52,
    "start_time": "2022-09-21T05:49:11.402Z"
   },
   {
    "duration": 13,
    "start_time": "2022-09-21T05:49:16.361Z"
   },
   {
    "duration": 21,
    "start_time": "2022-09-21T05:49:23.200Z"
   },
   {
    "duration": 14,
    "start_time": "2022-09-21T05:49:30.401Z"
   },
   {
    "duration": 16,
    "start_time": "2022-09-21T05:49:35.054Z"
   },
   {
    "duration": 6,
    "start_time": "2022-09-21T05:50:00.681Z"
   },
   {
    "duration": 16,
    "start_time": "2022-09-21T05:50:03.841Z"
   },
   {
    "duration": 391,
    "start_time": "2022-09-21T05:52:33.066Z"
   },
   {
    "duration": 23,
    "start_time": "2022-09-21T05:52:43.745Z"
   },
   {
    "duration": 9,
    "start_time": "2022-09-21T05:52:51.626Z"
   },
   {
    "duration": 10,
    "start_time": "2022-09-21T05:53:08.071Z"
   },
   {
    "duration": 8,
    "start_time": "2022-09-21T05:53:31.050Z"
   },
   {
    "duration": 6,
    "start_time": "2022-09-21T05:53:44.119Z"
   },
   {
    "duration": 8,
    "start_time": "2022-09-21T05:54:13.280Z"
   },
   {
    "duration": 931,
    "start_time": "2022-09-21T05:54:20.919Z"
   },
   {
    "duration": 11,
    "start_time": "2022-09-21T05:54:28.810Z"
   },
   {
    "duration": 719,
    "start_time": "2022-09-21T05:54:52.593Z"
   },
   {
    "duration": 6,
    "start_time": "2022-09-21T05:55:07.348Z"
   },
   {
    "duration": 848,
    "start_time": "2022-09-21T05:55:15.081Z"
   },
   {
    "duration": 12,
    "start_time": "2022-09-21T05:55:22.142Z"
   },
   {
    "duration": 12,
    "start_time": "2022-09-21T05:55:36.417Z"
   },
   {
    "duration": 48,
    "start_time": "2022-09-21T05:57:01.451Z"
   },
   {
    "duration": 23,
    "start_time": "2022-09-21T05:57:05.180Z"
   },
   {
    "duration": 476,
    "start_time": "2022-09-21T05:57:13.772Z"
   },
   {
    "duration": 23,
    "start_time": "2022-09-21T05:57:33.713Z"
   },
   {
    "duration": 20,
    "start_time": "2022-09-21T05:57:41.778Z"
   },
   {
    "duration": 24,
    "start_time": "2022-09-21T05:57:49.971Z"
   },
   {
    "duration": 20,
    "start_time": "2022-09-21T05:58:00.795Z"
   },
   {
    "duration": 15,
    "start_time": "2022-09-21T05:58:57.531Z"
   },
   {
    "duration": 38,
    "start_time": "2022-09-21T05:59:19.668Z"
   },
   {
    "duration": 4,
    "start_time": "2022-09-21T05:59:27.074Z"
   },
   {
    "duration": 29,
    "start_time": "2022-09-21T05:59:29.657Z"
   },
   {
    "duration": 39,
    "start_time": "2022-09-21T05:59:37.034Z"
   },
   {
    "duration": 48,
    "start_time": "2022-09-21T06:00:33.932Z"
   },
   {
    "duration": 6,
    "start_time": "2022-09-21T06:01:37.226Z"
   },
   {
    "duration": 5,
    "start_time": "2022-09-21T06:01:41.041Z"
   },
   {
    "duration": 7,
    "start_time": "2022-09-21T06:01:52.377Z"
   },
   {
    "duration": 6,
    "start_time": "2022-09-21T06:03:06.034Z"
   },
   {
    "duration": 6,
    "start_time": "2022-09-21T06:03:22.139Z"
   },
   {
    "duration": 45,
    "start_time": "2022-09-21T06:14:18.757Z"
   },
   {
    "duration": 32,
    "start_time": "2022-09-21T06:15:07.463Z"
   },
   {
    "duration": 9,
    "start_time": "2022-09-21T06:19:11.692Z"
   },
   {
    "duration": 8,
    "start_time": "2022-09-21T06:19:22.734Z"
   },
   {
    "duration": 9,
    "start_time": "2022-09-21T06:19:26.557Z"
   },
   {
    "duration": 8,
    "start_time": "2022-09-21T06:19:30.885Z"
   },
   {
    "duration": 7,
    "start_time": "2022-09-21T06:19:32.784Z"
   },
   {
    "duration": 11,
    "start_time": "2022-09-21T06:19:35.275Z"
   },
   {
    "duration": 11,
    "start_time": "2022-09-21T06:20:10.349Z"
   },
   {
    "duration": 13,
    "start_time": "2022-09-21T06:20:21.885Z"
   },
   {
    "duration": 11,
    "start_time": "2022-09-21T06:20:32.545Z"
   },
   {
    "duration": 8,
    "start_time": "2022-09-21T06:20:37.925Z"
   },
   {
    "duration": 11,
    "start_time": "2022-09-21T06:21:13.989Z"
   },
   {
    "duration": 11,
    "start_time": "2022-09-21T06:21:29.390Z"
   },
   {
    "duration": 18,
    "start_time": "2022-09-21T06:21:48.205Z"
   },
   {
    "duration": 12,
    "start_time": "2022-09-21T06:22:00.844Z"
   },
   {
    "duration": 14,
    "start_time": "2022-09-21T06:22:08.525Z"
   },
   {
    "duration": 13,
    "start_time": "2022-09-21T06:22:19.950Z"
   },
   {
    "duration": 12,
    "start_time": "2022-09-21T06:22:33.045Z"
   },
   {
    "duration": 5,
    "start_time": "2022-09-21T06:46:47.368Z"
   },
   {
    "duration": 3,
    "start_time": "2022-09-21T10:14:18.929Z"
   },
   {
    "duration": 270,
    "start_time": "2022-09-21T10:14:25.456Z"
   },
   {
    "duration": 3,
    "start_time": "2022-09-21T10:14:40.558Z"
   },
   {
    "duration": 3,
    "start_time": "2022-09-21T10:14:41.795Z"
   },
   {
    "duration": 8,
    "start_time": "2022-09-21T10:14:43.921Z"
   },
   {
    "duration": 10,
    "start_time": "2022-09-21T10:14:52.274Z"
   },
   {
    "duration": 17,
    "start_time": "2022-09-21T10:14:55.298Z"
   },
   {
    "duration": 9,
    "start_time": "2022-09-21T10:15:11.466Z"
   },
   {
    "duration": 9,
    "start_time": "2022-09-21T10:15:15.463Z"
   },
   {
    "duration": 6,
    "start_time": "2022-09-21T10:15:31.765Z"
   },
   {
    "duration": 5,
    "start_time": "2022-09-21T10:15:44.121Z"
   },
   {
    "duration": 5,
    "start_time": "2022-09-21T10:16:02.489Z"
   },
   {
    "duration": 19,
    "start_time": "2022-09-21T10:16:09.588Z"
   },
   {
    "duration": 1611,
    "start_time": "2022-09-21T10:16:40.996Z"
   },
   {
    "duration": 434,
    "start_time": "2022-09-21T10:16:56.964Z"
   },
   {
    "duration": 452,
    "start_time": "2022-09-21T10:17:21.953Z"
   },
   {
    "duration": 5,
    "start_time": "2022-09-21T10:17:25.662Z"
   },
   {
    "duration": 2,
    "start_time": "2022-09-21T10:18:07.465Z"
   },
   {
    "duration": 8,
    "start_time": "2022-09-21T10:18:10.388Z"
   },
   {
    "duration": 3,
    "start_time": "2022-09-21T10:18:18.956Z"
   },
   {
    "duration": 4,
    "start_time": "2022-09-21T10:19:47.574Z"
   },
   {
    "duration": 19,
    "start_time": "2022-09-21T10:19:52.605Z"
   },
   {
    "duration": 16,
    "start_time": "2022-09-21T10:20:16.759Z"
   },
   {
    "duration": 5,
    "start_time": "2022-09-21T10:20:30.557Z"
   },
   {
    "duration": 18,
    "start_time": "2022-09-21T10:20:31.287Z"
   },
   {
    "duration": 14,
    "start_time": "2022-09-21T10:22:04.151Z"
   },
   {
    "duration": 13,
    "start_time": "2022-09-21T10:22:06.693Z"
   },
   {
    "duration": 10,
    "start_time": "2022-09-21T10:22:10.406Z"
   },
   {
    "duration": 15,
    "start_time": "2022-09-21T10:22:12.686Z"
   },
   {
    "duration": 12,
    "start_time": "2022-09-21T10:22:14.429Z"
   },
   {
    "duration": 47,
    "start_time": "2022-09-21T10:22:17.719Z"
   },
   {
    "duration": 6,
    "start_time": "2022-09-21T10:22:19.643Z"
   },
   {
    "duration": 201,
    "start_time": "2022-09-21T10:22:23.082Z"
   },
   {
    "duration": 5,
    "start_time": "2022-09-21T10:22:28.261Z"
   },
   {
    "duration": 4,
    "start_time": "2022-09-21T10:22:49.108Z"
   },
   {
    "duration": 6,
    "start_time": "2022-09-21T10:23:40.390Z"
   },
   {
    "duration": 4,
    "start_time": "2022-09-21T10:23:42.565Z"
   },
   {
    "duration": 4,
    "start_time": "2022-09-21T10:23:49.551Z"
   },
   {
    "duration": 5,
    "start_time": "2022-09-21T10:23:58.503Z"
   },
   {
    "duration": 5,
    "start_time": "2022-09-21T10:23:59.614Z"
   },
   {
    "duration": 4,
    "start_time": "2022-09-21T10:24:10.871Z"
   },
   {
    "duration": 5,
    "start_time": "2022-09-21T10:24:28.488Z"
   },
   {
    "duration": 10,
    "start_time": "2022-09-21T10:24:30.222Z"
   },
   {
    "duration": 10,
    "start_time": "2022-09-21T10:24:54.984Z"
   },
   {
    "duration": 3,
    "start_time": "2022-09-21T10:25:58.040Z"
   },
   {
    "duration": 5,
    "start_time": "2022-09-21T10:26:02.249Z"
   },
   {
    "duration": 15,
    "start_time": "2022-09-21T10:26:05.118Z"
   },
   {
    "duration": 10,
    "start_time": "2022-09-21T10:26:54.918Z"
   },
   {
    "duration": 10,
    "start_time": "2022-09-21T10:26:55.783Z"
   },
   {
    "duration": 41,
    "start_time": "2022-09-21T10:26:57.952Z"
   },
   {
    "duration": 14,
    "start_time": "2022-09-21T10:27:00.288Z"
   },
   {
    "duration": 9,
    "start_time": "2022-09-21T10:27:02.358Z"
   },
   {
    "duration": 34,
    "start_time": "2022-09-21T10:27:04.656Z"
   },
   {
    "duration": 6,
    "start_time": "2022-09-21T10:27:05.880Z"
   },
   {
    "duration": 168,
    "start_time": "2022-09-21T10:27:06.872Z"
   },
   {
    "duration": 4,
    "start_time": "2022-09-21T10:27:10.159Z"
   },
   {
    "duration": 7,
    "start_time": "2022-09-21T10:27:12.504Z"
   },
   {
    "duration": 13,
    "start_time": "2022-09-21T10:27:14.295Z"
   },
   {
    "duration": 16,
    "start_time": "2022-09-21T10:27:16.529Z"
   },
   {
    "duration": 3130,
    "start_time": "2022-09-21T10:27:19.568Z"
   },
   {
    "duration": 313,
    "start_time": "2022-09-21T10:27:31.124Z"
   },
   {
    "duration": 8,
    "start_time": "2022-09-21T10:27:40.304Z"
   },
   {
    "duration": 4,
    "start_time": "2022-09-21T10:27:41.053Z"
   },
   {
    "duration": 8,
    "start_time": "2022-09-21T10:27:43.400Z"
   },
   {
    "duration": 11,
    "start_time": "2022-09-21T10:27:43.595Z"
   },
   {
    "duration": 11,
    "start_time": "2022-09-21T10:27:50.266Z"
   },
   {
    "duration": 10,
    "start_time": "2022-09-21T10:27:54.740Z"
   },
   {
    "duration": 13,
    "start_time": "2022-09-21T10:28:00.142Z"
   },
   {
    "duration": 16,
    "start_time": "2022-09-21T10:28:08.386Z"
   },
   {
    "duration": 10,
    "start_time": "2022-09-21T10:28:16.084Z"
   },
   {
    "duration": 5,
    "start_time": "2022-09-21T10:28:31.032Z"
   },
   {
    "duration": 9,
    "start_time": "2022-09-21T10:28:35.549Z"
   },
   {
    "duration": 11,
    "start_time": "2022-09-21T10:28:42.868Z"
   },
   {
    "duration": 11,
    "start_time": "2022-09-21T10:28:43.146Z"
   },
   {
    "duration": 12,
    "start_time": "2022-09-21T10:28:45.194Z"
   },
   {
    "duration": 15,
    "start_time": "2022-09-21T10:28:46.664Z"
   },
   {
    "duration": 10,
    "start_time": "2022-09-21T10:28:53.869Z"
   },
   {
    "duration": 1179,
    "start_time": "2022-09-21T10:28:55.797Z"
   },
   {
    "duration": 1939,
    "start_time": "2022-09-21T10:29:01.497Z"
   },
   {
    "duration": 236,
    "start_time": "2022-09-21T10:29:07.057Z"
   },
   {
    "duration": 10,
    "start_time": "2022-09-21T10:29:28.593Z"
   },
   {
    "duration": 64,
    "start_time": "2022-09-21T10:29:32.593Z"
   },
   {
    "duration": 70,
    "start_time": "2022-09-21T10:29:55.266Z"
   },
   {
    "duration": 791,
    "start_time": "2022-09-21T12:04:10.543Z"
   },
   {
    "duration": 489,
    "start_time": "2022-09-21T12:04:11.336Z"
   },
   {
    "duration": 7,
    "start_time": "2022-09-21T12:04:11.827Z"
   },
   {
    "duration": 22,
    "start_time": "2022-09-21T12:04:11.837Z"
   },
   {
    "duration": 15,
    "start_time": "2022-09-21T12:04:11.860Z"
   },
   {
    "duration": 21,
    "start_time": "2022-09-21T12:04:11.877Z"
   },
   {
    "duration": 18,
    "start_time": "2022-09-21T12:04:11.900Z"
   },
   {
    "duration": 10,
    "start_time": "2022-09-21T12:04:11.919Z"
   },
   {
    "duration": 11,
    "start_time": "2022-09-21T12:04:11.930Z"
   },
   {
    "duration": 9,
    "start_time": "2022-09-21T12:04:11.943Z"
   },
   {
    "duration": 8,
    "start_time": "2022-09-21T12:04:11.953Z"
   },
   {
    "duration": 48,
    "start_time": "2022-09-21T12:04:11.962Z"
   },
   {
    "duration": 467,
    "start_time": "2022-09-21T12:04:12.012Z"
   },
   {
    "duration": 512,
    "start_time": "2022-09-21T12:04:12.480Z"
   },
   {
    "duration": 5,
    "start_time": "2022-09-21T12:04:12.993Z"
   },
   {
    "duration": 13,
    "start_time": "2022-09-21T12:04:13.009Z"
   },
   {
    "duration": 14,
    "start_time": "2022-09-21T12:04:13.023Z"
   },
   {
    "duration": 11,
    "start_time": "2022-09-21T12:04:13.039Z"
   },
   {
    "duration": 10,
    "start_time": "2022-09-21T12:04:13.051Z"
   },
   {
    "duration": 9,
    "start_time": "2022-09-21T12:04:13.062Z"
   },
   {
    "duration": 87,
    "start_time": "2022-09-21T12:04:13.073Z"
   },
   {
    "duration": 6,
    "start_time": "2022-09-21T12:04:13.162Z"
   },
   {
    "duration": 229,
    "start_time": "2022-09-21T12:04:13.169Z"
   },
   {
    "duration": 4,
    "start_time": "2022-09-21T12:04:13.408Z"
   },
   {
    "duration": 17,
    "start_time": "2022-09-21T12:04:13.414Z"
   },
   {
    "duration": 13,
    "start_time": "2022-09-21T12:04:13.432Z"
   },
   {
    "duration": 30,
    "start_time": "2022-09-21T12:04:13.446Z"
   },
   {
    "duration": 10,
    "start_time": "2022-09-21T12:04:13.479Z"
   },
   {
    "duration": 8,
    "start_time": "2022-09-21T12:04:13.509Z"
   },
   {
    "duration": 36,
    "start_time": "2022-09-21T12:04:13.518Z"
   },
   {
    "duration": 6,
    "start_time": "2022-09-21T12:04:13.556Z"
   },
   {
    "duration": 242,
    "start_time": "2022-09-21T12:04:13.564Z"
   },
   {
    "duration": 4,
    "start_time": "2022-09-21T12:04:13.809Z"
   },
   {
    "duration": 9,
    "start_time": "2022-09-21T12:04:13.815Z"
   },
   {
    "duration": 18,
    "start_time": "2022-09-21T12:04:13.826Z"
   },
   {
    "duration": 14,
    "start_time": "2022-09-21T12:04:13.846Z"
   },
   {
    "duration": 261,
    "start_time": "2022-09-21T12:04:13.861Z"
   },
   {
    "duration": 7,
    "start_time": "2022-09-21T12:04:14.124Z"
   },
   {
    "duration": 6,
    "start_time": "2022-09-21T12:04:14.133Z"
   },
   {
    "duration": 14,
    "start_time": "2022-09-21T12:04:14.140Z"
   },
   {
    "duration": 23,
    "start_time": "2022-09-21T12:04:14.155Z"
   },
   {
    "duration": 9,
    "start_time": "2022-09-21T12:04:14.180Z"
   },
   {
    "duration": 24,
    "start_time": "2022-09-21T12:04:14.191Z"
   },
   {
    "duration": 12,
    "start_time": "2022-09-21T12:04:14.216Z"
   },
   {
    "duration": 11,
    "start_time": "2022-09-21T12:04:14.230Z"
   },
   {
    "duration": 276,
    "start_time": "2022-09-21T12:04:14.242Z"
   },
   {
    "duration": 11,
    "start_time": "2022-09-21T12:04:14.520Z"
   },
   {
    "duration": 83,
    "start_time": "2022-09-21T12:04:14.532Z"
   },
   {
    "duration": 44,
    "start_time": "2022-09-21T12:57:01.141Z"
   },
   {
    "duration": 779,
    "start_time": "2022-09-21T12:57:10.619Z"
   },
   {
    "duration": 480,
    "start_time": "2022-09-21T12:57:11.401Z"
   },
   {
    "duration": 5,
    "start_time": "2022-09-21T12:57:18.501Z"
   },
   {
    "duration": 13,
    "start_time": "2022-09-21T12:57:21.996Z"
   },
   {
    "duration": 12,
    "start_time": "2022-09-21T12:57:22.332Z"
   },
   {
    "duration": 24,
    "start_time": "2022-09-21T12:57:22.748Z"
   },
   {
    "duration": 9,
    "start_time": "2022-09-21T12:57:24.499Z"
   },
   {
    "duration": 9,
    "start_time": "2022-09-21T12:57:24.638Z"
   },
   {
    "duration": 6,
    "start_time": "2022-09-21T12:57:24.914Z"
   },
   {
    "duration": 6,
    "start_time": "2022-09-21T12:57:29.556Z"
   },
   {
    "duration": 6,
    "start_time": "2022-09-21T12:57:29.898Z"
   },
   {
    "duration": 6,
    "start_time": "2022-09-21T12:57:30.877Z"
   },
   {
    "duration": 22,
    "start_time": "2022-09-21T12:57:31.683Z"
   },
   {
    "duration": 448,
    "start_time": "2022-09-21T12:57:33.186Z"
   },
   {
    "duration": 518,
    "start_time": "2022-09-21T12:57:35.244Z"
   },
   {
    "duration": 4,
    "start_time": "2022-09-21T12:57:36.828Z"
   },
   {
    "duration": 14,
    "start_time": "2022-09-21T12:57:41.133Z"
   },
   {
    "duration": 13,
    "start_time": "2022-09-21T12:57:41.669Z"
   },
   {
    "duration": 11,
    "start_time": "2022-09-21T12:57:43.528Z"
   },
   {
    "duration": 12,
    "start_time": "2022-09-21T12:57:43.945Z"
   },
   {
    "duration": 10,
    "start_time": "2022-09-21T12:57:45.689Z"
   },
   {
    "duration": 47,
    "start_time": "2022-09-21T12:57:46.840Z"
   },
   {
    "duration": 8,
    "start_time": "2022-09-21T12:57:48.780Z"
   },
   {
    "duration": 193,
    "start_time": "2022-09-21T12:57:49.277Z"
   },
   {
    "duration": 857,
    "start_time": "2022-09-21T12:58:04.117Z"
   },
   {
    "duration": 449,
    "start_time": "2022-09-21T12:58:26.277Z"
   },
   {
    "duration": 852,
    "start_time": "2022-09-21T12:58:33.164Z"
   },
   {
    "duration": 101,
    "start_time": "2022-09-21T12:58:37.341Z"
   },
   {
    "duration": 286,
    "start_time": "2022-09-21T12:58:48.517Z"
   },
   {
    "duration": 1959,
    "start_time": "2022-09-21T12:59:30.509Z"
   },
   {
    "duration": 1962,
    "start_time": "2022-09-21T12:59:47.746Z"
   },
   {
    "duration": 2260,
    "start_time": "2022-09-21T13:00:00.225Z"
   },
   {
    "duration": 1959,
    "start_time": "2022-09-21T13:01:45.678Z"
   },
   {
    "duration": 16,
    "start_time": "2022-09-21T13:04:39.719Z"
   },
   {
    "duration": 13,
    "start_time": "2022-09-21T13:05:33.458Z"
   },
   {
    "duration": 1557,
    "start_time": "2022-09-21T13:06:15.137Z"
   },
   {
    "duration": 2120,
    "start_time": "2022-09-21T13:06:31.573Z"
   },
   {
    "duration": 3310,
    "start_time": "2022-09-21T16:46:50.151Z"
   },
   {
    "duration": 5152,
    "start_time": "2022-09-21T16:47:22.071Z"
   },
   {
    "duration": 2483,
    "start_time": "2022-09-21T16:47:34.087Z"
   },
   {
    "duration": 2792,
    "start_time": "2022-09-21T16:51:05.418Z"
   },
   {
    "duration": 4,
    "start_time": "2022-09-21T16:51:39.528Z"
   },
   {
    "duration": 2775,
    "start_time": "2022-09-21T16:52:07.087Z"
   },
   {
    "duration": 13,
    "start_time": "2022-09-21T16:58:10.814Z"
   },
   {
    "duration": 2507,
    "start_time": "2022-09-21T16:58:24.451Z"
   },
   {
    "duration": 2402,
    "start_time": "2022-09-21T16:59:15.764Z"
   },
   {
    "duration": 2404,
    "start_time": "2022-09-21T17:00:45.810Z"
   },
   {
    "duration": 15,
    "start_time": "2022-09-21T17:01:10.833Z"
   },
   {
    "duration": 13,
    "start_time": "2022-09-21T17:01:31.634Z"
   },
   {
    "duration": 2480,
    "start_time": "2022-09-21T17:01:37.463Z"
   },
   {
    "duration": 2532,
    "start_time": "2022-09-21T17:01:42.890Z"
   },
   {
    "duration": 2814,
    "start_time": "2022-09-21T17:03:22.264Z"
   },
   {
    "duration": 1926,
    "start_time": "2022-09-21T17:06:19.024Z"
   },
   {
    "duration": 50,
    "start_time": "2022-09-21T17:13:51.028Z"
   },
   {
    "duration": 873,
    "start_time": "2022-09-21T17:13:56.043Z"
   },
   {
    "duration": 11,
    "start_time": "2022-09-21T17:14:00.197Z"
   },
   {
    "duration": 20,
    "start_time": "2022-09-21T17:14:12.084Z"
   },
   {
    "duration": 8,
    "start_time": "2022-09-21T17:14:21.567Z"
   },
   {
    "duration": 7,
    "start_time": "2022-09-21T17:14:33.840Z"
   },
   {
    "duration": 22,
    "start_time": "2022-09-21T17:15:50.404Z"
   },
   {
    "duration": 6,
    "start_time": "2022-09-21T17:15:59.728Z"
   },
   {
    "duration": 14,
    "start_time": "2022-09-21T17:16:16.814Z"
   },
   {
    "duration": 2874,
    "start_time": "2022-09-21T17:16:53.027Z"
   },
   {
    "duration": 2872,
    "start_time": "2022-09-21T17:17:02.929Z"
   },
   {
    "duration": 1846,
    "start_time": "2022-09-21T17:44:23.143Z"
   },
   {
    "duration": 874,
    "start_time": "2022-09-22T10:36:11.469Z"
   },
   {
    "duration": 500,
    "start_time": "2022-09-22T10:36:12.345Z"
   },
   {
    "duration": 7,
    "start_time": "2022-09-22T10:36:12.847Z"
   },
   {
    "duration": 21,
    "start_time": "2022-09-22T10:36:12.857Z"
   },
   {
    "duration": 13,
    "start_time": "2022-09-22T10:36:12.880Z"
   },
   {
    "duration": 21,
    "start_time": "2022-09-22T10:36:12.895Z"
   },
   {
    "duration": 10,
    "start_time": "2022-09-22T10:36:12.918Z"
   },
   {
    "duration": 14,
    "start_time": "2022-09-22T10:36:12.930Z"
   },
   {
    "duration": 8,
    "start_time": "2022-09-22T10:36:12.946Z"
   },
   {
    "duration": 8,
    "start_time": "2022-09-22T10:36:12.957Z"
   },
   {
    "duration": 9,
    "start_time": "2022-09-22T10:36:12.967Z"
   },
   {
    "duration": 48,
    "start_time": "2022-09-22T10:36:12.977Z"
   },
   {
    "duration": 528,
    "start_time": "2022-09-22T10:36:13.027Z"
   },
   {
    "duration": 637,
    "start_time": "2022-09-22T10:36:13.557Z"
   },
   {
    "duration": 5,
    "start_time": "2022-09-22T10:36:14.195Z"
   },
   {
    "duration": 30,
    "start_time": "2022-09-22T10:36:14.202Z"
   },
   {
    "duration": 26,
    "start_time": "2022-09-22T10:36:14.234Z"
   },
   {
    "duration": 21,
    "start_time": "2022-09-22T10:36:14.262Z"
   },
   {
    "duration": 12,
    "start_time": "2022-09-22T10:36:14.285Z"
   },
   {
    "duration": 10,
    "start_time": "2022-09-22T10:36:14.299Z"
   },
   {
    "duration": 52,
    "start_time": "2022-09-22T10:36:14.322Z"
   },
   {
    "duration": 7,
    "start_time": "2022-09-22T10:36:14.377Z"
   },
   {
    "duration": 254,
    "start_time": "2022-09-22T10:36:14.385Z"
   },
   {
    "duration": 3218,
    "start_time": "2022-09-22T10:36:14.641Z"
   },
   {
    "duration": 6,
    "start_time": "2022-09-22T10:36:17.861Z"
   },
   {
    "duration": 25,
    "start_time": "2022-09-22T10:36:17.869Z"
   },
   {
    "duration": 16,
    "start_time": "2022-09-22T10:36:17.895Z"
   },
   {
    "duration": 49,
    "start_time": "2022-09-22T10:36:17.915Z"
   },
   {
    "duration": 12,
    "start_time": "2022-09-22T10:36:17.966Z"
   },
   {
    "duration": 47,
    "start_time": "2022-09-22T10:36:17.980Z"
   },
   {
    "duration": 46,
    "start_time": "2022-09-22T10:36:18.029Z"
   },
   {
    "duration": 6,
    "start_time": "2022-09-22T10:36:18.077Z"
   },
   {
    "duration": 216,
    "start_time": "2022-09-22T10:36:18.121Z"
   },
   {
    "duration": 2195,
    "start_time": "2022-09-22T10:36:18.339Z"
   },
   {
    "duration": 5,
    "start_time": "2022-09-22T10:36:20.536Z"
   },
   {
    "duration": 16,
    "start_time": "2022-09-22T10:36:20.543Z"
   },
   {
    "duration": 12,
    "start_time": "2022-09-22T10:36:20.562Z"
   },
   {
    "duration": 15,
    "start_time": "2022-09-22T10:36:20.575Z"
   },
   {
    "duration": 356,
    "start_time": "2022-09-22T10:36:20.592Z"
   },
   {
    "duration": 8,
    "start_time": "2022-09-22T10:36:20.950Z"
   },
   {
    "duration": 21,
    "start_time": "2022-09-22T10:36:20.960Z"
   },
   {
    "duration": 19,
    "start_time": "2022-09-22T10:36:20.983Z"
   },
   {
    "duration": 19,
    "start_time": "2022-09-22T10:36:21.004Z"
   },
   {
    "duration": 37,
    "start_time": "2022-09-22T10:36:21.024Z"
   },
   {
    "duration": 16,
    "start_time": "2022-09-22T10:36:21.064Z"
   },
   {
    "duration": 12,
    "start_time": "2022-09-22T10:36:21.082Z"
   },
   {
    "duration": 11,
    "start_time": "2022-09-22T10:36:21.096Z"
   },
   {
    "duration": 274,
    "start_time": "2022-09-22T10:36:21.109Z"
   },
   {
    "duration": 9,
    "start_time": "2022-09-22T10:36:21.385Z"
   },
   {
    "duration": 76,
    "start_time": "2022-09-22T10:36:21.396Z"
   },
   {
    "duration": 44,
    "start_time": "2022-09-22T17:54:03.579Z"
   },
   {
    "duration": 688,
    "start_time": "2022-09-22T17:54:33.285Z"
   },
   {
    "duration": 539,
    "start_time": "2022-09-22T17:54:33.974Z"
   },
   {
    "duration": 4,
    "start_time": "2022-09-22T17:54:34.515Z"
   },
   {
    "duration": 15,
    "start_time": "2022-09-22T17:54:34.521Z"
   },
   {
    "duration": 11,
    "start_time": "2022-09-22T17:54:34.537Z"
   },
   {
    "duration": 14,
    "start_time": "2022-09-22T17:54:34.549Z"
   },
   {
    "duration": 8,
    "start_time": "2022-09-22T17:54:34.565Z"
   },
   {
    "duration": 11,
    "start_time": "2022-09-22T17:54:34.574Z"
   },
   {
    "duration": 7,
    "start_time": "2022-09-22T17:54:34.586Z"
   },
   {
    "duration": 26,
    "start_time": "2022-09-22T17:54:34.595Z"
   },
   {
    "duration": 4,
    "start_time": "2022-09-22T17:54:34.623Z"
   },
   {
    "duration": 23,
    "start_time": "2022-09-22T17:54:34.628Z"
   },
   {
    "duration": 436,
    "start_time": "2022-09-22T17:54:34.652Z"
   },
   {
    "duration": 483,
    "start_time": "2022-09-22T17:54:35.090Z"
   },
   {
    "duration": 4,
    "start_time": "2022-09-22T17:54:35.575Z"
   },
   {
    "duration": 23,
    "start_time": "2022-09-22T17:54:35.580Z"
   },
   {
    "duration": 22,
    "start_time": "2022-09-22T17:54:35.605Z"
   },
   {
    "duration": 13,
    "start_time": "2022-09-22T17:54:35.629Z"
   },
   {
    "duration": 11,
    "start_time": "2022-09-22T17:54:35.644Z"
   },
   {
    "duration": 16,
    "start_time": "2022-09-22T17:54:35.657Z"
   },
   {
    "duration": 58,
    "start_time": "2022-09-22T17:54:35.675Z"
   },
   {
    "duration": 7,
    "start_time": "2022-09-22T17:54:35.734Z"
   },
   {
    "duration": 209,
    "start_time": "2022-09-22T17:54:35.742Z"
   },
   {
    "duration": 2675,
    "start_time": "2022-09-22T17:54:35.953Z"
   },
   {
    "duration": 4,
    "start_time": "2022-09-22T17:54:38.630Z"
   },
   {
    "duration": 12,
    "start_time": "2022-09-22T17:54:38.636Z"
   },
   {
    "duration": 15,
    "start_time": "2022-09-22T17:54:38.649Z"
   },
   {
    "duration": 32,
    "start_time": "2022-09-22T17:54:38.668Z"
   },
   {
    "duration": 10,
    "start_time": "2022-09-22T17:54:38.702Z"
   },
   {
    "duration": 14,
    "start_time": "2022-09-22T17:54:38.714Z"
   },
   {
    "duration": 30,
    "start_time": "2022-09-22T17:54:38.730Z"
   },
   {
    "duration": 6,
    "start_time": "2022-09-22T17:54:38.761Z"
   },
   {
    "duration": 181,
    "start_time": "2022-09-22T17:54:38.768Z"
   },
   {
    "duration": 1834,
    "start_time": "2022-09-22T17:54:38.951Z"
   },
   {
    "duration": 4,
    "start_time": "2022-09-22T17:54:40.787Z"
   },
   {
    "duration": 9,
    "start_time": "2022-09-22T17:54:40.792Z"
   },
   {
    "duration": 23,
    "start_time": "2022-09-22T17:54:40.802Z"
   },
   {
    "duration": 18,
    "start_time": "2022-09-22T17:54:40.826Z"
   },
   {
    "duration": 287,
    "start_time": "2022-09-22T17:54:40.846Z"
   },
   {
    "duration": 8,
    "start_time": "2022-09-22T17:54:41.135Z"
   },
   {
    "duration": 6,
    "start_time": "2022-09-22T17:54:41.145Z"
   },
   {
    "duration": 9,
    "start_time": "2022-09-22T17:54:41.152Z"
   },
   {
    "duration": 10,
    "start_time": "2022-09-22T17:54:41.163Z"
   },
   {
    "duration": 9,
    "start_time": "2022-09-22T17:54:41.175Z"
   },
   {
    "duration": 45,
    "start_time": "2022-09-22T17:54:41.186Z"
   },
   {
    "duration": 12,
    "start_time": "2022-09-22T17:54:41.233Z"
   },
   {
    "duration": 10,
    "start_time": "2022-09-22T17:54:41.247Z"
   },
   {
    "duration": 267,
    "start_time": "2022-09-22T17:54:41.258Z"
   },
   {
    "duration": 8,
    "start_time": "2022-09-22T17:54:41.527Z"
   },
   {
    "duration": 60,
    "start_time": "2022-09-22T17:54:41.536Z"
   },
   {
    "duration": 106,
    "start_time": "2022-09-22T17:54:41.597Z"
   },
   {
    "duration": 10,
    "start_time": "2022-09-22T17:54:59.158Z"
   },
   {
    "duration": 18,
    "start_time": "2022-09-22T17:58:59.980Z"
   },
   {
    "duration": 138,
    "start_time": "2022-09-22T17:59:54.247Z"
   },
   {
    "duration": 1381,
    "start_time": "2022-09-22T18:02:35.471Z"
   },
   {
    "duration": 698,
    "start_time": "2022-09-22T18:02:44.735Z"
   },
   {
    "duration": 216,
    "start_time": "2022-09-22T18:02:45.435Z"
   },
   {
    "duration": 6,
    "start_time": "2022-09-22T18:02:45.653Z"
   },
   {
    "duration": 51,
    "start_time": "2022-09-22T18:02:45.661Z"
   },
   {
    "duration": 29,
    "start_time": "2022-09-22T18:02:45.714Z"
   },
   {
    "duration": 23,
    "start_time": "2022-09-22T18:02:45.745Z"
   },
   {
    "duration": 14,
    "start_time": "2022-09-22T18:02:45.769Z"
   },
   {
    "duration": 42,
    "start_time": "2022-09-22T18:02:45.784Z"
   },
   {
    "duration": 22,
    "start_time": "2022-09-22T18:02:45.827Z"
   },
   {
    "duration": 22,
    "start_time": "2022-09-22T18:02:45.851Z"
   },
   {
    "duration": 31,
    "start_time": "2022-09-22T18:02:45.874Z"
   },
   {
    "duration": 53,
    "start_time": "2022-09-22T18:02:45.907Z"
   },
   {
    "duration": 550,
    "start_time": "2022-09-22T18:02:45.962Z"
   },
   {
    "duration": 540,
    "start_time": "2022-09-22T18:02:46.516Z"
   },
   {
    "duration": 4,
    "start_time": "2022-09-22T18:02:47.057Z"
   },
   {
    "duration": 36,
    "start_time": "2022-09-22T18:02:47.063Z"
   },
   {
    "duration": 37,
    "start_time": "2022-09-22T18:02:47.101Z"
   },
   {
    "duration": 53,
    "start_time": "2022-09-22T18:02:47.140Z"
   },
   {
    "duration": 28,
    "start_time": "2022-09-22T18:02:47.195Z"
   },
   {
    "duration": 15,
    "start_time": "2022-09-22T18:02:47.225Z"
   },
   {
    "duration": 75,
    "start_time": "2022-09-22T18:02:47.241Z"
   },
   {
    "duration": 7,
    "start_time": "2022-09-22T18:02:47.318Z"
   },
   {
    "duration": 265,
    "start_time": "2022-09-22T18:02:47.327Z"
   },
   {
    "duration": 2858,
    "start_time": "2022-09-22T18:02:47.594Z"
   },
   {
    "duration": 5,
    "start_time": "2022-09-22T18:02:50.454Z"
   },
   {
    "duration": 20,
    "start_time": "2022-09-22T18:02:50.460Z"
   },
   {
    "duration": 13,
    "start_time": "2022-09-22T18:02:50.481Z"
   },
   {
    "duration": 31,
    "start_time": "2022-09-22T18:02:50.496Z"
   },
   {
    "duration": 11,
    "start_time": "2022-09-22T18:02:50.529Z"
   },
   {
    "duration": 17,
    "start_time": "2022-09-22T18:02:50.542Z"
   },
   {
    "duration": 44,
    "start_time": "2022-09-22T18:02:50.560Z"
   },
   {
    "duration": 16,
    "start_time": "2022-09-22T18:02:50.606Z"
   },
   {
    "duration": 166,
    "start_time": "2022-09-22T18:02:50.624Z"
   },
   {
    "duration": 1781,
    "start_time": "2022-09-22T18:02:50.792Z"
   },
   {
    "duration": 5,
    "start_time": "2022-09-22T18:02:52.575Z"
   },
   {
    "duration": 13,
    "start_time": "2022-09-22T18:02:52.581Z"
   },
   {
    "duration": 23,
    "start_time": "2022-09-22T18:02:52.596Z"
   },
   {
    "duration": 27,
    "start_time": "2022-09-22T18:02:52.622Z"
   },
   {
    "duration": 253,
    "start_time": "2022-09-22T18:02:52.651Z"
   },
   {
    "duration": 8,
    "start_time": "2022-09-22T18:02:52.906Z"
   },
   {
    "duration": 5,
    "start_time": "2022-09-22T18:02:52.925Z"
   },
   {
    "duration": 10,
    "start_time": "2022-09-22T18:02:52.932Z"
   },
   {
    "duration": 16,
    "start_time": "2022-09-22T18:02:52.944Z"
   },
   {
    "duration": 12,
    "start_time": "2022-09-22T18:02:52.962Z"
   },
   {
    "duration": 32,
    "start_time": "2022-09-22T18:02:52.976Z"
   },
   {
    "duration": 13,
    "start_time": "2022-09-22T18:02:53.021Z"
   },
   {
    "duration": 14,
    "start_time": "2022-09-22T18:02:53.036Z"
   },
   {
    "duration": 254,
    "start_time": "2022-09-22T18:02:53.052Z"
   },
   {
    "duration": 15,
    "start_time": "2022-09-22T18:02:53.307Z"
   },
   {
    "duration": 63,
    "start_time": "2022-09-22T18:02:53.324Z"
   },
   {
    "duration": 35,
    "start_time": "2022-09-22T18:02:53.389Z"
   },
   {
    "duration": 65,
    "start_time": "2022-09-22T18:02:53.425Z"
   },
   {
    "duration": 1240,
    "start_time": "2022-09-22T18:07:56.261Z"
   },
   {
    "duration": 4,
    "start_time": "2022-09-22T18:08:21.834Z"
   },
   {
    "duration": 36,
    "start_time": "2022-09-22T18:09:04.538Z"
   },
   {
    "duration": 11,
    "start_time": "2022-09-22T18:09:08.260Z"
   },
   {
    "duration": 16,
    "start_time": "2022-09-22T18:09:16.572Z"
   },
   {
    "duration": 39,
    "start_time": "2022-09-22T18:09:23.365Z"
   },
   {
    "duration": 10,
    "start_time": "2022-09-22T18:09:24.286Z"
   },
   {
    "duration": 1232,
    "start_time": "2022-09-22T18:11:04.021Z"
   },
   {
    "duration": 4,
    "start_time": "2022-09-22T18:11:15.950Z"
   },
   {
    "duration": 39,
    "start_time": "2022-09-22T18:13:00.902Z"
   },
   {
    "duration": 9,
    "start_time": "2022-09-22T18:13:01.889Z"
   },
   {
    "duration": 46,
    "start_time": "2022-09-22T18:13:08.222Z"
   },
   {
    "duration": 700,
    "start_time": "2022-09-22T20:21:40.454Z"
   },
   {
    "duration": 291,
    "start_time": "2022-09-22T20:21:41.156Z"
   },
   {
    "duration": 8,
    "start_time": "2022-09-22T20:21:41.450Z"
   },
   {
    "duration": 19,
    "start_time": "2022-09-22T20:21:41.461Z"
   },
   {
    "duration": 16,
    "start_time": "2022-09-22T20:21:41.482Z"
   },
   {
    "duration": 84,
    "start_time": "2022-09-22T20:21:41.501Z"
   },
   {
    "duration": 18,
    "start_time": "2022-09-22T20:21:41.587Z"
   },
   {
    "duration": 39,
    "start_time": "2022-09-22T20:21:41.608Z"
   },
   {
    "duration": 49,
    "start_time": "2022-09-22T20:21:41.648Z"
   },
   {
    "duration": 10,
    "start_time": "2022-09-22T20:21:41.701Z"
   },
   {
    "duration": 49,
    "start_time": "2022-09-22T20:21:41.714Z"
   },
   {
    "duration": 68,
    "start_time": "2022-09-22T20:21:41.769Z"
   },
   {
    "duration": 502,
    "start_time": "2022-09-22T20:21:41.848Z"
   },
   {
    "duration": 586,
    "start_time": "2022-09-22T20:21:42.352Z"
   },
   {
    "duration": 5,
    "start_time": "2022-09-22T20:21:42.941Z"
   },
   {
    "duration": 18,
    "start_time": "2022-09-22T20:21:42.947Z"
   },
   {
    "duration": 16,
    "start_time": "2022-09-22T20:21:42.967Z"
   },
   {
    "duration": 14,
    "start_time": "2022-09-22T20:21:42.984Z"
   },
   {
    "duration": 37,
    "start_time": "2022-09-22T20:21:43.000Z"
   },
   {
    "duration": 11,
    "start_time": "2022-09-22T20:21:43.044Z"
   },
   {
    "duration": 49,
    "start_time": "2022-09-22T20:21:43.056Z"
   },
   {
    "duration": 6,
    "start_time": "2022-09-22T20:21:43.107Z"
   },
   {
    "duration": 222,
    "start_time": "2022-09-22T20:21:43.123Z"
   },
   {
    "duration": 3032,
    "start_time": "2022-09-22T20:21:43.346Z"
   },
   {
    "duration": 5,
    "start_time": "2022-09-22T20:21:46.381Z"
   },
   {
    "duration": 26,
    "start_time": "2022-09-22T20:21:46.388Z"
   },
   {
    "duration": 37,
    "start_time": "2022-09-22T20:21:46.416Z"
   },
   {
    "duration": 33,
    "start_time": "2022-09-22T20:21:46.456Z"
   },
   {
    "duration": 14,
    "start_time": "2022-09-22T20:21:46.491Z"
   },
   {
    "duration": 12,
    "start_time": "2022-09-22T20:21:46.506Z"
   },
   {
    "duration": 38,
    "start_time": "2022-09-22T20:21:46.520Z"
   },
   {
    "duration": 6,
    "start_time": "2022-09-22T20:21:46.560Z"
   },
   {
    "duration": 193,
    "start_time": "2022-09-22T20:21:46.567Z"
   },
   {
    "duration": 1897,
    "start_time": "2022-09-22T20:21:46.762Z"
   },
   {
    "duration": 5,
    "start_time": "2022-09-22T20:21:48.661Z"
   },
   {
    "duration": 16,
    "start_time": "2022-09-22T20:21:48.668Z"
   },
   {
    "duration": 17,
    "start_time": "2022-09-22T20:21:48.686Z"
   },
   {
    "duration": 33,
    "start_time": "2022-09-22T20:21:48.705Z"
   },
   {
    "duration": 271,
    "start_time": "2022-09-22T20:21:48.739Z"
   },
   {
    "duration": 12,
    "start_time": "2022-09-22T20:21:49.011Z"
   },
   {
    "duration": 19,
    "start_time": "2022-09-22T20:21:49.026Z"
   },
   {
    "duration": 9,
    "start_time": "2022-09-22T20:21:49.046Z"
   },
   {
    "duration": 13,
    "start_time": "2022-09-22T20:21:49.057Z"
   },
   {
    "duration": 11,
    "start_time": "2022-09-22T20:21:49.071Z"
   },
   {
    "duration": 14,
    "start_time": "2022-09-22T20:21:49.083Z"
   },
   {
    "duration": 36,
    "start_time": "2022-09-22T20:21:49.098Z"
   },
   {
    "duration": 11,
    "start_time": "2022-09-22T20:21:49.136Z"
   },
   {
    "duration": 283,
    "start_time": "2022-09-22T20:21:49.149Z"
   },
   {
    "duration": 9,
    "start_time": "2022-09-22T20:21:49.436Z"
   },
   {
    "duration": 56,
    "start_time": "2022-09-22T20:21:49.446Z"
   },
   {
    "duration": 33,
    "start_time": "2022-09-22T20:21:49.503Z"
   },
   {
    "duration": 39,
    "start_time": "2022-09-22T20:21:49.539Z"
   },
   {
    "duration": 3,
    "start_time": "2022-09-22T20:21:49.580Z"
   },
   {
    "duration": 48,
    "start_time": "2022-09-22T20:21:49.584Z"
   },
   {
    "duration": 9,
    "start_time": "2022-09-22T20:21:49.636Z"
   },
   {
    "duration": 757,
    "start_time": "2022-09-25T05:56:58.269Z"
   },
   {
    "duration": 468,
    "start_time": "2022-09-25T05:56:59.473Z"
   },
   {
    "duration": 5,
    "start_time": "2022-09-25T05:57:00.299Z"
   },
   {
    "duration": 17,
    "start_time": "2022-09-25T05:57:01.003Z"
   },
   {
    "duration": 13,
    "start_time": "2022-09-25T05:57:01.247Z"
   },
   {
    "duration": 18,
    "start_time": "2022-09-25T05:57:01.891Z"
   },
   {
    "duration": 10,
    "start_time": "2022-09-25T05:57:03.498Z"
   },
   {
    "duration": 10,
    "start_time": "2022-09-25T05:57:03.866Z"
   },
   {
    "duration": 6,
    "start_time": "2022-09-25T05:57:04.238Z"
   },
   {
    "duration": 6,
    "start_time": "2022-09-25T05:57:04.450Z"
   },
   {
    "duration": 6,
    "start_time": "2022-09-25T05:57:04.854Z"
   },
   {
    "duration": 21,
    "start_time": "2022-09-25T05:57:05.235Z"
   },
   {
    "duration": 458,
    "start_time": "2022-09-25T05:57:05.632Z"
   },
   {
    "duration": 575,
    "start_time": "2022-09-25T05:57:06.092Z"
   },
   {
    "duration": 4,
    "start_time": "2022-09-25T05:57:06.669Z"
   },
   {
    "duration": 14,
    "start_time": "2022-09-25T05:57:06.914Z"
   },
   {
    "duration": 13,
    "start_time": "2022-09-25T05:57:07.065Z"
   },
   {
    "duration": 10,
    "start_time": "2022-09-25T05:57:07.225Z"
   },
   {
    "duration": 11,
    "start_time": "2022-09-25T05:57:07.385Z"
   },
   {
    "duration": 9,
    "start_time": "2022-09-25T05:57:07.553Z"
   },
   {
    "duration": 46,
    "start_time": "2022-09-25T05:57:07.891Z"
   },
   {
    "duration": 8,
    "start_time": "2022-09-25T05:57:08.217Z"
   },
   {
    "duration": 193,
    "start_time": "2022-09-25T05:57:08.394Z"
   },
   {
    "duration": 2839,
    "start_time": "2022-09-25T05:57:08.902Z"
   },
   {
    "duration": 5,
    "start_time": "2022-09-25T05:57:11.743Z"
   },
   {
    "duration": 11,
    "start_time": "2022-09-25T05:57:15.828Z"
   },
   {
    "duration": 10,
    "start_time": "2022-09-25T05:57:16.105Z"
   },
   {
    "duration": 39,
    "start_time": "2022-09-25T05:57:16.320Z"
   },
   {
    "duration": 10,
    "start_time": "2022-09-25T05:57:16.488Z"
   },
   {
    "duration": 7,
    "start_time": "2022-09-25T05:57:16.931Z"
   },
   {
    "duration": 31,
    "start_time": "2022-09-25T05:57:17.251Z"
   },
   {
    "duration": 6,
    "start_time": "2022-09-25T05:57:17.594Z"
   },
   {
    "duration": 163,
    "start_time": "2022-09-25T05:57:17.782Z"
   },
   {
    "duration": 1794,
    "start_time": "2022-09-25T05:57:18.116Z"
   },
   {
    "duration": 5,
    "start_time": "2022-09-25T05:57:19.912Z"
   },
   {
    "duration": 16,
    "start_time": "2022-09-25T05:57:19.918Z"
   },
   {
    "duration": 23,
    "start_time": "2022-09-25T05:57:19.936Z"
   },
   {
    "duration": 15,
    "start_time": "2022-09-25T05:57:20.211Z"
   },
   {
    "duration": 256,
    "start_time": "2022-09-25T05:57:22.968Z"
   },
   {
    "duration": 8,
    "start_time": "2022-09-25T05:57:25.726Z"
   },
   {
    "duration": 5,
    "start_time": "2022-09-25T05:57:25.845Z"
   },
   {
    "duration": 11,
    "start_time": "2022-09-25T05:57:26.347Z"
   },
   {
    "duration": 10,
    "start_time": "2022-09-25T05:57:26.627Z"
   },
   {
    "duration": 12,
    "start_time": "2022-09-25T05:57:26.910Z"
   },
   {
    "duration": 15,
    "start_time": "2022-09-25T05:57:27.618Z"
   },
   {
    "duration": 13,
    "start_time": "2022-09-25T05:57:28.344Z"
   },
   {
    "duration": 12,
    "start_time": "2022-09-25T05:57:30.529Z"
   },
   {
    "duration": 248,
    "start_time": "2022-09-25T05:57:30.848Z"
   },
   {
    "duration": 8,
    "start_time": "2022-09-25T05:57:31.613Z"
   },
   {
    "duration": 55,
    "start_time": "2022-09-25T05:57:33.110Z"
   },
   {
    "duration": 11,
    "start_time": "2022-09-25T05:57:40.675Z"
   },
   {
    "duration": 10,
    "start_time": "2022-09-25T05:58:30.564Z"
   },
   {
    "duration": 10,
    "start_time": "2022-09-25T05:58:35.280Z"
   },
   {
    "duration": 159,
    "start_time": "2022-09-25T05:58:40.115Z"
   },
   {
    "duration": 4,
    "start_time": "2022-09-25T05:58:45.884Z"
   },
   {
    "duration": 38,
    "start_time": "2022-09-25T05:58:50.868Z"
   },
   {
    "duration": 10,
    "start_time": "2022-09-25T05:58:57.309Z"
   },
   {
    "duration": 22,
    "start_time": "2022-09-25T05:59:03.340Z"
   },
   {
    "duration": 30,
    "start_time": "2022-09-25T05:59:09.502Z"
   },
   {
    "duration": 42,
    "start_time": "2022-09-25T05:59:15.507Z"
   },
   {
    "duration": 362,
    "start_time": "2022-09-25T05:59:40.516Z"
   },
   {
    "duration": 237,
    "start_time": "2022-09-25T05:59:46.516Z"
   },
   {
    "duration": 313,
    "start_time": "2022-09-25T05:59:51.906Z"
   },
   {
    "duration": 264,
    "start_time": "2022-09-25T05:59:59.556Z"
   },
   {
    "duration": 369,
    "start_time": "2022-09-25T06:00:05.480Z"
   },
   {
    "duration": 684,
    "start_time": "2022-09-25T06:01:51.862Z"
   },
   {
    "duration": 43,
    "start_time": "2022-09-25T06:02:06.830Z"
   },
   {
    "duration": 955,
    "start_time": "2022-09-25T06:02:12.539Z"
   },
   {
    "duration": 9,
    "start_time": "2022-09-25T06:02:34.200Z"
   },
   {
    "duration": 11,
    "start_time": "2022-09-25T06:02:38.858Z"
   },
   {
    "duration": 22,
    "start_time": "2022-09-25T06:02:56.061Z"
   },
   {
    "duration": 7,
    "start_time": "2022-09-25T06:03:33.366Z"
   },
   {
    "duration": 32,
    "start_time": "2022-09-25T06:03:56.258Z"
   },
   {
    "duration": 25,
    "start_time": "2022-09-25T06:04:03.671Z"
   },
   {
    "duration": 522,
    "start_time": "2022-09-25T06:04:17.631Z"
   },
   {
    "duration": 434,
    "start_time": "2022-09-25T06:04:21.919Z"
   },
   {
    "duration": 4,
    "start_time": "2022-09-25T06:04:44.391Z"
   },
   {
    "duration": 826790,
    "start_time": "2022-09-25T06:04:47.871Z"
   },
   {
    "duration": 825464,
    "start_time": "2022-09-25T06:18:34.663Z"
   },
   {
    "duration": 4,
    "start_time": "2022-09-25T06:32:20.129Z"
   },
   {
    "duration": 8144306,
    "start_time": "2022-09-25T06:32:20.136Z"
   },
   {
    "duration": 0,
    "start_time": "2022-09-25T08:48:04.444Z"
   },
   {
    "duration": 0,
    "start_time": "2022-09-25T08:48:04.445Z"
   },
   {
    "duration": 0,
    "start_time": "2022-09-25T08:48:04.446Z"
   },
   {
    "duration": 6,
    "start_time": "2022-09-25T08:48:07.594Z"
   },
   {
    "duration": 31,
    "start_time": "2022-09-25T08:48:11.965Z"
   },
   {
    "duration": 6889,
    "start_time": "2022-09-25T08:48:14.893Z"
   },
   {
    "duration": 15,
    "start_time": "2022-09-25T08:50:30.173Z"
   },
   {
    "duration": 4,
    "start_time": "2022-09-25T08:50:34.422Z"
   },
   {
    "duration": 9,
    "start_time": "2022-09-25T08:51:35.762Z"
   },
   {
    "duration": 6,
    "start_time": "2022-09-25T08:51:40.301Z"
   },
   {
    "duration": 4,
    "start_time": "2022-09-25T08:51:56.375Z"
   },
   {
    "duration": 230,
    "start_time": "2022-09-25T08:52:13.751Z"
   },
   {
    "duration": 366,
    "start_time": "2022-09-25T08:52:43.630Z"
   },
   {
    "duration": 6846,
    "start_time": "2022-09-25T08:53:56.528Z"
   },
   {
    "duration": 6818,
    "start_time": "2022-09-25T08:54:24.229Z"
   },
   {
    "duration": 7020,
    "start_time": "2022-09-25T08:55:01.737Z"
   },
   {
    "duration": 3,
    "start_time": "2022-09-25T08:55:29.411Z"
   },
   {
    "duration": 253,
    "start_time": "2022-09-25T08:55:32.187Z"
   },
   {
    "duration": 242,
    "start_time": "2022-09-25T08:56:22.422Z"
   },
   {
    "duration": 6565,
    "start_time": "2022-09-25T08:56:42.559Z"
   },
   {
    "duration": 6832,
    "start_time": "2022-09-25T08:57:05.863Z"
   },
   {
    "duration": 270,
    "start_time": "2022-09-25T08:57:46.820Z"
   },
   {
    "duration": 13,
    "start_time": "2022-09-25T16:05:49.508Z"
   },
   {
    "duration": 270,
    "start_time": "2022-09-25T16:05:58.109Z"
   },
   {
    "duration": 247,
    "start_time": "2022-09-25T16:06:19.700Z"
   },
   {
    "duration": 697,
    "start_time": "2022-09-25T16:15:37.748Z"
   },
   {
    "duration": 388,
    "start_time": "2022-09-25T16:17:34.152Z"
   },
   {
    "duration": 389,
    "start_time": "2022-09-25T16:17:51.613Z"
   },
   {
    "duration": 656,
    "start_time": "2022-09-25T16:19:02.333Z"
   },
   {
    "duration": 447,
    "start_time": "2022-09-25T16:19:29.134Z"
   },
   {
    "duration": 418,
    "start_time": "2022-09-25T16:20:06.695Z"
   },
   {
    "duration": 879,
    "start_time": "2022-09-25T16:21:06.087Z"
   },
   {
    "duration": 115,
    "start_time": "2022-09-25T16:22:46.796Z"
   },
   {
    "duration": 6729,
    "start_time": "2022-09-25T16:22:53.148Z"
   },
   {
    "duration": 432,
    "start_time": "2022-09-25T16:22:59.879Z"
   },
   {
    "duration": 3366,
    "start_time": "2022-09-26T04:24:59.644Z"
   },
   {
    "duration": 780,
    "start_time": "2022-09-26T04:25:04.852Z"
   },
   {
    "duration": 7,
    "start_time": "2022-09-26T04:25:05.740Z"
   },
   {
    "duration": 16,
    "start_time": "2022-09-26T04:25:06.451Z"
   },
   {
    "duration": 17,
    "start_time": "2022-09-26T04:25:06.635Z"
   },
   {
    "duration": 20,
    "start_time": "2022-09-26T04:25:06.838Z"
   },
   {
    "duration": 10,
    "start_time": "2022-09-26T04:25:14.082Z"
   },
   {
    "duration": 8,
    "start_time": "2022-09-26T04:25:14.272Z"
   },
   {
    "duration": 8,
    "start_time": "2022-09-26T04:25:14.445Z"
   },
   {
    "duration": 27,
    "start_time": "2022-09-26T04:25:14.632Z"
   },
   {
    "duration": 6,
    "start_time": "2022-09-26T04:25:14.978Z"
   },
   {
    "duration": 41,
    "start_time": "2022-09-26T04:25:15.507Z"
   },
   {
    "duration": 486,
    "start_time": "2022-09-26T04:25:15.857Z"
   },
   {
    "duration": 549,
    "start_time": "2022-09-26T04:25:16.348Z"
   },
   {
    "duration": 4,
    "start_time": "2022-09-26T04:25:16.899Z"
   },
   {
    "duration": 18,
    "start_time": "2022-09-26T04:25:17.436Z"
   },
   {
    "duration": 21,
    "start_time": "2022-09-26T04:25:17.611Z"
   },
   {
    "duration": 13,
    "start_time": "2022-09-26T04:25:17.836Z"
   },
   {
    "duration": 16,
    "start_time": "2022-09-26T04:25:18.032Z"
   },
   {
    "duration": 12,
    "start_time": "2022-09-26T04:25:18.244Z"
   },
   {
    "duration": 58,
    "start_time": "2022-09-26T04:25:18.608Z"
   },
   {
    "duration": 9,
    "start_time": "2022-09-26T04:25:19.040Z"
   },
   {
    "duration": 233,
    "start_time": "2022-09-26T04:25:19.235Z"
   },
   {
    "duration": 2985,
    "start_time": "2022-09-26T04:25:19.748Z"
   },
   {
    "duration": 4,
    "start_time": "2022-09-26T04:25:22.736Z"
   },
   {
    "duration": 19,
    "start_time": "2022-09-26T04:25:22.742Z"
   },
   {
    "duration": 15,
    "start_time": "2022-09-26T04:25:22.763Z"
   },
   {
    "duration": 51,
    "start_time": "2022-09-26T04:25:22.780Z"
   },
   {
    "duration": 15,
    "start_time": "2022-09-26T04:25:22.832Z"
   },
   {
    "duration": 10,
    "start_time": "2022-09-26T04:25:22.849Z"
   },
   {
    "duration": 30,
    "start_time": "2022-09-26T04:25:22.860Z"
   },
   {
    "duration": 12,
    "start_time": "2022-09-26T04:25:23.308Z"
   },
   {
    "duration": 236,
    "start_time": "2022-09-26T04:25:23.759Z"
   },
   {
    "duration": 1894,
    "start_time": "2022-09-26T04:25:24.133Z"
   },
   {
    "duration": 7,
    "start_time": "2022-09-26T04:25:26.029Z"
   },
   {
    "duration": 17,
    "start_time": "2022-09-26T04:25:26.038Z"
   },
   {
    "duration": 12,
    "start_time": "2022-09-26T04:25:26.057Z"
   },
   {
    "duration": 16,
    "start_time": "2022-09-26T04:25:26.071Z"
   },
   {
    "duration": 297,
    "start_time": "2022-09-26T04:25:26.373Z"
   },
   {
    "duration": 7,
    "start_time": "2022-09-26T04:25:26.897Z"
   },
   {
    "duration": 4,
    "start_time": "2022-09-26T04:25:27.096Z"
   },
   {
    "duration": 7,
    "start_time": "2022-09-26T04:25:27.446Z"
   },
   {
    "duration": 14,
    "start_time": "2022-09-26T04:25:27.641Z"
   },
   {
    "duration": 11,
    "start_time": "2022-09-26T04:25:27.857Z"
   },
   {
    "duration": 39,
    "start_time": "2022-09-26T04:25:28.219Z"
   },
   {
    "duration": 15,
    "start_time": "2022-09-26T04:25:28.588Z"
   },
   {
    "duration": 11,
    "start_time": "2022-09-26T04:25:28.958Z"
   },
   {
    "duration": 261,
    "start_time": "2022-09-26T04:25:29.137Z"
   },
   {
    "duration": 16,
    "start_time": "2022-09-26T04:25:29.533Z"
   },
   {
    "duration": 54,
    "start_time": "2022-09-26T04:25:30.707Z"
   },
   {
    "duration": 10,
    "start_time": "2022-09-26T04:25:37.360Z"
   },
   {
    "duration": 29,
    "start_time": "2022-09-26T04:26:26.301Z"
   },
   {
    "duration": 142,
    "start_time": "2022-09-26T04:26:28.051Z"
   },
   {
    "duration": 1286,
    "start_time": "2022-09-26T04:27:27.202Z"
   },
   {
    "duration": 1130,
    "start_time": "2022-09-26T04:28:48.444Z"
   },
   {
    "duration": 3,
    "start_time": "2022-09-26T04:29:19.579Z"
   },
   {
    "duration": 38,
    "start_time": "2022-09-26T04:29:25.550Z"
   },
   {
    "duration": 14,
    "start_time": "2022-09-26T04:29:29.140Z"
   },
   {
    "duration": 10,
    "start_time": "2022-09-26T04:30:07.977Z"
   },
   {
    "duration": 51,
    "start_time": "2022-09-26T04:30:15.001Z"
   },
   {
    "duration": 52,
    "start_time": "2022-09-26T04:30:15.983Z"
   },
   {
    "duration": 12,
    "start_time": "2022-09-26T04:32:33.187Z"
   },
   {
    "duration": 424,
    "start_time": "2022-09-26T04:43:01.661Z"
   },
   {
    "duration": 291,
    "start_time": "2022-09-26T04:43:05.786Z"
   },
   {
    "duration": 429,
    "start_time": "2022-09-26T04:43:07.836Z"
   },
   {
    "duration": 267,
    "start_time": "2022-09-26T04:43:08.852Z"
   },
   {
    "duration": 431,
    "start_time": "2022-09-26T04:43:09.534Z"
   },
   {
    "duration": 7,
    "start_time": "2022-09-26T04:47:59.944Z"
   },
   {
    "duration": 19,
    "start_time": "2022-09-26T04:48:00.606Z"
   },
   {
    "duration": 18,
    "start_time": "2022-09-26T04:48:04.340Z"
   },
   {
    "duration": 9,
    "start_time": "2022-09-26T04:49:46.238Z"
   },
   {
    "duration": 49,
    "start_time": "2022-09-26T04:50:08.093Z"
   },
   {
    "duration": 30,
    "start_time": "2022-09-26T04:50:09.051Z"
   },
   {
    "duration": 853,
    "start_time": "2022-09-26T04:51:29.406Z"
   },
   {
    "duration": 689,
    "start_time": "2022-09-26T04:51:30.944Z"
   },
   {
    "duration": 2,
    "start_time": "2022-09-26T04:52:13.478Z"
   },
   {
    "duration": 773537,
    "start_time": "2022-09-26T04:53:33.598Z"
   },
   {
    "duration": 0,
    "start_time": "2022-09-26T05:06:27.137Z"
   },
   {
    "duration": 3,
    "start_time": "2022-09-26T05:06:29.434Z"
   },
   {
    "duration": 47,
    "start_time": "2022-09-26T06:07:01.323Z"
   },
   {
    "duration": 1591,
    "start_time": "2022-09-26T06:07:11.723Z"
   },
   {
    "duration": 579,
    "start_time": "2022-09-26T06:07:13.316Z"
   },
   {
    "duration": 6,
    "start_time": "2022-09-26T06:07:13.896Z"
   },
   {
    "duration": 24,
    "start_time": "2022-09-26T06:07:13.904Z"
   },
   {
    "duration": 14,
    "start_time": "2022-09-26T06:07:13.929Z"
   },
   {
    "duration": 19,
    "start_time": "2022-09-26T06:07:13.945Z"
   },
   {
    "duration": 30,
    "start_time": "2022-09-26T06:07:13.966Z"
   },
   {
    "duration": 10,
    "start_time": "2022-09-26T06:07:13.998Z"
   },
   {
    "duration": 15,
    "start_time": "2022-09-26T06:07:14.010Z"
   },
   {
    "duration": 13,
    "start_time": "2022-09-26T06:07:14.029Z"
   },
   {
    "duration": 9,
    "start_time": "2022-09-26T06:07:14.044Z"
   },
   {
    "duration": 29,
    "start_time": "2022-09-26T06:07:14.055Z"
   },
   {
    "duration": 504,
    "start_time": "2022-09-26T06:07:14.086Z"
   },
   {
    "duration": 604,
    "start_time": "2022-09-26T06:07:14.595Z"
   },
   {
    "duration": 4,
    "start_time": "2022-09-26T06:07:15.200Z"
   },
   {
    "duration": 23,
    "start_time": "2022-09-26T06:07:15.205Z"
   },
   {
    "duration": 15,
    "start_time": "2022-09-26T06:07:15.229Z"
   },
   {
    "duration": 12,
    "start_time": "2022-09-26T06:07:15.246Z"
   },
   {
    "duration": 36,
    "start_time": "2022-09-26T06:07:15.259Z"
   },
   {
    "duration": 8,
    "start_time": "2022-09-26T06:07:15.297Z"
   },
   {
    "duration": 49,
    "start_time": "2022-09-26T06:07:15.307Z"
   },
   {
    "duration": 6,
    "start_time": "2022-09-26T06:07:15.358Z"
   },
   {
    "duration": 244,
    "start_time": "2022-09-26T06:07:15.366Z"
   },
   {
    "duration": 3385,
    "start_time": "2022-09-26T06:07:15.612Z"
   },
   {
    "duration": 4,
    "start_time": "2022-09-26T06:07:18.998Z"
   },
   {
    "duration": 16,
    "start_time": "2022-09-26T06:07:19.004Z"
   },
   {
    "duration": 13,
    "start_time": "2022-09-26T06:07:19.022Z"
   },
   {
    "duration": 34,
    "start_time": "2022-09-26T06:07:19.039Z"
   },
   {
    "duration": 27,
    "start_time": "2022-09-26T06:07:19.075Z"
   },
   {
    "duration": 15,
    "start_time": "2022-09-26T06:07:19.104Z"
   },
   {
    "duration": 32,
    "start_time": "2022-09-26T06:07:19.120Z"
   },
   {
    "duration": 6,
    "start_time": "2022-09-26T06:07:19.153Z"
   },
   {
    "duration": 199,
    "start_time": "2022-09-26T06:07:19.160Z"
   },
   {
    "duration": 1969,
    "start_time": "2022-09-26T06:07:19.361Z"
   },
   {
    "duration": 4,
    "start_time": "2022-09-26T06:07:21.331Z"
   },
   {
    "duration": 11,
    "start_time": "2022-09-26T06:07:21.336Z"
   },
   {
    "duration": 12,
    "start_time": "2022-09-26T06:07:21.348Z"
   },
   {
    "duration": 16,
    "start_time": "2022-09-26T06:07:21.361Z"
   },
   {
    "duration": 288,
    "start_time": "2022-09-26T06:07:21.378Z"
   },
   {
    "duration": 7,
    "start_time": "2022-09-26T06:07:21.668Z"
   },
   {
    "duration": 8,
    "start_time": "2022-09-26T06:07:21.677Z"
   },
   {
    "duration": 9,
    "start_time": "2022-09-26T06:07:21.695Z"
   },
   {
    "duration": 15,
    "start_time": "2022-09-26T06:07:21.705Z"
   },
   {
    "duration": 14,
    "start_time": "2022-09-26T06:07:21.721Z"
   },
   {
    "duration": 14,
    "start_time": "2022-09-26T06:07:21.737Z"
   },
   {
    "duration": 12,
    "start_time": "2022-09-26T06:07:21.752Z"
   },
   {
    "duration": 35,
    "start_time": "2022-09-26T06:07:21.766Z"
   },
   {
    "duration": 274,
    "start_time": "2022-09-26T06:07:21.802Z"
   },
   {
    "duration": 17,
    "start_time": "2022-09-26T06:07:22.078Z"
   },
   {
    "duration": 65,
    "start_time": "2022-09-26T06:07:22.097Z"
   },
   {
    "duration": 35,
    "start_time": "2022-09-26T06:07:22.164Z"
   },
   {
    "duration": 9,
    "start_time": "2022-09-26T06:07:22.201Z"
   },
   {
    "duration": 185,
    "start_time": "2022-09-26T06:07:22.211Z"
   },
   {
    "duration": 4,
    "start_time": "2022-09-26T06:07:22.397Z"
   },
   {
    "duration": 42,
    "start_time": "2022-09-26T06:07:22.402Z"
   },
   {
    "duration": 8,
    "start_time": "2022-09-26T06:07:22.446Z"
   },
   {
    "duration": 68,
    "start_time": "2022-09-26T06:07:22.456Z"
   },
   {
    "duration": 32,
    "start_time": "2022-09-26T06:07:22.526Z"
   },
   {
    "duration": 438,
    "start_time": "2022-09-26T06:07:22.560Z"
   },
   {
    "duration": 271,
    "start_time": "2022-09-26T06:07:23.000Z"
   },
   {
    "duration": 283,
    "start_time": "2022-09-26T06:07:23.272Z"
   },
   {
    "duration": 273,
    "start_time": "2022-09-26T06:07:23.557Z"
   },
   {
    "duration": 428,
    "start_time": "2022-09-26T06:07:23.832Z"
   },
   {
    "duration": 48,
    "start_time": "2022-09-26T06:07:24.262Z"
   },
   {
    "duration": 44,
    "start_time": "2022-09-26T06:07:24.312Z"
   },
   {
    "duration": 961,
    "start_time": "2022-09-26T06:07:24.358Z"
   },
   {
    "duration": 9,
    "start_time": "2022-09-26T06:07:25.320Z"
   },
   {
    "duration": 17,
    "start_time": "2022-09-26T06:07:25.330Z"
   },
   {
    "duration": 46,
    "start_time": "2022-09-26T06:07:25.349Z"
   },
   {
    "duration": 9,
    "start_time": "2022-09-26T06:07:25.397Z"
   },
   {
    "duration": 62,
    "start_time": "2022-09-26T06:07:25.408Z"
   },
   {
    "duration": 24,
    "start_time": "2022-09-26T06:07:25.472Z"
   },
   {
    "duration": 602,
    "start_time": "2022-09-26T06:07:25.497Z"
   },
   {
    "duration": 591,
    "start_time": "2022-09-26T06:07:26.105Z"
   },
   {
    "duration": 4,
    "start_time": "2022-09-26T06:07:26.698Z"
   },
   {
    "duration": 38948,
    "start_time": "2022-09-26T06:07:26.703Z"
   },
   {
    "duration": 0,
    "start_time": "2022-09-26T06:08:05.653Z"
   },
   {
    "duration": 0,
    "start_time": "2022-09-26T06:08:05.654Z"
   },
   {
    "duration": 0,
    "start_time": "2022-09-26T06:08:05.655Z"
   },
   {
    "duration": 0,
    "start_time": "2022-09-26T06:08:05.656Z"
   },
   {
    "duration": 0,
    "start_time": "2022-09-26T06:08:05.657Z"
   },
   {
    "duration": 0,
    "start_time": "2022-09-26T06:08:05.659Z"
   },
   {
    "duration": 0,
    "start_time": "2022-09-26T06:08:05.660Z"
   },
   {
    "duration": 0,
    "start_time": "2022-09-26T06:08:05.661Z"
   },
   {
    "duration": 17,
    "start_time": "2022-09-26T06:08:19.862Z"
   },
   {
    "duration": 22,
    "start_time": "2022-09-26T06:08:28.169Z"
   },
   {
    "duration": 47,
    "start_time": "2022-09-26T06:08:32.854Z"
   },
   {
    "duration": 55,
    "start_time": "2022-09-26T19:09:37.167Z"
   },
   {
    "duration": 3,
    "start_time": "2022-09-26T19:09:43.875Z"
   },
   {
    "duration": 7,
    "start_time": "2022-09-26T19:10:53.539Z"
   },
   {
    "duration": 1815,
    "start_time": "2022-09-26T19:11:42.065Z"
   },
   {
    "duration": 513,
    "start_time": "2022-09-26T19:11:43.882Z"
   },
   {
    "duration": 6,
    "start_time": "2022-09-26T19:11:44.397Z"
   },
   {
    "duration": 29,
    "start_time": "2022-09-26T19:11:44.405Z"
   },
   {
    "duration": 14,
    "start_time": "2022-09-26T19:11:44.436Z"
   },
   {
    "duration": 43,
    "start_time": "2022-09-26T19:11:44.452Z"
   },
   {
    "duration": 17,
    "start_time": "2022-09-26T19:11:44.497Z"
   },
   {
    "duration": 14,
    "start_time": "2022-09-26T19:11:44.515Z"
   },
   {
    "duration": 12,
    "start_time": "2022-09-26T19:11:44.530Z"
   },
   {
    "duration": 8,
    "start_time": "2022-09-26T19:11:44.750Z"
   },
   {
    "duration": 6,
    "start_time": "2022-09-26T19:11:45.145Z"
   },
   {
    "duration": 27,
    "start_time": "2022-09-26T19:11:45.508Z"
   },
   {
    "duration": 561,
    "start_time": "2022-09-26T19:11:45.855Z"
   },
   {
    "duration": 666,
    "start_time": "2022-09-26T19:11:46.420Z"
   },
   {
    "duration": 5,
    "start_time": "2022-09-26T19:11:47.088Z"
   },
   {
    "duration": 35,
    "start_time": "2022-09-26T19:11:47.095Z"
   },
   {
    "duration": 15,
    "start_time": "2022-09-26T19:11:47.133Z"
   },
   {
    "duration": 20,
    "start_time": "2022-09-26T19:11:47.150Z"
   },
   {
    "duration": 14,
    "start_time": "2022-09-26T19:11:47.172Z"
   },
   {
    "duration": 34,
    "start_time": "2022-09-26T19:11:47.189Z"
   },
   {
    "duration": 65,
    "start_time": "2022-09-26T19:11:47.225Z"
   },
   {
    "duration": 8,
    "start_time": "2022-09-26T19:11:47.293Z"
   },
   {
    "duration": 261,
    "start_time": "2022-09-26T19:11:47.322Z"
   },
   {
    "duration": 3707,
    "start_time": "2022-09-26T19:11:47.586Z"
   },
   {
    "duration": 5,
    "start_time": "2022-09-26T19:11:51.296Z"
   },
   {
    "duration": 19,
    "start_time": "2022-09-26T19:11:51.303Z"
   },
   {
    "duration": 28,
    "start_time": "2022-09-26T19:11:51.324Z"
   },
   {
    "duration": 43,
    "start_time": "2022-09-26T19:11:51.354Z"
   },
   {
    "duration": 10,
    "start_time": "2022-09-26T19:11:51.399Z"
   },
   {
    "duration": 28,
    "start_time": "2022-09-26T19:11:51.411Z"
   },
   {
    "duration": 39,
    "start_time": "2022-09-26T19:11:51.441Z"
   },
   {
    "duration": 12,
    "start_time": "2022-09-26T19:11:51.481Z"
   },
   {
    "duration": 197,
    "start_time": "2022-09-26T19:11:51.496Z"
   },
   {
    "duration": 2434,
    "start_time": "2022-09-26T19:11:51.695Z"
   },
   {
    "duration": 5,
    "start_time": "2022-09-26T19:11:54.131Z"
   },
   {
    "duration": 13,
    "start_time": "2022-09-26T19:11:54.138Z"
   },
   {
    "duration": 19,
    "start_time": "2022-09-26T19:11:54.154Z"
   },
   {
    "duration": 21,
    "start_time": "2022-09-26T19:11:54.175Z"
   },
   {
    "duration": 359,
    "start_time": "2022-09-26T19:11:54.198Z"
   },
   {
    "duration": 9,
    "start_time": "2022-09-26T19:11:54.559Z"
   },
   {
    "duration": 9,
    "start_time": "2022-09-26T19:11:54.569Z"
   },
   {
    "duration": 18,
    "start_time": "2022-09-26T19:11:54.580Z"
   },
   {
    "duration": 33,
    "start_time": "2022-09-26T19:11:54.600Z"
   },
   {
    "duration": 20,
    "start_time": "2022-09-26T19:11:54.635Z"
   },
   {
    "duration": 21,
    "start_time": "2022-09-26T19:11:54.658Z"
   },
   {
    "duration": 14,
    "start_time": "2022-09-26T19:11:54.681Z"
   },
   {
    "duration": 13,
    "start_time": "2022-09-26T19:11:55.047Z"
   },
   {
    "duration": 322,
    "start_time": "2022-09-26T19:11:55.387Z"
   },
   {
    "duration": 11,
    "start_time": "2022-09-26T19:11:55.980Z"
   },
   {
    "duration": 76,
    "start_time": "2022-09-26T19:11:57.221Z"
   },
   {
    "duration": 13,
    "start_time": "2022-09-26T19:12:01.398Z"
   },
   {
    "duration": 13,
    "start_time": "2022-09-26T19:12:01.880Z"
   },
   {
    "duration": 195,
    "start_time": "2022-09-26T19:12:02.437Z"
   },
   {
    "duration": 5,
    "start_time": "2022-09-26T19:12:13.315Z"
   },
   {
    "duration": 53,
    "start_time": "2022-09-26T19:12:14.522Z"
   },
   {
    "duration": 11,
    "start_time": "2022-09-26T19:12:16.527Z"
   },
   {
    "duration": 58,
    "start_time": "2022-09-26T19:12:18.370Z"
   },
   {
    "duration": 48,
    "start_time": "2022-09-26T19:12:19.188Z"
   },
   {
    "duration": 470,
    "start_time": "2022-09-26T19:12:22.486Z"
   },
   {
    "duration": 324,
    "start_time": "2022-09-26T19:12:22.958Z"
   },
   {
    "duration": 326,
    "start_time": "2022-09-26T19:12:23.284Z"
   },
   {
    "duration": 333,
    "start_time": "2022-09-26T19:12:23.613Z"
   },
   {
    "duration": 479,
    "start_time": "2022-09-26T19:12:23.949Z"
   },
   {
    "duration": 50,
    "start_time": "2022-09-26T19:12:40.913Z"
   },
   {
    "duration": 2,
    "start_time": "2022-09-26T19:12:59.750Z"
   },
   {
    "duration": 5242,
    "start_time": "2022-09-26T19:13:02.022Z"
   },
   {
    "duration": 4765,
    "start_time": "2022-09-26T19:13:31.980Z"
   },
   {
    "duration": 5011,
    "start_time": "2022-09-26T19:13:43.065Z"
   },
   {
    "duration": 985,
    "start_time": "2022-09-26T19:36:05.062Z"
   },
   {
    "duration": 956,
    "start_time": "2022-09-26T19:36:37.160Z"
   },
   {
    "duration": 6,
    "start_time": "2022-09-26T19:36:47.705Z"
   },
   {
    "duration": 777,
    "start_time": "2022-09-26T19:36:57.207Z"
   },
   {
    "duration": 12,
    "start_time": "2022-09-26T19:37:03.730Z"
   },
   {
    "duration": 16,
    "start_time": "2022-09-26T19:37:14.948Z"
   },
   {
    "duration": 95,
    "start_time": "2022-09-26T19:37:42.442Z"
   },
   {
    "duration": 10,
    "start_time": "2022-09-26T19:38:06.153Z"
   },
   {
    "duration": 15,
    "start_time": "2022-09-26T19:38:32.729Z"
   },
   {
    "duration": 12,
    "start_time": "2022-09-26T19:38:50.684Z"
   },
   {
    "duration": 13,
    "start_time": "2022-09-26T19:39:02.572Z"
   },
   {
    "duration": 18,
    "start_time": "2022-09-26T19:39:12.640Z"
   },
   {
    "duration": 25,
    "start_time": "2022-09-26T19:39:17.604Z"
   },
   {
    "duration": 49,
    "start_time": "2022-09-26T19:39:41.608Z"
   },
   {
    "duration": 36,
    "start_time": "2022-09-26T19:40:03.611Z"
   },
   {
    "duration": 40,
    "start_time": "2022-09-26T19:41:18.632Z"
   },
   {
    "duration": 39,
    "start_time": "2022-09-26T19:41:25.114Z"
   },
   {
    "duration": 26,
    "start_time": "2022-09-26T19:41:44.656Z"
   },
   {
    "duration": 8,
    "start_time": "2022-09-26T19:43:55.221Z"
   },
   {
    "duration": 2,
    "start_time": "2022-09-26T19:44:52.982Z"
   },
   {
    "duration": 2,
    "start_time": "2022-09-26T19:44:53.446Z"
   },
   {
    "duration": 2,
    "start_time": "2022-09-26T19:45:12.501Z"
   },
   {
    "duration": 10,
    "start_time": "2022-09-26T19:45:31.129Z"
   },
   {
    "duration": 782,
    "start_time": "2022-09-26T19:45:38.341Z"
   },
   {
    "duration": 294,
    "start_time": "2022-09-26T19:46:18.535Z"
   },
   {
    "duration": 322,
    "start_time": "2022-09-26T19:46:31.005Z"
   },
   {
    "duration": 304,
    "start_time": "2022-09-26T19:46:47.018Z"
   },
   {
    "duration": 719,
    "start_time": "2022-09-26T19:47:00.205Z"
   },
   {
    "duration": 545,
    "start_time": "2022-09-26T19:48:02.881Z"
   },
   {
    "duration": 491,
    "start_time": "2022-09-26T19:48:11.037Z"
   },
   {
    "duration": 14,
    "start_time": "2022-09-26T19:49:23.888Z"
   },
   {
    "duration": 3,
    "start_time": "2022-09-26T19:49:29.048Z"
   },
   {
    "duration": 788141,
    "start_time": "2022-09-26T19:49:32.016Z"
   },
   {
    "duration": 1,
    "start_time": "2022-09-26T20:02:40.159Z"
   },
   {
    "duration": 0,
    "start_time": "2022-09-26T20:02:40.162Z"
   },
   {
    "duration": 0,
    "start_time": "2022-09-26T20:02:40.163Z"
   },
   {
    "duration": 0,
    "start_time": "2022-09-26T20:02:40.165Z"
   },
   {
    "duration": 5,
    "start_time": "2022-09-26T20:02:46.792Z"
   },
   {
    "duration": 10,
    "start_time": "2022-09-26T20:02:53.511Z"
   },
   {
    "duration": 11,
    "start_time": "2022-09-26T20:04:16.048Z"
   },
   {
    "duration": 1568,
    "start_time": "2022-09-26T20:05:19.803Z"
   },
   {
    "duration": 222,
    "start_time": "2022-09-26T20:05:21.374Z"
   },
   {
    "duration": 6,
    "start_time": "2022-09-26T20:05:21.600Z"
   },
   {
    "duration": 28,
    "start_time": "2022-09-26T20:05:21.607Z"
   },
   {
    "duration": 17,
    "start_time": "2022-09-26T20:05:21.638Z"
   },
   {
    "duration": 19,
    "start_time": "2022-09-26T20:05:21.657Z"
   },
   {
    "duration": 12,
    "start_time": "2022-09-26T20:05:21.678Z"
   },
   {
    "duration": 36,
    "start_time": "2022-09-26T20:05:21.692Z"
   },
   {
    "duration": 15,
    "start_time": "2022-09-26T20:05:21.731Z"
   },
   {
    "duration": 7,
    "start_time": "2022-09-26T20:05:21.748Z"
   },
   {
    "duration": 9,
    "start_time": "2022-09-26T20:05:21.757Z"
   },
   {
    "duration": 25,
    "start_time": "2022-09-26T20:05:21.767Z"
   },
   {
    "duration": 604,
    "start_time": "2022-09-26T20:05:21.794Z"
   },
   {
    "duration": 681,
    "start_time": "2022-09-26T20:05:22.399Z"
   },
   {
    "duration": 5,
    "start_time": "2022-09-26T20:05:23.082Z"
   },
   {
    "duration": 37,
    "start_time": "2022-09-26T20:05:23.089Z"
   },
   {
    "duration": 35,
    "start_time": "2022-09-26T20:05:23.127Z"
   },
   {
    "duration": 45,
    "start_time": "2022-09-26T20:05:23.164Z"
   },
   {
    "duration": 49,
    "start_time": "2022-09-26T20:05:23.210Z"
   },
   {
    "duration": 37,
    "start_time": "2022-09-26T20:05:23.261Z"
   },
   {
    "duration": 69,
    "start_time": "2022-09-26T20:05:23.300Z"
   },
   {
    "duration": 7,
    "start_time": "2022-09-26T20:05:23.371Z"
   },
   {
    "duration": 281,
    "start_time": "2022-09-26T20:05:23.380Z"
   },
   {
    "duration": 3404,
    "start_time": "2022-09-26T20:05:23.663Z"
   },
   {
    "duration": 5,
    "start_time": "2022-09-26T20:05:27.069Z"
   },
   {
    "duration": 26,
    "start_time": "2022-09-26T20:05:27.075Z"
   },
   {
    "duration": 19,
    "start_time": "2022-09-26T20:05:27.105Z"
   },
   {
    "duration": 63,
    "start_time": "2022-09-26T20:05:27.126Z"
   },
   {
    "duration": 12,
    "start_time": "2022-09-26T20:05:27.191Z"
   },
   {
    "duration": 10,
    "start_time": "2022-09-26T20:05:27.205Z"
   },
   {
    "duration": 43,
    "start_time": "2022-09-26T20:05:27.217Z"
   },
   {
    "duration": 7,
    "start_time": "2022-09-26T20:05:27.262Z"
   },
   {
    "duration": 216,
    "start_time": "2022-09-26T20:05:27.270Z"
   },
   {
    "duration": 2359,
    "start_time": "2022-09-26T20:05:27.488Z"
   },
   {
    "duration": 5,
    "start_time": "2022-09-26T20:05:29.849Z"
   },
   {
    "duration": 39,
    "start_time": "2022-09-26T20:05:29.856Z"
   },
   {
    "duration": 18,
    "start_time": "2022-09-26T20:05:29.897Z"
   },
   {
    "duration": 25,
    "start_time": "2022-09-26T20:05:29.917Z"
   },
   {
    "duration": 329,
    "start_time": "2022-09-26T20:05:29.944Z"
   },
   {
    "duration": 9,
    "start_time": "2022-09-26T20:05:30.275Z"
   },
   {
    "duration": 33,
    "start_time": "2022-09-26T20:05:30.285Z"
   },
   {
    "duration": 65,
    "start_time": "2022-09-26T20:05:30.319Z"
   },
   {
    "duration": 45,
    "start_time": "2022-09-26T20:05:30.386Z"
   },
   {
    "duration": 34,
    "start_time": "2022-09-26T20:05:30.434Z"
   },
   {
    "duration": 37,
    "start_time": "2022-09-26T20:05:30.469Z"
   },
   {
    "duration": 25,
    "start_time": "2022-09-26T20:05:30.508Z"
   },
   {
    "duration": 21,
    "start_time": "2022-09-26T20:05:30.536Z"
   },
   {
    "duration": 292,
    "start_time": "2022-09-26T20:05:30.559Z"
   },
   {
    "duration": 10,
    "start_time": "2022-09-26T20:05:30.853Z"
   },
   {
    "duration": 127,
    "start_time": "2022-09-26T20:05:30.864Z"
   },
   {
    "duration": 32,
    "start_time": "2022-09-26T20:05:30.993Z"
   },
   {
    "duration": 42,
    "start_time": "2022-09-26T20:05:31.027Z"
   },
   {
    "duration": 214,
    "start_time": "2022-09-26T20:05:31.071Z"
   },
   {
    "duration": 3,
    "start_time": "2022-09-26T20:05:31.287Z"
   },
   {
    "duration": 75,
    "start_time": "2022-09-26T20:05:31.292Z"
   },
   {
    "duration": 13,
    "start_time": "2022-09-26T20:05:31.369Z"
   },
   {
    "duration": 84,
    "start_time": "2022-09-26T20:05:31.383Z"
   },
   {
    "duration": 45,
    "start_time": "2022-09-26T20:05:31.469Z"
   },
   {
    "duration": 516,
    "start_time": "2022-09-26T20:05:31.516Z"
   },
   {
    "duration": 309,
    "start_time": "2022-09-26T20:05:32.034Z"
   },
   {
    "duration": 323,
    "start_time": "2022-09-26T20:05:32.345Z"
   },
   {
    "duration": 312,
    "start_time": "2022-09-26T20:05:32.670Z"
   },
   {
    "duration": 498,
    "start_time": "2022-09-26T20:05:32.984Z"
   },
   {
    "duration": 3,
    "start_time": "2022-09-26T20:05:33.484Z"
   },
   {
    "duration": 4997,
    "start_time": "2022-09-26T20:05:33.489Z"
   },
   {
    "duration": 9,
    "start_time": "2022-09-26T20:05:38.487Z"
   },
   {
    "duration": 35,
    "start_time": "2022-09-26T20:05:38.498Z"
   },
   {
    "duration": 47,
    "start_time": "2022-09-26T20:05:38.535Z"
   },
   {
    "duration": 44,
    "start_time": "2022-09-26T20:05:38.583Z"
   },
   {
    "duration": 81,
    "start_time": "2022-09-26T20:05:38.630Z"
   },
   {
    "duration": 0,
    "start_time": "2022-09-26T20:05:38.713Z"
   },
   {
    "duration": 0,
    "start_time": "2022-09-26T20:05:38.714Z"
   },
   {
    "duration": 0,
    "start_time": "2022-09-26T20:05:38.716Z"
   },
   {
    "duration": 0,
    "start_time": "2022-09-26T20:05:38.717Z"
   },
   {
    "duration": 0,
    "start_time": "2022-09-26T20:05:38.719Z"
   },
   {
    "duration": 0,
    "start_time": "2022-09-26T20:05:38.721Z"
   },
   {
    "duration": 0,
    "start_time": "2022-09-26T20:05:38.722Z"
   },
   {
    "duration": 0,
    "start_time": "2022-09-26T20:05:38.724Z"
   },
   {
    "duration": 0,
    "start_time": "2022-09-26T20:05:38.726Z"
   },
   {
    "duration": 0,
    "start_time": "2022-09-26T20:05:38.727Z"
   },
   {
    "duration": 0,
    "start_time": "2022-09-26T20:05:38.728Z"
   },
   {
    "duration": 0,
    "start_time": "2022-09-26T20:05:38.732Z"
   },
   {
    "duration": 0,
    "start_time": "2022-09-26T20:05:38.734Z"
   },
   {
    "duration": 7,
    "start_time": "2022-09-26T20:06:43.948Z"
   },
   {
    "duration": 2,
    "start_time": "2022-09-26T20:06:51.504Z"
   },
   {
    "duration": 3,
    "start_time": "2022-09-26T20:06:51.799Z"
   },
   {
    "duration": 266,
    "start_time": "2022-09-26T20:06:57.761Z"
   },
   {
    "duration": 2,
    "start_time": "2022-09-26T20:06:59.464Z"
   },
   {
    "duration": 3,
    "start_time": "2022-09-26T20:07:03.250Z"
   },
   {
    "duration": 867923,
    "start_time": "2022-09-26T20:07:04.566Z"
   },
   {
    "duration": 3,
    "start_time": "2022-09-26T20:21:32.491Z"
   },
   {
    "duration": 9,
    "start_time": "2022-09-26T20:21:32.496Z"
   },
   {
    "duration": 14464746,
    "start_time": "2022-09-26T20:21:32.508Z"
   },
   {
    "duration": 123,
    "start_time": "2022-09-27T00:22:37.255Z"
   },
   {
    "duration": 0,
    "start_time": "2022-09-27T00:22:37.380Z"
   },
   {
    "duration": 0,
    "start_time": "2022-09-27T00:22:37.382Z"
   },
   {
    "duration": 0,
    "start_time": "2022-09-27T00:22:37.383Z"
   },
   {
    "duration": 6,
    "start_time": "2022-09-27T03:42:35.491Z"
   },
   {
    "duration": 10,
    "start_time": "2022-09-27T03:42:52.822Z"
   },
   {
    "duration": 32,
    "start_time": "2022-09-27T03:43:15.734Z"
   },
   {
    "duration": 4,
    "start_time": "2022-09-27T03:44:35.603Z"
   },
   {
    "duration": 9,
    "start_time": "2022-09-27T03:44:45.489Z"
   },
   {
    "duration": 71,
    "start_time": "2022-09-27T03:46:36.651Z"
   },
   {
    "duration": 2,
    "start_time": "2022-09-27T03:47:27.719Z"
   },
   {
    "duration": 582,
    "start_time": "2022-09-27T03:49:18.546Z"
   },
   {
    "duration": 7,
    "start_time": "2022-09-27T03:49:33.779Z"
   },
   {
    "duration": 10,
    "start_time": "2022-09-27T03:49:48.739Z"
   },
   {
    "duration": 9,
    "start_time": "2022-09-27T03:49:52.891Z"
   },
   {
    "duration": 5,
    "start_time": "2022-09-27T03:49:58.160Z"
   },
   {
    "duration": 5,
    "start_time": "2022-09-27T03:50:12.839Z"
   },
   {
    "duration": 8,
    "start_time": "2022-09-27T03:50:42.945Z"
   },
   {
    "duration": 12,
    "start_time": "2022-09-27T03:53:17.283Z"
   },
   {
    "duration": 7322,
    "start_time": "2022-09-27T03:53:47.499Z"
   },
   {
    "duration": 417,
    "start_time": "2022-09-27T03:53:56.437Z"
   },
   {
    "duration": 199,
    "start_time": "2022-09-27T03:54:09.506Z"
   },
   {
    "duration": 311,
    "start_time": "2022-09-27T03:54:56.762Z"
   },
   {
    "duration": 293,
    "start_time": "2022-09-27T03:55:11.816Z"
   },
   {
    "duration": 2,
    "start_time": "2022-09-27T03:55:36.331Z"
   },
   {
    "duration": 3,
    "start_time": "2022-09-27T03:55:59.984Z"
   },
   {
    "duration": 2505,
    "start_time": "2022-09-27T07:34:47.019Z"
   },
   {
    "duration": 212,
    "start_time": "2022-09-27T07:34:49.527Z"
   },
   {
    "duration": 6,
    "start_time": "2022-09-27T07:34:49.740Z"
   },
   {
    "duration": 26,
    "start_time": "2022-09-27T07:34:49.748Z"
   },
   {
    "duration": 34,
    "start_time": "2022-09-27T07:34:49.775Z"
   },
   {
    "duration": 30,
    "start_time": "2022-09-27T07:34:49.811Z"
   },
   {
    "duration": 9,
    "start_time": "2022-09-27T07:34:49.843Z"
   },
   {
    "duration": 26,
    "start_time": "2022-09-27T07:34:49.853Z"
   },
   {
    "duration": 15,
    "start_time": "2022-09-27T07:34:49.881Z"
   },
   {
    "duration": 28,
    "start_time": "2022-09-27T07:34:49.898Z"
   },
   {
    "duration": 25,
    "start_time": "2022-09-27T07:34:49.927Z"
   },
   {
    "duration": 22,
    "start_time": "2022-09-27T07:34:50.143Z"
   },
   {
    "duration": 488,
    "start_time": "2022-09-27T07:34:50.488Z"
   },
   {
    "duration": 619,
    "start_time": "2022-09-27T07:34:50.978Z"
   },
   {
    "duration": 4,
    "start_time": "2022-09-27T07:34:51.599Z"
   },
   {
    "duration": 17,
    "start_time": "2022-09-27T07:34:51.971Z"
   },
   {
    "duration": 16,
    "start_time": "2022-09-27T07:34:52.117Z"
   },
   {
    "duration": 13,
    "start_time": "2022-09-27T07:34:52.613Z"
   },
   {
    "duration": 14,
    "start_time": "2022-09-27T07:34:52.780Z"
   },
   {
    "duration": 12,
    "start_time": "2022-09-27T07:34:52.924Z"
   },
   {
    "duration": 51,
    "start_time": "2022-09-27T07:34:53.254Z"
   },
   {
    "duration": 7,
    "start_time": "2022-09-27T07:34:53.556Z"
   },
   {
    "duration": 217,
    "start_time": "2022-09-27T07:34:53.725Z"
   },
   {
    "duration": 3163,
    "start_time": "2022-09-27T07:34:54.199Z"
   },
   {
    "duration": 13,
    "start_time": "2022-09-27T07:34:57.365Z"
   },
   {
    "duration": 14,
    "start_time": "2022-09-27T07:34:57.379Z"
   },
   {
    "duration": 11,
    "start_time": "2022-09-27T07:34:57.395Z"
   },
   {
    "duration": 32,
    "start_time": "2022-09-27T07:34:57.407Z"
   },
   {
    "duration": 10,
    "start_time": "2022-09-27T07:34:57.441Z"
   },
   {
    "duration": 11,
    "start_time": "2022-09-27T07:34:57.477Z"
   },
   {
    "duration": 43,
    "start_time": "2022-09-27T07:34:57.490Z"
   },
   {
    "duration": 24,
    "start_time": "2022-09-27T07:34:57.535Z"
   },
   {
    "duration": 197,
    "start_time": "2022-09-27T07:34:57.562Z"
   },
   {
    "duration": 1989,
    "start_time": "2022-09-27T07:34:57.761Z"
   },
   {
    "duration": 6,
    "start_time": "2022-09-27T07:34:59.752Z"
   },
   {
    "duration": 20,
    "start_time": "2022-09-27T07:34:59.760Z"
   },
   {
    "duration": 12,
    "start_time": "2022-09-27T07:34:59.782Z"
   },
   {
    "duration": 21,
    "start_time": "2022-09-27T07:34:59.796Z"
   },
   {
    "duration": 299,
    "start_time": "2022-09-27T07:34:59.818Z"
   },
   {
    "duration": 8,
    "start_time": "2022-09-27T07:35:00.119Z"
   },
   {
    "duration": 26,
    "start_time": "2022-09-27T07:35:00.129Z"
   },
   {
    "duration": 37,
    "start_time": "2022-09-27T07:35:00.157Z"
   },
   {
    "duration": 23,
    "start_time": "2022-09-27T07:35:00.195Z"
   },
   {
    "duration": 45,
    "start_time": "2022-09-27T07:35:00.222Z"
   },
   {
    "duration": 20,
    "start_time": "2022-09-27T07:35:00.493Z"
   },
   {
    "duration": 18,
    "start_time": "2022-09-27T07:35:00.952Z"
   },
   {
    "duration": 15,
    "start_time": "2022-09-27T07:35:01.316Z"
   },
   {
    "duration": 273,
    "start_time": "2022-09-27T07:35:01.474Z"
   },
   {
    "duration": 9,
    "start_time": "2022-09-27T07:35:01.839Z"
   },
   {
    "duration": 63,
    "start_time": "2022-09-27T07:35:03.154Z"
   },
   {
    "duration": 11,
    "start_time": "2022-09-27T07:35:10.770Z"
   },
   {
    "duration": 11,
    "start_time": "2022-09-27T07:35:11.683Z"
   },
   {
    "duration": 164,
    "start_time": "2022-09-27T07:35:12.191Z"
   },
   {
    "duration": 5,
    "start_time": "2022-09-27T07:35:13.170Z"
   },
   {
    "duration": 3,
    "start_time": "2022-09-27T07:35:42.643Z"
   },
   {
    "duration": 44,
    "start_time": "2022-09-27T07:35:44.075Z"
   },
   {
    "duration": 9,
    "start_time": "2022-09-27T07:35:45.580Z"
   },
   {
    "duration": 43,
    "start_time": "2022-09-27T07:36:00.802Z"
   },
   {
    "duration": 38,
    "start_time": "2022-09-27T07:36:01.261Z"
   },
   {
    "duration": 404,
    "start_time": "2022-09-27T07:36:03.976Z"
   },
   {
    "duration": 294,
    "start_time": "2022-09-27T07:36:05.030Z"
   },
   {
    "duration": 275,
    "start_time": "2022-09-27T07:36:05.981Z"
   },
   {
    "duration": 269,
    "start_time": "2022-09-27T07:36:07.274Z"
   },
   {
    "duration": 414,
    "start_time": "2022-09-27T07:36:07.787Z"
   },
   {
    "duration": 3,
    "start_time": "2022-09-27T07:36:09.227Z"
   },
   {
    "duration": 4650,
    "start_time": "2022-09-27T07:36:13.708Z"
   },
   {
    "duration": 24,
    "start_time": "2022-09-27T07:36:35.482Z"
   },
   {
    "duration": 7,
    "start_time": "2022-09-27T07:37:25.666Z"
   },
   {
    "duration": 32,
    "start_time": "2022-09-27T07:50:56.168Z"
   },
   {
    "duration": 54,
    "start_time": "2022-09-28T19:24:04.197Z"
   },
   {
    "duration": 3035,
    "start_time": "2022-09-28T19:24:12.156Z"
   },
   {
    "duration": 494,
    "start_time": "2022-09-28T19:24:15.193Z"
   },
   {
    "duration": 6,
    "start_time": "2022-09-28T19:24:15.688Z"
   },
   {
    "duration": 23,
    "start_time": "2022-09-28T19:24:15.696Z"
   },
   {
    "duration": 12,
    "start_time": "2022-09-28T19:24:15.721Z"
   },
   {
    "duration": 20,
    "start_time": "2022-09-28T19:24:15.735Z"
   },
   {
    "duration": 11,
    "start_time": "2022-09-28T19:24:16.663Z"
   },
   {
    "duration": 10,
    "start_time": "2022-09-28T19:24:16.940Z"
   },
   {
    "duration": 7,
    "start_time": "2022-09-28T19:24:17.174Z"
   },
   {
    "duration": 5,
    "start_time": "2022-09-28T19:24:17.371Z"
   },
   {
    "duration": 6,
    "start_time": "2022-09-28T19:24:17.711Z"
   },
   {
    "duration": 24,
    "start_time": "2022-09-28T19:24:18.076Z"
   },
   {
    "duration": 656,
    "start_time": "2022-09-28T19:24:18.436Z"
   },
   {
    "duration": 560,
    "start_time": "2022-09-28T19:24:19.094Z"
   },
   {
    "duration": 6,
    "start_time": "2022-09-28T19:24:19.655Z"
   },
   {
    "duration": 16,
    "start_time": "2022-09-28T19:24:19.755Z"
   },
   {
    "duration": 15,
    "start_time": "2022-09-28T19:24:19.900Z"
   },
   {
    "duration": 13,
    "start_time": "2022-09-28T19:24:20.390Z"
   },
   {
    "duration": 16,
    "start_time": "2022-09-28T19:24:20.437Z"
   },
   {
    "duration": 10,
    "start_time": "2022-09-28T19:24:20.484Z"
   },
   {
    "duration": 56,
    "start_time": "2022-09-28T19:24:20.560Z"
   },
   {
    "duration": 7,
    "start_time": "2022-09-28T19:24:20.640Z"
   },
   {
    "duration": 231,
    "start_time": "2022-09-28T19:24:20.705Z"
   },
   {
    "duration": 3289,
    "start_time": "2022-09-28T19:24:20.938Z"
   },
   {
    "duration": 5,
    "start_time": "2022-09-28T19:24:24.230Z"
   },
   {
    "duration": 17,
    "start_time": "2022-09-28T19:24:24.237Z"
   },
   {
    "duration": 12,
    "start_time": "2022-09-28T19:24:24.257Z"
   },
   {
    "duration": 57,
    "start_time": "2022-09-28T19:24:24.271Z"
   },
   {
    "duration": 12,
    "start_time": "2022-09-28T19:24:24.330Z"
   },
   {
    "duration": 12,
    "start_time": "2022-09-28T19:24:24.343Z"
   },
   {
    "duration": 35,
    "start_time": "2022-09-28T19:24:24.356Z"
   },
   {
    "duration": 30,
    "start_time": "2022-09-28T19:24:24.392Z"
   },
   {
    "duration": 224,
    "start_time": "2022-09-28T19:24:24.424Z"
   },
   {
    "duration": 2171,
    "start_time": "2022-09-28T19:24:24.650Z"
   },
   {
    "duration": 4,
    "start_time": "2022-09-28T19:24:26.823Z"
   },
   {
    "duration": 14,
    "start_time": "2022-09-28T19:24:26.830Z"
   },
   {
    "duration": 13,
    "start_time": "2022-09-28T19:24:26.846Z"
   },
   {
    "duration": 18,
    "start_time": "2022-09-28T19:24:26.860Z"
   },
   {
    "duration": 325,
    "start_time": "2022-09-28T19:24:26.880Z"
   },
   {
    "duration": 15,
    "start_time": "2022-09-28T19:24:27.207Z"
   },
   {
    "duration": 7,
    "start_time": "2022-09-28T19:24:27.224Z"
   },
   {
    "duration": 19,
    "start_time": "2022-09-28T19:24:27.233Z"
   },
   {
    "duration": 21,
    "start_time": "2022-09-28T19:24:27.254Z"
   },
   {
    "duration": 14,
    "start_time": "2022-09-28T19:24:27.277Z"
   },
   {
    "duration": 17,
    "start_time": "2022-09-28T19:24:27.388Z"
   },
   {
    "duration": 15,
    "start_time": "2022-09-28T19:24:27.784Z"
   },
   {
    "duration": 12,
    "start_time": "2022-09-28T19:24:28.165Z"
   },
   {
    "duration": 278,
    "start_time": "2022-09-28T19:24:28.360Z"
   },
   {
    "duration": 10,
    "start_time": "2022-09-28T19:24:28.743Z"
   },
   {
    "duration": 63,
    "start_time": "2022-09-28T19:24:29.569Z"
   },
   {
    "duration": 13,
    "start_time": "2022-09-28T19:24:35.624Z"
   },
   {
    "duration": 10,
    "start_time": "2022-09-28T19:24:36.664Z"
   },
   {
    "duration": 250,
    "start_time": "2022-09-28T19:24:37.869Z"
   },
   {
    "duration": 54,
    "start_time": "2022-09-28T19:24:50.801Z"
   },
   {
    "duration": 925,
    "start_time": "2022-09-28T19:25:45.251Z"
   },
   {
    "duration": 1095,
    "start_time": "2022-09-28T19:26:14.157Z"
   },
   {
    "duration": 0,
    "start_time": "2022-09-28T19:26:15.254Z"
   },
   {
    "duration": 5,
    "start_time": "2022-09-28T19:26:22.755Z"
   },
   {
    "duration": 213,
    "start_time": "2022-09-28T19:26:23.005Z"
   },
   {
    "duration": 13,
    "start_time": "2022-09-28T19:26:32.061Z"
   },
   {
    "duration": 772,
    "start_time": "2022-09-28T19:26:34.271Z"
   },
   {
    "duration": 965,
    "start_time": "2022-09-28T19:27:40.230Z"
   },
   {
    "duration": 4,
    "start_time": "2022-09-28T19:30:21.106Z"
   },
   {
    "duration": 217,
    "start_time": "2022-09-28T19:30:21.664Z"
   },
   {
    "duration": 6,
    "start_time": "2022-09-28T19:30:23.824Z"
   },
   {
    "duration": 52,
    "start_time": "2022-09-28T19:30:30.935Z"
   },
   {
    "duration": 287,
    "start_time": "2022-09-28T19:30:59.969Z"
   },
   {
    "duration": 13,
    "start_time": "2022-09-28T19:31:19.732Z"
   },
   {
    "duration": 5,
    "start_time": "2022-09-28T19:31:27.326Z"
   },
   {
    "duration": 13,
    "start_time": "2022-09-28T19:31:33.209Z"
   },
   {
    "duration": 11,
    "start_time": "2022-09-28T19:32:00.140Z"
   },
   {
    "duration": 14,
    "start_time": "2022-09-28T19:32:00.855Z"
   },
   {
    "duration": 5,
    "start_time": "2022-09-28T19:33:53.109Z"
   },
   {
    "duration": 17,
    "start_time": "2022-09-28T19:33:55.117Z"
   },
   {
    "duration": 5,
    "start_time": "2022-09-28T19:34:14.967Z"
   },
   {
    "duration": 16,
    "start_time": "2022-09-28T19:34:16.527Z"
   },
   {
    "duration": 5,
    "start_time": "2022-09-28T19:35:47.131Z"
   },
   {
    "duration": 20,
    "start_time": "2022-09-28T19:35:48.493Z"
   },
   {
    "duration": 222,
    "start_time": "2022-09-28T19:38:12.785Z"
   },
   {
    "duration": 6,
    "start_time": "2022-09-28T19:38:15.311Z"
   },
   {
    "duration": 14,
    "start_time": "2022-09-28T19:38:21.676Z"
   },
   {
    "duration": 13,
    "start_time": "2022-09-28T19:38:31.761Z"
   },
   {
    "duration": 17,
    "start_time": "2022-09-28T19:38:33.595Z"
   },
   {
    "duration": 44,
    "start_time": "2022-09-28T19:40:16.176Z"
   },
   {
    "duration": 772,
    "start_time": "2022-09-28T19:42:36.298Z"
   },
   {
    "duration": 4,
    "start_time": "2022-09-28T19:42:41.628Z"
   },
   {
    "duration": 238,
    "start_time": "2022-09-28T19:42:41.966Z"
   },
   {
    "duration": 13,
    "start_time": "2022-09-28T19:42:50.884Z"
   },
   {
    "duration": 1046,
    "start_time": "2022-09-28T19:42:52.930Z"
   },
   {
    "duration": 7,
    "start_time": "2022-09-28T19:43:03.305Z"
   },
   {
    "duration": 17,
    "start_time": "2022-09-28T19:43:08.876Z"
   },
   {
    "duration": 12,
    "start_time": "2022-09-28T19:43:11.220Z"
   },
   {
    "duration": 17,
    "start_time": "2022-09-28T19:43:16.312Z"
   },
   {
    "duration": 1513,
    "start_time": "2022-09-28T19:44:49.136Z"
   },
   {
    "duration": 19,
    "start_time": "2022-09-28T19:45:28.784Z"
   },
   {
    "duration": 212,
    "start_time": "2022-09-28T19:45:35.018Z"
   },
   {
    "duration": 5,
    "start_time": "2022-09-28T19:45:35.789Z"
   },
   {
    "duration": 12,
    "start_time": "2022-09-28T19:45:39.313Z"
   },
   {
    "duration": 12,
    "start_time": "2022-09-28T19:45:40.933Z"
   },
   {
    "duration": 18,
    "start_time": "2022-09-28T19:45:43.839Z"
   },
   {
    "duration": 1039,
    "start_time": "2022-09-28T19:45:46.823Z"
   },
   {
    "duration": 19,
    "start_time": "2022-09-28T19:46:29.359Z"
   },
   {
    "duration": 14,
    "start_time": "2022-09-28T19:46:38.754Z"
   },
   {
    "duration": 213,
    "start_time": "2022-09-28T19:47:41.505Z"
   },
   {
    "duration": 7,
    "start_time": "2022-09-28T19:47:42.135Z"
   },
   {
    "duration": 12,
    "start_time": "2022-09-28T19:47:48.721Z"
   },
   {
    "duration": 11,
    "start_time": "2022-09-28T19:47:49.937Z"
   },
   {
    "duration": 15,
    "start_time": "2022-09-28T19:47:53.930Z"
   },
   {
    "duration": 16,
    "start_time": "2022-09-28T19:49:36.920Z"
   },
   {
    "duration": 1091,
    "start_time": "2022-09-28T19:50:05.320Z"
   },
   {
    "duration": 19,
    "start_time": "2022-09-28T19:50:11.852Z"
   },
   {
    "duration": 215,
    "start_time": "2022-09-28T19:50:21.343Z"
   },
   {
    "duration": 7,
    "start_time": "2022-09-28T19:50:22.220Z"
   },
   {
    "duration": 12,
    "start_time": "2022-09-28T19:50:26.755Z"
   },
   {
    "duration": 11,
    "start_time": "2022-09-28T19:50:27.586Z"
   },
   {
    "duration": 16,
    "start_time": "2022-09-28T19:50:30.351Z"
   },
   {
    "duration": 24,
    "start_time": "2022-09-28T19:50:43.827Z"
   },
   {
    "duration": 18,
    "start_time": "2022-09-28T19:50:46.404Z"
   },
   {
    "duration": 5,
    "start_time": "2022-09-28T19:51:03.639Z"
   },
   {
    "duration": 16,
    "start_time": "2022-09-28T19:51:09.657Z"
   },
   {
    "duration": 1236,
    "start_time": "2022-09-28T19:52:13.455Z"
   },
   {
    "duration": 17,
    "start_time": "2022-09-28T19:52:31.680Z"
   },
   {
    "duration": 5,
    "start_time": "2022-09-28T19:52:44.295Z"
   },
   {
    "duration": 208,
    "start_time": "2022-09-28T19:52:44.579Z"
   },
   {
    "duration": 6,
    "start_time": "2022-09-28T19:52:46.040Z"
   },
   {
    "duration": 13,
    "start_time": "2022-09-28T19:52:49.278Z"
   },
   {
    "duration": 12,
    "start_time": "2022-09-28T19:52:50.163Z"
   },
   {
    "duration": 17,
    "start_time": "2022-09-28T19:52:53.068Z"
   },
   {
    "duration": 467,
    "start_time": "2022-09-28T19:52:57.069Z"
   },
   {
    "duration": 21,
    "start_time": "2022-09-28T19:53:31.324Z"
   },
   {
    "duration": 216,
    "start_time": "2022-09-28T19:53:34.904Z"
   },
   {
    "duration": 5,
    "start_time": "2022-09-28T19:53:35.122Z"
   },
   {
    "duration": 13,
    "start_time": "2022-09-28T19:53:46.106Z"
   },
   {
    "duration": 11,
    "start_time": "2022-09-28T19:53:47.008Z"
   },
   {
    "duration": 17,
    "start_time": "2022-09-28T19:53:52.576Z"
   },
   {
    "duration": 301,
    "start_time": "2022-09-28T19:53:56.251Z"
   },
   {
    "duration": 7,
    "start_time": "2022-09-28T19:54:23.724Z"
   },
   {
    "duration": 23,
    "start_time": "2022-09-28T19:54:39.039Z"
   },
   {
    "duration": 228,
    "start_time": "2022-09-28T19:54:43.819Z"
   },
   {
    "duration": 5,
    "start_time": "2022-09-28T19:54:44.175Z"
   },
   {
    "duration": 17,
    "start_time": "2022-09-28T19:54:48.851Z"
   },
   {
    "duration": 12,
    "start_time": "2022-09-28T19:54:49.659Z"
   },
   {
    "duration": 16,
    "start_time": "2022-09-28T19:54:51.224Z"
   },
   {
    "duration": 308,
    "start_time": "2022-09-28T19:54:53.096Z"
   },
   {
    "duration": 17,
    "start_time": "2022-09-28T19:55:21.456Z"
   },
   {
    "duration": 213,
    "start_time": "2022-09-28T19:55:26.382Z"
   },
   {
    "duration": 5,
    "start_time": "2022-09-28T19:55:26.852Z"
   },
   {
    "duration": 13,
    "start_time": "2022-09-28T19:55:37.549Z"
   },
   {
    "duration": 13,
    "start_time": "2022-09-28T19:55:38.086Z"
   },
   {
    "duration": 16,
    "start_time": "2022-09-28T19:55:39.498Z"
   },
   {
    "duration": 303,
    "start_time": "2022-09-28T19:55:55.174Z"
   },
   {
    "duration": 4,
    "start_time": "2022-09-28T19:56:21.160Z"
   },
   {
    "duration": 44,
    "start_time": "2022-09-28T19:56:24.806Z"
   },
   {
    "duration": 9,
    "start_time": "2022-09-28T19:56:28.682Z"
   },
   {
    "duration": 46,
    "start_time": "2022-09-28T19:56:35.446Z"
   },
   {
    "duration": 460,
    "start_time": "2022-09-28T19:57:41.284Z"
   },
   {
    "duration": 282,
    "start_time": "2022-09-28T19:58:10.588Z"
   },
   {
    "duration": 312,
    "start_time": "2022-09-28T19:58:41.235Z"
   },
   {
    "duration": 307,
    "start_time": "2022-09-28T19:59:02.967Z"
   },
   {
    "duration": 445,
    "start_time": "2022-09-28T19:59:12.996Z"
   },
   {
    "duration": 296,
    "start_time": "2022-09-28T19:59:28.618Z"
   },
   {
    "duration": 299,
    "start_time": "2022-09-28T19:59:35.598Z"
   },
   {
    "duration": 3,
    "start_time": "2022-09-28T19:59:40.731Z"
   },
   {
    "duration": 5280,
    "start_time": "2022-09-28T19:59:41.977Z"
   },
   {
    "duration": 37,
    "start_time": "2022-09-28T20:00:23.590Z"
   },
   {
    "duration": 9,
    "start_time": "2022-09-28T20:01:34.737Z"
   },
   {
    "duration": 14,
    "start_time": "2022-09-28T20:01:37.414Z"
   },
   {
    "duration": 23,
    "start_time": "2022-09-28T20:01:43.544Z"
   },
   {
    "duration": 16,
    "start_time": "2022-09-28T20:01:54.642Z"
   },
   {
    "duration": 37,
    "start_time": "2022-09-28T20:02:35.331Z"
   },
   {
    "duration": 4,
    "start_time": "2022-09-28T20:03:13.176Z"
   },
   {
    "duration": 16,
    "start_time": "2022-09-28T20:03:39.140Z"
   },
   {
    "duration": 13,
    "start_time": "2022-09-28T20:03:49.226Z"
   },
   {
    "duration": 14,
    "start_time": "2022-09-28T20:03:55.534Z"
   },
   {
    "duration": 42,
    "start_time": "2022-09-28T20:03:59.922Z"
   },
   {
    "duration": 8,
    "start_time": "2022-09-28T20:04:06.946Z"
   },
   {
    "duration": 769,
    "start_time": "2022-09-28T20:04:11.852Z"
   },
   {
    "duration": 9,
    "start_time": "2022-09-28T20:04:28.210Z"
   },
   {
    "duration": 53,
    "start_time": "2022-09-29T03:35:18.492Z"
   },
   {
    "duration": 1608,
    "start_time": "2022-09-29T03:35:22.683Z"
   },
   {
    "duration": 474,
    "start_time": "2022-09-29T03:35:24.293Z"
   },
   {
    "duration": 6,
    "start_time": "2022-09-29T03:35:24.768Z"
   },
   {
    "duration": 12,
    "start_time": "2022-09-29T03:35:31.251Z"
   },
   {
    "duration": 13,
    "start_time": "2022-09-29T03:35:32.162Z"
   },
   {
    "duration": 1203,
    "start_time": "2022-09-29T03:35:33.572Z"
   },
   {
    "duration": 20,
    "start_time": "2022-09-29T03:36:01.976Z"
   },
   {
    "duration": 4,
    "start_time": "2022-09-29T03:36:07.095Z"
   },
   {
    "duration": 217,
    "start_time": "2022-09-29T03:36:07.298Z"
   },
   {
    "duration": 6,
    "start_time": "2022-09-29T03:36:07.735Z"
   },
   {
    "duration": 13,
    "start_time": "2022-09-29T03:36:12.578Z"
   },
   {
    "duration": 12,
    "start_time": "2022-09-29T03:36:13.052Z"
   },
   {
    "duration": 289,
    "start_time": "2022-09-29T03:36:13.690Z"
   },
   {
    "duration": 4,
    "start_time": "2022-09-29T03:39:21.652Z"
   },
   {
    "duration": 120,
    "start_time": "2022-09-29T03:39:22.308Z"
   },
   {
    "duration": 10,
    "start_time": "2022-09-29T03:39:23.679Z"
   },
   {
    "duration": 49,
    "start_time": "2022-09-29T03:39:24.671Z"
   },
   {
    "duration": 444,
    "start_time": "2022-09-29T03:39:35.568Z"
   },
   {
    "duration": 284,
    "start_time": "2022-09-29T03:39:44.251Z"
   },
   {
    "duration": 291,
    "start_time": "2022-09-29T03:39:47.789Z"
   },
   {
    "duration": 304,
    "start_time": "2022-09-29T03:39:52.687Z"
   },
   {
    "duration": 322,
    "start_time": "2022-09-29T03:39:53.851Z"
   },
   {
    "duration": 415,
    "start_time": "2022-09-29T03:39:57.059Z"
   },
   {
    "duration": 3,
    "start_time": "2022-09-29T03:40:02.579Z"
   },
   {
    "duration": 5348,
    "start_time": "2022-09-29T03:40:05.181Z"
   },
   {
    "duration": 10,
    "start_time": "2022-09-29T03:40:59.998Z"
   },
   {
    "duration": 14,
    "start_time": "2022-09-29T03:41:00.648Z"
   },
   {
    "duration": 23,
    "start_time": "2022-09-29T03:41:04.721Z"
   },
   {
    "duration": 24,
    "start_time": "2022-09-29T03:41:12.048Z"
   },
   {
    "duration": 36,
    "start_time": "2022-09-29T03:41:14.177Z"
   },
   {
    "duration": 8,
    "start_time": "2022-09-29T03:41:17.450Z"
   },
   {
    "duration": 3,
    "start_time": "2022-09-29T03:41:20.068Z"
   },
   {
    "duration": 3,
    "start_time": "2022-09-29T03:41:20.500Z"
   },
   {
    "duration": 757,
    "start_time": "2022-09-29T03:41:23.597Z"
   },
   {
    "duration": 2,
    "start_time": "2022-09-29T03:41:27.373Z"
   },
   {
    "duration": 3,
    "start_time": "2022-09-29T03:41:31.417Z"
   },
   {
    "duration": 929701,
    "start_time": "2022-09-29T03:41:56.641Z"
   },
   {
    "duration": 10,
    "start_time": "2022-09-29T03:57:26.344Z"
   },
   {
    "duration": 15,
    "start_time": "2022-09-29T03:57:26.355Z"
   },
   {
    "duration": 19114424,
    "start_time": "2022-09-29T03:57:26.372Z"
   },
   {
    "duration": 7,
    "start_time": "2022-09-29T09:16:00.798Z"
   },
   {
    "duration": 16,
    "start_time": "2022-09-29T12:04:31.773Z"
   },
   {
    "duration": 6,
    "start_time": "2022-09-29T12:05:13.007Z"
   },
   {
    "duration": 55,
    "start_time": "2022-09-29T12:05:40.770Z"
   },
   {
    "duration": 4,
    "start_time": "2022-09-29T12:05:57.350Z"
   },
   {
    "duration": 11,
    "start_time": "2022-09-29T12:06:17.014Z"
   },
   {
    "duration": 1643,
    "start_time": "2022-09-29T12:15:35.064Z"
   },
   {
    "duration": 227,
    "start_time": "2022-09-29T12:15:38.415Z"
   },
   {
    "duration": 7,
    "start_time": "2022-09-29T12:15:39.565Z"
   },
   {
    "duration": 15,
    "start_time": "2022-09-29T12:15:40.822Z"
   },
   {
    "duration": 14,
    "start_time": "2022-09-29T12:15:41.133Z"
   },
   {
    "duration": 31,
    "start_time": "2022-09-29T12:15:41.456Z"
   },
   {
    "duration": 13,
    "start_time": "2022-09-29T12:15:42.154Z"
   },
   {
    "duration": 11,
    "start_time": "2022-09-29T12:15:42.436Z"
   },
   {
    "duration": 7,
    "start_time": "2022-09-29T12:15:42.756Z"
   },
   {
    "duration": 7,
    "start_time": "2022-09-29T12:15:43.122Z"
   },
   {
    "duration": 7,
    "start_time": "2022-09-29T12:15:43.726Z"
   },
   {
    "duration": 26,
    "start_time": "2022-09-29T12:15:44.351Z"
   },
   {
    "duration": 551,
    "start_time": "2022-09-29T12:15:45.016Z"
   },
   {
    "duration": 683,
    "start_time": "2022-09-29T12:15:45.569Z"
   },
   {
    "duration": 4,
    "start_time": "2022-09-29T12:15:46.254Z"
   },
   {
    "duration": 18,
    "start_time": "2022-09-29T12:15:47.551Z"
   },
   {
    "duration": 24,
    "start_time": "2022-09-29T12:15:47.947Z"
   },
   {
    "duration": 16,
    "start_time": "2022-09-29T12:15:48.358Z"
   },
   {
    "duration": 17,
    "start_time": "2022-09-29T12:15:48.775Z"
   },
   {
    "duration": 11,
    "start_time": "2022-09-29T12:15:49.191Z"
   },
   {
    "duration": 53,
    "start_time": "2022-09-29T12:15:49.955Z"
   },
   {
    "duration": 10,
    "start_time": "2022-09-29T12:15:50.677Z"
   },
   {
    "duration": 231,
    "start_time": "2022-09-29T12:15:51.094Z"
   },
   {
    "duration": 3301,
    "start_time": "2022-09-29T12:15:52.540Z"
   },
   {
    "duration": 5,
    "start_time": "2022-09-29T12:15:55.843Z"
   },
   {
    "duration": 19,
    "start_time": "2022-09-29T12:15:55.849Z"
   },
   {
    "duration": 16,
    "start_time": "2022-09-29T12:15:55.870Z"
   },
   {
    "duration": 39,
    "start_time": "2022-09-29T12:15:55.888Z"
   },
   {
    "duration": 12,
    "start_time": "2022-09-29T12:15:56.205Z"
   },
   {
    "duration": 9,
    "start_time": "2022-09-29T12:15:56.807Z"
   },
   {
    "duration": 36,
    "start_time": "2022-09-29T12:15:57.236Z"
   },
   {
    "duration": 7,
    "start_time": "2022-09-29T12:15:58.016Z"
   },
   {
    "duration": 198,
    "start_time": "2022-09-29T12:15:58.400Z"
   },
   {
    "duration": 2281,
    "start_time": "2022-09-29T12:15:59.132Z"
   },
   {
    "duration": 5,
    "start_time": "2022-09-29T12:16:01.415Z"
   },
   {
    "duration": 37,
    "start_time": "2022-09-29T12:16:01.422Z"
   },
   {
    "duration": 38,
    "start_time": "2022-09-29T12:16:01.462Z"
   },
   {
    "duration": 71,
    "start_time": "2022-09-29T12:16:01.504Z"
   },
   {
    "duration": 309,
    "start_time": "2022-09-29T12:16:02.477Z"
   },
   {
    "duration": 9,
    "start_time": "2022-09-29T12:16:04.191Z"
   },
   {
    "duration": 5,
    "start_time": "2022-09-29T12:16:04.741Z"
   },
   {
    "duration": 8,
    "start_time": "2022-09-29T12:16:05.389Z"
   },
   {
    "duration": 12,
    "start_time": "2022-09-29T12:16:05.790Z"
   },
   {
    "duration": 13,
    "start_time": "2022-09-29T12:16:06.218Z"
   },
   {
    "duration": 18,
    "start_time": "2022-09-29T12:16:06.999Z"
   },
   {
    "duration": 15,
    "start_time": "2022-09-29T12:16:07.853Z"
   },
   {
    "duration": 12,
    "start_time": "2022-09-29T12:16:08.683Z"
   },
   {
    "duration": 294,
    "start_time": "2022-09-29T12:16:09.059Z"
   },
   {
    "duration": 9,
    "start_time": "2022-09-29T12:16:09.852Z"
   },
   {
    "duration": 84,
    "start_time": "2022-09-29T12:16:11.470Z"
   },
   {
    "duration": 13,
    "start_time": "2022-09-29T12:16:17.725Z"
   },
   {
    "duration": 13,
    "start_time": "2022-09-29T12:16:19.168Z"
   },
   {
    "duration": 449,
    "start_time": "2022-09-29T12:16:52.128Z"
   },
   {
    "duration": 4,
    "start_time": "2022-09-29T12:16:56.705Z"
   },
   {
    "duration": 48,
    "start_time": "2022-09-29T12:17:00.858Z"
   },
   {
    "duration": 11,
    "start_time": "2022-09-29T12:17:12.942Z"
   },
   {
    "duration": 45,
    "start_time": "2022-09-29T12:17:14.770Z"
   },
   {
    "duration": 429,
    "start_time": "2022-09-29T12:17:16.945Z"
   },
   {
    "duration": 278,
    "start_time": "2022-09-29T12:17:18.312Z"
   },
   {
    "duration": 301,
    "start_time": "2022-09-29T12:17:19.155Z"
   },
   {
    "duration": 294,
    "start_time": "2022-09-29T12:17:24.318Z"
   },
   {
    "duration": 295,
    "start_time": "2022-09-29T12:17:25.693Z"
   },
   {
    "duration": 480,
    "start_time": "2022-09-29T12:17:28.185Z"
   },
   {
    "duration": 3,
    "start_time": "2022-09-29T12:17:30.427Z"
   },
   {
    "duration": 5423,
    "start_time": "2022-09-29T12:17:31.310Z"
   },
   {
    "duration": 147,
    "start_time": "2022-09-29T12:19:32.059Z"
   },
   {
    "duration": 5168,
    "start_time": "2022-09-29T15:52:34.174Z"
   },
   {
    "duration": 27,
    "start_time": "2022-09-29T15:55:29.452Z"
   },
   {
    "duration": 9,
    "start_time": "2022-09-29T15:55:34.961Z"
   },
   {
    "duration": 2,
    "start_time": "2022-09-29T15:55:36.945Z"
   },
   {
    "duration": 2,
    "start_time": "2022-09-29T15:55:38.350Z"
   },
   {
    "duration": 771,
    "start_time": "2022-09-29T15:55:41.386Z"
   },
   {
    "duration": 35,
    "start_time": "2022-09-29T15:55:49.461Z"
   },
   {
    "duration": 2,
    "start_time": "2022-09-29T15:55:56.657Z"
   }
  ],
  "kernelspec": {
   "display_name": "Python 3 (ipykernel)",
   "language": "python",
   "name": "python3"
  },
  "language_info": {
   "codemirror_mode": {
    "name": "ipython",
    "version": 3
   },
   "file_extension": ".py",
   "mimetype": "text/x-python",
   "name": "python",
   "nbconvert_exporter": "python",
   "pygments_lexer": "ipython3",
   "version": "3.9.7"
  },
  "toc": {
   "base_numbering": 1,
   "nav_menu": {},
   "number_sections": true,
   "sideBar": true,
   "skip_h1_title": true,
   "title_cell": "Table of Contents",
   "title_sidebar": "Contents",
   "toc_cell": false,
   "toc_position": {},
   "toc_section_display": true,
   "toc_window_display": true
  }
 },
 "nbformat": 4,
 "nbformat_minor": 5
}
